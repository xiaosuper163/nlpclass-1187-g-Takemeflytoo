{
 "cells": [
  {
   "cell_type": "markdown",
   "metadata": {},
   "source": [
    "### use nltk.pos_tag() to assign word a tag"
   ]
  },
  {
   "cell_type": "code",
   "execution_count": 1,
   "metadata": {
    "collapsed": true
   },
   "outputs": [],
   "source": [
    "from nltk import *"
   ]
  },
  {
   "cell_type": "code",
   "execution_count": 12,
   "metadata": {
    "collapsed": true
   },
   "outputs": [],
   "source": [
    "# nltk used the following tag name\n",
    "# https://www.ling.upenn.edu/courses/Fall_2003/ling001/penn_treebank_pos.html\n",
    "cc = []\n",
    "cd = []\n",
    "dt = []\n",
    "ex = []\n",
    "inN = []\n",
    "jj = []\n",
    "jjr = []\n",
    "jjs = []\n",
    "md = []\n",
    "nn = []\n",
    "nns = []\n",
    "nnp = []\n",
    "pos = []\n",
    "prp = []\n",
    "possrp = []\n",
    "rb = []\n",
    "rbr = []\n",
    "to = []\n",
    "uh = []\n",
    "vb = []\n",
    "vbd = []\n",
    "vbg = []\n",
    "vbn = []\n",
    "vbp = []\n",
    "vbz = []\n",
    "wdt = []\n",
    "wp = []\n",
    "posswp = []\n",
    "wrb = []\n",
    "others = []"
   ]
  },
  {
   "cell_type": "code",
   "execution_count": 13,
   "metadata": {
    "collapsed": true
   },
   "outputs": [],
   "source": [
    "with open(\"allowed_words.txt\", \"r\") as words:\n",
    "    for word in words:\n",
    "        tag = pos_tag(word_tokenize(word))[0][1]\n",
    "        tagged_words = \"1 \" + \"\\t\" + pos_tag(word_tokenize(word))[0][1] + \"\\t\" + pos_tag(word_tokenize(word))[0][0] + \"\\n\"\n",
    "        if tag == \"CC\":\n",
    "            cc.append(tagged_words)\n",
    "        elif tag == \"CD\":\n",
    "            cd.append(tagged_words)\n",
    "        elif tag == \"DT\":\n",
    "            dt.append(tagged_words)\n",
    "        elif tag == \"EX\":\n",
    "            ex.append(tagged_words)\n",
    "        elif tag == \"IN\":\n",
    "            inN.append(tagged_words)\n",
    "        elif tag == \"JJ\":\n",
    "            jj.append(tagged_words)\n",
    "        elif tag == \"JJR\":\n",
    "            jjr.append(tagged_words)\n",
    "        elif tag == \"JJS\":\n",
    "            jjs.append(tagged_words)\n",
    "        elif tag == \"MD\":\n",
    "            md.append(tagged_words)\n",
    "        elif tag == \"NN\":\n",
    "            nn.append(tagged_words)\n",
    "        elif tag == \"NNS\":\n",
    "            nns.append(tagged_words)\n",
    "        elif tag == \"NNP\":\n",
    "            nnp.append(tagged_words)\n",
    "        elif tag == \"POS\":\n",
    "            pos.append(tagged_words)\n",
    "        elif tag == \"PRP\":\n",
    "            prp.append(tagged_words)\n",
    "        elif tag == \"PRP$\":\n",
    "            possrp.append(tagged_words)\n",
    "        elif tag == \"RB\":\n",
    "            rb.append(tagged_words)\n",
    "        elif tag == \"RBR\":\n",
    "            rbr.append(tagged_words)\n",
    "        elif tag == \"TO\":\n",
    "            to.append(tagged_words)\n",
    "        elif tag == \"UH\":\n",
    "            uh.append(tagged_words)\n",
    "        elif tag == \"VB\":\n",
    "            vb.append(tagged_words)\n",
    "        elif tag == \"VBD\":\n",
    "            vbd.append(tagged_words)\n",
    "        elif tag == \"VBG\":\n",
    "            vbg.append(tagged_words)\n",
    "        elif tag == \"VBN\":\n",
    "            vbn.append(tagged_words)\n",
    "        elif tag == \"VBP\":\n",
    "            vbp.append(tagged_words)\n",
    "        elif tag == \"VBZ\":\n",
    "            vbz.append(tagged_words)\n",
    "        elif tag == \"WDT\":\n",
    "            wdt.append(tagged_words)\n",
    "        elif tag == \"WP\":\n",
    "            wp.append(tagged_words)\n",
    "        elif tag == \"WP$\":\n",
    "            posswp.append(tagged_words)\n",
    "        elif tag == \"WRB\":\n",
    "            wrb.append(tagged_words)\n",
    "        else:\n",
    "            others.append(tagged_words)"
   ]
  }
 ],
 "metadata": {
  "kernelspec": {
   "display_name": "Python 3",
   "language": "python",
   "name": "python3"
  },
  "language_info": {
   "codemirror_mode": {
    "name": "ipython",
    "version": 3
   },
   "file_extension": ".py",
   "mimetype": "text/x-python",
   "name": "python",
   "nbconvert_exporter": "python",
   "pygments_lexer": "ipython3",
   "version": "3.6.2"
  }
 },
 "nbformat": 4,
 "nbformat_minor": 2
}
