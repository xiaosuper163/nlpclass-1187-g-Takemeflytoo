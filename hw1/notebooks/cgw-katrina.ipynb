{
 "cells": [
  {
   "cell_type": "markdown",
   "metadata": {},
   "source": [
    "# Homework: Competitive Grammar Writing"
   ]
  },
  {
   "cell_type": "code",
   "execution_count": 2,
   "metadata": {},
   "outputs": [],
   "source": [
    "from pcfg_parse_gen import Pcfg, PcfgGenerator, CkyParse\n",
    "import nltk\n",
    "\n",
    "def print_tree(tree_string):\n",
    "    tree_string = tree_string.strip()\n",
    "    tree = nltk.Tree.fromstring(tree_string)\n",
    "    tree.pretty_print()\n",
    "\n",
    "def draw_tree(tree_string):\n",
    "    tree_string = tree_string.strip()\n",
    "    tree = nltk.Tree.fromstring(tree_string)\n",
    "    tree.draw()"
   ]
  },
  {
   "cell_type": "markdown",
   "metadata": {},
   "source": [
    "## Generate S1.gr"
   ]
  },
  {
   "cell_type": "markdown",
   "metadata": {},
   "source": [
    "### Produce parsed trees from the Penn Treebank"
   ]
  },
  {
   "cell_type": "code",
   "execution_count": null,
   "metadata": {},
   "outputs": [],
   "source": [
    "import benepar\n",
    "\n",
    "bst_parser = benepar.Parser(\"benepar_en\")\n",
    "with open('example_sentences.txt') as fh:\n",
    "    sents = [line.strip() for line in fh]\n",
    "\n",
    "trees = [str(bst_parser.parse(sent)) for sent in sents]\n",
    "with open('example_sentences.trees', 'w') as f:\n",
    "    for tree in trees:\n",
    "        f.write(tree)\n",
    "        f.write('\\n')"
   ]
  },
  {
   "cell_type": "markdown",
   "metadata": {},
   "source": [
    "### Generate rules from parsed trees\n",
    "\n",
    "- Read parsed trees with BracketParseCorpusReader.\n",
    "- Convert each tree to its chomsky normal form.\n",
    "- Generate the productions (rules) that correspond to the non-terminal nodes of the tree.\n",
    "- Count and save number of occurrences for each rule as weight.\n",
    "- Count and save the number of occurrences for each type of sentences, e.g., S, SQ, SBARQ.\n",
    "- Write the rules and manually modify the rules that generate cycle erros.\n",
    "- Adjust weights for S and S2 accordingly."
   ]
  },
  {
   "cell_type": "code",
   "execution_count": 15,
   "metadata": {},
   "outputs": [],
   "source": [
    "from nltk.corpus.reader import BracketParseCorpusReader\n",
    "from nltk import treetransforms\n",
    "\n",
    "def train(training):\n",
    "    \"\"\"\n",
    "    Generate maximum likelihood estimates of\n",
    "    productions from a training file of s-expression trees.\n",
    "    \"\"\"\n",
    "    reader = BracketParseCorpusReader('.', training)\n",
    "    counts = {}\n",
    "    labels = {}\n",
    "    for tree in reader.parsed_sents():\n",
    "        tree.chomsky_normal_form(horzMarkov=2)\n",
    "        label = tree.label()\n",
    "        if label not in labels:\n",
    "            labels[label] = 0\n",
    "        labels[label] += 1\n",
    "        productions = tree.productions()\n",
    "        for production in productions:\n",
    "            if production not in counts:\n",
    "                counts[production] = 0\n",
    "            counts[production] += 1\n",
    "        # productions += tree.productions()\n",
    "\n",
    "    lhs_map = {}\n",
    "    for production in counts.keys():\n",
    "        if production.lhs() not in lhs_map:\n",
    "            lhs_map[production.lhs()] = []\n",
    "        lhs_map[production.lhs()].append(production)\n",
    "\n",
    "    keys = lhs_map.keys()\n",
    "    keys = sorted(keys)\n",
    "\n",
    "    weights = {}\n",
    "    for _, productions in lhs_map.items():\n",
    "        for production in productions:\n",
    "            weights[production] = counts[production]\n",
    "    return weights, labels, lhs_map\n",
    "\n",
    "def write_rules(lhs_map, labels, weights, allowed_words, grammar):\n",
    "    with open(allowed_words, 'r') as f:\n",
    "        lines = f.readlines()\n",
    "    allowed_words = set(map(lambda l: l.strip(), lines))\n",
    "    \n",
    "    # print(lhs_map)\n",
    "    keys = lhs_map.keys()\n",
    "    keys = sorted(keys)\n",
    "    with open(grammar, 'w') as f:\n",
    "        # f.write('99\\tTOP\\tS\\n')\n",
    "        f.write('10\\tTOP\\tS2\\n')\n",
    "        for label, count in labels.items():\n",
    "            f.write(\"%d\\tTOP\\t%s\\n\" % (count, label))\n",
    "        for key in keys:\n",
    "            productions = lhs_map[key]\n",
    "            # f.write(\"#\\n\")\n",
    "            for production in productions:\n",
    "                valid_mask = (len(str(production.lhs())) > 0)\n",
    "                rhs_symbols = [str(nt) for nt in production.rhs()]\n",
    "#                 print(rhs_symbols)\n",
    "                vocab_mask = (len(rhs_symbols) == 1) & (rhs_symbols[0] in allowed_words)\n",
    "                if valid_mask & (not vocab_mask):                    \n",
    "                    f.write(\"%d\\t%s\\t%s\\n\" % (weights[production],\n",
    "                                              production.lhs(),\n",
    "                                              ' '.join(rhs_symbols)))"
   ]
  },
  {
   "cell_type": "markdown",
   "metadata": {},
   "source": [
    "Train grammar from example_sentences.trees and/or devset.trees"
   ]
  },
  {
   "cell_type": "code",
   "execution_count": 16,
   "metadata": {},
   "outputs": [],
   "source": [
    "training = 'example_sentences.trees' # only for example_sentences.trees\n",
    "# training = 'training.trees'  # for example_sentences.trees and devset.trees\n",
    "grammar = 'S2_tuned.gr'\n",
    "allowed_words = 'allowed_words.txt'\n",
    "\n",
    "weights, labels, lhs_map = train(training)\n",
    "write_rules(lhs_map, labels, weights, allowed_words, grammar)"
   ]
  },
  {
   "cell_type": "markdown",
   "metadata": {},
   "source": [
    "### Parsing sentences with trained grammar and comparing with the default grammar"
   ]
  },
  {
   "cell_type": "code",
   "execution_count": 134,
   "metadata": {},
   "outputs": [
    {
     "name": "stderr",
     "output_type": "stream",
     "text": [
      "#reading grammar file: S1.gr\n",
      "#reading grammar file: S2.gr\n",
      "#reading grammar file: Vocab.gr\n",
      "#reading grammar file: S1_tunedS.gr\n",
      "#reading grammar file: S2_yabing.gr\n",
      "#reading grammar file: Vocab_yabing.gr\n"
     ]
    }
   ],
   "source": [
    "parse_gram = Pcfg([\"S1.gr\",\"S2.gr\", \"Vocab.gr\"])\n",
    "parse_gram_tuned = Pcfg([\"S1_tunedS.gr\", \"S2_yabing.gr\", 'Vocab_yabing.gr'])"
   ]
  },
  {
   "cell_type": "code",
   "execution_count": 136,
   "metadata": {},
   "outputs": [
    {
     "name": "stdout",
     "output_type": "stream",
     "text": [
      "(TOP (S1 (NP (Proper Arthur) ) (_VP (VP (VerbT is) (NP (Det the) (Nbar (Noun king) ))) (Punc .))) )\n",
      "-cross entropy: -3.7863679540999504\n",
      "             TOP              \n",
      "              |                \n",
      "              S1              \n",
      "   ___________|___             \n",
      "  |              _VP          \n",
      "  |            ___|________    \n",
      "  |           VP           |  \n",
      "  |       ____|___         |   \n",
      "  |      |        NP       |  \n",
      "  |      |     ___|___     |   \n",
      "  NP     |    |      Nbar  |  \n",
      "  |      |    |       |    |   \n",
      "Proper VerbT Det     Noun Punc\n",
      "  |      |    |       |    |   \n",
      "Arthur   is  the     king  .  \n",
      "\n"
     ]
    },
    {
     "name": "stderr",
     "output_type": "stream",
     "text": [
      "#parsing: ['Arthur', 'is', 'the', 'king', '.']\n",
      "#-cross entropy (bits/word): -3.78637\n"
     ]
    }
   ],
   "source": [
    "parser = CkyParse(parse_gram, beamsize=0.00001)\n",
    "parser_tuned = CkyParse(parse_gram_tuned, beamsize=0.00001)\n",
    "ce, trees = parser.parse_sentences([\"Arthur is the king .\"])\n",
    "print(\"-cross entropy: {}\".format(ce))\n",
    "for tree_string in trees:\n",
    "    print_tree(tree_string)"
   ]
  },
  {
   "cell_type": "code",
   "execution_count": 142,
   "metadata": {},
   "outputs": [
    {
     "name": "stdout",
     "output_type": "stream",
     "text": [
      "(TOP (S (NP (NNP Arthur) ) (S|<VP-END> (VP (VBZ is) (NP (DT a) (NP|<JJ-NN> (JJ good) (NN king)))) (END .))) )\n",
      "-cross entropy: -6.760388705012244\n",
      "           TOP                                   \n",
      "            |                                     \n",
      "            S                                    \n",
      "   _________|__________                           \n",
      "  |                S|<VP-END>                    \n",
      "  |              ______|_______________________   \n",
      "  |             VP                             | \n",
      "  |      _______|______                        |  \n",
      "  |     |              NP                      | \n",
      "  |     |    __________|__________             |  \n",
      "  NP    |   |                 NP|<JJ-NN>       | \n",
      "  |     |   |           __________|_______     |  \n",
      " NNP   VBZ  DT         JJ                 NN  END\n",
      "  |     |   |          |                  |    |  \n",
      "Arthur  is  a         good               king  . \n",
      "\n"
     ]
    },
    {
     "name": "stderr",
     "output_type": "stream",
     "text": [
      "#parsing: ['Arthur', 'is', 'a', 'good', 'king', '.']\n",
      "#-cross entropy (bits/word): -6.76039\n"
     ]
    }
   ],
   "source": [
    "ce, trees = parser_tuned.parse_sentences([\"Arthur is a good king .\"])\n",
    "print(\"-cross entropy: {}\".format(ce))\n",
    "for tree_string in trees:\n",
    "    print_tree(tree_string)"
   ]
  },
  {
   "cell_type": "code",
   "execution_count": 138,
   "metadata": {},
   "outputs": [
    {
     "name": "stdout",
     "output_type": "stream",
     "text": [
      "(TOP (S2 (_Misc (Misc either) (_Proper (Proper Arthur) (_Misc (Misc knows) (_Misc (Misc or) (_Proper (Proper Patsy) (_Misc (Misc does) (_Misc (Misc .) ))))))) ) )\n",
      "-cross entropy: -11.11731610342174\n",
      "        TOP                                                 \n",
      "         |                                                   \n",
      "         S2                                                 \n",
      "         |                                                   \n",
      "       _Misc                                                \n",
      "   ______|_____________                                      \n",
      "  |                 _Proper                                 \n",
      "  |       _____________|______                               \n",
      "  |      |                  _Misc                           \n",
      "  |      |       _____________|______                        \n",
      "  |      |      |                  _Misc                    \n",
      "  |      |      |       _____________|______                 \n",
      "  |      |      |      |                 _Proper            \n",
      "  |      |      |      |       _____________|______          \n",
      "  |      |      |      |      |                  _Misc      \n",
      "  |      |      |      |      |              ______|_____    \n",
      "  |      |      |      |      |             |          _Misc\n",
      "  |      |      |      |      |             |            |   \n",
      " Misc  Proper  Misc   Misc  Proper         Misc         Misc\n",
      "  |      |      |      |      |             |            |   \n",
      "either Arthur knows    or   Patsy          does          .  \n",
      "\n"
     ]
    },
    {
     "name": "stderr",
     "output_type": "stream",
     "text": [
      "#parsing: ['either', 'Arthur', 'knows', 'or', 'Patsy', 'does', '.']\n",
      "#-cross entropy (bits/word): -11.1173\n"
     ]
    }
   ],
   "source": [
    "ce, trees = parser.parse_sentences([\"either Arthur knows or Patsy does .\"])\n",
    "print(\"-cross entropy: {}\".format(ce))\n",
    "for tree_string in trees:\n",
    "    print_tree(tree_string)"
   ]
  },
  {
   "cell_type": "code",
   "execution_count": 139,
   "metadata": {},
   "outputs": [
    {
     "name": "stdout",
     "output_type": "stream",
     "text": [
      "(TOP (S (S (NP (DT either) (NNP Arthur)) (VP (VBZ knows) )) (S|<CC-S> (CC or) (S|<S-END> (S (NP (NNP Patsy) ) (VP (VBZ does) )) (END .)))) )\n",
      "-cross entropy: -9.553873810123278\n",
      "                        TOP                             \n",
      "                         |                               \n",
      "                         S                              \n",
      "              ___________|___________                    \n",
      "             |                    S|<CC-S>              \n",
      "             |            ___________|_________          \n",
      "             |           |                 S|<S-END>    \n",
      "             |           |            _________|______   \n",
      "             S           |           S                | \n",
      "         ____|______     |     ______|_________       |  \n",
      "        NP          VP   |    NP               VP     | \n",
      "   _____|____       |    |    |                |      |  \n",
      "  DT        NNP    VBZ   CC  NNP              VBZ    END\n",
      "  |          |      |    |    |                |      |  \n",
      "either     Arthur knows  or Patsy             does    . \n",
      "\n"
     ]
    },
    {
     "name": "stderr",
     "output_type": "stream",
     "text": [
      "#parsing: ['either', 'Arthur', 'knows', 'or', 'Patsy', 'does', '.']\n",
      "#-cross entropy (bits/word): -9.55387\n"
     ]
    }
   ],
   "source": [
    "ce, trees = parser_tuned.parse_sentences([\"either Arthur knows or Patsy does .\"])\n",
    "print(\"-cross entropy: {}\".format(ce))\n",
    "for tree_string in trees:\n",
    "    print_tree(tree_string)"
   ]
  },
  {
   "cell_type": "markdown",
   "metadata": {},
   "source": [
    "Use `parse_file` to parse a file of sentences."
   ]
  },
  {
   "cell_type": "code",
   "execution_count": 141,
   "metadata": {},
   "outputs": [
    {
     "name": "stderr",
     "output_type": "stream",
     "text": [
      "#parsing: ['Whoa', 'there', '!']\n",
      "#parsing: ['Halt', '!']\n",
      "#parsing: ['Who', 'goes', 'there', '?']\n",
      "#parsing: ['It', 'is', 'I', ',', 'Arthur', ',', 'son', 'of', 'Uther', 'Pendragon', ',', 'from', 'the', 'castle', 'of', 'Camelot', '.']\n"
     ]
    },
    {
     "name": "stdout",
     "output_type": "stream",
     "text": [
      "(TOP (INTJ (NNP Whoa) (INTJ|<RB-END> (RB there) (END !))) )\n",
      "(TOP (S (VP (VB Halt) ) (END !)) )\n",
      "(TOP (SBARQ (WHNP (WP Who) ) (SBARQ|<SQ-END> (SQ (VBZ goes) (NP (EX there) )) (END ?))) )\n",
      "(TOP (S2 (_PRP (PRP It) (_VBZ (VBZ is) (_PRP (PRP I) (_PAUSE (PAUSE ,) (_NNP (NNP Arthur) (_PAUSE (PAUSE ,) (_NN (NN son) (_IN (IN of) (_NNP (NNP Uther) (_NNP (NNP Pendragon) (_PAUSE (PAUSE ,) (_IN (IN from) (_DT (DT the) (_NN (NN castle) (_IN (IN of) (_NNP (NNP Camelot) (_END (END .) ))))))))))))))))) ) )\n"
     ]
    },
    {
     "name": "stderr",
     "output_type": "stream",
     "text": [
      "#parsing: ['King', 'of', 'the', 'Britons', ',', 'defeator', 'of', 'the', 'Saxons', ',', 'sovereign', 'of', 'all', 'England', '!']\n"
     ]
    },
    {
     "name": "stdout",
     "output_type": "stream",
     "text": [
      "(TOP (S2 (_NNP (NNP King) (_IN (IN of) (_DT (DT the) (_NNPS (NNPS Britons) (_PAUSE (PAUSE ,) (_NN (NN defeator) (_IN (IN of) (_DT (DT the) (_NNS (NNS Saxons) (_PAUSE (PAUSE ,) (_JJ (JJ sovereign) (_IN (IN of) (_DT (DT all) (_NNP (NNP England) (_END (END !) ))))))))))))))) ) )\n",
      "(TOP (S (VP (VB Pull) (NP (DT the) (NP|<JJ-CD> (JJ other) (CD one)))) (END !)) )\n",
      "(TOP (S (NP (PRP I) ) (S|<VP-END> (VP (VBP am) ) (END .))) )\n",
      "(TOP (FRAG (CC And) (FRAG|<NP-NP> (NP (DT this) (NP (PRP$ my) (NP|<JJ-NN> (JJ trusty) (NN servant)))) (FRAG|<NP-END> (NP (NNP Patsy) ) (END .)))) )\n"
     ]
    },
    {
     "name": "stderr",
     "output_type": "stream",
     "text": [
      "#parsing: ['Pull', 'the', 'other', 'one', '!']\n",
      "#parsing: ['I', 'am', '.']\n",
      "#parsing: ['And', 'this', 'my', 'trusty', 'servant', 'Patsy', '.']\n",
      "#parsing: ['We', 'have', 'ridden', 'the', 'length', 'and', 'breadth', 'of', 'the', 'land', 'in', 'search', 'of', 'knights', 'who', 'will', 'join', 'me', 'in', 'my', 'court', 'of', 'Camelot', '.']\n"
     ]
    },
    {
     "name": "stdout",
     "output_type": "stream",
     "text": [
      "(TOP (S2 (_PRP (PRP We) (_VBP (VBP have) (_NN (NN ridden) (_DT (DT the) (_NN (NN length) (_CC (CC and) (_NN (NN breadth) (_IN (IN of) (_DT (DT the) (_NN (NN land) (_IN (IN in) (_NN (NN search) (_IN (IN of) (_NNS (NNS knights) (_WP (WP who) (_MD (MD will) (_VB (VB join) (_PRP (PRP me) (_IN (IN in) (_PRP$ (PRP$ my) (_NN (NN court) (_IN (IN of) (_NNP (NNP Camelot) (_END (END .) )))))))))))))))))))))))) ) )\n",
      "(TOP (S (NP (PRP I) ) (S|<VP-END> (VP (MD must) (VP (VBP speak) (PP (IN with) (NP (PRP$ your) (NP|<NN-CC> (NN lord) (NP|<CC-NN> (CC and) (NN master))))))) (END .))) )\n",
      "(TOP (SBARQ (WHNP (WP What) ) (SBARQ|<PAUSE-VP> (PAUSE ,) (SBARQ|<VP-END> (VP (NN ridden) (PP (IN on) (NP (DT a) (NN horse)))) (END ?)))) )\n",
      "(TOP (S2 (_UH (UH Yes) (_END (END !) )) ) )\n",
      "(TOP (S (NP (PRP You're) ) (S|<VP-END> (VP (VBG using) (NP (NNS coconuts) )) (END !))) )\n",
      "(TOP (FRAG (WP What) (END ?)) )\n"
     ]
    },
    {
     "name": "stderr",
     "output_type": "stream",
     "text": [
      "#parsing: ['I', 'must', 'speak', 'with', 'your', 'lord', 'and', 'master', '.']\n",
      "#parsing: ['What', ',', 'ridden', 'on', 'a', 'horse', '?']\n",
      "#parsing: ['Yes', '!']\n",
      "#parsing: [\"You're\", 'using', 'coconuts', '!']\n",
      "#parsing: ['What', '?']\n",
      "#parsing: [\"You've\", 'got', 'two', 'empty', 'halves', 'of', 'coconut', 'and', 'you', \"'re\", 'bangin', \"'em\", 'together', '.']\n"
     ]
    },
    {
     "name": "stdout",
     "output_type": "stream",
     "text": [
      "(TOP (S2 (_PRP (PRP You've) (_VBD (VBD got) (_CD (CD two) (_JJ (JJ empty) (_NNS (NNS halves) (_IN (IN of) (_NN (NN coconut) (_CC (CC and) (_PRP (PRP you) (_VBP (VBP 're) (_NN (NN bangin) (_PRP (PRP 'em) (_RB (RB together) (_END (END .) )))))))))))))) ) )\n",
      "(TOP (S2 (_RB (RB So) (_END (END ?) )) ) )\n"
     ]
    },
    {
     "name": "stderr",
     "output_type": "stream",
     "text": [
      "#parsing: ['So', '?']\n",
      "#parsing: ['We', 'have', 'ridden', 'since', 'the', 'snows', 'of', 'winter', 'covered', 'this', 'land', ',', 'through', 'the', 'kingdom', 'of', 'Mercea', ',', 'through', '--']\n"
     ]
    },
    {
     "name": "stdout",
     "output_type": "stream",
     "text": [
      "(TOP (S2 (_PRP (PRP We) (_VBP (VBP have) (_NN (NN ridden) (_IN (IN since) (_DT (DT the) (_NNS (NNS snows) (_IN (IN of) (_NN (NN winter) (_VBN (VBN covered) (_DT (DT this) (_NN (NN land) (_PAUSE (PAUSE ,) (_IN (IN through) (_DT (DT the) (_NN (NN kingdom) (_IN (IN of) (_NNP (NNP Mercea) (_PAUSE (PAUSE ,) (_IN (IN through) (_BREAK (BREAK --) )))))))))))))))))))) ) )\n",
      "(TOP (SBARQ (WHADVP (WRB Where) ) (SBARQ|<SQ-END> (SQ (MD 'd) (SQ|<NP-VP> (NP (PRP you) ) (VP (VB get) (NP (DT the) (NN coconut))))) (END ?))) )\n",
      "(TOP (S (NP (PRP We) ) (S|<VP-END> (VP (VBN found) (NP (PRP them) )) (END .))) )\n",
      "(TOP (S (VP (VBN Found) (NP (PRP them) )) (END ?)) )\n",
      "(TOP (S2 (_IN (IN In) (_NNP (NNP Mercea) (_END (END ?) ))) ) )\n",
      "(TOP (S (NP (DT The) (NN coconut)) (S|<VP-END> (VP (POS 's) (ADJP (JJ tropical) )) (END !))) )\n",
      "(TOP (SBARQ (WHNP (WP What) ) (SBARQ|<SQ-END> (SQ (VBP do) (SQ|<NP-VP> (NP (PRP you) ) (VP (VBP mean) ))) (END ?))) )\n",
      "(TOP (S (INTJ (RB Well) ) (S|<PAUSE-NP> (PAUSE ,) (S|<NP-VP> (NP (DT this) ) (S|<VP-END> (VP (VBZ is) (NP (DT a) (NP|<JJ-NN> (JJ temperate) (NN zone)))) (END .))))) )\n"
     ]
    },
    {
     "name": "stderr",
     "output_type": "stream",
     "text": [
      "#parsing: ['Where', \"'d\", 'you', 'get', 'the', 'coconut', '?']\n",
      "#parsing: ['We', 'found', 'them', '.']\n",
      "#parsing: ['Found', 'them', '?']\n",
      "#parsing: ['In', 'Mercea', '?']\n",
      "#parsing: ['The', 'coconut', \"'s\", 'tropical', '!']\n",
      "#parsing: ['What', 'do', 'you', 'mean', '?']\n",
      "#parsing: ['Well', ',', 'this', 'is', 'a', 'temperate', 'zone', '.']\n",
      "#parsing: ['The', 'swallow', 'may', 'fly', 'south', 'with', 'the', 'sun', 'or', 'the', 'house', 'martin', 'or', 'the', 'plumber', 'may', 'seek', 'warmer', 'climes', 'in', 'winter', 'yet', 'these', 'are', 'not', 'strangers', 'to', 'our', 'land', '.']\n"
     ]
    },
    {
     "name": "stdout",
     "output_type": "stream",
     "text": [
      "(TOP (S2 (_DT (DT The) (_VB (VB swallow) (_MD (MD may) (_NN (NN fly) (_RB (RB south) (_IN (IN with) (_DT (DT the) (_NN (NN sun) (_CC (CC or) (_DT (DT the) (_NN (NN house) (_NN (NN martin) (_CC (CC or) (_DT (DT the) (_NN (NN plumber) (_MD (MD may) (_VBP (VBP seek) (_JJR (JJR warmer) (_NNS (NNS climes) (_IN (IN in) (_NN (NN winter) (_RB (RB yet) (_DT (DT these) (_VBP (VBP are) (_RB (RB not) (_NNS (NNS strangers) (_TO (TO to) (_PRP$ (PRP$ our) (_NN (NN land) (_END (END .) )))))))))))))))))))))))))))))) ) )\n",
      "(TOP (S2 (_VBP (VBP Are) (_PRP (PRP you) (_VBG (VBG suggesting) (_NNS (NNS coconuts) (_VBP (VBP migrate) (_END (END ?) )))))) ) )\n",
      "(TOP (S2 (_RB (RB Not) (_IN (IN at) (_DT (DT all) (_PAUSE (PAUSE ,) (_PRP (PRP they) (_MD (MD could) (_VB (VB be) (_VBN (VBN carried) (_END (END .) ))))))))) ) )\n",
      "(TOP (S2 (_WDT (WDT What) (_BREAK (BREAK --) (_DT (DT a) (_VB (VB swallow) (_VBG (VBG carrying) (_DT (DT a) (_NN (NN coconut) (_END (END ?) )))))))) ) )\n"
     ]
    },
    {
     "name": "stderr",
     "output_type": "stream",
     "text": [
      "#parsing: ['Are', 'you', 'suggesting', 'coconuts', 'migrate', '?']\n",
      "#parsing: ['Not', 'at', 'all', ',', 'they', 'could', 'be', 'carried', '.']\n",
      "#parsing: ['What', '--', 'a', 'swallow', 'carrying', 'a', 'coconut', '?']\n",
      "#parsing: ['It', 'could', 'grip', 'it', 'by', 'the', 'husk', '!']\n"
     ]
    },
    {
     "name": "stdout",
     "output_type": "stream",
     "text": [
      "(TOP (S2 (_PRP (PRP It) (_MD (MD could) (_NN (NN grip) (_PRP (PRP it) (_IN (IN by) (_DT (DT the) (_NN (NN husk) (_END (END !) )))))))) ) )\n",
      "(TOP (S2 (_PRP (PRP It) (_POS (POS 's) (_RB (RB not) (_DT (DT a) (_NN (NN question) (_IN (IN of) (_WRB (WRB where) (_PRP (PRP he) (_NNS (NNS grips) (_PRP (PRP it) (_END (END !) ))))))))))) ) )\n"
     ]
    },
    {
     "name": "stderr",
     "output_type": "stream",
     "text": [
      "#parsing: ['It', \"'s\", 'not', 'a', 'question', 'of', 'where', 'he', 'grips', 'it', '!']\n",
      "#parsing: ['It', \"'s\", 'a', 'simple', 'question', 'of', 'weight', 'ratios', '!']\n"
     ]
    },
    {
     "name": "stdout",
     "output_type": "stream",
     "text": [
      "(TOP (S (NP (PRP It) ) (S|<VP-END> (VP (VBZ 's) (VP|<NP-PP> (NP (DT a) (NP|<JJ-NN> (JJ simple) (NN question))) (PP (IN of) (NP (NN weight) (NNS ratios))))) (END !))) )\n"
     ]
    },
    {
     "name": "stderr",
     "output_type": "stream",
     "text": [
      "#parsing: ['A', 'five', 'ounce', 'bird', 'could', 'not', 'carry', 'a', '1', 'pound', 'coconut', '.']\n"
     ]
    },
    {
     "name": "stdout",
     "output_type": "stream",
     "text": [
      "(TOP (S (NP (DT A) (NP|<ADJP-NN> (ADJP (CD five) (NN ounce)) (NN bird))) (S|<VP-END> (VP (MD could) (VP|<RB-VP> (RB not) (VP (VB carry) (NP (DT a) (NP|<ADJP-NN> (ADJP (CD 1) (NN pound)) (NN coconut)))))) (END .))) )\n",
      "(TOP (S (INTJ (RB Well) ) (S|<PAUSE-NP> (PAUSE ,) (S|<NP-VP> (NP (PRP it) ) (S|<VP-END> (VP (VBZ does) (VP|<RB-NP> (RB n't) (NP (NN matter) ))) (END .))))) )\n"
     ]
    },
    {
     "name": "stderr",
     "output_type": "stream",
     "text": [
      "#parsing: ['Well', ',', 'it', 'does', \"n't\", 'matter', '.']\n",
      "#parsing: ['Will', 'you', 'go', 'and', 'tell', 'your', 'master', 'that', 'Arthur', 'from', 'the', 'Court', 'of', 'Camelot', 'is', 'here', '.']\n"
     ]
    },
    {
     "name": "stdout",
     "output_type": "stream",
     "text": [
      "(TOP (S2 (_MD (MD Will) (_PRP (PRP you) (_VBP (VBP go) (_CC (CC and) (_VB (VB tell) (_PRP$ (PRP$ your) (_NN (NN master) (_IN (IN that) (_NNP (NNP Arthur) (_IN (IN from) (_DT (DT the) (_NNP (NNP Court) (_IN (IN of) (_NNP (NNP Camelot) (_VBZ (VBZ is) (_RB (RB here) (_END (END .) ))))))))))))))))) ) )\n"
     ]
    },
    {
     "name": "stderr",
     "output_type": "stream",
     "text": [
      "#parsing: ['Listen', ',', 'in', 'order', 'to', 'maintain', 'air', '-', 'speed', 'velocity', ',', 'a', 'swallow', 'needs', 'to', 'beat', 'its', 'wings', '43', 'times', 'every', 'second', ',', 'right', '?']\n"
     ]
    },
    {
     "name": "stdout",
     "output_type": "stream",
     "text": [
      "(TOP (S2 (_VB (VB Listen) (_PAUSE (PAUSE ,) (_IN (IN in) (_NN (NN order) (_TO (TO to) (_VB (VB maintain) (_NN (NN air) (_BREAK (BREAK -) (_NN (NN speed) (_NN (NN velocity) (_PAUSE (PAUSE ,) (_DT (DT a) (_VB (VB swallow) (_NNS (NNS needs) (_TO (TO to) (_VB (VB beat) (_PRP$ (PRP$ its) (_NNS (NNS wings) (_CD (CD 43) (_NNS (NNS times) (_DT (DT every) (_JJ (JJ second) (_PAUSE (PAUSE ,) (_RB (RB right) (_END (END ?) ))))))))))))))))))))))))) ) )\n",
      "(TOP (S2 (_UH (UH Please) (_END (END !) )) ) )\n",
      "(TOP (SQ (VBP Am) (SQ|<NP-ADJP> (NP (PRP I) ) (SQ|<ADJP-END> (ADJP (JJ right) ) (END ?)))) )\n",
      "(TOP (S (NP (PRP I'm) ) (S|<ADJP-END> (ADJP (RB not) (JJ interested)) (END !))) )\n",
      "(TOP (S2 (_PRP (PRP It) (_MD (MD could) (_VB (VB be) (_VBN (VBN carried) (_IN (IN by) (_DT (DT an) (_JJ (JJ African) (_VB (VB swallow) (_END (END !) ))))))))) ) )\n"
     ]
    },
    {
     "name": "stderr",
     "output_type": "stream",
     "text": [
      "#parsing: ['Please', '!']\n",
      "#parsing: ['Am', 'I', 'right', '?']\n",
      "#parsing: [\"I'm\", 'not', 'interested', '!']\n",
      "#parsing: ['It', 'could', 'be', 'carried', 'by', 'an', 'African', 'swallow', '!']\n",
      "#parsing: ['Oh', ',', 'yeah', ',', 'an', 'African', 'swallow', 'maybe', ',', 'but', 'not', 'a', 'European', 'swallow', ',', 'that', \"'s\", 'my', 'point', '.']\n"
     ]
    },
    {
     "name": "stdout",
     "output_type": "stream",
     "text": [
      "(TOP (S2 (_UH (UH Oh) (_PAUSE (PAUSE ,) (_VB (VB yeah) (_PAUSE (PAUSE ,) (_DT (DT an) (_JJ (JJ African) (_VB (VB swallow) (_RB (RB maybe) (_PAUSE (PAUSE ,) (_CC (CC but) (_RB (RB not) (_DT (DT a) (_JJ (JJ European) (_VB (VB swallow) (_PAUSE (PAUSE ,) (_WDT (WDT that) (_VBZ (VBZ 's) (_PRP$ (PRP$ my) (_NN (NN point) (_END (END .) )))))))))))))))))))) ) )\n",
      "(TOP (S2 (_UH (UH Oh) (_PAUSE (PAUSE ,) (_VB (VB yeah) (_PAUSE (PAUSE ,) (_PRP (PRP I) (_VB (VB agree) (_IN (IN with) (_DT (DT that) (_BREAK (BREAK ...) ))))))))) ) )\n"
     ]
    },
    {
     "name": "stderr",
     "output_type": "stream",
     "text": [
      "#parsing: ['Oh', ',', 'yeah', ',', 'I', 'agree', 'with', 'that', '...']\n",
      "#parsing: ['Will', 'you', 'ask', 'your', 'master', 'if', 'he', 'wants', 'to', 'join', 'my', 'court', 'at', 'Camelot', '?', '!']\n"
     ]
    },
    {
     "name": "stdout",
     "output_type": "stream",
     "text": [
      "(TOP (SQ (MD Will) (SQ|<NP-VP> (NP (PRP you) ) (SQ|<VP-END> (VP (VB ask) (VP|<NP-SBAR> (NP (PRP$ your) (NN master)) (SBAR (IN if) (S (NP (PRP he) ) (S|<VP-END> (VP (VBZ wants) (VP (TO to) (VP (VB join) (VP|<NP-PP> (NP (PRP$ my) (NN court)) (PP (IN at) (NP (NNP Camelot) )))))) (END ?)))))) (END !)))) )\n"
     ]
    },
    {
     "name": "stderr",
     "output_type": "stream",
     "text": [
      "#parsing: ['But', 'then', 'of', 'course', 'African', 'swallows', 'are', 'not', 'migratory', '.']\n"
     ]
    },
    {
     "name": "stdout",
     "output_type": "stream",
     "text": [
      "(TOP (S (CC But) (S|<ADVP-PP> (ADVP (RB then) ) (S|<PP-NP> (PP (IN of) (NP (NN course) )) (S|<NP-VP> (NP (JJ African) (NNS swallows)) (S|<VP-END> (VP (VBP are) (ADJP (RB not) (JJ migratory))) (END .)))))) )\n",
      "(TOP (S2 (_UH (UH Oh) (_PAUSE (PAUSE ,) (_NN (NN yeah) (_BREAK (BREAK ...) )))) ) )\n",
      "(TOP (S2 (_RB (RB So) (_PRP (PRP they) (_MD (MD could) (_RB (RB n't) (_VB (VB bring) (_DT (DT a) (_NN (NN coconut) (_RB (RB back) (_RB (RB anyway) (_BREAK (BREAK ...) )))))))))) ) )\n",
      "(TOP (S2 (_VB (VB Wait) (_DT (DT a) (_NN (NN minute) (_BREAK (BREAK --) (_VBG (VBG supposing) (_CD (CD two) (_NNS (NNS swallows) (_VBD (VBD carried) (_PRP (PRP it) (_RB (RB together) (_END (END ?) ))))))))))) ) )\n"
     ]
    },
    {
     "name": "stderr",
     "output_type": "stream",
     "text": [
      "#parsing: ['Oh', ',', 'yeah', '...']\n",
      "#parsing: ['So', 'they', 'could', \"n't\", 'bring', 'a', 'coconut', 'back', 'anyway', '...']\n",
      "#parsing: ['Wait', 'a', 'minute', '--', 'supposing', 'two', 'swallows', 'carried', 'it', 'together', '?']\n",
      "#parsing: ['No', ',', 'they', \"'d\", 'have', 'to', 'have', 'it', 'on', 'a', 'line', '.']\n"
     ]
    },
    {
     "name": "stdout",
     "output_type": "stream",
     "text": [
      "(TOP (S2 (_UH (UH No) (_PAUSE (PAUSE ,) (_PRP (PRP they) (_MD (MD 'd) (_VBP (VBP have) (_TO (TO to) (_VBP (VBP have) (_PRP (PRP it) (_IN (IN on) (_DT (DT a) (_NN (NN line) (_END (END .) )))))))))))) ) )\n",
      "(TOP (FRAG (INTJ (RB Well) ) (FRAG|<PAUSE-ADJP> (PAUSE ,) (FRAG|<ADJP-END> (ADJP (JJ simple) ) (END !)))) )\n",
      "(TOP (S2 (_PRP (PRP They) (_MD (MD 'd) (_RB (RB just) (_NN (NN use) (_DT (DT a) (_NN (NN standard) (_NN (NN creeper) (_END (END !) )))))))) ) )\n"
     ]
    },
    {
     "name": "stderr",
     "output_type": "stream",
     "text": [
      "#parsing: ['Well', ',', 'simple', '!']\n",
      "#parsing: ['They', \"'d\", 'just', 'use', 'a', 'standard', 'creeper', '!']\n",
      "#parsing: ['What', ',', 'held', 'under', 'the', 'dorsal', 'guiding', 'feathers', '?']\n"
     ]
    },
    {
     "name": "stdout",
     "output_type": "stream",
     "text": [
      "(TOP (SBARQ (WHNP (WP What) ) (SBARQ|<PAUSE-VP> (PAUSE ,) (SBARQ|<VP-END> (VP (VBN held) (PP (IN under) (NP (DT the) (NP|<NN-VBG> (NN dorsal) (NP|<VBG-NNS> (VBG guiding) (NNS feathers)))))) (END ?)))) )\n",
      "(TOP (FRAG (INTJ (RB Well) ) (FRAG|<PAUSE-WHADVP> (PAUSE ,) (FRAG|<WHADVP-RB> (WHADVP (WRB why) ) (FRAG|<RB-END> (RB not) (END ?))))) )\n",
      "(TOP (S2 (_VB (VB Bring) (_RP (RP out) (_PRP$ (PRP$ your) (_JJ (JJ dead) (_END (END !) ))))) ) )\n",
      "(TOP (S2 (_RB (RB Here) (_POS (POS 's) (_CD (CD one) (_BREAK (BREAK --) (_CD (CD nine) (_NN (NN pence) (_END (END .) ))))))) ) )\n",
      "(TOP (S (NP (PRP I'm) ) (S|<ADJP-END> (ADJP (RB not) (JJ dead)) (END !))) )\n",
      "(TOP (FRAG (WP What) (END ?)) )\n",
      "(TOP (S2 (_NN (NN Nothing) (_BREAK (BREAK --) (_RB (RB here) (_VBZ (VBZ 's) (_PRP$ (PRP$ your) (_CD (CD nine) (_NN (NN pence) (_END (END .) )))))))) ) )\n",
      "(TOP (S (NP (PRP I'm) ) (S|<ADJP-END> (ADJP (RB not) (JJ dead)) (END !))) )\n",
      "(TOP (S2 (_RB (RB Here) (_BREAK (BREAK --) (_PRP (PRP he) (_VBZ (VBZ says) (_PRP (PRP he) (_POS (POS 's) (_RB (RB not) (_JJ (JJ dead) (_END (END !) ))))))))) ) )\n",
      "(TOP (S (INTJ (UH Yes) ) (S|<PAUSE-NP> (PAUSE ,) (S|<NP-VP> (NP (PRP he) ) (S|<VP-END> (VP (VBZ is) ) (END .))))) )\n",
      "(TOP (S2 (_PRP (PRP I'm) (_RB (RB not) (_END (END !) ))) ) )\n",
      "(TOP (S (NP (PRP He) ) (S|<VP-END> (VP (VBZ is) (ADVP (RB n't) )) (END .))) )\n"
     ]
    },
    {
     "name": "stderr",
     "output_type": "stream",
     "text": [
      "#parsing: ['Well', ',', 'why', 'not', '?']\n",
      "#parsing: ['Bring', 'out', 'your', 'dead', '!']\n",
      "#parsing: ['Here', \"'s\", 'one', '--', 'nine', 'pence', '.']\n",
      "#parsing: [\"I'm\", 'not', 'dead', '!']\n",
      "#parsing: ['What', '?']\n",
      "#parsing: ['Nothing', '--', 'here', \"'s\", 'your', 'nine', 'pence', '.']\n",
      "#parsing: [\"I'm\", 'not', 'dead', '!']\n",
      "#parsing: ['Here', '--', 'he', 'says', 'he', \"'s\", 'not', 'dead', '!']\n",
      "#parsing: ['Yes', ',', 'he', 'is', '.']\n",
      "#parsing: [\"I'm\", 'not', '!']\n",
      "#parsing: ['He', 'is', \"n't\", '.']\n",
      "#parsing: ['Well', ',', 'he', 'will', 'be', 'soon', ',', 'he', \"'s\", 'very', 'ill', '.']\n"
     ]
    },
    {
     "name": "stdout",
     "output_type": "stream",
     "text": [
      "(TOP (S2 (_RB (RB Well) (_PAUSE (PAUSE ,) (_PRP (PRP he) (_MD (MD will) (_VB (VB be) (_RB (RB soon) (_PAUSE (PAUSE ,) (_PRP (PRP he) (_POS (POS 's) (_RB (RB very) (_RB (RB ill) (_END (END .) )))))))))))) ) )\n",
      "(TOP (S2 (_PRP (PRP I'm) (_VBG (VBG getting) (_JJR (JJR better) (_END (END !) )))) ) )\n",
      "(TOP (S2 (_UH (UH No) (_PAUSE (PAUSE ,) (_PRP (PRP you) (_VBP (VBP 're) (_RB (RB not) (_BREAK (BREAK --) (_PRP (PRP you) (_MD (MD 'll) (_VB (VB be) (_NN (NN stone) (_JJ (JJ dead) (_IN (IN in) (_DT (DT a) (_NN (NN moment) (_END (END .) ))))))))))))))) ) )\n"
     ]
    },
    {
     "name": "stderr",
     "output_type": "stream",
     "text": [
      "#parsing: [\"I'm\", 'getting', 'better', '!']\n",
      "#parsing: ['No', ',', 'you', \"'re\", 'not', '--', 'you', \"'ll\", 'be', 'stone', 'dead', 'in', 'a', 'moment', '.']\n",
      "#parsing: ['Oh', ',', 'I', \"can't\", 'take', 'him', 'like', 'that', '--', 'it', \"'s\", 'against', 'regulations', '.']\n"
     ]
    },
    {
     "name": "stdout",
     "output_type": "stream",
     "text": [
      "(TOP (S2 (_UH (UH Oh) (_PAUSE (PAUSE ,) (_PRP (PRP I) (_MD (MD can't) (_VB (VB take) (_PRP (PRP him) (_VBP (VBP like) (_IN (IN that) (_BREAK (BREAK --) (_PRP (PRP it) (_POS (POS 's) (_IN (IN against) (_NNS (NNS regulations) (_END (END .) )))))))))))))) ) )\n",
      "(TOP (S2 (_PRP (PRP I) (_VBP (VBP do) (_RB (RB n't) (_VB (VB want) (_TO (TO to) (_VB (VB go) (_IN (IN in) (_DT (DT the) (_NN (NN cart) (_END (END !) )))))))))) ) )\n"
     ]
    },
    {
     "name": "stderr",
     "output_type": "stream",
     "text": [
      "#parsing: ['I', 'do', \"n't\", 'want', 'to', 'go', 'in', 'the', 'cart', '!']\n",
      "#parsing: ['Oh', ',', 'do', \"n't\", 'be', 'such', 'a', 'baby', '.']\n"
     ]
    },
    {
     "name": "stdout",
     "output_type": "stream",
     "text": [
      "(TOP (S (INTJ (UH Oh) ) (S|<PAUSE-VP> (PAUSE ,) (S|<VP-END> (VP (VBP do) (VP|<RB-VP> (RB n't) (VP (VB be) (NP (JJ such) (NP|<DT-NN> (DT a) (NN baby)))))) (END .)))) )\n",
      "(TOP (S2 (_PRP (PRP I) (_MD (MD can't) (_VB (VB take) (_PRP (PRP him) (_BREAK (BREAK ...) ))))) ) )\n",
      "(TOP (S (NP (PRP I) ) (S|<VP-END> (VP (VBP feel) (ADJP (JJ fine) )) (END !))) )\n",
      "(TOP (S2 (_UH (UH Oh) (_PAUSE (PAUSE ,) (_VBP (VBP do) (_PRP (PRP us) (_DT (DT a) (_NN (NN favor) (_BREAK (BREAK ...) ))))))) ) )\n",
      "(TOP (S (NP (PRP I) ) (S|<VP-END> (VP (MD can't) ) (END .))) )\n"
     ]
    },
    {
     "name": "stderr",
     "output_type": "stream",
     "text": [
      "#parsing: ['I', \"can't\", 'take', 'him', '...']\n",
      "#parsing: ['I', 'feel', 'fine', '!']\n",
      "#parsing: ['Oh', ',', 'do', 'us', 'a', 'favor', '...']\n",
      "#parsing: ['I', \"can't\", '.']\n",
      "#parsing: ['Well', ',', 'can', 'you', 'hang', 'around', 'a', 'couple', 'of', 'minutes', '?']\n"
     ]
    },
    {
     "name": "stdout",
     "output_type": "stream",
     "text": [
      "(TOP (SQ (INTJ (RB Well) ) (SQ|<PAUSE-MD> (PAUSE ,) (SQ|<MD-NP> (MD can) (SQ|<NP-VP> (NP (PRP you) ) (SQ|<VP-END> (VP (VB hang) (VP|<PP-PP> (PP (IN around) (NP (DT a) (NN couple))) (PP (IN of) (NP (NNS minutes) )))) (END ?)))))) )\n",
      "(TOP (S (NP (PRP He) ) (S|<VP-END> (VP (MD wo) (VP|<RB-VP> (RB n't) (VP (VB be) (ADVP (RB long) )))) (END .))) )\n",
      "(TOP (S2 (_NNP (NNP Naaah) (_PAUSE (PAUSE ,) (_PRP (PRP I) (_VBD (VBD got) (_TO (TO to) (_VB (VB go) (_RP (RP on) (_TO (TO to) (_NNP (NNP Robinson) (_POS (POS 's) (_BREAK (BREAK --) (_PRP (PRP they) (_VBP (VBP 've) (_VBN (VBN lost) (_CD (CD nine) (_NN (NN today) (_END (END .) ))))))))))))))))) ) )\n"
     ]
    },
    {
     "name": "stderr",
     "output_type": "stream",
     "text": [
      "#parsing: ['He', 'wo', \"n't\", 'be', 'long', '.']\n",
      "#parsing: ['Naaah', ',', 'I', 'got', 'to', 'go', 'on', 'to', 'Robinson', \"'s\", '--', 'they', \"'ve\", 'lost', 'nine', 'today', '.']\n",
      "#parsing: ['Well', ',', 'when', 'is', 'your', 'next', 'round', '?']\n"
     ]
    },
    {
     "name": "stdout",
     "output_type": "stream",
     "text": [
      "(TOP (SBARQ (ADVP (RB Well) ) (SBARQ|<PAUSE-WHADVP> (PAUSE ,) (SBARQ|<WHADVP-SQ> (WHADVP (WRB when) ) (SBARQ|<SQ-END> (SQ (VBZ is) (NP (NP (PRP$ your) ) (PP (IN next) (NP (NN round) )))) (END ?))))) )\n",
      "(TOP (S2 (_NNP (NNP Thursday) (_END (END .) )) ) )\n",
      "(TOP (S2 (_PRP (PRP I) (_VBP (VBP think) (_PRP (PRP I) (_MD (MD 'll) (_VB (VB go) (_IN (IN for) (_DT (DT a) (_NN (NN walk) (_END (END .) ))))))))) ) )\n",
      "(TOP (S2 (_PRP (PRP You're) (_RB (RB not) (_VBG (VBG fooling) (_NN (NN anyone) (_NN (NN y') (_VBP (VBP know) (_END (END .) ))))))) ) )\n"
     ]
    },
    {
     "name": "stderr",
     "output_type": "stream",
     "text": [
      "#parsing: ['Thursday', '.']\n",
      "#parsing: ['I', 'think', 'I', \"'ll\", 'go', 'for', 'a', 'walk', '.']\n",
      "#parsing: [\"You're\", 'not', 'fooling', 'anyone', \"y'\", 'know', '.']\n",
      "#parsing: ['Look', ',', 'is', \"n't\", 'there', 'something', 'you', 'can', 'do', '?']\n"
     ]
    },
    {
     "name": "stdout",
     "output_type": "stream",
     "text": [
      "(TOP (S2 (_VB (VB Look) (_PAUSE (PAUSE ,) (_VBZ (VBZ is) (_RB (RB n't) (_EX (EX there) (_NN (NN something) (_PRP (PRP you) (_MD (MD can) (_VBP (VBP do) (_END (END ?) )))))))))) ) )\n",
      "(TOP (S2 (_PRP (PRP I) (_VBP (VBP feel) (_JJ (JJ happy) (_BREAK (BREAK ...) )))) ) )\n",
      "(TOP (S (NP (PRP I) ) (S|<VP-END> (VP (VBP feel) (ADJP (JJ happy) )) (END .))) )\n",
      "(TOP (S2 (_UT (UT Ah) (_PAUSE (PAUSE ,) (_NNS (NNS thanks) (_RB (RB very) (_JJ (JJ much) (_END (END .) )))))) ) )\n",
      "(TOP (FRAG (RB Not) (FRAG|<IN-DT> (IN at) (FRAG|<DT-END> (DT all) (END .)))) )\n",
      "(TOP (S (VP (VB See) (VP|<NP-PP> (NP (PRP you) ) (PP (IN on) (NP (NNP Thursday) )))) (END .)) )\n",
      "(TOP (S2 (_RB (RB Right) (_END (END .) )) ) )\n",
      "(TOP (SBARQ (WHNP (WP Who) ) (SBARQ|<SQ-END> (SQ (VBZ 's) (SQ|<NP-ADVP> (NP (DT that) ) (ADVP (RB then) ))) (END ?))) )\n",
      "(TOP (S (NP (PRP I) ) (S|<VP-END> (VP (VBP do) (VP|<RB-VP> (RB n't) (VP (VBP know) ))) (END .))) )\n",
      "(TOP (S (VP (MD Must) (VP (VB be) (NP (DT a) (NN king)))) (END .)) )\n",
      "(TOP (FRAG (WRB Why) (END ?)) )\n"
     ]
    },
    {
     "name": "stderr",
     "output_type": "stream",
     "text": [
      "#parsing: ['I', 'feel', 'happy', '...']\n",
      "#parsing: ['I', 'feel', 'happy', '.']\n",
      "#parsing: ['Ah', ',', 'thanks', 'very', 'much', '.']\n",
      "#parsing: ['Not', 'at', 'all', '.']\n",
      "#parsing: ['See', 'you', 'on', 'Thursday', '.']\n",
      "#parsing: ['Right', '.']\n",
      "#parsing: ['Who', \"'s\", 'that', 'then', '?']\n",
      "#parsing: ['I', 'do', \"n't\", 'know', '.']\n",
      "#parsing: ['Must', 'be', 'a', 'king', '.']\n",
      "#parsing: ['Why', '?']\n",
      "#parsing: ['He', 'has', \"n't\", 'got', 'shit', 'all', 'over', 'him', '.']\n"
     ]
    },
    {
     "name": "stdout",
     "output_type": "stream",
     "text": [
      "(TOP (S (NP (PRP He) ) (S|<VP-END> (VP (VBZ has) (VP|<RB-VP> (RB n't) (VP (VBD got) (VP|<NP-PP> (NP (NP (NN shit) ) (PDT all)) (PP (IN over) (NP (PRP him) )))))) (END .))) )\n",
      "(TOP (NP (NNP Old) (NP|<NN-END> (NN woman) (END !))) )\n",
      "(TOP (NP (NN Man) (END !)) )\n",
      "(TOP (S2 (_NNP (NNP Old) (_NN (NN Man) (_PAUSE (PAUSE ,) (_JJ (JJ sorry) (_END (END .) ))))) ) )\n",
      "(TOP (S2 (_WDT (WDT What) (_NN (NN knight) (_VB (VB live) (_IN (IN in) (_DT (DT that) (_NN (NN castle) (_RP (RP over) (_EX (EX there) (_END (END ?) ))))))))) ) )\n",
      "(TOP (S2 (_PRP (PRP I'm) (_CD (CD thirty) (_CD (CD seven) (_END (END .) )))) ) )\n",
      "(TOP (FRAG (WP What) (END ?)) )\n",
      "(TOP (S2 (_PRP (PRP I'm) (_CD (CD thirty) (_CD (CD seven) (_BREAK (BREAK --) (_PRP (PRP I'm) (_RB (RB not) (_JJ (JJ old) (_END (END !) )))))))) ) )\n"
     ]
    },
    {
     "name": "stderr",
     "output_type": "stream",
     "text": [
      "#parsing: ['Old', 'woman', '!']\n",
      "#parsing: ['Man', '!']\n",
      "#parsing: ['Old', 'Man', ',', 'sorry', '.']\n",
      "#parsing: ['What', 'knight', 'live', 'in', 'that', 'castle', 'over', 'there', '?']\n",
      "#parsing: [\"I'm\", 'thirty', 'seven', '.']\n",
      "#parsing: ['What', '?']\n",
      "#parsing: [\"I'm\", 'thirty', 'seven', '--', \"I'm\", 'not', 'old', '!']\n",
      "#parsing: ['Well', ',', 'I', \"can't\", 'just', 'call', 'you', '`', 'Man', \"'\", '.']\n"
     ]
    },
    {
     "name": "stdout",
     "output_type": "stream",
     "text": [
      "(TOP (S (INTJ (RB Well) ) (S|<PAUSE-NP> (PAUSE ,) (S|<NP-VP> (NP (PRP I) ) (S|<VP-END> (VP (MD can't) (VP|<RB-VP> (RB just) (VP (VBP call) (S (NP (PRP you) ) (S|<QUOTE-NP> (QUOTE `) (S|<NP-QUOTE> (NP (NN Man) ) (QUOTE '))))))) (END .))))) )\n",
      "(TOP (S2 (_RB (RB Well) (_PAUSE (PAUSE ,) (_PRP (PRP you) (_MD (MD could) (_VB (VB say) (_QUOTE (QUOTE `) (_NNP (NNP Dennis) (_QUOTE (QUOTE ') (_END (END .) ))))))))) ) )\n"
     ]
    },
    {
     "name": "stderr",
     "output_type": "stream",
     "text": [
      "#parsing: ['Well', ',', 'you', 'could', 'say', '`', 'Dennis', \"'\", '.']\n",
      "#parsing: ['Well', ',', 'I', 'did', \"n't\", 'know', 'you', 'were', 'called', '`', 'Dennis', '.', \"'\"]\n"
     ]
    },
    {
     "name": "stdout",
     "output_type": "stream",
     "text": [
      "(TOP (S (INTJ (RB Well) ) (S|<PAUSE-NP> (PAUSE ,) (S|<NP-VP> (NP (PRP I) ) (S|<VP-END> (VP (VBD did) (VP|<RB-VP> (RB n't) (VP (VBP know) (S (NP (PRP you) ) (VP (VBD were) (VP (VBN called) (S (QUOTE `) (NP (NNP Dennis) )))))))) (S|<END-QUOTE> (END .) (QUOTE ')))))) )\n",
      "(TOP (S2 (_RB (RB Well) (_PAUSE (PAUSE ,) (_PRP (PRP you) (_VBD (VBD did) (_RB (RB n't) (_VB (VB bother) (_TO (TO to) (_VB (VB find) (_RP (RP out) (_PAUSE (PAUSE ,) (_VBD (VBD did) (_PRP (PRP you) (_END (END ?) ))))))))))))) ) )\n"
     ]
    },
    {
     "name": "stderr",
     "output_type": "stream",
     "text": [
      "#parsing: ['Well', ',', 'you', 'did', \"n't\", 'bother', 'to', 'find', 'out', ',', 'did', 'you', '?']\n",
      "#parsing: ['I', 'did', 'say', 'sorry', 'about', 'the', '`', 'old', 'woman', ',', \"'\", 'but', 'from', 'the', 'behind', 'you', 'looked', '--']\n"
     ]
    },
    {
     "name": "stdout",
     "output_type": "stream",
     "text": [
      "(TOP (S2 (_PRP (PRP I) (_VBD (VBD did) (_VB (VB say) (_JJ (JJ sorry) (_IN (IN about) (_DT (DT the) (_QUOTE (QUOTE `) (_JJ (JJ old) (_NN (NN woman) (_PAUSE (PAUSE ,) (_QUOTE (QUOTE ') (_CC (CC but) (_IN (IN from) (_DT (DT the) (_IN (IN behind) (_PRP (PRP you) (_VBD (VBD looked) (_BREAK (BREAK --) )))))))))))))))))) ) )\n"
     ]
    },
    {
     "name": "stderr",
     "output_type": "stream",
     "text": [
      "#parsing: ['What', 'I', 'object', 'to', 'is', 'you', 'automatically', 'treat', 'me', 'like', 'an', 'inferior', '!']\n"
     ]
    },
    {
     "name": "stdout",
     "output_type": "stream",
     "text": [
      "(TOP (S2 (_WDT (WDT What) (_PRP (PRP I) (_NN (NN object) (_TO (TO to) (_VBZ (VBZ is) (_PRP (PRP you) (_RB (RB automatically) (_NN (NN treat) (_PRP (PRP me) (_VBP (VBP like) (_DT (DT an) (_JJ (JJ inferior) (_END (END !) ))))))))))))) ) )\n",
      "(TOP (S2 (_RB (RB Well) (_PAUSE (PAUSE ,) (_PRP (PRP I) (_NNP (NNP AM) (_NN (NN king) (_BREAK (BREAK ...) )))))) ) )\n",
      "(TOP (FRAG (INTJ (UH Oh) (NN king)) (FRAG|<PAUSE-INTJ> (PAUSE ,) (FRAG|<INTJ-PAUSE> (INTJ (UH eh) ) (FRAG|<PAUSE-ADJP> (PAUSE ,) (FRAG|<ADJP-END> (ADJP (RB very) (JJ nice)) (END .)))))) )\n",
      "(TOP (S2 (_DT (DT An) (_QUOTE (QUOTE ') (_WRB (WRB how) (_MD (MD 'd) (_PRP (PRP you) (_VBP (VBP get) (_DT (DT that) (_PAUSE (PAUSE ,) (_UH (UH eh) (_END (END ?) )))))))))) ) )\n"
     ]
    },
    {
     "name": "stderr",
     "output_type": "stream",
     "text": [
      "#parsing: ['Well', ',', 'I', 'AM', 'king', '...']\n",
      "#parsing: ['Oh', 'king', ',', 'eh', ',', 'very', 'nice', '.']\n",
      "#parsing: ['An', \"'\", 'how', \"'d\", 'you', 'get', 'that', ',', 'eh', '?']\n",
      "#parsing: ['By', 'exploitin', \"'\", 'the', 'workers', '--', 'by', \"'\", 'angin', \"'\", 'on', 'to', 'outdated', 'imperialist', 'dogma', 'which', 'perpetuates', 'the', 'economic', 'an', \"'\", 'social', 'differences', 'in', 'our', 'society', '!']\n"
     ]
    },
    {
     "name": "stdout",
     "output_type": "stream",
     "text": [
      "(TOP (S2 (_IN (IN By) (_NN (NN exploitin) (_QUOTE (QUOTE ') (_DT (DT the) (_NNS (NNS workers) (_BREAK (BREAK --) (_IN (IN by) (_QUOTE (QUOTE ') (_NN (NN angin) (_QUOTE (QUOTE ') (_IN (IN on) (_TO (TO to) (_VBN (VBN outdated) (_NN (NN imperialist) (_NN (NN dogma) (_WDT (WDT which) (_VBZ (VBZ perpetuates) (_DT (DT the) (_JJ (JJ economic) (_DT (DT an) (_QUOTE (QUOTE ') (_JJ (JJ social) (_NNS (NNS differences) (_IN (IN in) (_PRP$ (PRP$ our) (_NN (NN society) (_END (END !) ))))))))))))))))))))))))))) ) )\n",
      "(TOP (S2 (_IN (IN If) (_EX (EX there) (_POS (POS 's) (_RB (RB ever) (_VBG (VBG going) (_TO (TO to) (_VB (VB be) (_DT (DT any) (_NN (NN progress) (_BREAK (BREAK --) )))))))))) ) )\n"
     ]
    },
    {
     "name": "stderr",
     "output_type": "stream",
     "text": [
      "#parsing: ['If', 'there', \"'s\", 'ever', 'going', 'to', 'be', 'any', 'progress', '--']\n",
      "#parsing: ['Dennis', ',', 'there', \"'s\", 'some', 'lovely', 'filth', 'down', 'here', '.']\n"
     ]
    },
    {
     "name": "stdout",
     "output_type": "stream",
     "text": [
      "(TOP (S (INTJ (NNP Dennis) ) (S|<PAUSE-NP> (PAUSE ,) (S|<NP-VP> (NP (EX there) ) (S|<VP-END> (VP (VBZ 's) (VP|<NP-ADVP> (NP (DT some) (NP|<JJ-NN> (JJ lovely) (NN filth))) (ADVP (RP down) (RB here)))) (END .))))) )\n",
      "(TOP (S2 (_UH (UH Oh) (_BREAK (BREAK --) (_WRB (WRB how) (_IN (IN d') (_PRP (PRP you) (_VBP (VBP do) (_END (END ?) ))))))) ) )\n",
      "(TOP (S2 (_WRB (WRB How) (_VBP (VBP do) (_PRP (PRP you) (_VBP (VBP do) (_PAUSE (PAUSE ,) (_JJ (JJ good) (_NN (NN lady) (_END (END .) )))))))) ) )\n",
      "(TOP (S2 (_PRP (PRP I) (_VBP (VBP am) (_NNP (NNP Arthur) (_PAUSE (PAUSE ,) (_NNP (NNP King) (_IN (IN of) (_DT (DT the) (_NNPS (NNPS Britons) (_END (END .) ))))))))) ) )\n",
      "(TOP (SBARQ (WHNP (WP Who) ) (SBARQ|<SQ-END> (SQ (VBZ 's) (SQ|<NP-VP> (NP (NN castle) ) (VP (VBZ is) (NP (DT that) )))) (END ?))) )\n",
      "(TOP (S2 (_NNP (NNP King) (_IN (IN of) (_DT (DT the) (_WP (WP who) (_END (END ?) ))))) ) )\n",
      "(TOP (S2 (_DT (DT The) (_NNPS (NNPS Britons) (_END (END .) ))) ) )\n",
      "(TOP (S2 (_WP (WP Who) (_VBP (VBP are) (_DT (DT the) (_NNPS (NNPS Britons) (_END (END ?) ))))) ) )\n"
     ]
    },
    {
     "name": "stderr",
     "output_type": "stream",
     "text": [
      "#parsing: ['Oh', '--', 'how', \"d'\", 'you', 'do', '?']\n",
      "#parsing: ['How', 'do', 'you', 'do', ',', 'good', 'lady', '.']\n",
      "#parsing: ['I', 'am', 'Arthur', ',', 'King', 'of', 'the', 'Britons', '.']\n",
      "#parsing: ['Who', \"'s\", 'castle', 'is', 'that', '?']\n",
      "#parsing: ['King', 'of', 'the', 'who', '?']\n",
      "#parsing: ['The', 'Britons', '.']\n",
      "#parsing: ['Who', 'are', 'the', 'Britons', '?']\n",
      "#parsing: ['Well', ',', 'we', 'all', 'are', '.']\n"
     ]
    },
    {
     "name": "stdout",
     "output_type": "stream",
     "text": [
      "(TOP (S (INTJ (RB Well) ) (S|<PAUSE-NP> (PAUSE ,) (S|<NP-VP> (NP (NP (PRP we) ) (PDT all)) (S|<VP-END> (VP (VBP are) ) (END .))))) )\n",
      "(TOP (S2 (_PRP (PRP we're) (_PDT (PDT all) (_NNPS (NNPS Britons) (_CC (CC and) (_PRP (PRP I) (_VBP (VBP am) (_PRP$ (PRP$ your) (_NN (NN king) (_END (END .) ))))))))) ) )\n",
      "(TOP (S2 (_PRP (PRP I) (_VBD (VBD did) (_RB (RB n't) (_VBP (VBP know) (_PRP (PRP we) (_VBD (VBD had) (_DT (DT a) (_NN (NN king) (_END (END .) ))))))))) ) )\n"
     ]
    },
    {
     "name": "stderr",
     "output_type": "stream",
     "text": [
      "#parsing: [\"we're\", 'all', 'Britons', 'and', 'I', 'am', 'your', 'king', '.']\n",
      "#parsing: ['I', 'did', \"n't\", 'know', 'we', 'had', 'a', 'king', '.']\n",
      "#parsing: ['I', 'thought', 'we', 'were', 'an', 'autonomous', 'collective', '.']\n"
     ]
    },
    {
     "name": "stdout",
     "output_type": "stream",
     "text": [
      "(TOP (S2 (_PRP (PRP I) (_VBD (VBD thought) (_PRP (PRP we) (_VBD (VBD were) (_DT (DT an) (_JJ (JJ autonomous) (_JJ (JJ collective) (_END (END .) )))))))) ) )\n",
      "(TOP (S (NP (PRP You're) ) (S|<VP-END> (VP (VBG fooling) (NP (PRP yourself) )) (END .))) )\n",
      "(TOP (S (NP (PRP We're) ) (S|<VP-END> (VP (VBG living) (PP (IN in) (NP (DT a) (NN dictatorship)))) (END .))) )\n",
      "(TOP (S2 (_DT (DT A) (_NN (NN self) (_BREAK (BREAK -) (_VBG (VBG perpetuating) (_NN (NN autocracy) (_IN (IN in) (_WDT (WDT which) (_DT (DT the) (_VBG (VBG working) (_NNS (NNS classes) (_BREAK (BREAK --) ))))))))))) ) )\n"
     ]
    },
    {
     "name": "stderr",
     "output_type": "stream",
     "text": [
      "#parsing: [\"You're\", 'fooling', 'yourself', '.']\n",
      "#parsing: [\"We're\", 'living', 'in', 'a', 'dictatorship', '.']\n",
      "#parsing: ['A', 'self', '-', 'perpetuating', 'autocracy', 'in', 'which', 'the', 'working', 'classes', '--']\n",
      "#parsing: ['Oh', 'there', 'you', 'go', ',', 'bringing', 'class', 'into', 'it', 'again', '.']\n"
     ]
    },
    {
     "name": "stdout",
     "output_type": "stream",
     "text": [
      "(TOP (S2 (_UH (UH Oh) (_EX (EX there) (_PRP (PRP you) (_VB (VB go) (_PAUSE (PAUSE ,) (_VBG (VBG bringing) (_NN (NN class) (_IN (IN into) (_PRP (PRP it) (_RB (RB again) (_END (END .) ))))))))))) ) )\n"
     ]
    },
    {
     "name": "stderr",
     "output_type": "stream",
     "text": [
      "#parsing: ['That', \"'s\", 'what', 'it', \"'s\", 'all', 'about', 'if', 'only', 'people', 'would', '--']\n"
     ]
    },
    {
     "name": "stdout",
     "output_type": "stream",
     "text": [
      "(TOP (S2 (_DT (DT That) (_POS (POS 's) (_WDT (WDT what) (_PRP (PRP it) (_POS (POS 's) (_PDT (PDT all) (_RB (RB about) (_IN (IN if) (_JJ (JJ only) (_NNS (NNS people) (_MD (MD would) (_BREAK (BREAK --) )))))))))))) ) )\n",
      "(TOP (S (INTJ (UH Please) ) (S|<PAUSE-VP> (PAUSE ,) (S|<VP-END> (VP (VB please) (NP (JJ good) (NNS people))) (END .)))) )\n",
      "(TOP (S (NP (PRP I) ) (S|<VP-END> (VP (VBP am) (PP (IN in) (NP (NN haste) ))) (END .))) )\n",
      "(TOP (S2 (_WP (WP Who) (_VBZ (VBZ lives) (_IN (IN in) (_DT (DT that) (_NN (NN castle) (_END (END ?) )))))) ) )\n",
      "(TOP (S (NP (DT No) (CD one)) (S|<VP-END> (VP (VBP live) (NP (EX there) )) (END .))) )\n",
      "(TOP (SBARQ (ADVP (RB Then) ) (SBARQ|<WHNP-SQ> (WHNP (WP who) ) (SBARQ|<SQ-END> (SQ (VBZ is) (NP (PRP$ your) (NN lord))) (END ?)))) )\n",
      "(TOP (S (NP (PRP We) ) (S|<VP-END> (VP (VBP do) (VP|<RB-VP> (RB n't) (VP (VBP have) (NP (DT a) (NN lord))))) (END .))) )\n",
      "(TOP (FRAG (WP What) (END ?)) )\n",
      "(TOP (S (NP (PRP I) ) (S|<VP-END> (VP (VBD told) (NP (PRP you) )) (END .))) )\n",
      "(TOP (S2 (_PRP (PRP We're) (_DT (DT an) (_NN (NN anarcho) (_BREAK (BREAK -) (_NN (NN syndicalist) (_NN (NN commune) (_END (END .) ))))))) ) )\n"
     ]
    },
    {
     "name": "stderr",
     "output_type": "stream",
     "text": [
      "#parsing: ['Please', ',', 'please', 'good', 'people', '.']\n",
      "#parsing: ['I', 'am', 'in', 'haste', '.']\n",
      "#parsing: ['Who', 'lives', 'in', 'that', 'castle', '?']\n",
      "#parsing: ['No', 'one', 'live', 'there', '.']\n",
      "#parsing: ['Then', 'who', 'is', 'your', 'lord', '?']\n",
      "#parsing: ['We', 'do', \"n't\", 'have', 'a', 'lord', '.']\n",
      "#parsing: ['What', '?']\n",
      "#parsing: ['I', 'told', 'you', '.']\n",
      "#parsing: [\"We're\", 'an', 'anarcho', '-', 'syndicalist', 'commune', '.']\n",
      "#parsing: ['We', 'take', 'it', 'in', 'turns', 'to', 'act', 'as', 'a', 'sort', 'of', 'executive', 'officer', 'for', 'the', 'week', '.']\n"
     ]
    },
    {
     "name": "stdout",
     "output_type": "stream",
     "text": [
      "(TOP (S2 (_PRP (PRP We) (_VB (VB take) (_PRP (PRP it) (_IN (IN in) (_NNS (NNS turns) (_TO (TO to) (_NN (NN act) (_IN (IN as) (_DT (DT a) (_NN (NN sort) (_IN (IN of) (_NN (NN executive) (_NN (NN officer) (_IN (IN for) (_DT (DT the) (_NN (NN week) (_END (END .) ))))))))))))))))) ) )\n",
      "(TOP (S2 (_UH (UH Yes) (_END (END .) )) ) )\n"
     ]
    },
    {
     "name": "stderr",
     "output_type": "stream",
     "text": [
      "#parsing: ['Yes', '.']\n",
      "#parsing: ['But', 'all', 'the', 'decision', 'of', 'that', 'officer', 'have', 'to', 'be', 'ratified', 'at', 'a', 'special', 'biweekly', 'meeting', '.']\n"
     ]
    },
    {
     "name": "stdout",
     "output_type": "stream",
     "text": [
      "(TOP (S2 (_CC (CC But) (_PDT (PDT all) (_DT (DT the) (_NN (NN decision) (_IN (IN of) (_DT (DT that) (_NN (NN officer) (_VBP (VBP have) (_TO (TO to) (_VB (VB be) (_VBN (VBN ratified) (_IN (IN at) (_DT (DT a) (_JJ (JJ special) (_RB (RB biweekly) (_NN (NN meeting) (_END (END .) ))))))))))))))))) ) )\n",
      "(TOP (S2 (_UH (UH Yes) (_PAUSE (PAUSE ,) (_PRP (PRP I) (_VBP (VBP see) (_END (END .) ))))) ) )\n"
     ]
    },
    {
     "name": "stderr",
     "output_type": "stream",
     "text": [
      "#parsing: ['Yes', ',', 'I', 'see', '.']\n",
      "#parsing: ['By', 'a', 'simple', 'majority', 'in', 'the', 'case', 'of', 'purely', 'internal', 'affairs', ',', '--']\n"
     ]
    },
    {
     "name": "stdout",
     "output_type": "stream",
     "text": [
      "(TOP (S2 (_IN (IN By) (_DT (DT a) (_JJ (JJ simple) (_NN (NN majority) (_IN (IN in) (_DT (DT the) (_NN (NN case) (_IN (IN of) (_RB (RB purely) (_JJ (JJ internal) (_NNS (NNS affairs) (_PAUSE (PAUSE ,) (_BREAK (BREAK --) ))))))))))))) ) )\n",
      "(TOP (S (VP (VB Be) (ADJP (JJ quiet) )) (END !)) )\n",
      "(TOP (S2 (_BREAK (BREAK --) (_CC (CC but) (_IN (IN by) (_DT (DT a) (_CD (CD two) (_BREAK (BREAK -) (_NNS (NNS thirds) (_NN (NN majority) (_IN (IN in) (_DT (DT the) (_NN (NN case) (_IN (IN of) (_RBR (RBR more) (_BREAK (BREAK --) )))))))))))))) ) )\n",
      "(TOP (S (VP (VB Be) (ADJP (JJ quiet) )) (END !)) )\n",
      "(TOP (S (NP (PRP I) ) (S|<VP-END> (VP (NN order) (S (NP (PRP you) ) (VP (TO to) (VP (VB be) (ADJP (JJ quiet) ))))) (END !))) )\n",
      "(TOP (S2 (_NN (NN Order) (_PAUSE (PAUSE ,) (_UH (UH eh) (_BREAK (BREAK --) (_WP (WP who) (_VBZ (VBZ does) (_PRP (PRP he) (_VBP (VBP think) (_PRP (PRP he) (_VBZ (VBZ is) (_END (END ?) ))))))))))) ) )\n",
      "(TOP (S (NP (PRP I) ) (S|<VP-END> (VP (VBP am) (NP (PRP$ your) (NN king))) (END !))) )\n"
     ]
    },
    {
     "name": "stderr",
     "output_type": "stream",
     "text": [
      "#parsing: ['Be', 'quiet', '!']\n",
      "#parsing: ['--', 'but', 'by', 'a', 'two', '-', 'thirds', 'majority', 'in', 'the', 'case', 'of', 'more', '--']\n",
      "#parsing: ['Be', 'quiet', '!']\n",
      "#parsing: ['I', 'order', 'you', 'to', 'be', 'quiet', '!']\n",
      "#parsing: ['Order', ',', 'eh', '--', 'who', 'does', 'he', 'think', 'he', 'is', '?']\n",
      "#parsing: ['I', 'am', 'your', 'king', '!']\n",
      "#parsing: ['Well', ',', 'I', 'did', \"n't\", 'vote', 'for', 'you', '.']\n"
     ]
    },
    {
     "name": "stdout",
     "output_type": "stream",
     "text": [
      "(TOP (S (INTJ (RB Well) ) (S|<PAUSE-NP> (PAUSE ,) (S|<NP-VP> (NP (PRP I) ) (S|<VP-END> (VP (VBD did) (VP|<RB-VP> (RB n't) (VP (NN vote) (PP (IN for) (NP (PRP you) ))))) (END .))))) )\n",
      "(TOP (S (NP (PRP You) ) (S|<VP-END> (VP (VBP do) (VP|<RB-VP> (RB n't) (VP (NN vote) (PP (IN for) (NP (NNS kings) ))))) (END .))) )\n",
      "(TOP (S2 (_RB (RB Well) (_PAUSE (PAUSE ,) (_QUOTE (QUOTE ') (_UT (UT ow) (_VBD (VBD did) (_PRP (PRP you) (_VB (VB become) (_NN (NN king) (_RB (RB then) (_END (END ?) )))))))))) ) )\n",
      "(TOP (NP (NP (DT The) (NN Lady)) (NP|<PP-PAUSE> (PP (IN of) (NP (DT the) (NNP Lake))) (PAUSE ,))) )\n"
     ]
    },
    {
     "name": "stderr",
     "output_type": "stream",
     "text": [
      "#parsing: ['You', 'do', \"n't\", 'vote', 'for', 'kings', '.']\n",
      "#parsing: ['Well', ',', \"'\", 'ow', 'did', 'you', 'become', 'king', 'then', '?']\n",
      "#parsing: ['The', 'Lady', 'of', 'the', 'Lake', ',']\n",
      "#parsing: ['her', 'arm', 'clad', 'in', 'the', 'purest', 'shimmering', 'samite', ',', 'held', 'aloft', 'Excalibur', 'from', 'the', 'bosom', 'of', 'the', 'water', 'signifying', 'by', 'Divine', 'Providence', 'that', 'I', ',', 'Arthur', ',', 'was', 'to', 'carry', 'Excalibur', '.']\n"
     ]
    },
    {
     "name": "stdout",
     "output_type": "stream",
     "text": [
      "(TOP (S2 (_PRP$ (PRP$ her) (_NN (NN arm) (_VBN (VBN clad) (_IN (IN in) (_DT (DT the) (_JJS (JJS purest) (_JJ (JJ shimmering) (_NN (NN samite) (_PAUSE (PAUSE ,) (_VBN (VBN held) (_RB (RB aloft) (_NNP (NNP Excalibur) (_IN (IN from) (_DT (DT the) (_NN (NN bosom) (_IN (IN of) (_DT (DT the) (_NN (NN water) (_VBG (VBG signifying) (_IN (IN by) (_NNP (NNP Divine) (_NNP (NNP Providence) (_IN (IN that) (_PRP (PRP I) (_PAUSE (PAUSE ,) (_NNP (NNP Arthur) (_PAUSE (PAUSE ,) (_VBD (VBD was) (_TO (TO to) (_VB (VB carry) (_NNP (NNP Excalibur) (_END (END .) )))))))))))))))))))))))))))))))) ) )\n",
      "(TOP (S2 (_DT (DT That) (_VBZ (VBZ is) (_WRB (WRB why) (_PRP (PRP I) (_VBP (VBP am) (_PRP$ (PRP$ your) (_NN (NN king) (_END (END !) )))))))) ) )\n"
     ]
    },
    {
     "name": "stderr",
     "output_type": "stream",
     "text": [
      "#parsing: ['That', 'is', 'why', 'I', 'am', 'your', 'king', '!']\n",
      "#parsing: ['Listen', '--', 'strange', 'women', 'lying', 'in', 'ponds', 'distributing', 'swords', 'is', 'no', 'basis', 'for', 'a', 'system', 'of', 'government', '.']\n"
     ]
    },
    {
     "name": "stdout",
     "output_type": "stream",
     "text": [
      "(TOP (S2 (_VB (VB Listen) (_BREAK (BREAK --) (_JJ (JJ strange) (_NNS (NNS women) (_VBG (VBG lying) (_IN (IN in) (_NNS (NNS ponds) (_VBG (VBG distributing) (_NNS (NNS swords) (_VBZ (VBZ is) (_DT (DT no) (_NN (NN basis) (_IN (IN for) (_DT (DT a) (_NN (NN system) (_IN (IN of) (_NN (NN government) (_END (END .) )))))))))))))))))) ) )\n"
     ]
    },
    {
     "name": "stderr",
     "output_type": "stream",
     "text": [
      "#parsing: ['Supreme', 'executive', 'power', 'derives', 'from', 'a', 'mandate', 'from', 'the', 'masses', ',', 'not', 'from', 'some', 'farcical', 'aquatic', 'ceremony', '.']\n"
     ]
    },
    {
     "name": "stdout",
     "output_type": "stream",
     "text": [
      "(TOP (S (NP (NNP Supreme) (NP|<NN-NN> (NN executive) (NN power))) (S|<VP-END> (VP (VBZ derives) (PP (PP (IN from) (NP (NP (DT a) (NN mandate)) (PP (IN from) (NP (DT the) (NNS masses))))) (PP|<PAUSE-RB> (PAUSE ,) (PP|<RB-PP> (RB not) (PP (IN from) (NP (DT some) (NP|<JJ-JJ> (JJ farcical) (NP|<JJ-NN> (JJ aquatic) (NN ceremony))))))))) (END .))) )\n",
      "(TOP (S (VP (VB Be) (ADJP (JJ quiet) )) (END !)) )\n"
     ]
    },
    {
     "name": "stderr",
     "output_type": "stream",
     "text": [
      "#parsing: ['Be', 'quiet', '!']\n",
      "#parsing: ['Well', 'you', \"can't\", 'expect', 'to', 'wield', 'supreme', 'executive', 'power', 'just', \"'\", 'cause', 'some', 'watery', 'tart', 'threw', 'a', 'sword', 'at', 'you', '!']\n"
     ]
    },
    {
     "name": "stdout",
     "output_type": "stream",
     "text": [
      "(TOP (S2 (_RB (RB Well) (_PRP (PRP you) (_MD (MD can't) (_VB (VB expect) (_TO (TO to) (_VB (VB wield) (_NN (NN supreme) (_NN (NN executive) (_NN (NN power) (_RB (RB just) (_QUOTE (QUOTE ') (_NN (NN cause) (_DT (DT some) (_JJ (JJ watery) (_JJ (JJ tart) (_VBD (VBD threw) (_DT (DT a) (_NN (NN sword) (_IN (IN at) (_PRP (PRP you) (_END (END !) ))))))))))))))))))))) ) )\n",
      "(TOP (S2 (_VB (VB Shut) (_RP (RP up) (_END (END !) ))) ) )\n"
     ]
    },
    {
     "name": "stderr",
     "output_type": "stream",
     "text": [
      "#parsing: ['Shut', 'up', '!']\n",
      "#parsing: ['I', 'mean', ',', 'if', 'I', 'went', 'around', 'sayin', \"'\", 'I', 'was', 'an', 'empereror', 'just', 'because', 'some', 'moistened', 'bint', 'had', 'lobbed', 'a', 'scimitar', 'at', 'me', 'they', \"'d\", 'put', 'me', 'away', '!']\n"
     ]
    },
    {
     "name": "stdout",
     "output_type": "stream",
     "text": [
      "(TOP (S2 (_PRP (PRP I) (_VBP (VBP mean) (_PAUSE (PAUSE ,) (_IN (IN if) (_PRP (PRP I) (_VBD (VBD went) (_IN (IN around) (_NN (NN sayin) (_QUOTE (QUOTE ') (_PRP (PRP I) (_VBD (VBD was) (_DT (DT an) (_NN (NN empereror) (_RB (RB just) (_IN (IN because) (_DT (DT some) (_VBN (VBN moistened) (_NN (NN bint) (_VBD (VBD had) (_VBN (VBN lobbed) (_DT (DT a) (_NN (NN scimitar) (_IN (IN at) (_PRP (PRP me) (_PRP (PRP they) (_MD (MD 'd) (_VBP (VBP put) (_PRP (PRP me) (_RB (RB away) (_END (END !) )))))))))))))))))))))))))))))) ) )\n",
      "(TOP (S2 (_VB (VB Shut) (_RP (RP up) (_END (END !) ))) ) )\n",
      "(TOP (SQ (MD Will) (SQ|<NP-VP> (NP (PRP you) ) (SQ|<VP-END> (VP (VBD shut) (PRT (RP up) )) (END !)))) )\n"
     ]
    },
    {
     "name": "stderr",
     "output_type": "stream",
     "text": [
      "#parsing: ['Shut', 'up', '!']\n",
      "#parsing: ['Will', 'you', 'shut', 'up', '!']\n",
      "#parsing: ['Ah', ',', 'now', 'we', 'see', 'the', 'violence', 'inherent', 'in', 'the', 'system', '.']\n"
     ]
    },
    {
     "name": "stdout",
     "output_type": "stream",
     "text": [
      "(TOP (S2 (_UT (UT Ah) (_PAUSE (PAUSE ,) (_RB (RB now) (_PRP (PRP we) (_VBP (VBP see) (_DT (DT the) (_NN (NN violence) (_JJ (JJ inherent) (_IN (IN in) (_DT (DT the) (_NN (NN system) (_END (END .) )))))))))))) ) )\n",
      "(TOP (S2 (_VB (VB Shut) (_RP (RP up) (_END (END !) ))) ) )\n",
      "(TOP (S2 (_UH (UH Oh) (_END (END !) )) ) )\n",
      "(TOP (S (VP (VP (VB Come) ) (VP|<CC-VP> (CC and) (VP (VBP see) (VP|<NP-ADJP> (NP (DT the) (NN violence)) (VP|<ADJP-PP> (ADJP (JJ inherent) ) (PP (IN in) (NP (DT the) (NN system)))))))) (END !)) )\n",
      "(TOP (NP (NN HELP) (END !)) )\n",
      "(TOP (S2 (_PRP (PRP I'm) (_VBG (VBG being) (_VBN (VBN repressed) (_END (END !) )))) ) )\n",
      "(TOP (S2 (_JJ (JJ Bloody) (_NN (NN peasant) (_END (END !) ))) ) )\n",
      "(TOP (S2 (_UH (UH Oh) (_PAUSE (PAUSE ,) (_WDT (WDT what) (_DT (DT a) (_VB (VB give) (_RB (RB away) (_END (END .) ))))))) ) )\n"
     ]
    },
    {
     "name": "stderr",
     "output_type": "stream",
     "text": [
      "#parsing: ['Shut', 'up', '!']\n",
      "#parsing: ['Oh', '!']\n",
      "#parsing: ['Come', 'and', 'see', 'the', 'violence', 'inherent', 'in', 'the', 'system', '!']\n",
      "#parsing: ['HELP', '!']\n",
      "#parsing: [\"I'm\", 'being', 'repressed', '!']\n",
      "#parsing: ['Bloody', 'peasant', '!']\n",
      "#parsing: ['Oh', ',', 'what', 'a', 'give', 'away', '.']\n",
      "#parsing: ['Did', 'you', 'here', 'that', ',', 'did', 'you', 'here', 'that', ',', 'eh', '?']\n"
     ]
    },
    {
     "name": "stdout",
     "output_type": "stream",
     "text": [
      "(TOP (S2 (_VBD (VBD Did) (_PRP (PRP you) (_RB (RB here) (_DT (DT that) (_PAUSE (PAUSE ,) (_VBD (VBD did) (_PRP (PRP you) (_RB (RB here) (_DT (DT that) (_PAUSE (PAUSE ,) (_UH (UH eh) (_END (END ?) )))))))))))) ) )\n"
     ]
    },
    {
     "name": "stderr",
     "output_type": "stream",
     "text": [
      "#parsing: ['That', \"'s\", 'what', \"I'm\", 'on', 'about', '--', 'did', 'you', 'see', 'him', 'repressing', 'me', ',', 'you', 'saw', 'it', 'did', \"n't\", 'you', '?']\n"
     ]
    },
    {
     "name": "stdout",
     "output_type": "stream",
     "text": [
      "(TOP (S2 (_DT (DT That) (_POS (POS 's) (_WDT (WDT what) (_PRP (PRP I'm) (_RP (RP on) (_IN (IN about) (_BREAK (BREAK --) (_VBD (VBD did) (_PRP (PRP you) (_VBP (VBP see) (_PRP (PRP him) (_VBG (VBG repressing) (_PRP (PRP me) (_PAUSE (PAUSE ,) (_PRP (PRP you) (_NN (NN saw) (_PRP (PRP it) (_VBD (VBD did) (_RB (RB n't) (_PRP (PRP you) (_END (END ?) ))))))))))))))))))))) ) )\n"
     ]
    },
    {
     "name": "stderr",
     "output_type": "stream",
     "text": [
      "#parsing: ['You', 'fight', 'with', 'the', 'strength', 'of', 'many', 'men', ',', 'Sir', 'knight', '.']\n"
     ]
    },
    {
     "name": "stdout",
     "output_type": "stream",
     "text": [
      "(TOP (S2 (_PRP (PRP You) (_NN (NN fight) (_IN (IN with) (_DT (DT the) (_NN (NN strength) (_IN (IN of) (_JJ (JJ many) (_NNS (NNS men) (_PAUSE (PAUSE ,) (_NNP (NNP Sir) (_NN (NN knight) (_END (END .) )))))))))))) ) )\n",
      "(TOP (S2 (_PRP (PRP I) (_VBP (VBP am) (_NNP (NNP Arthur) (_PAUSE (PAUSE ,) (_NNP (NNP King) (_IN (IN of) (_DT (DT the) (_NNPS (NNPS Britons) (_END (END .) ))))))))) ) )\n"
     ]
    },
    {
     "name": "stderr",
     "output_type": "stream",
     "text": [
      "#parsing: ['I', 'am', 'Arthur', ',', 'King', 'of', 'the', 'Britons', '.']\n",
      "#parsing: ['I', 'seek', 'the', 'finest', 'and', 'the', 'bravest', 'knights', 'in', 'the', 'land', 'to', 'join', 'me', 'in', 'my', 'Court', 'of', 'Camelot', '.']\n"
     ]
    },
    {
     "name": "stdout",
     "output_type": "stream",
     "text": [
      "(TOP (S2 (_PRP (PRP I) (_VBP (VBP seek) (_DT (DT the) (_JJS (JJS finest) (_CC (CC and) (_DT (DT the) (_JJS (JJS bravest) (_NNS (NNS knights) (_IN (IN in) (_DT (DT the) (_NN (NN land) (_TO (TO to) (_VB (VB join) (_PRP (PRP me) (_IN (IN in) (_PRP$ (PRP$ my) (_NNP (NNP Court) (_IN (IN of) (_NNP (NNP Camelot) (_END (END .) )))))))))))))))))))) ) )\n",
      "(TOP (S2 (_PRP (PRP You) (_VBP (VBP have) (_VBN (VBN proved) (_PRP (PRP yourself) (_JJ (JJ worthy) (_BREAK (BREAK ;) (_MD (MD will) (_PRP (PRP you) (_VB (VB join) (_PRP (PRP me) (_END (END ?) ))))))))))) ) )\n",
      "(TOP (S2 (_PRP (PRP You) (_VB (VB make) (_PRP (PRP me) (_JJ (JJ sad) (_END (END .) ))))) ) )\n",
      "(TOP (S (RB So) (S|<VP-END> (VP (VB be) (NP (PRP it) )) (END .))) )\n",
      "(TOP (FRAG (INTJ (VB Come) ) (FRAG|<PAUSE-INTJ> (PAUSE ,) (FRAG|<INTJ-END> (INTJ (NNP Patsy) ) (END .)))) )\n",
      "(TOP (S (NP (NN None) ) (S|<VP-END> (VP (MD shall) (VP (VB pass) )) (END .))) )\n",
      "(TOP (FRAG (WP What) (END ?)) )\n",
      "(TOP (S (NP (NN None) ) (S|<VP-END> (VP (MD shall) (VP (VB pass) )) (END .))) )\n"
     ]
    },
    {
     "name": "stderr",
     "output_type": "stream",
     "text": [
      "#parsing: ['You', 'have', 'proved', 'yourself', 'worthy', ';', 'will', 'you', 'join', 'me', '?']\n",
      "#parsing: ['You', 'make', 'me', 'sad', '.']\n",
      "#parsing: ['So', 'be', 'it', '.']\n",
      "#parsing: ['Come', ',', 'Patsy', '.']\n",
      "#parsing: ['None', 'shall', 'pass', '.']\n",
      "#parsing: ['What', '?']\n",
      "#parsing: ['None', 'shall', 'pass', '.']\n",
      "#parsing: ['I', 'have', 'no', 'quarrel', 'with', 'you', ',', 'good', 'Sir', 'knight', ',', 'but', 'I', 'must', 'cross', 'this', 'bridge', '.']\n"
     ]
    },
    {
     "name": "stdout",
     "output_type": "stream",
     "text": [
      "(TOP (S (S (NP (PRP I) ) (VP (VBP have) (VP|<RB-VP> (RB no) (VP (VB quarrel) (PP (IN with) (NP (NP (PRP you) ) (NP|<PAUSE-NP> (PAUSE ,) (NP (JJ good) (NP|<NNP-NN> (NNP Sir) (NN knight)))))))))) (S|<PAUSE-CC> (PAUSE ,) (S|<CC-PRP> (CC but) (S|<PRP-VP> (PRP I) (S|<VP-END> (VP (MD must) (VP (VB cross) (NP (DT this) (NN bridge)))) (END .)))))) )\n",
      "(TOP (S (ADVP (RB Then) ) (S|<NP-VP> (NP (PRP you) ) (S|<VP-END> (VP (MD shall) (VP (VB die) )) (END .)))) )\n"
     ]
    },
    {
     "name": "stderr",
     "output_type": "stream",
     "text": [
      "#parsing: ['Then', 'you', 'shall', 'die', '.']\n",
      "#parsing: ['I', 'command', 'you', 'as', 'King', 'of', 'the', 'Britons', 'to', 'stand', 'aside', '!']\n"
     ]
    },
    {
     "name": "stdout",
     "output_type": "stream",
     "text": [
      "(TOP (S2 (_PRP (PRP I) (_VBP (VBP command) (_PRP (PRP you) (_IN (IN as) (_NNP (NNP King) (_IN (IN of) (_DT (DT the) (_NNPS (NNPS Britons) (_TO (TO to) (_VB (VB stand) (_RB (RB aside) (_END (END !) )))))))))))) ) )\n",
      "(TOP (S (NP (PRP I) ) (S|<VP-END> (VP (NN move) (PP (IN for) (NP (DT no) (NN man)))) (END .))) )\n",
      "(TOP (S (RB So) (S|<VP-END> (VP (VB be) (NP (PRP it) )) (END !))) )\n",
      "(TOP (S2 (_RB (RB Now) (_VB (VB stand) (_RB (RB aside) (_PAUSE (PAUSE ,) (_JJ (JJ worthy) (_NN (NN adversary) (_END (END .) ))))))) ) )\n",
      "(TOP (S2 (_QUOTE (QUOTE ') (_NNP (NNP Tis) (_CC (CC but) (_DT (DT a) (_NN (NN scratch) (_END (END .) )))))) ) )\n",
      "(TOP (S2 (_DT (DT A) (_NN (NN scratch) (_END (END ?) ))) ) )\n",
      "(TOP (S (NP (PRP$ Your) (NN arm)) (S|<VP-END> (VP (VBZ 's) (ADVP (RP off) )) (END !))) )\n",
      "(TOP (S (INTJ (UH No) ) (S|<PAUSE-NP> (PAUSE ,) (S|<NP-VP> (NP (PRP it) ) (S|<VP-END> (VP (VBZ is) (ADVP (RB n't) )) (END .))))) )\n",
      "(TOP (SBARQ (INTJ (RB Well) ) (SBARQ|<PAUSE-WHNP> (PAUSE ,) (SBARQ|<WHNP-SQ> (WHNP (WP what) ) (SBARQ|<SQ-END> (SQ (VBZ 's) (SQ|<NP-ADVP> (NP (DT that) ) (ADVP (RB then) ))) (END ?))))) )\n",
      "(TOP (S2 (_PRP (PRP I've) (_VBD (VBD had) (_JJR (JJR worse) (_END (END .) )))) ) )\n",
      "(TOP (S (NP (PRP You) ) (S|<VP-END> (VP (NN liar) ) (END !))) )\n",
      "(TOP (S2 (_VB (VB Come) (_IN (IN on) (_PRP (PRP you) (_NN (NN pansy) (_END (END !) ))))) ) )\n",
      "(TOP (S (NP (NNP Victory) ) (S|<VP-END> (VP (VBZ is) (NP (NN mine) )) (END !))) )\n"
     ]
    },
    {
     "name": "stderr",
     "output_type": "stream",
     "text": [
      "#parsing: ['I', 'move', 'for', 'no', 'man', '.']\n",
      "#parsing: ['So', 'be', 'it', '!']\n",
      "#parsing: ['Now', 'stand', 'aside', ',', 'worthy', 'adversary', '.']\n",
      "#parsing: [\"'\", 'Tis', 'but', 'a', 'scratch', '.']\n",
      "#parsing: ['A', 'scratch', '?']\n",
      "#parsing: ['Your', 'arm', \"'s\", 'off', '!']\n",
      "#parsing: ['No', ',', 'it', 'is', \"n't\", '.']\n",
      "#parsing: ['Well', ',', 'what', \"'s\", 'that', 'then', '?']\n",
      "#parsing: [\"I've\", 'had', 'worse', '.']\n",
      "#parsing: ['You', 'liar', '!']\n",
      "#parsing: ['Come', 'on', 'you', 'pansy', '!']\n",
      "#parsing: ['Victory', 'is', 'mine', '!']\n",
      "#parsing: ['We', 'thank', 'thee', 'Lord', ',', 'that', 'in', 'thy', 'merc', '-']\n"
     ]
    },
    {
     "name": "stdout",
     "output_type": "stream",
     "text": [
      "(TOP (S2 (_PRP (PRP We) (_VB (VB thank) (_PRP (PRP thee) (_NNP (NNP Lord) (_PAUSE (PAUSE ,) (_WDT (WDT that) (_IN (IN in) (_PRP$ (PRP$ thy) (_NN (NN merc) (_BREAK (BREAK -) )))))))))) ) )\n",
      "(TOP (S2 (_VB (VB Come) (_IN (IN on) (_RB (RB then) (_END (END .) )))) ) )\n",
      "(TOP (FRAG (WP What) (END ?)) )\n",
      "(TOP (S (VP (VBP Have) (PP (IN at) (NP (PRP you) ))) (END !)) )\n"
     ]
    },
    {
     "name": "stderr",
     "output_type": "stream",
     "text": [
      "#parsing: ['Come', 'on', 'then', '.']\n",
      "#parsing: ['What', '?']\n",
      "#parsing: ['Have', 'at', 'you', '!']\n",
      "#parsing: ['You', 'are', 'indeed', 'brave', ',', 'Sir', 'knight', ',', 'but', 'the', 'fight', 'is', 'mine', '.']\n"
     ]
    },
    {
     "name": "stdout",
     "output_type": "stream",
     "text": [
      "(TOP (S2 (_PRP (PRP You) (_VBP (VBP are) (_RB (RB indeed) (_VBP (VBP brave) (_PAUSE (PAUSE ,) (_NNP (NNP Sir) (_NN (NN knight) (_PAUSE (PAUSE ,) (_CC (CC but) (_DT (DT the) (_NN (NN fight) (_VBZ (VBZ is) (_NN (NN mine) (_END (END .) )))))))))))))) ) )\n",
      "(TOP (S (INTJ (UH Oh) ) (S|<PAUSE-VP> (PAUSE ,) (S|<VP-END> (VP (VBD had) (VP|<RB-PAUSE> (RB enough) (VP|<PAUSE-INTJ> (PAUSE ,) (INTJ (UH eh) )))) (END ?)))) )\n"
     ]
    },
    {
     "name": "stderr",
     "output_type": "stream",
     "text": [
      "#parsing: ['Oh', ',', 'had', 'enough', ',', 'eh', '?']\n",
      "#parsing: ['Look', ',', 'you', 'stupid', 'bastard', ',', 'you', \"'ve\", 'got', 'no', 'arms', 'left', '.']\n"
     ]
    },
    {
     "name": "stdout",
     "output_type": "stream",
     "text": [
      "(TOP (S2 (_VB (VB Look) (_PAUSE (PAUSE ,) (_PRP (PRP you) (_JJ (JJ stupid) (_NN (NN bastard) (_PAUSE (PAUSE ,) (_PRP (PRP you) (_VBP (VBP 've) (_VBN (VBN got) (_DT (DT no) (_NNS (NNS arms) (_RB (RB left) (_END (END .) ))))))))))))) ) )\n",
      "(TOP (S2 (_UH (UH Yes) (_PRP (PRP I) (_VBP (VBP have) (_END (END .) )))) ) )\n",
      "(TOP (S (VP (VB Look) ) (END !)) )\n",
      "(TOP (S (ADVP (RB Just) ) (S|<NP-VP> (NP (DT a) (NN flesh)) (S|<VP-END> (VP (NN wound) ) (END .)))) )\n",
      "(TOP (S2 (_VB (VB Look) (_PAUSE (PAUSE ,) (_VB (VB stop) (_WDT (WDT that) (_END (END .) ))))) ) )\n",
      "(TOP (NP (NN Chicken) (END !)) )\n",
      "(TOP (S2 (_VB (VB Look) (_PAUSE (PAUSE ,) (_PRP (PRP I) (_MD (MD 'll) (_VB (VB have) (_PRP$ (PRP$ your) (_NN (NN leg) (_END (END .) )))))))) ) )\n",
      "(TOP (S2 (_RB (RB Right) (_END (END !) )) ) )\n",
      "(TOP (S (INTJ (RB Right) ) (S|<PAUSE-NP> (PAUSE ,) (S|<NP-VP> (NP (PRP I) ) (S|<VP-END> (VP (MD 'll) (VP (VB do) (VP|<NP-PP> (NP (PRP you) ) (PP (IN for) (NP (DT that) ))))) (END !))))) )\n",
      "(TOP (S2 (_PRP (PRP You) (_MD (MD 'll) (_WP (WP what) (_END (END ?) )))) ) )\n",
      "(TOP (S2 (_VB (VB Come) (_QUOTE (QUOTE ') (_NN (NN ere) (_END (END !) )))) ) )\n"
     ]
    },
    {
     "name": "stderr",
     "output_type": "stream",
     "text": [
      "#parsing: ['Yes', 'I', 'have', '.']\n",
      "#parsing: ['Look', '!']\n",
      "#parsing: ['Just', 'a', 'flesh', 'wound', '.']\n",
      "#parsing: ['Look', ',', 'stop', 'that', '.']\n",
      "#parsing: ['Chicken', '!']\n",
      "#parsing: ['Look', ',', 'I', \"'ll\", 'have', 'your', 'leg', '.']\n",
      "#parsing: ['Right', '!']\n",
      "#parsing: ['Right', ',', 'I', \"'ll\", 'do', 'you', 'for', 'that', '!']\n",
      "#parsing: ['You', \"'ll\", 'what', '?']\n",
      "#parsing: ['Come', \"'\", 'ere', '!']\n",
      "#parsing: ['What', 'are', 'you', 'going', 'to', 'do', ',', 'bleed', 'on', 'me', '?']\n"
     ]
    },
    {
     "name": "stdout",
     "output_type": "stream",
     "text": [
      "(TOP (SBARQ (WHNP (WP What) ) (SBARQ|<SQ-END> (SQ (VBP are) (SQ|<NP-VP> (NP (PRP you) ) (VP (VBG going) (VP (TO to) (VP (VBP do) (VP|<PAUSE-S> (PAUSE ,) (S (VP (VB bleed) (PP (IN on) (NP (PRP me) ))) ))))))) (END ?))) )\n",
      "(TOP (S2 (_PRP (PRP I'm) (_JJ (JJ invincible) (_END (END !) ))) ) )\n",
      "(TOP (S2 (_PRP (PRP You're) (_DT (DT a) (_JJ (JJ loony) (_END (END .) )))) ) )\n",
      "(TOP (S (NP (DT The) (NP|<NNP-NNP> (NNP Black) (NNP Knight))) (S|<ADVP-VP> (ADVP (RB always) ) (S|<VP-END> (VP (NNS triumphs) ) (END !)))) )\n",
      "(TOP (S (VP (VBP Have) (PP (IN at) (NP (PRP you) ))) (END !)) )\n",
      "(TOP (S2 (_VB (VB Come) (_IN (IN on) (_RB (RB then) (_END (END .) )))) ) )\n",
      "(TOP (S2 (_PDT (PDT All) (_JJ (JJ right) (_BREAK (BREAK ;) (_PRP (PRP we) (_MD (MD 'll) (_VB (VB call) (_PRP (PRP it) (_DT (DT a) (_NN (NN draw) (_END (END .) )))))))))) ) )\n",
      "(TOP (FRAG (INTJ (VB Come) ) (FRAG|<PAUSE-INTJ> (PAUSE ,) (FRAG|<INTJ-END> (INTJ (NNP Patsy) ) (END .)))) )\n"
     ]
    },
    {
     "name": "stderr",
     "output_type": "stream",
     "text": [
      "#parsing: [\"I'm\", 'invincible', '!']\n",
      "#parsing: [\"You're\", 'a', 'loony', '.']\n",
      "#parsing: ['The', 'Black', 'Knight', 'always', 'triumphs', '!']\n",
      "#parsing: ['Have', 'at', 'you', '!']\n",
      "#parsing: ['Come', 'on', 'then', '.']\n",
      "#parsing: ['All', 'right', ';', 'we', \"'ll\", 'call', 'it', 'a', 'draw', '.']\n",
      "#parsing: ['Come', ',', 'Patsy', '.']\n",
      "#parsing: ['Oh', ',', 'oh', ',', 'I', 'see', ',', 'running', 'away', 'then', '.']\n"
     ]
    },
    {
     "name": "stdout",
     "output_type": "stream",
     "text": [
      "(TOP (S2 (_UH (UH Oh) (_PAUSE (PAUSE ,) (_UH (UH oh) (_PAUSE (PAUSE ,) (_PRP (PRP I) (_VBP (VBP see) (_PAUSE (PAUSE ,) (_VBG (VBG running) (_RB (RB away) (_RB (RB then) (_END (END .) ))))))))))) ) )\n",
      "(TOP (S2 (_PRP (PRP You) (_JJ (JJ yellow) (_NNS (NNS bastards) (_END (END !) )))) ) )\n",
      "(TOP (S2 (_VB (VB Come) (_RB (RB back) (_RB (RB here) (_CC (CC and) (_VB (VB take) (_WDT (WDT what) (_POS (POS 's) (_VBG (VBG coming) (_TO (TO to) (_PRP (PRP you) (_END (END .) ))))))))))) ) )\n",
      "(TOP (S (NP (PRP I) ) (S|<VP-END> (VP (MD 'll) (VP (VB bite) (VP|<NP-PRT> (NP (PRP$ your) (NNS legs)) (PRT (RP off) )))) (END !))) )\n",
      "(TOP (S2 (_DT (DT A) (_NN (NN witch) (_END (END !) ))) ) )\n",
      "(TOP (S (NP (PRP We've) ) (S|<VP-END> (VP (VBD got) (NP (DT a) (NN witch))) (END !))) )\n",
      "(TOP (S2 (_DT (DT A) (_NN (NN witch) (_END (END !) ))) ) )\n"
     ]
    },
    {
     "name": "stderr",
     "output_type": "stream",
     "text": [
      "#parsing: ['You', 'yellow', 'bastards', '!']\n",
      "#parsing: ['Come', 'back', 'here', 'and', 'take', 'what', \"'s\", 'coming', 'to', 'you', '.']\n",
      "#parsing: ['I', \"'ll\", 'bite', 'your', 'legs', 'off', '!']\n",
      "#parsing: ['A', 'witch', '!']\n",
      "#parsing: [\"We've\", 'got', 'a', 'witch', '!']\n",
      "#parsing: ['A', 'witch', '!']\n",
      "#parsing: ['We', 'have', 'found', 'a', 'witch', ',', 'might', 'we', 'burn', 'her', '?']\n"
     ]
    },
    {
     "name": "stdout",
     "output_type": "stream",
     "text": [
      "(TOP (S2 (_PRP (PRP We) (_VBP (VBP have) (_VBN (VBN found) (_DT (DT a) (_NN (NN witch) (_PAUSE (PAUSE ,) (_MD (MD might) (_PRP (PRP we) (_VBP (VBP burn) (_PRP$ (PRP$ her) (_END (END ?) ))))))))))) ) )\n",
      "(TOP (S (VP (VB Burn) (NP (PRP her) )) (END !)) )\n",
      "(TOP (S (VP (VB Burn) ) (END !)) )\n",
      "(TOP (S2 (_WRB (WRB How) (_VBP (VBP do) (_PRP (PRP you) (_VBP (VBP know) (_PRP (PRP she) (_VBZ (VBZ is) (_DT (DT a) (_NN (NN witch) (_END (END ?) ))))))))) ) )\n",
      "(TOP (S (NP (PRP She) ) (S|<VP-END> (VP (VBZ looks) (PP (IN like) (NP (CD one) ))) (END .))) )\n",
      "(TOP (S (VP (VB Bring) (VP|<NP-ADVP> (NP (PRP her) ) (ADVP (RB forward) ))) (END .)) )\n",
      "(TOP (S2 (_PRP (PRP I'm) (_RB (RB not) (_DT (DT a) (_NN (NN witch) (_END (END .) ))))) ) )\n",
      "(TOP (S2 (_CC (CC But) (_PRP (PRP you) (_VBP (VBP are) (_VBN (VBN dressed) (_IN (IN as) (_CD (CD one) (_END (END .) ))))))) ) )\n",
      "(TOP (S2 (_PRP (PRP They) (_VBN (VBN dressed) (_PRP (PRP me) (_RP (RP up) (_IN (IN like) (_DT (DT this) (_END (END .) ))))))) ) )\n",
      "(TOP (S2 (_UH (UH No) (_PAUSE (PAUSE ,) (_PRP (PRP we) (_VBD (VBD did) (_RB (RB n't) (_BREAK (BREAK ...) (_DT (DT no) (_END (END .) )))))))) ) )\n"
     ]
    },
    {
     "name": "stderr",
     "output_type": "stream",
     "text": [
      "#parsing: ['Burn', 'her', '!']\n",
      "#parsing: ['Burn', '!']\n",
      "#parsing: ['How', 'do', 'you', 'know', 'she', 'is', 'a', 'witch', '?']\n",
      "#parsing: ['She', 'looks', 'like', 'one', '.']\n",
      "#parsing: ['Bring', 'her', 'forward', '.']\n",
      "#parsing: [\"I'm\", 'not', 'a', 'witch', '.']\n",
      "#parsing: ['But', 'you', 'are', 'dressed', 'as', 'one', '.']\n",
      "#parsing: ['They', 'dressed', 'me', 'up', 'like', 'this', '.']\n",
      "#parsing: ['No', ',', 'we', 'did', \"n't\", '...', 'no', '.']\n",
      "#parsing: ['And', 'this', 'is', \"n't\", 'my', 'nose', ',', 'it', \"'s\", 'a', 'false', 'one', '.']\n"
     ]
    },
    {
     "name": "stdout",
     "output_type": "stream",
     "text": [
      "(TOP (S2 (_CC (CC And) (_DT (DT this) (_VBZ (VBZ is) (_RB (RB n't) (_PRP$ (PRP$ my) (_NN (NN nose) (_PAUSE (PAUSE ,) (_PRP (PRP it) (_POS (POS 's) (_DT (DT a) (_JJ (JJ false) (_CD (CD one) (_END (END .) ))))))))))))) ) )\n",
      "(TOP (S2 (_RB (RB Well) (_END (END ?) )) ) )\n",
      "(TOP (S (INTJ (RB Well) ) (S|<PAUSE-NP> (PAUSE ,) (S|<NP-VP> (NP (PRP we) ) (S|<VP-END> (VP (VBD did) (VP (VBP do) (NP (DT the) (NN nose)))) (END .))))) )\n",
      "(TOP (S2 (_DT (DT The) (_NN (NN nose) (_END (END ?) ))) ) )\n",
      "(TOP (S2 (_CC (CC And) (_DT (DT the) (_NN (NN hat) (_BREAK (BREAK --) (_CC (CC but) (_PRP (PRP she) (_VBZ (VBZ is) (_DT (DT a) (_NN (NN witch) (_END (END !) )))))))))) ) )\n",
      "(TOP (S (VP (VB Burn) (NP (PRP her) )) (END !)) )\n",
      "(TOP (NP (NN Witch) (END !)) )\n",
      "(TOP (S (VP (VB Burn) (NP (PRP her) )) (END !)) )\n",
      "(TOP (S2 (_VBD (VBD Did) (_PRP (PRP you) (_NN (NN dress) (_PRP$ (PRP$ her) (_RP (RP up) (_IN (IN like) (_DT (DT this) (_END (END ?) )))))))) ) )\n",
      "(TOP (S2 (_UH (UH No) (_PAUSE (PAUSE ,) (_DT (DT no) (_BREAK (BREAK ...) )))) ) )\n",
      "(TOP (S2 (_DT (DT no) (_BREAK (BREAK ...) (_UH (UH yes) (_END (END .) )))) ) )\n"
     ]
    },
    {
     "name": "stderr",
     "output_type": "stream",
     "text": [
      "#parsing: ['Well', '?']\n",
      "#parsing: ['Well', ',', 'we', 'did', 'do', 'the', 'nose', '.']\n",
      "#parsing: ['The', 'nose', '?']\n",
      "#parsing: ['And', 'the', 'hat', '--', 'but', 'she', 'is', 'a', 'witch', '!']\n",
      "#parsing: ['Burn', 'her', '!']\n",
      "#parsing: ['Witch', '!']\n",
      "#parsing: ['Burn', 'her', '!']\n",
      "#parsing: ['Did', 'you', 'dress', 'her', 'up', 'like', 'this', '?']\n",
      "#parsing: ['No', ',', 'no', '...']\n",
      "#parsing: ['no', '...', 'yes', '.']\n",
      "#parsing: ['Yes', ',', 'yes', ',', 'a', 'bit', ',', 'a', 'bit', '.']\n"
     ]
    },
    {
     "name": "stdout",
     "output_type": "stream",
     "text": [
      "(TOP (S2 (_UH (UH Yes) (_PAUSE (PAUSE ,) (_UH (UH yes) (_PAUSE (PAUSE ,) (_DT (DT a) (_NN (NN bit) (_PAUSE (PAUSE ,) (_DT (DT a) (_NN (NN bit) (_END (END .) )))))))))) ) )\n",
      "(TOP (S2 (_PRP (PRP She) (_VBZ (VBZ has) (_VBD (VBD got) (_DT (DT a) (_NN (NN wart) (_END (END .) )))))) ) )\n",
      "(TOP (S2 (_WP (WP What) (_NNS (NNS makes) (_PRP (PRP you) (_VBP (VBP think) (_PRP (PRP she) (_VBZ (VBZ is) (_DT (DT a) (_NN (NN witch) (_END (END ?) ))))))))) ) )\n",
      "(TOP (S (INTJ (RB Well) ) (S|<PAUSE-NP> (PAUSE ,) (S|<NP-VP> (NP (PRP she) ) (S|<VP-END> (VP (VBD turned) (VP|<NP-PP> (NP (PRP me) ) (PP (IN into) (NP (DT a) (NN newt))))) (END .))))) )\n",
      "(TOP (S2 (_DT (DT A) (_NN (NN newt) (_END (END ?) ))) ) )\n",
      "(TOP (S2 (_PRP (PRP I) (_VBD (VBD got) (_JJR (JJR better) (_END (END .) )))) ) )\n",
      "(TOP (S (VP (VB Burn) (VP|<NP-ADVP> (NP (PRP her) ) (ADVP (RB anyway) ))) (END !)) )\n",
      "(TOP (S (VP (VB Burn) ) (END !)) )\n",
      "(TOP (S (VP (VB Burn) (NP (PRP her) )) (END !)) )\n",
      "(TOP (ADJP (JJ Quiet) (ADJP|<PAUSE-JJ> (PAUSE ,) (ADJP|<JJ-END> (JJ quiet) (END .)))) )\n",
      "(TOP (S2 (_JJ (JJ Quiet) (_END (END !) )) ) )\n"
     ]
    },
    {
     "name": "stderr",
     "output_type": "stream",
     "text": [
      "#parsing: ['She', 'has', 'got', 'a', 'wart', '.']\n",
      "#parsing: ['What', 'makes', 'you', 'think', 'she', 'is', 'a', 'witch', '?']\n",
      "#parsing: ['Well', ',', 'she', 'turned', 'me', 'into', 'a', 'newt', '.']\n",
      "#parsing: ['A', 'newt', '?']\n",
      "#parsing: ['I', 'got', 'better', '.']\n",
      "#parsing: ['Burn', 'her', 'anyway', '!']\n",
      "#parsing: ['Burn', '!']\n",
      "#parsing: ['Burn', 'her', '!']\n",
      "#parsing: ['Quiet', ',', 'quiet', '.']\n",
      "#parsing: ['Quiet', '!']\n",
      "#parsing: ['There', 'are', 'ways', 'of', 'telling', 'whether', 'she', 'is', 'a', 'witch', '.']\n"
     ]
    },
    {
     "name": "stdout",
     "output_type": "stream",
     "text": [
      "(TOP (S2 (_EX (EX There) (_VBP (VBP are) (_NNS (NNS ways) (_IN (IN of) (_VBG (VBG telling) (_IN (IN whether) (_PRP (PRP she) (_VBZ (VBZ is) (_DT (DT a) (_NN (NN witch) (_END (END .) ))))))))))) ) )\n",
      "(TOP (S (VP (VBP Are) (NP (EX there) )) (END ?)) )\n",
      "(TOP (SBARQ (WHNP (WP What) ) (SBARQ|<SQ-END> (SQ (VBP are) (NP (PRP they) )) (END ?))) )\n",
      "(TOP (S (VP (VB Tell) (VP|<NP-PAUSE> (NP (PRP me) ) (VP|<PAUSE-WHNP> (PAUSE ,) (VP|<WHNP-SQ> (WHNP (WP what) ) (SQ (VBP do) (SQ|<NP-VP> (NP (PRP you) ) (VP (VBP do) (PP (IN with) (NP (NNS witches) ))))))))) (END ?)) )\n",
      "(TOP (S (VP (VB Burn) ) (END !)) )\n",
      "(TOP (S (INTJ (VB Burn) ) (S|<PAUSE-VP> (PAUSE ,) (S|<VP-END> (VP (VBP burn) (VP|<NP-PRT> (NP (PRP them) ) (PRT (RP up) ))) (END !)))) )\n",
      "(TOP (SBARQ (CC And) (SBARQ|<WHNP-SQ> (WHNP (WP what) ) (SBARQ|<SQ-END> (SQ (VBP do) (SQ|<NP-VP> (NP (PRP you) ) (VP (VBP burn) (VP|<RB-VP> (RB apart) (VP (IN from) (NP (NNS witches) )))))) (END ?)))) )\n",
      "(TOP (NP (RBR More) (NP|<NNS-END> (NNS witches) (END !))) )\n"
     ]
    },
    {
     "name": "stderr",
     "output_type": "stream",
     "text": [
      "#parsing: ['Are', 'there', '?']\n",
      "#parsing: ['What', 'are', 'they', '?']\n",
      "#parsing: ['Tell', 'me', ',', 'what', 'do', 'you', 'do', 'with', 'witches', '?']\n",
      "#parsing: ['Burn', '!']\n",
      "#parsing: ['Burn', ',', 'burn', 'them', 'up', '!']\n",
      "#parsing: ['And', 'what', 'do', 'you', 'burn', 'apart', 'from', 'witches', '?']\n",
      "#parsing: ['More', 'witches', '!']\n",
      "#parsing: ['Wood', '!']\n",
      "#parsing: ['So', ',', 'why', 'do', 'witches', 'burn', '?']\n",
      "#parsing: ['B', '--', '...']\n",
      "#parsing: [\"'\", 'cause', 'they', \"'re\", 'made', 'of', 'wood', '...', '?']\n"
     ]
    },
    {
     "name": "stdout",
     "output_type": "stream",
     "text": [
      "(TOP (S2 (_NNP (NNP Wood) (_END (END !) )) ) )\n",
      "(TOP (SBARQ (ADVP (RB So) ) (SBARQ|<PAUSE-WHADVP> (PAUSE ,) (SBARQ|<WHADVP-SQ> (WHADVP (WRB why) ) (SBARQ|<SQ-END> (SQ (VBP do) (SQ|<NP-VP> (NP (NNS witches) ) (VP (VBP burn) ))) (END ?))))) )\n",
      "(TOP (S2 (_NN (NN B) (_BREAK (BREAK --) (_BREAK (BREAK ...) ))) ) )\n",
      "(TOP (S2 (_QUOTE (QUOTE ') (_NN (NN cause) (_PRP (PRP they) (_VBP (VBP 're) (_VBN (VBN made) (_IN (IN of) (_NN (NN wood) (_BREAK (BREAK ...) (_END (END ?) ))))))))) ) )\n",
      "(TOP (S2 (_JJ (JJ Good) (_END (END !) )) ) )\n",
      "(TOP (S2 (_UH (UH Oh) (_NN (NN yeah) (_PAUSE (PAUSE ,) (_NN (NN yeah) (_BREAK (BREAK ...) ))))) ) )\n"
     ]
    },
    {
     "name": "stderr",
     "output_type": "stream",
     "text": [
      "#parsing: ['Good', '!']\n",
      "#parsing: ['Oh', 'yeah', ',', 'yeah', '...']\n",
      "#parsing: ['So', ',', 'how', 'do', 'we', 'tell', 'whether', 'she', 'is', 'made', 'of', 'wood', '?']\n",
      "#parsing: ['Build', 'a', 'bridge', 'out', 'of', 'her', '.']\n"
     ]
    },
    {
     "name": "stdout",
     "output_type": "stream",
     "text": [
      "(TOP (SBARQ (ADVP (RB So) ) (SBARQ|<PAUSE-WHADVP> (PAUSE ,) (SBARQ|<WHADVP-SQ> (WHADVP (WRB how) ) (SBARQ|<SQ-END> (SQ (VBP do) (SQ|<NP-VP> (NP (PRP we) ) (VP (VB tell) (SBAR (IN whether) (S (NP (PRP she) ) (VP (VBZ is) (VP (VBN made) (PP (IN of) (NP (NN wood) ))))))))) (END ?))))) )\n",
      "(TOP (S (VP (VB Build) (VP|<NP-PRT> (NP (DT a) (NN bridge)) (VP|<PRT-PP> (PRT (RP out) ) (PP (IN of) (NP (PRP her) ))))) (END .)) )\n"
     ]
    },
    {
     "name": "stderr",
     "output_type": "stream",
     "text": [
      "#parsing: ['Aah', ',', 'but', 'can', 'you', 'not', 'also', 'build', 'bridges', 'out', 'of', 'stone', '?']\n"
     ]
    },
    {
     "name": "stdout",
     "output_type": "stream",
     "text": [
      "(TOP (S2 (_UT (UT Aah) (_PAUSE (PAUSE ,) (_CC (CC but) (_MD (MD can) (_PRP (PRP you) (_RB (RB not) (_RB (RB also) (_VB (VB build) (_NNS (NNS bridges) (_RP (RP out) (_IN (IN of) (_NN (NN stone) (_END (END ?) ))))))))))))) ) )\n",
      "(TOP (S2 (_UH (UH Oh) (_PAUSE (PAUSE ,) (_NN (NN yeah) (_END (END .) )))) ) )\n",
      "(TOP (S (VP (VBZ Does) (VP|<NP-PP> (NP (NN wood) (NN sink)) (PP (IN in) (NP (NN water) )))) (END ?)) )\n",
      "(TOP (FRAG (INTJ (UH No) ) (FRAG|<PAUSE-INTJ> (PAUSE ,) (FRAG|<INTJ-END> (INTJ (DT no) ) (END .)))) )\n",
      "(TOP (S (NP (PRP It) ) (S|<VP-END> (VP (VBZ floats) ) (END !))) )\n",
      "(TOP (S (VP (VB Throw) (VP|<NP-PP> (NP (PRP her) ) (PP (IN into) (NP (DT the) (NN pond))))) (END !)) )\n",
      "(TOP (S2 (_DT (DT The) (_NN (NN pond) (_END (END !) ))) ) )\n",
      "(TOP (SBARQ (WHNP (WP What) ) (SBARQ|<ADVP-VP> (ADVP (RB also) ) (SBARQ|<VP-END> (VP (VBZ floats) (PP (IN in) (NP (NN water) ))) (END ?)))) )\n",
      "(TOP (NP (NN Bread) (END !)) )\n",
      "(TOP (S2 (_NNS (NNS Apples) (_END (END !) )) ) )\n",
      "(TOP (NP (ADJP (RB Very) (JJ small)) (NP|<NNS-END> (NNS rocks) (END !))) )\n",
      "(TOP (S2 (_NNP (NNP Cider) (_END (END !) )) ) )\n",
      "(TOP (NP (NNP Great) (NP|<NN-END> (NN gravy) (END !))) )\n",
      "(TOP (S2 (_NNS (NNS Cherries) (_END (END !) )) ) )\n",
      "(TOP (NP (NN Mud) (END !)) )\n",
      "(TOP (S2 (_NNS (NNS Churches) (_BREAK (BREAK --) (_NNS (NNS churches) (_END (END !) )))) ) )\n",
      "(TOP (S2 (_JJ (JJ Lead) (_BREAK (BREAK --) (_NN (NN lead) (_END (END !) )))) ) )\n",
      "(TOP (S2 (_DT (DT A) (_NN (NN duck) (_END (END .) ))) ) )\n",
      "(TOP (S2 (_UT (UT Oooh) (_END (END .) )) ) )\n",
      "(TOP (S2 (_RB (RB Exactly) (_END (END !) )) ) )\n",
      "(TOP (S2 (_RB (RB So) (_PAUSE (PAUSE ,) (_RB (RB logically) (_BREAK (BREAK ...) (_PAUSE (PAUSE ,) ))))) ) )\n",
      "(TOP (S2 (_IN (IN If) (_BREAK (BREAK ...) )) ) )\n",
      "(TOP (S2 (_PRP (PRP she.) (_END (END .) )) ) )\n"
     ]
    },
    {
     "name": "stderr",
     "output_type": "stream",
     "text": [
      "#parsing: ['Oh', ',', 'yeah', '.']\n",
      "#parsing: ['Does', 'wood', 'sink', 'in', 'water', '?']\n",
      "#parsing: ['No', ',', 'no', '.']\n",
      "#parsing: ['It', 'floats', '!']\n",
      "#parsing: ['Throw', 'her', 'into', 'the', 'pond', '!']\n",
      "#parsing: ['The', 'pond', '!']\n",
      "#parsing: ['What', 'also', 'floats', 'in', 'water', '?']\n",
      "#parsing: ['Bread', '!']\n",
      "#parsing: ['Apples', '!']\n",
      "#parsing: ['Very', 'small', 'rocks', '!']\n",
      "#parsing: ['Cider', '!']\n",
      "#parsing: ['Great', 'gravy', '!']\n",
      "#parsing: ['Cherries', '!']\n",
      "#parsing: ['Mud', '!']\n",
      "#parsing: ['Churches', '--', 'churches', '!']\n",
      "#parsing: ['Lead', '--', 'lead', '!']\n",
      "#parsing: ['A', 'duck', '.']\n",
      "#parsing: ['Oooh', '.']\n",
      "#parsing: ['Exactly', '!']\n",
      "#parsing: ['So', ',', 'logically', '...', ',']\n",
      "#parsing: ['If', '...']\n",
      "#parsing: ['she.', '.']\n",
      "#parsing: ['weighs', 'the', 'same', 'as', 'a', 'duck', ',', 'she', \"'s\", 'made', 'of', 'wood', '.']\n"
     ]
    },
    {
     "name": "stdout",
     "output_type": "stream",
     "text": [
      "(TOP (S2 (_VBZ (VBZ weighs) (_DT (DT the) (_JJ (JJ same) (_IN (IN as) (_DT (DT a) (_NN (NN duck) (_PAUSE (PAUSE ,) (_PRP (PRP she) (_POS (POS 's) (_VBN (VBN made) (_IN (IN of) (_NN (NN wood) (_END (END .) ))))))))))))) ) )\n",
      "(TOP (S2 (_CC (CC And) (_RB (RB therefore) (_BREAK (BREAK --) (_END (END ?) )))) ) )\n",
      "(TOP (S2 (_DT (DT A) (_NN (NN witch) (_END (END !) ))) ) )\n",
      "(TOP (S (NP (PRP We) ) (S|<VP-END> (VP (MD shall) (VP (NN use) (NP (PRP$ my) (NP|<JJR-NNS> (JJR larger) (NNS scales))))) (END !))) )\n",
      "(TOP (S (INTJ (RB Right) ) (S|<PAUSE-VP> (PAUSE ,) (S|<VP-END> (VP (VB remove) (NP (DT the) (NNS supports))) (END !)))) )\n",
      "(TOP (S2 (_DT (DT A) (_NN (NN witch) (_END (END !) ))) ) )\n",
      "(TOP (S (NP (PRP It) ) (S|<VP-END> (VP (VBZ 's) (NP (DT a) (NP|<JJ-NN> (JJ fair) (NN cop)))) (END .))) )\n",
      "(TOP (S (VP (VB Burn) (NP (PRP her) )) (END !)) )\n",
      "(TOP (S (VP (VB Burn) ) (END !)) )\n"
     ]
    },
    {
     "name": "stderr",
     "output_type": "stream",
     "text": [
      "#parsing: ['And', 'therefore', '--', '?']\n",
      "#parsing: ['A', 'witch', '!']\n",
      "#parsing: ['We', 'shall', 'use', 'my', 'larger', 'scales', '!']\n",
      "#parsing: ['Right', ',', 'remove', 'the', 'supports', '!']\n",
      "#parsing: ['A', 'witch', '!']\n",
      "#parsing: ['It', \"'s\", 'a', 'fair', 'cop', '.']\n",
      "#parsing: ['Burn', 'her', '!']\n",
      "#parsing: ['Burn', '!']\n",
      "#parsing: ['Who', 'are', 'you', 'who', 'are', 'so', 'wise', 'in', 'the', 'ways', 'of', 'science', '?']\n"
     ]
    },
    {
     "name": "stdout",
     "output_type": "stream",
     "text": [
      "(TOP (SBARQ (WHNP (WP Who) ) (SBARQ|<SQ-END> (SQ (VBP are) (SQ|<NP-SBAR> (NP (PRP you) ) (SBAR (WHNP (WP who) ) (S (VP (VBP are) (VP|<RB-VP> (RB so) (VP (JJ wise) (VP|<PP-PP> (PP (IN in) (NP (DT the) (NNS ways))) (PP (IN of) (NP (NN science) )))))) )))) (END ?))) )\n",
      "(TOP (S2 (_PRP (PRP I) (_VBP (VBP am) (_NNP (NNP Arthur) (_PAUSE (PAUSE ,) (_NNP (NNP King) (_IN (IN of) (_DT (DT the) (_NNPS (NNPS Britons) (_END (END .) ))))))))) ) )\n",
      "(TOP (NP (PRP$ My) (NP|<NN-END> (NN liege) (END !))) )\n"
     ]
    },
    {
     "name": "stderr",
     "output_type": "stream",
     "text": [
      "#parsing: ['I', 'am', 'Arthur', ',', 'King', 'of', 'the', 'Britons', '.']\n",
      "#parsing: ['My', 'liege', '!']\n",
      "#parsing: ['Good', 'Sir', 'knight', ',', 'will', 'you', 'come', 'with', 'me', 'to', 'Camelot', ',', 'and', 'join', 'us', 'at', 'the', 'Round', 'Table', '?']\n"
     ]
    },
    {
     "name": "stdout",
     "output_type": "stream",
     "text": [
      "(TOP (SQ (NP (JJ Good) (NP|<NNP-NN> (NNP Sir) (NN knight))) (SQ|<PAUSE-MD> (PAUSE ,) (SQ|<MD-NP> (MD will) (SQ|<NP-VP> (NP (PRP you) ) (SQ|<VP-END> (VP (VP (VBN come) (VP|<PP-PP> (PP (IN with) (NP (PRP me) )) (PP (TO to) (NP (NNP Camelot) )))) (VP|<PAUSE-CC> (PAUSE ,) (VP|<CC-VP> (CC and) (VP (VB join) (VP|<NP-PP> (NP (PRP us) ) (PP (IN at) (NP (DT the) (NP|<NNP-NNP> (NNP Round) (NNP Table))))))))) (END ?)))))) )\n",
      "(TOP (NP (PRP$ My) (NP|<NN-END> (NN liege) (END !))) )\n",
      "(TOP (S2 (_PRP (PRP I) (_MD (MD would) (_VB (VB be) (_VBN (VBN honored) (_END (END .) ))))) ) )\n",
      "(TOP (SBARQ (WHNP (WP What) ) (SBARQ|<SQ-END> (SQ (VBZ is) (NP (PRP$ your) (NN name))) (END ?))) )\n",
      "(TOP (FRAG (INTJ (NNP Bedemir) ) (FRAG|<PAUSE-NP> (PAUSE ,) (FRAG|<NP-END> (NP (PRP$ my) (NN leige)) (END .)))) )\n"
     ]
    },
    {
     "name": "stderr",
     "output_type": "stream",
     "text": [
      "#parsing: ['My', 'liege', '!']\n",
      "#parsing: ['I', 'would', 'be', 'honored', '.']\n",
      "#parsing: ['What', 'is', 'your', 'name', '?']\n",
      "#parsing: ['Bedemir', ',', 'my', 'leige', '.']\n",
      "#parsing: ['Then', 'I', 'dub', 'you', 'Sir', 'Bedemir', ',', 'Knight', 'of', 'the', 'Round', 'Table', '.']\n"
     ]
    },
    {
     "name": "stdout",
     "output_type": "stream",
     "text": [
      "(TOP (S (ADVP (RB Then) ) (S|<NP-VP> (NP (PRP I) ) (S|<VP-END> (VP (NN dub) (VP|<NP-S> (NP (PRP you) ) (S (NP (NNP Sir) ) (VP (NNP Bedemir) (VP|<PAUSE-NP> (PAUSE ,) (NP (NP (NNP Knight) ) (PP (IN of) (NP (DT the) (NP|<NNP-NNP> (NNP Round) (NNP Table)))))))))) (END .)))) )\n"
     ]
    },
    {
     "name": "stderr",
     "output_type": "stream",
     "text": [
      "#parsing: ['The', 'wise', 'Sir', 'Bedemir', 'was', 'the', 'first', 'to', 'join', 'King', 'Arthur', \"'s\", 'knights', ',', 'but', 'other', 'illustrious', 'names', 'were', 'soon', 'to', 'follow', ':', 'Sir', 'Launcelot', 'the', 'Brave', ';', 'Sir', 'Galahad', 'the', 'Pure', ';', 'and', 'Sir', 'Robin', 'the', 'Not', '-', 'quite', '-', 'so', '-', 'brave', '-', 'as', '-', 'Sir', '-', 'Launcelot', 'who', 'had', 'nearly', 'fought', 'the', 'Dragon', 'of', 'Agnor', ',', 'who', 'had', 'nearly', 'stood', 'up', 'to', 'the', 'vicious', 'Chicken', 'of', 'Bristol', 'and', 'who', 'had', 'personally', 'wet', 'himself', 'at', 'the', 'Battle', 'of', 'Badon', 'Hill', ';', 'and', 'the', 'aptly', 'named', 'Sir', 'Not', '-', 'appearing', '-', 'in', '-', 'this', '-', 'film', '.']\n"
     ]
    },
    {
     "name": "stdout",
     "output_type": "stream",
     "text": [
      "(TOP (S2 (_DT (DT The) (_JJ (JJ wise) (_NNP (NNP Sir) (_NNP (NNP Bedemir) (_VBD (VBD was) (_DT (DT the) (_JJ (JJ first) (_TO (TO to) (_VB (VB join) (_NNP (NNP King) (_NNP (NNP Arthur) (_POS (POS 's) (_NNS (NNS knights) (_PAUSE (PAUSE ,) (_CC (CC but) (_JJ (JJ other) (_JJ (JJ illustrious) (_NNS (NNS names) (_VBD (VBD were) (_RB (RB soon) (_TO (TO to) (_VB (VB follow) (_BREAK (BREAK :) (_NNP (NNP Sir) (_NNP (NNP Launcelot) (_DT (DT the) (_NNP (NNP Brave) (_BREAK (BREAK ;) (_NNP (NNP Sir) (_NNP (NNP Galahad) (_DT (DT the) (_JJ (JJ Pure) (_BREAK (BREAK ;) (_CC (CC and) (_NNP (NNP Sir) (_NNP (NNP Robin) (_DT (DT the) (_RB (RB Not) (_BREAK (BREAK -) (_RB (RB quite) (_BREAK (BREAK -) (_RB (RB so) (_BREAK (BREAK -) (_VB (VB brave) (_BREAK (BREAK -) (_IN (IN as) (_BREAK (BREAK -) (_NNP (NNP Sir) (_BREAK (BREAK -) (_NNP (NNP Launcelot) (_WP (WP who) (_VBD (VBD had) (_RB (RB nearly) (_VBN (VBN fought) (_DT (DT the) (_NNP (NNP Dragon) (_IN (IN of) (_NNP (NNP Agnor) (_PAUSE (PAUSE ,) (_WP (WP who) (_VBD (VBD had) (_RB (RB nearly) (_VBD (VBD stood) (_RP (RP up) (_TO (TO to) (_DT (DT the) (_JJ (JJ vicious) (_NN (NN Chicken) (_IN (IN of) (_NNP (NNP Bristol) (_CC (CC and) (_WP (WP who) (_VBD (VBD had) (_RB (RB personally) (_JJ (JJ wet) (_PRP (PRP himself) (_IN (IN at) (_DT (DT the) (_NN (NN Battle) (_IN (IN of) (_NNP (NNP Badon) (_NNP (NNP Hill) (_BREAK (BREAK ;) (_CC (CC and) (_DT (DT the) (_RB (RB aptly) (_VBN (VBN named) (_NNP (NNP Sir) (_RB (RB Not) (_BREAK (BREAK -) (_VBG (VBG appearing) (_BREAK (BREAK -) (_IN (IN in) (_BREAK (BREAK -) (_DT (DT this) (_BREAK (BREAK -) (_NN (NN film) (_END (END .) )))))))))))))))))))))))))))))))))))))))))))))))))))))))))))))))))))))))))))))))))))))))))))))))))) ) )\n"
     ]
    },
    {
     "name": "stderr",
     "output_type": "stream",
     "text": [
      "#parsing: ['Together', 'they', 'formed', 'a', 'band', 'whose', 'names', 'and', 'deeds', 'were', 'to', 'be', 'retold', 'throughout', 'the', 'centuries', ',', 'the', 'Knights', 'of', 'the', 'Round', 'Table', '.']\n"
     ]
    },
    {
     "name": "stdout",
     "output_type": "stream",
     "text": [
      "(TOP (S (ADVP (RB Together) ) (S|<NP-VP> (NP (PRP they) ) (S|<VP-END> (VP (VBN formed) (VP|<NP-PP> (NP (NP (DT a) (NN band)) (SBAR (SBAR (WHNP (WP$ whose) (WHNP|<NNS-CC> (NNS names) (WHNP|<CC-NNS> (CC and) (NNS deeds)))) (S (VP (VBD were) (VP (TO to) (VP (VB be) (VP|<NP-PP> (NP (NN retold) ) (PP (IN throughout) (NP (DT the) (NNS centuries))))))) )) (SBAR|<PAUSE-NP> (PAUSE ,) (NP (DT the) (NNP Knights))))) (PP (IN of) (NP (DT the) (NP|<NNP-NNP> (NNP Round) (NNP Table)))))) (END .)))) )\n"
     ]
    },
    {
     "name": "stderr",
     "output_type": "stream",
     "text": [
      "#parsing: ['And', 'that', ',', 'my', 'liege', ',', 'is', 'how', 'we', 'know', 'the', 'Earth', 'to', 'be', 'banana', '-', 'shaped', '.']\n"
     ]
    },
    {
     "name": "stdout",
     "output_type": "stream",
     "text": [
      "(TOP (S2 (_CC (CC And) (_DT (DT that) (_PAUSE (PAUSE ,) (_PRP$ (PRP$ my) (_NN (NN liege) (_PAUSE (PAUSE ,) (_VBZ (VBZ is) (_WRB (WRB how) (_PRP (PRP we) (_VBP (VBP know) (_DT (DT the) (_NNP (NNP Earth) (_TO (TO to) (_VB (VB be) (_NN (NN banana) (_BREAK (BREAK -) (_JJ (JJ shaped) (_END (END .) )))))))))))))))))) ) )\n",
      "(TOP (S (NP (DT This) (JJ new)) (S|<VP-END> (VP (VBG learning) (PP (IN amazes) (NP (NP (PRP me) ) (NP|<PAUSE-NP> (PAUSE ,) (NP (NNP Sir) (NNP Bedemir)))))) (END .))) )\n"
     ]
    },
    {
     "name": "stderr",
     "output_type": "stream",
     "text": [
      "#parsing: ['This', 'new', 'learning', 'amazes', 'me', ',', 'Sir', 'Bedemir', '.']\n",
      "#parsing: ['Explain', 'again', 'how', \"sheeps'\", 'bladders', 'may', 'be', 'employed', 'to', 'prevent', 'earthquakes', '.']\n"
     ]
    },
    {
     "name": "stdout",
     "output_type": "stream",
     "text": [
      "(TOP (S2 (_VB (VB Explain) (_RB (RB again) (_WRB (WRB how) (_NNS (NNS sheeps') (_NNS (NNS bladders) (_MD (MD may) (_VB (VB be) (_VBN (VBN employed) (_TO (TO to) (_VB (VB prevent) (_NNS (NNS earthquakes) (_END (END .) )))))))))))) ) )\n",
      "(TOP (S2 (_UH (UH Oh) (_PAUSE (PAUSE ,) (_RB (RB certainly) (_PAUSE (PAUSE ,) (_NN (NN sir) (_END (END .) )))))) ) )\n",
      "(TOP (FRAG (INTJ (VB Look) ) (FRAG|<PAUSE-NP> (PAUSE ,) (FRAG|<NP-END> (NP (PRP$ my) (NN liege)) (END !)))) )\n",
      "(TOP (S2 (_NNP (NNP Camelot) (_END (END !) )) ) )\n",
      "(TOP (S (NP (PRP It) ) (S|<VP-END> (VP (VBZ 's) (VP|<RB-NP> (RB only) (NP (DT a) (NN model)))) (END .))) )\n",
      "(TOP (S2 (_UT (UT Shhh) (_END (END !) )) ) )\n"
     ]
    },
    {
     "name": "stderr",
     "output_type": "stream",
     "text": [
      "#parsing: ['Oh', ',', 'certainly', ',', 'sir', '.']\n",
      "#parsing: ['Look', ',', 'my', 'liege', '!']\n",
      "#parsing: ['Camelot', '!']\n",
      "#parsing: ['It', \"'s\", 'only', 'a', 'model', '.']\n",
      "#parsing: ['Shhh', '!']\n",
      "#parsing: ['Knights', ',', 'I', 'bid', 'you', 'welcome', 'to', 'your', 'new', 'home', '.']\n"
     ]
    },
    {
     "name": "stdout",
     "output_type": "stream",
     "text": [
      "(TOP (S2 (_NNP (NNP Knights) (_PAUSE (PAUSE ,) (_PRP (PRP I) (_NN (NN bid) (_PRP (PRP you) (_JJ (JJ welcome) (_TO (TO to) (_PRP$ (PRP$ your) (_JJ (JJ new) (_NN (NN home) (_END (END .) ))))))))))) ) )\n",
      "(TOP (S2 (_VB (VB Let) (_PRP (PRP us) (_VB (VB ride) (_BREAK (BREAK ...) )))) ) )\n",
      "(TOP (S (VP (TO to) (VP (NNP Camelot) )) (END .)) )\n",
      "(TOP (S (NP (PRP We're) ) (VP (NNS knights) (SBAR (IN of) (S (NP (DT the) (NN round)) (VP (NN table) ))))) )\n",
      "(TOP (S2 (_PRP (PRP We) (_NN (NN dance) (_WRB (WRB when) (_IN (IN e'er) (_PRP (PRP we're) (_JJ (JJ able) )))))) ) )\n",
      "(TOP (S (NP (PRP We) ) (VP (VBP do) (NP (NP (NNS routines) ) (NP|<CC-NP> (CC and) (NP (NN parlour) (NNS scenes)))))) )\n",
      "(TOP (S2 (_IN (IN With) (_NN (NN footwork) (_NN (NN impecc) (_BREAK (BREAK -) (_JJ (JJ Able) (_END (END .) )))))) ) )\n",
      "(TOP (S (NP (PRP We) ) (VP (VB dine) (VP|<ADJP-PP> (ADJP (RB well) (RB here)) (PP (IN in) (NP (NNP Camelot) ))))) )\n",
      "(TOP (S (NP (PRP We) ) (VP (VB eat) (VP|<NP-NP> (NP (NP (NN ham) (NP|<CC-NN> (CC and) (NN jam))) (NP|<CC-NP> (CC and) (NP (NN spam) ))) (NP (DT a) (NN lot))))) )\n"
     ]
    },
    {
     "name": "stderr",
     "output_type": "stream",
     "text": [
      "#parsing: ['Let', 'us', 'ride', '...']\n",
      "#parsing: ['to', 'Camelot', '.']\n",
      "#parsing: [\"We're\", 'knights', 'of', 'the', 'round', 'table']\n",
      "#parsing: ['We', 'dance', 'when', \"e'er\", \"we're\", 'able']\n",
      "#parsing: ['We', 'do', 'routines', 'and', 'parlour', 'scenes']\n",
      "#parsing: ['With', 'footwork', 'impecc', '-', 'Able', '.']\n",
      "#parsing: ['We', 'dine', 'well', 'here', 'in', 'Camelot']\n",
      "#parsing: ['We', 'eat', 'ham', 'and', 'jam', 'and', 'spam', 'a', 'lot']\n",
      "#parsing: [\"We're\", 'knights', 'of', 'the', 'Round', 'Table']\n"
     ]
    },
    {
     "name": "stdout",
     "output_type": "stream",
     "text": [
      "(TOP (NP (NP (NP (PRP We're) ) (NNS knights)) (PP (IN of) (NP (DT the) (NP|<NNP-NNP> (NNP Round) (NNP Table))))) )\n",
      "(TOP (S2 (_PRP$ (PRP$ Our) (_NNS (NNS shows) (_VBP (VBP are) (_IN (IN for) (_BREAK (BREAK -) (_JJ (JJ mid) (_BREAK (BREAK -) (_JJ (JJ able) )))))))) ) )\n",
      "(TOP (S (PP (IN Though) (NP (JJ many) (NNS times))) (S|<NP-VP> (NP (PRP we're) ) (VP (VBN given) (NP (NNS rhymes) )))) )\n",
      "(TOP (S2 (_DT (DT That) (_VBP (VBP are) (_RB (RB quite) (_JJ (JJ unsing) (_BREAK (BREAK -) (_JJ (JJ able) )))))) ) )\n",
      "(TOP (S (NP (PRP We) ) (S|<ADVP-VP> (ADVP (RB not) (RB so)) (VP (NN fat) (PP (IN in) (NP (NNP Camelot) ))))) )\n",
      "(TOP (S (NP (PRP We) ) (VP (VB sing) (VP|<PP-NP> (PP (IN from) (NP (DT the) (NN diaphragm))) (NP (DT a) (NN lot))))) )\n",
      "(TOP (S2 (_UH (UH Oh) (_PRP (PRP we're) (_JJ (JJ tough) (_CC (CC and) (_JJ (JJ able) ))))) ) )\n",
      "(TOP (ADJP (RB Quite) (JJ indefatigable)) )\n",
      "(TOP (S (PP (IN Between) (NP (PRP$ our) (NNS quests))) (S|<NP-VP> (NP (PRP we) ) (VP (NN sequin) (NP (NNS vests) )))) )\n",
      "(TOP (FRAG (CC And) (VP (VB impersonate) (VP (NNP Clark) (ADJP (JJ Gable) )))) )\n"
     ]
    },
    {
     "name": "stderr",
     "output_type": "stream",
     "text": [
      "#parsing: ['Our', 'shows', 'are', 'for', '-', 'mid', '-', 'able']\n",
      "#parsing: ['Though', 'many', 'times', \"we're\", 'given', 'rhymes']\n",
      "#parsing: ['That', 'are', 'quite', 'unsing', '-', 'able']\n",
      "#parsing: ['We', 'not', 'so', 'fat', 'in', 'Camelot']\n",
      "#parsing: ['We', 'sing', 'from', 'the', 'diaphragm', 'a', 'lot']\n",
      "#parsing: ['Oh', \"we're\", 'tough', 'and', 'able']\n",
      "#parsing: ['Quite', 'indefatigable']\n",
      "#parsing: ['Between', 'our', 'quests', 'we', 'sequin', 'vests']\n",
      "#parsing: ['And', 'impersonate', 'Clark', 'Gable']\n",
      "#parsing: ['It', \"'s\", 'a', 'bit', 'too', 'loud', 'in', 'Camelot']\n"
     ]
    },
    {
     "name": "stdout",
     "output_type": "stream",
     "text": [
      "(TOP (S (NP (PRP It) ) (VP (VBZ 's) (VP|<ADJP-PP> (ADJP (NP (DT a) (NN bit)) (ADJP|<RB-JJ> (RB too) (JJ loud))) (PP (IN in) (NP (NNP Camelot) ))))) )\n",
      "(TOP (S2 (_PRP (PRP I) (_VBP (VBP have) (_TO (TO to) (_NN (NN push) (_DT (DT the) (_NN (NN pram) (_DT (DT a) (_NN (NN lot) (_END (END .) ))))))))) ) )\n"
     ]
    },
    {
     "name": "stderr",
     "output_type": "stream",
     "text": [
      "#parsing: ['I', 'have', 'to', 'push', 'the', 'pram', 'a', 'lot', '.']\n",
      "#parsing: ['Well', ',', 'on', 'second', 'thought', ',', 'let', \"'s\", 'not', 'go', 'to', 'Camelot', '--', 'it', 'is', 'a', 'silly', 'place', '.']\n"
     ]
    },
    {
     "name": "stdout",
     "output_type": "stream",
     "text": [
      "(TOP (S2 (_RB (RB Well) (_PAUSE (PAUSE ,) (_IN (IN on) (_JJ (JJ second) (_NN (NN thought) (_PAUSE (PAUSE ,) (_VB (VB let) (_POS (POS 's) (_RB (RB not) (_VB (VB go) (_TO (TO to) (_NNP (NNP Camelot) (_BREAK (BREAK --) (_PRP (PRP it) (_VBZ (VBZ is) (_DT (DT a) (_JJ (JJ silly) (_NN (NN place) (_END (END .) ))))))))))))))))))) ) )\n",
      "(TOP (S2 (_RB (RB Right) (_END (END .) )) ) )\n",
      "(TOP (S2 (_NNP (NNP Arthur) (_END (END !) )) ) )\n",
      "(TOP (S2 (_NNP (NNP Arthur) (_PAUSE (PAUSE ,) (_NNP (NNP King) (_IN (IN of) (_DT (DT the) (_NNPS (NNPS Britons) (_END (END !) ))))))) ) )\n",
      "(TOP (S (INTJ (UH Oh) ) (S|<PAUSE-VP> (PAUSE ,) (S|<VP-END> (VP (VBP do) (VP|<RB-VP> (RB n't) (VP (VB grovel) ))) (END !)))) )\n"
     ]
    },
    {
     "name": "stderr",
     "output_type": "stream",
     "text": [
      "#parsing: ['Right', '.']\n",
      "#parsing: ['Arthur', '!']\n",
      "#parsing: ['Arthur', ',', 'King', 'of', 'the', 'Britons', '!']\n",
      "#parsing: ['Oh', ',', 'do', \"n't\", 'grovel', '!']\n",
      "#parsing: ['If', 'there', \"'s\", 'one', 'thing', 'I', \"can't\", 'stand', ',', 'it', \"'s\", 'people', 'groveling', '.']\n"
     ]
    },
    {
     "name": "stdout",
     "output_type": "stream",
     "text": [
      "(TOP (S2 (_IN (IN If) (_EX (EX there) (_POS (POS 's) (_CD (CD one) (_NN (NN thing) (_PRP (PRP I) (_MD (MD can't) (_VB (VB stand) (_PAUSE (PAUSE ,) (_PRP (PRP it) (_POS (POS 's) (_NNS (NNS people) (_VBG (VBG groveling) (_END (END .) )))))))))))))) ) )\n",
      "(TOP (S2 (_JJ (JJ Sorry) (_BREAK (BREAK --) )) ) )\n",
      "(TOP (S (CC And) (S|<VP-END> (VP (VBP do) (VP|<RB-VP> (RB n't) (VP (VB apologize) ))) (END .))) )\n"
     ]
    },
    {
     "name": "stderr",
     "output_type": "stream",
     "text": [
      "#parsing: ['Sorry', '--']\n",
      "#parsing: ['And', 'do', \"n't\", 'apologize', '.']\n",
      "#parsing: ['Every', 'time', 'I', 'try', 'to', 'talk', 'to', 'someone', 'it', \"'s\", '\"', 'sorry', 'this', '\"', 'and', '\"', 'forgive', 'me', 'that', '\"', 'and', '\"', \"I'm\", 'not', 'worthy', '\"', '.']\n"
     ]
    },
    {
     "name": "stdout",
     "output_type": "stream",
     "text": [
      "(TOP (S2 (_DT (DT Every) (_NN (NN time) (_PRP (PRP I) (_VB (VB try) (_TO (TO to) (_NN (NN talk) (_TO (TO to) (_NN (NN someone) (_PRP (PRP it) (_POS (POS 's) (_QUOTE (QUOTE \") (_JJ (JJ sorry) (_DT (DT this) (_QUOTE (QUOTE \") (_CC (CC and) (_QUOTE (QUOTE \") (_VBP (VBP forgive) (_PRP (PRP me) (_DT (DT that) (_QUOTE (QUOTE \") (_CC (CC and) (_QUOTE (QUOTE \") (_PRP (PRP I'm) (_RB (RB not) (_JJ (JJ worthy) (_QUOTE (QUOTE \") (_END (END .) ))))))))))))))))))))))))))) ) )\n",
      "(TOP (SBARQ (WHNP (WP What) ) (SBARQ|<SQ-END> (SQ (VBP are) (SQ|<NP-VP> (NP (PRP you) ) (SQ|<VP-END> (VP (VBG doing) (ADVP (RB now) )) (END !)))) (END ?))) )\n",
      "(TOP (S2 (_PRP (PRP I'm) (_VBG (VBG averting) (_PRP$ (PRP$ my) (_NNS (NNS eyes) (_PAUSE (PAUSE ,) (_UH (UH oh) (_NNP (NNP Lord) (_END (END .) )))))))) ) )\n",
      "(TOP (S (INTJ (RB Well) ) (S|<PAUSE-VP> (PAUSE ,) (S|<VP-END> (VP (VBP do) (RB n't)) (END .)))) )\n",
      "(TOP (S2 (_PRP (PRP It) (_POS (POS 's) (_IN (IN like) (_DT (DT those) (_JJ (JJ miserable) (_NNS (NNS Psalms) (_BREAK (BREAK --) (_PRP (PRP they) (_VBP (VBP 're) (_RB (RB so) (_VBG (VBG depressing) (_END (END .) )))))))))))) ) )\n",
      "(TOP (S (RB Now) (S|<VP-END> (VP (VB knock) (VP|<NP-PRT> (NP (PRP it) ) (PRT (RP off) ))) (END !))) )\n",
      "(TOP (S2 (_UH (UH Yes) (_PAUSE (PAUSE ,) (_NNP (NNP Lord) (_END (END .) )))) ) )\n",
      "(TOP (S2 (_RB (RB Right) (_END (END !) )) ) )\n"
     ]
    },
    {
     "name": "stderr",
     "output_type": "stream",
     "text": [
      "#parsing: ['What', 'are', 'you', 'doing', 'now', '!', '?']\n",
      "#parsing: [\"I'm\", 'averting', 'my', 'eyes', ',', 'oh', 'Lord', '.']\n",
      "#parsing: ['Well', ',', 'do', \"n't\", '.']\n",
      "#parsing: ['It', \"'s\", 'like', 'those', 'miserable', 'Psalms', '--', 'they', \"'re\", 'so', 'depressing', '.']\n",
      "#parsing: ['Now', 'knock', 'it', 'off', '!']\n",
      "#parsing: ['Yes', ',', 'Lord', '.']\n",
      "#parsing: ['Right', '!']\n",
      "#parsing: ['Arthur', ',', 'King', 'of', 'the', 'Britons', '--', 'your', 'Knights', 'of', 'the', 'Round', 'Table', 'shall', 'have', 'a', 'task', 'to', 'make', 'them', 'an', 'example', 'in', 'these', 'dark', 'times', '.']\n"
     ]
    },
    {
     "name": "stdout",
     "output_type": "stream",
     "text": [
      "(TOP (S2 (_NNP (NNP Arthur) (_PAUSE (PAUSE ,) (_NNP (NNP King) (_IN (IN of) (_DT (DT the) (_NNPS (NNPS Britons) (_BREAK (BREAK --) (_PRP$ (PRP$ your) (_NNS (NNS Knights) (_IN (IN of) (_DT (DT the) (_NNP (NNP Round) (_NNP (NNP Table) (_MD (MD shall) (_VBP (VBP have) (_DT (DT a) (_NN (NN task) (_TO (TO to) (_VB (VB make) (_PRP (PRP them) (_DT (DT an) (_NN (NN example) (_IN (IN in) (_DT (DT these) (_JJ (JJ dark) (_NNS (NNS times) (_END (END .) ))))))))))))))))))))))))))) ) )\n",
      "(TOP (S2 (_JJ (JJ Good) (_NN (NN idea) (_PAUSE (PAUSE ,) (_UH (UH oh) (_NNP (NNP Lord) (_END (END !) )))))) ) )\n",
      "(TOP (S (QUOTE ') (S|<ADVP-NP> (ADVP (NNP Course) ) (S|<NP-VP> (NP (PRP it) ) (S|<VP-END> (VP (VBZ 's) (NP (DT a) (NP|<JJ-NN> (JJ good) (NN idea)))) (END !))))) )\n",
      "(TOP (S (VP (VB Behold) ) (END !)) )\n",
      "(TOP (S2 (_NNP (NNP Arthur) (_PAUSE (PAUSE ,) (_DT (DT this) (_VBZ (VBZ is) (_DT (DT the) (_UT (UT Holy) (_NNP (NNP Grail) (_END (END .) )))))))) ) )\n"
     ]
    },
    {
     "name": "stderr",
     "output_type": "stream",
     "text": [
      "#parsing: ['Good', 'idea', ',', 'oh', 'Lord', '!']\n",
      "#parsing: [\"'\", 'Course', 'it', \"'s\", 'a', 'good', 'idea', '!']\n",
      "#parsing: ['Behold', '!']\n",
      "#parsing: ['Arthur', ',', 'this', 'is', 'the', 'Holy', 'Grail', '.']\n",
      "#parsing: ['Look', 'well', ',', 'Arthur', ',', 'for', 'it', 'is', 'your', 'sacred', 'task', 'to', 'seek', 'this', 'Grail', '.']\n"
     ]
    },
    {
     "name": "stdout",
     "output_type": "stream",
     "text": [
      "(TOP (S2 (_VB (VB Look) (_RB (RB well) (_PAUSE (PAUSE ,) (_NNP (NNP Arthur) (_PAUSE (PAUSE ,) (_IN (IN for) (_PRP (PRP it) (_VBZ (VBZ is) (_PRP$ (PRP$ your) (_JJ (JJ sacred) (_NN (NN task) (_TO (TO to) (_VBP (VBP seek) (_DT (DT this) (_NN (NN Grail) (_END (END .) )))))))))))))))) ) )\n",
      "(TOP (S2 (_DT (DT That) (_VBZ (VBZ is) (_PRP$ (PRP$ your) (_NN (NN purpose) (_PAUSE (PAUSE ,) (_NNP (NNP Arthur) (_BREAK (BREAK --) (_DT (DT the) (_NNP (NNP Quest) (_IN (IN for) (_DT (DT the) (_UT (UT Holy) (_NNP (NNP Grail) (_END (END .) )))))))))))))) ) )\n",
      "(TOP (S2 (_DT (DT A) (_NN (NN blessing) (_END (END !) ))) ) )\n",
      "(TOP (S2 (_DT (DT A) (_NN (NN blessing) (_IN (IN from) (_DT (DT the) (_NNP (NNP Lord) (_END (END !) )))))) ) )\n",
      "(TOP (S (NP (NNP God) ) (S|<VP-END> (VP (VB be) (VP (VBN praised) )) (END !))) )\n",
      "(TOP (S (VP (VB Halt) ) (END !)) )\n",
      "(TOP (S2 (_UT (UT Hallo) (_END (END !) )) ) )\n",
      "(TOP (NP (QUOTE ') (NP|<NN-END> (NN Allo) (END !))) )\n",
      "(TOP (SBARQ (WHNP (WP Who) ) (SBARQ|<SQ-END> (SQ (VBZ is) (NP (NN zis) )) (END ?))) )\n"
     ]
    },
    {
     "name": "stderr",
     "output_type": "stream",
     "text": [
      "#parsing: ['That', 'is', 'your', 'purpose', ',', 'Arthur', '--', 'the', 'Quest', 'for', 'the', 'Holy', 'Grail', '.']\n",
      "#parsing: ['A', 'blessing', '!']\n",
      "#parsing: ['A', 'blessing', 'from', 'the', 'Lord', '!']\n",
      "#parsing: ['God', 'be', 'praised', '!']\n",
      "#parsing: ['Halt', '!']\n",
      "#parsing: ['Hallo', '!']\n",
      "#parsing: [\"'\", 'Allo', '!']\n",
      "#parsing: ['Who', 'is', 'zis', '?']\n",
      "#parsing: ['It', 'is', 'King', 'Arthur', ',', 'and', 'these', 'are', 'the', 'Knights', 'of', 'the', 'Round', 'Table', '.']\n"
     ]
    },
    {
     "name": "stdout",
     "output_type": "stream",
     "text": [
      "(TOP (S2 (_PRP (PRP It) (_VBZ (VBZ is) (_NNP (NNP King) (_NNP (NNP Arthur) (_PAUSE (PAUSE ,) (_CC (CC and) (_DT (DT these) (_VBP (VBP are) (_DT (DT the) (_NNPS (NNPS Knights) (_IN (IN of) (_DT (DT the) (_NNP (NNP Round) (_NNP (NNP Table) (_END (END .) ))))))))))))))) ) )\n",
      "(TOP (SBARQ (WHNP (WP Who) ) (SBARQ|<SQ-END> (SQ (VBZ 's) (SQ|<NP-VP> (NP (NN castle) ) (VP (VBZ is) (NP (DT this) )))) (END ?))) )\n"
     ]
    },
    {
     "name": "stderr",
     "output_type": "stream",
     "text": [
      "#parsing: ['Who', \"'s\", 'castle', 'is', 'this', '?']\n",
      "#parsing: ['This', 'is', 'the', 'castle', 'of', 'Our', 'Master', 'Ruiz', \"'\", 'de', 'lu', 'la', 'Ramper', '(', 'sp', '?', ')']\n"
     ]
    },
    {
     "name": "stdout",
     "output_type": "stream",
     "text": [
      "(TOP (S2 (_DT (DT This) (_VBZ (VBZ is) (_DT (DT the) (_NN (NN castle) (_IN (IN of) (_PRP$ (PRP$ Our) (_NN (NN Master) (_NN (NN Ruiz) (_QUOTE (QUOTE ') (_IN (IN de) (_NN (NN lu) (_DT (DT la) (_NN (NN Ramper) (_BGNBK (BGNBK () (_NN (NN sp) (_END (END ?) (_ENDBK (ENDBK )) ))))))))))))))))) ) )\n"
     ]
    },
    {
     "name": "stderr",
     "output_type": "stream",
     "text": [
      "#parsing: ['Go', 'and', 'tell', 'your', 'master', 'that', 'we', 'have', 'been', 'charged', 'by', 'God', 'with', 'a', 'sacred', 'quest', '.']\n"
     ]
    },
    {
     "name": "stdout",
     "output_type": "stream",
     "text": [
      "(TOP (S2 (_VB (VB Go) (_CC (CC and) (_VB (VB tell) (_PRP$ (PRP$ your) (_NN (NN master) (_IN (IN that) (_PRP (PRP we) (_VBP (VBP have) (_VBN (VBN been) (_VBN (VBN charged) (_IN (IN by) (_NNP (NNP God) (_IN (IN with) (_DT (DT a) (_JJ (JJ sacred) (_NN (NN quest) (_END (END .) ))))))))))))))))) ) )\n"
     ]
    },
    {
     "name": "stderr",
     "output_type": "stream",
     "text": [
      "#parsing: ['If', 'he', 'will', 'give', 'us', 'food', 'and', 'shelter', 'for', 'the', 'night', 'he', 'can', 'join', 'us', 'in', 'our', 'quest', 'for', 'the', 'Holy', 'Grail', '.']\n"
     ]
    },
    {
     "name": "stdout",
     "output_type": "stream",
     "text": [
      "(TOP (S2 (_IN (IN If) (_PRP (PRP he) (_MD (MD will) (_VB (VB give) (_PRP (PRP us) (_NN (NN food) (_CC (CC and) (_NN (NN shelter) (_IN (IN for) (_DT (DT the) (_NN (NN night) (_PRP (PRP he) (_MD (MD can) (_VB (VB join) (_PRP (PRP us) (_IN (IN in) (_PRP$ (PRP$ our) (_NN (NN quest) (_IN (IN for) (_DT (DT the) (_UT (UT Holy) (_NNP (NNP Grail) (_END (END .) ))))))))))))))))))))))) ) )\n"
     ]
    },
    {
     "name": "stderr",
     "output_type": "stream",
     "text": [
      "#parsing: ['Well', ',', 'I', \"'ll\", 'ask', 'him', ',', 'but', 'I', 'do', \"n't\", 'think', 'he', \"'ll\", 'be', 'very', 'keen', '...']\n"
     ]
    },
    {
     "name": "stdout",
     "output_type": "stream",
     "text": [
      "(TOP (S2 (_RB (RB Well) (_PAUSE (PAUSE ,) (_PRP (PRP I) (_MD (MD 'll) (_VB (VB ask) (_PRP (PRP him) (_PAUSE (PAUSE ,) (_CC (CC but) (_PRP (PRP I) (_VBP (VBP do) (_RB (RB n't) (_VBP (VBP think) (_PRP (PRP he) (_MD (MD 'll) (_VB (VB be) (_RB (RB very) (_JJ (JJ keen) (_BREAK (BREAK ...) )))))))))))))))))) ) )\n",
      "(TOP (S2 (_RB (RB Uh) (_PAUSE (PAUSE ,) (_PRP (PRP he) (_POS (POS 's) (_RB (RB already) (_VBD (VBD got) (_CD (CD one) (_PAUSE (PAUSE ,) (_PRP (PRP you) (_VBP (VBP see) (_END (END ?) ))))))))))) ) )\n",
      "(TOP (FRAG (WP What) (END ?)) )\n"
     ]
    },
    {
     "name": "stderr",
     "output_type": "stream",
     "text": [
      "#parsing: ['Uh', ',', 'he', \"'s\", 'already', 'got', 'one', ',', 'you', 'see', '?']\n",
      "#parsing: ['What', '?']\n",
      "#parsing: ['He', 'says', 'they', \"'ve\", 'already', 'got', 'one', '!']\n"
     ]
    },
    {
     "name": "stdout",
     "output_type": "stream",
     "text": [
      "(TOP (S2 (_PRP (PRP He) (_VBZ (VBZ says) (_PRP (PRP they) (_VBP (VBP 've) (_RB (RB already) (_VBD (VBD got) (_CD (CD one) (_END (END !) )))))))) ) )\n",
      "(TOP (SQ (VBP Are) (SQ|<NP-ADJP> (NP (PRP you) ) (SQ|<ADJP-END> (ADJP (JJ sure) (S (NP (PRP he) ) (VP (VBZ 's) (NP (VBD got) (CD one))))) (END ?)))) )\n",
      "(TOP (S2 (_UH (UH Oh) (_PAUSE (PAUSE ,) (_UH (UH yes) (_PAUSE (PAUSE ,) (_PRP (PRP it) (_POS (POS 's) (_RB (RB very) (_JJ (JJ nice) (_BREAK (BREAK -) (_DT (DT a) (_PRP (PRP I) (_VBD (VBD told) (_PRP (PRP him) (_PRP (PRP we) (_RB (RB already) (_VBD (VBD got) (_CD (CD one) (_END (END .) )))))))))))))))))) ) )\n"
     ]
    },
    {
     "name": "stderr",
     "output_type": "stream",
     "text": [
      "#parsing: ['Are', 'you', 'sure', 'he', \"'s\", 'got', 'one', '?']\n",
      "#parsing: ['Oh', ',', 'yes', ',', 'it', \"'s\", 'very', 'nice', '-', 'a', 'I', 'told', 'him', 'we', 'already', 'got', 'one', '.']\n",
      "#parsing: ['Well', ',', 'um', ',', 'can', 'we', 'come', 'up', 'and', 'have', 'a', 'look', '?']\n"
     ]
    },
    {
     "name": "stdout",
     "output_type": "stream",
     "text": [
      "(TOP (S2 (_RB (RB Well) (_PAUSE (PAUSE ,) (_UT (UT um) (_PAUSE (PAUSE ,) (_MD (MD can) (_PRP (PRP we) (_VBN (VBN come) (_RP (RP up) (_CC (CC and) (_VBP (VBP have) (_DT (DT a) (_NN (NN look) (_END (END ?) ))))))))))))) ) )\n",
      "(TOP (FRAG (PP (IN Of) (NP (NN course) )) (FRAG|<RB-END> (RB not) (END !))) )\n",
      "(TOP (S2 (_PRP (PRP You) (_VBP (VBP are) (_NNP (NNP English) (_NNS (NNS types) (_BREAK (BREAK -) (_DT (DT a) (_END (END !) ))))))) ) )\n",
      "(TOP (SBARQ (INTJ (RB Well) ) (SBARQ|<PAUSE-WHNP> (PAUSE ,) (SBARQ|<WHNP-SQ> (WHNP (WP what) ) (SBARQ|<SQ-END> (SQ (VBP are) (SQ|<NP-ADVP> (NP (PRP you) ) (ADVP (RB then) ))) (END ?))))) )\n",
      "(TOP (S2 (_PRP (PRP I'm) (_JJ (JJ French) (_END (END !) ))) ) )\n"
     ]
    },
    {
     "name": "stderr",
     "output_type": "stream",
     "text": [
      "#parsing: ['Of', 'course', 'not', '!']\n",
      "#parsing: ['You', 'are', 'English', 'types', '-', 'a', '!']\n",
      "#parsing: ['Well', ',', 'what', 'are', 'you', 'then', '?']\n",
      "#parsing: [\"I'm\", 'French', '!']\n",
      "#parsing: ['Why', 'do', 'think', 'I', 'have', 'this', 'outrageous', 'accent', ',', 'you', 'silly', 'king', '!']\n"
     ]
    },
    {
     "name": "stdout",
     "output_type": "stream",
     "text": [
      "(TOP (S2 (_WRB (WRB Why) (_VBP (VBP do) (_VBP (VBP think) (_PRP (PRP I) (_VBP (VBP have) (_DT (DT this) (_JJ (JJ outrageous) (_NN (NN accent) (_PAUSE (PAUSE ,) (_PRP (PRP you) (_JJ (JJ silly) (_NN (NN king) (_END (END !) ))))))))))))) ) )\n",
      "(TOP (SBARQ (WHNP (WP What) ) (SBARQ|<SQ-END> (SQ (VBP are) (SQ|<NP-VP> (NP (PRP you) ) (VP (VBG doing) (PP (IN in) (NP (NNP England) ))))) (END ?))) )\n",
      "(TOP (SQ (NN Mind) (SQ|<NP-END> (NP (PRP$ your) (NP|<JJ-NN> (JJ own) (NN business))) (END !))) )\n"
     ]
    },
    {
     "name": "stderr",
     "output_type": "stream",
     "text": [
      "#parsing: ['What', 'are', 'you', 'doing', 'in', 'England', '?']\n",
      "#parsing: ['Mind', 'your', 'own', 'business', '!']\n",
      "#parsing: ['If', 'you', 'will', 'not', 'show', 'us', 'the', 'Grail', ',', 'we', 'shall', 'take', 'your', 'castle', 'by', 'force', '!']\n"
     ]
    },
    {
     "name": "stdout",
     "output_type": "stream",
     "text": [
      "(TOP (S2 (_IN (IN If) (_PRP (PRP you) (_MD (MD will) (_RB (RB not) (_VB (VB show) (_PRP (PRP us) (_DT (DT the) (_NN (NN Grail) (_PAUSE (PAUSE ,) (_PRP (PRP we) (_MD (MD shall) (_VB (VB take) (_PRP$ (PRP$ your) (_NN (NN castle) (_IN (IN by) (_NN (NN force) (_END (END !) ))))))))))))))))) ) )\n",
      "(TOP (S2 (_PRP (PRP You) (_VBP (VBP do) (_RB (RB n't) (_VB (VB frighten) (_PRP (PRP us) (_PAUSE (PAUSE ,) (_NNP (NNP English) (_NN (NN pig) (_BREAK (BREAK -) (_NNS (NNS dogs) (_END (END !) ))))))))))) ) )\n"
     ]
    },
    {
     "name": "stderr",
     "output_type": "stream",
     "text": [
      "#parsing: ['You', 'do', \"n't\", 'frighten', 'us', ',', 'English', 'pig', '-', 'dogs', '!']\n",
      "#parsing: ['Go', 'and', 'boil', 'your', 'bottoms', ',', 'sons', 'of', 'a', 'silly', 'person', '.']\n"
     ]
    },
    {
     "name": "stdout",
     "output_type": "stream",
     "text": [
      "(TOP (S2 (_VB (VB Go) (_CC (CC and) (_NN (NN boil) (_PRP$ (PRP$ your) (_NNS (NNS bottoms) (_PAUSE (PAUSE ,) (_NNS (NNS sons) (_IN (IN of) (_DT (DT a) (_JJ (JJ silly) (_NN (NN person) (_END (END .) )))))))))))) ) )\n"
     ]
    },
    {
     "name": "stderr",
     "output_type": "stream",
     "text": [
      "#parsing: ['I', 'blow', 'my', 'nose', 'at', 'you', ',', 'so', '-', 'called', 'Arthur', '-', 'king', ',', 'you', 'and', 'all', 'your', 'silly', 'English', 'kaniggets', '.']\n"
     ]
    },
    {
     "name": "stdout",
     "output_type": "stream",
     "text": [
      "(TOP (S2 (_PRP (PRP I) (_NN (NN blow) (_PRP$ (PRP$ my) (_NN (NN nose) (_IN (IN at) (_PRP (PRP you) (_PAUSE (PAUSE ,) (_RB (RB so) (_BREAK (BREAK -) (_VBN (VBN called) (_NNP (NNP Arthur) (_BREAK (BREAK -) (_NN (NN king) (_PAUSE (PAUSE ,) (_PRP (PRP you) (_CC (CC and) (_PDT (PDT all) (_PRP$ (PRP$ your) (_JJ (JJ silly) (_NNP (NNP English) (_NNS (NNS kaniggets) (_END (END .) )))))))))))))))))))))) ) )\n",
      "(TOP (S2 (_NNP (NNP Thppppt) (_END (END !) )) ) )\n",
      "(TOP (S2 (_WDT (WDT What) (_DT (DT a) (_JJ (JJ strange) (_NN (NN person) (_END (END .) ))))) ) )\n",
      "(TOP (S (RB Now) (S|<VP-END> (VP (NN look) (VP|<ADVP-PAUSE> (ADVP (RB here) ) (VP|<PAUSE-NP> (PAUSE ,) (NP (PRP$ my) (NP|<JJ-NN> (JJ good) (NN man)))))) (END !))) )\n"
     ]
    },
    {
     "name": "stderr",
     "output_type": "stream",
     "text": [
      "#parsing: ['Thppppt', '!']\n",
      "#parsing: ['What', 'a', 'strange', 'person', '.']\n",
      "#parsing: ['Now', 'look', 'here', ',', 'my', 'good', 'man', '!']\n",
      "#parsing: ['I', 'do', \"n't\", 'want', 'to', 'talk', 'to', 'you', 'no', 'more', ',', 'you', 'empty', 'headed', 'animal', 'food', 'trough', 'whopper', '!']\n"
     ]
    },
    {
     "name": "stdout",
     "output_type": "stream",
     "text": [
      "(TOP (S2 (_PRP (PRP I) (_VBP (VBP do) (_RB (RB n't) (_VB (VB want) (_TO (TO to) (_NN (NN talk) (_TO (TO to) (_PRP (PRP you) (_DT (DT no) (_RBR (RBR more) (_PAUSE (PAUSE ,) (_PRP (PRP you) (_JJ (JJ empty) (_VBN (VBN headed) (_NN (NN animal) (_NN (NN food) (_NN (NN trough) (_NN (NN whopper) (_END (END !) ))))))))))))))))))) ) )\n",
      "(TOP (S (NP (PRP I) ) (S|<VP-END> (VP (NN fart) (PP (IN in) (NP (PRP$ your) (NP|<JJ-NN> (JJ general) (NN direction))))) (END !))) )\n"
     ]
    },
    {
     "name": "stderr",
     "output_type": "stream",
     "text": [
      "#parsing: ['I', 'fart', 'in', 'your', 'general', 'direction', '!']\n",
      "#parsing: ['You', 'mother', 'was', 'a', 'hamster', 'and', 'your', 'father', 'smelt', 'of', 'eldeberries', '.']\n"
     ]
    },
    {
     "name": "stdout",
     "output_type": "stream",
     "text": [
      "(TOP (S (NP (PRP You) ) (S|<ADVP-VP> (ADVP (NN mother) ) (S|<VP-CC> (VP (VBD was) (NP (DT a) (NN hamster))) (S|<CC-S> (CC and) (S|<S-END> (S (NP (PRP$ your) (NN father)) (VP (VBN smelt) (PP (IN of) (NP (NNS eldeberries) )))) (END .)))))) )\n"
     ]
    },
    {
     "name": "stderr",
     "output_type": "stream",
     "text": [
      "#parsing: ['Is', 'there', 'someone', 'else', 'up', 'there', 'we', 'could', 'talk', 'to', '?']\n"
     ]
    },
    {
     "name": "stdout",
     "output_type": "stream",
     "text": [
      "(TOP (S2 (_VBZ (VBZ Is) (_EX (EX there) (_NN (NN someone) (_RB (RB else) (_RP (RP up) (_EX (EX there) (_PRP (PRP we) (_MD (MD could) (_NN (NN talk) (_TO (TO to) (_END (END ?) ))))))))))) ) )\n"
     ]
    },
    {
     "name": "stderr",
     "output_type": "stream",
     "text": [
      "#parsing: ['No', ',', 'now', 'go', 'away', 'or', 'I', 'shall', 'taunt', 'you', 'a', 'second', 'time', '-', 'a', '!']\n"
     ]
    },
    {
     "name": "stdout",
     "output_type": "stream",
     "text": [
      "(TOP (S2 (_UH (UH No) (_PAUSE (PAUSE ,) (_RB (RB now) (_VB (VB go) (_RB (RB away) (_CC (CC or) (_PRP (PRP I) (_MD (MD shall) (_VB (VB taunt) (_PRP (PRP you) (_DT (DT a) (_JJ (JJ second) (_NN (NN time) (_BREAK (BREAK -) (_DT (DT a) (_END (END !) )))))))))))))))) ) )\n",
      "(TOP (S (INTJ (RB Now) ) (S|<PAUSE-NP> (PAUSE ,) (S|<NP-VP> (NP (DT this) ) (S|<VP-END> (VP (VBZ is) (NP (PRP$ your) (NP|<JJ-NN> (JJ last) (NN chance)))) (END .))))) )\n",
      "(TOP (S2 (_PRP (PRP I've) (_VBN (VBN been) (_RBR (RBR more) (_IN (IN than) (_JJ (JJ reasonable) (_END (END .) )))))) ) )\n",
      "(TOP (S2 (_BGNBK (BGNBK () (_NNP (NNP Fetchez) (_DT (DT la) (_NN (NN vache) (_END (END .) (_ENDBK (ENDBK )) (_NN (NN wha) (_END (END ?) )))))))) ) )\n",
      "(TOP (S2 (_BGNBK (BGNBK () (_NNP (NNP Fetchez) (_DT (DT la) (_NN (NN vache) (_END (END !) (_ENDBK (ENDBK )) )))))) ) )\n"
     ]
    },
    {
     "name": "stderr",
     "output_type": "stream",
     "text": [
      "#parsing: ['Now', ',', 'this', 'is', 'your', 'last', 'chance', '.']\n",
      "#parsing: [\"I've\", 'been', 'more', 'than', 'reasonable', '.']\n",
      "#parsing: ['(', 'Fetchez', 'la', 'vache', '.', ')', 'wha', '?']\n",
      "#parsing: ['(', 'Fetchez', 'la', 'vache', '!', ')']\n",
      "#parsing: ['If', 'you', 'do', 'not', 'agree', 'to', 'my', 'commands', ',', 'then', 'I', 'shall', '--']\n"
     ]
    },
    {
     "name": "stdout",
     "output_type": "stream",
     "text": [
      "(TOP (S2 (_IN (IN If) (_PRP (PRP you) (_VBP (VBP do) (_RB (RB not) (_VB (VB agree) (_TO (TO to) (_PRP$ (PRP$ my) (_NNS (NNS commands) (_PAUSE (PAUSE ,) (_RB (RB then) (_PRP (PRP I) (_MD (MD shall) (_BREAK (BREAK --) ))))))))))))) ) )\n",
      "(TOP (S2 (_NNP (NNP Jesus) (_NNP (NNP Christ) (_END (END !) ))) ) )\n",
      "(TOP (S2 (_RB (RB Right) (_END (END !) )) ) )\n",
      "(TOP (NP (NN Charge) (END !)) )\n",
      "(TOP (S2 (_UT (UT Ah) (_PAUSE (PAUSE ,) (_DT (DT this) (_CD (CD one) (_VBZ (VBZ is) (_IN (IN for) (_PRP$ (PRP$ your) (_NN (NN mother) (_END (END !) ))))))))) ) )\n",
      "(TOP (INTJ (NNP Run) (INTJ|<RB-END> (RB away) (END !))) )\n",
      "(TOP (S2 (_NNP (NNP Thpppt) (_END (END !) )) ) )\n",
      "(TOP (S2 (_NNS (NNS Fiends) (_END (END !) )) ) )\n",
      "(TOP (S (NP (PRP I) ) (S|<VP-END> (VP (MD 'll) (VP (VB tear) (VP|<NP-ADVP> (NP (PRP them) ) (ADVP (RB apart) )))) (END !))) )\n",
      "(TOP (FRAG (INTJ (DT No) (DT no)) (FRAG|<PAUSE-INTJ> (PAUSE ,) (FRAG|<INTJ-END> (INTJ (DT no) ) (END .)))) )\n",
      "(TOP (S2 (_NNP (NNP Sir) (_END (END !) )) ) )\n",
      "(TOP (S2 (_PRP (PRP I) (_VBP (VBP have) (_DT (DT a) (_NN (NN plan) (_PAUSE (PAUSE ,) (_NN (NN sir) (_END (END .) ))))))) ) )\n"
     ]
    },
    {
     "name": "stderr",
     "output_type": "stream",
     "text": [
      "#parsing: ['Jesus', 'Christ', '!']\n",
      "#parsing: ['Right', '!']\n",
      "#parsing: ['Charge', '!']\n",
      "#parsing: ['Ah', ',', 'this', 'one', 'is', 'for', 'your', 'mother', '!']\n",
      "#parsing: ['Run', 'away', '!']\n",
      "#parsing: ['Thpppt', '!']\n",
      "#parsing: ['Fiends', '!']\n",
      "#parsing: ['I', \"'ll\", 'tear', 'them', 'apart', '!']\n",
      "#parsing: ['No', 'no', ',', 'no', '.']\n",
      "#parsing: ['Sir', '!']\n",
      "#parsing: ['I', 'have', 'a', 'plan', ',', 'sir', '.']\n",
      "#parsing: ['ce', 'labon', 'a', 'bunny', 'do', 'wha', '?']\n"
     ]
    },
    {
     "name": "stdout",
     "output_type": "stream",
     "text": [
      "(TOP (SBARQ (WHADVP (NN ce) ) (SBARQ|<SQ-END> (SQ (NN labon) (SQ|<NP-VP> (NP (DT a) (NN bunny)) (VP (VBP do) (NP (NN wha) )))) (END ?))) )\n",
      "(TOP (S2 (_UT (UT un) (_NN (NN cadeau) (_END (END ?) ))) ) )\n",
      "(TOP (S2 (_DT (DT a) (_JJ (JJ present) (_END (END !) ))) ) )\n",
      "(TOP (S2 (_UH (UH oh) (_PAUSE (PAUSE ,) (_UT (UT un) (_NN (NN cadeau) (_END (END .) ))))) ) )\n",
      "(TOP (S2 (_UT (UT oui) (_UT (UT oui) (_NN (NN hurry) (_END (END !) )))) ) )\n",
      "(TOP (S2 (_NN (NN wha) (_BREAK (BREAK -) (_END (END ?) ))) ) )\n",
      "(TOP (S2 (_VB (VB let) (_POS (POS 's) (_VB (VB go) (_END (END !) )))) ) )\n",
      "(TOP (S2 (_WP (WP What) (_VBZ (VBZ happens) (_RB (RB now) (_END (END ?) )))) ) )\n"
     ]
    },
    {
     "name": "stderr",
     "output_type": "stream",
     "text": [
      "#parsing: ['un', 'cadeau', '?']\n",
      "#parsing: ['a', 'present', '!']\n",
      "#parsing: ['oh', ',', 'un', 'cadeau', '.']\n",
      "#parsing: ['oui', 'oui', 'hurry', '!']\n",
      "#parsing: ['wha', '-', '?']\n",
      "#parsing: ['let', \"'s\", 'go', '!']\n",
      "#parsing: ['What', 'happens', 'now', '?']\n",
      "#parsing: ['Well', ',', 'now', ',', 'uh', ',', 'Launcelot', ',', 'Galahad', ',', 'and', 'I', 'wait', 'until', 'nightfall', ',', 'and', 'then', 'leap', 'out', 'of', 'the', 'rabbit', ',', 'taking', 'the', 'French', 'by', 'surprise', '--', 'not', 'only', 'by', 'surprise', ',', 'but', 'totally', 'unarmed', '!']\n"
     ]
    },
    {
     "name": "stdout",
     "output_type": "stream",
     "text": [
      "(TOP (S2 (_RB (RB Well) (_PAUSE (PAUSE ,) (_RB (RB now) (_PAUSE (PAUSE ,) (_UT (UT uh) (_PAUSE (PAUSE ,) (_NNP (NNP Launcelot) (_PAUSE (PAUSE ,) (_NNP (NNP Galahad) (_PAUSE (PAUSE ,) (_CC (CC and) (_PRP (PRP I) (_NN (NN wait) (_IN (IN until) (_NN (NN nightfall) (_PAUSE (PAUSE ,) (_CC (CC and) (_RB (RB then) (_VB (VB leap) (_RP (RP out) (_IN (IN of) (_DT (DT the) (_NN (NN rabbit) (_PAUSE (PAUSE ,) (_VBG (VBG taking) (_DT (DT the) (_JJ (JJ French) (_IN (IN by) (_NN (NN surprise) (_BREAK (BREAK --) (_RB (RB not) (_RB (RB only) (_IN (IN by) (_NN (NN surprise) (_PAUSE (PAUSE ,) (_CC (CC but) (_RB (RB totally) (_JJ (JJ unarmed) (_END (END !) ))))))))))))))))))))))))))))))))))))))) ) )\n",
      "(TOP (S2 (_WP (WP Who) (_NNS (NNS leaps) (_RP (RP out) (_END (END ?) )))) ) )\n",
      "(TOP (FRAG (INTJ (RB Uh) ) (FRAG|<PAUSE-NNP> (PAUSE ,) (FRAG|<NNP-PAUSE> (NNP Launcelot) (FRAG|<PAUSE-NP> (PAUSE ,) (FRAG|<NP-PAUSE> (NP (NNP Galahad) ) (FRAG|<PAUSE-CC> (PAUSE ,) (FRAG|<CC-NP> (CC and) (FRAG|<NP-END> (NP (PRP I) ) (END .))))))))) )\n",
      "(TOP (S2 (_RB (RB Uh) (_PAUSE (PAUSE ,) (_VB (VB leap) (_RP (RP out) (_IN (IN of) (_DT (DT the) (_NN (NN rabbit) (_PAUSE (PAUSE ,) (_UT (UT uh) (_CC (CC and) (_UT (UT uh) (_BREAK (BREAK ...) (_END (END .) ))))))))))))) ) )\n",
      "(TOP (S2 (_UH (UH Oh) (_BREAK (BREAK ...) (_END (END .) ))) ) )\n"
     ]
    },
    {
     "name": "stderr",
     "output_type": "stream",
     "text": [
      "#parsing: ['Who', 'leaps', 'out', '?']\n",
      "#parsing: ['Uh', ',', 'Launcelot', ',', 'Galahad', ',', 'and', 'I', '.']\n",
      "#parsing: ['Uh', ',', 'leap', 'out', 'of', 'the', 'rabbit', ',', 'uh', 'and', 'uh', '...', '.']\n",
      "#parsing: ['Oh', '...', '.']\n",
      "#parsing: ['Um', ',', 'l', '-', 'look', ',', 'if', 'we', 'built', 'this', 'large', 'wooden', 'badger', '--']\n"
     ]
    },
    {
     "name": "stdout",
     "output_type": "stream",
     "text": [
      "(TOP (S2 (_RB (RB Um) (_PAUSE (PAUSE ,) (_NN (NN l) (_BREAK (BREAK -) (_NN (NN look) (_PAUSE (PAUSE ,) (_IN (IN if) (_PRP (PRP we) (_VBD (VBD built) (_DT (DT this) (_JJ (JJ large) (_JJ (JJ wooden) (_NN (NN badger) (_BREAK (BREAK --) )))))))))))))) ) )\n",
      "(TOP (INTJ (NNP Run) (INTJ|<RB-END> (RB away) (END !))) )\n",
      "(TOP (S2 (_UH (UH Oh) (_PAUSE (PAUSE ,) (_NNP (NNP haw) (_NNP (NNP haw) (_NNP (NNP haw) (_END (END .) )))))) ) )\n",
      "(TOP (S2 (_NNS (NNS Pictures) (_IN (IN for) (_NNS (NNS Schools) (_PAUSE (PAUSE ,) (_VB (VB take) (_CD (CD 8) (_END (END .) ))))))) ) )\n",
      "(TOP (S2 (_NNP (NNP Action) (_END (END !) )) ) )\n"
     ]
    },
    {
     "name": "stderr",
     "output_type": "stream",
     "text": [
      "#parsing: ['Run', 'away', '!']\n",
      "#parsing: ['Oh', ',', 'haw', 'haw', 'haw', '.']\n",
      "#parsing: ['Pictures', 'for', 'Schools', ',', 'take', '8', '.']\n",
      "#parsing: ['Action', '!']\n",
      "#parsing: ['Defeat', 'at', 'the', 'castle', 'seems', 'to', 'have', 'utterly', 'disheartened', 'King', 'Arthur', '.']\n"
     ]
    },
    {
     "name": "stdout",
     "output_type": "stream",
     "text": [
      "(TOP (S (NP (NP (NN Defeat) ) (PP (IN at) (NP (DT the) (NN castle)))) (S|<VP-END> (VP (VBZ seems) (VP (TO to) (VP (VBP have) (VP|<RB-VP> (RB utterly) (VP (VBN disheartened) (NP (NNP King) (NNP Arthur))))))) (END .))) )\n"
     ]
    },
    {
     "name": "stderr",
     "output_type": "stream",
     "text": [
      "#parsing: ['The', 'ferocity', 'of', 'the', 'French', 'taunting', 'took', 'him', 'completely', 'by', 'surprise', ',', 'and', 'Arthur', 'became', 'convinced', 'that', 'a', 'new', 'strategy', 'was', 'required', 'if', 'the', 'quest', 'for', 'the', 'Holy', 'Grail', 'were', 'to', 'be', 'brought', 'to', 'a', 'successful', 'conclusion', '.']\n"
     ]
    },
    {
     "name": "stdout",
     "output_type": "stream",
     "text": [
      "(TOP (S2 (_DT (DT The) (_NN (NN ferocity) (_IN (IN of) (_DT (DT the) (_JJ (JJ French) (_VBG (VBG taunting) (_VBD (VBD took) (_PRP (PRP him) (_RB (RB completely) (_IN (IN by) (_NN (NN surprise) (_PAUSE (PAUSE ,) (_CC (CC and) (_NNP (NNP Arthur) (_VBD (VBD became) (_JJ (JJ convinced) (_IN (IN that) (_DT (DT a) (_JJ (JJ new) (_NN (NN strategy) (_VBD (VBD was) (_VBN (VBN required) (_IN (IN if) (_DT (DT the) (_NN (NN quest) (_IN (IN for) (_DT (DT the) (_UT (UT Holy) (_NNP (NNP Grail) (_VBD (VBD were) (_TO (TO to) (_VB (VB be) (_VBN (VBN brought) (_TO (TO to) (_DT (DT a) (_JJ (JJ successful) (_NN (NN conclusion) (_END (END .) )))))))))))))))))))))))))))))))))))))) ) )\n"
     ]
    },
    {
     "name": "stderr",
     "output_type": "stream",
     "text": [
      "#parsing: ['Arthur', ',', 'having', 'consulted', 'his', 'closest', 'knights', ',', 'decided', 'that', 'they', 'should', 'separate', ',', 'and', 'search', 'for', 'the', 'Grail', 'individually', '.']\n"
     ]
    },
    {
     "name": "stdout",
     "output_type": "stream",
     "text": [
      "(TOP (S2 (_NNP (NNP Arthur) (_PAUSE (PAUSE ,) (_VBG (VBG having) (_VBN (VBN consulted) (_PRP$ (PRP$ his) (_JJS (JJS closest) (_NNS (NNS knights) (_PAUSE (PAUSE ,) (_VBN (VBN decided) (_IN (IN that) (_PRP (PRP they) (_MD (MD should) (_JJ (JJ separate) (_PAUSE (PAUSE ,) (_CC (CC and) (_NN (NN search) (_IN (IN for) (_DT (DT the) (_NN (NN Grail) (_RB (RB individually) (_END (END .) ))))))))))))))))))))) ) )\n",
      "(TOP (S2 (_RB (RB Now) (_PAUSE (PAUSE ,) (_DT (DT this) (_VBZ (VBZ is) (_WDT (WDT what) (_PRP (PRP they) (_VBD (VBD did) (_BREAK (BREAK --) )))))))) ) )\n",
      "(TOP (S2 (_NNP (NNP Greg) (_END (END !) )) ) )\n",
      "(TOP (S2 (_DT (DT The) (_NN (NN Tale) (_IN (IN of) (_NNP (NNP Sir) (_NNP (NNP Robin) (_BREAK (BREAK ...) (_END (END .) ))))))) ) )\n"
     ]
    },
    {
     "name": "stderr",
     "output_type": "stream",
     "text": [
      "#parsing: ['Now', ',', 'this', 'is', 'what', 'they', 'did', '--']\n",
      "#parsing: ['Greg', '!']\n",
      "#parsing: ['The', 'Tale', 'of', 'Sir', 'Robin', '...', '.']\n",
      "#parsing: ['So', 'each', 'of', 'the', 'knights', 'went', 'their', 'separate', 'ways', '.']\n"
     ]
    },
    {
     "name": "stdout",
     "output_type": "stream",
     "text": [
      "(TOP (S (ADVP (RB So) ) (S|<NP-VP> (NP (NP (DT each) ) (PP (IN of) (NP (DT the) (NNS knights)))) (S|<VP-END> (VP (VBD went) (NP (PRP$ their) (NP|<JJ-NNS> (JJ separate) (NNS ways)))) (END .)))) )\n"
     ]
    },
    {
     "name": "stderr",
     "output_type": "stream",
     "text": [
      "#parsing: ['Sir', 'Robin', 'rode', 'north', ',', 'through', 'the', 'dark', 'forest', 'of', 'Ewing', ',', 'accompanied', 'by', 'his', 'favorite', 'minstrels', '.']\n"
     ]
    },
    {
     "name": "stdout",
     "output_type": "stream",
     "text": [
      "(TOP (S (NP (NNP Sir) (NNP Robin)) (S|<VP-END> (VP (VBD rode) (VP|<ADVP-PAUSE> (ADVP (RB north) ) (VP|<PAUSE-PP> (PAUSE ,) (VP|<PP-PAUSE> (PP (IN through) (NP (NP (DT the) (NP|<JJ-NN> (JJ dark) (NN forest))) (PP (IN of) (NP (NNP Ewing) )))) (VP|<PAUSE-S> (PAUSE ,) (S (VP (VBN accompanied) (PP (IN by) (NP (PRP$ his) (NP|<JJ-NNS> (JJ favorite) (NNS minstrels))))) )))))) (END .))) )\n",
      "(TOP (S (NP (ADJP (RB Bravely) (JJ bold)) (NP|<NNP-NNP> (NNP Sir) (NNP Robin))) (S|<PAUSE-VP> (PAUSE ,) (S|<VP-END> (VP (VBD rode) (VP|<ADVP-PP> (ADVP (RB forth) ) (PP (IN from) (NP (NNP Camelot) )))) (END .)))) )\n"
     ]
    },
    {
     "name": "stderr",
     "output_type": "stream",
     "text": [
      "#parsing: ['Bravely', 'bold', 'Sir', 'Robin', ',', 'rode', 'forth', 'from', 'Camelot', '.']\n",
      "#parsing: ['He', 'was', 'not', 'afraid', 'to', 'die', ',', 'o', 'Brave', 'Sir', 'Robin', '.']\n"
     ]
    },
    {
     "name": "stdout",
     "output_type": "stream",
     "text": [
      "(TOP (S2 (_PRP (PRP He) (_VBD (VBD was) (_RB (RB not) (_JJ (JJ afraid) (_TO (TO to) (_VB (VB die) (_PAUSE (PAUSE ,) (_UT (UT o) (_NNP (NNP Brave) (_NNP (NNP Sir) (_NNP (NNP Robin) (_END (END .) )))))))))))) ) )\n"
     ]
    },
    {
     "name": "stderr",
     "output_type": "stream",
     "text": [
      "#parsing: ['He', 'was', 'not', 'at', 'all', 'afraid', 'to', 'be', 'killed', 'in', 'nasty', 'ways', '.']\n"
     ]
    },
    {
     "name": "stdout",
     "output_type": "stream",
     "text": [
      "(TOP (S2 (_PRP (PRP He) (_VBD (VBD was) (_RB (RB not) (_IN (IN at) (_PDT (PDT all) (_JJ (JJ afraid) (_TO (TO to) (_VB (VB be) (_VBN (VBN killed) (_IN (IN in) (_JJ (JJ nasty) (_NNS (NNS ways) (_END (END .) ))))))))))))) ) )\n",
      "(TOP (S (NP (NP (NNP Brave) ) (PRN (PAUSE ,) (PRN|<ADJP-PAUSE> (ADJP (ADJP (VBP brave) ) (ADJP|<PAUSE-ADJP> (PAUSE ,) (ADJP (VBP brave) ))) (PAUSE ,)))) (S|<VP-END> (VP (VBP brave) (NP (NNP Sir) (NNP Robin))) (END !))) )\n"
     ]
    },
    {
     "name": "stderr",
     "output_type": "stream",
     "text": [
      "#parsing: ['Brave', ',', 'brave', ',', 'brave', ',', 'brave', 'Sir', 'Robin', '!']\n",
      "#parsing: ['He', 'was', 'not', 'in', 'the', 'least', 'bit', 'scared', 'to', 'be', 'mashed', 'into', 'a', 'pulp', ',', 'Or', 'to', 'have', 'his', 'eyes', 'gouged', 'out', ',', 'and', 'his', 'elbows', 'broken', '.']\n"
     ]
    },
    {
     "name": "stdout",
     "output_type": "stream",
     "text": [
      "(TOP (S2 (_PRP (PRP He) (_VBD (VBD was) (_RB (RB not) (_IN (IN in) (_DT (DT the) (_JJS (JJS least) (_NN (NN bit) (_JJ (JJ scared) (_TO (TO to) (_VB (VB be) (_VBN (VBN mashed) (_IN (IN into) (_DT (DT a) (_NN (NN pulp) (_PAUSE (PAUSE ,) (_CC (CC Or) (_TO (TO to) (_VB (VB have) (_PRP$ (PRP$ his) (_NNS (NNS eyes) (_VBN (VBN gouged) (_RP (RP out) (_PAUSE (PAUSE ,) (_CC (CC and) (_PRP$ (PRP$ his) (_NNS (NNS elbows) (_VBN (VBN broken) (_END (END .) )))))))))))))))))))))))))))) ) )\n"
     ]
    },
    {
     "name": "stderr",
     "output_type": "stream",
     "text": [
      "#parsing: ['To', 'have', 'his', 'kneecaps', 'split', ',', 'and', 'his', 'body', 'burned', 'away', ',', 'And', 'his', 'limbs', 'all', 'hacked', 'and', 'mangled', ',', 'brave', 'Sir', 'Robin', '!']\n"
     ]
    },
    {
     "name": "stdout",
     "output_type": "stream",
     "text": [
      "(TOP (S2 (_TO (TO To) (_VB (VB have) (_PRP$ (PRP$ his) (_NNS (NNS kneecaps) (_NN (NN split) (_PAUSE (PAUSE ,) (_CC (CC and) (_PRP$ (PRP$ his) (_NN (NN body) (_VBD (VBD burned) (_RB (RB away) (_PAUSE (PAUSE ,) (_CC (CC And) (_PRP$ (PRP$ his) (_NNS (NNS limbs) (_PDT (PDT all) (_VBN (VBN hacked) (_CC (CC and) (_JJ (JJ mangled) (_PAUSE (PAUSE ,) (_VBP (VBP brave) (_NNP (NNP Sir) (_NNP (NNP Robin) (_END (END !) )))))))))))))))))))))))) ) )\n"
     ]
    },
    {
     "name": "stderr",
     "output_type": "stream",
     "text": [
      "#parsing: ['His', 'head', 'smashed', 'in', 'and', 'his', 'heart', 'cut', 'out', ',', 'And', 'his', 'liver', 'removed', 'and', 'his', 'bowels', 'unplugged', ',', 'And', 'his', 'nostrils', 'ripped', 'and', 'his', 'bottom', 'burned', 'off', ',', 'And', 'his', 'penis', '--']\n"
     ]
    },
    {
     "name": "stdout",
     "output_type": "stream",
     "text": [
      "(TOP (S2 (_PRP$ (PRP$ His) (_NN (NN head) (_VBN (VBN smashed) (_IN (IN in) (_CC (CC and) (_PRP$ (PRP$ his) (_NN (NN heart) (_VBD (VBD cut) (_RP (RP out) (_PAUSE (PAUSE ,) (_CC (CC And) (_PRP$ (PRP$ his) (_NN (NN liver) (_VBN (VBN removed) (_CC (CC and) (_PRP$ (PRP$ his) (_NNS (NNS bowels) (_JJ (JJ unplugged) (_PAUSE (PAUSE ,) (_CC (CC And) (_PRP$ (PRP$ his) (_NNS (NNS nostrils) (_VBN (VBN ripped) (_CC (CC and) (_PRP$ (PRP$ his) (_NN (NN bottom) (_VBD (VBD burned) (_RP (RP off) (_PAUSE (PAUSE ,) (_CC (CC And) (_PRP$ (PRP$ his) (_NN (NN penis) (_BREAK (BREAK --) ))))))))))))))))))))))))))))))))) ) )\n"
     ]
    },
    {
     "name": "stderr",
     "output_type": "stream",
     "text": [
      "#parsing: ['That', \"'s\", '--', 'that', \"'s\", ',', 'uh', ',', 'that', \"'s\", 'enough', 'music', 'for', 'now', ',', 'lads', '.']\n"
     ]
    },
    {
     "name": "stdout",
     "output_type": "stream",
     "text": [
      "(TOP (S2 (_DT (DT That) (_POS (POS 's) (_BREAK (BREAK --) (_WDT (WDT that) (_POS (POS 's) (_PAUSE (PAUSE ,) (_UT (UT uh) (_PAUSE (PAUSE ,) (_WDT (WDT that) (_POS (POS 's) (_RB (RB enough) (_NN (NN music) (_IN (IN for) (_RB (RB now) (_PAUSE (PAUSE ,) (_NNS (NNS lads) (_END (END .) ))))))))))))))))) ) )\n",
      "(TOP (S2 (_VBZ (VBZ Looks) (_IN (IN like) (_EX (EX there) (_POS (POS 's) (_JJ (JJ dirty) (_NN (NN work) (_RB (RB afoot) (_END (END .) )))))))) ) )\n"
     ]
    },
    {
     "name": "stderr",
     "output_type": "stream",
     "text": [
      "#parsing: ['Looks', 'like', 'there', \"'s\", 'dirty', 'work', 'afoot', '.']\n",
      "#parsing: ['Anarcho', '-', 'syndicalism', 'is', 'a', 'way', 'of', 'preserving', 'freedom', '.']\n"
     ]
    },
    {
     "name": "stdout",
     "output_type": "stream",
     "text": [
      "(TOP (S2 (_NNP (NNP Anarcho) (_BREAK (BREAK -) (_NN (NN syndicalism) (_VBZ (VBZ is) (_DT (DT a) (_NN (NN way) (_IN (IN of) (_VBG (VBG preserving) (_NN (NN freedom) (_END (END .) )))))))))) ) )\n",
      "(TOP (S2 (_UH (UH Oh) (_PAUSE (PAUSE ,) (_NNP (NNP Dennis) (_PAUSE (PAUSE ,) (_VB (VB forget) (_IN (IN about) (_NN (NN freedom) (_END (END .) )))))))) ) )\n",
      "(TOP (S (ADVP (RB Now) ) (S|<NP-VP> (NP (PRP I've) ) (S|<VP-END> (VP (VBD dropped) (NP (PRP$ my) (NN mud))) (END .)))) )\n",
      "(TOP (S (VP (VB Halt) ) (END !)) )\n",
      "(TOP (SBARQ (WHNP (WP Who) ) (SQ (NN art) (SQ|<NP-END> (NP (PRP thou) ) (END ?)))) )\n"
     ]
    },
    {
     "name": "stderr",
     "output_type": "stream",
     "text": [
      "#parsing: ['Oh', ',', 'Dennis', ',', 'forget', 'about', 'freedom', '.']\n",
      "#parsing: ['Now', \"I've\", 'dropped', 'my', 'mud', '.']\n",
      "#parsing: ['Halt', '!']\n",
      "#parsing: ['Who', 'art', 'thou', '?']\n",
      "#parsing: ['He', 'is', 'brave', 'Sir', 'Robin', ',', 'brave', 'Sir', 'Robin', ',', 'who', '--']\n"
     ]
    },
    {
     "name": "stdout",
     "output_type": "stream",
     "text": [
      "(TOP (S2 (_PRP (PRP He) (_VBZ (VBZ is) (_VBP (VBP brave) (_NNP (NNP Sir) (_NNP (NNP Robin) (_PAUSE (PAUSE ,) (_VBP (VBP brave) (_NNP (NNP Sir) (_NNP (NNP Robin) (_PAUSE (PAUSE ,) (_WP (WP who) (_BREAK (BREAK --) )))))))))))) ) )\n",
      "(TOP (S2 (_VB (VB Shut) (_RP (RP up) (_END (END !) ))) ) )\n",
      "(TOP (S2 (_RB (RB Um) (_PAUSE (PAUSE ,) (_NN (NN n) (_BREAK (BREAK -) (_NN (NN n) (_BREAK (BREAK -) (_NN (NN nobody) (_RB (RB really) (_PAUSE (PAUSE ,) (_PRP (PRP I'm) (_NN (NN j) (_BREAK (BREAK -) (_RB (RB just) (_UT (UT um) (_PAUSE (PAUSE ,) (_RB (RB just) (_VBG (VBG passing) (_RB (RB through) (_END (END .) ))))))))))))))))))) ) )\n",
      "(TOP (SBARQ (WHNP (WP What) ) (SBARQ|<SQ-END> (SQ (VBP do) (SQ|<NP-VP> (NP (PRP you) ) (VP (VB want) ))) (END ?))) )\n",
      "(TOP (S2 (_TO (TO To) (_NN (NN fight) (_PAUSE (PAUSE ,) (_CC (CC and) (_BREAK (BREAK --) ))))) ) )\n",
      "(TOP (S2 (_VB (VB Shut) (_RP (RP up) (_END (END !) ))) ) )\n"
     ]
    },
    {
     "name": "stderr",
     "output_type": "stream",
     "text": [
      "#parsing: ['Shut', 'up', '!']\n",
      "#parsing: ['Um', ',', 'n', '-', 'n', '-', 'nobody', 'really', ',', \"I'm\", 'j', '-', 'just', 'um', ',', 'just', 'passing', 'through', '.']\n",
      "#parsing: ['What', 'do', 'you', 'want', '?']\n",
      "#parsing: ['To', 'fight', ',', 'and', '--']\n",
      "#parsing: ['Shut', 'up', '!']\n",
      "#parsing: ['Um', ',', 'oo', ',', 'n', '-', 'nothing', ',', 'nothing', 'really', '--', 'I', ',', 'uh', ',', 'j', '-', 'j', '-', 'ust', 'to', 'um', ',', 'just', 'to', 'p', '-', 'pass', 'through', ',', 'good', 'Sir', 'knight', '.']\n"
     ]
    },
    {
     "name": "stdout",
     "output_type": "stream",
     "text": [
      "(TOP (S2 (_RB (RB Um) (_PAUSE (PAUSE ,) (_UT (UT oo) (_PAUSE (PAUSE ,) (_NN (NN n) (_BREAK (BREAK -) (_NN (NN nothing) (_PAUSE (PAUSE ,) (_NN (NN nothing) (_RB (RB really) (_BREAK (BREAK --) (_PRP (PRP I) (_PAUSE (PAUSE ,) (_UT (UT uh) (_PAUSE (PAUSE ,) (_NN (NN j) (_BREAK (BREAK -) (_NN (NN j) (_BREAK (BREAK -) (_IN (IN ust) (_TO (TO to) (_UT (UT um) (_PAUSE (PAUSE ,) (_RB (RB just) (_TO (TO to) (_NN (NN p) (_BREAK (BREAK -) (_NN (NN pass) (_IN (IN through) (_PAUSE (PAUSE ,) (_JJ (JJ good) (_NNP (NNP Sir) (_NN (NN knight) (_END (END .) )))))))))))))))))))))))))))))))))) ) )\n",
      "(TOP (S2 (_PRP (PRP I'm) (_JJ (JJ afraid) (_RB (RB not) (_END (END !) )))) ) )\n",
      "(TOP (S2 (_UT (UT Ah) (_END (END .) )) ) )\n"
     ]
    },
    {
     "name": "stderr",
     "output_type": "stream",
     "text": [
      "#parsing: [\"I'm\", 'afraid', 'not', '!']\n",
      "#parsing: ['Ah', '.']\n",
      "#parsing: ['W', '-', 'well', ',', 'actually', 'I', 'am', 'a', 'Knight', 'of', 'the', 'Round', 'Table', '.']\n"
     ]
    },
    {
     "name": "stdout",
     "output_type": "stream",
     "text": [
      "(TOP (S2 (_NN (NN W) (_BREAK (BREAK -) (_RB (RB well) (_PAUSE (PAUSE ,) (_RB (RB actually) (_PRP (PRP I) (_VBP (VBP am) (_DT (DT a) (_NNP (NNP Knight) (_IN (IN of) (_DT (DT the) (_NNP (NNP Round) (_NNP (NNP Table) (_END (END .) )))))))))))))) ) )\n",
      "(TOP (S2 (_PRP (PRP You're) (_DT (DT a) (_NNP (NNP Knight) (_IN (IN of) (_DT (DT the) (_NNP (NNP Round) (_NNP (NNP Table) (_END (END ?) )))))))) ) )\n",
      "(TOP (S (NP (PRP I) ) (S|<VP-END> (VP (VBP am) ) (END .))) )\n"
     ]
    },
    {
     "name": "stderr",
     "output_type": "stream",
     "text": [
      "#parsing: [\"You're\", 'a', 'Knight', 'of', 'the', 'Round', 'Table', '?']\n",
      "#parsing: ['I', 'am', '.']\n",
      "#parsing: ['In', 'that', 'case', 'I', 'shall', 'have', 'to', 'kill', 'you', '.']\n"
     ]
    },
    {
     "name": "stdout",
     "output_type": "stream",
     "text": [
      "(TOP (S2 (_IN (IN In) (_DT (DT that) (_NN (NN case) (_PRP (PRP I) (_MD (MD shall) (_VBP (VBP have) (_TO (TO to) (_VB (VB kill) (_PRP (PRP you) (_END (END .) )))))))))) ) )\n",
      "(TOP (S (VP (NNP Shall) (NP (PRP I) )) (END ?)) )\n",
      "(TOP (S (INTJ (UH Oh) ) (S|<PAUSE-NP> (PAUSE ,) (S|<NP-VP> (NP (PRP I) ) (S|<VP-END> (VP (VBP do) (VP|<RB-VP> (RB n't) (VP (VBP think) (RB so)))) (END .))))) )\n",
      "(TOP (SBARQ (INTJ (RB Well) ) (SBARQ|<PAUSE-WHNP> (PAUSE ,) (SBARQ|<WHNP-SQ> (WHNP (WP what) ) (SBARQ|<SQ-END> (SQ (VBP do) (SQ|<NP-VP> (NP (PRP I) ) (VP (VBP think) ))) (END ?))))) )\n",
      "(TOP (S (NP (PRP I) ) (S|<VP-END> (VP (VBP think) (VP (VB kill) (NP (PRP him) ))) (END .))) )\n",
      "(TOP (S (RB Well) (S|<VP-END> (VP (VB let) (VP (VBZ 's) (VP (VB be) (VP|<ADJP-PP> (ADJP (JJ nice) ) (PP (TO to) (NP (PRP him) )))))) (END .))) )\n",
      "(TOP (S (UH Oh) (S|<VP-END> (VP (VBD shut) (PRT (RP up) )) (END .))) )\n",
      "(TOP (S2 (_RB (RB Perhaps) (_BREAK (BREAK -) )) ) )\n",
      "(TOP (FRAG (CC And) (FRAG|<PRP-END> (PRP you) (END .))) )\n"
     ]
    },
    {
     "name": "stderr",
     "output_type": "stream",
     "text": [
      "#parsing: ['Shall', 'I', '?']\n",
      "#parsing: ['Oh', ',', 'I', 'do', \"n't\", 'think', 'so', '.']\n",
      "#parsing: ['Well', ',', 'what', 'do', 'I', 'think', '?']\n",
      "#parsing: ['I', 'think', 'kill', 'him', '.']\n",
      "#parsing: ['Well', 'let', \"'s\", 'be', 'nice', 'to', 'him', '.']\n",
      "#parsing: ['Oh', 'shut', 'up', '.']\n",
      "#parsing: ['Perhaps', '-']\n",
      "#parsing: ['And', 'you', '.']\n",
      "#parsing: ['Oh', 'quick', 'get', 'the', 'sword', 'out', 'I', 'want', 'to', 'cut', 'his', 'head', 'off', '!']\n"
     ]
    },
    {
     "name": "stdout",
     "output_type": "stream",
     "text": [
      "(TOP (S2 (_UH (UH Oh) (_JJ (JJ quick) (_VB (VB get) (_DT (DT the) (_NN (NN sword) (_IN (IN out) (_PRP (PRP I) (_VBP (VBP want) (_TO (TO to) (_VB (VB cut) (_PRP$ (PRP$ his) (_NN (NN head) (_RP (RP off) (_END (END !) )))))))))))))) ) )\n",
      "(TOP (S (INTJ (UH Oh) ) (S|<PAUSE-VP> (PAUSE ,) (S|<VP-END> (VP (VB cut) (VP|<NP-PRT> (NP (PRP$ your) (NP|<JJ-NN> (JJ own) (NN head))) (PRT (RP off) ))) (END !)))) )\n",
      "(TOP (S2 (_UH (UH Yes) (_PAUSE (PAUSE ,) (_VBP (VBP do) (_PRP (PRP us) (_PDT (PDT all) (_DT (DT a) (_NN (NN favor) (_END (END !) )))))))) ) )\n",
      "(TOP (FRAG (WP What) (END ?)) )\n",
      "(TOP (S (VP (VBG Yapping) (PP (IN on) (NP (PDT all) (NP|<DT-NN> (DT the) (NN time))))) (END .)) )\n",
      "(TOP (S2 (_PRP (PRP You're) (_JJ (JJ lucky) (_END (END .) ))) ) )\n",
      "(TOP (S2 (_PRP (PRP You're) (_RB (RB not) (_IN (IN next) (_TO (TO to) (_PRP (PRP him) (_END (END .) )))))) ) )\n",
      "(TOP (SBARQ (WHNP (WP What) ) (SBARQ|<SQ-END> (SQ (VBP do) (SQ|<NP-VP> (NP (PRP you) ) (VP (VBP mean) ))) (END ?))) )\n",
      "(TOP (S (NP (PRP You) ) (S|<VP-END> (VP (VB snore) ) (END .))) )\n"
     ]
    },
    {
     "name": "stderr",
     "output_type": "stream",
     "text": [
      "#parsing: ['Oh', ',', 'cut', 'your', 'own', 'head', 'off', '!']\n",
      "#parsing: ['Yes', ',', 'do', 'us', 'all', 'a', 'favor', '!']\n",
      "#parsing: ['What', '?']\n",
      "#parsing: ['Yapping', 'on', 'all', 'the', 'time', '.']\n",
      "#parsing: [\"You're\", 'lucky', '.']\n",
      "#parsing: [\"You're\", 'not', 'next', 'to', 'him', '.']\n",
      "#parsing: ['What', 'do', 'you', 'mean', '?']\n",
      "#parsing: ['You', 'snore', '.']\n",
      "#parsing: ['Oh', 'I', 'do', \"n't\", '--', 'anyway', ',', 'you', \"'ve\", 'got', 'bad', 'breath', '.']\n"
     ]
    },
    {
     "name": "stdout",
     "output_type": "stream",
     "text": [
      "(TOP (S2 (_UH (UH Oh) (_PRP (PRP I) (_VBP (VBP do) (_RB (RB n't) (_BREAK (BREAK --) (_RB (RB anyway) (_PAUSE (PAUSE ,) (_PRP (PRP you) (_VBP (VBP 've) (_VBN (VBN got) (_JJ (JJ bad) (_NN (NN breath) (_END (END .) ))))))))))))) ) )\n"
     ]
    },
    {
     "name": "stderr",
     "output_type": "stream",
     "text": [
      "#parsing: ['Well', 'its', 'only', 'because', 'you', 'do', \"n't\", 'brush', 'my', 'teeth', '.']\n"
     ]
    },
    {
     "name": "stdout",
     "output_type": "stream",
     "text": [
      "(TOP (S2 (_RB (RB Well) (_PRP$ (PRP$ its) (_RB (RB only) (_IN (IN because) (_PRP (PRP you) (_VBP (VBP do) (_RB (RB n't) (_NN (NN brush) (_PRP$ (PRP$ my) (_NNS (NNS teeth) (_END (END .) ))))))))))) ) )\n",
      "(TOP (S2 (_UH (UH Oh) (_VB (VB stop) (_VBG (VBG bitching) (_CC (CC and) (_VB (VB let) (_POS (POS 's) (_VBP (VBP go) (_VBP (VBP have) (_NN (NN tea) (_END (END .) )))))))))) ) )\n"
     ]
    },
    {
     "name": "stderr",
     "output_type": "stream",
     "text": [
      "#parsing: ['Oh', 'stop', 'bitching', 'and', 'let', \"'s\", 'go', 'have', 'tea', '.']\n",
      "#parsing: ['All', 'right', ',', 'all', 'right', ',', 'all', 'right', '.']\n"
     ]
    },
    {
     "name": "stdout",
     "output_type": "stream",
     "text": [
      "(TOP (S2 (_PDT (PDT All) (_RB (RB right) (_PAUSE (PAUSE ,) (_PDT (PDT all) (_RB (RB right) (_PAUSE (PAUSE ,) (_PDT (PDT all) (_RB (RB right) (_END (END .) ))))))))) ) )\n",
      "(TOP (S (NP (PRP We) ) (S|<VP-END> (VP (VP (MD 'll) (VP (VB kill) (VP|<NP-ADVP> (NP (PRP him) ) (ADVP (RB first) )))) (VP|<CC-RB> (CC and) (VP|<RB-VP> (RB then) (VP (VBP have) (NP (NN tea) (NP|<CC-NNS> (CC and) (NNS biscuits))))))) (END .))) )\n",
      "(TOP (S2 (_UH (UH Yes) (_END (END .) )) ) )\n",
      "(TOP (FRAG (INTJ (UH Oh) ) (FRAG|<PAUSE-CC> (PAUSE ,) (FRAG|<CC-RB> (CC but) (FRAG|<RB-NP> (RB not) (FRAG|<NP-END> (NP (NNS biscuits) ) (END .)))))) )\n",
      "-cross entropy: -8.416141890351343\n"
     ]
    },
    {
     "name": "stderr",
     "output_type": "stream",
     "text": [
      "#parsing: ['We', \"'ll\", 'kill', 'him', 'first', 'and', 'then', 'have', 'tea', 'and', 'biscuits', '.']\n",
      "#parsing: ['Yes', '.']\n",
      "#parsing: ['Oh', ',', 'but', 'not', 'biscuits', '.']\n",
      "#-cross entropy (bits/word): -8.41614\n"
     ]
    }
   ],
   "source": [
    "ce, trees = parser_tuned.parse_file('devset.txt')\n",
    "print(\"-cross entropy: {}\".format(ce))"
   ]
  },
  {
   "cell_type": "code",
   "execution_count": 143,
   "metadata": {},
   "outputs": [
    {
     "name": "stderr",
     "output_type": "stream",
     "text": [
      "#parsing: ['Arthur', 'is', 'the', 'king', '.']\n",
      "#parsing: ['Arthur', 'rides', 'the', 'horse', 'near', 'the', 'castle', '.']\n",
      "#parsing: ['riding', 'to', 'Camelot', 'is', 'hard', '.']\n",
      "#parsing: ['do', 'coconuts', 'speak', '?']\n",
      "#parsing: ['what', 'does', 'Arthur', 'ride', '?']\n",
      "#parsing: ['who', 'does', 'Arthur', 'suggest', 'she', 'carry', '?']\n"
     ]
    },
    {
     "name": "stdout",
     "output_type": "stream",
     "text": [
      "(TOP (S (NP (NNP Arthur) ) (S|<VP-END> (VP (VBZ is) (NP (DT the) (NN king))) (END .))) )\n",
      "(TOP (S2 (_NNP (NNP Arthur) (_NNS (NNS rides) (_DT (DT the) (_NN (NN horse) (_IN (IN near) (_DT (DT the) (_NN (NN castle) (_END (END .) )))))))) ) )\n",
      "(TOP (S2 (_VBG (VBG riding) (_TO (TO to) (_NNP (NNP Camelot) (_VBZ (VBZ is) (_RB (RB hard) (_END (END .) )))))) ) )\n",
      "(TOP (SQ (VBP do) (SQ|<NP-VP> (NP (NNS coconuts) ) (SQ|<VP-END> (VP (VB speak) ) (END ?)))) )\n",
      "(TOP (SBARQ (WHNP (WP what) ) (SBARQ|<SQ-END> (SQ (VBZ does) (SQ|<NP-VP> (NP (NNP Arthur) ) (VP (VB ride) ))) (END ?))) )\n",
      "(TOP (SBARQ (WHNP (WP who) ) (SBARQ|<SQ-END> (SQ (VBZ does) (SQ|<NP-SQ> (NP (NNP Arthur) ) (SQ (VB suggest) (SQ|<NP-VP> (NP (PRP she) ) (VP (VB carry) ))))) (END ?))) )\n",
      "(TOP (SBARQ (WHADVP (WRB why) ) (SBARQ|<SQ-END> (SQ (VBZ does) (SQ|<NP-VP> (NP (NNP England) ) (VP (VBP have) (NP (DT a) (NN king))))) (END ?))) )\n"
     ]
    },
    {
     "name": "stderr",
     "output_type": "stream",
     "text": [
      "#parsing: ['why', 'does', 'England', 'have', 'a', 'king', '?']\n",
      "#parsing: ['are', 'they', 'suggesting', 'Arthur', 'ride', 'to', 'Camelot', '?']\n",
      "#parsing: ['five', 'strangers', 'are', 'at', 'the', 'Round', 'Table', '.']\n",
      "#parsing: ['Guinevere', 'might', 'have', 'known', '.']\n",
      "#parsing: ['Guinevere', 'should', 'be', 'riding', 'with', 'Patsy', '.']\n"
     ]
    },
    {
     "name": "stdout",
     "output_type": "stream",
     "text": [
      "(TOP (SQ (VBP are) (SQ|<NP-VP> (NP (PRP they) ) (VP (VBG suggesting) (S (NP (NNP Arthur) ) (S|<VP-END> (VP (VB ride) (PP (TO to) (NP (NNP Camelot) ))) (END ?)))))) )\n",
      "(TOP (S (NP (CD five) (NNS strangers)) (S|<VP-END> (VP (VBP are) (PP (IN at) (NP (DT the) (NP|<NNP-NNP> (NNP Round) (NNP Table))))) (END .))) )\n",
      "(TOP (S2 (_NNP (NNP Guinevere) (_MD (MD might) (_VBP (VBP have) (_VBN (VBN known) (_END (END .) ))))) ) )\n",
      "(TOP (S (NP (NNP Guinevere) ) (S|<VP-END> (VP (MD should) (VP (VB be) (VP (VBG riding) (PP (IN with) (NP (NNP Patsy) ))))) (END .))) )\n",
      "(TOP (S2 (_PRP (PRP it) (_VBZ (VBZ is) (_NNP (NNP Sir) (_NNP (NNP Lancelot) (_WP (WP who) (_VBZ (VBZ knows) (_NNP (NNP Zoot) (_END (END !) )))))))) ) )\n"
     ]
    },
    {
     "name": "stderr",
     "output_type": "stream",
     "text": [
      "#parsing: ['it', 'is', 'Sir', 'Lancelot', 'who', 'knows', 'Zoot', '!']\n",
      "#parsing: ['either', 'Arthur', 'knows', 'or', 'Patsy', 'does', '.']\n",
      "#parsing: ['neither', 'Sir', 'Lancelot', 'nor', 'Guinevere', 'will', 'speak', 'of', 'it', '.']\n"
     ]
    },
    {
     "name": "stdout",
     "output_type": "stream",
     "text": [
      "(TOP (S (S (NP (DT either) (NNP Arthur)) (VP (VBZ knows) )) (S|<CC-S> (CC or) (S|<S-END> (S (NP (NNP Patsy) ) (VP (VBZ does) )) (END .)))) )\n",
      "(TOP (S (NP (NP (DT neither) (NP|<NNP-NNP> (NNP Sir) (NNP Lancelot))) (NP|<CC-NP> (CC nor) (NP (NNP Guinevere) ))) (S|<VP-END> (VP (MD will) (VP (VBP speak) (PP (IN of) (NP (PRP it) )))) (END .))) )\n"
     ]
    },
    {
     "name": "stderr",
     "output_type": "stream",
     "text": [
      "#parsing: ['the', 'Holy', 'Grail', 'was', 'covered', 'by', 'a', 'yellow', 'fruit', '.']\n",
      "#parsing: ['Zoot', 'might', 'have', 'been', 'carried', 'by', 'a', 'swallow', '.']\n",
      "#parsing: ['Arthur', 'rode', 'to', 'Camelot', 'and', 'drank', 'from', 'his', 'chalice', '.']\n"
     ]
    },
    {
     "name": "stdout",
     "output_type": "stream",
     "text": [
      "(TOP (S2 (_DT (DT the) (_UT (UT Holy) (_NNP (NNP Grail) (_VBD (VBD was) (_VBN (VBN covered) (_IN (IN by) (_DT (DT a) (_JJ (JJ yellow) (_NN (NN fruit) (_END (END .) )))))))))) ) )\n",
      "(TOP (S2 (_NNP (NNP Zoot) (_MD (MD might) (_VBP (VBP have) (_VBN (VBN been) (_VBN (VBN carried) (_IN (IN by) (_DT (DT a) (_VB (VB swallow) (_END (END .) ))))))))) ) )\n",
      "(TOP (S2 (_NNP (NNP Arthur) (_VBD (VBD rode) (_TO (TO to) (_NNP (NNP Camelot) (_CC (CC and) (_VBD (VBD drank) (_IN (IN from) (_PRP$ (PRP$ his) (_NN (NN chalice) (_END (END .) )))))))))) ) )\n"
     ]
    },
    {
     "name": "stderr",
     "output_type": "stream",
     "text": [
      "#parsing: ['they', 'migrate', 'precisely', 'because', 'they', 'know', 'they', 'will', 'grow', '.']\n",
      "#parsing: ['do', 'not', 'speak', '!']\n",
      "#parsing: ['Arthur', 'will', 'have', 'been', 'riding', 'for', 'eight', 'nights', '.']\n"
     ]
    },
    {
     "name": "stdout",
     "output_type": "stream",
     "text": [
      "(TOP (S2 (_PRP (PRP they) (_VBP (VBP migrate) (_RB (RB precisely) (_IN (IN because) (_PRP (PRP they) (_VBP (VBP know) (_PRP (PRP they) (_MD (MD will) (_VB (VB grow) (_END (END .) )))))))))) ) )\n",
      "(TOP (S (VP (VBP do) (VP|<RB-VP> (RB not) (VP (VB speak) ))) (END !)) )\n",
      "(TOP (S2 (_NNP (NNP Arthur) (_MD (MD will) (_VBP (VBP have) (_VBN (VBN been) (_VBG (VBG riding) (_IN (IN for) (_CD (CD eight) (_NNS (NNS nights) (_END (END .) ))))))))) ) )\n"
     ]
    },
    {
     "name": "stderr",
     "output_type": "stream",
     "text": [
      "#parsing: ['Arthur', ',', 'sixty', 'inches', ',', 'is', 'a', 'tiny', 'king', '.']\n",
      "#parsing: ['Arthur', 'knows', 'Patsy', ',', 'the', 'trusty', 'servant', '.']\n"
     ]
    },
    {
     "name": "stdout",
     "output_type": "stream",
     "text": [
      "(TOP (S (INTJ (NNP Arthur) ) (S|<PAUSE-NP> (PAUSE ,) (S|<NP-PAUSE> (NP (CD sixty) (NNS inches)) (S|<PAUSE-VP> (PAUSE ,) (S|<VP-END> (VP (VBZ is) (NP (DT a) (NP|<JJ-NN> (JJ tiny) (NN king)))) (END .)))))) )\n",
      "(TOP (S (NP (NNP Arthur) ) (S|<VP-END> (VP (VBZ knows) (NP (NP (NNP Patsy) ) (NP|<PAUSE-NP> (PAUSE ,) (NP (DT the) (NP|<JJ-NN> (JJ trusty) (NN servant)))))) (END .))) )\n",
      "(TOP (S (NP (NNP Arthur) (NP|<CC-NNP> (CC and) (NNP Guinevere))) (S|<VP-END> (VP (VBP migrate) (RB frequently)) (END .))) )\n"
     ]
    },
    {
     "name": "stderr",
     "output_type": "stream",
     "text": [
      "#parsing: ['Arthur', 'and', 'Guinevere', 'migrate', 'frequently', '.']\n",
      "#parsing: ['he', 'knows', 'what', 'they', 'are', 'covering', 'with', 'that', 'story', '.']\n",
      "#parsing: ['Arthur', 'suggested', 'that', 'the', 'castle', 'be', 'carried', '.']\n"
     ]
    },
    {
     "name": "stdout",
     "output_type": "stream",
     "text": [
      "(TOP (S (NP (PRP he) ) (S|<VP-END> (VP (VBZ knows) (SBAR (WHNP (WP what) ) (S (NP (PRP they) ) (VP (VBP are) (VP (VBG covering) (PP (IN with) (NP (DT that) (NN story)))))))) (END .))) )\n",
      "(TOP (S2 (_NNP (NNP Arthur) (_VBD (VBD suggested) (_IN (IN that) (_DT (DT the) (_NN (NN castle) (_VB (VB be) (_VBN (VBN carried) (_END (END .) )))))))) ) )\n"
     ]
    },
    {
     "name": "stderr",
     "output_type": "stream",
     "text": [
      "#parsing: ['the', 'king', 'drank', 'to', 'the', 'castle', 'that', 'was', 'his', 'home', '.']\n"
     ]
    },
    {
     "name": "stdout",
     "output_type": "stream",
     "text": [
      "(TOP (S (NP (DT the) (NN king)) (S|<VP-END> (VP (VBD drank) (VP|<PP-PP> (PP (TO to) (NP (DT the) (NN castle))) (PP (IN that) (S (VP (VBD was) (NP (PRP$ his) (NN home))) )))) (END .))) )\n",
      "(TOP (SBARQ (SBAR (WHADVP (WRB when) ) (S (NP (DT the) (NN king)) (VP (NNS drinks) ))) (SBARQ|<PAUSE-NP> (PAUSE ,) (SBARQ|<NP-END> (NP (NNP Patsy) (NNS drinks)) (END .)))) )\n",
      "-cross entropy: -8.338544384278855\n"
     ]
    },
    {
     "name": "stderr",
     "output_type": "stream",
     "text": [
      "#parsing: ['when', 'the', 'king', 'drinks', ',', 'Patsy', 'drinks', '.']\n",
      "#-cross entropy (bits/word): -8.33854\n"
     ]
    }
   ],
   "source": [
    "ce, trees = parser_tuned.parse_file('example_sentences.txt')\n",
    "print(\"-cross entropy: {}\".format(ce))"
   ]
  },
  {
   "cell_type": "markdown",
   "metadata": {},
   "source": [
    "### Generating sentences with trained grammar"
   ]
  },
  {
   "cell_type": "code",
   "execution_count": 17,
   "metadata": {},
   "outputs": [
    {
     "name": "stderr",
     "output_type": "stream",
     "text": [
      "#reading grammar file: S1_yabing.gr\n",
      "#reading grammar file: Vocab_yabing.gr\n"
     ]
    }
   ],
   "source": [
    "gen_gram = Pcfg([\"S1_yabing.gr\",\"Vocab_yabing.gr\"])"
   ]
  },
  {
   "cell_type": "code",
   "execution_count": 18,
   "metadata": {},
   "outputs": [
    {
     "name": "stdout",
     "output_type": "stream",
     "text": [
      "he lying for Arthur\n",
      "kaniggets Round , yours year , !\n",
      "snakes might understand We're 's . !\n",
      "What 's King brought being to Tim , Prince .\n",
      "you 's you .\n",
      "haw , the The set But Y'know , you , , coming in away .\n",
      "the Grail fart to sixteen people .\n",
      "haw guard !\n",
      "the Tale profane leads you ?\n",
      "English Listen Yapping out the nose !\n",
      "Sir find\n",
      "mumble auntie it\n",
      "Haw thank .\n",
      "This Sir haw is social .\n",
      "Who are my spam used nee to that end !\n",
      "tell leads\n",
      "come chickening to Concorde\n",
      "You 're to the sir\n",
      "your room grenade Look is us , Bridge\n",
      "fifty arrows praised from Thee Launcelot ?\n",
      "No seek the pointy color and pestilence , lie kaniggets , answer swallow looking to a flight , y' , . .\n",
      "the oral minute threw than Sir nee towards Knights ! .\n",
      "a afraid sir was who Swamp !\n",
      "my idea imprisoned !\n",
      "is the Sir Concorde carried Round ?\n",
      "Arthur be seemed sworn Packing against the father\n",
      "he keep if Robin and Y'know carved ?\n",
      "We're sign to You ?\n",
      "what 's Guinevere 's Run . .\n",
      "the hand be change legally carries and saved to you ?\n",
      "Where keep you waste below woods .\n",
      "Sir be who Knights bedwetting to you ?\n",
      "What weighs You carving amazes we ! ?\n",
      "when la Patsy Sir Bridge At Galahad ? , a week servant to Providence ?\n",
      "Gorge creep Thee And suggests kingdom .\n",
      "Sir lie then ?\n",
      "the Scot Arthur shit on the training\n",
      "spanked Over a same death or does a safety\n",
      "you rescue with no majority !\n",
      "would setting to the cave spanking\n",
      "Nador 'll 's all fat !\n",
      "When hear you get down looking what covered to Saint Nee , Pen 's ? .\n",
      "whom 're Christ burned with I 's the near heart . . .\n",
      "English gained mate .\n",
      "which have you call to no anything ?\n",
      "Who says seven tracts is .\n",
      "the king put should say Who Patsy suggests the wicked W . ?\n",
      "thee recover ?\n",
      "I leave !\n",
      "snuff your marryin\n"
     ]
    }
   ],
   "source": [
    "gen = PcfgGenerator(gen_gram)\n",
    "for _ in range(50):\n",
    "    print(\" \".join(gen.generate()))"
   ]
  }
 ],
 "metadata": {
  "kernelspec": {
   "display_name": "Python 3",
   "language": "python",
   "name": "python3"
  },
  "language_info": {
   "codemirror_mode": {
    "name": "ipython",
    "version": 3
   },
   "file_extension": ".py",
   "mimetype": "text/x-python",
   "name": "python",
   "nbconvert_exporter": "python",
   "pygments_lexer": "ipython3",
   "version": "3.6.0"
  }
 },
 "nbformat": 4,
 "nbformat_minor": 2
}
