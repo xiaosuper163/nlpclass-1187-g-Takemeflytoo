{
 "cells": [
  {
   "cell_type": "code",
   "execution_count": 1,
   "metadata": {},
   "outputs": [],
   "source": [
    "%load_ext autoreload\n",
    "%autoreload 2"
   ]
  },
  {
   "cell_type": "code",
   "execution_count": 2,
   "metadata": {},
   "outputs": [],
   "source": [
    "import optparse, sys, os, logging\n",
    "from collections import defaultdict\n",
    "from itertools import islice\n",
    "\n",
    "from align_yabing import *"
   ]
  },
  {
   "cell_type": "code",
   "execution_count": 7,
   "metadata": {},
   "outputs": [],
   "source": [
    "opts_datadir, opts_fileprefix = \"data\", \"hansards\""
   ]
  },
  {
   "cell_type": "code",
   "execution_count": 8,
   "metadata": {},
   "outputs": [],
   "source": [
    "opts_french, opts_english = \"fr\", \"en\""
   ]
  },
  {
   "cell_type": "code",
   "execution_count": 10,
   "metadata": {},
   "outputs": [],
   "source": [
    "opts_num_sents = 10"
   ]
  },
  {
   "cell_type": "code",
   "execution_count": 9,
   "metadata": {},
   "outputs": [],
   "source": [
    "f_data = \"%s.%s\" % (os.path.join(opts_datadir, opts_fileprefix), opts_french)\n",
    "e_data = \"%s.%s\" % (os.path.join(opts_datadir, opts_fileprefix), opts_english)"
   ]
  },
  {
   "cell_type": "code",
   "execution_count": 11,
   "metadata": {},
   "outputs": [],
   "source": [
    "bitext = [[sentence.strip().split() for sentence in pair] for pair in islice(zip(open(f_data), open(e_data)), opts_num_sents)]"
   ]
  },
  {
   "cell_type": "code",
   "execution_count": 25,
   "metadata": {},
   "outputs": [
    {
     "name": "stderr",
     "output_type": "stream",
     "text": [
      "Training with Expectation Maximization..."
     ]
    }
   ],
   "source": [
    "sys.stderr.write(\"Training with Expectation Maximization...\")"
   ]
  },
  {
   "cell_type": "markdown",
   "metadata": {},
   "source": [
    "* $k = 0$<br>\n",
    "* Initialize $t_0$ **## Easy choice: initialize uniformly ##**<br>\n",
    "* repeat <br>\n",
    "    * $k$ += 1 <br>\n",
    "    * Initialize all counts to zero <br>\n",
    "    * for each $(\\textbf{f}, \\textbf{e})$ in ${\\cal D}$ <br>\n",
    "        * for each $f_i$ in $\\textbf{f}$ <br>\n",
    "            * $Z$ = 0 **## Z commonly denotes a normalization term ##** <br>\n",
    "            * for each $e_j$ in $\\textbf{e}$ <br>\n",
    "                * $Z$ += $t_{k-1}(f_i \\mid e_j)$ <br>\n",
    "            * for each $e_j$ in $\\textbf{e}$ <br>\n",
    "                * `c` = $ t_{k-1}(f_i \\mid e_j) / Z $ <br>\n",
    "                * count($f_i$, $e_j$) += `c` <br>\n",
    "                * count($e_j$) += `c` <br>\n",
    "    * for each ($f$, $e$) in count <br>\n",
    "        * Set new parameters: $t_k(f \\mid e)$ =  count($f,e$) / count($e$) <br>\n",
    "* until convergence **## See below for convergence tests ##** <br>"
   ]
  },
  {
   "cell_type": "code",
   "execution_count": null,
   "metadata": {},
   "outputs": [],
   "source": []
  },
  {
   "cell_type": "markdown",
   "metadata": {},
   "source": [
    "* for each $(\\textbf{f}, \\textbf{e})$ in ${\\cal D}$\n",
    "    * for each $f_i$ in $\\textbf{f}$\n",
    "        * `bestp` = 0\n",
    "        * `bestj` = 0\n",
    "        * for each $e_j$ in $\\textbf{e}$\n",
    "            * if $t(f_i \\mid e_j)$ > `bestp`\n",
    "                * `bestp` = $t(f_i \\mid e_j)$\n",
    "                * `bestj` = $j$\n",
    "        * align $f_i$ to $e_{\\texttt{bestj}}$"
   ]
  },
  {
   "cell_type": "code",
   "execution_count": null,
   "metadata": {},
   "outputs": [],
   "source": []
  },
  {
   "cell_type": "code",
   "execution_count": null,
   "metadata": {},
   "outputs": [],
   "source": []
  },
  {
   "cell_type": "code",
   "execution_count": null,
   "metadata": {},
   "outputs": [],
   "source": []
  },
  {
   "cell_type": "code",
   "execution_count": null,
   "metadata": {},
   "outputs": [],
   "source": []
  }
 ],
 "metadata": {
  "kernelspec": {
   "display_name": "Python 3",
   "language": "python",
   "name": "python3"
  },
  "language_info": {
   "codemirror_mode": {
    "name": "ipython",
    "version": 3
   },
   "file_extension": ".py",
   "mimetype": "text/x-python",
   "name": "python",
   "nbconvert_exporter": "python",
   "pygments_lexer": "ipython3",
   "version": "3.6.5"
  }
 },
 "nbformat": 4,
 "nbformat_minor": 2
}
