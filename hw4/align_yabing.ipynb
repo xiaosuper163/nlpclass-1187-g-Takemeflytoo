{
 "cells": [
  {
   "cell_type": "code",
   "execution_count": 1,
   "metadata": {},
   "outputs": [],
   "source": [
    "%load_ext autoreload\n",
    "%autoreload 2"
   ]
  },
  {
   "cell_type": "code",
   "execution_count": 3,
   "metadata": {},
   "outputs": [],
   "source": [
    "import optparse, sys, os, logging\n",
    "from collections import defaultdict\n",
    "from itertools import islice\n",
    "import time\n",
    "#from align_yabing import *"
   ]
  },
  {
   "cell_type": "code",
   "execution_count": 4,
   "metadata": {},
   "outputs": [],
   "source": [
    "opts_datadir, opts_fileprefix = \"data\", \"hansards\""
   ]
  },
  {
   "cell_type": "code",
   "execution_count": 5,
   "metadata": {},
   "outputs": [],
   "source": [
    "opts_french, opts_english = \"fr\", \"en\""
   ]
  },
  {
   "cell_type": "code",
   "execution_count": 6,
   "metadata": {},
   "outputs": [],
   "source": [
    "opts_num_sents = 100000"
   ]
  },
  {
   "cell_type": "code",
   "execution_count": 7,
   "metadata": {},
   "outputs": [],
   "source": [
    "f_data = \"%s.%s\" % (os.path.join(opts_datadir, opts_fileprefix), opts_french)\n",
    "e_data = \"%s.%s\" % (os.path.join(opts_datadir, opts_fileprefix), opts_english)"
   ]
  },
  {
   "cell_type": "code",
   "execution_count": 9,
   "metadata": {},
   "outputs": [],
   "source": [
    "bitext = [[sentence.strip().split() for sentence in pair] \\\n",
    "          for pair in islice(zip(open(f_data,encoding=\"utf8\"), open(e_data,encoding=\"utf8\")), opts_num_sents)]"
   ]
  },
  {
   "cell_type": "code",
   "execution_count": 10,
   "metadata": {},
   "outputs": [
    {
     "name": "stderr",
     "output_type": "stream",
     "text": [
      "Training with Expectation Maximization...\n"
     ]
    }
   ],
   "source": [
    "sys.stderr.write(\"Training with Expectation Maximization...\\n\")"
   ]
  },
  {
   "cell_type": "code",
   "execution_count": 11,
   "metadata": {},
   "outputs": [],
   "source": [
    "%%time\n",
    "# f is the French word set\n",
    "# e is the English word set\n",
    "# f_count is the word count dictionary for French word set\n",
    "# N is the number of sentences\n",
    "f = set()\n",
    "e = set()\n",
    "f_count = defaultdict(int)\n",
    "for pair in bitext:\n",
    "    f = f.union(set(pair[0]))\n",
    "    e = e.union(set(pair[1]))\n",
    "    for f_i in set(pair[0]):\n",
    "        if f_i in f_count.keys():\n",
    "            f_count[f_i] += 1\n",
    "        else:\n",
    "            f_count[f_i] = 1\n",
    "N = len(bitext)"
   ]
  },
  {
   "cell_type": "markdown",
   "metadata": {},
   "source": [
    "* $k = 0$<br>\n",
    "* Initialize $t_0$ **## Easy choice: initialize uniformly ##**<br>\n",
    "* repeat <br>\n",
    "    * $k$ += 1 <br>\n",
    "    * Initialize all counts to zero <br>\n",
    "    * for each $(\\textbf{f}, \\textbf{e})$ in ${\\cal D}$ <br>\n",
    "        * for each $f_i$ in $\\textbf{f}$ <br>\n",
    "            * $Z$ = 0 **## Z commonly denotes a normalization term ##** <br>\n",
    "            * for each $e_j$ in $\\textbf{e}$ <br>\n",
    "                * $Z$ += $t_{k-1}(f_i \\mid e_j)$ <br>\n",
    "            * for each $e_j$ in $\\textbf{e}$ <br>\n",
    "                * `c` = $ t_{k-1}(f_i \\mid e_j) / Z $ <br>\n",
    "                * count($f_i$, $e_j$) += `c` <br>\n",
    "                * count($e_j$) += `c` <br>\n",
    "    * for each ($f$, $e$) in count <br>\n",
    "        * Set new parameters: $t_k(f \\mid e)$ =  count($f,e$) / count($e$) <br>\n",
    "* until convergence **## See below for convergence tests ##** <br>"
   ]
  },
  {
   "cell_type": "code",
   "execution_count": 12,
   "metadata": {},
   "outputs": [
    {
     "name": "stderr",
     "output_type": "stream",
     "text": [
      "Iteration 1.................................\n",
      "Iteration 2.................................\n",
      "Iteration 3.................................\n",
      "Iteration 4.................................\n",
      "Iteration 5.................................\n"
     ]
    }
   ],
   "source": [
    "k = 0\n",
    "# initialize theta uniformly\n",
    "num_f = len(f_count)\n",
    "theta = defaultdict(lambda: 1./num_f)\n",
    "while k < 5:\n",
    "    k += 1\n",
    "    tic = time.time()\n",
    "    sys.stderr.write(f\"Iteration {k}.................................\\n\")\n",
    "    e_count = defaultdict(int)\n",
    "    fe_count = defaultdict(int)\n",
    "    for n in range(N):\n",
    "        for f_i in bitext[n][0]:\n",
    "            Z = 0\n",
    "            for e_j in bitext[n][1]:\n",
    "                Z += theta[(f_i, e_j)]\n",
    "            for e_j in bitext[n][1]:\n",
    "                c = theta[(f_i, e_j)] / Z\n",
    "                fe_count[(f_i, e_j)] += c\n",
    "                e_count[e_j] += c\n",
    "    for (f_i, e_j) in fe_count.keys():\n",
    "        theta[(f_i, e_j)] = fe_count[(f_i, e_j)] / e_count[e_j]\n",
    "    toc = time.time()\n",
    "    sys.stderr.write(f\"Iteration {k} finished. Time cost: {toc-tic}\\n\")"
   ]
  },
  {
   "cell_type": "markdown",
   "metadata": {},
   "source": [
    "* for each $(\\textbf{f}, \\textbf{e})$ in ${\\cal D}$\n",
    "    * for each $f_i$ in $\\textbf{f}$\n",
    "        * `bestp` = 0\n",
    "        * `bestj` = 0\n",
    "        * for each $e_j$ in $\\textbf{e}$\n",
    "            * if $t(f_i \\mid e_j)$ > `bestp`\n",
    "                * `bestp` = $t(f_i \\mid e_j)$\n",
    "                * `bestj` = $j$\n",
    "        * align $f_i$ to $e_{\\texttt{bestj}}$"
   ]
  },
  {
   "cell_type": "code",
   "execution_count": 13,
   "metadata": {},
   "outputs": [
    {
     "name": "stderr",
     "output_type": "stream",
     "text": [
      "Aligning...\n"
     ]
    }
   ],
   "source": [
    "sys.stderr.write(\"Aligning...\\n\")"
   ]
  },
  {
   "cell_type": "code",
   "execution_count": 18,
   "metadata": {},
   "outputs": [],
   "source": [
    "%%capture --no-stderr dice_a\n",
    "for f, e in bitext:\n",
    "    for i in range(len(f)):\n",
    "        f_i = f[i]\n",
    "        bestp = 0\n",
    "        bestj = 0\n",
    "        for j in range(len(e)):\n",
    "            e_j = e[j]\n",
    "            if theta[(f_i, e_j)] > bestp:\n",
    "                bestp = theta[(f_i, e_j)]\n",
    "                bestj = j\n",
    "        sys.stdout.write(f\"{i}-{bestj} \")\n",
    "    sys.stdout.write(\"\\n\")"
   ]
  },
  {
   "cell_type": "code",
   "execution_count": 22,
   "metadata": {},
   "outputs": [],
   "source": [
    "# dump the output to the local file dice.a\n",
    "with open('dice.a','w',encoding=) as fh:\n",
    "    fh.write(str(dice_a))"
   ]
  },
  {
   "cell_type": "code",
   "execution_count": 1,
   "metadata": {},
   "outputs": [],
   "source": [
    "#%run check-alignments.py -i dice.a"
   ]
  },
  {
   "cell_type": "code",
   "execution_count": 26,
   "metadata": {},
   "outputs": [
    {
     "name": "stdout",
     "output_type": "stream",
     "text": [
      "Precision = 0.597603\n",
      "Recall = 0.774889\n",
      "AER = 0.341724\n"
     ]
    }
   ],
   "source": [
    "%run score-alignments.py -n 0 -i dice.a"
   ]
  },
  {
   "cell_type": "code",
   "execution_count": null,
   "metadata": {},
   "outputs": [],
   "source": []
  }
 ],
 "metadata": {
  "kernelspec": {
   "display_name": "Python 3",
   "language": "python",
   "name": "python3"
  },
  "language_info": {
   "codemirror_mode": {
    "name": "ipython",
    "version": 3
   },
   "file_extension": ".py",
   "mimetype": "text/x-python",
   "name": "python",
   "nbconvert_exporter": "python",
   "pygments_lexer": "ipython3",
   "version": "3.6.5"
  }
 },
 "nbformat": 4,
 "nbformat_minor": 2
}
