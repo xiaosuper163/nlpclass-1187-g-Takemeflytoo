{
 "cells": [
  {
   "cell_type": "markdown",
   "metadata": {},
   "source": [
    "# Homework 4 Aligner"
   ]
  },
  {
   "cell_type": "markdown",
   "metadata": {},
   "source": [
    "## In this notebook, I listed several attempts I have made and corresponding result. Eventually, our best AER of fr-en alignment is 0.1926. \n",
    "All the attempts are around IBM Model 1. We attempted to achieve the best AER with IBM Model 1. Adding null words and LLR initialization were also furthur explored. They worked well with the baseline. However, they didn't work when we tried to combine all the improvements. As a result, we didn't include them in this notebook. If you really want to look at the performance of those two types of improvement, please refer to the notebooks under backup folder.\n",
    "- [Load the package and dataset](#part-0)\n",
    "- [Baseline implementation: AER = 0.3417](#part-1)\n",
    "- [Add n smoothing: AER = 0.3124](#part-2)\n",
    "- [Use posterior probabilities + add n smoothing: AER = 0.2494 while threshold = 0.2494](#part-3)\n",
    "- [Intersection of alignments from two directions + add n smoothing: AER = 0.2030](#part-4)\n",
    "- [Alignment by agreement + add n smoothing + posterier probability: AER = 0.1926](#part-5)"
   ]
  },
  {
   "cell_type": "markdown",
   "metadata": {},
   "source": [
    "## Load the package and dataset <a id='part-0'>"
   ]
  },
  {
   "cell_type": "code",
   "execution_count": 1,
   "metadata": {},
   "outputs": [],
   "source": [
    "%load_ext autoreload\n",
    "%autoreload 2"
   ]
  },
  {
   "cell_type": "code",
   "execution_count": 2,
   "metadata": {},
   "outputs": [],
   "source": [
    "import optparse, sys, os, logging\n",
    "from collections import defaultdict\n",
    "from itertools import islice\n",
    "import time\n",
    "#from align_yabing import *"
   ]
  },
  {
   "cell_type": "code",
   "execution_count": 3,
   "metadata": {},
   "outputs": [],
   "source": [
    "opts_datadir, opts_fileprefix = \"data\", \"hansards\"\n",
    "opts_french, opts_english = \"fr\", \"en\"\n",
    "# opts_datadir, opts_fileprefix = \"data\", \"europarl\"\n",
    "# opts_french, opts_english = \"de\", \"en\""
   ]
  },
  {
   "cell_type": "code",
   "execution_count": 4,
   "metadata": {},
   "outputs": [],
   "source": [
    "opts_num_sents = 100000"
   ]
  },
  {
   "cell_type": "code",
   "execution_count": 5,
   "metadata": {},
   "outputs": [],
   "source": [
    "f_data = \"%s.%s\" % (os.path.join(opts_datadir, opts_fileprefix), opts_french)\n",
    "e_data = \"%s.%s\" % (os.path.join(opts_datadir, opts_fileprefix), opts_english)"
   ]
  },
  {
   "cell_type": "code",
   "execution_count": 6,
   "metadata": {},
   "outputs": [],
   "source": [
    "bitext = [[sentence.strip().split() for sentence in pair] \\\n",
    "          for pair in islice(zip(open(f_data,encoding=\"utf8\"), open(e_data,encoding=\"utf8\")), opts_num_sents)]"
   ]
  },
  {
   "cell_type": "markdown",
   "metadata": {},
   "source": [
    "## Baseline (AER = 0.3417)<a id='part-1'>"
   ]
  },
  {
   "cell_type": "markdown",
   "metadata": {},
   "source": [
    "At the very beginning, I implemented the baseline according to the assignment description provided by the professor. It achieved 0.3417 of AER."
   ]
  },
  {
   "cell_type": "code",
   "execution_count": 10,
   "metadata": {},
   "outputs": [
    {
     "name": "stderr",
     "output_type": "stream",
     "text": [
      "Training with Expectation Maximization...\n"
     ]
    }
   ],
   "source": [
    "sys.stderr.write(\"Training with Expectation Maximization...\\n\")"
   ]
  },
  {
   "cell_type": "code",
   "execution_count": 11,
   "metadata": {},
   "outputs": [],
   "source": [
    "%%time\n",
    "# f is the French word set\n",
    "# e is the English word set\n",
    "# f_count is the word count dictionary for French word set\n",
    "# N is the number of sentences\n",
    "f = set()\n",
    "e = set()\n",
    "f_count = defaultdict(int)\n",
    "for pair in bitext:\n",
    "    f = f.union(set(pair[0]))\n",
    "    e = e.union(set(pair[1]))\n",
    "    for f_i in set(pair[0]):\n",
    "        f_count[f_i] += 1\n",
    "N = len(bitext)"
   ]
  },
  {
   "cell_type": "markdown",
   "metadata": {},
   "source": [
    "* $k = 0$<br>\n",
    "* Initialize $t_0$ **## Easy choice: initialize uniformly ##**<br>\n",
    "* repeat <br>\n",
    "    * $k$ += 1 <br>\n",
    "    * Initialize all counts to zero <br>\n",
    "    * for each $(\\textbf{f}, \\textbf{e})$ in ${\\cal D}$ <br>\n",
    "        * for each $f_i$ in $\\textbf{f}$ <br>\n",
    "            * $Z$ = 0 **## Z commonly denotes a normalization term ##** <br>\n",
    "            * for each $e_j$ in $\\textbf{e}$ <br>\n",
    "                * $Z$ += $t_{k-1}(f_i \\mid e_j)$ <br>\n",
    "            * for each $e_j$ in $\\textbf{e}$ <br>\n",
    "                * `c` = $ t_{k-1}(f_i \\mid e_j) / Z $ <br>\n",
    "                * count($f_i$, $e_j$) += `c` <br>\n",
    "                * count($e_j$) += `c` <br>\n",
    "    * for each ($f$, $e$) in count <br>\n",
    "        * Set new parameters: $t_k(f \\mid e)$ =  count($f,e$) / count($e$) <br>\n",
    "* until k = 5"
   ]
  },
  {
   "cell_type": "code",
   "execution_count": 12,
   "metadata": {},
   "outputs": [
    {
     "name": "stderr",
     "output_type": "stream",
     "text": [
      "Iteration 1.................................\n",
      "Iteration 2.................................\n",
      "Iteration 3.................................\n",
      "Iteration 4.................................\n",
      "Iteration 5.................................\n"
     ]
    }
   ],
   "source": [
    "k = 0\n",
    "# initialize theta uniformly\n",
    "num_f = len(f_count)\n",
    "theta = defaultdict(lambda: 1./num_f)\n",
    "while k < 5:\n",
    "    k += 1\n",
    "    tic = time.time()\n",
    "    sys.stderr.write(f\"Iteration {k}.................................\\n\")\n",
    "    e_count = defaultdict(int)\n",
    "    fe_count = defaultdict(int)\n",
    "    for n in range(N):\n",
    "        for f_i in bitext[n][0]:\n",
    "            Z = 0\n",
    "            for e_j in bitext[n][1]:\n",
    "                Z += theta[(f_i, e_j)]\n",
    "            for e_j in bitext[n][1]:\n",
    "                c = theta[(f_i, e_j)] / Z\n",
    "                fe_count[(f_i, e_j)] += c\n",
    "                e_count[e_j] += c\n",
    "    for (f_i, e_j) in fe_count.keys():\n",
    "        theta[(f_i, e_j)] = fe_count[(f_i, e_j)] / e_count[e_j]\n",
    "    toc = time.time()\n",
    "    sys.stderr.write(f\"Iteration {k} finished. Time cost: {toc-tic}\\n\")"
   ]
  },
  {
   "cell_type": "markdown",
   "metadata": {},
   "source": [
    "* for each $(\\textbf{f}, \\textbf{e})$ in ${\\cal D}$\n",
    "    * for each $f_i$ in $\\textbf{f}$\n",
    "        * `bestp` = 0\n",
    "        * `bestj` = 0\n",
    "        * for each $e_j$ in $\\textbf{e}$\n",
    "            * if $t(f_i \\mid e_j)$ > `bestp`\n",
    "                * `bestp` = $t(f_i \\mid e_j)$\n",
    "                * `bestj` = $j$\n",
    "        * align $f_i$ to $e_{\\texttt{bestj}}$"
   ]
  },
  {
   "cell_type": "code",
   "execution_count": 13,
   "metadata": {},
   "outputs": [
    {
     "name": "stderr",
     "output_type": "stream",
     "text": [
      "Aligning...\n"
     ]
    }
   ],
   "source": [
    "sys.stderr.write(\"Aligning...\\n\")"
   ]
  },
  {
   "cell_type": "code",
   "execution_count": 18,
   "metadata": {},
   "outputs": [],
   "source": [
    "%%capture --no-stderr dice_a\n",
    "for f, e in bitext:\n",
    "    for i in range(len(f)):\n",
    "        f_i = f[i]\n",
    "        bestp = 0\n",
    "        bestj = 0\n",
    "        for j in range(len(e)):\n",
    "            e_j = e[j]\n",
    "            if theta[(f_i, e_j)] > bestp:\n",
    "                bestp = theta[(f_i, e_j)]\n",
    "                bestj = j\n",
    "        sys.stdout.write(f\"{i}-{bestj} \")\n",
    "    sys.stdout.write(\"\\n\")"
   ]
  },
  {
   "cell_type": "code",
   "execution_count": 22,
   "metadata": {},
   "outputs": [],
   "source": [
    "# dump the output to the local file dice.a\n",
    "with open('dice.a','w',encoding=\"utf8\") as fh:\n",
    "    fh.write(str(dice_a))"
   ]
  },
  {
   "cell_type": "code",
   "execution_count": 1,
   "metadata": {},
   "outputs": [],
   "source": [
    "#%run check-alignments.py -i dice.a"
   ]
  },
  {
   "cell_type": "code",
   "execution_count": 26,
   "metadata": {},
   "outputs": [
    {
     "name": "stdout",
     "output_type": "stream",
     "text": [
      "Precision = 0.597603\n",
      "Recall = 0.774889\n",
      "AER = 0.341724\n"
     ]
    }
   ],
   "source": [
    "%run score-alignments.py -n 0 -i dice.a"
   ]
  },
  {
   "cell_type": "markdown",
   "metadata": {},
   "source": [
    "## Add n smoothing (AER = 0.3124)<a id='part-2'>"
   ]
  },
  {
   "cell_type": "markdown",
   "metadata": {},
   "source": [
    "In this trial, I added n smoothing to the baseline. The AER was improved from 0.34 to 0.3124. The value of n is set to be 0.01. I didn't see much difference it can make."
   ]
  },
  {
   "cell_type": "code",
   "execution_count": 8,
   "metadata": {},
   "outputs": [
    {
     "name": "stdout",
     "output_type": "stream",
     "text": [
      "Wall time: 2min 59s\n"
     ]
    }
   ],
   "source": [
    "%%time\n",
    "# f is the French word set\n",
    "# e is the English word set\n",
    "# f_count is the word count dictionary for French word set\n",
    "# N is the number of sentences\n",
    "f = set()\n",
    "e = set()\n",
    "f_count = defaultdict(int)\n",
    "for pair in bitext:\n",
    "    f = f.union(set(pair[0]))\n",
    "    e = e.union(set(pair[1]))\n",
    "    for f_i in set(pair[0]):\n",
    "        f_count[f_i] += 1\n",
    "N = len(bitext)"
   ]
  },
  {
   "cell_type": "code",
   "execution_count": 9,
   "metadata": {},
   "outputs": [],
   "source": [
    "# add n smoothing\n",
    "smooth_n = 0.01\n",
    "vocab_N = 100000"
   ]
  },
  {
   "cell_type": "code",
   "execution_count": 10,
   "metadata": {},
   "outputs": [
    {
     "name": "stderr",
     "output_type": "stream",
     "text": [
      "Iteration 1.................................\n",
      "Iteration 1 finished. Time cost: 70.06756949424744\n",
      "Iteration 2.................................\n",
      "Iteration 2 finished. Time cost: 69.03484225273132\n",
      "Iteration 3.................................\n",
      "Iteration 3 finished. Time cost: 66.50286340713501\n",
      "Iteration 4.................................\n",
      "Iteration 4 finished. Time cost: 67.4163613319397\n",
      "Iteration 5.................................\n",
      "Iteration 5 finished. Time cost: 66.89071893692017\n"
     ]
    }
   ],
   "source": [
    "k = 0\n",
    "# initialize theta uniformly\n",
    "num_f = len(f_count)\n",
    "theta = defaultdict(lambda: 1./num_f)\n",
    "while k < 5:\n",
    "    k += 1\n",
    "    tic = time.time()\n",
    "    sys.stderr.write(f\"Iteration {k}.................................\\n\")\n",
    "    e_count = defaultdict(int)\n",
    "    fe_count = defaultdict(int)\n",
    "    for n in range(N):\n",
    "        for f_i in bitext[n][0]:\n",
    "            Z = 0\n",
    "            for e_j in bitext[n][1]:\n",
    "                Z += theta[(f_i, e_j)]\n",
    "            for e_j in bitext[n][1]:\n",
    "                c = theta[(f_i, e_j)] / Z\n",
    "                fe_count[(f_i, e_j)] += c\n",
    "                e_count[e_j] += c\n",
    "    for (f_i, e_j) in fe_count.keys():\n",
    "        theta[(f_i, e_j)] = (fe_count[(f_i, e_j)] + smooth_n) / (e_count[e_j] + vocab_N * smooth_n)\n",
    "    toc = time.time()\n",
    "    sys.stderr.write(f\"Iteration {k} finished. Time cost: {toc-tic}\\n\")"
   ]
  },
  {
   "cell_type": "code",
   "execution_count": 11,
   "metadata": {},
   "outputs": [],
   "source": [
    "%%capture --no-stderr dice_a\n",
    "for f, e in bitext:\n",
    "    for i in range(len(f)):\n",
    "        f_i = f[i]\n",
    "        bestp = 0\n",
    "        bestj = 0\n",
    "        for j in range(len(e)):\n",
    "            e_j = e[j]\n",
    "            if theta[(f_i, e_j)] > bestp:\n",
    "                bestp = theta[(f_i, e_j)]\n",
    "                bestj = j\n",
    "        sys.stdout.write(f\"{i}-{bestj} \")\n",
    "    sys.stdout.write(\"\\n\")"
   ]
  },
  {
   "cell_type": "code",
   "execution_count": 13,
   "metadata": {},
   "outputs": [],
   "source": [
    "# dump the output to the local file dice.a\n",
    "with open('dice.a','w',encoding='utf8') as fh:\n",
    "    fh.write(str(dice_a))"
   ]
  },
  {
   "cell_type": "code",
   "execution_count": 14,
   "metadata": {},
   "outputs": [
    {
     "name": "stdout",
     "output_type": "stream",
     "text": [
      "Precision = 0.623889\n",
      "Recall = 0.810054\n",
      "AER = 0.312399\n"
     ]
    }
   ],
   "source": [
    "%run score-alignments.py -n 0 -i dice.a"
   ]
  },
  {
   "cell_type": "markdown",
   "metadata": {},
   "source": [
    "## Use posterior probabilities + add n smoothing (AER = 0.2494 while setting threshold to 0.3)<a id='part-3'>"
   ]
  },
  {
   "cell_type": "markdown",
   "metadata": {},
   "source": [
    "In this trial, I used posterior probabilities intead of argmax method. Depending on the value of the threshold, the precision and recall can be differed. There is always a tradeoff between precision and recall while adjusting the threshold. I indeed saw an improvement of AER."
   ]
  },
  {
   "cell_type": "code",
   "execution_count": 7,
   "metadata": {},
   "outputs": [
    {
     "name": "stdout",
     "output_type": "stream",
     "text": [
      "Wall time: 2min 55s\n"
     ]
    }
   ],
   "source": [
    "%%time\n",
    "# f is the French word set\n",
    "# e is the English word set\n",
    "# f_count is the word count dictionary for French word set\n",
    "# N is the number of sentences\n",
    "f = set()\n",
    "e = set()\n",
    "f_count = defaultdict(int)\n",
    "for pair in bitext:\n",
    "    f = f.union(set(pair[0]))\n",
    "    e = e.union(set(pair[1]))\n",
    "    for f_i in set(pair[0]):\n",
    "        f_count[f_i] += 1\n",
    "N = len(bitext)"
   ]
  },
  {
   "cell_type": "code",
   "execution_count": 8,
   "metadata": {},
   "outputs": [],
   "source": [
    "# add n smoothing\n",
    "smooth_n = 0.01\n",
    "vocab_N = 100000"
   ]
  },
  {
   "cell_type": "code",
   "execution_count": 9,
   "metadata": {},
   "outputs": [
    {
     "name": "stderr",
     "output_type": "stream",
     "text": [
      "Iteration 1.................................\n",
      "Iteration 1 finished. Time cost: 67.98513007164001\n",
      "Iteration 2.................................\n",
      "Iteration 2 finished. Time cost: 67.01407670974731\n",
      "Iteration 3.................................\n",
      "Iteration 3 finished. Time cost: 67.34206819534302\n",
      "Iteration 4.................................\n",
      "Iteration 4 finished. Time cost: 68.05870580673218\n",
      "Iteration 5.................................\n",
      "Iteration 5 finished. Time cost: 67.69240880012512\n"
     ]
    }
   ],
   "source": [
    "k = 0\n",
    "# initialize theta uniformly\n",
    "num_f = len(f_count)\n",
    "theta = defaultdict(lambda: 1./num_f)\n",
    "while k < 5:\n",
    "    k += 1\n",
    "    tic = time.time()\n",
    "    sys.stderr.write(f\"Iteration {k}.................................\\n\")\n",
    "    e_count = defaultdict(int)\n",
    "    fe_count = defaultdict(int)\n",
    "    for n in range(N):\n",
    "        for f_i in bitext[n][0]:\n",
    "            Z = 0\n",
    "            for e_j in bitext[n][1]:\n",
    "                Z += theta[(f_i, e_j)]\n",
    "            for e_j in bitext[n][1]:\n",
    "                c = theta[(f_i, e_j)] / Z\n",
    "                fe_count[(f_i, e_j)] += c\n",
    "                e_count[e_j] += c\n",
    "    for (f_i, e_j) in fe_count.keys():\n",
    "        theta[(f_i, e_j)] = (fe_count[(f_i, e_j)] + smooth_n) / (e_count[e_j] + vocab_N * smooth_n)\n",
    "    toc = time.time()\n",
    "    sys.stderr.write(f\"Iteration {k} finished. Time cost: {toc-tic}\\n\")"
   ]
  },
  {
   "cell_type": "markdown",
   "metadata": {},
   "source": [
    "* for each $(\\textbf{f},\\textbf{e})$ in ${\\cal D}$\n",
    "    * for each $f_i$ in $\\textbf{f}$\n",
    "        * $Z = 0$\n",
    "        * for each $e_j$ in $\\textbf{e}$\n",
    "            * $Z += t(f_i∣e_j)$\n",
    "        * for each $e_j$ in $\\textbf{e}$\n",
    "            * $posterior$ = $t(f_i∣e_j)/ Z$\n",
    "            * if $(posterior > \\delta)$ keep alignment between $f_i$ and $e_j$"
   ]
  },
  {
   "cell_type": "code",
   "execution_count": 54,
   "metadata": {},
   "outputs": [],
   "source": [
    "%%capture --no-stderr dice_a\n",
    "\n",
    "# delta is the threshold we used to decide whether to keep the alignment pair\n",
    "delta = 0.3\n",
    "\n",
    "for f, e in bitext:\n",
    "    for i, f_i in enumerate(f):\n",
    "        Z = 0\n",
    "        for j, e_j in enumerate(e):\n",
    "            Z += theta[(f_i, e_j)]\n",
    "        for j, e_j in enumerate(e):\n",
    "            posterior = theta[(f_i, e_j)] / Z\n",
    "            if posterior >= delta:\n",
    "                sys.stdout.write(f\"{i}-{j} \")\n",
    "    sys.stdout.write(\"\\n\")"
   ]
  },
  {
   "cell_type": "code",
   "execution_count": 55,
   "metadata": {},
   "outputs": [],
   "source": [
    "# dump the output to the local file dice.a\n",
    "with open('dice.a','w',encoding='utf8') as fh:\n",
    "    fh.write(str(dice_a))"
   ]
  },
  {
   "cell_type": "code",
   "execution_count": 56,
   "metadata": {},
   "outputs": [
    {
     "name": "stdout",
     "output_type": "stream",
     "text": [
      "Precision = 0.740273\n",
      "Recall = 0.765726\n",
      "AER = 0.249424\n"
     ]
    }
   ],
   "source": [
    "%run score-alignments.py -n 0 -i dice.a"
   ]
  },
  {
   "cell_type": "markdown",
   "metadata": {},
   "source": [
    "## Intersection of alignments from two directions + add n smoothing (AER = 0.2030)<a id='part-4'>"
   ]
  },
  {
   "cell_type": "markdown",
   "metadata": {},
   "source": [
    "In this trial, I tried to build two models from both translation directions and used the intersection of two alignment sets as final alignment. The AER was improved dramatically."
   ]
  },
  {
   "cell_type": "code",
   "execution_count": 7,
   "metadata": {},
   "outputs": [
    {
     "name": "stdout",
     "output_type": "stream",
     "text": [
      "Wall time: 3min 10s\n"
     ]
    }
   ],
   "source": [
    "%%time\n",
    "# f is the French word set\n",
    "# e is the English word set\n",
    "# f_count is the word count dictionary for French word set\n",
    "# e_count is the word count dictionary for English word set\n",
    "# N is the number of sentences\n",
    "f = set()\n",
    "e = set()\n",
    "f_count = defaultdict(int)\n",
    "e_count = defaultdict(int)\n",
    "for pair in bitext:\n",
    "    f = f.union(set(pair[0]))\n",
    "    e = e.union(set(pair[1]))\n",
    "    for f_i in set(pair[0]):\n",
    "        f_count[f_i] += 1\n",
    "    for e_j in set(pair[1]):\n",
    "        e_count[e_j] += 1\n",
    "N = len(bitext)"
   ]
  },
  {
   "cell_type": "code",
   "execution_count": 8,
   "metadata": {},
   "outputs": [],
   "source": [
    "num_f = len(f_count)\n",
    "num_e = len(e_count)\n",
    "\n",
    "# add n smoothing\n",
    "smooth_n = 0.01\n",
    "vocab_N = 100000"
   ]
  },
  {
   "cell_type": "code",
   "execution_count": 10,
   "metadata": {},
   "outputs": [],
   "source": [
    "def align(num, N, isReverse=False):\n",
    "    '''\n",
    "    num: size of target language word count dict\n",
    "    N: number of sentences\n",
    "    isReverse: if the translation direction is reversed\n",
    "    '''\n",
    "    k = 0\n",
    "    # initialize theta uniformly\n",
    "    theta = defaultdict(lambda: 1./num)\n",
    "    while k < 5:\n",
    "        k += 1\n",
    "        tic = time.time()\n",
    "        sys.stderr.write(f\"Iteration {k}.................................\\n\")\n",
    "        e_count = defaultdict(int)\n",
    "        fe_count = defaultdict(int)\n",
    "        if isReverse:\n",
    "            for n in range(N):\n",
    "                for f_i in bitext[n][1]:\n",
    "                    Z = 0\n",
    "                    for e_j in bitext[n][0]:\n",
    "                        Z += theta[(f_i, e_j)]\n",
    "                    for e_j in bitext[n][0]:\n",
    "                        c = theta[(f_i, e_j)] / Z\n",
    "                        fe_count[(f_i, e_j)] += c\n",
    "                        e_count[e_j] += c\n",
    "        else:\n",
    "            for n in range(N):\n",
    "                for f_i in bitext[n][0]:\n",
    "                    Z = 0\n",
    "                    for e_j in bitext[n][1]:\n",
    "                        Z += theta[(f_i, e_j)]\n",
    "                    for e_j in bitext[n][1]:\n",
    "                        c = theta[(f_i, e_j)] / Z\n",
    "                        fe_count[(f_i, e_j)] += c\n",
    "                        e_count[e_j] += c\n",
    "        for (f_i, e_j) in fe_count.keys():\n",
    "            theta[(f_i, e_j)] = (fe_count[(f_i, e_j)] + smooth_n) / (e_count[e_j] + vocab_N * smooth_n)\n",
    "        toc = time.time()\n",
    "        sys.stderr.write(f\"Iteration {k} finished. Time cost: {toc-tic}\\n\")\n",
    "    return theta"
   ]
  },
  {
   "cell_type": "code",
   "execution_count": 11,
   "metadata": {},
   "outputs": [
    {
     "name": "stderr",
     "output_type": "stream",
     "text": [
      "Iteration 1.................................\n",
      "Iteration 1 finished. Time cost: 59.55198121070862\n",
      "Iteration 2.................................\n",
      "Iteration 2 finished. Time cost: 60.37677502632141\n",
      "Iteration 3.................................\n",
      "Iteration 3 finished. Time cost: 59.10754203796387\n",
      "Iteration 4.................................\n",
      "Iteration 4 finished. Time cost: 59.759299993515015\n",
      "Iteration 5.................................\n",
      "Iteration 5 finished. Time cost: 59.11804461479187\n",
      "Iteration 1.................................\n",
      "Iteration 1 finished. Time cost: 63.21055626869202\n",
      "Iteration 2.................................\n",
      "Iteration 2 finished. Time cost: 63.88322186470032\n",
      "Iteration 3.................................\n",
      "Iteration 3 finished. Time cost: 59.511693477630615\n",
      "Iteration 4.................................\n",
      "Iteration 4 finished. Time cost: 57.98052620887756\n",
      "Iteration 5.................................\n",
      "Iteration 5 finished. Time cost: 57.46198773384094\n"
     ]
    }
   ],
   "source": [
    "theta_e2f = align(num_f, N, False)\n",
    "theta_f2e = align(num_e, N, True)"
   ]
  },
  {
   "cell_type": "code",
   "execution_count": 12,
   "metadata": {},
   "outputs": [],
   "source": [
    "%%capture --no-stderr dice_a\n",
    "for f, e in bitext:\n",
    "    set_e2f = set()\n",
    "    set_f2e = set()\n",
    "    for i in range(len(f)):\n",
    "        f_i = f[i]\n",
    "        bestp = 0\n",
    "        bestj = 0\n",
    "        for j in range(len(e)):\n",
    "            e_j = e[j]\n",
    "            if theta_e2f[(f_i, e_j)] > bestp:\n",
    "                bestp = theta_e2f[(f_i, e_j)]\n",
    "                bestj = j\n",
    "        set_e2f.add((i, bestj))        \n",
    "    for j in range(len(e)):\n",
    "        e_j = e[j]\n",
    "        bestp = 0\n",
    "        besti = 0\n",
    "        for i in range(len(f)):\n",
    "            f_i = f[i]\n",
    "            if theta_f2e[(e_j, f_i)] > bestp:\n",
    "                bestp = theta_f2e[(e_j, f_i)]\n",
    "                besti = i\n",
    "        set_f2e.add((besti,j))\n",
    "    set_combined = set_f2e.intersection(set_e2f)\n",
    "    \n",
    "    for pair in set_combined:\n",
    "        sys.stdout.write(f\"{pair[0]}-{pair[1]} \")\n",
    "    sys.stdout.write(\"\\n\")"
   ]
  },
  {
   "cell_type": "code",
   "execution_count": 13,
   "metadata": {},
   "outputs": [],
   "source": [
    "# dump the output to the local file dice.a\n",
    "with open('dice.a','w',encoding='utf8') as fh:\n",
    "    fh.write(str(dice_a))"
   ]
  },
  {
   "cell_type": "code",
   "execution_count": 14,
   "metadata": {},
   "outputs": [
    {
     "name": "stdout",
     "output_type": "stream",
     "text": [
      "Precision = 0.858713\n",
      "Recall = 0.730312\n",
      "AER = 0.202974\n"
     ]
    }
   ],
   "source": [
    "%run score-alignments.py -n 0 -i dice.a"
   ]
  },
  {
   "cell_type": "markdown",
   "metadata": {},
   "source": [
    "## Alignment by agreement + add n smoothing + posterier probability (AER = 0.1926)<a id='part-5'>"
   ]
  },
  {
   "cell_type": "markdown",
   "metadata": {},
   "source": [
    "In this trial, I combined everything I've tried, including adding n smoothing, applying posterior probabilities while aligning, and applying alignment by two independent models. I experimented several thresholds (see below). As you may have noted, the threshold is almost the square of the threshold used in previous trial. The reason is we are thresholding the product of two posterior probabilities. Eventually, the optimized one was determined to be 0.08. I also tried different n (in add n smoothing) (results not shown). That won't make much difference on AER. So I simply set it to 0.01 as specified in the paper."
   ]
  },
  {
   "cell_type": "markdown",
   "metadata": {},
   "source": [
    "    n = 0.01 \n",
    "    Threshold | AER score | Precision | Recall\n",
    "    0.04      | 0.215656  | 0.747634  | 0.841010\n",
    "    0.06      | 0.197782  | 0.800442  | 0.804606\n",
    "    0.07      | 0.194017  | 0.817271  | 0.791481\n",
    "    0.08      | 0.192571  | 0.829273  | 0.780337\n",
    "    0.09      | 0.194620  | 0.836773  | 0.767707\n",
    "    0.10      | 0.196451  | 0.844369  | 0.756067"
   ]
  },
  {
   "cell_type": "code",
   "execution_count": 7,
   "metadata": {},
   "outputs": [
    {
     "name": "stdout",
     "output_type": "stream",
     "text": [
      "Wall time: 2min 52s\n"
     ]
    }
   ],
   "source": [
    "%%time\n",
    "# f is the French word set\n",
    "# e is the English word set\n",
    "# f_count is the word count dictionary for French word set\n",
    "# e_count is the word count dictionary for English word set\n",
    "# N is the number of sentences\n",
    "f = set()\n",
    "e = set()\n",
    "f_count = defaultdict(int)\n",
    "e_count = defaultdict(int)\n",
    "for pair in bitext:\n",
    "    f = f.union(set(pair[0]))\n",
    "    e = e.union(set(pair[1]))\n",
    "    for f_i in set(pair[0]):\n",
    "        f_count[f_i] += 1\n",
    "    for e_j in set(pair[1]):\n",
    "        e_count[e_j] += 1\n",
    "N = len(bitext)"
   ]
  },
  {
   "cell_type": "code",
   "execution_count": 8,
   "metadata": {},
   "outputs": [],
   "source": [
    "num_f = len(f_count)\n",
    "num_e = len(e_count)\n",
    "\n",
    "# add n smoothing\n",
    "smooth_n = 0.01\n",
    "vocab_N = 100000"
   ]
  },
  {
   "cell_type": "code",
   "execution_count": 9,
   "metadata": {},
   "outputs": [],
   "source": [
    "def align(num, N, isReverse=False):\n",
    "    '''\n",
    "    num: size of target language word count dict\n",
    "    N: number of sentences\n",
    "    isReverse: if the translation direction is reversed\n",
    "    '''\n",
    "    k = 0\n",
    "    # initialize theta uniformly\n",
    "    theta = defaultdict(lambda: 1./num)\n",
    "    while k < 5:\n",
    "        k += 1\n",
    "        tic = time.time()\n",
    "        sys.stderr.write(f\"Iteration {k}.................................\\n\")\n",
    "        e_count = defaultdict(int)\n",
    "        fe_count = defaultdict(int)\n",
    "        if isReverse:\n",
    "            for n in range(N):\n",
    "                for f_i in bitext[n][1]:\n",
    "                    Z = 0\n",
    "                    for e_j in bitext[n][0]:\n",
    "                        Z += theta[(f_i, e_j)]\n",
    "                    for e_j in bitext[n][0]:\n",
    "                        c = theta[(f_i, e_j)] / Z\n",
    "                        fe_count[(f_i, e_j)] += c\n",
    "                        e_count[e_j] += c\n",
    "        else:\n",
    "            for n in range(N):\n",
    "                for f_i in bitext[n][0]:\n",
    "                    Z = 0\n",
    "                    for e_j in bitext[n][1]:\n",
    "                        Z += theta[(f_i, e_j)]\n",
    "                    for e_j in bitext[n][1]:\n",
    "                        c = theta[(f_i, e_j)] / Z\n",
    "                        fe_count[(f_i, e_j)] += c\n",
    "                        e_count[e_j] += c\n",
    "        for (f_i, e_j) in fe_count.keys():\n",
    "            theta[(f_i, e_j)] = (fe_count[(f_i, e_j)] + smooth_n) / (e_count[e_j] + vocab_N * smooth_n)\n",
    "        toc = time.time()\n",
    "        sys.stderr.write(f\"Iteration {k} finished. Time cost: {toc-tic}\\n\")\n",
    "    return theta"
   ]
  },
  {
   "cell_type": "code",
   "execution_count": 10,
   "metadata": {},
   "outputs": [
    {
     "name": "stderr",
     "output_type": "stream",
     "text": [
      "Iteration 1.................................\n",
      "Iteration 1 finished. Time cost: 55.44521379470825\n",
      "Iteration 2.................................\n",
      "Iteration 2 finished. Time cost: 56.67413544654846\n",
      "Iteration 3.................................\n",
      "Iteration 3 finished. Time cost: 66.29871845245361\n",
      "Iteration 4.................................\n",
      "Iteration 4 finished. Time cost: 67.42438054084778\n",
      "Iteration 5.................................\n",
      "Iteration 5 finished. Time cost: 68.79667353630066\n",
      "Iteration 1.................................\n",
      "Iteration 1 finished. Time cost: 71.30190944671631\n",
      "Iteration 2.................................\n",
      "Iteration 2 finished. Time cost: 70.01798844337463\n",
      "Iteration 3.................................\n",
      "Iteration 3 finished. Time cost: 67.70860290527344\n",
      "Iteration 4.................................\n",
      "Iteration 4 finished. Time cost: 68.6275646686554\n",
      "Iteration 5.................................\n",
      "Iteration 5 finished. Time cost: 62.62635397911072\n"
     ]
    }
   ],
   "source": [
    "theta_e2f = align(num_f, N, False)\n",
    "theta_f2e = align(num_e, N, True)"
   ]
  },
  {
   "cell_type": "code",
   "execution_count": 11,
   "metadata": {},
   "outputs": [],
   "source": [
    "%%capture --no-stderr dice_a\n",
    "\n",
    "# delta is the threshold we used to decide whether to keep the alignment pair\n",
    "delta = 0.08\n",
    "\n",
    "for f, e in bitext:\n",
    "    posterior_e2f = defaultdict(float)\n",
    "    posterior_f2e = defaultdict(float)\n",
    "    for i, f_i in enumerate(f):\n",
    "        Z = 0\n",
    "        for j, e_j in enumerate(e):\n",
    "            Z += theta_e2f[(f_i, e_j)]\n",
    "        for j, e_j in enumerate(e):\n",
    "            posterior_e2f[(i,j)] = theta_e2f[(f_i, e_j)] / Z\n",
    "    \n",
    "    for j, e_j in enumerate(e):\n",
    "        Z = 0\n",
    "        for i, f_i in enumerate(f):\n",
    "            Z += theta_f2e[(e_j, f_i)]\n",
    "        for i, f_i in enumerate(f):\n",
    "            posterior_f2e[(j,i)] = theta_f2e[(e_j, f_i)] / Z\n",
    "\n",
    "    for pair in posterior_e2f.keys():\n",
    "        posterior = posterior_e2f[pair] * posterior_f2e[(pair[1],pair[0])]\n",
    "        if posterior > delta:\n",
    "            sys.stdout.write(f\"{pair[0]}-{pair[1]} \")\n",
    "    sys.stdout.write(\"\\n\")"
   ]
  },
  {
   "cell_type": "code",
   "execution_count": 12,
   "metadata": {},
   "outputs": [],
   "source": [
    "# dump the output to the local file dice.a\n",
    "with open('dice.a','w',encoding='utf8') as fh:\n",
    "    fh.write(str(dice_a))"
   ]
  },
  {
   "cell_type": "code",
   "execution_count": 13,
   "metadata": {},
   "outputs": [
    {
     "name": "stdout",
     "output_type": "stream",
     "text": [
      "Precision = 0.829273\n",
      "Recall = 0.780337\n",
      "AER = 0.192571\n"
     ]
    }
   ],
   "source": [
    "%run score-alignments.py -n 0 -i dice.a"
   ]
  },
  {
   "cell_type": "code",
   "execution_count": null,
   "metadata": {},
   "outputs": [],
   "source": []
  }
 ],
 "metadata": {
  "kernelspec": {
   "display_name": "Python 3",
   "language": "python",
   "name": "python3"
  },
  "language_info": {
   "codemirror_mode": {
    "name": "ipython",
    "version": 3
   },
   "file_extension": ".py",
   "mimetype": "text/x-python",
   "name": "python",
   "nbconvert_exporter": "python",
   "pygments_lexer": "ipython3",
   "version": "3.6.5"
  }
 },
 "nbformat": 4,
 "nbformat_minor": 2
}
