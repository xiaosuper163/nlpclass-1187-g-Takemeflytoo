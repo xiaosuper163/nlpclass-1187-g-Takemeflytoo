{
 "cells": [
  {
   "cell_type": "markdown",
   "metadata": {},
   "source": [
    "# Homework: Decipherment"
   ]
  },
  {
   "cell_type": "markdown",
   "metadata": {
    "heading_collapsed": true
   },
   "source": [
    "## Contents  <a id='part-0'>\n",
    "-------------------\n",
    "- [Part 1: Load the libraries](#part-1)\n",
    "- [Part 2: Code from the default notebook](#part-2)\n",
    "- [Part 3: Implementation for Reference 3 to find the optimal extension order](#part-3)\n",
    "- [Part 4: Baseline with better extension order and faster score function](#part-4)\n",
    "- [Part 5: Test case](#part-5)\n",
    "- [Part 6: Multi-processing](#part-6)\n",
    "- [Part 7: Decipher Zodiac Killer cipher](#part-7)"
   ]
  },
  {
   "cell_type": "markdown",
   "metadata": {
    "heading_collapsed": true
   },
   "source": [
    "## Part 1. Load the libraries <a id='part-1'></a>"
   ]
  },
  {
   "cell_type": "code",
   "execution_count": 2,
   "metadata": {
    "hidden": true
   },
   "outputs": [
    {
     "name": "stdout",
     "output_type": "stream",
     "text": [
      "The autoreload extension is already loaded. To reload it, use:\n",
      "  %reload_ext autoreload\n"
     ]
    }
   ],
   "source": [
    "%load_ext autoreload\n",
    "%autoreload 2\n",
    "from collections import defaultdict, Counter\n",
    "import collections\n",
    "import pprint\n",
    "import math\n",
    "import bz2\n",
    "from ngram import *\n",
    "import sys, string, os\n",
    "import copy\n",
    "import pickle\n",
    "#from joblib import Parallel, delayed\n",
    "import itertools\n",
    "from multiprocessing import Process,Pool, cpu_count\n",
    "import datetime, time, random\n",
    "pp = pprint.PrettyPrinter(width=45, compact=True)"
   ]
  },
  {
   "cell_type": "markdown",
   "metadata": {
    "hidden": true
   },
   "source": [
    "###  [Back to contents](#part-0)"
   ]
  },
  {
   "cell_type": "markdown",
   "metadata": {
    "heading_collapsed": true
   },
   "source": [
    "## Part 2. Code from the default notebook <a id='part-2'></a>"
   ]
  },
  {
   "cell_type": "markdown",
   "metadata": {
    "hidden": true
   },
   "source": [
    "First let us read in the cipher text from the `data` directory:"
   ]
  },
  {
   "cell_type": "code",
   "execution_count": 2,
   "metadata": {
    "hidden": true
   },
   "outputs": [],
   "source": [
    "def read_file(filename):\n",
    "    if filename[-4:] == \".bz2\":\n",
    "        with bz2.open(filename, 'rt', encoding='utf8') as f:\n",
    "            content = f.read()\n",
    "            f.close()\n",
    "    else:\n",
    "        with open(filename, 'r', encoding='utf8') as f:\n",
    "            content = f.read()\n",
    "            f.close()\n",
    "    return content\n",
    "\n",
    "cipher = read_file(\"data/cipher.txt\")\n",
    "# print(cipher)"
   ]
  },
  {
   "cell_type": "markdown",
   "metadata": {
    "hidden": true
   },
   "source": [
    "While using `get_statistics`, make sure that `cipher=True` is set when the input is a ciphertext."
   ]
  },
  {
   "cell_type": "code",
   "execution_count": 3,
   "metadata": {
    "hidden": true
   },
   "outputs": [],
   "source": [
    "def get_statistics(content, cipher=True):\n",
    "    stats = {}\n",
    "    content = list(content)\n",
    "    split_content = [x for x in content if x != '\\n' and x!=' ']\n",
    "    length = len(split_content)\n",
    "    symbols = set(split_content)\n",
    "    uniq_sym = len(list(symbols))\n",
    "    freq = collections.Counter(split_content)\n",
    "    rel_freq = {}\n",
    "    for sym, frequency in freq.items():\n",
    "        rel_freq[sym] = (frequency/length)*100\n",
    "        \n",
    "    if cipher:\n",
    "        stats = {'content':split_content, 'length':length, 'vocab':list(symbols), 'vocab_length':uniq_sym, 'frequencies':freq, 'relative_freq':rel_freq}\n",
    "    else:\n",
    "        stats = {'length':length, 'vocab':list(symbols), 'vocab_length':uniq_sym, 'frequencies':freq, 'relative_freq':rel_freq}\n",
    "    return stats"
   ]
  },
  {
   "cell_type": "code",
   "execution_count": 4,
   "metadata": {
    "hidden": true,
    "scrolled": true
   },
   "outputs": [],
   "source": [
    "cipher_desc = get_statistics(cipher, cipher=True)\n",
    "plaintxt = read_file(\"data/default.wiki.txt.bz2\")\n",
    "plaintxt_desc = get_statistics(plaintxt, cipher=False)"
   ]
  },
  {
   "cell_type": "code",
   "execution_count": 5,
   "metadata": {
    "hidden": true
   },
   "outputs": [
    {
     "name": "stderr",
     "output_type": "stream",
     "text": [
      "Reading language model from data/6-gram-wiki-char.lm.bz2...\n"
     ]
    },
    {
     "name": "stdout",
     "output_type": "stream",
     "text": [
      "CPU times: user 24.5 s, sys: 971 ms, total: 25.5 s\n",
      "Wall time: 25.5 s\n"
     ]
    },
    {
     "name": "stderr",
     "output_type": "stream",
     "text": [
      "Done.\n"
     ]
    }
   ],
   "source": [
    "%%time\n",
    "sequence = 'In a few cases, a multilingual artifact has been necessary to facilitate decipherment, the Rosetta Stone being the classic example. Statistical techniques provide another pathway to decipherment, as does the analysis of modern languages derived from ancient languages in which undeciphered texts are written. Archaeological and historical information is helpful in verifying hypothesized decipherments.'\n",
    "\n",
    "# lm = LM(\"data/6-gram-wiki-char.lm.bz2\", n=6, verbose=True)\n",
    "lm = LM(\"data/6-gram-wiki-char.lm.bz2\", n=6, verbose=False)"
   ]
  },
  {
   "cell_type": "markdown",
   "metadata": {
    "hidden": true
   },
   "source": [
    "###  [Back to contents](#part-0)"
   ]
  },
  {
   "cell_type": "markdown",
   "metadata": {
    "heading_collapsed": true
   },
   "source": [
    "## Part 3. Implementation for Reference 3 to find the optimal extension order <a id='part-3'></a>"
   ]
  },
  {
   "cell_type": "markdown",
   "metadata": {
    "hidden": true
   },
   "source": [
    "This is the implementation of the reference 'Improved Decipherment of Homophonic Ciphers'. The goal is to find the best extension order. As the paper mentioned, it is important to find a better optimal extension order which is helpful to improve both the speed and accuracy. If the correct answer has been pruned out at a very early stage, it is not quite possible that the text can be fully deciphered since the following score is computed based on a wrong partial deciphered text. With beam size of 10000, we experimented with several sets of extension orders. With the help of ground truth, we are able to monitor when the correct answer has been pruned. If we follow the frequency order of those symbols, the correct answer can be pruned as early as the fourth or fifth iteration. Finally, I chose the weights \\[1,1,1,1,2,3\\] suggested by Anoop in a discussion post."
   ]
  },
  {
   "cell_type": "code",
   "execution_count": 1,
   "metadata": {
    "hidden": true
   },
   "outputs": [],
   "source": [
    "# define a function to calculate the sharp_n for the specified n-gram order\n",
    "def find_sharp_n(cipher_desc, symbols_found, n_order):\n",
    "    '''\n",
    "    finds the #n for order n_order\n",
    "    cipher_desc -- cipher statistics\n",
    "    symbols_found -- list of single character string,\n",
    "                     specifies the list of symbols have been placed in the extention order\n",
    "    n_order -- int, specifies the order of n-gram\n",
    "    '''\n",
    "    sharp_n = 0\n",
    "    for i in range(len(cipher_desc['content'])-n_order+1):\n",
    "        for j in range(i, i+n_order, 1):\n",
    "            if cipher_desc['content'][j] not in symbols_found:\n",
    "                break\n",
    "            if j == (i+n_order-1):\n",
    "                sharp_n += 1\n",
    "                #print(cipher_desc['content'][i:i+n_order])\n",
    "    return sharp_n            "
   ]
  },
  {
   "cell_type": "markdown",
   "metadata": {
    "hidden": true
   },
   "source": [
    "Use a beam search to find the optimal extension order. The code below is pretty similar to the beam_search function. Most of the code is copied from it. For simplicity, the variable name might not quite make sense."
   ]
  },
  {
   "cell_type": "code",
   "execution_count": 2,
   "metadata": {
    "hidden": true
   },
   "outputs": [],
   "source": [
    "def find_ext_order(cipher_desc, topn=100, weights=[1,1,1,1,2,3]):\n",
    "    '''\n",
    "    finds the best order of deciphering cipher symbols (find best extention order)\n",
    "    cipher_desc -- cipher statistics\n",
    "    topn -- int, number of best trees we want to keep during iteration, aka beam size\n",
    "    weights -- list of int, weight for #n, n varies from 1 to 6 in the case of 6 gram\n",
    "    '''\n",
    "    # symbols already found with score\n",
    "    Hs = [([], 0)]\n",
    "    # hypothesis extended symbols with score\n",
    "    Ht = []\n",
    "    # initialize the cardinality (number of unique cipher text)\n",
    "    cardinality = 0\n",
    "    # if no weight is specified for unigram, use the most frequent symbol as the starting point\n",
    "    if weights[0] == 0:\n",
    "        cardinality += 1\n",
    "        Hs.append(([sorted(cipher_desc['frequencies'], key=cipher_desc['frequencies'].get, reverse=True)[0]], 0))\n",
    "    # list of cipher symbols\n",
    "    Ve = sorted(cipher_desc['frequencies'], key=cipher_desc['frequencies'].get, reverse=True)\n",
    "    while cardinality < cipher_desc['vocab_length']:\n",
    "        for phi, previous_score in Hs:\n",
    "            for e in Ve:\n",
    "                phi_prime = copy.deepcopy(phi)\n",
    "                if e in phi_prime:\n",
    "                    continue\n",
    "                else:\n",
    "                    phi_prime.append(e)\n",
    "                    this_score = 0\n",
    "                    for i in range(len(weights)):\n",
    "                        this_score += weights[i]*find_sharp_n(cipher_desc, phi_prime, i+1)\n",
    "                    Ht.append((phi_prime, this_score))\n",
    "        # prune the histogram\n",
    "        Ht = sorted(Ht, key=lambda x:x[1], reverse=True)[:topn]                    \n",
    "        cardinality += 1\n",
    "        Hs = copy.deepcopy(Ht)\n",
    "        Ht.clear()\n",
    "    return sorted(Hs, key=lambda x:x[1], reverse=True)"
   ]
  },
  {
   "cell_type": "code",
   "execution_count": 8,
   "metadata": {
    "hidden": true
   },
   "outputs": [],
   "source": [
    "# this may takes a while (3.5 min on my machine)\n",
    "ext_orders = find_ext_order(cipher_desc, topn=100, weights=[1,1,1,1,2,3])"
   ]
  },
  {
   "cell_type": "markdown",
   "metadata": {
    "hidden": true
   },
   "source": [
    "###  [Back to contents](#part-0)"
   ]
  },
  {
   "cell_type": "markdown",
   "metadata": {
    "heading_collapsed": true
   },
   "source": [
    "## Part 4. Baseline with better extension order and faster score function <a id='part-4'></a>"
   ]
  },
  {
   "cell_type": "markdown",
   "metadata": {
    "hidden": true
   },
   "source": [
    "The first change I made to the baseline was to rewrite the score function to optimize the running speed. The change I made is to score the newly fixed symbol plantext character pair and corresponding influenced previously fixed plantext character based on the previous score instead of scoring the whole bitstring in each iteration. For instance, 'oooo...o' -> 'oooo..xo'. The new score can be calculated by adding unigram score of 'x' to the previous score, substracting unigram score of 'o' following 'x' and bigram score of '<\\s>' from the previous score, and adding bigram score of 'o' following 'x' and trigram score of '<\\s>' to the previous score. With this approach, the running time was improved to 20 minitues from more than one hour with a beamsize of 10000 on my machine with i7 7700k cpu. And the computed score is almost same as the score computed with score_bit_string function (the difference is within 0.00000000001). Another approach to speed up the whole process we tried is multiprocessing. We will talk about that in details in the following notebook."
   ]
  },
  {
   "cell_type": "code",
   "execution_count": 12,
   "metadata": {
    "hidden": true
   },
   "outputs": [],
   "source": [
    "def score(cipher, phi, new_f, new_e, previous_score):\n",
    "    '''\n",
    "    scores the phi_prime based on the previous score, returns a float\n",
    "    cipher -- list of single character string\n",
    "    phi -- dictionary, old mapping e->[f]\n",
    "    new_f -- single-character string, extended symbol\n",
    "    previous_score -- float, old score for phi\n",
    "    '''\n",
    "    mapping = phi\n",
    "    new_score = previous_score\n",
    "    # for the first iteration, the previous score should be -2.545382 instead of 0\n",
    "    # this is because the score of an empty string is not 0 whiling scoring with bitstring\n",
    "    # the value can be obtained by calling lm.score_bitstring('thisisatest', '...........')\n",
    "    if len(phi)==0:\n",
    "        new_score += -2.545382\n",
    "    lm_state = lm.begin()\n",
    "    old_lm_state = lm.begin()\n",
    "    # this Flag is used to track if a newly-fixed character affects the previously-fixed character\n",
    "    triggerChangeFlag = 0\n",
    "    for i in range(len(cipher)):\n",
    "        char = cipher[i]\n",
    "        # if this is a previously fixed character and not influenced by the newly-fixed character\n",
    "        # we only need to track the lm_state and old lm_state, no need to compute the score\n",
    "        if (char in mapping.keys()) and (triggerChangeFlag==0):\n",
    "            token = mapping[char]\n",
    "            ngram = lm_state + (token,)\n",
    "            while len(ngram)> 0:\n",
    "                if ngram in lm.table:\n",
    "                    lm_state = ngram[-lm.history:]\n",
    "                    break\n",
    "                else: #backoff\n",
    "                    ngram = ngram[1:]\n",
    "            if len(ngram)==0:\n",
    "                lm_state = ()\n",
    "            old_lm_state = lm_state\n",
    "        # if this is a previously fixed character and influenced by the newly-fixed character\n",
    "        # substract the old score and add the new score to the previous score.\n",
    "        elif (char in mapping.keys()) and (triggerChangeFlag>0):\n",
    "            token = mapping[char]\n",
    "            old_lm_state, old_logprob = lm.score(old_lm_state, token)\n",
    "            new_score -= old_logprob\n",
    "            lm_state, logprob = lm.score(lm_state, token)\n",
    "            new_score += logprob\n",
    "            triggerChangeFlag -= 1\n",
    "        # if this is a newly-fixed charater, simply add the new score to the previous score\n",
    "        elif char == new_f:\n",
    "            (lm_state, logprob) = lm.score(lm_state, new_e)\n",
    "            new_score += logprob\n",
    "            triggerChangeFlag = 5\n",
    "            old_lm_state = ()\n",
    "        # if this is a unknown character, there is no influence on the previous score\n",
    "        else:\n",
    "            lm_state = ()\n",
    "            old_lm_state = ()\n",
    "            triggerChangeFlag = 0\n",
    "    # treat the end tag '<\\s>' as previously fixed character\n",
    "    if triggerChangeFlag:\n",
    "        new_score -= lm.end(old_lm_state)\n",
    "        new_score += lm.end(lm_state)\n",
    "    return new_score"
   ]
  },
  {
   "cell_type": "markdown",
   "metadata": {
    "hidden": true
   },
   "source": [
    "The beam_search we implemented is based on the pseudo code mentioned in the assignment. The main change I made was to use customized ext_limit for each plaintext character instead of a general value. The details can be found in the following notebook."
   ]
  },
  {
   "cell_type": "code",
   "execution_count": 15,
   "metadata": {
    "hidden": true
   },
   "outputs": [],
   "source": [
    "def beam_search(cipher, ext_order, score_func, ext_limits, topn=1):\n",
    "    '''\n",
    "    finds the mappings between cipher char and plaintext char, returns the mapping dictionary\n",
    "    ext_order -- list, the unigram char list sorted by their count DESC\n",
    "    ext_limits -- int, defines maximum number of cipher char can be mapped to a plaintext char\n",
    "    topn -- int, defines the number of dictionaries we want to keep while pruning\n",
    "    '''\n",
    "    print('Number of unique symbols in cipher:', len(ext_order))\n",
    "    # mapping relationships already found with score\n",
    "    Hs = [(defaultdict(dict), 0)]\n",
    "    # hypothesis mapping relationships with score\n",
    "    Ht = []\n",
    "    # initialize the cardinality (number of unique cipher text)\n",
    "    cardinality = 0\n",
    "    # list of plaintext characters\n",
    "    Ve = [chr(i) for i in range(97, 123, 1)]\n",
    "    while cardinality < len(ext_order):\n",
    "        f = ext_order[cardinality]\n",
    "        print('Working on symbol: ', f, '(%s)' % (cardinality+1))\n",
    "        for phi, previous_score in Hs:\n",
    "            for e in Ve:\n",
    "                phi_prime = copy.deepcopy(phi)\n",
    "                new_map = {f: e}\n",
    "                phi_prime.update(new_map)\n",
    "                counts = len([v for k, v in phi_prime.items() if v == e])\n",
    "                ext_limit = ext_limits[e]\n",
    "                if counts <= ext_limit:\n",
    "                    Ht.append((phi_prime, score_func(cipher, phi, f, e, previous_score)))\n",
    "        # prune the histogram\n",
    "        Ht = sorted(Ht, key=lambda x:x[1], reverse=True)[:topn]\n",
    "        cardinality += 1\n",
    "        Hs = copy.deepcopy(Ht)\n",
    "        Ht.clear()\n",
    "        #print('Current score: ', Hs[0][1], 'Worst score: ', Hs[min(len(Hs)-1, topn-1)][1])\n",
    "        #print(Hs)\n",
    "    return sorted(Hs, key=lambda x:x[1], reverse=True)"
   ]
  },
  {
   "cell_type": "markdown",
   "metadata": {
    "hidden": true
   },
   "source": [
    "###  [Back to contents](#part-0)"
   ]
  },
  {
   "cell_type": "markdown",
   "metadata": {
    "heading_collapsed": true
   },
   "source": [
    "## Part 5. Test case <a id='part-5'></a>"
   ]
  },
  {
   "cell_type": "markdown",
   "metadata": {
    "hidden": true
   },
   "source": [
    "Before deciphering the Zodiac Killer cipher, test the algorithm with a simple one to one mapping test case <br>\n",
    "Plaintext: `defendtheeastwallofthecastle` <br>\n",
    "Cipher: `giuifgceiiprctpnnduceiqprcni` <br>"
   ]
  },
  {
   "cell_type": "code",
   "execution_count": 16,
   "metadata": {
    "hidden": true,
    "scrolled": true
   },
   "outputs": [
    {
     "name": "stdout",
     "output_type": "stream",
     "text": [
      "Number of unique symbols in cipher: 12\n",
      "Working on symbol:  i (1)\n",
      "Working on symbol:  p (2)\n",
      "Working on symbol:  r (3)\n",
      "Working on symbol:  c (4)\n",
      "Working on symbol:  t (5)\n",
      "Working on symbol:  n (6)\n",
      "Working on symbol:  e (7)\n",
      "Working on symbol:  q (8)\n",
      "Working on symbol:  u (9)\n",
      "Working on symbol:  d (10)\n",
      "Working on symbol:  g (11)\n",
      "Working on symbol:  f (12)\n",
      "Deciphered result:  defendtheeastwallofthecastle\n"
     ]
    }
   ],
   "source": [
    "one_to_one_cipher = 'giuifgceiiprctpnnduceiqprcni'\n",
    "one_to_one_cipher_desc = get_statistics(one_to_one_cipher, cipher=True)\n",
    "one_to_one_ext_order = find_ext_order(one_to_one_cipher_desc)[0][0]\n",
    "one_to_one_ext_limits = dict()\n",
    "for e in [chr(i) for i in range(97, 123, 1)]:\n",
    "    one_to_one_ext_limits[e] = 1\n",
    "one_to_one_mappings = beam_search(one_to_one_cipher_desc['content'], one_to_one_ext_order,\\\n",
    "                                  score, one_to_one_ext_limits, 5000)\n",
    "one_to_one_mapping = one_to_one_mappings[0][0]\n",
    "one_to_one_decipher_text = ''\n",
    "for char in one_to_one_cipher_desc['content']:\n",
    "    one_to_one_decipher_text += one_to_one_mapping[char]\n",
    "print('Deciphered result: ', one_to_one_decipher_text)"
   ]
  },
  {
   "cell_type": "markdown",
   "metadata": {
    "hidden": true
   },
   "source": [
    "We didn't come up with a homophobic cipher. The reason is that our algorithm is able to decipher the Zodiac with a beamsize of 10000 after fixing three ground true mapping relationships (result not shown). The symbol error rate for that is ~5%. With a beamsize of 10000, the algorithm cannot correctly decipher the text all by its own. But it is enough to prove the baseline algorithm works."
   ]
  },
  {
   "cell_type": "markdown",
   "metadata": {
    "hidden": true
   },
   "source": [
    "###  [Back to contents](#part-0)"
   ]
  },
  {
   "cell_type": "markdown",
   "metadata": {
    "heading_collapsed": true
   },
   "source": [
    "## Part 6. Multi-processing <a id='part-6'></a>"
   ]
  },
  {
   "cell_type": "markdown",
   "metadata": {
    "hidden": true
   },
   "source": [
    "To furthur improve the running speed, we tried multiprocessing. <br>\n",
    "**NOTE: This multi-processing version only works for linux or MAC operating system. It doesn't work for Windows system. Please run beam_search function instead of beam_search_mp if you are using a Windows machine.** <br>\n",
    "This multi-processing implementation makes experimenting with beam size of 1M possible. With a 56 core linux instance, we are able to finish the whole process with 6h 30min. Compared to the running time mentioned in the original 2013 Nuhn paper, our implementation is faster than theirs (if we ignore the difference in the CPUs). They were using 128 core machine and the whole process takes more than 5 hours."
   ]
  },
  {
   "cell_type": "code",
   "execution_count": 20,
   "metadata": {
    "hidden": true
   },
   "outputs": [],
   "source": [
    "def parallel_fn(Ve, phi, f, cipher, previous_score, ext_limits):\n",
    "    ret = []\n",
    "    for e in Ve:\n",
    "        phi_prime = copy.deepcopy(phi)\n",
    "        new_map = {f: e}\n",
    "        phi_prime.update(new_map)\n",
    "        counts = len([v for k, v in phi_prime.items() if v == e])\n",
    "        if counts <= ext_limits[e]:\n",
    "            ret.append((phi_prime, score(cipher, phi, f, e, previous_score)))\n",
    "    return ret\n",
    "\n",
    "def beam_search_mp(cipher, ext_order, ext_limits, topn=1):\n",
    "\n",
    "    # initialization\n",
    "    Hs = [(defaultdict(dict), 0)]\n",
    "    Ht = []\n",
    "    cardinality = 0\n",
    "    Ve = [chr(i) for i in range(97, 123, 1)]\n",
    "    \n",
    "    while cardinality < len(ext_order):\n",
    "        f = ext_order[cardinality]\n",
    "        print('Working on symbol: ', f, '(%s)' % (cardinality+1))\n",
    "        \n",
    "        mainStart = time.time()\n",
    "        result = []\n",
    "        p = Pool(cpu_count())\n",
    "             \n",
    "        for phi, previous_score in Hs: \n",
    "            result.append(p.apply_async(parallel_fn, args=(Ve, phi, f, cipher, previous_score, ext_limits))) \n",
    "                            \n",
    "        p.close() \n",
    "        p.join()  \n",
    "\n",
    "        Ht = []\n",
    "        for subp in result:\n",
    "            Ht += subp.get()\n",
    "            \n",
    "        if cardinality < 10 or cardinality >= 40:\n",
    "            topn = 100000\n",
    "        else:\n",
    "            topn = 1000000\n",
    "    \n",
    "        # prune the histogram\n",
    "        mainEnd = time.time()\n",
    "        print ('Running Time for this symbol: %0.2f seconds.' % (mainEnd-mainStart))\n",
    "        Ht = sorted(Ht, key=lambda x:x[1], reverse=True)[:topn]    \n",
    "        \n",
    "        cardinality += 1\n",
    "        Hs = copy.deepcopy(Ht)\n",
    "        Ht.clear()        \n",
    "    return sorted(Hs, key=lambda x:x[1], reverse=True)"
   ]
  },
  {
   "cell_type": "markdown",
   "metadata": {
    "hidden": true
   },
   "source": [
    "###  [Back to contents](#part-0)"
   ]
  },
  {
   "cell_type": "markdown",
   "metadata": {},
   "source": [
    "## Part 7. Decipher Zodiac Killer cipher <a id='part-7'></a>"
   ]
  },
  {
   "cell_type": "markdown",
   "metadata": {},
   "source": [
    "As briefly mentioned above, we use different ext_limit for different plaintext symbol. We use the following `ext_limits` to limit the ext_order. The goal is to customize the `ext_limit` for each plaintext character so that more symbols can be mapped to the more frequent plaintext character. The `ext_limit` is calculated by multiplying the relative frequency of the paintext character in wiki text by the number of unique cipher symbols. We believe this can dramatically improve the running time since the required amount of computation in each iteration is minimized. We use the ceiling instead of floor to ensure the `ext_limit` is large enough. Of course this approach might not be perfect if less frequent plaintext character is mapped to more cipher symbols. But even that is the case, the error rate should not increase significantly since the frequency of those less frequent plaintext should not be large (if the character distribution of the plaintext in the cipher task is similar to that of the one used to train the language model)."
   ]
  },
  {
   "cell_type": "code",
   "execution_count": 21,
   "metadata": {},
   "outputs": [
    {
     "name": "stdout",
     "output_type": "stream",
     "text": [
      "{'g': 2, 'c': 2, 'q': 1, 'o': 4, 'b': 1, 'a': 5, 'v': 1, 'm': 2, 's': 4, 'u': 2, 'e': 7, 'f': 2, 'k': 1, 'r': 4, 'x': 1, 'h': 3, 'j': 1, 't': 5, 'i': 4, 'l': 3, 'n': 4, 'y': 1, 'd': 3, 'w': 1, 'z': 1, 'p': 2}\n"
     ]
    }
   ],
   "source": [
    "ext_limits = dict()\n",
    "for e in [chr(i) for i in range(97, 123, 1)]:\n",
    "    ext_limits[e] = math.ceil(plaintxt_desc['relative_freq'][e]*cipher_desc['vocab_length']/100)\n",
    "print(ext_limits)"
   ]
  },
  {
   "cell_type": "code",
   "execution_count": 26,
   "metadata": {},
   "outputs": [
    {
     "name": "stdout",
     "output_type": "stream",
     "text": [
      "Working on symbol:  P (1)\n",
      "Running Time for this symbol: 1.36 seconds.\n",
      "Best score:  -12.616786199999998 Worst score:  -35.79483999999999\n",
      "gold score -15.017390999999996\n",
      "Working on symbol:  B (2)\n",
      "Running Time for this symbol: 1.39 seconds.\n",
      "Best score:  -25.280227800000016 Worst score:  -74.89565499999999\n",
      "gold score -30.9290574\n",
      "Working on symbol:  ∑ (3)\n",
      "Running Time for this symbol: 1.53 seconds.\n",
      "Best score:  -32.58730020000001 Worst score:  -107.30443553999997\n",
      "gold score -40.48860420000001\n",
      "Working on symbol:  º (4)\n",
      "Running Time for this symbol: 8.49 seconds.\n",
      "Best score:  -45.77077729999998 Worst score:  -75.56317600000001\n",
      "gold score -54.09980730000002\n",
      "Working on symbol:  ∫ (5)\n",
      "Running Time for this symbol: 42.08 seconds.\n",
      "Best score:  -58.652923079999994 Worst score:  -76.25858860000002\n",
      "gold score -66.62384900000002\n",
      "Working on symbol:  / (6)\n",
      "Running Time for this symbol: 54.15 seconds.\n",
      "Best score:  -64.72878648999999 Worst score:  -77.79406167999997\n",
      "gold score -74.4963242\n",
      "Working on symbol:  Z (7)\n",
      "Running Time for this symbol: 47.25 seconds.\n",
      "Best score:  -73.06086899 Worst score:  -84.08188600000004\n",
      "gold score -80.18821794\n",
      "Working on symbol:  u (8)\n",
      "Running Time for this symbol: 54.42 seconds.\n",
      "Best score:  -82.06902243000006 Worst score:  -93.10735380000011\n",
      "gold score -89.41897665\n",
      "Working on symbol:  A (9)\n",
      "Running Time for this symbol: 51.69 seconds.\n",
      "Best score:  -91.41161266800006 Worst score:  -100.29512569000008\n",
      "gold score -99.03132769000003\n",
      "Working on symbol:  ∆ (10)\n",
      "Running Time for this symbol: 53.40 seconds.\n",
      "Best score:  -93.56925042000003 Worst score:  -102.78737568260006\n",
      "gold score -100.44054761000002\n",
      "Working on symbol:  O (11)\n",
      "Running Time for this symbol: 52.83 seconds.\n",
      "Best score:  -99.17941219000005 Worst score:  -113.33895559999998\n",
      "gold score -106.49591054000001\n",
      "Working on symbol:  R (12)\n",
      "Running Time for this symbol: 537.79 seconds.\n",
      "Best score:  -113.08495932000004 Worst score:  -125.63065710000001\n",
      "gold score -122.90570733999999\n",
      "Working on symbol:  À (13)\n",
      "Running Time for this symbol: 499.35 seconds.\n",
      "Best score:  -121.16935812000006 Worst score:  -134.11670836000002\n",
      "gold score -132.36550241\n",
      "Working on symbol:  V (14)\n",
      "Running Time for this symbol: 461.54 seconds.\n",
      "Best score:  -129.7293219300001 Worst score:  -141.9572574400001\n",
      "gold score -146.78756550999998\n",
      "Wrong Wrong Wrong Wrong Wrong Wrong Wrong Wrong!\n",
      "Working on symbol:  – (15)\n",
      "Running Time for this symbol: 489.45 seconds.\n",
      "Best score:  -135.9829850300001 Worst score:  -147.32312631000008\n",
      "gold score -151.957971273\n",
      "Wrong Wrong Wrong Wrong Wrong Wrong Wrong Wrong!\n",
      "Working on symbol:  • (16)\n",
      "Running Time for this symbol: 482.50 seconds.\n",
      "Best score:  -143.0431501300001 Worst score:  -153.74117236000004\n",
      "gold score -163.19908467300004\n",
      "Wrong Wrong Wrong Wrong Wrong Wrong Wrong Wrong!\n",
      "Working on symbol:  X (17)\n",
      "Running Time for this symbol: 534.42 seconds.\n",
      "Best score:  -151.10922923 Worst score:  -162.98165613999979\n",
      "gold score -171.04561658929998\n",
      "Wrong Wrong Wrong Wrong Wrong Wrong Wrong Wrong!\n",
      "Working on symbol:  W (18)\n",
      "Running Time for this symbol: 505.80 seconds.\n",
      "Best score:  -162.10839143000013 Worst score:  -172.18942730999993\n",
      "gold score -177.10340249218\n",
      "Wrong Wrong Wrong Wrong Wrong Wrong Wrong Wrong!\n",
      "Working on symbol:  § (19)\n",
      "Running Time for this symbol: 511.43 seconds.\n",
      "Best score:  -165.2118230300002 Worst score:  -175.59400690999988\n",
      "gold score -183.68296192217997\n",
      "Wrong Wrong Wrong Wrong Wrong Wrong Wrong Wrong!\n",
      "Working on symbol:  π (20)\n",
      "Running Time for this symbol: 542.24 seconds.\n",
      "Best score:  -171.97466150800003 Worst score:  -181.53196831099996\n",
      "gold score -189.60467651118003\n",
      "Wrong Wrong Wrong Wrong Wrong Wrong Wrong Wrong!\n",
      "Working on symbol:  ≈ (21)\n",
      "Running Time for this symbol: 603.91 seconds.\n",
      "Best score:  -182.78298819999986 Worst score:  -192.51038309999996\n",
      "gold score -200.88214521117996\n",
      "Wrong Wrong Wrong Wrong Wrong Wrong Wrong Wrong!\n",
      "Working on symbol:  — (22)\n",
      "Running Time for this symbol: 620.64 seconds.\n",
      "Best score:  -199.82896813 Worst score:  -210.56458229999993\n",
      "gold score -222.89030111118007\n",
      "Wrong Wrong Wrong Wrong Wrong Wrong Wrong Wrong!\n",
      "Working on symbol:  + (23)\n",
      "Running Time for this symbol: 614.34 seconds.\n",
      "Best score:  -208.08035135000003 Worst score:  -218.34786061999992\n",
      "gold score -228.74412731118002\n",
      "Wrong Wrong Wrong Wrong Wrong Wrong Wrong Wrong!\n",
      "Working on symbol:  D (24)\n",
      "Running Time for this symbol: 641.09 seconds.\n",
      "Best score:  -215.2836818400002 Worst score:  -224.27253744999996\n",
      "gold score -232.74367391118003\n",
      "Wrong Wrong Wrong Wrong Wrong Wrong Wrong Wrong!\n",
      "Working on symbol:  G (25)\n",
      "Running Time for this symbol: 662.28 seconds.\n",
      "Best score:  -223.35204278000006 Worst score:  -233.2724942800001\n",
      "gold score -235.66027361118003\n",
      "Wrong Wrong Wrong Wrong Wrong Wrong Wrong Wrong!\n",
      "Working on symbol:  √ (26)\n",
      "Running Time for this symbol: 673.26 seconds.\n",
      "Best score:  -230.30486345999992 Worst score:  -240.63375219000017\n",
      "gold score -240.31733550118\n",
      "Working on symbol:  E (27)\n",
      "Running Time for this symbol: 686.70 seconds.\n",
      "Best score:  -239.38062429599995 Worst score:  -250.03370444999985\n",
      "gold score -247.08894928117996\n",
      "Working on symbol:  K (28)\n",
      "Running Time for this symbol: 724.08 seconds.\n",
      "Best score:  -243.78133413000043 Worst score:  -254.74643961999996\n",
      "gold score -253.10847268117996\n",
      "Working on symbol:  y (29)\n",
      "Running Time for this symbol: 702.98 seconds.\n",
      "Best score:  -254.9155450000001 Worst score:  -266.9684094\n",
      "gold score -263.64325374117993\n",
      "Working on symbol:  æ (30)\n",
      "Running Time for this symbol: 710.92 seconds.\n",
      "Best score:  -264.25916519000015 Worst score:  -277.3153752199999\n",
      "gold score -270.04250254118\n",
      "Working on symbol:  Ã (31)\n",
      "Running Time for this symbol: 709.45 seconds.\n",
      "Best score:  -269.7139785900003 Worst score:  -283.39384704600013\n",
      "gold score -273.09303693118005\n",
      "Working on symbol:  I (32)\n",
      "Running Time for this symbol: 693.26 seconds.\n",
      "Best score:  -282.3997098900003 Worst score:  -298.05818925000017\n",
      "gold score -285.1854489311801\n",
      "Working on symbol:  H (33)\n",
      "Running Time for this symbol: 671.31 seconds.\n",
      "Best score:  -294.81642466999926 Worst score:  -308.3262041399997\n",
      "gold score -291.46150778118016\n",
      "Wrong Wrong Wrong Wrong Wrong Wrong Wrong Wrong!\n",
      "Working on symbol:  F (34)\n",
      "Running Time for this symbol: 642.76 seconds.\n",
      "Best score:  -302.7788840100005 Worst score:  -317.47574543999957\n",
      "gold score -294.43727808218017\n",
      "Wrong Wrong Wrong Wrong Wrong Wrong Wrong Wrong!\n",
      "Working on symbol:  ∞ (35)\n",
      "Running Time for this symbol: 698.86 seconds.\n",
      "Best score:  -316.49028737000066 Worst score:  -330.4310482899999\n",
      "gold score -298.9006171511802\n",
      "Wrong Wrong Wrong Wrong Wrong Wrong Wrong Wrong!\n",
      "Working on symbol:  “ (36)\n",
      "Running Time for this symbol: 705.57 seconds.\n",
      "Best score:  -325.29222803999966 Worst score:  -340.2348189299996\n",
      "gold score -306.0917485011802\n",
      "Wrong Wrong Wrong Wrong Wrong Wrong Wrong Wrong!\n",
      "Working on symbol:  µ (37)\n",
      "Running Time for this symbol: 653.13 seconds.\n",
      "Best score:  -336.4654446099996 Worst score:  -352.8835362699995\n",
      "gold score -309.4758635211801\n",
      "Wrong Wrong Wrong Wrong Wrong Wrong Wrong Wrong!\n",
      "Working on symbol:  Q (38)\n",
      "Running Time for this symbol: 725.71 seconds.\n",
      "Best score:  -343.8439736899996 Worst score:  -359.26801577300034\n",
      "gold score -315.4575915811801\n",
      "Wrong Wrong Wrong Wrong Wrong Wrong Wrong Wrong!\n",
      "Working on symbol:  £ (39)\n",
      "Running Time for this symbol: 651.03 seconds.\n",
      "Best score:  -354.2022367599996 Worst score:  -369.4562290699993\n",
      "gold score -324.16251905118\n",
      "Wrong Wrong Wrong Wrong Wrong Wrong Wrong Wrong!\n",
      "Working on symbol:  M (40)\n",
      "Running Time for this symbol: 630.55 seconds.\n",
      "Best score:  -365.6778311089995 Worst score:  -381.7803493999995\n",
      "gold score -329.59882526118\n",
      "Wrong Wrong Wrong Wrong Wrong Wrong Wrong Wrong!\n",
      "Working on symbol:  Ç (41)\n",
      "Running Time for this symbol: 706.15 seconds.\n",
      "Best score:  -373.9209266569994 Worst score:  -385.67791065999927\n",
      "gold score -331.9929383294802\n",
      "Wrong Wrong Wrong Wrong Wrong Wrong Wrong Wrong!\n",
      "Working on symbol:  J (42)\n",
      "Running Time for this symbol: 150.92 seconds.\n",
      "Best score:  -384.16580832999955 Worst score:  -396.5867284090002\n",
      "gold score -335.09119470388026\n",
      "Wrong Wrong Wrong Wrong Wrong Wrong Wrong Wrong!\n",
      "Working on symbol:  ^ (43)\n",
      "Running Time for this symbol: 135.11 seconds.\n",
      "Best score:  -395.6404356100002 Worst score:  -408.1543753879993\n",
      "gold score -336.16842790388023\n",
      "Wrong Wrong Wrong Wrong Wrong Wrong Wrong Wrong!\n",
      "Working on symbol:  L (44)\n"
     ]
    },
    {
     "name": "stdout",
     "output_type": "stream",
     "text": [
      "Running Time for this symbol: 123.22 seconds.\n",
      "Best score:  -406.92220761900035 Worst score:  -422.34930133999944\n",
      "gold score -342.78444579388\n",
      "Wrong Wrong Wrong Wrong Wrong Wrong Wrong Wrong!\n",
      "Working on symbol:  ∏ (45)\n",
      "Running Time for this symbol: 107.59 seconds.\n",
      "Best score:  -418.93453373999995 Worst score:  -435.36347636300036\n",
      "gold score -360.2294804623198\n",
      "Wrong Wrong Wrong Wrong Wrong Wrong Wrong Wrong!\n",
      "Working on symbol:  ƒ (46)\n",
      "Running Time for this symbol: 116.73 seconds.\n",
      "Best score:  -430.79634181600017 Worst score:  -448.74248754000007\n",
      "gold score -356.98580778611966\n",
      "Wrong Wrong Wrong Wrong Wrong Wrong Wrong Wrong!\n",
      "Working on symbol:  S (47)\n",
      "Running Time for this symbol: 115.60 seconds.\n",
      "Best score:  -440.7720898260002 Worst score:  -461.89134614599993\n",
      "gold score -354.2262880561197\n",
      "Wrong Wrong Wrong Wrong Wrong Wrong Wrong Wrong!\n",
      "Working on symbol:  T (48)\n",
      "Running Time for this symbol: 95.11 seconds.\n",
      "Best score:  -451.72755191900023 Worst score:  -474.60762287900013\n",
      "gold score -350.5960053171197\n",
      "Wrong Wrong Wrong Wrong Wrong Wrong Wrong Wrong!\n",
      "Working on symbol:  ‘ (49)\n",
      "Running Time for this symbol: 99.44 seconds.\n",
      "Best score:  -465.4176319020003 Worst score:  -490.0317692039999\n",
      "gold score -347.24359779711966\n",
      "Wrong Wrong Wrong Wrong Wrong Wrong Wrong Wrong!\n",
      "Working on symbol:  N (50)\n",
      "Running Time for this symbol: 87.78 seconds.\n",
      "Best score:  -477.33014959600007 Worst score:  -502.7315536226998\n",
      "gold score -352.41491689011985\n",
      "Wrong Wrong Wrong Wrong Wrong Wrong Wrong Wrong!\n",
      "Working on symbol:  ¢ (51)\n",
      "Running Time for this symbol: 97.96 seconds.\n",
      "Best score:  -492.8035658460001 Worst score:  -512.6400856859999\n",
      "gold score -351.1401443601198\n",
      "Wrong Wrong Wrong Wrong Wrong Wrong Wrong Wrong!\n",
      "Working on symbol:  \\ (52)\n",
      "Running Time for this symbol: 85.49 seconds.\n",
      "Best score:  -502.6953198319998 Worst score:  -521.2797670369999\n",
      "gold score -355.7758263201198\n",
      "Wrong Wrong Wrong Wrong Wrong Wrong Wrong Wrong!\n",
      "Working on symbol:  Ω (53)\n",
      "Running Time for this symbol: 74.39 seconds.\n",
      "Best score:  -511.84661737300013 Worst score:  -528.766471171\n",
      "gold score -361.3223825331199\n",
      "Wrong Wrong Wrong Wrong Wrong Wrong Wrong Wrong!\n",
      "Working on symbol:  j (54)\n",
      "Running Time for this symbol: 65.29 seconds.\n",
      "Best score:  -513.5380436390004 Worst score:  -528.3251861570004\n",
      "gold score -363.1344102331199\n",
      "Wrong Wrong Wrong Wrong Wrong Wrong Wrong Wrong!\n",
      "CPU times: user 4h 13min 15s, sys: 2h 14min 53s, total: 6h 28min 8s\n",
      "Wall time: 6h 31min 27s\n"
     ]
    }
   ],
   "source": [
    "%%time\n",
    "# single core version\n",
    "# mappings = beam_search(cipher_desc['content'], ext_order, ext_limits, 1000000)\n",
    "# multiprocessing version\n",
    "mappings = beam_search_mp(cipher_desc['content'], ext_order, ext_limits, 1000000)"
   ]
  },
  {
   "cell_type": "code",
   "execution_count": 27,
   "metadata": {},
   "outputs": [
    {
     "name": "stdout",
     "output_type": "stream",
     "text": [
      "ilikekellenttoatlasenioroiaisrisontmodereuseaccontrepkillintheldtestedstemopforasanaosesinirrrosaatdeptcarotenasilecellsokillsastatedttenersorrasiatstpillintextofcpnteaerenonsarteasredtoarintheopfonksamchittatealsrcstratiprimetiastechrepideoehillsafeseanidtepedenoundillrtcerentkilledhillsonasashrlanesihillnettenehooshdesaseniortheohillsahairlaidahnofusitshnollontintacrlinesmeashamreplicaostapiarostatrtere\n"
     ]
    }
   ],
   "source": [
    "mapping = mappings[0][0]\n",
    "decipher_text = ''\n",
    "for char in cipher_desc['content']:\n",
    "    decipher_text += mapping[char]\n",
    "print(decipher_text)"
   ]
  }
 ],
 "metadata": {
  "kernelspec": {
   "display_name": "Python 3",
   "language": "python",
   "name": "python3"
  },
  "language_info": {
   "codemirror_mode": {
    "name": "ipython",
    "version": 3
   },
   "file_extension": ".py",
   "mimetype": "text/x-python",
   "name": "python",
   "nbconvert_exporter": "python",
   "pygments_lexer": "ipython3",
   "version": "3.6.5"
  },
  "toc": {
   "base_numbering": 1,
   "nav_menu": {},
   "number_sections": true,
   "sideBar": true,
   "skip_h1_title": false,
   "title_cell": "Table of Contents",
   "title_sidebar": "Contents",
   "toc_cell": false,
   "toc_position": {},
   "toc_section_display": true,
   "toc_window_display": true
  }
 },
 "nbformat": 4,
 "nbformat_minor": 2
}
