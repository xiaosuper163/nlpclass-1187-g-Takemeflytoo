{
 "cells": [
  {
   "cell_type": "markdown",
   "metadata": {},
   "source": [
    "# Homework: Decipherment"
   ]
  },
  {
   "cell_type": "code",
   "execution_count": 1,
   "metadata": {},
   "outputs": [],
   "source": [
    "%load_ext autoreload\n",
    "%autoreload 2\n",
    "from collections import defaultdict, Counter\n",
    "import collections\n",
    "import pprint\n",
    "import math\n",
    "import bz2\n",
    "from ngram import *\n",
    "import sys, string\n",
    "import copy\n",
    "pp = pprint.PrettyPrinter(width=45, compact=True)"
   ]
  },
  {
   "cell_type": "markdown",
   "metadata": {},
   "source": [
    "First let us read in the cipher text from the `data` directory:"
   ]
  },
  {
   "cell_type": "code",
   "execution_count": 2,
   "metadata": {},
   "outputs": [
    {
     "name": "stdout",
     "output_type": "stream",
     "text": [
      "º∫P/Z/uB∫ÀOR•–X•B\n",
      "WV+≈GyF∞ºHPπKÇ—y≈\n",
      "MJy^uIÀΩ—T‘NQyDµ£\n",
      "S¢/º∑BPORAu∫∆RÃ—E\n",
      "À^LMZJƒ“\\–FHVW≈æy\n",
      "π+—GDºKI£∞—Xæµ§S¢\n",
      "RN‘IyEÃOæ—GBTQS∑B\n",
      "Lƒ/P∑BπX—EHMu^RRÀ\n",
      "√ZK—–I£W—ÇæµLM“º∑\n",
      "BPDR+j•∞\\N¢≈EuHÀF\n",
      "Z√–OVWIµ+‘L£Ã^R∞H\n",
      "IºDR∏Ty“\\ƒ≈/πXJQA\n",
      "PµMæRu‘∫L£NVEKH•G\n",
      "“IÇJÀµºæLMÃNA£Z¢P\n",
      "§u–ÀAº∑BVW\\+VT‘OP\n",
      "^•S“Ã∆u≈∞ΩD§G∫∫IM\n",
      "NÀ£S√E/º∫∫Z∆AP∑BV\n",
      "–≈X—W—∏F∑æ√+πºAºB\n",
      "∫OTµRu√+∏ƒy—∏^S—W\n",
      "VZ≈GyKE∏TyAº∫∑L‘∏\n",
      "HÇFBXº§XADƒ\\ΩLÇ•—\n",
      "∏≈ƒ∑∑∞≈µPORXQF∫G√\n",
      "ZπJT‘—∏æJI+“BPQW∞\n",
      "VEX“ºWI∞—EHM£•uIÀ\n"
     ]
    }
   ],
   "source": [
    "def read_file(filename):\n",
    "    if filename[-4:] == \".bz2\":\n",
    "        with bz2.open(filename, 'rt', encoding='utf8') as f:\n",
    "            content = f.read()\n",
    "            f.close()\n",
    "    else:\n",
    "        with open(filename, 'r', encoding='utf8') as f:\n",
    "            content = f.read()\n",
    "            f.close()\n",
    "    return content\n",
    "\n",
    "cipher = read_file(\"data/cipher.txt\")\n",
    "print(cipher)"
   ]
  },
  {
   "cell_type": "markdown",
   "metadata": {},
   "source": [
    "## Default Solution"
   ]
  },
  {
   "cell_type": "markdown",
   "metadata": {},
   "source": [
    "For the default solution we need to compute statistics like length, number of symbols/letters, \n",
    "unique occurences, frequencies and relative frequencies of a given file. This is done in the function `get_statistics` below.\n",
    "\n",
    "While using `get_statistics`, make sure that `cipher=True` is set when the input is a ciphertext."
   ]
  },
  {
   "cell_type": "code",
   "execution_count": 3,
   "metadata": {},
   "outputs": [],
   "source": [
    "def get_statistics(content, cipher=True):\n",
    "    stats = {}\n",
    "    content = list(content)\n",
    "    split_content = [x for x in content if x != '\\n' and x!=' ']\n",
    "    length = len(split_content)\n",
    "    symbols = set(split_content)\n",
    "    uniq_sym = len(list(symbols))\n",
    "    freq = collections.Counter(split_content)\n",
    "    rel_freq = {}\n",
    "    for sym, frequency in freq.items():\n",
    "        rel_freq[sym] = (frequency/length)*100\n",
    "        \n",
    "    if cipher:\n",
    "        stats = {'content':split_content, 'length':length, 'vocab':list(symbols), 'vocab_length':uniq_sym, 'frequencies':freq, 'relative_freq':rel_freq}\n",
    "    else:\n",
    "        stats = {'length':length, 'vocab':list(symbols), 'vocab_length':uniq_sym, 'frequencies':freq, 'relative_freq':rel_freq}\n",
    "    return stats"
   ]
  },
  {
   "cell_type": "code",
   "execution_count": 4,
   "metadata": {},
   "outputs": [],
   "source": [
    "cipher_desc = get_statistics(cipher, cipher=True)\n",
    "# pp.pprint(cipher_desc)"
   ]
  },
  {
   "cell_type": "markdown",
   "metadata": {},
   "source": [
    "The default solution matches the frequency of symbols in the cipher text with frequency of letters in the plaintext language (in this case, English). Note that this is just some text in English used to compute letter frequencies. We do not have access to the real plaintext in this homework. \n",
    "\n",
    "In order to do compute plaintext frequencies, we use an English dataset has no punctuation or spaces and all characters are lowercase."
   ]
  },
  {
   "cell_type": "code",
   "execution_count": 5,
   "metadata": {},
   "outputs": [],
   "source": [
    "# plaintext description\n",
    "plaintxt = read_file(\"data/default.wiki.txt.bz2\")\n",
    "plaintxt_desc = get_statistics(plaintxt, cipher=False)\n",
    "# pp.pprint(plaintxt_desc)"
   ]
  },
  {
   "cell_type": "markdown",
   "metadata": {},
   "source": [
    "We have all the tools we need to describe the default solution to this homework.\n",
    "\n",
    "We use a simple frequency matching heuristic to map cipher symbols to English letters.\n",
    "\n",
    "We match the frequencies using the function $f(\\cdot)$ of each cipher symbol $c$ with each English letter $e$:\n",
    "\n",
    "$$h_{c,e} = | \\log(\\frac{f(c)}{f(e)})) | $$\n",
    "\n",
    "For each cipher text symbol $c$ we then compute the most likely plain text symbol $e$ by sorting based on the above score."
   ]
  },
  {
   "cell_type": "code",
   "execution_count": 6,
   "metadata": {},
   "outputs": [
    {
     "data": {
      "text/plain": [
       "'\\ndefault : frequency matching heuristic\\n\\nNotice how the candidate mappings, a.k.a hypotheses, are first scored with a measure of quality and, \\nthen, the best scoring hypothesis is chosen as the winner. \\n\\nThe plaintext letters from the winner are then mapped to the respective ciphertext symbols.\\n'"
      ]
     },
     "execution_count": 6,
     "metadata": {},
     "output_type": "execute_result"
    }
   ],
   "source": [
    "\"\"\"\n",
    "default : frequency matching heuristic\n",
    "\n",
    "Notice how the candidate mappings, a.k.a hypotheses, are first scored with a measure of quality and, \n",
    "then, the best scoring hypothesis is chosen as the winner. \n",
    "\n",
    "The plaintext letters from the winner are then mapped to the respective ciphertext symbols.\n",
    "\"\"\"\n",
    "\n",
    "# def find_mappings(ciphertext, plaintext):\n",
    "#     mappings = defaultdict(dict)\n",
    "#     hypotheses = defaultdict(dict)\n",
    "#     # calculate alignment scores\n",
    "#     for symbol in ciphertext['vocab']:\n",
    "#         for letter in plaintext['vocab']:\n",
    "#             hypotheses[symbol][letter] = abs(math.log((ciphertext['relative_freq'][symbol]/plaintext['relative_freq'][letter])))\n",
    "    \n",
    "#     # find winner\n",
    "#     for sym in hypotheses.keys():\n",
    "#         #mappings[sym] = min(lemma_alignment[sym], key=lemma_alignment[sym].get)\n",
    "#         winner = sorted(hypotheses[sym].items(), key=lambda kv: kv[1])\n",
    "#         mappings[sym] = winner[1][0]\n",
    "    \n",
    "#     return mappings"
   ]
  },
  {
   "cell_type": "markdown",
   "metadata": {},
   "source": [
    "Using this scoring function we map the cipher symbol `∆` to `v` in English"
   ]
  },
  {
   "cell_type": "code",
   "execution_count": 7,
   "metadata": {},
   "outputs": [],
   "source": [
    "# mapping = find_mappings(cipher_desc, plaintxt_desc)\n",
    "# print(\"∆ maps to {}\\n\".format(mapping['∆']))\n",
    "# print(mapping)"
   ]
  },
  {
   "cell_type": "markdown",
   "metadata": {},
   "source": [
    "The default solution to this decipherment problem is to take each cipher symbol and map it to the most likely English letter as provided by the `find_mappings` function above."
   ]
  },
  {
   "cell_type": "code",
   "execution_count": 8,
   "metadata": {},
   "outputs": [],
   "source": [
    "# english_text = []\n",
    "# for symbol in cipher_desc['content']:\n",
    "#     english_text.append(mapping[symbol])\n",
    "# decipherment = ('').join(english_text)\n",
    "# print(decipherment)"
   ]
  },
  {
   "cell_type": "markdown",
   "metadata": {},
   "source": [
    "## Baseline"
   ]
  },
  {
   "cell_type": "code",
   "execution_count": 9,
   "metadata": {},
   "outputs": [
    {
     "name": "stderr",
     "output_type": "stream",
     "text": [
      "Reading language model from data/6-gram-wiki-char.lm.bz2...\n",
      "\n"
     ]
    },
    {
     "name": "stdout",
     "output_type": "stream",
     "text": [
      "Wall time: 15.2 s\n"
     ]
    }
   ],
   "source": [
    "%%time\n",
    "sequence = 'In a few cases, a multilingual artifact has been necessary to facilitate decipherment, the Rosetta Stone being the classic example. Statistical techniques provide another pathway to decipherment, as does the analysis of modern languages derived from ancient languages in which undeciphered texts are written. Archaeological and historical information is helpful in verifying hypothesized decipherments.'\n",
    "\n",
    "# lm = LM(\"data/6-gram-wiki-char.lm.bz2\", n=6, verbose=True)\n",
    "lm = LM(\"data/6-gram-wiki-char.lm.bz2\", n=6, verbose=False)"
   ]
  },
  {
   "cell_type": "code",
   "execution_count": 10,
   "metadata": {},
   "outputs": [
    {
     "name": "stdout",
     "output_type": "stream",
     "text": [
      "In a few cases, a multilingual artifact has been necessary to facilitate decipherment, the Rosetta Stone being the classic example. Statistical techniques provide another pathway to decipherment, as does the analysis of modern languages derived from ancient languages in which undeciphered texts are written. Archaeological and historical information is helpful in verifying hypothesized decipherments.\n",
      "{2: 3, 3: 4, 7: 8, 8: 9, 9: 10}\n",
      "-8.10905897\n"
     ]
    },
    {
     "name": "stderr",
     "output_type": "stream",
     "text": [
      "TOTAL LM LOGPROB: -221.09434842188\n",
      "TOTAL LM LOGPROB: -9.76947916\n",
      "TOTAL LM LOGPROB: -40.57683077\n"
     ]
    }
   ],
   "source": [
    "print(sequence)\n",
    "lm_logprob = lm.score_seq(sequence)\n",
    "print(\"TOTAL LM LOGPROB: {}\".format(lm_logprob), file=sys.stderr)\n",
    "\n",
    "print(\"TOTAL LM LOGPROB: {}\".format(lm.score_seq('this is the text.')), file=sys.stderr)\n",
    "print(\"TOTAL LM LOGPROB: {}\".format(lm.score_seq('jasbklfhthejkldhf')), file=sys.stderr)\n",
    "\n",
    "print(lm.get_bitstring_spans('..oo...ooo..'))\n",
    "print(lm.score_bitstring('thisisatest', 'oo...oo.ooo'))"
   ]
  },
  {
   "cell_type": "code",
   "execution_count": 11,
   "metadata": {},
   "outputs": [],
   "source": [
    "def reverse_mapping(reversed_mapping):\n",
    "    mapping = dict()\n",
    "    for key, values in reversed_mapping.items():\n",
    "        for value in values:\n",
    "            mapping[value] = key\n",
    "    return mapping"
   ]
  },
  {
   "cell_type": "code",
   "execution_count": 12,
   "metadata": {},
   "outputs": [],
   "source": [
    "def score(phi, cipher, lm):\n",
    "    mapping = reverse_mapping(phi)\n",
    "    partial_cipher = ''\n",
    "    bit_string = ''\n",
    "    for char in cipher:\n",
    "        if char in mapping.keys():\n",
    "            partial_cipher += mapping[char]\n",
    "            bit_string += 'o'\n",
    "        else:\n",
    "            partial_cipher += char\n",
    "            bit_string += '_'\n",
    "    score = lm.score_bitstring(partial_cipher, bit_string)\n",
    "    return score"
   ]
  },
  {
   "cell_type": "code",
   "execution_count": 13,
   "metadata": {},
   "outputs": [
    {
     "name": "stdout",
     "output_type": "stream",
     "text": [
      "plaintext char to cipher text char {'i': ['º'], 'l': ['∫']}\n",
      "cipher text char to plaintext char {'º': 'i', '∫': 'l'}\n",
      "score:  -32.930710299999994\n"
     ]
    }
   ],
   "source": [
    "# test the two functions above\n",
    "reversed_mapping = {'i': [cipher[0]], 'l': [cipher[1]]}\n",
    "print('plaintext char to cipher text char', reversed_mapping)\n",
    "print('cipher text char to plaintext char', reverse_mapping(reversed_mapping))\n",
    "print('score: ', score(reversed_mapping, cipher, lm))"
   ]
  },
  {
   "cell_type": "code",
   "execution_count": 106,
   "metadata": {},
   "outputs": [],
   "source": [
    "def beam_search(ext_order, ext_limits=1, topn=1):\n",
    "    '''\n",
    "    finds the mappings between cipher char and plaintext char, returns the mapping dictionary\n",
    "    ext_order -- list, the unigram char list sorted by their count DESC\n",
    "    ext_limits -- int, defines maximum number of cipher char can be mapped to a plaintext char\n",
    "    topn -- int, defines the number of dictionaries we want to keep while pruning\n",
    "    '''\n",
    "    print('Number of unique symbols in cipher:', len(ext_order))\n",
    "    # mapping relationships already found with score\n",
    "    Hs = [(defaultdict(dict), -100000000)]\n",
    "    # hypothesis mapping relationships with score\n",
    "    Ht = [(defaultdict(dict), -100000000)]\n",
    "    # initialize the cardinality (number of unique cipher text)\n",
    "    cardinality = 0\n",
    "    # list of plaintext characters\n",
    "    Ve = [chr(i) for i in range(97, 123, 1)]\n",
    "    while cardinality < len(ext_order):\n",
    "    #while cardinality < 4:\n",
    "        f = ext_order[cardinality]\n",
    "        print('Working on symbol: ', f)\n",
    "        for phi, _ in Hs:\n",
    "            for e in Ve:\n",
    "                phi_prime = copy.deepcopy(phi)\n",
    "                #print('phi', phi)\n",
    "                if e in phi_prime.keys():\n",
    "                    if len(phi_prime[e]) < ext_limits:\n",
    "                        phi_prime[e].append(f)\n",
    "                        Ht.append((phi_prime, score(phi_prime, cipher, lm)))\n",
    "                        #print('phi_prime', phi_prime)\n",
    "                else:\n",
    "                    phi_prime[e] = [f]\n",
    "                    this_score = score(phi_prime, cipher, lm)\n",
    "                    Ht.append((phi_prime, this_score))\n",
    "                    #print(phi_prime)\n",
    "        # prune the histogram\n",
    "        Ht = sorted(Ht, key=lambda x:x[1], reverse=True)[:topn]\n",
    "        cardinality += 1\n",
    "        Hs = copy.deepcopy(Ht)\n",
    "        Ht.clear()\n",
    "        print(Hs)\n",
    "    return sorted(Hs, key=lambda x:x[1], reverse=True)"
   ]
  },
  {
   "cell_type": "code",
   "execution_count": 107,
   "metadata": {},
   "outputs": [],
   "source": [
    "# cipher = read_file(\"data/cipher.txt\")\n",
    "# cipher_desc = get_statistics(cipher, cipher=True)\n",
    "# plaintxt = read_file(\"data/default.wiki.txt.bz2\")\n",
    "# plaintxt_desc = get_statistics(plaintxt, cipher=False)"
   ]
  },
  {
   "cell_type": "code",
   "execution_count": 122,
   "metadata": {},
   "outputs": [
    {
     "name": "stdout",
     "output_type": "stream",
     "text": [
      "Number of unique symbols in cipher: 54\n",
      "Working on symbol:  —\n",
      "[(defaultdict(<class 'dict'>, {'e': ['—']}), -17.194697199999997), (defaultdict(<class 'dict'>, {'t': ['—']}), -19.459254), (defaultdict(<class 'dict'>, {'a': ['—']}), -19.561845999999992), (defaultdict(<class 'dict'>, {'i': ['—']}), -20.68648599999999), (defaultdict(<class 'dict'>, {'n': ['—']}), -20.704806), (defaultdict(<class 'dict'>, {'o': ['—']}), -20.855766), (defaultdict(<class 'dict'>, {'r': ['—']}), -21.403253999999993), (defaultdict(<class 'dict'>, {'s': ['—']}), -21.459989999999994)]\n",
      "Working on symbol:  º\n",
      "[(defaultdict(<class 'dict'>, {'e': ['—', 'º']}), -30.65840779999999), (defaultdict(<class 'dict'>, {'e': ['—'], 't': ['º']}), -31.6585959), (defaultdict(<class 'dict'>, {'e': ['—'], 'a': ['º']}), -32.02346919999998), (defaultdict(<class 'dict'>, {'t': ['—'], 'e': ['º']}), -32.9229646), (defaultdict(<class 'dict'>, {'e': ['—'], 'i': ['º']}), -32.97449319999998), (defaultdict(<class 'dict'>, {'a': ['—'], 'e': ['º']}), -33.02555659999999), (defaultdict(<class 'dict'>, {'e': ['—'], 'o': ['º']}), -33.44821519999999), (defaultdict(<class 'dict'>, {'e': ['—'], 'n': ['º']}), -33.669905199999995)]\n",
      "Working on symbol:  B\n",
      "[(defaultdict(<class 'dict'>, {'e': ['—', 'º', 'B']}), -42.22169000000001), (defaultdict(<class 'dict'>, {'e': ['—', 'B'], 't': ['º']}), -42.63826150000001), (defaultdict(<class 'dict'>, {'e': ['—', 'º'], 'a': ['B']}), -43.46071280000001), (defaultdict(<class 'dict'>, {'e': ['—', 'º'], 't': ['B']}), -43.529114800000016), (defaultdict(<class 'dict'>, {'e': ['—', 'º'], 'n': ['B']}), -44.18443180000001), (defaultdict(<class 'dict'>, {'e': ['—', 'B'], 'i': ['º']}), -44.41907040000001), (defaultdict(<class 'dict'>, {'e': ['—', 'º'], 'r': ['B']}), -44.44188150000001), (defaultdict(<class 'dict'>, {'t': ['—'], 'e': ['º', 'B']}), -44.4862468)]\n",
      "Working on symbol:  R\n",
      "[(defaultdict(<class 'dict'>, {'e': ['—', 'B', 'R'], 't': ['º']}), -54.201543700000016), (defaultdict(<class 'dict'>, {'e': ['—', 'º', 'R'], 'a': ['B']}), -55.02399500000004), (defaultdict(<class 'dict'>, {'e': ['—', 'º', 'R'], 't': ['B']}), -55.092397000000034), (defaultdict(<class 'dict'>, {'e': ['—', 'º', 'B'], 't': ['R']}), -55.18012500000005), (defaultdict(<class 'dict'>, {'e': ['—', 'B'], 't': ['º', 'R']}), -55.59669650000002), (defaultdict(<class 'dict'>, {'e': ['—', 'º', 'R'], 'n': ['B']}), -55.74771400000003), (defaultdict(<class 'dict'>, {'e': ['—', 'B', 'R'], 'i': ['º']}), -55.98235260000004), (defaultdict(<class 'dict'>, {'e': ['—', 'º', 'R'], 'r': ['B']}), -56.005163700000054)]\n",
      "Working on symbol:  ∫\n",
      "[(defaultdict(<class 'dict'>, {'e': ['—', 'B', 'R'], 'i': ['º'], 'n': ['∫']}), -67.41274255000006), (defaultdict(<class 'dict'>, {'e': ['—', 'º', 'R'], 'a': ['B'], 's': ['∫']}), -67.55205100000005), (defaultdict(<class 'dict'>, {'e': ['—', 'º', 'B'], 't': ['R'], 's': ['∫']}), -67.70629970000005), (defaultdict(<class 'dict'>, {'e': ['—', 'º', 'R'], 'a': ['B'], 't': ['∫']}), -67.83922090000004), (defaultdict(<class 'dict'>, {'e': ['—', 'B', 'R'], 't': ['º'], 'o': ['∫']}), -67.99957230000001), (defaultdict(<class 'dict'>, {'e': ['—', 'º', 'R'], 't': ['B'], 's': ['∫']}), -68.04682060000005), (defaultdict(<class 'dict'>, {'e': ['—', 'º', 'R'], 'a': ['B'], 'n': ['∫']}), -68.08522530000005), (defaultdict(<class 'dict'>, {'e': ['—', 'B', 'R'], 't': ['º'], 'h': ['∫']}), -68.16670857000001)]\n",
      "Working on symbol:  P\n",
      "[(defaultdict(<class 'dict'>, {'e': ['—', 'º', 'R'], 'a': ['B'], 's': ['∫'], 't': ['P']}), -77.96606520000007), (defaultdict(<class 'dict'>, {'e': ['—', 'º', 'R'], 'a': ['B'], 'n': ['∫'], 't': ['P']}), -78.83332540000006), (defaultdict(<class 'dict'>, {'e': ['—', 'B', 'R'], 'i': ['º'], 'n': ['∫'], 'a': ['P']}), -79.04302555000008), (defaultdict(<class 'dict'>, {'e': ['—', 'B', 'R'], 'i': ['º'], 'n': ['∫'], 't': ['P']}), -79.08162895000005), (defaultdict(<class 'dict'>, {'e': ['—', 'º', 'R'], 'a': ['B'], 't': ['∫', 'P']}), -79.17419160000006), (defaultdict(<class 'dict'>, {'e': ['—', 'º', 'B'], 't': ['R', 'P'], 's': ['∫']}), -79.19117620000006), (defaultdict(<class 'dict'>, {'e': ['—', 'º', 'R'], 'a': ['B'], 's': ['∫', 'P']}), -79.67836710000009), (defaultdict(<class 'dict'>, {'e': ['—', 'B', 'R'], 't': ['º'], 'o': ['∫'], 'r': ['P']}), -79.78647840000005)]\n",
      "Working on symbol:  I\n",
      "[(defaultdict(<class 'dict'>, {'e': ['—', 'º', 'R'], 'a': ['B'], 's': ['∫'], 't': ['P', 'I']}), -89.55281540000009), (defaultdict(<class 'dict'>, {'e': ['—', 'º', 'R'], 'a': ['B'], 's': ['∫'], 't': ['P'], 'i': ['I']}), -90.42467030000009), (defaultdict(<class 'dict'>, {'e': ['—', 'º', 'B'], 't': ['R', 'P', 'I'], 's': ['∫']}), -90.77792640000007), (defaultdict(<class 'dict'>, {'e': ['—', 'B', 'R'], 'i': ['º'], 'n': ['∫'], 'a': ['P', 'I']}), -90.85961075000007), (defaultdict(<class 'dict'>, {'e': ['—', 'B', 'R'], 'i': ['º'], 'n': ['∫'], 't': ['P'], 'a': ['I']}), -90.89821415000007), (defaultdict(<class 'dict'>, {'e': ['—', 'º', 'R'], 'a': ['B'], 's': ['∫', 'P'], 't': ['I']}), -91.26511730000011), (defaultdict(<class 'dict'>, {'e': ['—', 'º', 'R'], 'a': ['B', 'I'], 's': ['∫'], 't': ['P']}), -91.2955190000001), (defaultdict(<class 'dict'>, {'e': ['—', 'º', 'R'], 'a': ['B'], 'n': ['∫'], 't': ['P'], 'i': ['I']}), -91.3584932000001)]\n",
      "Working on symbol:  u\n",
      "[(defaultdict(<class 'dict'>, {'e': ['—', 'º', 'R'], 'a': ['B'], 's': ['∫', 'u'], 't': ['P', 'I']}), -100.37602820000012), (defaultdict(<class 'dict'>, {'e': ['—', 'º', 'R'], 'a': ['B'], 's': ['∫'], 't': ['P', 'I'], 'n': ['u']}), -100.38876260000012), (defaultdict(<class 'dict'>, {'e': ['—', 'º', 'R'], 'a': ['B', 'u'], 's': ['∫'], 't': ['P', 'I']}), -100.96833820000012), (defaultdict(<class 'dict'>, {'e': ['—', 'º', 'R'], 'a': ['B'], 's': ['∫'], 't': ['P', 'I'], 'r': ['u']}), -100.98114530000012), (defaultdict(<class 'dict'>, {'e': ['—', 'º', 'B'], 't': ['R', 'P', 'I'], 's': ['∫'], 'i': ['u']}), -101.28635430000011), (defaultdict(<class 'dict'>, {'e': ['—', 'º', 'R'], 'a': ['B'], 's': ['∫'], 't': ['P'], 'i': ['I'], 'r': ['u']}), -101.40687120000013), (defaultdict(<class 'dict'>, {'e': ['—', 'º', 'R'], 'a': ['B'], 's': ['∫'], 't': ['P', 'u'], 'i': ['I']}), -101.64776850000011), (defaultdict(<class 'dict'>, {'e': ['—', 'º', 'R'], 'a': ['B'], 's': ['∫', 'u'], 't': ['P'], 'i': ['I']}), -101.67229110000012)]\n",
      "Working on symbol:  ≈\n",
      "[(defaultdict(<class 'dict'>, {'e': ['—', 'º', 'R'], 'a': ['B'], 's': ['∫', 'u'], 't': ['P', 'I', '≈']}), -110.61330820000015), (defaultdict(<class 'dict'>, {'e': ['—', 'º', 'R'], 'a': ['B'], 's': ['∫'], 't': ['P', 'I', '≈'], 'n': ['u']}), -110.71734140000014), (defaultdict(<class 'dict'>, {'e': ['—', 'º', 'R'], 'a': ['B', '≈'], 's': ['∫', 'u'], 't': ['P', 'I']}), -110.98770320000014), (defaultdict(<class 'dict'>, {'e': ['—', 'º', 'R'], 'a': ['B', '≈'], 's': ['∫'], 't': ['P', 'I'], 'n': ['u']}), -111.03415560000015), (defaultdict(<class 'dict'>, {'e': ['—', 'º', 'R'], 'a': ['B', 'u'], 's': ['∫'], 't': ['P', 'I', '≈']}), -111.36785710000015), (defaultdict(<class 'dict'>, {'e': ['—', 'º', 'R'], 'a': ['B', '≈'], 's': ['∫'], 't': ['P', 'I'], 'r': ['u']}), -111.51033520000014), (defaultdict(<class 'dict'>, {'e': ['—', 'º', 'R'], 'a': ['B'], 's': ['∫', 'u'], 't': ['P', 'I'], 'i': ['≈']}), -111.59253220000015), (defaultdict(<class 'dict'>, {'e': ['—', 'º', 'R'], 'a': ['B'], 's': ['∫'], 't': ['P', 'I', '≈'], 'r': ['u']}), -111.59739930000015)]\n",
      "Working on symbol:  y\n",
      "[(defaultdict(<class 'dict'>, {'e': ['—', 'º', 'R'], 'a': ['B'], 's': ['∫', 'u'], 't': ['P', 'I', '≈'], 'r': ['y']}), -122.00410920000017), (defaultdict(<class 'dict'>, {'e': ['—', 'º', 'R'], 'a': ['B'], 's': ['∫', 'u', 'y'], 't': ['P', 'I', '≈']}), -122.05556560000018), (defaultdict(<class 'dict'>, {'e': ['—', 'º', 'R'], 'a': ['B'], 's': ['∫'], 't': ['P', 'I', '≈'], 'n': ['u'], 'r': ['y']}), -122.10814240000016), (defaultdict(<class 'dict'>, {'e': ['—', 'º', 'R'], 'a': ['B'], 's': ['∫', 'y'], 't': ['P', 'I', '≈'], 'n': ['u']}), -122.15959880000015), (defaultdict(<class 'dict'>, {'e': ['—', 'º', 'R'], 'a': ['B', '≈'], 's': ['∫', 'u'], 't': ['P', 'I', 'y']}), -122.18339540000018), (defaultdict(<class 'dict'>, {'e': ['—', 'º', 'R'], 'a': ['B', '≈'], 's': ['∫'], 't': ['P', 'I', 'y'], 'n': ['u']}), -122.22984780000017), (defaultdict(<class 'dict'>, {'e': ['—', 'º', 'R'], 'a': ['B', '≈'], 's': ['∫', 'u'], 't': ['P', 'I'], 'r': ['y']}), -122.26749870000017), (defaultdict(<class 'dict'>, {'e': ['—', 'º', 'R'], 'a': ['B', '≈'], 's': ['∫'], 't': ['P', 'I'], 'n': ['u'], 'r': ['y']}), -122.31395110000017)]\n",
      "Working on symbol:  ∑\n"
     ]
    },
    {
     "name": "stdout",
     "output_type": "stream",
     "text": [
      "[(defaultdict(<class 'dict'>, {'e': ['—', 'º', 'R'], 'a': ['B'], 's': ['∫', 'u'], 't': ['P', 'I', '≈'], 'r': ['y', '∑']}), -132.7563582000002), (defaultdict(<class 'dict'>, {'e': ['—', 'º', 'R'], 'a': ['B'], 's': ['∫', 'u', 'y'], 't': ['P', 'I', '≈'], 'r': ['∑']}), -132.8078146000002), (defaultdict(<class 'dict'>, {'e': ['—', 'º', 'R'], 'a': ['B'], 's': ['∫'], 't': ['P', 'I', '≈'], 'n': ['u'], 'r': ['y', '∑']}), -132.86039140000017), (defaultdict(<class 'dict'>, {'e': ['—', 'º', 'R'], 'a': ['B'], 's': ['∫', 'y'], 't': ['P', 'I', '≈'], 'n': ['u'], 'r': ['∑']}), -132.91184780000017), (defaultdict(<class 'dict'>, {'e': ['—', 'º', 'R'], 'a': ['B', '≈'], 's': ['∫', 'u'], 't': ['P', 'I', 'y'], 'r': ['∑']}), -132.9356444000002), (defaultdict(<class 'dict'>, {'e': ['—', 'º', 'R'], 'a': ['B', '≈'], 's': ['∫'], 't': ['P', 'I', 'y'], 'n': ['u'], 'r': ['∑']}), -132.9820968000002), (defaultdict(<class 'dict'>, {'e': ['—', 'º', 'R'], 'a': ['B', '≈'], 's': ['∫', 'u'], 't': ['P', 'I'], 'r': ['y', '∑']}), -133.01974770000015), (defaultdict(<class 'dict'>, {'e': ['—', 'º', 'R'], 'a': ['B', '≈'], 's': ['∫'], 't': ['P', 'I'], 'n': ['u'], 'r': ['y', '∑']}), -133.06620010000017)]\n",
      "Working on symbol:  À\n",
      "[(defaultdict(<class 'dict'>, {'e': ['—', 'º', 'R'], 'a': ['B'], 's': ['∫', 'À'], 't': ['P', 'I', '≈'], 'n': ['u'], 'r': ['y', '∑']}), -142.43339140000018), (defaultdict(<class 'dict'>, {'e': ['—', 'º', 'R'], 'a': ['B'], 's': ['∫', 'y', 'À'], 't': ['P', 'I', '≈'], 'n': ['u'], 'r': ['∑']}), -142.48484780000018), (defaultdict(<class 'dict'>, {'e': ['—', 'º', 'R'], 'a': ['B', '≈'], 's': ['∫', 'À'], 't': ['P', 'I', 'y'], 'n': ['u'], 'r': ['∑']}), -142.55509680000017), (defaultdict(<class 'dict'>, {'e': ['—', 'º', 'R'], 'a': ['B', '≈'], 's': ['∫', 'À'], 't': ['P', 'I'], 'n': ['u'], 'r': ['y', '∑']}), -142.63920010000015), (defaultdict(<class 'dict'>, {'e': ['—', 'º', 'R'], 'a': ['B'], 's': ['∫', 'u', 'À'], 't': ['P', 'I', '≈'], 'r': ['y', '∑']}), -142.96031360000015), (defaultdict(<class 'dict'>, {'e': ['—', 'º', 'R'], 'a': ['B', 'À'], 's': ['∫', 'u'], 't': ['P', 'I', '≈'], 'r': ['y', '∑']}), -143.10756230000015), (defaultdict(<class 'dict'>, {'e': ['—', 'º', 'R'], 'a': ['B', '≈'], 's': ['∫', 'u', 'À'], 't': ['P', 'I', 'y'], 'r': ['∑']}), -143.13959980000016), (defaultdict(<class 'dict'>, {'e': ['—', 'º', 'R'], 'a': ['B', 'À'], 's': ['∫', 'u', 'y'], 't': ['P', 'I', '≈'], 'r': ['∑']}), -143.15901870000016)]\n",
      "Working on symbol:  X\n",
      "[(defaultdict(<class 'dict'>, {'e': ['—', 'º', 'R'], 'a': ['B', '≈'], 's': ['∫', 'À'], 't': ['P', 'I', 'y'], 'n': ['u'], 'r': ['∑', 'X']}), -151.5578649000001), (defaultdict(<class 'dict'>, {'e': ['—', 'º', 'R'], 'a': ['B', '≈'], 's': ['∫', 'À'], 't': ['P', 'I', 'X'], 'n': ['u'], 'r': ['y', '∑']}), -151.57501030000014), (defaultdict(<class 'dict'>, {'e': ['—', 'º', 'R'], 'a': ['B', '≈'], 's': ['∫', 'À'], 't': ['P', 'I'], 'n': ['u'], 'r': ['y', '∑', 'X']}), -151.6419682000001), (defaultdict(<class 'dict'>, {'e': ['—', 'º', 'R'], 'a': ['B'], 's': ['∫', 'À'], 't': ['P', 'I', '≈'], 'n': ['u'], 'r': ['y', '∑', 'X']}), -151.75162670000017), (defaultdict(<class 'dict'>, {'e': ['—', 'º', 'R'], 'a': ['B'], 's': ['∫', 'y', 'À'], 't': ['P', 'I', '≈'], 'n': ['u'], 'r': ['∑', 'X']}), -151.80308310000018), (defaultdict(<class 'dict'>, {'e': ['—', 'º', 'R'], 'a': ['B', '≈'], 's': ['∫', 'u', 'À'], 't': ['P', 'I', 'y'], 'r': ['∑', 'X']}), -152.1423679000001), (defaultdict(<class 'dict'>, {'e': ['—', 'º', 'R'], 'a': ['B'], 's': ['∫', 'u', 'À'], 't': ['P', 'I', '≈'], 'r': ['y', '∑', 'X']}), -152.27854890000015), (defaultdict(<class 'dict'>, {'e': ['—', 'º', 'R'], 'a': ['B', 'À'], 's': ['∫', 'u'], 't': ['P', 'I', '≈'], 'r': ['y', '∑', 'X']}), -152.42579760000012)]\n",
      "Working on symbol:  W\n",
      "[(defaultdict(<class 'dict'>, {'e': ['—', 'º', 'R'], 'a': ['B'], 's': ['∫', 'À', 'W'], 't': ['P', 'I', '≈'], 'n': ['u'], 'r': ['y', '∑', 'X']}), -160.8894473000002), (defaultdict(<class 'dict'>, {'e': ['—', 'º', 'R'], 'a': ['B', '≈'], 's': ['∫', 'À', 'W'], 't': ['P', 'I', 'y'], 'n': ['u'], 'r': ['∑', 'X']}), -160.91766580000015), (defaultdict(<class 'dict'>, {'e': ['—', 'º', 'R'], 'a': ['B', '≈'], 's': ['∫', 'À'], 't': ['P', 'I', 'y'], 'n': ['u'], 'r': ['∑', 'X', 'W']}), -160.95930700000014), (defaultdict(<class 'dict'>, {'e': ['—', 'º', 'R'], 'a': ['B', '≈'], 's': ['∫', 'À', 'W'], 't': ['P', 'I'], 'n': ['u'], 'r': ['y', '∑', 'X']}), -161.00176910000013), (defaultdict(<class 'dict'>, {'e': ['—', 'º', 'R'], 'a': ['B', '≈'], 's': ['∫', 'À'], 't': ['P', 'I', 'y'], 'n': ['u', 'W'], 'r': ['∑', 'X']}), -161.02490220000007), (defaultdict(<class 'dict'>, {'e': ['—', 'º', 'R'], 'a': ['B', '≈'], 's': ['∫', 'À'], 't': ['P', 'I'], 'n': ['u', 'W'], 'r': ['y', '∑', 'X']}), -161.10900550000008), (defaultdict(<class 'dict'>, {'e': ['—', 'º', 'R'], 'a': ['B', '≈'], 's': ['∫', 'À'], 't': ['P', 'I', 'X'], 'n': ['u', 'W'], 'r': ['y', '∑']}), -161.1295065000001), (defaultdict(<class 'dict'>, {'e': ['—', 'º', 'R'], 'a': ['B', '≈'], 's': ['∫', 'À'], 't': ['P', 'I', 'X'], 'n': ['u'], 'r': ['y', '∑', 'W']}), -161.16423710000015)]\n",
      "Working on symbol:  V\n",
      "[(defaultdict(<class 'dict'>, {'e': ['—', 'º', 'R'], 'a': ['B', '≈'], 's': ['∫', 'À'], 't': ['P', 'I', 'y'], 'n': ['u', 'W'], 'r': ['∑', 'X'], 'i': ['V']}), -169.81840100000002), (defaultdict(<class 'dict'>, {'e': ['—', 'º', 'R'], 'a': ['B', '≈'], 's': ['∫', 'À'], 't': ['P', 'I'], 'n': ['u', 'W'], 'r': ['y', '∑', 'X'], 'i': ['V']}), -169.90250430000003), (defaultdict(<class 'dict'>, {'e': ['—', 'º', 'R'], 'a': ['B', '≈'], 's': ['∫', 'À'], 't': ['P', 'I', 'X'], 'n': ['u', 'W'], 'r': ['y', '∑'], 'i': ['V']}), -169.92300530000006), (defaultdict(<class 'dict'>, {'e': ['—', 'º', 'R'], 'a': ['B'], 's': ['∫', 'À', 'W'], 't': ['P', 'I', '≈'], 'n': ['u'], 'r': ['y', '∑', 'X'], 'i': ['V']}), -170.40207070000017), (defaultdict(<class 'dict'>, {'e': ['—', 'º', 'R'], 'a': ['B', '≈'], 's': ['∫', 'À', 'W'], 't': ['P', 'I', 'y'], 'n': ['u'], 'r': ['∑', 'X'], 'i': ['V']}), -170.56200220000008), (defaultdict(<class 'dict'>, {'e': ['—', 'º', 'R'], 'a': ['B', '≈'], 's': ['∫', 'À', 'W'], 't': ['P', 'I'], 'n': ['u'], 'r': ['y', '∑', 'X'], 'i': ['V']}), -170.6461055000001), (defaultdict(<class 'dict'>, {'e': ['—', 'º', 'R'], 'a': ['B', '≈'], 's': ['∫', 'À', 'W'], 't': ['P', 'I', 'V'], 'n': ['u'], 'r': ['y', '∑', 'X']}), -171.09713430000014), (defaultdict(<class 'dict'>, {'e': ['—', 'º', 'R'], 'a': ['B'], 's': ['∫', 'À', 'W'], 't': ['P', 'I', '≈'], 'n': ['u', 'V'], 'r': ['y', '∑', 'X']}), -171.68685100000016)]\n",
      "Working on symbol:  E\n",
      "[(defaultdict(<class 'dict'>, {'e': ['—', 'º', 'R'], 'a': ['B', 'E'], 's': ['∫', 'À', 'W'], 't': ['P', 'I', '≈'], 'n': ['u'], 'r': ['y', '∑', 'X'], 'i': ['V']}), -180.1322895000001), (defaultdict(<class 'dict'>, {'e': ['—', 'º', 'R'], 'a': ['B', '≈', 'E'], 's': ['∫', 'À'], 't': ['P', 'I', 'X'], 'n': ['u', 'W'], 'r': ['y', '∑'], 'i': ['V']}), -180.1705187), (defaultdict(<class 'dict'>, {'e': ['—', 'º', 'R'], 'a': ['B', '≈', 'E'], 's': ['∫', 'À'], 't': ['P', 'I'], 'n': ['u', 'W'], 'r': ['y', '∑', 'X'], 'i': ['V']}), -180.27653069999997), (defaultdict(<class 'dict'>, {'e': ['—', 'º', 'R'], 'a': ['B', '≈', 'E'], 's': ['∫', 'À', 'W'], 't': ['P', 'I', 'V'], 'n': ['u'], 'r': ['y', '∑', 'X']}), -180.36004480000008), (defaultdict(<class 'dict'>, {'e': ['—', 'º', 'R'], 'a': ['B', 'E'], 's': ['∫', 'À', 'W'], 't': ['P', 'I', '≈'], 'n': ['u', 'V'], 'r': ['y', '∑', 'X']}), -180.39584480000013), (defaultdict(<class 'dict'>, {'e': ['—', 'º', 'R'], 'a': ['B', '≈'], 's': ['∫', 'À'], 't': ['P', 'I', 'X'], 'n': ['u', 'W', 'E'], 'r': ['y', '∑'], 'i': ['V']}), -180.7525865), (defaultdict(<class 'dict'>, {'e': ['—', 'º', 'R'], 'a': ['B', '≈'], 's': ['∫', 'À', 'E'], 't': ['P', 'I', 'y'], 'n': ['u', 'W'], 'r': ['∑', 'X'], 'i': ['V']}), -180.8370878), (defaultdict(<class 'dict'>, {'e': ['—', 'º', 'R'], 'a': ['B', '≈', 'E'], 's': ['∫', 'À'], 't': ['P', 'I', 'y'], 'n': ['u', 'W'], 'r': ['∑', 'X'], 'i': ['V']}), -180.8852575)]\n",
      "Working on symbol:  Z\n",
      "[(defaultdict(<class 'dict'>, {'e': ['—', 'º', 'R'], 'a': ['B', 'E', 'Z'], 's': ['∫', 'À', 'W'], 't': ['P', 'I', '≈'], 'n': ['u', 'V'], 'r': ['y', '∑', 'X']}), -188.64506670000014), (defaultdict(<class 'dict'>, {'e': ['—', 'º', 'R'], 'a': ['B', '≈', 'E'], 's': ['∫', 'À'], 't': ['P', 'I', 'Z'], 'n': ['u', 'W'], 'r': ['y', '∑', 'X'], 'i': ['V']}), -188.69960440000003), (defaultdict(<class 'dict'>, {'e': ['—', 'º', 'R'], 'a': ['B', 'E', 'Z'], 's': ['∫', 'À', 'W'], 't': ['P', 'I', '≈'], 'n': ['u'], 'r': ['y', '∑', 'X'], 'i': ['V']}), -188.83122070000016), (defaultdict(<class 'dict'>, {'e': ['—', 'º', 'R'], 'a': ['B', 'E'], 's': ['∫', 'À', 'W'], 't': ['P', 'I', '≈'], 'n': ['u', 'V'], 'r': ['y', '∑', 'X'], 'i': ['Z']}), -188.86948280000013), (defaultdict(<class 'dict'>, {'e': ['—', 'º', 'R'], 'a': ['B', 'E'], 's': ['∫', 'À', 'W'], 't': ['P', 'I', '≈'], 'n': ['u', 'V'], 'r': ['y', '∑', 'X'], 'o': ['Z']}), -189.1592612000001), (defaultdict(<class 'dict'>, {'e': ['—', 'º', 'R'], 'a': ['B', '≈', 'E'], 's': ['∫', 'À', 'W'], 't': ['P', 'I', 'V'], 'n': ['u'], 'r': ['y', '∑', 'X'], 'i': ['Z']}), -189.24047420000014), (defaultdict(<class 'dict'>, {'e': ['—', 'º', 'R'], 'a': ['B', 'E'], 's': ['∫', 'À', 'W'], 't': ['P', 'I', '≈'], 'n': ['u', 'Z'], 'r': ['y', '∑', 'X'], 'i': ['V']}), -189.4057322000001), (defaultdict(<class 'dict'>, {'e': ['—', 'º', 'R'], 'a': ['B', '≈', 'E'], 's': ['∫', 'À', 'W'], 't': ['P', 'I', 'V'], 'n': ['u'], 'r': ['y', '∑', 'X'], 'o': ['Z']}), -189.41205610000014)]\n",
      "Working on symbol:  +\n",
      "[(defaultdict(<class 'dict'>, {'e': ['—', 'º', 'R'], 'a': ['B', 'E', 'Z'], 's': ['∫', 'À', 'W'], 't': ['P', 'I', '≈'], 'n': ['u', 'V'], 'r': ['y', '∑', 'X'], 'o': ['+']}), -197.26744460000006), (defaultdict(<class 'dict'>, {'e': ['—', 'º', 'R'], 'a': ['B', 'E'], 's': ['∫', 'À', 'W'], 't': ['P', 'I', '≈'], 'n': ['u', 'V'], 'r': ['y', '∑', 'X'], 'i': ['Z'], 'o': ['+']}), -197.49186070000005), (defaultdict(<class 'dict'>, {'e': ['—', 'º', 'R'], 'a': ['B', 'E'], 's': ['∫', 'À', 'W'], 't': ['P', 'I', '≈'], 'n': ['u', 'V'], 'r': ['y', '∑', 'X'], 'o': ['Z', '+']}), -197.78163910000006), (defaultdict(<class 'dict'>, {'e': ['—', 'º', 'R'], 'a': ['B', '≈', 'E'], 's': ['∫', 'À', '+'], 't': ['P', 'I', 'Z'], 'n': ['u', 'W'], 'r': ['y', '∑', 'X'], 'i': ['V']}), -197.83012590000004), (defaultdict(<class 'dict'>, {'e': ['—', 'º', 'R'], 'a': ['B', 'E', '+'], 's': ['∫', 'À', 'W'], 't': ['P', 'I', '≈'], 'n': ['u', 'V'], 'r': ['y', '∑', 'X'], 'i': ['Z']}), -198.07023700000005), (defaultdict(<class 'dict'>, {'e': ['—', 'º', 'R'], 'a': ['B', 'E', 'Z'], 's': ['∫', 'À', 'W'], 't': ['P', 'I', '≈'], 'n': ['u', '+'], 'r': ['y', '∑', 'X'], 'i': ['V']}), -198.2538247000001), (defaultdict(<class 'dict'>, {'e': ['—', 'º', 'R'], 'a': ['B', 'E', '+'], 's': ['∫', 'À', 'W'], 't': ['P', 'I', '≈'], 'n': ['u', 'V'], 'r': ['y', '∑', 'X'], 'o': ['Z']}), -198.36001540000007), (defaultdict(<class 'dict'>, {'e': ['—', 'º', 'R'], 'a': ['B', '≈', 'E'], 's': ['∫', 'À', 'W'], 't': ['P', 'I', 'V'], 'n': ['u'], 'r': ['y', '∑', 'X'], 'i': ['Z'], 'h': ['+']}), -198.41493990000006)]\n",
      "Working on symbol:  ∞\n"
     ]
    },
    {
     "name": "stdout",
     "output_type": "stream",
     "text": [
      "[(defaultdict(<class 'dict'>, {'e': ['—', 'º', 'R'], 'a': ['B', 'E', 'Z'], 's': ['∫', 'À', 'W'], 't': ['P', 'I', '≈'], 'n': ['u', 'V'], 'r': ['y', '∑', 'X'], 'o': ['+'], 'h': ['∞']}), -207.23431570000005), (defaultdict(<class 'dict'>, {'e': ['—', 'º', 'R'], 'a': ['B', 'E'], 's': ['∫', 'À', 'W'], 't': ['P', 'I', '≈'], 'n': ['u', 'V'], 'r': ['y', '∑', 'X'], 'i': ['Z'], 'o': ['+'], 'h': ['∞']}), -207.45873180000004), (defaultdict(<class 'dict'>, {'e': ['—', 'º', 'R'], 'a': ['B', 'E'], 's': ['∫', 'À', 'W'], 't': ['P', 'I', '≈'], 'n': ['u', 'V'], 'r': ['y', '∑', 'X'], 'o': ['Z', '+'], 'h': ['∞']}), -207.7485102), (defaultdict(<class 'dict'>, {'e': ['—', 'º', 'R'], 'a': ['B', 'E', '+'], 's': ['∫', 'À', 'W'], 't': ['P', 'I', '≈'], 'n': ['u', 'V'], 'r': ['y', '∑', 'X'], 'i': ['Z'], 'h': ['∞']}), -208.03710810000004), (defaultdict(<class 'dict'>, {'e': ['—', 'º', 'R'], 'a': ['B', 'E', 'Z'], 's': ['∫', 'À', 'W'], 't': ['P', 'I', '≈'], 'n': ['u', '+'], 'r': ['y', '∑', 'X'], 'i': ['V'], 'h': ['∞']}), -208.22069580000007), (defaultdict(<class 'dict'>, {'e': ['—', 'º', 'R'], 'a': ['B', 'E', '+'], 's': ['∫', 'À', 'W'], 't': ['P', 'I', '≈'], 'n': ['u', 'V'], 'r': ['y', '∑', 'X'], 'o': ['Z'], 'h': ['∞']}), -208.32688650000003), (defaultdict(<class 'dict'>, {'e': ['—', 'º', 'R'], 'a': ['B', '≈', 'E'], 's': ['∫', 'À', 'W'], 't': ['P', 'I', 'V'], 'n': ['u'], 'r': ['y', '∑', 'X'], 'i': ['Z'], 'h': ['+', '∞']}), -208.50736670000003), (defaultdict(<class 'dict'>, {'e': ['—', 'º', 'R'], 'a': ['B', '≈', 'E'], 's': ['∫', 'À', '+'], 't': ['P', 'I', 'Z'], 'n': ['u', 'W'], 'r': ['y', '∑', 'X'], 'i': ['V'], 'h': ['∞']}), -208.79199350000002)]\n",
      "Working on symbol:  H\n",
      "[(defaultdict(<class 'dict'>, {'e': ['—', 'º', 'R'], 'a': ['B', 'E', 'Z'], 's': ['∫', 'À', 'W'], 't': ['P', 'I', '≈'], 'n': ['u', 'V'], 'r': ['y', '∑', 'X'], 'o': ['+'], 'h': ['∞'], 'i': ['H']}), -217.24413840000005), (defaultdict(<class 'dict'>, {'e': ['—', 'º', 'R'], 'a': ['B', 'E'], 's': ['∫', 'À', 'W'], 't': ['P', 'I', '≈'], 'n': ['u', 'V'], 'r': ['y', '∑', 'X'], 'i': ['Z', 'H'], 'o': ['+'], 'h': ['∞']}), -217.46855450000004), (defaultdict(<class 'dict'>, {'e': ['—', 'º', 'R'], 'a': ['B', 'E'], 's': ['∫', 'À', 'W'], 't': ['P', 'I', '≈'], 'n': ['u', 'V'], 'r': ['y', '∑', 'X'], 'o': ['Z', '+'], 'h': ['∞'], 'i': ['H']}), -217.75833290000003), (defaultdict(<class 'dict'>, {'e': ['—', 'º', 'R'], 'a': ['B', 'E', '+'], 's': ['∫', 'À', 'W'], 't': ['P', 'I', '≈'], 'n': ['u', 'V'], 'r': ['y', '∑', 'X'], 'i': ['Z', 'H'], 'h': ['∞']}), -218.04693080000004), (defaultdict(<class 'dict'>, {'e': ['—', 'º', 'R'], 'a': ['B', 'E', '+'], 's': ['∫', 'À', 'W'], 't': ['P', 'I', '≈'], 'n': ['u', 'V'], 'r': ['y', '∑', 'X'], 'o': ['Z'], 'h': ['∞'], 'i': ['H']}), -218.33670920000003), (defaultdict(<class 'dict'>, {'e': ['—', 'º', 'R'], 'a': ['B', 'E', 'H'], 's': ['∫', 'À', 'W'], 't': ['P', 'I', '≈'], 'n': ['u', 'V'], 'r': ['y', '∑', 'X'], 'i': ['Z'], 'o': ['+'], 'h': ['∞']}), -218.36109040000008), (defaultdict(<class 'dict'>, {'e': ['—', 'º', 'R'], 'a': ['B', 'E', 'H'], 's': ['∫', 'À', 'W'], 't': ['P', 'I', '≈'], 'n': ['u', 'V'], 'r': ['y', '∑', 'X'], 'o': ['Z', '+'], 'h': ['∞']}), -218.65086880000007), (defaultdict(<class 'dict'>, {'e': ['—', 'º', 'R'], 'a': ['B', 'E', 'Z'], 's': ['∫', 'À', 'W'], 't': ['P', 'I', '≈'], 'n': ['u', '+'], 'r': ['y', '∑', 'X'], 'i': ['V'], 'h': ['∞'], 'd': ['H']}), -218.81504550000008)]\n",
      "Working on symbol:  M\n",
      "[(defaultdict(<class 'dict'>, {'e': ['—', 'º', 'R'], 'a': ['B', 'E', 'Z'], 's': ['∫', 'À', 'W'], 't': ['P', 'I', '≈'], 'n': ['u', '+'], 'r': ['y', '∑', 'X'], 'i': ['V', 'M'], 'h': ['∞'], 'd': ['H']}), -227.2552075000001), (defaultdict(<class 'dict'>, {'e': ['—', 'º', 'R'], 'a': ['B', 'E', 'Z'], 's': ['∫', 'À', 'W'], 't': ['P', 'I', '≈'], 'n': ['u', '+'], 'r': ['y', '∑', 'X'], 'i': ['V'], 'h': ['∞'], 'd': ['H'], 'o': ['M']}), -228.5329057000001), (defaultdict(<class 'dict'>, {'e': ['—', 'º', 'R'], 'a': ['B', 'E', 'M'], 's': ['∫', 'À', 'W'], 't': ['P', 'I', '≈'], 'n': ['u', 'V'], 'r': ['y', '∑', 'X'], 'i': ['Z', 'H'], 'o': ['+'], 'h': ['∞']}), -228.54158759999999), (defaultdict(<class 'dict'>, {'e': ['—', 'º', 'R'], 'a': ['B', 'E', 'H'], 's': ['∫', 'À', 'W'], 't': ['P', 'I', '≈'], 'n': ['u', 'V'], 'r': ['y', '∑', 'X'], 'o': ['Z', '+'], 'h': ['∞'], 'i': ['M']}), -229.70382981000003), (defaultdict(<class 'dict'>, {'e': ['—', 'º', 'R'], 'a': ['B', 'E', 'Z'], 's': ['∫', 'À', 'W'], 't': ['P', 'I', '≈'], 'n': ['u', 'V', 'M'], 'r': ['y', '∑', 'X'], 'o': ['+'], 'h': ['∞'], 'i': ['H']}), -229.81967700000004), (defaultdict(<class 'dict'>, {'e': ['—', 'º', 'R'], 'a': ['B', 'E', 'M'], 's': ['∫', 'À', 'W'], 't': ['P', 'I', '≈'], 'n': ['u', 'V'], 'r': ['y', '∑', 'X'], 'o': ['Z', '+'], 'h': ['∞'], 'i': ['H']}), -229.98767600000002), (defaultdict(<class 'dict'>, {'e': ['—', 'º', 'R'], 'a': ['B', 'E'], 's': ['∫', 'À', 'W'], 't': ['P', 'I', '≈'], 'n': ['u', 'V', 'M'], 'r': ['y', '∑', 'X'], 'i': ['Z', 'H'], 'o': ['+'], 'h': ['∞']}), -230.1463001), (defaultdict(<class 'dict'>, {'e': ['—', 'º', 'R'], 'a': ['B', 'E', 'H'], 's': ['∫', 'À', 'W'], 't': ['P', 'I', '≈'], 'n': ['u', 'V', 'M'], 'r': ['y', '∑', 'X'], 'i': ['Z'], 'o': ['+'], 'h': ['∞']}), -230.22198949999998)]\n",
      "Working on symbol:  µ\n",
      "[(defaultdict(<class 'dict'>, {'e': ['—', 'º', 'R'], 'a': ['B', 'E', 'Z'], 's': ['∫', 'À', 'W'], 't': ['P', 'I', '≈'], 'n': ['u', '+'], 'r': ['y', '∑', 'X'], 'i': ['V', 'µ'], 'h': ['∞'], 'd': ['H'], 'o': ['M']}), -238.13432980000007), (defaultdict(<class 'dict'>, {'e': ['—', 'º', 'R'], 'a': ['B', 'E', 'M'], 's': ['∫', 'À', 'W'], 't': ['P', 'I', '≈'], 'n': ['u', 'V'], 'r': ['y', '∑', 'X'], 'i': ['Z', 'H'], 'o': ['+'], 'h': ['∞', 'µ']}), -238.38439317999996), (defaultdict(<class 'dict'>, {'e': ['—', 'º', 'R'], 'a': ['B', 'E', 'Z'], 's': ['∫', 'À', 'W'], 't': ['P', 'I', '≈'], 'n': ['u', '+'], 'r': ['y', '∑', 'X'], 'i': ['V', 'M'], 'h': ['∞', 'µ'], 'd': ['H']}), -239.02497218000005), (defaultdict(<class 'dict'>, {'e': ['—', 'º', 'R'], 'a': ['B', 'E', 'Z'], 's': ['∫', 'À', 'W'], 't': ['P', 'I', '≈'], 'n': ['u', '+'], 'r': ['y', '∑', 'X'], 'i': ['V', 'M', 'µ'], 'h': ['∞'], 'd': ['H']}), -239.39290780000007), (defaultdict(<class 'dict'>, {'e': ['—', 'º', 'R'], 'a': ['B', 'E', 'H'], 's': ['∫', 'À', 'W'], 't': ['P', 'I', '≈'], 'n': ['u', 'V'], 'r': ['y', '∑', 'X'], 'o': ['Z', '+'], 'h': ['∞', 'µ'], 'i': ['M']}), -239.82099428999996), (defaultdict(<class 'dict'>, {'e': ['—', 'º', 'R'], 'a': ['B', 'E', 'M'], 's': ['∫', 'À', 'W'], 't': ['P', 'I', '≈'], 'n': ['u', 'V'], 'r': ['y', '∑', 'X'], 'o': ['Z', '+'], 'h': ['∞', 'µ'], 'i': ['H']}), -239.83048157999997), (defaultdict(<class 'dict'>, {'e': ['—', 'º', 'R'], 'a': ['B', 'E', 'Z'], 's': ['∫', 'À', 'W'], 't': ['P', 'I', '≈'], 'n': ['u', '+'], 'r': ['y', '∑', 'X'], 'i': ['V', 'M'], 'h': ['∞'], 'd': ['H'], 'o': ['µ']}), -240.09759740000007), (defaultdict(<class 'dict'>, {'e': ['—', 'º', 'R'], 'a': ['B', 'E', 'Z'], 's': ['∫', 'À', 'W'], 't': ['P', 'I', '≈'], 'n': ['u', '+'], 'r': ['y', '∑', 'X'], 'i': ['V'], 'h': ['∞', 'µ'], 'd': ['H'], 'o': ['M']}), -240.41183138000005)]\n",
      "Working on symbol:  £\n",
      "[(defaultdict(<class 'dict'>, {'e': ['—', 'º', 'R'], 'a': ['B', 'E', 'M'], 's': ['∫', 'À', 'W'], 't': ['P', 'I', '≈'], 'n': ['u', 'V'], 'r': ['y', '∑', 'X'], 'i': ['Z', 'H'], 'o': ['+'], 'h': ['∞', 'µ', '£']}), -248.77358136899997), (defaultdict(<class 'dict'>, {'e': ['—', 'º', 'R'], 'a': ['B', 'E', 'M'], 's': ['∫', 'À', 'W'], 't': ['P', 'I', '≈'], 'n': ['u', 'V'], 'r': ['y', '∑', 'X'], 'i': ['Z', 'H'], 'o': ['+', '£'], 'h': ['∞', 'µ']}), -248.86119416899993), (defaultdict(<class 'dict'>, {'e': ['—', 'º', 'R'], 'a': ['B', 'E', 'Z'], 's': ['∫', 'À', 'W'], 't': ['P', 'I', '≈'], 'n': ['u', '+'], 'r': ['y', '∑', 'X'], 'i': ['V', 'µ'], 'h': ['∞'], 'd': ['H'], 'o': ['M', '£']}), -249.61971270000006), (defaultdict(<class 'dict'>, {'e': ['—', 'º', 'R'], 'a': ['B', 'E', 'Z'], 's': ['∫', 'À', 'W'], 't': ['P', 'I', '≈'], 'n': ['u', '+'], 'r': ['y', '∑', 'X'], 'i': ['V', 'M'], 'h': ['∞', 'µ'], 'd': ['H'], 'o': ['£']}), -249.83049358000005), (defaultdict(<class 'dict'>, {'e': ['—', 'º', 'R'], 'a': ['B', 'E', 'M'], 's': ['∫', 'À', 'W'], 't': ['P', 'I', '≈'], 'n': ['u', 'V'], 'r': ['y', '∑', 'X'], 'o': ['Z', '+', '£'], 'h': ['∞', 'µ'], 'i': ['H']}), -250.03812856899995), (defaultdict(<class 'dict'>, {'e': ['—', 'º', 'R'], 'a': ['B', 'E', 'Z'], 's': ['∫', 'À', 'W'], 't': ['P', 'I', '≈'], 'n': ['u', '+'], 'r': ['y', '∑', 'X'], 'i': ['V', 'M', 'µ'], 'h': ['∞'], 'd': ['H'], 'o': ['£']}), -250.22380720000004), (defaultdict(<class 'dict'>, {'e': ['—', 'º', 'R'], 'a': ['B', 'E', 'H'], 's': ['∫', 'À', 'W'], 't': ['P', 'I', '≈'], 'n': ['u', 'V'], 'r': ['y', '∑', 'X'], 'o': ['Z', '+', '£'], 'h': ['∞', 'µ'], 'i': ['M']}), -250.37628772), (defaultdict(<class 'dict'>, {'e': ['—', 'º', 'R'], 'a': ['B', 'E', 'M'], 's': ['∫', 'À', 'W'], 't': ['P', 'I', '≈'], 'n': ['u', 'V'], 'r': ['y', '∑', 'X'], 'o': ['Z', '+'], 'h': ['∞', 'µ', '£'], 'i': ['H']}), -250.40250346899998)]\n",
      "Working on symbol:  A\n"
     ]
    },
    {
     "name": "stdout",
     "output_type": "stream",
     "text": [
      "[(defaultdict(<class 'dict'>, {'e': ['—', 'º', 'R'], 'a': ['B', 'E', 'M'], 's': ['∫', 'À', 'W'], 't': ['P', 'I', '≈'], 'n': ['u', 'V', 'A'], 'r': ['y', '∑', 'X'], 'i': ['Z', 'H'], 'o': ['+', '£'], 'h': ['∞', 'µ']}), -260.6915878689999), (defaultdict(<class 'dict'>, {'e': ['—', 'º', 'R'], 'a': ['B', 'E', 'M'], 's': ['∫', 'À', 'W'], 't': ['P', 'I', '≈'], 'n': ['u', 'V', 'A'], 'r': ['y', '∑', 'X'], 'i': ['Z', 'H'], 'o': ['+'], 'h': ['∞', 'µ', '£']}), -260.69758426899995), (defaultdict(<class 'dict'>, {'e': ['—', 'º', 'R'], 'a': ['B', 'E', 'M'], 's': ['∫', 'À', 'W'], 't': ['P', 'I', '≈'], 'n': ['u', 'V'], 'r': ['y', '∑', 'X'], 'i': ['Z', 'H', 'A'], 'o': ['+', '£'], 'h': ['∞', 'µ']}), -261.8083532689999), (defaultdict(<class 'dict'>, {'e': ['—', 'º', 'R'], 'a': ['B', 'E', 'Z'], 's': ['∫', 'À', 'W'], 't': ['P', 'I', '≈'], 'n': ['u', '+', 'A'], 'r': ['y', '∑', 'X'], 'i': ['V', 'µ'], 'h': ['∞'], 'd': ['H'], 'o': ['M', '£']}), -261.97792979999997), (defaultdict(<class 'dict'>, {'e': ['—', 'º', 'R'], 'a': ['B', 'E', 'Z'], 's': ['∫', 'À', 'W'], 't': ['P', 'I', '≈'], 'n': ['u', '+', 'A'], 'r': ['y', '∑', 'X'], 'i': ['V', 'M'], 'h': ['∞', 'µ'], 'd': ['H'], 'o': ['£']}), -262.18871067999993), (defaultdict(<class 'dict'>, {'e': ['—', 'º', 'R'], 'a': ['B', 'E', 'M'], 's': ['∫', 'À', 'W'], 't': ['P', 'I', '≈'], 'n': ['u', 'V', 'A'], 'r': ['y', '∑', 'X'], 'o': ['Z', '+', '£'], 'h': ['∞', 'µ'], 'i': ['H']}), -262.2700052689999), (defaultdict(<class 'dict'>, {'e': ['—', 'º', 'R'], 'a': ['B', 'E', 'M'], 's': ['∫', 'À', 'W'], 't': ['P', 'I', '≈'], 'n': ['u', 'V', 'A'], 'r': ['y', '∑', 'X'], 'o': ['Z', '+'], 'h': ['∞', 'µ', '£'], 'i': ['H']}), -262.41543736899996), (defaultdict(<class 'dict'>, {'e': ['—', 'º', 'R'], 'a': ['B', 'E', 'Z'], 's': ['∫', 'À', 'W'], 't': ['P', 'I', '≈'], 'n': ['u', '+', 'A'], 'r': ['y', '∑', 'X'], 'i': ['V', 'M', 'µ'], 'h': ['∞'], 'd': ['H'], 'o': ['£']}), -262.5820243)]\n",
      "Working on symbol:  L\n",
      "[(defaultdict(<class 'dict'>, {'e': ['—', 'º', 'R'], 'a': ['B', 'E', 'M'], 's': ['∫', 'À', 'W'], 't': ['P', 'I', '≈'], 'n': ['u', 'V', 'A'], 'r': ['y', '∑', 'X'], 'i': ['Z', 'H', 'L'], 'o': ['+', '£'], 'h': ['∞', 'µ']}), -271.5115206689999), (defaultdict(<class 'dict'>, {'e': ['—', 'º', 'R'], 'a': ['B', 'E', 'M'], 's': ['∫', 'À', 'W'], 't': ['P', 'I', '≈'], 'n': ['u', 'V', 'A'], 'r': ['y', '∑', 'X'], 'i': ['Z', 'H'], 'o': ['+', '£'], 'h': ['∞', 'µ', 'L']}), -272.10586406899995), (defaultdict(<class 'dict'>, {'e': ['—', 'º', 'R'], 'a': ['B', 'E', 'M'], 's': ['∫', 'À', 'W'], 't': ['P', 'I', '≈'], 'n': ['u', 'V', 'A'], 'r': ['y', '∑', 'X'], 'o': ['Z', '+', '£'], 'h': ['∞', 'µ'], 'i': ['H', 'L']}), -272.26357606899995), (defaultdict(<class 'dict'>, {'e': ['—', 'º', 'R'], 'a': ['B', 'E', 'Z'], 's': ['∫', 'À', 'W'], 't': ['P', 'I', '≈'], 'n': ['u', '+', 'A'], 'r': ['y', '∑', 'X'], 'i': ['V', 'µ', 'L'], 'h': ['∞'], 'd': ['H'], 'o': ['M', '£']}), -273.2000122999999), (defaultdict(<class 'dict'>, {'e': ['—', 'º', 'R'], 'a': ['B', 'E', 'M'], 's': ['∫', 'À', 'W'], 't': ['P', 'I', '≈'], 'n': ['u', 'V'], 'r': ['y', '∑', 'X'], 'i': ['Z', 'H', 'A'], 'o': ['+', '£'], 'h': ['∞', 'µ', 'L']}), -273.26291186899994), (defaultdict(<class 'dict'>, {'e': ['—', 'º', 'R'], 'a': ['B', 'E', 'M'], 's': ['∫', 'À', 'W'], 't': ['P', 'I', '≈'], 'n': ['u', 'V', 'A'], 'r': ['y', '∑', 'X'], 'i': ['Z', 'H'], 'o': ['+', '£'], 'h': ['∞', 'µ'], 'l': ['L']}), -273.3008037689999), (defaultdict(<class 'dict'>, {'e': ['—', 'º', 'R'], 'a': ['B', 'E', 'Z'], 's': ['∫', 'À', 'W'], 't': ['P', 'I', '≈'], 'n': ['u', '+', 'A'], 'r': ['y', '∑', 'X'], 'i': ['V', 'µ'], 'h': ['∞'], 'd': ['H'], 'o': ['M', '£'], 'c': ['L']}), -273.3016247), (defaultdict(<class 'dict'>, {'e': ['—', 'º', 'R'], 'a': ['B', 'E', 'M'], 's': ['∫', 'À', 'W'], 't': ['P', 'I', '≈'], 'n': ['u', 'V', 'A'], 'r': ['y', '∑', 'X'], 'i': ['Z', 'H'], 'o': ['+', '£', 'L'], 'h': ['∞', 'µ']}), -273.3486382689999)]\n",
      "Working on symbol:  æ\n",
      "[(defaultdict(<class 'dict'>, {'e': ['—', 'º', 'R'], 'a': ['B', 'E', 'M'], 's': ['∫', 'À', 'W'], 't': ['P', 'I', '≈'], 'n': ['u', 'V', 'A'], 'r': ['y', '∑', 'X'], 'i': ['Z', 'H'], 'o': ['+', '£'], 'h': ['∞', 'µ', 'L'], 'c': ['æ']}), -281.60727216899994), (defaultdict(<class 'dict'>, {'e': ['—', 'º', 'R'], 'a': ['B', 'E', 'M'], 's': ['∫', 'À', 'W'], 't': ['P', 'I', '≈'], 'n': ['u', 'V'], 'r': ['y', '∑', 'X'], 'i': ['Z', 'H', 'A'], 'o': ['+', '£'], 'h': ['∞', 'µ', 'L'], 'c': ['æ']}), -282.7643199689999), (defaultdict(<class 'dict'>, {'e': ['—', 'º', 'R'], 'a': ['B', 'E', 'M'], 's': ['∫', 'À', 'W'], 't': ['P', 'I', '≈'], 'n': ['u', 'V', 'A'], 'r': ['y', '∑', 'X'], 'i': ['Z', 'H'], 'o': ['+', '£'], 'h': ['∞', 'µ'], 'l': ['L'], 'c': ['æ']}), -282.8323723589999), (defaultdict(<class 'dict'>, {'e': ['—', 'º', 'R'], 'a': ['B', 'E', 'M'], 's': ['∫', 'À', 'W'], 't': ['P', 'I', '≈'], 'n': ['u', 'V', 'A'], 'r': ['y', '∑', 'X'], 'i': ['Z', 'H', 'L'], 'o': ['+', '£'], 'h': ['∞', 'µ'], 'c': ['æ']}), -284.025702569), (defaultdict(<class 'dict'>, {'e': ['—', 'º', 'R'], 'a': ['B', 'E', 'M'], 's': ['∫', 'À', 'W'], 't': ['P', 'I', '≈'], 'n': ['u', 'V', 'A'], 'r': ['y', '∑', 'X'], 'i': ['Z', 'H'], 'o': ['+', '£', 'L'], 'h': ['∞', 'µ'], 'c': ['æ']}), -284.41523956899994), (defaultdict(<class 'dict'>, {'e': ['—', 'º', 'R'], 'a': ['B', 'E', 'M'], 's': ['∫', 'À', 'W'], 't': ['P', 'I', '≈'], 'n': ['u', 'V', 'A'], 'r': ['y', '∑', 'X'], 'o': ['Z', '+', '£'], 'h': ['∞', 'µ'], 'i': ['H', 'L'], 'c': ['æ']}), -284.777757969), (defaultdict(<class 'dict'>, {'e': ['—', 'º', 'R'], 'a': ['B', 'E', 'M'], 's': ['∫', 'À', 'W'], 't': ['P', 'I', '≈'], 'n': ['u', 'V', 'A'], 'r': ['y', '∑', 'X'], 'i': ['Z', 'H', 'L'], 'o': ['+', '£'], 'h': ['∞', 'µ'], 'p': ['æ']}), -284.77874896899993), (defaultdict(<class 'dict'>, {'e': ['—', 'º', 'R'], 'a': ['B', 'E', 'M'], 's': ['∫', 'À', 'W'], 't': ['P', 'I', '≈'], 'n': ['u', 'V', 'A'], 'r': ['y', '∑', 'X'], 'i': ['Z', 'H', 'L'], 'o': ['+', '£'], 'h': ['∞', 'µ'], 'd': ['æ']}), -285.44232076899993)]\n",
      "Working on symbol:  ∏\n",
      "[(defaultdict(<class 'dict'>, {'e': ['—', 'º', 'R'], 'a': ['B', 'E', 'M'], 's': ['∫', 'À', 'W'], 't': ['P', 'I', '≈'], 'n': ['u', 'V', '∏'], 'r': ['y', '∑', 'X'], 'i': ['Z', 'H', 'A'], 'o': ['+', '£'], 'h': ['∞', 'µ', 'L'], 'c': ['æ']}), -290.832246569), (defaultdict(<class 'dict'>, {'e': ['—', 'º', 'R'], 'a': ['B', 'E', 'M'], 's': ['∫', 'À', 'W'], 't': ['P', 'I', '≈'], 'n': ['u', 'V', 'A'], 'r': ['y', '∑', 'X'], 'i': ['Z', 'H'], 'o': ['+', '£'], 'h': ['∞', 'µ', 'L'], 'c': ['æ'], 'd': ['∏']}), -292.994539069), (defaultdict(<class 'dict'>, {'e': ['—', 'º', 'R'], 'a': ['B', 'E', 'M'], 's': ['∫', 'À', 'W'], 't': ['P', 'I', '≈'], 'n': ['u', 'V', 'A'], 'r': ['y', '∑', 'X'], 'i': ['Z', 'H'], 'o': ['+', '£'], 'h': ['∞', 'µ', 'L'], 'c': ['æ'], 'm': ['∏']}), -293.432611069), (defaultdict(<class 'dict'>, {'e': ['—', 'º', 'R'], 'a': ['B', 'E', 'M'], 's': ['∫', 'À', 'W'], 't': ['P', 'I', '≈'], 'n': ['u', 'V', 'A'], 'r': ['y', '∑', 'X'], 'i': ['Z', 'H'], 'o': ['+', '£'], 'h': ['∞', 'µ', 'L'], 'c': ['æ'], 'l': ['∏']}), -294.040313069), (defaultdict(<class 'dict'>, {'e': ['—', 'º', 'R'], 'a': ['B', 'E', 'M'], 's': ['∫', 'À', 'W'], 't': ['P', 'I', '≈'], 'n': ['u', 'V', 'A'], 'r': ['y', '∑', 'X'], 'i': ['Z', 'H'], 'o': ['+', '£'], 'h': ['∞', 'µ', 'L'], 'c': ['æ', '∏']}), -294.05648616900004), (defaultdict(<class 'dict'>, {'e': ['—', 'º', 'R'], 'a': ['B', 'E', 'M'], 's': ['∫', 'À', 'W'], 't': ['P', 'I', '≈'], 'n': ['u', 'V'], 'r': ['y', '∑', 'X'], 'i': ['Z', 'H', 'A'], 'o': ['+', '£'], 'h': ['∞', 'µ', 'L'], 'c': ['æ'], 'd': ['∏']}), -294.15158686899997), (defaultdict(<class 'dict'>, {'e': ['—', 'º', 'R'], 'a': ['B', 'E', 'M'], 's': ['∫', 'À', 'W'], 't': ['P', 'I', '≈'], 'n': ['u', 'V', 'A'], 'r': ['y', '∑', 'X'], 'i': ['Z', 'H'], 'o': ['+', '£'], 'h': ['∞', 'µ'], 'l': ['L'], 'c': ['æ'], 'd': ['∏']}), -294.219639259), (defaultdict(<class 'dict'>, {'e': ['—', 'º', 'R'], 'a': ['B', 'E', 'M'], 's': ['∫', 'À', 'W'], 't': ['P', 'I', '≈'], 'n': ['u', 'V'], 'r': ['y', '∑', 'X'], 'i': ['Z', 'H', 'A'], 'o': ['+', '£'], 'h': ['∞', 'µ', 'L'], 'c': ['æ'], 'm': ['∏']}), -294.58965886900006)]\n",
      "Working on symbol:  O\n"
     ]
    },
    {
     "name": "stdout",
     "output_type": "stream",
     "text": [
      "[(defaultdict(<class 'dict'>, {'e': ['—', 'º', 'R'], 'a': ['B', 'E', 'M'], 's': ['∫', 'À', 'W'], 't': ['P', 'I', '≈'], 'n': ['u', 'V', '∏'], 'r': ['y', '∑', 'X'], 'i': ['Z', 'H', 'A'], 'o': ['+', '£', 'O'], 'h': ['∞', 'µ', 'L'], 'c': ['æ']}), -303.5897554689999), (defaultdict(<class 'dict'>, {'e': ['—', 'º', 'R'], 'a': ['B', 'E', 'M'], 's': ['∫', 'À', 'W'], 't': ['P', 'I', '≈'], 'n': ['u', 'V', 'A'], 'r': ['y', '∑', 'X'], 'i': ['Z', 'H'], 'o': ['+', '£'], 'h': ['∞', 'µ', 'O'], 'l': ['L'], 'c': ['æ'], 'd': ['∏']}), -305.27479934899986), (defaultdict(<class 'dict'>, {'e': ['—', 'º', 'R'], 'a': ['B', 'E', 'M'], 's': ['∫', 'À', 'W'], 't': ['P', 'I', '≈'], 'n': ['u', 'V', 'A'], 'r': ['y', '∑', 'X'], 'i': ['Z', 'H'], 'o': ['+', '£', 'O'], 'h': ['∞', 'µ', 'L'], 'c': ['æ'], 'd': ['∏']}), -306.60501866899995), (defaultdict(<class 'dict'>, {'e': ['—', 'º', 'R'], 'a': ['B', 'E', 'M'], 's': ['∫', 'À', 'W'], 't': ['P', 'I', '≈'], 'n': ['u', 'V'], 'r': ['y', '∑', 'X'], 'i': ['Z', 'H', 'A'], 'o': ['+', '£', 'O'], 'h': ['∞', 'µ', 'L'], 'c': ['æ'], 'd': ['∏']}), -306.90909576899986), (defaultdict(<class 'dict'>, {'e': ['—', 'º', 'R'], 'a': ['B', 'E', 'M'], 's': ['∫', 'À', 'W'], 't': ['P', 'I', '≈'], 'n': ['u', 'V', 'A'], 'r': ['y', '∑', 'X'], 'i': ['Z', 'H', 'O'], 'o': ['+', '£'], 'h': ['∞', 'µ', 'L'], 'c': ['æ'], 'd': ['∏']}), -306.91874366899987), (defaultdict(<class 'dict'>, {'e': ['—', 'º', 'R'], 'a': ['B', 'E', 'M'], 's': ['∫', 'À', 'W'], 't': ['P', 'I', '≈'], 'n': ['u', 'V', 'A'], 'r': ['y', '∑', 'X'], 'i': ['Z', 'H'], 'o': ['+', '£', 'O'], 'h': ['∞', 'µ', 'L'], 'c': ['æ'], 'm': ['∏']}), -307.0430906689999), (defaultdict(<class 'dict'>, {'e': ['—', 'º', 'R'], 'a': ['B', 'E', 'M'], 's': ['∫', 'À', 'W'], 't': ['P', 'I', '≈'], 'n': ['u', 'V'], 'r': ['y', '∑', 'X'], 'i': ['Z', 'H', 'A'], 'o': ['+', '£', 'O'], 'h': ['∞', 'µ', 'L'], 'c': ['æ'], 'm': ['∏']}), -307.3471677689999), (defaultdict(<class 'dict'>, {'e': ['—', 'º', 'R'], 'a': ['B', 'E', 'M'], 's': ['∫', 'À', 'W'], 't': ['P', 'I', '≈'], 'n': ['u', 'V', 'A'], 'r': ['y', '∑', 'X'], 'i': ['Z', 'H', 'O'], 'o': ['+', '£'], 'h': ['∞', 'µ', 'L'], 'c': ['æ'], 'm': ['∏']}), -307.3568156689999)]\n",
      "Working on symbol:  •\n",
      "[(defaultdict(<class 'dict'>, {'e': ['—', 'º', 'R'], 'a': ['B', 'E', 'M'], 's': ['∫', 'À', 'W'], 't': ['P', 'I', '≈'], 'n': ['u', 'V', '∏'], 'r': ['y', '∑', 'X'], 'i': ['Z', 'H', 'A'], 'o': ['+', '£', 'O'], 'h': ['∞', 'µ', 'L'], 'c': ['æ', '•']}), -315.41069148900004), (defaultdict(<class 'dict'>, {'e': ['—', 'º', 'R'], 'a': ['B', 'E', 'M'], 's': ['∫', 'À', 'W'], 't': ['P', 'I', '≈'], 'n': ['u', 'V', 'A'], 'r': ['y', '∑', 'X'], 'i': ['Z', 'H'], 'o': ['+', '£'], 'h': ['∞', 'µ', 'O'], 'l': ['L'], 'c': ['æ', '•'], 'd': ['∏']}), -316.1174111489999), (defaultdict(<class 'dict'>, {'e': ['—', 'º', 'R'], 'a': ['B', 'E', 'M'], 's': ['∫', 'À', 'W'], 't': ['P', 'I', '≈'], 'n': ['u', 'V', '∏'], 'r': ['y', '∑', 'X'], 'i': ['Z', 'H', 'A'], 'o': ['+', '£', 'O'], 'h': ['∞', 'µ', 'L'], 'c': ['æ'], 'f': ['•']}), -316.7897773489999), (defaultdict(<class 'dict'>, {'e': ['—', 'º', 'R'], 'a': ['B', 'E', 'M'], 's': ['∫', 'À', 'W'], 't': ['P', 'I', '≈'], 'n': ['u', 'V', 'A'], 'r': ['y', '∑', 'X'], 'i': ['Z', 'H', '•'], 'o': ['+', '£'], 'h': ['∞', 'µ', 'O'], 'l': ['L'], 'c': ['æ'], 'd': ['∏']}), -317.06291174899997), (defaultdict(<class 'dict'>, {'e': ['—', 'º', 'R'], 'a': ['B', 'E', 'M'], 's': ['∫', 'À', 'W'], 't': ['P', 'I', '≈'], 'n': ['u', 'V', '∏'], 'r': ['y', '∑', 'X'], 'i': ['Z', 'H', 'A'], 'o': ['+', '£', 'O'], 'h': ['∞', 'µ', 'L'], 'c': ['æ'], 'd': ['•']}), -317.54522964899996), (defaultdict(<class 'dict'>, {'e': ['—', 'º', 'R'], 'a': ['B', 'E', 'M'], 's': ['∫', 'À', 'W'], 't': ['P', 'I', '≈'], 'n': ['u', 'V', '∏'], 'r': ['y', '∑', 'X'], 'i': ['Z', 'H', 'A'], 'o': ['+', '£', 'O'], 'h': ['∞', 'µ', 'L'], 'c': ['æ'], 'l': ['•']}), -317.663613469), (defaultdict(<class 'dict'>, {'e': ['—', 'º', 'R'], 'a': ['B', 'E', 'M'], 's': ['∫', 'À', 'W'], 't': ['P', 'I', '≈'], 'n': ['u', 'V', 'A'], 'r': ['y', '∑', 'X'], 'i': ['Z', 'H', 'O'], 'o': ['+', '£'], 'h': ['∞', 'µ', 'L'], 'c': ['æ', '•'], 'd': ['∏']}), -317.93358846899986), (defaultdict(<class 'dict'>, {'e': ['—', 'º', 'R'], 'a': ['B', 'E', 'M'], 's': ['∫', 'À', 'W'], 't': ['P', 'I', '≈'], 'n': ['u', 'V', '∏'], 'r': ['y', '∑', 'X'], 'i': ['Z', 'H', 'A'], 'o': ['+', '£', 'O'], 'h': ['∞', 'µ', 'L'], 'c': ['æ'], 'm': ['•']}), -318.08431196899994)]\n",
      "Working on symbol:  G\n",
      "[(defaultdict(<class 'dict'>, {'e': ['—', 'º', 'R'], 'a': ['B', 'E', 'M'], 's': ['∫', 'À', 'W'], 't': ['P', 'I', '≈'], 'n': ['u', 'V', '∏'], 'r': ['y', '∑', 'X'], 'i': ['Z', 'H', 'A'], 'o': ['+', '£', 'O'], 'h': ['∞', 'µ', 'L'], 'c': ['æ', '•'], 'p': ['G']}), -327.7380803890001), (defaultdict(<class 'dict'>, {'e': ['—', 'º', 'R'], 'a': ['B', 'E', 'M'], 's': ['∫', 'À', 'W'], 't': ['P', 'I', '≈'], 'n': ['u', 'V', '∏'], 'r': ['y', '∑', 'X'], 'i': ['Z', 'H', 'A'], 'o': ['+', '£', 'O'], 'h': ['∞', 'µ', 'L'], 'c': ['æ', '•'], 'd': ['G']}), -328.3519773890001), (defaultdict(<class 'dict'>, {'e': ['—', 'º', 'R'], 'a': ['B', 'E', 'M'], 's': ['∫', 'À', 'W'], 't': ['P', 'I', '≈'], 'n': ['u', 'V', 'A'], 'r': ['y', '∑', 'X'], 'i': ['Z', 'H', 'O'], 'o': ['+', '£'], 'h': ['∞', 'µ', 'L'], 'c': ['æ', '•'], 'd': ['∏'], 'p': ['G']}), -328.7317427689998), (defaultdict(<class 'dict'>, {'e': ['—', 'º', 'R'], 'a': ['B', 'E', 'M'], 's': ['∫', 'À', 'W'], 't': ['P', 'I', '≈'], 'n': ['u', 'V', '∏'], 'r': ['y', '∑', 'X'], 'i': ['Z', 'H', 'A'], 'o': ['+', '£', 'O'], 'h': ['∞', 'µ', 'L'], 'c': ['æ', '•', 'G']}), -329.1865067890001), (defaultdict(<class 'dict'>, {'e': ['—', 'º', 'R'], 'a': ['B', 'E', 'M'], 's': ['∫', 'À', 'W'], 't': ['P', 'I', '≈'], 'n': ['u', 'V', 'A'], 'r': ['y', '∑', 'X'], 'i': ['Z', 'H'], 'o': ['+', '£'], 'h': ['∞', 'µ', 'O'], 'l': ['L'], 'c': ['æ', '•'], 'd': ['∏', 'G']}), -329.27176334899985), (defaultdict(<class 'dict'>, {'e': ['—', 'º', 'R'], 'a': ['B', 'E', 'M'], 's': ['∫', 'À', 'W'], 't': ['P', 'I', '≈'], 'n': ['u', 'V', '∏'], 'r': ['y', '∑', 'X'], 'i': ['Z', 'H', 'A'], 'o': ['+', '£', 'O'], 'h': ['∞', 'µ', 'L'], 'c': ['æ'], 'm': ['•'], 'p': ['G']}), -329.38969836900014), (defaultdict(<class 'dict'>, {'e': ['—', 'º', 'R'], 'a': ['B', 'E', 'M'], 's': ['∫', 'À', 'W'], 't': ['P', 'I', '≈'], 'n': ['u', 'V', 'A'], 'r': ['y', '∑', 'X'], 'i': ['Z', 'H'], 'o': ['+', '£'], 'h': ['∞', 'µ', 'O'], 'l': ['L'], 'c': ['æ', '•'], 'd': ['∏'], 'p': ['G']}), -329.39058004899994), (defaultdict(<class 'dict'>, {'e': ['—', 'º', 'R'], 'a': ['B', 'E', 'M'], 's': ['∫', 'À', 'W'], 't': ['P', 'I', '≈'], 'n': ['u', 'V', '∏'], 'r': ['y', '∑', 'X'], 'i': ['Z', 'H', 'A'], 'o': ['+', '£', 'O'], 'h': ['∞', 'µ', 'L'], 'c': ['æ'], 'l': ['•'], 'd': ['G']}), -329.64615136900005)]\n",
      "Working on symbol:  T\n",
      "[(defaultdict(<class 'dict'>, {'e': ['—', 'º', 'R'], 'a': ['B', 'E', 'M'], 's': ['∫', 'À', 'W'], 't': ['P', 'I', '≈'], 'n': ['u', 'V', '∏'], 'r': ['y', '∑', 'X'], 'i': ['Z', 'H', 'A'], 'o': ['+', '£', 'O'], 'h': ['∞', 'µ', 'L'], 'c': ['æ', '•', 'T'], 'p': ['G']}), -339.8306838190002), (defaultdict(<class 'dict'>, {'e': ['—', 'º', 'R'], 'a': ['B', 'E', 'M'], 's': ['∫', 'À', 'W'], 't': ['P', 'I', '≈'], 'n': ['u', 'V', '∏'], 'r': ['y', '∑', 'X'], 'i': ['Z', 'H', 'A'], 'o': ['+', '£', 'O'], 'h': ['∞', 'µ', 'L'], 'c': ['æ', '•'], 'd': ['G'], 'f': ['T']}), -339.870487689), (defaultdict(<class 'dict'>, {'e': ['—', 'º', 'R'], 'a': ['B', 'E', 'M'], 's': ['∫', 'À', 'W'], 't': ['P', 'I', '≈'], 'n': ['u', 'V', '∏'], 'r': ['y', '∑', 'X'], 'i': ['Z', 'H', 'A'], 'o': ['+', '£', 'O'], 'h': ['∞', 'µ', 'L'], 'c': ['æ', '•'], 'p': ['G'], 'f': ['T']}), -340.06532428900016), (defaultdict(<class 'dict'>, {'e': ['—', 'º', 'R'], 'a': ['B', 'E', 'M'], 's': ['∫', 'À', 'W'], 't': ['P', 'I', '≈'], 'n': ['u', 'V', '∏'], 'r': ['y', '∑', 'X'], 'i': ['Z', 'H', 'A'], 'o': ['+', '£', 'O'], 'h': ['∞', 'µ', 'L'], 'c': ['æ', '•', 'G'], 'f': ['T']}), -340.4538585890001), (defaultdict(<class 'dict'>, {'e': ['—', 'º', 'R'], 'a': ['B', 'E', 'M'], 's': ['∫', 'À', 'W'], 't': ['P', 'I', '≈'], 'n': ['u', 'V', 'A'], 'r': ['y', '∑', 'X'], 'i': ['Z', 'H'], 'o': ['+', '£', 'T'], 'h': ['∞', 'µ', 'O'], 'l': ['L'], 'c': ['æ', '•'], 'd': ['∏'], 'p': ['G']}), -340.66013914900003), (defaultdict(<class 'dict'>, {'e': ['—', 'º', 'R'], 'a': ['B', 'E', 'M'], 's': ['∫', 'À', 'W'], 't': ['P', 'I', '≈'], 'n': ['u', 'V', '∏'], 'r': ['y', '∑', 'X'], 'i': ['Z', 'H', 'A'], 'o': ['+', '£', 'O'], 'h': ['∞', 'µ', 'L'], 'c': ['æ'], 'l': ['•'], 'd': ['G'], 'f': ['T']}), -341.16466166900005), (defaultdict(<class 'dict'>, {'e': ['—', 'º', 'R'], 'a': ['B', 'E', 'M'], 's': ['∫', 'À', 'W'], 't': ['P', 'I', '≈'], 'n': ['u', 'V', '∏'], 'r': ['y', '∑', 'X'], 'i': ['Z', 'H', 'A'], 'o': ['+', '£', 'O'], 'h': ['∞', 'µ', 'L'], 'c': ['æ', '•'], 'p': ['G'], 'd': ['T']}), -341.2270153890002), (defaultdict(<class 'dict'>, {'e': ['—', 'º', 'R'], 'a': ['B', 'E', 'M'], 's': ['∫', 'À', 'W'], 't': ['P', 'I', '≈'], 'n': ['u', 'V', 'A'], 'r': ['y', '∑', 'X'], 'i': ['Z', 'H'], 'o': ['+', '£', 'T'], 'h': ['∞', 'µ', 'O'], 'l': ['L'], 'c': ['æ', '•'], 'd': ['∏', 'G']}), -341.23780504899986)]\n",
      "Working on symbol:  ‘\n"
     ]
    },
    {
     "name": "stdout",
     "output_type": "stream",
     "text": [
      "[(defaultdict(<class 'dict'>, {'e': ['—', 'º', 'R'], 'a': ['B', 'E', 'M'], 's': ['∫', 'À', 'W'], 't': ['P', 'I', '≈'], 'n': ['u', 'V', 'A'], 'r': ['y', '∑', 'X'], 'i': ['Z', 'H'], 'o': ['+', '£', 'T'], 'h': ['∞', 'µ', 'O'], 'l': ['L'], 'c': ['æ', '•'], 'd': ['∏'], 'p': ['G', '‘']}), -357.27392088900007), (defaultdict(<class 'dict'>, {'e': ['—', 'º', 'R'], 'a': ['B', 'E', 'M'], 's': ['∫', 'À', 'W'], 't': ['P', 'I', '≈'], 'n': ['u', 'V', 'A'], 'r': ['y', '∑', 'X'], 'i': ['Z', 'H'], 'o': ['+', '£', 'T'], 'h': ['∞', 'µ', 'O'], 'l': ['L'], 'c': ['æ', '•'], 'd': ['∏', 'G'], 'p': ['‘']}), -357.851586789), (defaultdict(<class 'dict'>, {'e': ['—', 'º', 'R'], 'a': ['B', 'E', 'M'], 's': ['∫', 'À', 'W'], 't': ['P', 'I', '≈'], 'n': ['u', 'V', '∏'], 'r': ['y', '∑', 'X'], 'i': ['Z', 'H', 'A'], 'o': ['+', '£', 'O'], 'h': ['∞', 'µ', 'L'], 'c': ['æ', '•'], 'p': ['G'], 'd': ['T', '‘']}), -358.18920158900016), (defaultdict(<class 'dict'>, {'e': ['—', 'º', 'R'], 'a': ['B', 'E', 'M'], 's': ['∫', 'À', 'W'], 't': ['P', 'I', '≈'], 'n': ['u', 'V', '∏'], 'r': ['y', '∑', 'X'], 'i': ['Z', 'H', 'A'], 'o': ['+', '£', 'O'], 'h': ['∞', 'µ', 'L'], 'c': ['æ', '•'], 'p': ['G', '‘'], 'd': ['T']}), -358.87712433900015), (defaultdict(<class 'dict'>, {'e': ['—', 'º', 'R'], 'a': ['B', 'E', 'M'], 's': ['∫', 'À', 'W'], 't': ['P', 'I', '≈'], 'n': ['u', 'V', '∏'], 'r': ['y', '∑', 'X'], 'i': ['Z', 'H', 'A'], 'o': ['+', '£', 'O'], 'h': ['∞', 'µ', 'L'], 'c': ['æ', '•'], 'p': ['G'], 'd': ['T'], 'u': ['‘']}), -359.3284343490001), (defaultdict(<class 'dict'>, {'e': ['—', 'º', 'R'], 'a': ['B', 'E', 'M'], 's': ['∫', 'À', 'W'], 't': ['P', 'I', '≈'], 'n': ['u', 'V', '∏'], 'r': ['y', '∑', 'X'], 'i': ['Z', 'H', 'A'], 'o': ['+', '£', 'O'], 'h': ['∞', 'µ', 'L'], 'c': ['æ', '•'], 'd': ['G'], 'f': ['T'], 'u': ['‘']}), -359.5027202489998), (defaultdict(<class 'dict'>, {'e': ['—', 'º', 'R'], 'a': ['B', 'E', 'M'], 's': ['∫', 'À', 'W'], 't': ['P', 'I', '≈'], 'n': ['u', 'V', '∏'], 'r': ['y', '∑', 'X'], 'i': ['Z', 'H', 'A'], 'o': ['+', '£', 'O'], 'h': ['∞', 'µ', 'L'], 'c': ['æ', '•', 'T'], 'p': ['G'], 'd': ['‘']}), -359.51148841900016), (defaultdict(<class 'dict'>, {'e': ['—', 'º', 'R'], 'a': ['B', 'E', 'M'], 's': ['∫', 'À', 'W'], 't': ['P', 'I', '≈'], 'n': ['u', 'V', 'A'], 'r': ['y', '∑', 'X'], 'i': ['Z', 'H'], 'o': ['+', '£', 'T'], 'h': ['∞', 'µ', 'O'], 'l': ['L'], 'c': ['æ', '•'], 'd': ['∏', '‘'], 'p': ['G']}), -359.60007937900014)]\n",
      "Working on symbol:  “\n",
      "[(defaultdict(<class 'dict'>, {'e': ['—', 'º', 'R'], 'a': ['B', 'E', 'M'], 's': ['∫', 'À', 'W'], 't': ['P', 'I', '≈'], 'n': ['u', 'V', 'A'], 'r': ['y', '∑', 'X'], 'i': ['Z', 'H', '“'], 'o': ['+', '£', 'T'], 'h': ['∞', 'µ', 'O'], 'l': ['L'], 'c': ['æ', '•'], 'd': ['∏'], 'p': ['G', '‘']}), -368.42223270900007), (defaultdict(<class 'dict'>, {'e': ['—', 'º', 'R'], 'a': ['B', 'E', 'M'], 's': ['∫', 'À', 'W'], 't': ['P', 'I', '≈'], 'n': ['u', 'V', 'A'], 'r': ['y', '∑', 'X'], 'i': ['Z', 'H'], 'o': ['+', '£', 'T'], 'h': ['∞', 'µ', 'O'], 'l': ['L'], 'c': ['æ', '•'], 'd': ['∏', '“'], 'p': ['G', '‘']}), -368.76221618899996), (defaultdict(<class 'dict'>, {'e': ['—', 'º', 'R'], 'a': ['B', 'E', 'M'], 's': ['∫', 'À', 'W'], 't': ['P', 'I', '≈'], 'n': ['u', 'V', 'A'], 'r': ['y', '∑', 'X'], 'i': ['Z', 'H'], 'o': ['+', '£', 'T'], 'h': ['∞', 'µ', 'O'], 'l': ['L'], 'c': ['æ', '•'], 'd': ['∏'], 'p': ['G', '‘'], 'g': ['“']}), -368.9128076890001), (defaultdict(<class 'dict'>, {'e': ['—', 'º', 'R'], 'a': ['B', 'E', 'M'], 's': ['∫', 'À', 'W'], 't': ['P', 'I', '≈'], 'n': ['u', 'V', 'A'], 'r': ['y', '∑', 'X'], 'i': ['Z', 'H', '“'], 'o': ['+', '£', 'T'], 'h': ['∞', 'µ', 'O'], 'l': ['L'], 'c': ['æ', '•'], 'd': ['∏', 'G'], 'p': ['‘']}), -368.9998986089999), (defaultdict(<class 'dict'>, {'e': ['—', 'º', 'R'], 'a': ['B', 'E', 'M'], 's': ['∫', 'À', 'W'], 't': ['P', 'I', '≈'], 'n': ['u', 'V', 'A'], 'r': ['y', '∑', 'X'], 'i': ['Z', 'H'], 'o': ['+', '£', 'T'], 'h': ['∞', 'µ', 'O'], 'l': ['L'], 'c': ['æ', '•'], 'd': ['∏'], 'p': ['G', '‘'], 'm': ['“']}), -369.2108151890001), (defaultdict(<class 'dict'>, {'e': ['—', 'º', 'R'], 'a': ['B', 'E', 'M'], 's': ['∫', 'À', 'W'], 't': ['P', 'I', '≈'], 'n': ['u', 'V', 'A'], 'r': ['y', '∑', 'X'], 'i': ['Z', 'H'], 'o': ['+', '£', 'T'], 'h': ['∞', 'µ', 'O'], 'l': ['L'], 'c': ['æ', '•'], 'd': ['∏', 'G', '“'], 'p': ['‘']}), -369.3398820889999), (defaultdict(<class 'dict'>, {'e': ['—', 'º', 'R'], 'a': ['B', 'E', 'M'], 's': ['∫', 'À', 'W'], 't': ['P', 'I', '≈'], 'n': ['u', 'V', 'A'], 'r': ['y', '∑', 'X'], 'i': ['Z', 'H'], 'o': ['+', '£', 'T'], 'h': ['∞', 'µ', 'O'], 'l': ['L'], 'c': ['æ', '•'], 'd': ['∏', 'G'], 'p': ['‘'], 'g': ['“']}), -369.490473589), (defaultdict(<class 'dict'>, {'e': ['—', 'º', 'R'], 'a': ['B', 'E', 'M'], 's': ['∫', 'À', 'W'], 't': ['P', 'I', '≈'], 'n': ['u', 'V', 'A'], 'r': ['y', '∑', 'X'], 'i': ['Z', 'H'], 'o': ['+', '£', 'T'], 'h': ['∞', 'µ', 'O'], 'l': ['L'], 'c': ['æ', '•'], 'd': ['∏', 'G'], 'p': ['‘'], 'm': ['“']}), -369.78848108899996)]\n",
      "Working on symbol:  /\n",
      "[(defaultdict(<class 'dict'>, {'e': ['—', 'º', 'R'], 'a': ['B', 'E', 'M'], 's': ['∫', 'À', 'W'], 't': ['P', 'I', '≈'], 'n': ['u', 'V', 'A'], 'r': ['y', '∑', 'X'], 'i': ['Z', 'H', '“'], 'o': ['+', '£', 'T'], 'h': ['∞', 'µ', 'O'], 'l': ['L'], 'c': ['æ', '•'], 'd': ['∏'], 'p': ['G', '‘'], 'g': ['/']}), -381.215087789), (defaultdict(<class 'dict'>, {'e': ['—', 'º', 'R'], 'a': ['B', 'E', 'M'], 's': ['∫', 'À', 'W'], 't': ['P', 'I', '≈'], 'n': ['u', 'V', 'A'], 'r': ['y', '∑', 'X'], 'i': ['Z', 'H'], 'o': ['+', '£', 'T'], 'h': ['∞', 'µ', 'O'], 'l': ['L'], 'c': ['æ', '•'], 'd': ['∏', '“'], 'p': ['G', '‘'], 'g': ['/']}), -381.5550712689999), (defaultdict(<class 'dict'>, {'e': ['—', 'º', 'R'], 'a': ['B', 'E', 'M'], 's': ['∫', 'À', 'W'], 't': ['P', 'I', '≈'], 'n': ['u', 'V', 'A'], 'r': ['y', '∑', 'X'], 'i': ['Z', 'H', '“'], 'o': ['+', '£', 'T'], 'h': ['∞', 'µ', 'O'], 'l': ['L'], 'c': ['æ', '•'], 'd': ['∏'], 'p': ['G', '‘'], 'm': ['/']}), -381.60967955899997), (defaultdict(<class 'dict'>, {'e': ['—', 'º', 'R'], 'a': ['B', 'E', 'M'], 's': ['∫', 'À', 'W'], 't': ['P', 'I', '≈'], 'n': ['u', 'V', 'A'], 'r': ['y', '∑', 'X'], 'i': ['Z', 'H'], 'o': ['+', '£', 'T'], 'h': ['∞', 'µ', 'O'], 'l': ['L'], 'c': ['æ', '•'], 'd': ['∏'], 'p': ['G', '‘'], 'g': ['“', '/']}), -381.705662769), (defaultdict(<class 'dict'>, {'e': ['—', 'º', 'R'], 'a': ['B', 'E', 'M'], 's': ['∫', 'À', 'W'], 't': ['P', 'I', '≈'], 'n': ['u', 'V', 'A'], 'r': ['y', '∑', 'X'], 'i': ['Z', 'H', '“'], 'o': ['+', '£', 'T'], 'h': ['∞', 'µ', 'O'], 'l': ['L'], 'c': ['æ', '•'], 'd': ['∏', 'G'], 'p': ['‘'], 'g': ['/']}), -381.7927536889998), (defaultdict(<class 'dict'>, {'e': ['—', 'º', 'R'], 'a': ['B', 'E', 'M'], 's': ['∫', 'À', 'W'], 't': ['P', 'I', '≈'], 'n': ['u', 'V', 'A'], 'r': ['y', '∑', 'X'], 'i': ['Z', 'H'], 'o': ['+', '£', 'T'], 'h': ['∞', 'µ', 'O'], 'l': ['L'], 'c': ['æ', '•'], 'd': ['∏', '“'], 'p': ['G', '‘'], 'm': ['/']}), -381.94966303899986), (defaultdict(<class 'dict'>, {'e': ['—', 'º', 'R'], 'a': ['B', 'E', 'M'], 's': ['∫', 'À', 'W'], 't': ['P', 'I', '≈'], 'n': ['u', 'V', 'A'], 'r': ['y', '∑', 'X'], 'i': ['Z', 'H'], 'o': ['+', '£', 'T'], 'h': ['∞', 'µ', 'O'], 'l': ['L'], 'c': ['æ', '•'], 'd': ['∏'], 'p': ['G', '‘'], 'm': ['“'], 'g': ['/']}), -382.003670269), (defaultdict(<class 'dict'>, {'e': ['—', 'º', 'R'], 'a': ['B', 'E', 'M'], 's': ['∫', 'À', 'W'], 't': ['P', 'I', '≈'], 'n': ['u', 'V', 'A'], 'r': ['y', '∑', 'X'], 'i': ['Z', 'H'], 'o': ['+', '£', 'T'], 'h': ['∞', 'µ', 'O'], 'l': ['L'], 'c': ['æ', '•'], 'd': ['∏'], 'p': ['G', '‘'], 'g': ['“'], 'm': ['/']}), -382.100254539)]\n",
      "Working on symbol:  –\n",
      "[(defaultdict(<class 'dict'>, {'e': ['—', 'º', 'R'], 'a': ['B', 'E', 'M'], 's': ['∫', 'À', 'W'], 't': ['P', 'I', '≈'], 'n': ['u', 'V', 'A'], 'r': ['y', '∑', 'X'], 'i': ['Z', 'H', '–'], 'o': ['+', '£', 'T'], 'h': ['∞', 'µ', 'O'], 'l': ['L'], 'c': ['æ', '•'], 'd': ['∏', '“'], 'p': ['G', '‘'], 'g': ['/']}), -393.328239334), (defaultdict(<class 'dict'>, {'e': ['—', 'º', 'R'], 'a': ['B', 'E', 'M'], 's': ['∫', 'À', 'W'], 't': ['P', 'I', '≈'], 'n': ['u', 'V', 'A'], 'r': ['y', '∑', 'X'], 'i': ['Z', 'H', '–'], 'o': ['+', '£', 'T'], 'h': ['∞', 'µ', 'O'], 'l': ['L'], 'c': ['æ', '•'], 'd': ['∏'], 'p': ['G', '‘'], 'g': ['“', '/']}), -393.47883083400006), (defaultdict(<class 'dict'>, {'e': ['—', 'º', 'R'], 'a': ['B', 'E', 'M'], 's': ['∫', 'À', 'W'], 't': ['P', 'I', '≈'], 'n': ['u', 'V', 'A'], 'r': ['y', '∑', 'X'], 'i': ['Z', 'H', '–'], 'o': ['+', '£', 'T'], 'h': ['∞', 'µ', 'O'], 'l': ['L'], 'c': ['æ', '•'], 'd': ['∏', '“'], 'p': ['G', '‘'], 'm': ['/']}), -393.722831104), (defaultdict(<class 'dict'>, {'e': ['—', 'º', 'R'], 'a': ['B', 'E', 'M'], 's': ['∫', 'À', 'W'], 't': ['P', 'I', '≈'], 'n': ['u', 'V', 'A'], 'r': ['y', '∑', 'X'], 'i': ['Z', 'H', '–'], 'o': ['+', '£', 'T'], 'h': ['∞', 'µ', 'O'], 'l': ['L'], 'c': ['æ', '•'], 'd': ['∏'], 'p': ['G', '‘'], 'm': ['“'], 'g': ['/']}), -393.7768383340001), (defaultdict(<class 'dict'>, {'e': ['—', 'º', 'R'], 'a': ['B', 'E', 'M'], 's': ['∫', 'À', 'W'], 't': ['P', 'I', '≈'], 'n': ['u', 'V', 'A'], 'r': ['y', '∑', 'X'], 'i': ['Z', 'H', '–'], 'o': ['+', '£', 'T'], 'h': ['∞', 'µ', 'O'], 'l': ['L'], 'c': ['æ', '•'], 'd': ['∏'], 'p': ['G', '‘'], 'g': ['“'], 'm': ['/']}), -393.87342260400004), (defaultdict(<class 'dict'>, {'e': ['—', 'º', 'R'], 'a': ['B', 'E', 'M'], 's': ['∫', 'À', 'W'], 't': ['P', 'I', '≈'], 'n': ['u', 'V', 'A'], 'r': ['y', '∑', 'X'], 'i': ['Z', 'H', '“'], 'o': ['+', '£', 'T'], 'h': ['∞', 'µ', 'O'], 'l': ['L'], 'c': ['æ', '•'], 'd': ['∏', '–'], 'p': ['G', '‘'], 'g': ['/']}), -394.58736368900003), (defaultdict(<class 'dict'>, {'e': ['—', 'º', 'R'], 'a': ['B', 'E', 'M'], 's': ['∫', 'À', 'W'], 't': ['P', 'I', '≈'], 'n': ['u', 'V', 'A'], 'r': ['y', '∑', 'X'], 'i': ['Z', 'H'], 'o': ['+', '£', 'T'], 'h': ['∞', 'µ', 'O'], 'l': ['L'], 'c': ['æ', '•'], 'd': ['∏', '“', '–'], 'p': ['G', '‘'], 'g': ['/']}), -394.927347169), (defaultdict(<class 'dict'>, {'e': ['—', 'º', 'R'], 'a': ['B', 'E', 'M'], 's': ['∫', 'À', 'W'], 't': ['P', 'I', '≈'], 'n': ['u', 'V', 'A'], 'r': ['y', '∑', 'X'], 'i': ['Z', 'H', '“'], 'o': ['+', '£', 'T'], 'h': ['∞', 'µ', 'O'], 'l': ['L'], 'c': ['æ', '•'], 'd': ['∏', '–'], 'p': ['G', '‘'], 'm': ['/']}), -394.981955459)]\n",
      "Working on symbol:  F\n"
     ]
    },
    {
     "name": "stdout",
     "output_type": "stream",
     "text": [
      "[(defaultdict(<class 'dict'>, {'e': ['—', 'º', 'R'], 'a': ['B', 'E', 'M'], 's': ['∫', 'À', 'W'], 't': ['P', 'I', '≈'], 'n': ['u', 'V', 'A'], 'r': ['y', '∑', 'X'], 'i': ['Z', 'H', '–'], 'o': ['+', '£', 'T'], 'h': ['∞', 'µ', 'O'], 'l': ['L'], 'c': ['æ', '•'], 'd': ['∏', '“'], 'p': ['G', '‘'], 'g': ['/', 'F']}), -409.2932243839998), (defaultdict(<class 'dict'>, {'e': ['—', 'º', 'R'], 'a': ['B', 'E', 'M'], 's': ['∫', 'À', 'W'], 't': ['P', 'I', '≈'], 'n': ['u', 'V', 'A'], 'r': ['y', '∑', 'X'], 'i': ['Z', 'H', '–'], 'o': ['+', '£', 'T'], 'h': ['∞', 'µ', 'O'], 'l': ['L'], 'c': ['æ', '•'], 'd': ['∏'], 'p': ['G', '‘'], 'g': ['“', '/', 'F']}), -409.44381588399995), (defaultdict(<class 'dict'>, {'e': ['—', 'º', 'R'], 'a': ['B', 'E', 'M'], 's': ['∫', 'À', 'W'], 't': ['P', 'I', '≈'], 'n': ['u', 'V', 'A'], 'r': ['y', '∑', 'X'], 'i': ['Z', 'H', '–'], 'o': ['+', '£', 'T'], 'h': ['∞', 'µ', 'O'], 'l': ['L'], 'c': ['æ', '•'], 'd': ['∏', '“', 'F'], 'p': ['G', '‘'], 'g': ['/']}), -409.62082454399996), (defaultdict(<class 'dict'>, {'e': ['—', 'º', 'R'], 'a': ['B', 'E', 'M'], 's': ['∫', 'À', 'W'], 't': ['P', 'I', '≈'], 'n': ['u', 'V', 'A'], 'r': ['y', '∑', 'X'], 'i': ['Z', 'H', '–'], 'o': ['+', '£', 'T'], 'h': ['∞', 'µ', 'O'], 'l': ['L'], 'c': ['æ', '•'], 'd': ['∏', '“'], 'p': ['G', '‘'], 'm': ['/'], 'g': ['F']}), -409.6878161539999), (defaultdict(<class 'dict'>, {'e': ['—', 'º', 'R'], 'a': ['B', 'E', 'M'], 's': ['∫', 'À', 'W'], 't': ['P', 'I', '≈'], 'n': ['u', 'V', 'A'], 'r': ['y', '∑', 'X'], 'i': ['Z', 'H', '–'], 'o': ['+', '£', 'T'], 'h': ['∞', 'µ', 'O'], 'l': ['L'], 'c': ['æ', '•'], 'd': ['∏'], 'p': ['G', '‘'], 'm': ['“'], 'g': ['/', 'F']}), -409.74182338399993), (defaultdict(<class 'dict'>, {'e': ['—', 'º', 'R'], 'a': ['B', 'E', 'M'], 's': ['∫', 'À', 'W'], 't': ['P', 'I', '≈'], 'n': ['u', 'V', 'A'], 'r': ['y', '∑', 'X'], 'i': ['Z', 'H', '–'], 'o': ['+', '£', 'T'], 'h': ['∞', 'µ', 'O'], 'l': ['L'], 'c': ['æ', '•'], 'd': ['∏', 'F'], 'p': ['G', '‘'], 'g': ['“', '/']}), -409.77141604400003), (defaultdict(<class 'dict'>, {'e': ['—', 'º', 'R'], 'a': ['B', 'E', 'M'], 's': ['∫', 'À', 'W'], 't': ['P', 'I', '≈'], 'n': ['u', 'V', 'A'], 'r': ['y', '∑', 'X'], 'i': ['Z', 'H', '–'], 'o': ['+', '£', 'T'], 'h': ['∞', 'µ', 'O'], 'l': ['L'], 'c': ['æ', '•', 'F'], 'd': ['∏', '“'], 'p': ['G', '‘'], 'g': ['/']}), -409.78058614400004), (defaultdict(<class 'dict'>, {'e': ['—', 'º', 'R'], 'a': ['B', 'E', 'M'], 's': ['∫', 'À', 'W'], 't': ['P', 'I', '≈'], 'n': ['u', 'V', 'A'], 'r': ['y', '∑', 'X'], 'i': ['Z', 'H', '–'], 'o': ['+', '£', 'T'], 'h': ['∞', 'µ', 'O'], 'l': ['L'], 'c': ['æ', '•'], 'd': ['∏'], 'p': ['G', '‘'], 'g': ['“', 'F'], 'm': ['/']}), -409.8384076539999)]\n",
      "Working on symbol:  π\n",
      "[(defaultdict(<class 'dict'>, {'e': ['—', 'º', 'R'], 'a': ['B', 'E', 'M'], 's': ['∫', 'À', 'W'], 't': ['P', 'I', '≈'], 'n': ['u', 'V', 'A'], 'r': ['y', '∑', 'X'], 'i': ['Z', 'H', '–'], 'o': ['+', '£', 'T'], 'h': ['∞', 'µ', 'O'], 'l': ['L'], 'c': ['æ', '•', 'π'], 'd': ['∏', '“'], 'p': ['G', '‘'], 'm': ['/'], 'g': ['F']}), -420.8017988439999), (defaultdict(<class 'dict'>, {'e': ['—', 'º', 'R'], 'a': ['B', 'E', 'M'], 's': ['∫', 'À', 'W'], 't': ['P', 'I', '≈'], 'n': ['u', 'V', 'A'], 'r': ['y', '∑', 'X'], 'i': ['Z', 'H', '–'], 'o': ['+', '£', 'T'], 'h': ['∞', 'µ', 'O'], 'l': ['L'], 'c': ['æ', '•', 'π'], 'd': ['∏'], 'p': ['G', '‘'], 'g': ['“', 'F'], 'm': ['/']}), -420.952390344), (defaultdict(<class 'dict'>, {'e': ['—', 'º', 'R'], 'a': ['B', 'E', 'M'], 's': ['∫', 'À', 'W'], 't': ['P', 'I', '≈'], 'n': ['u', 'V', 'A'], 'r': ['y', '∑', 'X'], 'i': ['Z', 'H', '–'], 'o': ['+', '£', 'T'], 'h': ['∞', 'µ', 'O'], 'l': ['L'], 'c': ['æ', '•', 'π'], 'd': ['∏', '“'], 'p': ['G', '‘'], 'g': ['/', 'F']}), -420.96380043399984), (defaultdict(<class 'dict'>, {'e': ['—', 'º', 'R'], 'a': ['B', 'E', 'M'], 's': ['∫', 'À', 'W'], 't': ['P', 'I', '≈'], 'n': ['u', 'V', 'A'], 'r': ['y', '∑', 'X'], 'i': ['Z', 'H', '–'], 'o': ['+', '£', 'T'], 'h': ['∞', 'µ', 'O'], 'l': ['L'], 'c': ['æ', '•', 'π'], 'd': ['∏'], 'p': ['G', '‘'], 'g': ['“', '/', 'F']}), -421.1143919339999), (defaultdict(<class 'dict'>, {'e': ['—', 'º', 'R'], 'a': ['B', 'E', 'M'], 's': ['∫', 'À', 'W'], 't': ['P', 'I', '≈'], 'n': ['u', 'V', 'A'], 'r': ['y', '∑', 'X'], 'i': ['Z', 'H', '–'], 'o': ['+', '£', 'T'], 'h': ['∞', 'µ', 'O'], 'l': ['L'], 'c': ['æ', '•', 'π'], 'd': ['∏'], 'p': ['G', '‘'], 'm': ['“'], 'g': ['/', 'F']}), -421.41239943399995), (defaultdict(<class 'dict'>, {'e': ['—', 'º', 'R'], 'a': ['B', 'E', 'M'], 's': ['∫', 'À', 'W'], 't': ['P', 'I', '≈'], 'n': ['u', 'V', 'A'], 'r': ['y', '∑', 'X'], 'i': ['Z', 'H', '–'], 'o': ['+', '£', 'T'], 'h': ['∞', 'µ', 'O'], 'l': ['L'], 'c': ['æ', '•', 'π'], 'd': ['∏', '“', 'F'], 'p': ['G', '‘'], 'g': ['/']}), -421.48594387399993), (defaultdict(<class 'dict'>, {'e': ['—', 'º', 'R'], 'a': ['B', 'E', 'M'], 's': ['∫', 'À', 'W'], 't': ['P', 'I', '≈'], 'n': ['u', 'V', 'A'], 'r': ['y', '∑', 'X'], 'i': ['Z', 'H', '–'], 'o': ['+', '£', 'T'], 'h': ['∞', 'µ', 'O'], 'l': ['L'], 'c': ['æ', '•', 'π'], 'd': ['∏', 'F'], 'p': ['G', '‘'], 'g': ['“', '/']}), -421.63653537400006), (defaultdict(<class 'dict'>, {'e': ['—', 'º', 'R'], 'a': ['B', 'E', 'M'], 's': ['∫', 'À', 'W'], 't': ['P', 'I', '≈'], 'n': ['u', 'V', 'A'], 'r': ['y', '∑', 'X'], 'i': ['Z', 'H', '–'], 'o': ['+', '£', 'T'], 'h': ['∞', 'µ', 'O'], 'l': ['L'], 'c': ['æ', '•'], 'd': ['∏', '“', 'F'], 'p': ['G', '‘', 'π'], 'g': ['/']}), -422.358491844)]\n",
      "Working on symbol:  J\n",
      "[(defaultdict(<class 'dict'>, {'e': ['—', 'º', 'R'], 'a': ['B', 'E', 'M'], 's': ['∫', 'À', 'W'], 't': ['P', 'I', '≈'], 'n': ['u', 'V', 'A'], 'r': ['y', '∑', 'X'], 'i': ['Z', 'H', '–'], 'o': ['+', '£', 'T'], 'h': ['∞', 'µ', 'O'], 'l': ['L'], 'c': ['æ', '•', 'π'], 'd': ['∏', '“', 'J'], 'p': ['G', '‘'], 'm': ['/'], 'g': ['F']}), -432.69555666399987), (defaultdict(<class 'dict'>, {'e': ['—', 'º', 'R'], 'a': ['B', 'E', 'M'], 's': ['∫', 'À', 'W'], 't': ['P', 'I', '≈'], 'n': ['u', 'V', 'A'], 'r': ['y', '∑', 'X'], 'i': ['Z', 'H', '–'], 'o': ['+', '£', 'T'], 'h': ['∞', 'µ', 'O'], 'l': ['L'], 'c': ['æ', '•', 'π'], 'd': ['∏', 'J'], 'p': ['G', '‘'], 'g': ['“', 'F'], 'm': ['/']}), -432.7101438639999), (defaultdict(<class 'dict'>, {'e': ['—', 'º', 'R'], 'a': ['B', 'E', 'M'], 's': ['∫', 'À', 'W'], 't': ['P', 'I', '≈'], 'n': ['u', 'V', 'A'], 'r': ['y', '∑', 'X'], 'i': ['Z', 'H', '–'], 'o': ['+', '£', 'T'], 'h': ['∞', 'µ', 'O'], 'l': ['L', 'J'], 'c': ['æ', '•', 'π'], 'd': ['∏', '“'], 'p': ['G', '‘'], 'g': ['/', 'F']}), -433.97638537), (defaultdict(<class 'dict'>, {'e': ['—', 'º', 'R'], 'a': ['B', 'E', 'M'], 's': ['∫', 'À', 'W'], 't': ['P', 'I', '≈'], 'n': ['u', 'V', 'A'], 'r': ['y', '∑', 'X'], 'i': ['Z', 'H', '–'], 'o': ['+', '£', 'T'], 'h': ['∞', 'µ', 'O'], 'l': ['L'], 'c': ['æ', '•', 'π'], 'd': ['∏', '“', 'J'], 'p': ['G', '‘'], 'g': ['/', 'F']}), -434.1597295539999), (defaultdict(<class 'dict'>, {'e': ['—', 'º', 'R'], 'a': ['B', 'E', 'M'], 's': ['∫', 'À', 'W'], 't': ['P', 'I', '≈'], 'n': ['u', 'V', 'A'], 'r': ['y', '∑', 'X'], 'i': ['Z', 'H', '–'], 'o': ['+', '£', 'T'], 'h': ['∞', 'µ', 'O'], 'l': ['L'], 'c': ['æ', '•', 'π'], 'd': ['∏', 'J'], 'p': ['G', '‘'], 'g': ['“', '/', 'F']}), -434.1743167539999), (defaultdict(<class 'dict'>, {'e': ['—', 'º', 'R'], 'a': ['B', 'E', 'M'], 's': ['∫', 'À', 'W'], 't': ['P', 'I', '≈'], 'n': ['u', 'V', 'A'], 'r': ['y', '∑', 'X'], 'i': ['Z', 'H', '–'], 'o': ['+', '£', 'T'], 'h': ['∞', 'µ', 'O'], 'l': ['L', 'J'], 'c': ['æ', '•', 'π'], 'd': ['∏'], 'p': ['G', '‘'], 'g': ['“', '/', 'F']}), -434.4251909700001), (defaultdict(<class 'dict'>, {'e': ['—', 'º', 'R'], 'a': ['B', 'E', 'M'], 's': ['∫', 'À', 'W'], 't': ['P', 'I', '≈'], 'n': ['u', 'V', 'A'], 'r': ['y', '∑', 'X'], 'i': ['Z', 'H', '–'], 'o': ['+', '£', 'T'], 'h': ['∞', 'µ', 'O'], 'l': ['L', 'J'], 'c': ['æ', '•', 'π'], 'd': ['∏', '“', 'F'], 'p': ['G', '‘'], 'g': ['/']}), -434.4985288100001), (defaultdict(<class 'dict'>, {'e': ['—', 'º', 'R'], 'a': ['B', 'E', 'M'], 's': ['∫', 'À', 'W'], 't': ['P', 'I', '≈'], 'n': ['u', 'V', 'A'], 'r': ['y', '∑', 'X'], 'i': ['Z', 'H', '–'], 'o': ['+', '£', 'T'], 'h': ['∞', 'µ', 'O'], 'l': ['L', 'J'], 'c': ['æ', '•', 'π'], 'd': ['∏', '“'], 'p': ['G', '‘'], 'm': ['/'], 'g': ['F']}), -434.62916308)]\n",
      "Working on symbol:  ^\n",
      "[(defaultdict(<class 'dict'>, {'e': ['—', 'º', 'R'], 'a': ['B', 'E', 'M'], 's': ['∫', 'À', 'W'], 't': ['P', 'I', '≈'], 'n': ['u', 'V', 'A'], 'r': ['y', '∑', 'X'], 'i': ['Z', 'H', '–'], 'o': ['+', '£', 'T'], 'h': ['∞', 'µ', 'O'], 'l': ['L'], 'c': ['æ', '•', 'π'], 'd': ['∏', 'J', '^'], 'p': ['G', '‘'], 'g': ['“', 'F'], 'm': ['/']}), -447.0187895440001), (defaultdict(<class 'dict'>, {'e': ['—', 'º', 'R'], 'a': ['B', 'E', 'M'], 's': ['∫', 'À', 'W'], 't': ['P', 'I', '≈'], 'n': ['u', 'V', 'A'], 'r': ['y', '∑', 'X'], 'i': ['Z', 'H', '–'], 'o': ['+', '£', 'T'], 'h': ['∞', 'µ', 'O'], 'l': ['L'], 'c': ['æ', '•', 'π'], 'd': ['∏', '“', 'J'], 'p': ['G', '‘'], 'm': ['/'], 'g': ['F'], 'u': ['^']}), -447.45162015400007), (defaultdict(<class 'dict'>, {'e': ['—', 'º', 'R'], 'a': ['B', 'E', 'M'], 's': ['∫', 'À', 'W'], 't': ['P', 'I', '≈'], 'n': ['u', 'V', 'A'], 'r': ['y', '∑', 'X'], 'i': ['Z', 'H', '–'], 'o': ['+', '£', 'T'], 'h': ['∞', 'µ', 'O'], 'l': ['L'], 'c': ['æ', '•', 'π'], 'd': ['∏', 'J'], 'p': ['G', '‘'], 'g': ['“', 'F'], 'm': ['/'], 'u': ['^']}), -447.4662073540001), (defaultdict(<class 'dict'>, {'e': ['—', 'º', 'R'], 'a': ['B', 'E', 'M'], 's': ['∫', 'À', 'W'], 't': ['P', 'I', '≈'], 'n': ['u', 'V', 'A'], 'r': ['y', '∑', 'X'], 'i': ['Z', 'H', '–'], 'o': ['+', '£', 'T'], 'h': ['∞', 'µ', 'O'], 'l': ['L', 'J'], 'c': ['æ', '•', 'π'], 'd': ['∏', '“'], 'p': ['G', '‘'], 'g': ['/', 'F'], 'u': ['^']}), -448.22567796), (defaultdict(<class 'dict'>, {'e': ['—', 'º', 'R'], 'a': ['B', 'E', 'M'], 's': ['∫', 'À', 'W'], 't': ['P', 'I', '≈'], 'n': ['u', 'V', 'A'], 'r': ['y', '∑', 'X'], 'i': ['Z', 'H', '–'], 'o': ['+', '£', 'T'], 'h': ['∞', 'µ', 'O'], 'l': ['L'], 'c': ['æ', '•', 'π'], 'd': ['∏', '“', 'J'], 'p': ['G', '‘'], 'm': ['/'], 'g': ['F'], 'k': ['^']}), -448.2496055640001), (defaultdict(<class 'dict'>, {'e': ['—', 'º', 'R'], 'a': ['B', 'E', 'M'], 's': ['∫', 'À', 'W'], 't': ['P', 'I', '≈'], 'n': ['u', 'V', 'A'], 'r': ['y', '∑', 'X'], 'i': ['Z', 'H', '–'], 'o': ['+', '£', 'T'], 'h': ['∞', 'µ', 'O'], 'l': ['L'], 'c': ['æ', '•', 'π'], 'd': ['∏', 'J'], 'p': ['G', '‘'], 'g': ['“', 'F'], 'm': ['/'], 'k': ['^']}), -448.2641927640001), (defaultdict(<class 'dict'>, {'e': ['—', 'º', 'R'], 'a': ['B', 'E', 'M'], 's': ['∫', 'À', 'W'], 't': ['P', 'I', '≈'], 'n': ['u', 'V', 'A'], 'r': ['y', '∑', 'X'], 'i': ['Z', 'H', '–'], 'o': ['+', '£', 'T'], 'h': ['∞', 'µ', 'O'], 'l': ['L'], 'c': ['æ', '•', 'π'], 'd': ['∏', 'J', '^'], 'p': ['G', '‘'], 'g': ['“', '/', 'F']}), -448.48296243400006), (defaultdict(<class 'dict'>, {'e': ['—', 'º', 'R'], 'a': ['B', 'E', 'M'], 's': ['∫', 'À', 'W'], 't': ['P', 'I', '≈'], 'n': ['u', 'V', 'A'], 'r': ['y', '∑', 'X'], 'i': ['Z', 'H', '–'], 'o': ['+', '£', 'T'], 'h': ['∞', 'µ', 'O'], 'l': ['L', 'J'], 'c': ['æ', '•', 'π'], 'd': ['∏'], 'p': ['G', '‘'], 'g': ['“', '/', 'F'], 'u': ['^']}), -448.67448356)]\n",
      "Working on symbol:  N\n"
     ]
    },
    {
     "name": "stdout",
     "output_type": "stream",
     "text": [
      "[(defaultdict(<class 'dict'>, {'e': ['—', 'º', 'R'], 'a': ['B', 'E', 'M'], 's': ['∫', 'À', 'W'], 't': ['P', 'I', '≈'], 'n': ['u', 'V', 'A'], 'r': ['y', '∑', 'X'], 'i': ['Z', 'H', '–'], 'o': ['+', '£', 'T'], 'h': ['∞', 'µ', 'O'], 'l': ['L', 'N'], 'c': ['æ', '•', 'π'], 'd': ['∏', 'J', '^'], 'p': ['G', '‘'], 'g': ['“', 'F'], 'm': ['/']}), -456.0315453440001), (defaultdict(<class 'dict'>, {'e': ['—', 'º', 'R'], 'a': ['B', 'E', 'M'], 's': ['∫', 'À', 'W'], 't': ['P', 'I', '≈'], 'n': ['u', 'V', 'A'], 'r': ['y', '∑', 'X'], 'i': ['Z', 'H', '–'], 'o': ['+', '£', 'T'], 'h': ['∞', 'µ', 'O'], 'l': ['L', 'N'], 'c': ['æ', '•', 'π'], 'd': ['∏', '“', 'J'], 'p': ['G', '‘'], 'm': ['/'], 'g': ['F'], 'u': ['^']}), -456.46437595399993), (defaultdict(<class 'dict'>, {'e': ['—', 'º', 'R'], 'a': ['B', 'E', 'M'], 's': ['∫', 'À', 'W'], 't': ['P', 'I', '≈'], 'n': ['u', 'V', 'A'], 'r': ['y', '∑', 'X'], 'i': ['Z', 'H', '–'], 'o': ['+', '£', 'T'], 'h': ['∞', 'µ', 'O'], 'l': ['L', 'N'], 'c': ['æ', '•', 'π'], 'd': ['∏', 'J'], 'p': ['G', '‘'], 'g': ['“', 'F'], 'm': ['/'], 'u': ['^']}), -456.478963154), (defaultdict(<class 'dict'>, {'e': ['—', 'º', 'R'], 'a': ['B', 'E', 'M'], 's': ['∫', 'À', 'W'], 't': ['P', 'I', '≈'], 'n': ['u', 'V', 'A'], 'r': ['y', '∑', 'X'], 'i': ['Z', 'H', '–'], 'o': ['+', '£', 'T'], 'h': ['∞', 'µ', 'O'], 'l': ['L', 'J', 'N'], 'c': ['æ', '•', 'π'], 'd': ['∏', '“'], 'p': ['G', '‘'], 'g': ['/', 'F'], 'u': ['^']}), -457.23843375999985), (defaultdict(<class 'dict'>, {'e': ['—', 'º', 'R'], 'a': ['B', 'E', 'M'], 's': ['∫', 'À', 'W'], 't': ['P', 'I', '≈'], 'n': ['u', 'V', 'A'], 'r': ['y', '∑', 'X'], 'i': ['Z', 'H', '–'], 'o': ['+', '£', 'T'], 'h': ['∞', 'µ', 'O'], 'l': ['L', 'N'], 'c': ['æ', '•', 'π'], 'd': ['∏', '“', 'J'], 'p': ['G', '‘'], 'm': ['/'], 'g': ['F'], 'k': ['^']}), -457.262361364), (defaultdict(<class 'dict'>, {'e': ['—', 'º', 'R'], 'a': ['B', 'E', 'M'], 's': ['∫', 'À', 'W'], 't': ['P', 'I', '≈'], 'n': ['u', 'V', 'A'], 'r': ['y', '∑', 'X'], 'i': ['Z', 'H', '–'], 'o': ['+', '£', 'T'], 'h': ['∞', 'µ', 'O'], 'l': ['L', 'N'], 'c': ['æ', '•', 'π'], 'd': ['∏', 'J'], 'p': ['G', '‘'], 'g': ['“', 'F'], 'm': ['/'], 'k': ['^']}), -457.27694856400007), (defaultdict(<class 'dict'>, {'e': ['—', 'º', 'R'], 'a': ['B', 'E', 'M'], 's': ['∫', 'À', 'W'], 't': ['P', 'I', '≈'], 'n': ['u', 'V', 'A'], 'r': ['y', '∑', 'X'], 'i': ['Z', 'H', '–'], 'o': ['+', '£', 'T'], 'h': ['∞', 'µ', 'O'], 'l': ['L', 'N'], 'c': ['æ', '•', 'π'], 'd': ['∏', 'J', '^'], 'p': ['G', '‘'], 'g': ['“', '/', 'F']}), -457.495718234), (defaultdict(<class 'dict'>, {'e': ['—', 'º', 'R'], 'a': ['B', 'E', 'M'], 's': ['∫', 'À', 'W'], 't': ['P', 'I', '≈'], 'n': ['u', 'V', 'A'], 'r': ['y', '∑', 'X'], 'i': ['Z', 'H', '–'], 'o': ['+', '£', 'T'], 'h': ['∞', 'µ', 'O'], 'l': ['L', 'J', 'N'], 'c': ['æ', '•', 'π'], 'd': ['∏'], 'p': ['G', '‘'], 'g': ['“', '/', 'F'], 'u': ['^']}), -457.6872393599999)]\n",
      "Working on symbol:  D\n",
      "[(defaultdict(<class 'dict'>, {'e': ['—', 'º', 'R'], 'a': ['B', 'E', 'M'], 's': ['∫', 'À', 'W'], 't': ['P', 'I', '≈'], 'n': ['u', 'V', 'A'], 'r': ['y', '∑', 'X'], 'i': ['Z', 'H', '–'], 'o': ['+', '£', 'T'], 'h': ['∞', 'µ', 'O'], 'l': ['L', 'N'], 'c': ['æ', '•', 'π'], 'd': ['∏', 'J', '^'], 'p': ['G', '‘', 'D'], 'g': ['“', 'F'], 'm': ['/']}), -465.50712595400006), (defaultdict(<class 'dict'>, {'e': ['—', 'º', 'R'], 'a': ['B', 'E', 'M'], 's': ['∫', 'À', 'W'], 't': ['P', 'I', '≈'], 'n': ['u', 'V', 'A'], 'r': ['y', '∑', 'X'], 'i': ['Z', 'H', '–'], 'o': ['+', '£', 'T'], 'h': ['∞', 'µ', 'O'], 'l': ['L', 'N'], 'c': ['æ', '•', 'π'], 'd': ['∏', 'J'], 'p': ['G', '‘', 'D'], 'g': ['“', 'F'], 'm': ['/'], 'u': ['^']}), -465.95454376399994), (defaultdict(<class 'dict'>, {'e': ['—', 'º', 'R'], 'a': ['B', 'E', 'M'], 's': ['∫', 'À', 'W'], 't': ['P', 'I', '≈'], 'n': ['u', 'V', 'A'], 'r': ['y', '∑', 'X'], 'i': ['Z', 'H', '–'], 'o': ['+', '£', 'T'], 'h': ['∞', 'µ', 'O'], 'l': ['L', 'N'], 'c': ['æ', '•', 'π'], 'd': ['∏', 'J'], 'p': ['G', '‘', 'D'], 'g': ['“', 'F'], 'm': ['/'], 'k': ['^']}), -466.752529174), (defaultdict(<class 'dict'>, {'e': ['—', 'º', 'R'], 'a': ['B', 'E', 'M'], 's': ['∫', 'À', 'W'], 't': ['P', 'I', '≈'], 'n': ['u', 'V', 'A'], 'r': ['y', '∑', 'X'], 'i': ['Z', 'H', '–'], 'o': ['+', '£', 'T'], 'h': ['∞', 'µ', 'O'], 'l': ['L', 'N'], 'c': ['æ', '•', 'π'], 'd': ['∏', 'J', '^'], 'p': ['G', '‘', 'D'], 'g': ['“', '/', 'F']}), -466.971298844), (defaultdict(<class 'dict'>, {'e': ['—', 'º', 'R'], 'a': ['B', 'E', 'M'], 's': ['∫', 'À', 'W'], 't': ['P', 'I', '≈'], 'n': ['u', 'V', 'A'], 'r': ['y', '∑', 'X'], 'i': ['Z', 'H', '–'], 'o': ['+', '£', 'T'], 'h': ['∞', 'µ', 'O'], 'l': ['L', 'J', 'N'], 'c': ['æ', '•', 'π'], 'd': ['∏'], 'p': ['G', '‘', 'D'], 'g': ['“', '/', 'F'], 'u': ['^']}), -467.16281996999993), (defaultdict(<class 'dict'>, {'e': ['—', 'º', 'R'], 'a': ['B', 'E', 'M'], 's': ['∫', 'À', 'W'], 't': ['P', 'I', '≈'], 'n': ['u', 'V', 'A'], 'r': ['y', '∑', 'X'], 'i': ['Z', 'H', '–'], 'o': ['+', '£', 'T'], 'h': ['∞', 'µ', 'O'], 'l': ['L', 'N'], 'c': ['æ', '•', 'π'], 'd': ['∏', '“', 'J'], 'p': ['G', '‘', 'D'], 'm': ['/'], 'g': ['F'], 'u': ['^']}), -467.235262964), (defaultdict(<class 'dict'>, {'e': ['—', 'º', 'R'], 'a': ['B', 'E', 'M'], 's': ['∫', 'À', 'W'], 't': ['P', 'I', '≈'], 'n': ['u', 'V', 'A'], 'r': ['y', '∑', 'X'], 'i': ['Z', 'H', '–'], 'o': ['+', '£', 'T'], 'h': ['∞', 'µ', 'O'], 'l': ['L', 'J', 'N'], 'c': ['æ', '•', 'π'], 'd': ['∏', '“'], 'p': ['G', '‘', 'D'], 'g': ['/', 'F'], 'u': ['^']}), -468.00932076999993), (defaultdict(<class 'dict'>, {'e': ['—', 'º', 'R'], 'a': ['B', 'E', 'M'], 's': ['∫', 'À', 'W'], 't': ['P', 'I', '≈'], 'n': ['u', 'V', 'A'], 'r': ['y', '∑', 'X'], 'i': ['Z', 'H', '–'], 'o': ['+', '£', 'T'], 'h': ['∞', 'µ', 'O'], 'l': ['L', 'N'], 'c': ['æ', '•', 'π'], 'd': ['∏', '“', 'J'], 'p': ['G', '‘', 'D'], 'm': ['/'], 'g': ['F'], 'k': ['^']}), -468.0332483740001)]\n",
      "Working on symbol:  S\n",
      "[(defaultdict(<class 'dict'>, {'e': ['—', 'º', 'R'], 'a': ['B', 'E', 'M'], 's': ['∫', 'À', 'W'], 't': ['P', 'I', '≈'], 'n': ['u', 'V', 'A'], 'r': ['y', '∑', 'X'], 'i': ['Z', 'H', '–'], 'o': ['+', '£', 'T'], 'h': ['∞', 'µ', 'O'], 'l': ['L', 'N'], 'c': ['æ', '•', 'π'], 'd': ['∏', 'J', '^'], 'p': ['G', '‘', 'D'], 'g': ['“', 'F'], 'm': ['/'], 'u': ['S']}), -477.2024734140001), (defaultdict(<class 'dict'>, {'e': ['—', 'º', 'R'], 'a': ['B', 'E', 'M'], 's': ['∫', 'À', 'W'], 't': ['P', 'I', '≈'], 'n': ['u', 'V', 'A'], 'r': ['y', '∑', 'X'], 'i': ['Z', 'H', '–'], 'o': ['+', '£', 'T'], 'h': ['∞', 'µ', 'O'], 'l': ['L', 'N', 'S'], 'c': ['æ', '•', 'π'], 'd': ['∏', 'J', '^'], 'p': ['G', '‘', 'D'], 'g': ['“', 'F'], 'm': ['/']}), -477.34094435400016), (defaultdict(<class 'dict'>, {'e': ['—', 'º', 'R'], 'a': ['B', 'E', 'M'], 's': ['∫', 'À', 'W'], 't': ['P', 'I', '≈'], 'n': ['u', 'V', 'A'], 'r': ['y', '∑', 'X'], 'i': ['Z', 'H', '–'], 'o': ['+', '£', 'T'], 'h': ['∞', 'µ', 'O'], 'l': ['L', 'N'], 'c': ['æ', '•', 'π'], 'd': ['∏', 'J', 'S'], 'p': ['G', '‘', 'D'], 'g': ['“', 'F'], 'm': ['/'], 'k': ['^']}), -477.6659120540001), (defaultdict(<class 'dict'>, {'e': ['—', 'º', 'R'], 'a': ['B', 'E', 'M'], 's': ['∫', 'À', 'W'], 't': ['P', 'I', '≈'], 'n': ['u', 'V', 'A'], 'r': ['y', '∑', 'X'], 'i': ['Z', 'H', '–'], 'o': ['+', '£', 'T'], 'h': ['∞', 'µ', 'O'], 'l': ['L', 'N', 'S'], 'c': ['æ', '•', 'π'], 'd': ['∏', 'J'], 'p': ['G', '‘', 'D'], 'g': ['“', 'F'], 'm': ['/'], 'k': ['^']}), -477.91796237400007), (defaultdict(<class 'dict'>, {'e': ['—', 'º', 'R'], 'a': ['B', 'E', 'M'], 's': ['∫', 'À', 'W'], 't': ['P', 'I', '≈'], 'n': ['u', 'V', 'A'], 'r': ['y', '∑', 'X'], 'i': ['Z', 'H', '–'], 'o': ['+', '£', 'T'], 'h': ['∞', 'µ', 'O'], 'l': ['L', 'N'], 'c': ['æ', '•', 'π'], 'd': ['∏', 'J'], 'p': ['G', '‘', 'D'], 'g': ['“', 'F'], 'm': ['/'], 'u': ['^'], 'k': ['S']}), -478.11199526400003), (defaultdict(<class 'dict'>, {'e': ['—', 'º', 'R'], 'a': ['B', 'E', 'M'], 's': ['∫', 'À', 'W'], 't': ['P', 'I', '≈'], 'n': ['u', 'V', 'A'], 'r': ['y', '∑', 'X'], 'i': ['Z', 'H', '–'], 'o': ['+', '£', 'T'], 'h': ['∞', 'µ', 'O'], 'l': ['L', 'N'], 'c': ['æ', '•', 'π'], 'd': ['∏', 'J', '^'], 'p': ['G', '‘', 'D'], 'g': ['“', 'F'], 'm': ['/'], 'f': ['S']}), -478.2467572540001), (defaultdict(<class 'dict'>, {'e': ['—', 'º', 'R'], 'a': ['B', 'E', 'M'], 's': ['∫', 'À', 'W'], 't': ['P', 'I', '≈'], 'n': ['u', 'V', 'A'], 'r': ['y', '∑', 'X'], 'i': ['Z', 'H', '–'], 'o': ['+', '£', 'T'], 'h': ['∞', 'µ', 'O'], 'l': ['L', 'N'], 'c': ['æ', '•', 'π'], 'd': ['∏', 'J', 'S'], 'p': ['G', '‘', 'D'], 'g': ['“', 'F'], 'm': ['/'], 'u': ['^']}), -478.39845923800004), (defaultdict(<class 'dict'>, {'e': ['—', 'º', 'R'], 'a': ['B', 'E', 'M'], 's': ['∫', 'À', 'W'], 't': ['P', 'I', '≈'], 'n': ['u', 'V', 'A'], 'r': ['y', '∑', 'X'], 'i': ['Z', 'H', '–'], 'o': ['+', '£', 'T'], 'h': ['∞', 'µ', 'O'], 'l': ['L', 'N', 'S'], 'c': ['æ', '•', 'π'], 'd': ['∏', 'J'], 'p': ['G', '‘', 'D'], 'g': ['“', 'F'], 'm': ['/'], 'u': ['^']}), -478.56716483400004)]\n",
      "Working on symbol:  ƒ\n",
      "[(defaultdict(<class 'dict'>, {'e': ['—', 'º', 'R'], 'a': ['B', 'E', 'M'], 's': ['∫', 'À', 'W'], 't': ['P', 'I', '≈'], 'n': ['u', 'V', 'A'], 'r': ['y', '∑', 'X'], 'i': ['Z', 'H', '–'], 'o': ['+', '£', 'T'], 'h': ['∞', 'µ', 'O'], 'l': ['L', 'N'], 'c': ['æ', '•', 'π'], 'd': ['∏', 'J', '^'], 'p': ['G', '‘', 'D'], 'g': ['“', 'F'], 'm': ['/'], 'u': ['S', 'ƒ']}), -489.1306080140001), (defaultdict(<class 'dict'>, {'e': ['—', 'º', 'R'], 'a': ['B', 'E', 'M'], 's': ['∫', 'À', 'W'], 't': ['P', 'I', '≈'], 'n': ['u', 'V', 'A'], 'r': ['y', '∑', 'X'], 'i': ['Z', 'H', '–'], 'o': ['+', '£', 'T'], 'h': ['∞', 'µ', 'O'], 'l': ['L', 'N', 'S'], 'c': ['æ', '•', 'π'], 'd': ['∏', 'J', '^'], 'p': ['G', '‘', 'D'], 'g': ['“', 'F'], 'm': ['/'], 'u': ['ƒ']}), -489.41120653400014), (defaultdict(<class 'dict'>, {'e': ['—', 'º', 'R'], 'a': ['B', 'E', 'M'], 's': ['∫', 'À', 'W'], 't': ['P', 'I', '≈'], 'n': ['u', 'V', 'A'], 'r': ['y', '∑', 'X'], 'i': ['Z', 'H', '–'], 'o': ['+', '£', 'T'], 'h': ['∞', 'µ', 'O'], 'l': ['L', 'N'], 'c': ['æ', '•', 'π'], 'd': ['∏', 'J', 'S'], 'p': ['G', '‘', 'D'], 'g': ['“', 'F'], 'm': ['/'], 'k': ['^'], 'u': ['ƒ']}), -489.6263092880001), (defaultdict(<class 'dict'>, {'e': ['—', 'º', 'R'], 'a': ['B', 'E', 'M'], 's': ['∫', 'À', 'W'], 't': ['P', 'I', '≈'], 'n': ['u', 'V', 'A'], 'r': ['y', '∑', 'X'], 'i': ['Z', 'H', '–'], 'o': ['+', '£', 'T'], 'h': ['∞', 'µ', 'O'], 'l': ['L', 'N', 'S'], 'c': ['æ', '•', 'π'], 'd': ['∏', 'J'], 'p': ['G', '‘', 'D'], 'g': ['“', 'F'], 'm': ['/'], 'k': ['^'], 'u': ['ƒ']}), -489.92852620800005), (defaultdict(<class 'dict'>, {'e': ['—', 'º', 'R'], 'a': ['B', 'E', 'M'], 's': ['∫', 'À', 'W'], 't': ['P', 'I', '≈'], 'n': ['u', 'V', 'A'], 'r': ['y', '∑', 'X'], 'i': ['Z', 'H', '–'], 'o': ['+', '£', 'T'], 'h': ['∞', 'µ', 'O'], 'l': ['L', 'N'], 'c': ['æ', '•', 'π'], 'd': ['∏', 'J'], 'p': ['G', '‘', 'D'], 'g': ['“', 'F'], 'm': ['/'], 'u': ['^', 'ƒ'], 'k': ['S']}), -490.2604718640001), (defaultdict(<class 'dict'>, {'e': ['—', 'º', 'R'], 'a': ['B', 'E', 'M'], 's': ['∫', 'À', 'W'], 't': ['P', 'I', '≈'], 'n': ['u', 'V', 'A'], 'r': ['y', '∑', 'X'], 'i': ['Z', 'H', '–'], 'o': ['+', '£', 'T'], 'h': ['∞', 'µ', 'O'], 'l': ['L', 'N'], 'c': ['æ', '•', 'π'], 'd': ['∏', 'J', '^'], 'p': ['G', '‘', 'D'], 'g': ['“', 'F'], 'm': ['/'], 'f': ['S'], 'u': ['ƒ']}), -490.3170194340001), (defaultdict(<class 'dict'>, {'e': ['—', 'º', 'R'], 'a': ['B', 'E', 'M'], 's': ['∫', 'À', 'W'], 't': ['P', 'I', '≈'], 'n': ['u', 'V', 'A'], 'r': ['y', '∑', 'X'], 'i': ['Z', 'H', '–'], 'o': ['+', '£', 'T'], 'h': ['∞', 'µ', 'O'], 'l': ['L', 'N'], 'c': ['æ', '•', 'π'], 'd': ['∏', 'J', 'S'], 'p': ['G', '‘', 'D'], 'g': ['“', 'F'], 'm': ['/'], 'u': ['^', 'ƒ']}), -490.89911783800017), (defaultdict(<class 'dict'>, {'e': ['—', 'º', 'R'], 'a': ['B', 'E', 'M'], 's': ['∫', 'À', 'W'], 't': ['P', 'I', '≈'], 'n': ['u', 'V', 'A'], 'r': ['y', '∑', 'X'], 'i': ['Z', 'H', '–'], 'o': ['+', '£', 'T'], 'h': ['∞', 'µ', 'O'], 'l': ['L', 'N', 'S'], 'c': ['æ', '•', 'π'], 'd': ['∏', 'J'], 'p': ['G', '‘', 'D'], 'g': ['“', 'F'], 'm': ['/'], 'u': ['^', 'ƒ']}), -491.6126214340001)]\n",
      "Working on symbol:  √\n"
     ]
    },
    {
     "name": "stdout",
     "output_type": "stream",
     "text": [
      "[(defaultdict(<class 'dict'>, {'e': ['—', 'º', 'R'], 'a': ['B', 'E', 'M'], 's': ['∫', 'À', 'W'], 't': ['P', 'I', '≈'], 'n': ['u', 'V', 'A'], 'r': ['y', '∑', 'X'], 'i': ['Z', 'H', '–'], 'o': ['+', '£', 'T'], 'h': ['∞', 'µ', 'O'], 'l': ['L', 'N', '√'], 'c': ['æ', '•', 'π'], 'd': ['∏', 'J', '^'], 'p': ['G', '‘', 'D'], 'g': ['“', 'F'], 'm': ['/'], 'f': ['S'], 'u': ['ƒ']}), -498.3575155340002), (defaultdict(<class 'dict'>, {'e': ['—', 'º', 'R'], 'a': ['B', 'E', 'M'], 's': ['∫', 'À', 'W'], 't': ['P', 'I', '≈'], 'n': ['u', 'V', 'A'], 'r': ['y', '∑', 'X'], 'i': ['Z', 'H', '–'], 'o': ['+', '£', 'T'], 'h': ['∞', 'µ', 'O'], 'l': ['L', 'N', '√'], 'c': ['æ', '•', 'π'], 'd': ['∏', 'J', '^'], 'p': ['G', '‘', 'D'], 'g': ['“', 'F'], 'm': ['/'], 'u': ['S', 'ƒ']}), -498.9049762140001), (defaultdict(<class 'dict'>, {'e': ['—', 'º', 'R'], 'a': ['B', 'E', 'M'], 's': ['∫', 'À', 'W'], 't': ['P', 'I', '≈'], 'n': ['u', 'V', 'A'], 'r': ['y', '∑', 'X'], 'i': ['Z', 'H', '–'], 'o': ['+', '£', 'T'], 'h': ['∞', 'µ', 'O'], 'l': ['L', 'N'], 'c': ['æ', '•', 'π'], 'd': ['∏', 'J', '^'], 'p': ['G', '‘', 'D'], 'g': ['“', 'F', '√'], 'm': ['/'], 'f': ['S'], 'u': ['ƒ']}), -500.71675693700007), (defaultdict(<class 'dict'>, {'e': ['—', 'º', 'R'], 'a': ['B', 'E', 'M'], 's': ['∫', 'À', 'W'], 't': ['P', 'I', '≈'], 'n': ['u', 'V', 'A'], 'r': ['y', '∑', 'X'], 'i': ['Z', 'H', '–'], 'o': ['+', '£', 'T'], 'h': ['∞', 'µ', 'O'], 'l': ['L', 'N', '√'], 'c': ['æ', '•', 'π'], 'd': ['∏', 'J'], 'p': ['G', '‘', 'D'], 'g': ['“', 'F'], 'm': ['/'], 'u': ['^', 'ƒ'], 'k': ['S']}), -500.82918983400015), (defaultdict(<class 'dict'>, {'e': ['—', 'º', 'R'], 'a': ['B', 'E', 'M'], 's': ['∫', 'À', 'W'], 't': ['P', 'I', '≈'], 'n': ['u', 'V', 'A'], 'r': ['y', '∑', 'X'], 'i': ['Z', 'H', '–'], 'o': ['+', '£', 'T'], 'h': ['∞', 'µ', 'O'], 'l': ['L', 'N', '√'], 'c': ['æ', '•', 'π'], 'd': ['∏', 'J', 'S'], 'p': ['G', '‘', 'D'], 'g': ['“', 'F'], 'm': ['/'], 'k': ['^'], 'u': ['ƒ']}), -501.6526601880002), (defaultdict(<class 'dict'>, {'e': ['—', 'º', 'R'], 'a': ['B', 'E', 'M'], 's': ['∫', 'À', 'W'], 't': ['P', 'I', '≈'], 'n': ['u', 'V', 'A'], 'r': ['y', '∑', 'X'], 'i': ['Z', 'H', '–'], 'o': ['+', '£', 'T'], 'h': ['∞', 'µ', 'O'], 'l': ['L', 'N'], 'c': ['æ', '•', 'π'], 'd': ['∏', 'J', 'S'], 'p': ['G', '‘', 'D'], 'g': ['“', 'F', '√'], 'm': ['/'], 'k': ['^'], 'u': ['ƒ']}), -501.8821578410001), (defaultdict(<class 'dict'>, {'e': ['—', 'º', 'R'], 'a': ['B', 'E', 'M'], 's': ['∫', 'À', 'W'], 't': ['P', 'I', '≈'], 'n': ['u', 'V', 'A'], 'r': ['y', '∑', 'X'], 'i': ['Z', 'H', '–'], 'o': ['+', '£', 'T'], 'h': ['∞', 'µ', 'O'], 'l': ['L', 'N', 'S'], 'c': ['æ', '•', 'π'], 'd': ['∏', 'J', '^'], 'p': ['G', '‘', 'D'], 'g': ['“', 'F', '√'], 'm': ['/'], 'u': ['ƒ']}), -501.92364605700016), (defaultdict(<class 'dict'>, {'e': ['—', 'º', 'R'], 'a': ['B', 'E', 'M'], 's': ['∫', 'À', 'W'], 't': ['P', 'I', '≈'], 'n': ['u', 'V', 'A'], 'r': ['y', '∑', 'X'], 'i': ['Z', 'H', '–'], 'o': ['+', '£', 'T'], 'h': ['∞', 'µ', 'O'], 'l': ['L', 'N', 'S'], 'c': ['æ', '•', 'π'], 'd': ['∏', 'J'], 'p': ['G', '‘', 'D'], 'g': ['“', 'F', '√'], 'm': ['/'], 'k': ['^'], 'u': ['ƒ']}), -502.44096573100006)]\n",
      "Working on symbol:  K\n",
      "[(defaultdict(<class 'dict'>, {'e': ['—', 'º', 'R'], 'a': ['B', 'E', 'M'], 's': ['∫', 'À', 'W'], 't': ['P', 'I', '≈'], 'n': ['u', 'V', 'A'], 'r': ['y', '∑', 'X'], 'i': ['Z', 'H', '–'], 'o': ['+', '£', 'T'], 'h': ['∞', 'µ', 'O'], 'l': ['L', 'N', '√'], 'c': ['æ', '•', 'π'], 'd': ['∏', 'J', '^'], 'p': ['G', '‘', 'D'], 'g': ['“', 'F'], 'm': ['/'], 'f': ['S'], 'u': ['ƒ'], 'z': ['K']}), -508.6698806340002), (defaultdict(<class 'dict'>, {'e': ['—', 'º', 'R'], 'a': ['B', 'E', 'M'], 's': ['∫', 'À', 'W'], 't': ['P', 'I', '≈'], 'n': ['u', 'V', 'A'], 'r': ['y', '∑', 'X'], 'i': ['Z', 'H', '–'], 'o': ['+', '£', 'T'], 'h': ['∞', 'µ', 'O'], 'l': ['L', 'N', '√'], 'c': ['æ', '•', 'π'], 'd': ['∏', 'J', '^'], 'p': ['G', '‘', 'D'], 'g': ['“', 'F'], 'm': ['/'], 'u': ['S', 'ƒ'], 'z': ['K']}), -509.21734131400007), (defaultdict(<class 'dict'>, {'e': ['—', 'º', 'R'], 'a': ['B', 'E', 'M'], 's': ['∫', 'À', 'W'], 't': ['P', 'I', '≈'], 'n': ['u', 'V', 'A'], 'r': ['y', '∑', 'X'], 'i': ['Z', 'H', '–'], 'o': ['+', '£', 'T'], 'h': ['∞', 'µ', 'O'], 'l': ['L', 'N', '√'], 'c': ['æ', '•', 'π'], 'd': ['∏', 'J'], 'p': ['G', '‘', 'D'], 'g': ['“', 'F'], 'm': ['/'], 'u': ['^', 'ƒ'], 'k': ['S'], 'z': ['K']}), -511.14155493400017), (defaultdict(<class 'dict'>, {'e': ['—', 'º', 'R'], 'a': ['B', 'E', 'M'], 's': ['∫', 'À', 'W'], 't': ['P', 'I', '≈'], 'n': ['u', 'V', 'A'], 'r': ['y', '∑', 'X'], 'i': ['Z', 'H', '–'], 'o': ['+', '£', 'T'], 'h': ['∞', 'µ', 'O'], 'l': ['L', 'N', '√'], 'c': ['æ', '•', 'π'], 'd': ['∏', 'J', 'S'], 'p': ['G', '‘', 'D'], 'g': ['“', 'F'], 'm': ['/'], 'k': ['^'], 'u': ['ƒ'], 'z': ['K']}), -511.9650252880002), (defaultdict(<class 'dict'>, {'e': ['—', 'º', 'R'], 'a': ['B', 'E', 'M'], 's': ['∫', 'À', 'W'], 't': ['P', 'I', '≈'], 'n': ['u', 'V', 'A'], 'r': ['y', '∑', 'X'], 'i': ['Z', 'H', '–'], 'o': ['+', '£', 'T'], 'h': ['∞', 'µ', 'O'], 'l': ['L', 'N'], 'c': ['æ', '•', 'π'], 'd': ['∏', 'J', '^'], 'p': ['G', '‘', 'D'], 'g': ['“', 'F', '√'], 'm': ['/'], 'f': ['S'], 'u': ['ƒ'], 'z': ['K']}), -512.0016852370002), (defaultdict(<class 'dict'>, {'e': ['—', 'º', 'R'], 'a': ['B', 'E', 'M'], 's': ['∫', 'À', 'W'], 't': ['P', 'I', '≈'], 'n': ['u', 'V', 'A'], 'r': ['y', '∑', 'X'], 'i': ['Z', 'H', '–'], 'o': ['+', '£', 'T'], 'h': ['∞', 'µ', 'O'], 'l': ['L', 'N', '√'], 'c': ['æ', '•', 'π'], 'd': ['∏', 'J', '^'], 'p': ['G', '‘', 'D'], 'g': ['“', 'F'], 'm': ['/'], 'f': ['S'], 'u': ['ƒ'], 'k': ['K']}), -512.5759678340002), (defaultdict(<class 'dict'>, {'e': ['—', 'º', 'R'], 'a': ['B', 'E', 'M'], 's': ['∫', 'À', 'W'], 't': ['P', 'I', '≈'], 'n': ['u', 'V', 'A'], 'r': ['y', '∑', 'X'], 'i': ['Z', 'H', '–'], 'o': ['+', '£', 'T'], 'h': ['∞', 'µ', 'O'], 'l': ['L', 'N', '√'], 'c': ['æ', '•', 'π'], 'd': ['∏', 'J', '^'], 'p': ['G', '‘', 'D'], 'g': ['“', 'F'], 'm': ['/', 'K'], 'f': ['S'], 'u': ['ƒ']}), -512.6558373340002), (defaultdict(<class 'dict'>, {'e': ['—', 'º', 'R'], 'a': ['B', 'E', 'M'], 's': ['∫', 'À', 'W'], 't': ['P', 'I', '≈'], 'n': ['u', 'V', 'A'], 'r': ['y', '∑', 'X'], 'i': ['Z', 'H', '–'], 'o': ['+', '£', 'T'], 'h': ['∞', 'µ', 'O'], 'l': ['L', 'N', '√'], 'c': ['æ', '•', 'π'], 'd': ['∏', 'J', '^'], 'p': ['G', '‘', 'D'], 'g': ['“', 'F'], 'm': ['/'], 'u': ['S', 'ƒ'], 'k': ['K']}), -513.1234285140001)]\n",
      "Working on symbol:  Ç\n",
      "[(defaultdict(<class 'dict'>, {'e': ['—', 'º', 'R'], 'a': ['B', 'E', 'M'], 's': ['∫', 'À', 'W'], 't': ['P', 'I', '≈'], 'n': ['u', 'V', 'A'], 'r': ['y', '∑', 'X'], 'i': ['Z', 'H', '–'], 'o': ['+', '£', 'T'], 'h': ['∞', 'µ', 'O'], 'l': ['L', 'N', '√'], 'c': ['æ', '•', 'π'], 'd': ['∏', 'J', 'Ç'], 'p': ['G', '‘', 'D'], 'g': ['“', 'F'], 'm': ['/'], 'u': ['^', 'ƒ'], 'k': ['S'], 'z': ['K']}), -527.0187400740003), (defaultdict(<class 'dict'>, {'e': ['—', 'º', 'R'], 'a': ['B', 'E', 'M'], 's': ['∫', 'À', 'W'], 't': ['P', 'I', '≈'], 'n': ['u', 'V', 'A'], 'r': ['y', '∑', 'X'], 'i': ['Z', 'H', '–'], 'o': ['+', '£', 'T'], 'h': ['∞', 'µ', 'O'], 'l': ['L', 'N', '√'], 'c': ['æ', '•', 'π'], 'd': ['∏', 'J', '^'], 'p': ['G', '‘', 'D'], 'g': ['“', 'F'], 'm': ['/'], 'f': ['S'], 'u': ['ƒ'], 'z': ['K'], 'b': ['Ç']}), -527.4305169740004), (defaultdict(<class 'dict'>, {'e': ['—', 'º', 'R'], 'a': ['B', 'E', 'M'], 's': ['∫', 'À', 'W'], 't': ['P', 'I', '≈'], 'n': ['u', 'V', 'A'], 'r': ['y', '∑', 'X'], 'i': ['Z', 'H', '–'], 'o': ['+', '£', 'T'], 'h': ['∞', 'µ', 'O'], 'l': ['L', 'N', '√'], 'c': ['æ', '•', 'π'], 'd': ['∏', 'J', '^'], 'p': ['G', '‘', 'D'], 'g': ['“', 'F'], 'm': ['/', 'Ç'], 'f': ['S'], 'u': ['ƒ'], 'z': ['K']}), -527.9623084340004), (defaultdict(<class 'dict'>, {'e': ['—', 'º', 'R'], 'a': ['B', 'E', 'M'], 's': ['∫', 'À', 'W'], 't': ['P', 'I', '≈'], 'n': ['u', 'V', 'A'], 'r': ['y', '∑', 'X'], 'i': ['Z', 'H', '–'], 'o': ['+', '£', 'T'], 'h': ['∞', 'µ', 'O'], 'l': ['L', 'N', '√'], 'c': ['æ', '•', 'π'], 'd': ['∏', 'J', '^'], 'p': ['G', '‘', 'D'], 'g': ['“', 'F'], 'm': ['/'], 'u': ['S', 'ƒ'], 'z': ['K'], 'b': ['Ç']}), -527.9779776540003), (defaultdict(<class 'dict'>, {'e': ['—', 'º', 'R'], 'a': ['B', 'E', 'M'], 's': ['∫', 'À', 'W'], 't': ['P', 'I', '≈'], 'n': ['u', 'V', 'A'], 'r': ['y', '∑', 'X'], 'i': ['Z', 'H', '–'], 'o': ['+', '£', 'T'], 'h': ['∞', 'µ', 'O'], 'l': ['L', 'N', '√'], 'c': ['æ', '•', 'π'], 'd': ['∏', 'J', '^'], 'p': ['G', '‘', 'D'], 'g': ['“', 'F', 'Ç'], 'm': ['/'], 'f': ['S'], 'u': ['ƒ'], 'z': ['K']}), -528.4288506740005), (defaultdict(<class 'dict'>, {'e': ['—', 'º', 'R'], 'a': ['B', 'E', 'M'], 's': ['∫', 'À', 'W'], 't': ['P', 'I', '≈'], 'n': ['u', 'V', 'A'], 'r': ['y', '∑', 'X'], 'i': ['Z', 'H', '–'], 'o': ['+', '£', 'T'], 'h': ['∞', 'µ', 'O'], 'l': ['L', 'N', '√'], 'c': ['æ', '•', 'π'], 'd': ['∏', 'J', '^'], 'p': ['G', '‘', 'D'], 'g': ['“', 'F'], 'm': ['/', 'Ç'], 'u': ['S', 'ƒ'], 'z': ['K']}), -528.5097691140003), (defaultdict(<class 'dict'>, {'e': ['—', 'º', 'R'], 'a': ['B', 'E', 'M'], 's': ['∫', 'À', 'W'], 't': ['P', 'I', '≈'], 'n': ['u', 'V', 'A'], 'r': ['y', '∑', 'X'], 'i': ['Z', 'H', '–'], 'o': ['+', '£', 'T'], 'h': ['∞', 'µ', 'O'], 'l': ['L', 'N', '√'], 'c': ['æ', '•', 'π'], 'd': ['∏', 'J', '^'], 'p': ['G', '‘', 'D'], 'g': ['“', 'F'], 'm': ['/'], 'f': ['S'], 'u': ['ƒ'], 'z': ['K'], 'x': ['Ç']}), -528.7869249740004), (defaultdict(<class 'dict'>, {'e': ['—', 'º', 'R'], 'a': ['B', 'E', 'M'], 's': ['∫', 'À', 'W'], 't': ['P', 'I', '≈'], 'n': ['u', 'V', 'A'], 'r': ['y', '∑', 'X'], 'i': ['Z', 'H', '–'], 'o': ['+', '£', 'T'], 'h': ['∞', 'µ', 'O'], 'l': ['L', 'N', '√'], 'c': ['æ', '•', 'π'], 'd': ['∏', 'J', '^'], 'p': ['G', '‘', 'D'], 'g': ['“', 'F', 'Ç'], 'm': ['/'], 'u': ['S', 'ƒ'], 'z': ['K']}), -528.9763113540004)]\n",
      "Working on symbol:  Q\n",
      "[(defaultdict(<class 'dict'>, {'e': ['—', 'º', 'R'], 'a': ['B', 'E', 'M'], 's': ['∫', 'À', 'W'], 't': ['P', 'I', '≈'], 'n': ['u', 'V', 'A'], 'r': ['y', '∑', 'X'], 'i': ['Z', 'H', '–'], 'o': ['+', '£', 'T'], 'h': ['∞', 'µ', 'O'], 'l': ['L', 'N', '√'], 'c': ['æ', '•', 'π'], 'd': ['∏', 'J', 'Ç'], 'p': ['G', '‘', 'D'], 'g': ['“', 'F'], 'm': ['/'], 'u': ['^', 'ƒ', 'Q'], 'k': ['S'], 'z': ['K']}), -541.4404873340002), (defaultdict(<class 'dict'>, {'e': ['—', 'º', 'R'], 'a': ['B', 'E', 'M'], 's': ['∫', 'À', 'W'], 't': ['P', 'I', '≈'], 'n': ['u', 'V', 'A'], 'r': ['y', '∑', 'X'], 'i': ['Z', 'H', '–'], 'o': ['+', '£', 'T'], 'h': ['∞', 'µ', 'O'], 'l': ['L', 'N', '√'], 'c': ['æ', '•', 'π'], 'd': ['∏', 'J', '^'], 'p': ['G', '‘', 'D'], 'g': ['“', 'F'], 'm': ['/'], 'f': ['S'], 'u': ['ƒ', 'Q'], 'z': ['K'], 'b': ['Ç']}), -544.1047486340002), (defaultdict(<class 'dict'>, {'e': ['—', 'º', 'R'], 'a': ['B', 'E', 'M'], 's': ['∫', 'À', 'W'], 't': ['P', 'I', '≈'], 'n': ['u', 'V', 'A'], 'r': ['y', '∑', 'X'], 'i': ['Z', 'H', '–'], 'o': ['+', '£', 'T'], 'h': ['∞', 'µ', 'O'], 'l': ['L', 'N', '√'], 'c': ['æ', '•', 'π'], 'd': ['∏', 'J', '^'], 'p': ['G', '‘', 'D'], 'g': ['“', 'F'], 'm': ['/', 'Ç'], 'f': ['S'], 'u': ['ƒ', 'Q'], 'z': ['K']}), -544.6365400940002), (defaultdict(<class 'dict'>, {'e': ['—', 'º', 'R'], 'a': ['B', 'E', 'M'], 's': ['∫', 'À', 'W'], 't': ['P', 'I', '≈'], 'n': ['u', 'V', 'A'], 'r': ['y', '∑', 'X'], 'i': ['Z', 'H', '–'], 'o': ['+', '£', 'T'], 'h': ['∞', 'µ', 'O'], 'l': ['L', 'N', '√'], 'c': ['æ', '•', 'π'], 'd': ['∏', 'J', '^'], 'p': ['G', '‘', 'D'], 'g': ['“', 'F', 'Ç'], 'm': ['/'], 'f': ['S'], 'u': ['ƒ', 'Q'], 'z': ['K']}), -545.1030823340003), (defaultdict(<class 'dict'>, {'e': ['—', 'º', 'R'], 'a': ['B', 'E', 'M'], 's': ['∫', 'À', 'W'], 't': ['P', 'I', '≈'], 'n': ['u', 'V', 'A'], 'r': ['y', '∑', 'X'], 'i': ['Z', 'H', '–'], 'o': ['+', '£', 'T'], 'h': ['∞', 'µ', 'O'], 'l': ['L', 'N', '√'], 'c': ['æ', '•', 'π'], 'd': ['∏', 'J', '^'], 'p': ['G', '‘', 'D'], 'g': ['“', 'F'], 'm': ['/'], 'f': ['S'], 'u': ['ƒ', 'Q'], 'z': ['K'], 'x': ['Ç']}), -545.4611566340002), (defaultdict(<class 'dict'>, {'e': ['—', 'º', 'R'], 'a': ['B', 'E', 'M'], 's': ['∫', 'À', 'W'], 't': ['P', 'I', '≈'], 'n': ['u', 'V', 'A'], 'r': ['y', '∑', 'X'], 'i': ['Z', 'H', '–'], 'o': ['+', '£', 'T'], 'h': ['∞', 'µ', 'O'], 'l': ['L', 'N', '√'], 'c': ['æ', '•', 'π'], 'd': ['∏', 'J', '^'], 'p': ['G', '‘', 'D'], 'g': ['“', 'F'], 'm': ['/'], 'u': ['S', 'ƒ', 'Q'], 'z': ['K'], 'b': ['Ç']}), -545.8054906140001), (defaultdict(<class 'dict'>, {'e': ['—', 'º', 'R'], 'a': ['B', 'E', 'M'], 's': ['∫', 'À', 'W'], 't': ['P', 'I', '≈'], 'n': ['u', 'V', 'A'], 'r': ['y', '∑', 'X'], 'i': ['Z', 'H', '–'], 'o': ['+', '£', 'T'], 'h': ['∞', 'µ', 'O'], 'l': ['L', 'N', '√'], 'c': ['æ', '•', 'π'], 'd': ['∏', 'J', '^'], 'p': ['G', '‘', 'D'], 'g': ['“', 'F'], 'm': ['/', 'Ç'], 'u': ['S', 'ƒ', 'Q'], 'z': ['K']}), -546.3372820740002), (defaultdict(<class 'dict'>, {'e': ['—', 'º', 'R'], 'a': ['B', 'E', 'M'], 's': ['∫', 'À', 'W'], 't': ['P', 'I', '≈'], 'n': ['u', 'V', 'A'], 'r': ['y', '∑', 'X'], 'i': ['Z', 'H', '–'], 'o': ['+', '£', 'T'], 'h': ['∞', 'µ', 'O'], 'l': ['L', 'N', '√'], 'c': ['æ', '•', 'π'], 'd': ['∏', 'J', '^'], 'p': ['G', '‘', 'D'], 'g': ['“', 'F', 'Ç'], 'm': ['/'], 'u': ['S', 'ƒ', 'Q'], 'z': ['K']}), -546.8038243140003)]\n",
      "Working on symbol:  Ã\n"
     ]
    },
    {
     "name": "stdout",
     "output_type": "stream",
     "text": [
      "[(defaultdict(<class 'dict'>, {'e': ['—', 'º', 'R'], 'a': ['B', 'E', 'M'], 's': ['∫', 'À', 'W'], 't': ['P', 'I', '≈'], 'n': ['u', 'V', 'A'], 'r': ['y', '∑', 'X'], 'i': ['Z', 'H', '–'], 'o': ['+', '£', 'T'], 'h': ['∞', 'µ', 'O'], 'l': ['L', 'N', '√'], 'c': ['æ', '•', 'π'], 'd': ['∏', 'J', 'Ç'], 'p': ['G', '‘', 'D'], 'g': ['“', 'F'], 'm': ['/'], 'u': ['^', 'ƒ', 'Q'], 'k': ['S'], 'z': ['K'], 'y': ['Ã']}), -554.7756872720003), (defaultdict(<class 'dict'>, {'e': ['—', 'º', 'R'], 'a': ['B', 'E', 'M'], 's': ['∫', 'À', 'W'], 't': ['P', 'I', '≈'], 'n': ['u', 'V', 'A'], 'r': ['y', '∑', 'X'], 'i': ['Z', 'H', '–'], 'o': ['+', '£', 'T'], 'h': ['∞', 'µ', 'O'], 'l': ['L', 'N', '√'], 'c': ['æ', '•', 'π'], 'd': ['∏', 'J', 'Ç'], 'p': ['G', '‘', 'D'], 'g': ['“', 'F', 'Ã'], 'm': ['/'], 'u': ['^', 'ƒ', 'Q'], 'k': ['S'], 'z': ['K']}), -555.7407065320001), (defaultdict(<class 'dict'>, {'e': ['—', 'º', 'R'], 'a': ['B', 'E', 'M'], 's': ['∫', 'À', 'W'], 't': ['P', 'I', '≈'], 'n': ['u', 'V', 'A'], 'r': ['y', '∑', 'X'], 'i': ['Z', 'H', '–'], 'o': ['+', '£', 'T'], 'h': ['∞', 'µ', 'O'], 'l': ['L', 'N', '√'], 'c': ['æ', '•', 'π'], 'd': ['∏', 'J', 'Ç'], 'p': ['G', '‘', 'D'], 'g': ['“', 'F'], 'm': ['/'], 'u': ['^', 'ƒ', 'Q'], 'k': ['S'], 'z': ['K'], 'w': ['Ã']}), -556.2782598960003), (defaultdict(<class 'dict'>, {'e': ['—', 'º', 'R'], 'a': ['B', 'E', 'M'], 's': ['∫', 'À', 'W'], 't': ['P', 'I', '≈'], 'n': ['u', 'V', 'A'], 'r': ['y', '∑', 'X'], 'i': ['Z', 'H', '–'], 'o': ['+', '£', 'T'], 'h': ['∞', 'µ', 'O'], 'l': ['L', 'N', '√'], 'c': ['æ', '•', 'π'], 'd': ['∏', 'J', '^'], 'p': ['G', '‘', 'D'], 'g': ['“', 'F'], 'm': ['/'], 'f': ['S'], 'u': ['ƒ', 'Q'], 'z': ['K'], 'b': ['Ç'], 'w': ['Ã']}), -557.7760413960003), (defaultdict(<class 'dict'>, {'e': ['—', 'º', 'R'], 'a': ['B', 'E', 'M'], 's': ['∫', 'À', 'W'], 't': ['P', 'I', '≈'], 'n': ['u', 'V', 'A'], 'r': ['y', '∑', 'X'], 'i': ['Z', 'H', '–'], 'o': ['+', '£', 'T'], 'h': ['∞', 'µ', 'O'], 'l': ['L', 'N', '√'], 'c': ['æ', '•', 'π'], 'd': ['∏', 'J', 'Ç'], 'p': ['G', '‘', 'D'], 'g': ['“', 'F'], 'm': ['/'], 'u': ['^', 'ƒ', 'Q'], 'k': ['S'], 'z': ['K'], 'v': ['Ã']}), -557.8921919540002), (defaultdict(<class 'dict'>, {'e': ['—', 'º', 'R'], 'a': ['B', 'E', 'M'], 's': ['∫', 'À', 'W'], 't': ['P', 'I', '≈'], 'n': ['u', 'V', 'A'], 'r': ['y', '∑', 'X'], 'i': ['Z', 'H', '–'], 'o': ['+', '£', 'T'], 'h': ['∞', 'µ', 'O'], 'l': ['L', 'N', '√'], 'c': ['æ', '•', 'π'], 'd': ['∏', 'J', '^'], 'p': ['G', '‘', 'D'], 'g': ['“', 'F'], 'm': ['/'], 'f': ['S'], 'u': ['ƒ', 'Q'], 'z': ['K'], 'b': ['Ç'], 'y': ['Ã']}), -557.9711947720003), (defaultdict(<class 'dict'>, {'e': ['—', 'º', 'R'], 'a': ['B', 'E', 'M'], 's': ['∫', 'À', 'W'], 't': ['P', 'I', '≈'], 'n': ['u', 'V', 'A'], 'r': ['y', '∑', 'X'], 'i': ['Z', 'H', '–'], 'o': ['+', '£', 'T'], 'h': ['∞', 'µ', 'O'], 'l': ['L', 'N', '√'], 'c': ['æ', '•', 'π'], 'd': ['∏', 'J', '^'], 'p': ['G', '‘', 'D'], 'g': ['“', 'F'], 'm': ['/', 'Ç'], 'f': ['S'], 'u': ['ƒ', 'Q'], 'z': ['K'], 'w': ['Ã']}), -558.3078328560005), (defaultdict(<class 'dict'>, {'e': ['—', 'º', 'R'], 'a': ['B', 'E', 'M'], 's': ['∫', 'À', 'W'], 't': ['P', 'I', '≈'], 'n': ['u', 'V', 'A'], 'r': ['y', '∑', 'X'], 'i': ['Z', 'H', '–'], 'o': ['+', '£', 'T'], 'h': ['∞', 'µ', 'O'], 'l': ['L', 'N', '√'], 'c': ['æ', '•', 'π'], 'd': ['∏', 'J', '^'], 'p': ['G', '‘', 'D'], 'g': ['“', 'F'], 'm': ['/', 'Ç'], 'f': ['S'], 'u': ['ƒ', 'Q'], 'z': ['K'], 'y': ['Ã']}), -558.5029862320005)]\n",
      "Working on symbol:  \\\n",
      "[(defaultdict(<class 'dict'>, {'e': ['—', 'º', 'R'], 'a': ['B', 'E', 'M'], 's': ['∫', 'À', 'W'], 't': ['P', 'I', '≈'], 'n': ['u', 'V', 'A'], 'r': ['y', '∑', 'X'], 'i': ['Z', 'H', '–'], 'o': ['+', '£', 'T'], 'h': ['∞', 'µ', 'O'], 'l': ['L', 'N', '√'], 'c': ['æ', '•', 'π'], 'd': ['∏', 'J', 'Ç'], 'p': ['G', '‘', 'D'], 'g': ['“', 'F'], 'm': ['/'], 'u': ['^', 'ƒ', 'Q'], 'k': ['S'], 'z': ['K'], 'y': ['Ã'], 'b': ['\\\\']}), -562.8858601820001), (defaultdict(<class 'dict'>, {'e': ['—', 'º', 'R'], 'a': ['B', 'E', 'M'], 's': ['∫', 'À', 'W'], 't': ['P', 'I', '≈'], 'n': ['u', 'V', 'A'], 'r': ['y', '∑', 'X'], 'i': ['Z', 'H', '–'], 'o': ['+', '£', 'T'], 'h': ['∞', 'µ', 'O'], 'l': ['L', 'N', '√'], 'c': ['æ', '•', 'π'], 'd': ['∏', 'J', 'Ç'], 'p': ['G', '‘', 'D'], 'g': ['“', 'F', 'Ã'], 'm': ['/'], 'u': ['^', 'ƒ', 'Q'], 'k': ['S'], 'z': ['K'], 'b': ['\\\\']}), -563.8508794420002), (defaultdict(<class 'dict'>, {'e': ['—', 'º', 'R'], 'a': ['B', 'E', 'M'], 's': ['∫', 'À', 'W'], 't': ['P', 'I', '≈'], 'n': ['u', 'V', 'A'], 'r': ['y', '∑', 'X'], 'i': ['Z', 'H', '–'], 'o': ['+', '£', 'T'], 'h': ['∞', 'µ', 'O'], 'l': ['L', 'N', '√'], 'c': ['æ', '•', 'π'], 'd': ['∏', 'J', 'Ç'], 'p': ['G', '‘', 'D'], 'g': ['“', 'F'], 'm': ['/'], 'u': ['^', 'ƒ', 'Q'], 'k': ['S'], 'z': ['K'], 'w': ['Ã'], 'b': ['\\\\']}), -564.3884328060003), (defaultdict(<class 'dict'>, {'e': ['—', 'º', 'R'], 'a': ['B', 'E', 'M'], 's': ['∫', 'À', 'W'], 't': ['P', 'I', '≈'], 'n': ['u', 'V', 'A'], 'r': ['y', '∑', 'X'], 'i': ['Z', 'H', '–'], 'o': ['+', '£', 'T'], 'h': ['∞', 'µ', 'O'], 'l': ['L', 'N', '√'], 'c': ['æ', '•', 'π'], 'd': ['∏', 'J', '^'], 'p': ['G', '‘', 'D'], 'g': ['“', 'F'], 'm': ['/'], 'f': ['S'], 'u': ['ƒ', 'Q'], 'z': ['K'], 'b': ['Ç', '\\\\'], 'w': ['Ã']}), -565.8862143060003), (defaultdict(<class 'dict'>, {'e': ['—', 'º', 'R'], 'a': ['B', 'E', 'M'], 's': ['∫', 'À', 'W'], 't': ['P', 'I', '≈'], 'n': ['u', 'V', 'A'], 'r': ['y', '∑', 'X'], 'i': ['Z', 'H', '–'], 'o': ['+', '£', 'T'], 'h': ['∞', 'µ', 'O'], 'l': ['L', 'N', '√'], 'c': ['æ', '•', 'π'], 'd': ['∏', 'J', 'Ç'], 'p': ['G', '‘', 'D'], 'g': ['“', 'F'], 'm': ['/'], 'u': ['^', 'ƒ', 'Q'], 'k': ['S'], 'z': ['K'], 'v': ['Ã'], 'b': ['\\\\']}), -566.0023648640001), (defaultdict(<class 'dict'>, {'e': ['—', 'º', 'R'], 'a': ['B', 'E', 'M'], 's': ['∫', 'À', 'W'], 't': ['P', 'I', '≈'], 'n': ['u', 'V', 'A'], 'r': ['y', '∑', 'X'], 'i': ['Z', 'H', '–'], 'o': ['+', '£', 'T'], 'h': ['∞', 'µ', 'O'], 'l': ['L', 'N', '√'], 'c': ['æ', '•', 'π'], 'd': ['∏', 'J', '^'], 'p': ['G', '‘', 'D'], 'g': ['“', 'F'], 'm': ['/'], 'f': ['S'], 'u': ['ƒ', 'Q'], 'z': ['K'], 'b': ['Ç', '\\\\'], 'y': ['Ã']}), -566.0813676820003), (defaultdict(<class 'dict'>, {'e': ['—', 'º', 'R'], 'a': ['B', 'E', 'M'], 's': ['∫', 'À', 'W'], 't': ['P', 'I', '≈'], 'n': ['u', 'V', 'A'], 'r': ['y', '∑', 'X'], 'i': ['Z', 'H', '–'], 'o': ['+', '£', 'T'], 'h': ['∞', 'µ', 'O'], 'l': ['L', 'N', '√'], 'c': ['æ', '•', 'π'], 'd': ['∏', 'J', '^'], 'p': ['G', '‘', 'D'], 'g': ['“', 'F'], 'm': ['/', 'Ç'], 'f': ['S'], 'u': ['ƒ', 'Q'], 'z': ['K'], 'w': ['Ã'], 'b': ['\\\\']}), -566.4180057660003), (defaultdict(<class 'dict'>, {'e': ['—', 'º', 'R'], 'a': ['B', 'E', 'M'], 's': ['∫', 'À', 'W'], 't': ['P', 'I', '≈'], 'n': ['u', 'V', 'A'], 'r': ['y', '∑', 'X'], 'i': ['Z', 'H', '–'], 'o': ['+', '£', 'T'], 'h': ['∞', 'µ', 'O'], 'l': ['L', 'N', '√'], 'c': ['æ', '•', 'π'], 'd': ['∏', 'J', '^'], 'p': ['G', '‘', 'D'], 'g': ['“', 'F'], 'm': ['/', 'Ç'], 'f': ['S'], 'u': ['ƒ', 'Q'], 'z': ['K'], 'y': ['Ã'], 'b': ['\\\\']}), -566.6131591420003)]\n",
      "Working on symbol:  ¢\n",
      "[(defaultdict(<class 'dict'>, {'e': ['—', 'º', 'R'], 'a': ['B', 'E', 'M'], 's': ['∫', 'À', 'W'], 't': ['P', 'I', '≈'], 'n': ['u', 'V', 'A'], 'r': ['y', '∑', 'X'], 'i': ['Z', 'H', '–'], 'o': ['+', '£', 'T'], 'h': ['∞', 'µ', 'O'], 'l': ['L', 'N', '√'], 'c': ['æ', '•', 'π'], 'd': ['∏', 'J', 'Ç'], 'p': ['G', '‘', 'D'], 'g': ['“', 'F'], 'm': ['/'], 'u': ['^', 'ƒ', 'Q'], 'k': ['S'], 'z': ['K'], 'y': ['Ã'], 'b': ['\\\\'], 'f': ['¢']}), -574.8254721720002), (defaultdict(<class 'dict'>, {'e': ['—', 'º', 'R'], 'a': ['B', 'E', 'M'], 's': ['∫', 'À', 'W'], 't': ['P', 'I', '≈'], 'n': ['u', 'V', 'A'], 'r': ['y', '∑', 'X'], 'i': ['Z', 'H', '–'], 'o': ['+', '£', 'T'], 'h': ['∞', 'µ', 'O'], 'l': ['L', 'N', '√'], 'c': ['æ', '•', 'π'], 'd': ['∏', 'J', 'Ç'], 'p': ['G', '‘', 'D'], 'g': ['“', 'F'], 'm': ['/'], 'u': ['^', 'ƒ', 'Q'], 'k': ['S'], 'z': ['K'], 'y': ['Ã', '¢'], 'b': ['\\\\']}), -575.5716041320001), (defaultdict(<class 'dict'>, {'e': ['—', 'º', 'R'], 'a': ['B', 'E', 'M'], 's': ['∫', 'À', 'W'], 't': ['P', 'I', '≈'], 'n': ['u', 'V', 'A'], 'r': ['y', '∑', 'X'], 'i': ['Z', 'H', '–'], 'o': ['+', '£', 'T'], 'h': ['∞', 'µ', 'O'], 'l': ['L', 'N', '√'], 'c': ['æ', '•', 'π'], 'd': ['∏', 'J', 'Ç'], 'p': ['G', '‘', 'D'], 'g': ['“', 'F', 'Ã'], 'm': ['/'], 'u': ['^', 'ƒ', 'Q'], 'k': ['S'], 'z': ['K'], 'b': ['\\\\'], 'f': ['¢']}), -575.7904914320003), (defaultdict(<class 'dict'>, {'e': ['—', 'º', 'R'], 'a': ['B', 'E', 'M'], 's': ['∫', 'À', 'W'], 't': ['P', 'I', '≈'], 'n': ['u', 'V', 'A'], 'r': ['y', '∑', 'X'], 'i': ['Z', 'H', '–'], 'o': ['+', '£', 'T'], 'h': ['∞', 'µ', 'O'], 'l': ['L', 'N', '√'], 'c': ['æ', '•', 'π'], 'd': ['∏', 'J', '^'], 'p': ['G', '‘', 'D'], 'g': ['“', 'F'], 'm': ['/'], 'f': ['S', '¢'], 'u': ['ƒ', 'Q'], 'z': ['K'], 'b': ['Ç', '\\\\'], 'w': ['Ã']}), -576.1940839060004), (defaultdict(<class 'dict'>, {'e': ['—', 'º', 'R'], 'a': ['B', 'E', 'M'], 's': ['∫', 'À', 'W'], 't': ['P', 'I', '≈'], 'n': ['u', 'V', 'A'], 'r': ['y', '∑', 'X'], 'i': ['Z', 'H', '–'], 'o': ['+', '£', 'T'], 'h': ['∞', 'µ', 'O'], 'l': ['L', 'N', '√'], 'c': ['æ', '•', 'π'], 'd': ['∏', 'J', 'Ç'], 'p': ['G', '‘', 'D'], 'g': ['“', 'F'], 'm': ['/', '¢'], 'u': ['^', 'ƒ', 'Q'], 'k': ['S'], 'z': ['K'], 'y': ['Ã'], 'b': ['\\\\']}), -576.2660373120002), (defaultdict(<class 'dict'>, {'e': ['—', 'º', 'R'], 'a': ['B', 'E', 'M'], 's': ['∫', 'À', 'W'], 't': ['P', 'I', '≈'], 'n': ['u', 'V', 'A'], 'r': ['y', '∑', 'X'], 'i': ['Z', 'H', '–'], 'o': ['+', '£', 'T'], 'h': ['∞', 'µ', 'O'], 'l': ['L', 'N', '√'], 'c': ['æ', '•', 'π'], 'd': ['∏', 'J', 'Ç'], 'p': ['G', '‘', 'D'], 'g': ['“', 'F'], 'm': ['/'], 'u': ['^', 'ƒ', 'Q'], 'k': ['S'], 'z': ['K'], 'w': ['Ã'], 'b': ['\\\\'], 'f': ['¢']}), -576.3280447960003), (defaultdict(<class 'dict'>, {'e': ['—', 'º', 'R'], 'a': ['B', 'E', 'M'], 's': ['∫', 'À', 'W'], 't': ['P', 'I', '≈'], 'n': ['u', 'V', 'A'], 'r': ['y', '∑', 'X'], 'i': ['Z', 'H', '–'], 'o': ['+', '£', 'T'], 'h': ['∞', 'µ', 'O'], 'l': ['L', 'N', '√'], 'c': ['æ', '•', 'π'], 'd': ['∏', 'J', '^'], 'p': ['G', '‘', 'D'], 'g': ['“', 'F'], 'm': ['/'], 'f': ['S', '¢'], 'u': ['ƒ', 'Q'], 'z': ['K'], 'b': ['Ç', '\\\\'], 'y': ['Ã']}), -576.3892372820005), (defaultdict(<class 'dict'>, {'e': ['—', 'º', 'R'], 'a': ['B', 'E', 'M'], 's': ['∫', 'À', 'W'], 't': ['P', 'I', '≈'], 'n': ['u', 'V', 'A'], 'r': ['y', '∑', 'X'], 'i': ['Z', 'H', '–'], 'o': ['+', '£', 'T'], 'h': ['∞', 'µ', 'O'], 'l': ['L', 'N', '√'], 'c': ['æ', '•', 'π'], 'd': ['∏', 'J', 'Ç'], 'p': ['G', '‘', 'D'], 'g': ['“', 'F'], 'm': ['/'], 'u': ['^', 'ƒ', 'Q'], 'k': ['S'], 'z': ['K'], 'y': ['Ã'], 'b': ['\\\\'], 'j': ['¢']}), -576.5296731020002)]\n",
      "Working on symbol:  §\n",
      "[(defaultdict(<class 'dict'>, {'e': ['—', 'º', 'R'], 'a': ['B', 'E', 'M'], 's': ['∫', 'À', 'W'], 't': ['P', 'I', '≈'], 'n': ['u', 'V', 'A'], 'r': ['y', '∑', 'X'], 'i': ['Z', 'H', '–'], 'o': ['+', '£', 'T'], 'h': ['∞', 'µ', 'O'], 'l': ['L', 'N', '√'], 'c': ['æ', '•', 'π'], 'd': ['∏', 'J', '^'], 'p': ['G', '‘', 'D'], 'g': ['“', 'F'], 'm': ['/'], 'f': ['S', '¢'], 'u': ['ƒ', 'Q', '§'], 'z': ['K'], 'b': ['Ç', '\\\\'], 'w': ['Ã']}), -585.3101205450004), (defaultdict(<class 'dict'>, {'e': ['—', 'º', 'R'], 'a': ['B', 'E', 'M'], 's': ['∫', 'À', 'W'], 't': ['P', 'I', '≈'], 'n': ['u', 'V', 'A'], 'r': ['y', '∑', 'X'], 'i': ['Z', 'H', '–'], 'o': ['+', '£', 'T'], 'h': ['∞', 'µ', 'O'], 'l': ['L', 'N', '√'], 'c': ['æ', '•', 'π'], 'd': ['∏', 'J', '^'], 'p': ['G', '‘', 'D'], 'g': ['“', 'F'], 'm': ['/'], 'f': ['S', '¢'], 'u': ['ƒ', 'Q', '§'], 'z': ['K'], 'b': ['Ç', '\\\\'], 'y': ['Ã']}), -585.5052739210004), (defaultdict(<class 'dict'>, {'e': ['—', 'º', 'R'], 'a': ['B', 'E', 'M'], 's': ['∫', 'À', 'W'], 't': ['P', 'I', '≈'], 'n': ['u', 'V', 'A'], 'r': ['y', '∑', 'X'], 'i': ['Z', 'H', '–'], 'o': ['+', '£', 'T'], 'h': ['∞', 'µ', 'O'], 'l': ['L', 'N', '√'], 'c': ['æ', '•', 'π'], 'd': ['∏', 'J', 'Ç'], 'p': ['G', '‘', 'D'], 'g': ['“', 'F'], 'm': ['/'], 'u': ['^', 'ƒ', 'Q'], 'k': ['S'], 'z': ['K'], 'y': ['Ã', '§'], 'b': ['\\\\'], 'f': ['¢']}), -589.5386233720004), (defaultdict(<class 'dict'>, {'e': ['—', 'º', 'R'], 'a': ['B', 'E', 'M'], 's': ['∫', 'À', 'W'], 't': ['P', 'I', '≈'], 'n': ['u', 'V', 'A'], 'r': ['y', '∑', 'X'], 'i': ['Z', 'H', '–'], 'o': ['+', '£', 'T'], 'h': ['∞', 'µ', 'O'], 'l': ['L', 'N', '√'], 'c': ['æ', '•', 'π'], 'd': ['∏', 'J', 'Ç'], 'p': ['G', '‘', 'D'], 'g': ['“', 'F'], 'm': ['/'], 'u': ['^', 'ƒ', 'Q'], 'k': ['S'], 'z': ['K'], 'y': ['Ã', '¢', '§'], 'b': ['\\\\']}), -589.7793713320003), (defaultdict(<class 'dict'>, {'e': ['—', 'º', 'R'], 'a': ['B', 'E', 'M'], 's': ['∫', 'À', 'W'], 't': ['P', 'I', '≈'], 'n': ['u', 'V', 'A'], 'r': ['y', '∑', 'X'], 'i': ['Z', 'H', '–'], 'o': ['+', '£', 'T'], 'h': ['∞', 'µ', 'O'], 'l': ['L', 'N', '√'], 'c': ['æ', '•', 'π'], 'd': ['∏', 'J', 'Ç'], 'p': ['G', '‘', 'D'], 'g': ['“', 'F'], 'm': ['/'], 'u': ['^', 'ƒ', 'Q'], 'k': ['S'], 'z': ['K'], 'y': ['Ã', '§'], 'b': ['\\\\'], 'j': ['¢']}), -589.8814743020004), (defaultdict(<class 'dict'>, {'e': ['—', 'º', 'R'], 'a': ['B', 'E', 'M'], 's': ['∫', 'À', 'W'], 't': ['P', 'I', '≈'], 'n': ['u', 'V', 'A'], 'r': ['y', '∑', 'X'], 'i': ['Z', 'H', '–'], 'o': ['+', '£', 'T'], 'h': ['∞', 'µ', 'O'], 'l': ['L', 'N', '√'], 'c': ['æ', '•', 'π'], 'd': ['∏', 'J', 'Ç'], 'p': ['G', '‘', 'D'], 'g': ['“', 'F'], 'm': ['/', '§'], 'u': ['^', 'ƒ', 'Q'], 'k': ['S'], 'z': ['K'], 'y': ['Ã'], 'b': ['\\\\'], 'f': ['¢']}), -590.1316735120004), (defaultdict(<class 'dict'>, {'e': ['—', 'º', 'R'], 'a': ['B', 'E', 'M'], 's': ['∫', 'À', 'W'], 't': ['P', 'I', '≈'], 'n': ['u', 'V', 'A'], 'r': ['y', '∑', 'X'], 'i': ['Z', 'H', '–'], 'o': ['+', '£', 'T'], 'h': ['∞', 'µ', 'O'], 'l': ['L', 'N', '√'], 'c': ['æ', '•', 'π'], 'd': ['∏', 'J', 'Ç'], 'p': ['G', '‘', 'D'], 'g': ['“', 'F'], 'm': ['/', '¢'], 'u': ['^', 'ƒ', 'Q'], 'k': ['S'], 'z': ['K'], 'y': ['Ã', '§'], 'b': ['\\\\']}), -590.2851645120003), (defaultdict(<class 'dict'>, {'e': ['—', 'º', 'R'], 'a': ['B', 'E', 'M'], 's': ['∫', 'À', 'W'], 't': ['P', 'I', '≈'], 'n': ['u', 'V', 'A'], 'r': ['y', '∑', 'X'], 'i': ['Z', 'H', '–'], 'o': ['+', '£', 'T'], 'h': ['∞', 'µ', 'O'], 'l': ['L', 'N', '√'], 'c': ['æ', '•', 'π'], 'd': ['∏', 'J', '^'], 'p': ['G', '‘', 'D'], 'g': ['“', 'F'], 'm': ['/'], 'f': ['S', '¢'], 'u': ['ƒ', 'Q'], 'z': ['K'], 'b': ['Ç', '\\\\'], 'w': ['Ã'], 'y': ['§']}), -590.3673270560004)]\n",
      "Working on symbol:  Ω\n"
     ]
    },
    {
     "name": "stdout",
     "output_type": "stream",
     "text": [
      "[(defaultdict(<class 'dict'>, {'e': ['—', 'º', 'R'], 'a': ['B', 'E', 'M'], 's': ['∫', 'À', 'W'], 't': ['P', 'I', '≈'], 'n': ['u', 'V', 'A'], 'r': ['y', '∑', 'X'], 'i': ['Z', 'H', '–'], 'o': ['+', '£', 'T'], 'h': ['∞', 'µ', 'O'], 'l': ['L', 'N', '√'], 'c': ['æ', '•', 'π'], 'd': ['∏', 'J', '^'], 'p': ['G', '‘', 'D'], 'g': ['“', 'F'], 'm': ['/'], 'f': ['S', '¢'], 'u': ['ƒ', 'Q', '§'], 'z': ['K'], 'b': ['Ç', '\\\\', 'Ω'], 'w': ['Ã']}), -597.5144712450003), (defaultdict(<class 'dict'>, {'e': ['—', 'º', 'R'], 'a': ['B', 'E', 'M'], 's': ['∫', 'À', 'W'], 't': ['P', 'I', '≈'], 'n': ['u', 'V', 'A'], 'r': ['y', '∑', 'X'], 'i': ['Z', 'H', '–'], 'o': ['+', '£', 'T'], 'h': ['∞', 'µ', 'O'], 'l': ['L', 'N', '√'], 'c': ['æ', '•', 'π'], 'd': ['∏', 'J', '^'], 'p': ['G', '‘', 'D'], 'g': ['“', 'F'], 'm': ['/'], 'f': ['S', '¢'], 'u': ['ƒ', 'Q', '§'], 'z': ['K'], 'b': ['Ç', '\\\\', 'Ω'], 'y': ['Ã']}), -597.7096246210004), (defaultdict(<class 'dict'>, {'e': ['—', 'º', 'R'], 'a': ['B', 'E', 'M'], 's': ['∫', 'À', 'W'], 't': ['P', 'I', '≈'], 'n': ['u', 'V', 'A'], 'r': ['y', '∑', 'X'], 'i': ['Z', 'H', '–'], 'o': ['+', '£', 'T'], 'h': ['∞', 'µ', 'O'], 'l': ['L', 'N', '√'], 'c': ['æ', '•', 'π'], 'd': ['∏', 'J', '^'], 'p': ['G', '‘', 'D'], 'g': ['“', 'F'], 'm': ['/'], 'f': ['S', '¢'], 'u': ['ƒ', 'Q', '§'], 'z': ['K'], 'b': ['Ç', '\\\\'], 'w': ['Ã'], 'y': ['Ω']}), -598.1366657450005), (defaultdict(<class 'dict'>, {'e': ['—', 'º', 'R'], 'a': ['B', 'E', 'M'], 's': ['∫', 'À', 'W'], 't': ['P', 'I', '≈'], 'n': ['u', 'V', 'A'], 'r': ['y', '∑', 'X'], 'i': ['Z', 'H', '–'], 'o': ['+', '£', 'T'], 'h': ['∞', 'µ', 'O'], 'l': ['L', 'N', '√'], 'c': ['æ', '•', 'π'], 'd': ['∏', 'J', '^'], 'p': ['G', '‘', 'D'], 'g': ['“', 'F'], 'm': ['/'], 'f': ['S', '¢'], 'u': ['ƒ', 'Q', '§'], 'z': ['K'], 'b': ['Ç', '\\\\'], 'y': ['Ã', 'Ω']}), -598.3318191210004), (defaultdict(<class 'dict'>, {'e': ['—', 'º', 'R'], 'a': ['B', 'E', 'M'], 's': ['∫', 'À', 'W'], 't': ['P', 'I', '≈'], 'n': ['u', 'V', 'A'], 'r': ['y', '∑', 'X'], 'i': ['Z', 'H', '–'], 'o': ['+', '£', 'T'], 'h': ['∞', 'µ', 'O'], 'l': ['L', 'N', '√'], 'c': ['æ', '•', 'π'], 'd': ['∏', 'J', '^'], 'p': ['G', '‘', 'D'], 'g': ['“', 'F', 'Ω'], 'm': ['/'], 'f': ['S', '¢'], 'u': ['ƒ', 'Q', '§'], 'z': ['K'], 'b': ['Ç', '\\\\'], 'w': ['Ã']}), -598.5117829550004), (defaultdict(<class 'dict'>, {'e': ['—', 'º', 'R'], 'a': ['B', 'E', 'M'], 's': ['∫', 'À', 'W'], 't': ['P', 'I', '≈'], 'n': ['u', 'V', 'A'], 'r': ['y', '∑', 'X'], 'i': ['Z', 'H', '–'], 'o': ['+', '£', 'T'], 'h': ['∞', 'µ', 'O'], 'l': ['L', 'N', '√'], 'c': ['æ', '•', 'π'], 'd': ['∏', 'J', '^'], 'p': ['G', '‘', 'D'], 'g': ['“', 'F', 'Ω'], 'm': ['/'], 'f': ['S', '¢'], 'u': ['ƒ', 'Q', '§'], 'z': ['K'], 'b': ['Ç', '\\\\'], 'y': ['Ã']}), -598.7069363310004), (defaultdict(<class 'dict'>, {'e': ['—', 'º', 'R'], 'a': ['B', 'E', 'M'], 's': ['∫', 'À', 'W'], 't': ['P', 'I', '≈'], 'n': ['u', 'V', 'A'], 'r': ['y', '∑', 'X'], 'i': ['Z', 'H', '–'], 'o': ['+', '£', 'T'], 'h': ['∞', 'µ', 'O'], 'l': ['L', 'N', '√'], 'c': ['æ', '•', 'π'], 'd': ['∏', 'J', '^'], 'p': ['G', '‘', 'D'], 'g': ['“', 'F'], 'm': ['/'], 'f': ['S', '¢', 'Ω'], 'u': ['ƒ', 'Q', '§'], 'z': ['K'], 'b': ['Ç', '\\\\'], 'w': ['Ã']}), -599.2464335650003), (defaultdict(<class 'dict'>, {'e': ['—', 'º', 'R'], 'a': ['B', 'E', 'M'], 's': ['∫', 'À', 'W'], 't': ['P', 'I', '≈'], 'n': ['u', 'V', 'A'], 'r': ['y', '∑', 'X'], 'i': ['Z', 'H', '–'], 'o': ['+', '£', 'T'], 'h': ['∞', 'µ', 'O'], 'l': ['L', 'N', '√'], 'c': ['æ', '•', 'π'], 'd': ['∏', 'J', '^'], 'p': ['G', '‘', 'D'], 'g': ['“', 'F'], 'm': ['/'], 'f': ['S', '¢', 'Ω'], 'u': ['ƒ', 'Q', '§'], 'z': ['K'], 'b': ['Ç', '\\\\'], 'y': ['Ã']}), -599.4415869410003)]\n",
      "Working on symbol:  ∆\n",
      "[(defaultdict(<class 'dict'>, {'e': ['—', 'º', 'R'], 'a': ['B', 'E', 'M'], 's': ['∫', 'À', 'W'], 't': ['P', 'I', '≈'], 'n': ['u', 'V', 'A'], 'r': ['y', '∑', 'X'], 'i': ['Z', 'H', '–'], 'o': ['+', '£', 'T'], 'h': ['∞', 'µ', 'O'], 'l': ['L', 'N', '√'], 'c': ['æ', '•', 'π'], 'd': ['∏', 'J', '^'], 'p': ['G', '‘', 'D'], 'g': ['“', 'F'], 'm': ['/', '∆'], 'f': ['S', '¢'], 'u': ['ƒ', 'Q', '§'], 'z': ['K'], 'b': ['Ç', '\\\\', 'Ω'], 'y': ['Ã']}), -607.0689762810003), (defaultdict(<class 'dict'>, {'e': ['—', 'º', 'R'], 'a': ['B', 'E', 'M'], 's': ['∫', 'À', 'W'], 't': ['P', 'I', '≈'], 'n': ['u', 'V', 'A'], 'r': ['y', '∑', 'X'], 'i': ['Z', 'H', '–'], 'o': ['+', '£', 'T'], 'h': ['∞', 'µ', 'O'], 'l': ['L', 'N', '√'], 'c': ['æ', '•', 'π'], 'd': ['∏', 'J', '^'], 'p': ['G', '‘', 'D'], 'g': ['“', 'F'], 'm': ['/', '∆'], 'f': ['S', '¢'], 'u': ['ƒ', 'Q', '§'], 'z': ['K'], 'b': ['Ç', '\\\\'], 'y': ['Ã', 'Ω']}), -607.6911707810004), (defaultdict(<class 'dict'>, {'e': ['—', 'º', 'R'], 'a': ['B', 'E', 'M'], 's': ['∫', 'À', 'W'], 't': ['P', 'I', '≈'], 'n': ['u', 'V', 'A'], 'r': ['y', '∑', 'X'], 'i': ['Z', 'H', '–'], 'o': ['+', '£', 'T'], 'h': ['∞', 'µ', 'O'], 'l': ['L', 'N', '√'], 'c': ['æ', '•', 'π'], 'd': ['∏', 'J', '^'], 'p': ['G', '‘', 'D'], 'g': ['“', 'F', 'Ω'], 'm': ['/', '∆'], 'f': ['S', '¢'], 'u': ['ƒ', 'Q', '§'], 'z': ['K'], 'b': ['Ç', '\\\\'], 'y': ['Ã']}), -608.0662879910003), (defaultdict(<class 'dict'>, {'e': ['—', 'º', 'R'], 'a': ['B', 'E', 'M'], 's': ['∫', 'À', 'W'], 't': ['P', 'I', '≈'], 'n': ['u', 'V', 'A'], 'r': ['y', '∑', 'X'], 'i': ['Z', 'H', '–'], 'o': ['+', '£', 'T'], 'h': ['∞', 'µ', 'O'], 'l': ['L', 'N', '√'], 'c': ['æ', '•', 'π'], 'd': ['∏', 'J', '^'], 'p': ['G', '‘', 'D'], 'g': ['“', 'F', '∆'], 'm': ['/'], 'f': ['S', '¢'], 'u': ['ƒ', 'Q', '§'], 'z': ['K'], 'b': ['Ç', '\\\\', 'Ω'], 'w': ['Ã']}), -608.2051499750003), (defaultdict(<class 'dict'>, {'e': ['—', 'º', 'R'], 'a': ['B', 'E', 'M'], 's': ['∫', 'À', 'W'], 't': ['P', 'I', '≈'], 'n': ['u', 'V', 'A'], 'r': ['y', '∑', 'X'], 'i': ['Z', 'H', '–'], 'o': ['+', '£', 'T'], 'h': ['∞', 'µ', 'O'], 'l': ['L', 'N', '√'], 'c': ['æ', '•', 'π'], 'd': ['∏', 'J', '^'], 'p': ['G', '‘', 'D'], 'g': ['“', 'F', '∆'], 'm': ['/'], 'f': ['S', '¢'], 'u': ['ƒ', 'Q', '§'], 'z': ['K'], 'b': ['Ç', '\\\\', 'Ω'], 'y': ['Ã']}), -608.4072026010004), (defaultdict(<class 'dict'>, {'e': ['—', 'º', 'R'], 'a': ['B', 'E', 'M'], 's': ['∫', 'À', 'W'], 't': ['P', 'I', '≈'], 'n': ['u', 'V', 'A'], 'r': ['y', '∑', 'X'], 'i': ['Z', 'H', '–'], 'o': ['+', '£', 'T'], 'h': ['∞', 'µ', 'O'], 'l': ['L', 'N', '√'], 'c': ['æ', '•', 'π'], 'd': ['∏', 'J', '^'], 'p': ['G', '‘', 'D'], 'g': ['“', 'F'], 'm': ['/', '∆'], 'f': ['S', '¢', 'Ω'], 'u': ['ƒ', 'Q', '§'], 'z': ['K'], 'b': ['Ç', '\\\\'], 'y': ['Ã']}), -608.8009386010003), (defaultdict(<class 'dict'>, {'e': ['—', 'º', 'R'], 'a': ['B', 'E', 'M'], 's': ['∫', 'À', 'W'], 't': ['P', 'I', '≈'], 'n': ['u', 'V', 'A'], 'r': ['y', '∑', 'X'], 'i': ['Z', 'H', '–'], 'o': ['+', '£', 'T'], 'h': ['∞', 'µ', 'O'], 'l': ['L', 'N', '√'], 'c': ['æ', '•', 'π'], 'd': ['∏', 'J', '^'], 'p': ['G', '‘', 'D'], 'g': ['“', 'F', '∆'], 'm': ['/'], 'f': ['S', '¢'], 'u': ['ƒ', 'Q', '§'], 'z': ['K'], 'b': ['Ç', '\\\\'], 'w': ['Ã'], 'y': ['Ω']}), -608.8273444750001), (defaultdict(<class 'dict'>, {'e': ['—', 'º', 'R'], 'a': ['B', 'E', 'M'], 's': ['∫', 'À', 'W'], 't': ['P', 'I', '≈'], 'n': ['u', 'V', 'A'], 'r': ['y', '∑', 'X'], 'i': ['Z', 'H', '–'], 'o': ['+', '£', 'T'], 'h': ['∞', 'µ', 'O'], 'l': ['L', 'N', '√'], 'c': ['æ', '•', 'π'], 'd': ['∏', 'J', '^'], 'p': ['G', '‘', 'D'], 'g': ['“', 'F', '∆'], 'm': ['/'], 'f': ['S', '¢'], 'u': ['ƒ', 'Q', '§'], 'z': ['K'], 'b': ['Ç', '\\\\'], 'y': ['Ã', 'Ω']}), -609.0293971010003)]\n",
      "Working on symbol:  j\n",
      "[(defaultdict(<class 'dict'>, {'e': ['—', 'º', 'R'], 'a': ['B', 'E', 'M'], 's': ['∫', 'À', 'W'], 't': ['P', 'I', '≈'], 'n': ['u', 'V', 'A'], 'r': ['y', '∑', 'X'], 'i': ['Z', 'H', '–'], 'o': ['+', '£', 'T'], 'h': ['∞', 'µ', 'O'], 'l': ['L', 'N', '√'], 'c': ['æ', '•', 'π'], 'd': ['∏', 'J', '^'], 'p': ['G', '‘', 'D'], 'g': ['“', 'F'], 'm': ['/', '∆'], 'f': ['S', '¢', 'j'], 'u': ['ƒ', 'Q', '§'], 'z': ['K'], 'b': ['Ç', '\\\\', 'Ω'], 'y': ['Ã']}), -611.2382840410005), (defaultdict(<class 'dict'>, {'e': ['—', 'º', 'R'], 'a': ['B', 'E', 'M'], 's': ['∫', 'À', 'W'], 't': ['P', 'I', '≈'], 'n': ['u', 'V', 'A'], 'r': ['y', '∑', 'X'], 'i': ['Z', 'H', '–'], 'o': ['+', '£', 'T'], 'h': ['∞', 'µ', 'O'], 'l': ['L', 'N', '√'], 'c': ['æ', '•', 'π'], 'd': ['∏', 'J', '^'], 'p': ['G', '‘', 'D'], 'g': ['“', 'F'], 'm': ['/', '∆'], 'f': ['S', '¢', 'j'], 'u': ['ƒ', 'Q', '§'], 'z': ['K'], 'b': ['Ç', '\\\\'], 'y': ['Ã', 'Ω']}), -611.8604785410005), (defaultdict(<class 'dict'>, {'e': ['—', 'º', 'R'], 'a': ['B', 'E', 'M'], 's': ['∫', 'À', 'W'], 't': ['P', 'I', '≈'], 'n': ['u', 'V', 'A'], 'r': ['y', '∑', 'X'], 'i': ['Z', 'H', '–'], 'o': ['+', '£', 'T'], 'h': ['∞', 'µ', 'O'], 'l': ['L', 'N', '√'], 'c': ['æ', '•', 'π'], 'd': ['∏', 'J', '^'], 'p': ['G', '‘', 'D'], 'g': ['“', 'F', 'Ω'], 'm': ['/', '∆'], 'f': ['S', '¢', 'j'], 'u': ['ƒ', 'Q', '§'], 'z': ['K'], 'b': ['Ç', '\\\\'], 'y': ['Ã']}), -612.2355957510005), (defaultdict(<class 'dict'>, {'e': ['—', 'º', 'R'], 'a': ['B', 'E', 'M'], 's': ['∫', 'À', 'W'], 't': ['P', 'I', '≈'], 'n': ['u', 'V', 'A'], 'r': ['y', '∑', 'X'], 'i': ['Z', 'H', '–'], 'o': ['+', '£', 'T'], 'h': ['∞', 'µ', 'O'], 'l': ['L', 'N', '√'], 'c': ['æ', '•', 'π'], 'd': ['∏', 'J', '^'], 'p': ['G', '‘', 'D'], 'g': ['“', 'F', '∆'], 'm': ['/'], 'f': ['S', '¢', 'j'], 'u': ['ƒ', 'Q', '§'], 'z': ['K'], 'b': ['Ç', '\\\\', 'Ω'], 'w': ['Ã']}), -612.3744577350003), (defaultdict(<class 'dict'>, {'e': ['—', 'º', 'R'], 'a': ['B', 'E', 'M'], 's': ['∫', 'À', 'W'], 't': ['P', 'I', '≈'], 'n': ['u', 'V', 'A'], 'r': ['y', '∑', 'X'], 'i': ['Z', 'H', '–'], 'o': ['+', '£', 'T'], 'h': ['∞', 'µ', 'O'], 'l': ['L', 'N', '√'], 'c': ['æ', '•', 'π'], 'd': ['∏', 'J', '^'], 'p': ['G', '‘', 'D'], 'g': ['“', 'F', '∆'], 'm': ['/'], 'f': ['S', '¢', 'j'], 'u': ['ƒ', 'Q', '§'], 'z': ['K'], 'b': ['Ç', '\\\\', 'Ω'], 'y': ['Ã']}), -612.5765103610005), (defaultdict(<class 'dict'>, {'e': ['—', 'º', 'R'], 'a': ['B', 'E', 'M'], 's': ['∫', 'À', 'W'], 't': ['P', 'I', '≈'], 'n': ['u', 'V', 'A'], 'r': ['y', '∑', 'X'], 'i': ['Z', 'H', '–'], 'o': ['+', '£', 'T'], 'h': ['∞', 'µ', 'O'], 'l': ['L', 'N', '√'], 'c': ['æ', '•', 'π'], 'd': ['∏', 'J', '^'], 'p': ['G', '‘', 'D'], 'g': ['“', 'F', '∆'], 'm': ['/'], 'f': ['S', '¢', 'j'], 'u': ['ƒ', 'Q', '§'], 'z': ['K'], 'b': ['Ç', '\\\\'], 'w': ['Ã'], 'y': ['Ω']}), -612.9966522350004), (defaultdict(<class 'dict'>, {'e': ['—', 'º', 'R'], 'a': ['B', 'E', 'M'], 's': ['∫', 'À', 'W'], 't': ['P', 'I', '≈'], 'n': ['u', 'V', 'A'], 'r': ['y', '∑', 'X'], 'i': ['Z', 'H', '–'], 'o': ['+', '£', 'T'], 'h': ['∞', 'µ', 'O'], 'l': ['L', 'N', '√'], 'c': ['æ', '•', 'π'], 'd': ['∏', 'J', '^'], 'p': ['G', '‘', 'D'], 'g': ['“', 'F', '∆'], 'm': ['/'], 'f': ['S', '¢', 'j'], 'u': ['ƒ', 'Q', '§'], 'z': ['K'], 'b': ['Ç', '\\\\'], 'y': ['Ã', 'Ω']}), -613.1987048610006), (defaultdict(<class 'dict'>, {'e': ['—', 'º', 'R'], 'a': ['B', 'E', 'M'], 's': ['∫', 'À', 'W'], 't': ['P', 'I', '≈'], 'n': ['u', 'V', 'A'], 'r': ['y', '∑', 'X'], 'i': ['Z', 'H', '–'], 'o': ['+', '£', 'T'], 'h': ['∞', 'µ', 'O'], 'l': ['L', 'N', '√'], 'c': ['æ', '•', 'π'], 'd': ['∏', 'J', '^'], 'p': ['G', '‘', 'D'], 'g': ['“', 'F'], 'm': ['/', '∆'], 'f': ['S', '¢'], 'u': ['ƒ', 'Q', '§'], 'z': ['K'], 'b': ['Ç', '\\\\', 'Ω'], 'y': ['Ã'], 'k': ['j']}), -614.8307088410005)]\n",
      "Wall time: 5.75 s\n"
     ]
    }
   ],
   "source": [
    "%%time\n",
    "sorted_keys = sorted(cipher_desc['frequencies'], key=cipher_desc['frequencies'].get, reverse=True)\n",
    "reversed_mappings = beam_search(sorted_keys, 3, 8)"
   ]
  },
  {
   "cell_type": "code",
   "execution_count": 123,
   "metadata": {},
   "outputs": [
    {
     "data": {
      "text/plain": [
       "[(defaultdict(dict,\n",
       "              {'e': ['—', 'º', 'R'],\n",
       "               'a': ['B', 'E', 'M'],\n",
       "               's': ['∫', 'À', 'W'],\n",
       "               't': ['P', 'I', '≈'],\n",
       "               'n': ['u', 'V', 'A'],\n",
       "               'r': ['y', '∑', 'X'],\n",
       "               'i': ['Z', 'H', '–'],\n",
       "               'o': ['+', '£', 'T'],\n",
       "               'h': ['∞', 'µ', 'O'],\n",
       "               'l': ['L', 'N', '√'],\n",
       "               'c': ['æ', '•', 'π'],\n",
       "               'd': ['∏', 'J', '^'],\n",
       "               'p': ['G', '‘', 'D'],\n",
       "               'g': ['“', 'F'],\n",
       "               'm': ['/', '∆'],\n",
       "               'f': ['S', '¢', 'j'],\n",
       "               'u': ['ƒ', 'Q', '§'],\n",
       "               'z': ['K'],\n",
       "               'b': ['Ç', '\\\\', 'Ω'],\n",
       "               'y': ['Ã']}),\n",
       "  -611.2382840410005),\n",
       " (defaultdict(dict,\n",
       "              {'e': ['—', 'º', 'R'],\n",
       "               'a': ['B', 'E', 'M'],\n",
       "               's': ['∫', 'À', 'W'],\n",
       "               't': ['P', 'I', '≈'],\n",
       "               'n': ['u', 'V', 'A'],\n",
       "               'r': ['y', '∑', 'X'],\n",
       "               'i': ['Z', 'H', '–'],\n",
       "               'o': ['+', '£', 'T'],\n",
       "               'h': ['∞', 'µ', 'O'],\n",
       "               'l': ['L', 'N', '√'],\n",
       "               'c': ['æ', '•', 'π'],\n",
       "               'd': ['∏', 'J', '^'],\n",
       "               'p': ['G', '‘', 'D'],\n",
       "               'g': ['“', 'F'],\n",
       "               'm': ['/', '∆'],\n",
       "               'f': ['S', '¢', 'j'],\n",
       "               'u': ['ƒ', 'Q', '§'],\n",
       "               'z': ['K'],\n",
       "               'b': ['Ç', '\\\\'],\n",
       "               'y': ['Ã', 'Ω']}),\n",
       "  -611.8604785410005),\n",
       " (defaultdict(dict,\n",
       "              {'e': ['—', 'º', 'R'],\n",
       "               'a': ['B', 'E', 'M'],\n",
       "               's': ['∫', 'À', 'W'],\n",
       "               't': ['P', 'I', '≈'],\n",
       "               'n': ['u', 'V', 'A'],\n",
       "               'r': ['y', '∑', 'X'],\n",
       "               'i': ['Z', 'H', '–'],\n",
       "               'o': ['+', '£', 'T'],\n",
       "               'h': ['∞', 'µ', 'O'],\n",
       "               'l': ['L', 'N', '√'],\n",
       "               'c': ['æ', '•', 'π'],\n",
       "               'd': ['∏', 'J', '^'],\n",
       "               'p': ['G', '‘', 'D'],\n",
       "               'g': ['“', 'F', 'Ω'],\n",
       "               'm': ['/', '∆'],\n",
       "               'f': ['S', '¢', 'j'],\n",
       "               'u': ['ƒ', 'Q', '§'],\n",
       "               'z': ['K'],\n",
       "               'b': ['Ç', '\\\\'],\n",
       "               'y': ['Ã']}),\n",
       "  -612.2355957510005),\n",
       " (defaultdict(dict,\n",
       "              {'e': ['—', 'º', 'R'],\n",
       "               'a': ['B', 'E', 'M'],\n",
       "               's': ['∫', 'À', 'W'],\n",
       "               't': ['P', 'I', '≈'],\n",
       "               'n': ['u', 'V', 'A'],\n",
       "               'r': ['y', '∑', 'X'],\n",
       "               'i': ['Z', 'H', '–'],\n",
       "               'o': ['+', '£', 'T'],\n",
       "               'h': ['∞', 'µ', 'O'],\n",
       "               'l': ['L', 'N', '√'],\n",
       "               'c': ['æ', '•', 'π'],\n",
       "               'd': ['∏', 'J', '^'],\n",
       "               'p': ['G', '‘', 'D'],\n",
       "               'g': ['“', 'F', '∆'],\n",
       "               'm': ['/'],\n",
       "               'f': ['S', '¢', 'j'],\n",
       "               'u': ['ƒ', 'Q', '§'],\n",
       "               'z': ['K'],\n",
       "               'b': ['Ç', '\\\\', 'Ω'],\n",
       "               'w': ['Ã']}),\n",
       "  -612.3744577350003),\n",
       " (defaultdict(dict,\n",
       "              {'e': ['—', 'º', 'R'],\n",
       "               'a': ['B', 'E', 'M'],\n",
       "               's': ['∫', 'À', 'W'],\n",
       "               't': ['P', 'I', '≈'],\n",
       "               'n': ['u', 'V', 'A'],\n",
       "               'r': ['y', '∑', 'X'],\n",
       "               'i': ['Z', 'H', '–'],\n",
       "               'o': ['+', '£', 'T'],\n",
       "               'h': ['∞', 'µ', 'O'],\n",
       "               'l': ['L', 'N', '√'],\n",
       "               'c': ['æ', '•', 'π'],\n",
       "               'd': ['∏', 'J', '^'],\n",
       "               'p': ['G', '‘', 'D'],\n",
       "               'g': ['“', 'F', '∆'],\n",
       "               'm': ['/'],\n",
       "               'f': ['S', '¢', 'j'],\n",
       "               'u': ['ƒ', 'Q', '§'],\n",
       "               'z': ['K'],\n",
       "               'b': ['Ç', '\\\\', 'Ω'],\n",
       "               'y': ['Ã']}),\n",
       "  -612.5765103610005),\n",
       " (defaultdict(dict,\n",
       "              {'e': ['—', 'º', 'R'],\n",
       "               'a': ['B', 'E', 'M'],\n",
       "               's': ['∫', 'À', 'W'],\n",
       "               't': ['P', 'I', '≈'],\n",
       "               'n': ['u', 'V', 'A'],\n",
       "               'r': ['y', '∑', 'X'],\n",
       "               'i': ['Z', 'H', '–'],\n",
       "               'o': ['+', '£', 'T'],\n",
       "               'h': ['∞', 'µ', 'O'],\n",
       "               'l': ['L', 'N', '√'],\n",
       "               'c': ['æ', '•', 'π'],\n",
       "               'd': ['∏', 'J', '^'],\n",
       "               'p': ['G', '‘', 'D'],\n",
       "               'g': ['“', 'F', '∆'],\n",
       "               'm': ['/'],\n",
       "               'f': ['S', '¢', 'j'],\n",
       "               'u': ['ƒ', 'Q', '§'],\n",
       "               'z': ['K'],\n",
       "               'b': ['Ç', '\\\\'],\n",
       "               'w': ['Ã'],\n",
       "               'y': ['Ω']}),\n",
       "  -612.9966522350004),\n",
       " (defaultdict(dict,\n",
       "              {'e': ['—', 'º', 'R'],\n",
       "               'a': ['B', 'E', 'M'],\n",
       "               's': ['∫', 'À', 'W'],\n",
       "               't': ['P', 'I', '≈'],\n",
       "               'n': ['u', 'V', 'A'],\n",
       "               'r': ['y', '∑', 'X'],\n",
       "               'i': ['Z', 'H', '–'],\n",
       "               'o': ['+', '£', 'T'],\n",
       "               'h': ['∞', 'µ', 'O'],\n",
       "               'l': ['L', 'N', '√'],\n",
       "               'c': ['æ', '•', 'π'],\n",
       "               'd': ['∏', 'J', '^'],\n",
       "               'p': ['G', '‘', 'D'],\n",
       "               'g': ['“', 'F', '∆'],\n",
       "               'm': ['/'],\n",
       "               'f': ['S', '¢', 'j'],\n",
       "               'u': ['ƒ', 'Q', '§'],\n",
       "               'z': ['K'],\n",
       "               'b': ['Ç', '\\\\'],\n",
       "               'y': ['Ã', 'Ω']}),\n",
       "  -613.1987048610006),\n",
       " (defaultdict(dict,\n",
       "              {'e': ['—', 'º', 'R'],\n",
       "               'a': ['B', 'E', 'M'],\n",
       "               's': ['∫', 'À', 'W'],\n",
       "               't': ['P', 'I', '≈'],\n",
       "               'n': ['u', 'V', 'A'],\n",
       "               'r': ['y', '∑', 'X'],\n",
       "               'i': ['Z', 'H', '–'],\n",
       "               'o': ['+', '£', 'T'],\n",
       "               'h': ['∞', 'µ', 'O'],\n",
       "               'l': ['L', 'N', '√'],\n",
       "               'c': ['æ', '•', 'π'],\n",
       "               'd': ['∏', 'J', '^'],\n",
       "               'p': ['G', '‘', 'D'],\n",
       "               'g': ['“', 'F'],\n",
       "               'm': ['/', '∆'],\n",
       "               'f': ['S', '¢'],\n",
       "               'u': ['ƒ', 'Q', '§'],\n",
       "               'z': ['K'],\n",
       "               'b': ['Ç', '\\\\', 'Ω'],\n",
       "               'y': ['Ã'],\n",
       "               'k': ['j']}),\n",
       "  -614.8307088410005)]"
      ]
     },
     "execution_count": 123,
     "metadata": {},
     "output_type": "execute_result"
    }
   ],
   "source": [
    "reversed_mappings"
   ]
  },
  {
   "cell_type": "code",
   "execution_count": 124,
   "metadata": {
    "scrolled": true
   },
   "outputs": [],
   "source": [
    "mapping = reverse_mapping(reversed_mappings[0][0])"
   ]
  },
  {
   "cell_type": "code",
   "execution_count": 126,
   "metadata": {},
   "outputs": [
    {
     "name": "stdout",
     "output_type": "stream",
     "text": [
      "estmimnasshecircasnotprgheitczbertadrdntsbeoplurphoffmerathennsmeyeasdlaidugbiginstcrcoeppeztoherchuffelptrayhcepaoufralumtracreaiandeeslizeitosebchlageratpeofchblftanisgilihnsthoploydehitepedorgbutmcrdunthacenpslolnazicpgtbdsheclaylnoiftunisneransbonophtdcfgymnthbpupsstalsoflamessimntranitresedgrcloceneashohenlodureddfesnitprzadornesrlpdibgareurnpubblbcedturrhththerugsplicdopedcdtogatushnargestheaiaocnts\n"
     ]
    }
   ],
   "source": [
    "decipher_text = ''\n",
    "for char in cipher.strip():\n",
    "    if char != '\\n':\n",
    "        decipher_text += mapping[char]\n",
    "print(decipher_text)"
   ]
  },
  {
   "cell_type": "code",
   "execution_count": null,
   "metadata": {},
   "outputs": [],
   "source": [
    "phi = {'e': ['º']}\n",
    "phi_prime = copy.deepcopy(phi)\n",
    "print(phi, phi_prime)\n",
    "phi_prime['e'].append('∫')\n",
    "print(phi, phi_prime)"
   ]
  },
  {
   "cell_type": "code",
   "execution_count": null,
   "metadata": {},
   "outputs": [],
   "source": [
    "Hs = [({},0)]\n",
    "Ht = copy.deepcopy(Hs)\n",
    "print(Hs, Ht)\n",
    "Ht.append(({},1))\n",
    "print(Hs, Ht)"
   ]
  },
  {
   "cell_type": "code",
   "execution_count": null,
   "metadata": {},
   "outputs": [],
   "source": []
  },
  {
   "cell_type": "code",
   "execution_count": null,
   "metadata": {},
   "outputs": [],
   "source": []
  },
  {
   "cell_type": "code",
   "execution_count": null,
   "metadata": {},
   "outputs": [],
   "source": []
  },
  {
   "cell_type": "markdown",
   "metadata": {},
   "source": [
    "Notice that the default solution provides a very bad decipherment. Your job is to make it better!"
   ]
  },
  {
   "cell_type": "markdown",
   "metadata": {},
   "source": [
    "## Grading"
   ]
  },
  {
   "cell_type": "markdown",
   "metadata": {},
   "source": [
    "Ignore the following cells. They are for grading against the reference decipherment. Based on the clues provided in the decipherment homework description, you can easily find a reasonable reference text online for this cipher text."
   ]
  },
  {
   "cell_type": "code",
   "execution_count": null,
   "metadata": {},
   "outputs": [],
   "source": [
    "\"\"\"\n",
    "ATTENTION!\n",
    "For grading purposes only. Don't bundle with the assignment. \n",
    "Make sure '_ref.txt' is removed from the 'data' directory before publishing.\n",
    "\"\"\"\n",
    "\n",
    "def read_gold(gold_file):\n",
    "    with open(gold_file) as f:\n",
    "        gold = f.read()\n",
    "    f.close()\n",
    "    gold = list(gold.strip())\n",
    "    return gold\n",
    "\n",
    "def symbol_error_rate(dec, _gold):\n",
    "    gold = read_gold(_gold)\n",
    "    correct = 0\n",
    "    if len(gold) == len(dec):\n",
    "        for (d,g) in zip(dec, gold):\n",
    "            if d==g:\n",
    "                correct += 1\n",
    "    wrong = len(gold)-correct\n",
    "    error = wrong/len(gold)\n",
    "    \n",
    "    return error"
   ]
  },
  {
   "cell_type": "code",
   "execution_count": null,
   "metadata": {},
   "outputs": [],
   "source": [
    "# gold decipherment\n",
    "gold_file = \"data/_ref.txt\"\n",
    "ser = symbol_error_rate(decipherment, gold_file)\n",
    "print('Error: ', ser*100, 'Accuracy: ', (1-ser)*100)"
   ]
  },
  {
   "cell_type": "code",
   "execution_count": null,
   "metadata": {},
   "outputs": [],
   "source": []
  }
 ],
 "metadata": {
  "kernelspec": {
   "display_name": "Python 3",
   "language": "python",
   "name": "python3"
  },
  "language_info": {
   "codemirror_mode": {
    "name": "ipython",
    "version": 3
   },
   "file_extension": ".py",
   "mimetype": "text/x-python",
   "name": "python",
   "nbconvert_exporter": "python",
   "pygments_lexer": "ipython3",
   "version": "3.6.5"
  }
 },
 "nbformat": 4,
 "nbformat_minor": 2
}
