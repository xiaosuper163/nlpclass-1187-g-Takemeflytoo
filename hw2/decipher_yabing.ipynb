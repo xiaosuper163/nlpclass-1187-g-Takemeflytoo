{
 "cells": [
  {
   "cell_type": "markdown",
   "metadata": {},
   "source": [
    "# Homework: Decipherment"
   ]
  },
  {
   "cell_type": "code",
   "execution_count": 1,
   "metadata": {},
   "outputs": [],
   "source": [
    "%load_ext autoreload\n",
    "%autoreload 2\n",
    "from collections import defaultdict, Counter\n",
    "import collections\n",
    "import pprint\n",
    "import math\n",
    "import bz2\n",
    "from ngram import *\n",
    "import sys, string\n",
    "pp = pprint.PrettyPrinter(width=45, compact=True)"
   ]
  },
  {
   "cell_type": "markdown",
   "metadata": {},
   "source": [
    "First let us read in the cipher text from the `data` directory:"
   ]
  },
  {
   "cell_type": "code",
   "execution_count": 2,
   "metadata": {},
   "outputs": [
    {
     "name": "stdout",
     "output_type": "stream",
     "text": [
      "º∫P/Z/uB∫ÀOR•–X•B\n",
      "WV+≈GyF∞ºHPπKÇ—y≈\n",
      "MJy^uIÀΩ—T‘NQyDµ£\n",
      "S¢/º∑BPORAu∫∆RÃ—E\n",
      "À^LMZJƒ“\\–FHVW≈æy\n",
      "π+—GDºKI£∞—Xæµ§S¢\n",
      "RN‘IyEÃOæ—GBTQS∑B\n",
      "Lƒ/P∑BπX—EHMu^RRÀ\n",
      "√ZK—–I£W—ÇæµLM“º∑\n",
      "BPDR+j•∞\\N¢≈EuHÀF\n",
      "Z√–OVWIµ+‘L£Ã^R∞H\n",
      "IºDR∏Ty“\\ƒ≈/πXJQA\n",
      "PµMæRu‘∫L£NVEKH•G\n",
      "“IÇJÀµºæLMÃNA£Z¢P\n",
      "§u–ÀAº∑BVW\\+VT‘OP\n",
      "^•S“Ã∆u≈∞ΩD§G∫∫IM\n",
      "NÀ£S√E/º∫∫Z∆AP∑BV\n",
      "–≈X—W—∏F∑æ√+πºAºB\n",
      "∫OTµRu√+∏ƒy—∏^S—W\n",
      "VZ≈GyKE∏TyAº∫∑L‘∏\n",
      "HÇFBXº§XADƒ\\ΩLÇ•—\n",
      "∏≈ƒ∑∑∞≈µPORXQF∫G√\n",
      "ZπJT‘—∏æJI+“BPQW∞\n",
      "VEX“ºWI∞—EHM£•uIÀ\n"
     ]
    }
   ],
   "source": [
    "def read_file(filename):\n",
    "    if filename[-4:] == \".bz2\":\n",
    "        with bz2.open(filename, 'rt', encoding='utf8') as f:\n",
    "            content = f.read()\n",
    "            f.close()\n",
    "    else:\n",
    "        with open(filename, 'r', encoding='utf8') as f:\n",
    "            content = f.read()\n",
    "            f.close()\n",
    "    return content\n",
    "\n",
    "cipher = read_file(\"data/cipher.txt\")\n",
    "print(cipher)"
   ]
  },
  {
   "cell_type": "markdown",
   "metadata": {},
   "source": [
    "## Default Solution"
   ]
  },
  {
   "cell_type": "markdown",
   "metadata": {},
   "source": [
    "For the default solution we need to compute statistics like length, number of symbols/letters, \n",
    "unique occurences, frequencies and relative frequencies of a given file. This is done in the function `get_statistics` below.\n",
    "\n",
    "While using `get_statistics`, make sure that `cipher=True` is set when the input is a ciphertext."
   ]
  },
  {
   "cell_type": "code",
   "execution_count": 3,
   "metadata": {},
   "outputs": [],
   "source": [
    "def get_statistics(content, cipher=True):\n",
    "    stats = {}\n",
    "    content = list(content)\n",
    "    split_content = [x for x in content if x != '\\n' and x!=' ']\n",
    "    length = len(split_content)\n",
    "    symbols = set(split_content)\n",
    "    uniq_sym = len(list(symbols))\n",
    "    freq = collections.Counter(split_content)\n",
    "    rel_freq = {}\n",
    "    for sym, frequency in freq.items():\n",
    "        rel_freq[sym] = (frequency/length)*100\n",
    "        \n",
    "    if cipher:\n",
    "        stats = {'content':split_content, 'length':length, 'vocab':list(symbols), 'vocab_length':uniq_sym, 'frequencies':freq, 'relative_freq':rel_freq}\n",
    "    else:\n",
    "        stats = {'length':length, 'vocab':list(symbols), 'vocab_length':uniq_sym, 'frequencies':freq, 'relative_freq':rel_freq}\n",
    "    return stats"
   ]
  },
  {
   "cell_type": "code",
   "execution_count": 4,
   "metadata": {},
   "outputs": [],
   "source": [
    "cipher_desc = get_statistics(cipher, cipher=True)\n",
    "# pp.pprint(cipher_desc)"
   ]
  },
  {
   "cell_type": "markdown",
   "metadata": {},
   "source": [
    "The default solution matches the frequency of symbols in the cipher text with frequency of letters in the plaintext language (in this case, English). Note that this is just some text in English used to compute letter frequencies. We do not have access to the real plaintext in this homework. \n",
    "\n",
    "In order to do compute plaintext frequencies, we use an English dataset has no punctuation or spaces and all characters are lowercase."
   ]
  },
  {
   "cell_type": "code",
   "execution_count": null,
   "metadata": {},
   "outputs": [],
   "source": [
    "# plaintext description\n",
    "plaintxt = read_file(\"data/default.wiki.txt.bz2\")\n",
    "plaintxt_desc = get_statistics(plaintxt, cipher=False)\n",
    "# pp.pprint(plaintxt_desc)"
   ]
  },
  {
   "cell_type": "markdown",
   "metadata": {},
   "source": [
    "We have all the tools we need to describe the default solution to this homework.\n",
    "\n",
    "We use a simple frequency matching heuristic to map cipher symbols to English letters.\n",
    "\n",
    "We match the frequencies using the function $f(\\cdot)$ of each cipher symbol $c$ with each English letter $e$:\n",
    "\n",
    "$$h_{c,e} = | \\log(\\frac{f(c)}{f(e)})) | $$\n",
    "\n",
    "For each cipher text symbol $c$ we then compute the most likely plain text symbol $e$ by sorting based on the above score."
   ]
  },
  {
   "cell_type": "code",
   "execution_count": null,
   "metadata": {},
   "outputs": [],
   "source": [
    "\"\"\"\n",
    "default : frequency matching heuristic\n",
    "\n",
    "Notice how the candidate mappings, a.k.a hypotheses, are first scored with a measure of quality and, \n",
    "then, the best scoring hypothesis is chosen as the winner. \n",
    "\n",
    "The plaintext letters from the winner are then mapped to the respective ciphertext symbols.\n",
    "\"\"\"\n",
    "\n",
    "# def find_mappings(ciphertext, plaintext):\n",
    "#     mappings = defaultdict(dict)\n",
    "#     hypotheses = defaultdict(dict)\n",
    "#     # calculate alignment scores\n",
    "#     for symbol in ciphertext['vocab']:\n",
    "#         for letter in plaintext['vocab']:\n",
    "#             hypotheses[symbol][letter] = abs(math.log((ciphertext['relative_freq'][symbol]/plaintext['relative_freq'][letter])))\n",
    "    \n",
    "#     # find winner\n",
    "#     for sym in hypotheses.keys():\n",
    "#         #mappings[sym] = min(lemma_alignment[sym], key=lemma_alignment[sym].get)\n",
    "#         winner = sorted(hypotheses[sym].items(), key=lambda kv: kv[1])\n",
    "#         mappings[sym] = winner[1][0]\n",
    "    \n",
    "#     return mappings"
   ]
  },
  {
   "cell_type": "markdown",
   "metadata": {},
   "source": [
    "Using this scoring function we map the cipher symbol `∆` to `v` in English"
   ]
  },
  {
   "cell_type": "code",
   "execution_count": null,
   "metadata": {},
   "outputs": [],
   "source": [
    "# mapping = find_mappings(cipher_desc, plaintxt_desc)\n",
    "# print(\"∆ maps to {}\\n\".format(mapping['∆']))\n",
    "# print(mapping)"
   ]
  },
  {
   "cell_type": "markdown",
   "metadata": {},
   "source": [
    "The default solution to this decipherment problem is to take each cipher symbol and map it to the most likely English letter as provided by the `find_mappings` function above."
   ]
  },
  {
   "cell_type": "code",
   "execution_count": null,
   "metadata": {},
   "outputs": [],
   "source": [
    "# english_text = []\n",
    "# for symbol in cipher_desc['content']:\n",
    "#     english_text.append(mapping[symbol])\n",
    "# decipherment = ('').join(english_text)\n",
    "# print(decipherment)"
   ]
  },
  {
   "cell_type": "markdown",
   "metadata": {},
   "source": [
    "## Baseline"
   ]
  },
  {
   "cell_type": "code",
   "execution_count": 5,
   "metadata": {},
   "outputs": [
    {
     "name": "stderr",
     "output_type": "stream",
     "text": [
      "Reading language model from data/6-gram-wiki-char.lm.bz2...\n",
      "\n"
     ]
    },
    {
     "name": "stdout",
     "output_type": "stream",
     "text": [
      "Wall time: 1min 21s\n"
     ]
    }
   ],
   "source": [
    "%%time\n",
    "sequence = 'In a few cases, a multilingual artifact has been necessary to facilitate decipherment, the Rosetta Stone being the classic example. Statistical techniques provide another pathway to decipherment, as does the analysis of modern languages derived from ancient languages in which undeciphered texts are written. Archaeological and historical information is helpful in verifying hypothesized decipherments.'\n",
    "\n",
    "# lm = LM(\"data/6-gram-wiki-char.lm.bz2\", n=6, verbose=True)\n",
    "lm = LM(\"data/6-gram-wiki-char.lm.bz2\", n=6, verbose=False)"
   ]
  },
  {
   "cell_type": "code",
   "execution_count": 6,
   "metadata": {},
   "outputs": [
    {
     "name": "stdout",
     "output_type": "stream",
     "text": [
      "In a few cases, a multilingual artifact has been necessary to facilitate decipherment, the Rosetta Stone being the classic example. Statistical techniques provide another pathway to decipherment, as does the analysis of modern languages derived from ancient languages in which undeciphered texts are written. Archaeological and historical information is helpful in verifying hypothesized decipherments.\n",
      "{2: 3, 3: 4, 7: 8, 8: 9, 9: 10}\n",
      "-8.10905897\n"
     ]
    },
    {
     "name": "stderr",
     "output_type": "stream",
     "text": [
      "TOTAL LM LOGPROB: -221.09434842188\n",
      "TOTAL LM LOGPROB: -9.76947916\n",
      "TOTAL LM LOGPROB: -40.57683077\n"
     ]
    }
   ],
   "source": [
    "print(sequence)\n",
    "lm_logprob = lm.score_seq(sequence)\n",
    "print(\"TOTAL LM LOGPROB: {}\".format(lm_logprob), file=sys.stderr)\n",
    "\n",
    "print(\"TOTAL LM LOGPROB: {}\".format(lm.score_seq('this is the text.')), file=sys.stderr)\n",
    "print(\"TOTAL LM LOGPROB: {}\".format(lm.score_seq('jasbklfhthejkldhf')), file=sys.stderr)\n",
    "\n",
    "print(lm.get_bitstring_spans('..oo...ooo..'))\n",
    "print(lm.score_bitstring('thisisatest', 'oo...oo.ooo'))"
   ]
  },
  {
   "cell_type": "code",
   "execution_count": 7,
   "metadata": {},
   "outputs": [],
   "source": [
    "def reverse_mapping(reversed_mapping):\n",
    "    mapping = dict()\n",
    "    for key, values in reversed_mapping.items():\n",
    "        for value in values:\n",
    "            mapping[value] = key\n",
    "    return mapping"
   ]
  },
  {
   "cell_type": "code",
   "execution_count": 57,
   "metadata": {},
   "outputs": [],
   "source": [
    "def score(phi, cipher, lm):\n",
    "    mapping = reverse_mapping(phi)\n",
    "    partial_cipher = ''\n",
    "    bit_string = ''\n",
    "    for char in cipher:\n",
    "        if char in mapping.keys():\n",
    "            partial_cipher += mapping[char]\n",
    "            bit_string += 'o'\n",
    "        else:\n",
    "            partial_cipher += char\n",
    "            bit_string += '_'\n",
    "    score = lm.score_bitstring(partial_cipher, bit_string)\n",
    "    return score"
   ]
  },
  {
   "cell_type": "code",
   "execution_count": 18,
   "metadata": {},
   "outputs": [
    {
     "data": {
      "text/plain": [
       "{'i': ['º'], 'l': ['∫']}"
      ]
     },
     "execution_count": 18,
     "metadata": {},
     "output_type": "execute_result"
    }
   ],
   "source": [
    "# test the two functions above\n",
    "reversed_mapping = {'i': [cipher[0]], 'l': [cipher[1]]}\n",
    "reversed_mapping"
   ]
  },
  {
   "cell_type": "code",
   "execution_count": 19,
   "metadata": {},
   "outputs": [
    {
     "data": {
      "text/plain": [
       "{'º': 'i', '∫': 'l'}"
      ]
     },
     "execution_count": 19,
     "metadata": {},
     "output_type": "execute_result"
    }
   ],
   "source": [
    "reverse_mapping(reversed_mapping)"
   ]
  },
  {
   "cell_type": "code",
   "execution_count": 20,
   "metadata": {},
   "outputs": [
    {
     "data": {
      "text/plain": [
       "-32.930710299999994"
      ]
     },
     "execution_count": 20,
     "metadata": {},
     "output_type": "execute_result"
    }
   ],
   "source": [
    "score(reversed_mapping, cipher, lm)"
   ]
  },
  {
   "cell_type": "code",
   "execution_count": null,
   "metadata": {},
   "outputs": [],
   "source": []
  },
  {
   "cell_type": "code",
   "execution_count": 86,
   "metadata": {},
   "outputs": [],
   "source": [
    "def beam_search(ext_order, ext_limits=1, topn=1):\n",
    "    '''\n",
    "    finds the mappings between cipher char and plaintext char, returns the mapping dictionary\n",
    "    ext_order -- list, the unigram char list sorted by their count DESC\n",
    "    ext_limits -- int, defines maximum number of cipher char can be mapped to a plaintext char\n",
    "    topn -- int, defines the number of dictionaries we want to keep while pruning\n",
    "    '''\n",
    "    print('Number of unique symbols in cipher', len(ext_order))\n",
    "    # mapping relationships already found with score\n",
    "    Hs = [(defaultdict(dict), 0)]\n",
    "    # hypothesis mapping relationships with score\n",
    "    Ht = [(defaultdict(dict), 0)]\n",
    "    # initialize the cardinality (number of unique cipher text)\n",
    "    cardinality = 0\n",
    "    # list of plaintext characters\n",
    "    Ve = [chr(i) for i in range(97, 123, 1)]\n",
    "    while cardinality < len(ext_order):\n",
    "        f = ext_order[cardinality]\n",
    "        print('\\tWorking on symbol: ', f)\n",
    "        for phi, _ in Hs:\n",
    "            for e in Ve:\n",
    "                phi_prime = phi.copy()\n",
    "                if e in phi_prime.keys():\n",
    "                    if len(phi_prime[e]) < ext_limits:\n",
    "                        phi_prime[e].append(f)\n",
    "                        Ht.append((phi_prime, score(phi_prime, cipher, lm)))\n",
    "                else:\n",
    "                    phi_prime[e] = [f]\n",
    "                    this_score = score(phi_prime, cipher, lm)\n",
    "                    Ht.append((phi_prime, this_score))\n",
    "        # prune the histogram\n",
    "        Ht = sorted(Ht, key=lambda x:x[1], reverse=True)[:topn]\n",
    "        cardinality += 1\n",
    "        Hs = Ht.copy()\n",
    "        Ht.clear()\n",
    "        print(Hs)\n",
    "    return sorted(Hs, key=lambda x:x[1], reverse=True)"
   ]
  },
  {
   "cell_type": "code",
   "execution_count": 87,
   "metadata": {},
   "outputs": [],
   "source": [
    "# cipher = read_file(\"data/cipher.txt\")\n",
    "# cipher_desc = get_statistics(cipher, cipher=True)\n",
    "# plaintxt = read_file(\"data/default.wiki.txt.bz2\")\n",
    "# plaintxt_desc = get_statistics(plaintxt, cipher=False)"
   ]
  },
  {
   "cell_type": "code",
   "execution_count": 88,
   "metadata": {},
   "outputs": [
    {
     "name": "stdout",
     "output_type": "stream",
     "text": [
      "Number of unique symbols in cipher 54\n",
      "\tWorking on symbol:  º\n",
      "[(defaultdict(<class 'dict'>, {}), 0), (defaultdict(<class 'dict'>, {'e': ['º']}), -16.009092599999995)]\n",
      "\tWorking on symbol:  ∫\n",
      "[(defaultdict(<class 'dict'>, {'e': ['∫']}), -13.7693778), (defaultdict(<class 'dict'>, {'t': ['∫']}), -14.719731)]\n",
      "\tWorking on symbol:  P\n",
      "[(defaultdict(<class 'dict'>, {'e': ['∫', 'P']}), -24.417077799999994), (defaultdict(<class 'dict'>, {'t': ['∫', 'P'], 'e': ['P']}), -24.7838144)]\n",
      "\tWorking on symbol:  /\n",
      "[(defaultdict(<class 'dict'>, {'e': ['∫', 'P'], 'n': ['/']}), -30.784666699999992), (defaultdict(<class 'dict'>, {'e': ['∫', 'P'], 't': ['/']}), -30.792450999999993)]\n",
      "\tWorking on symbol:  Z\n",
      "[(defaultdict(<class 'dict'>, {'e': ['∫', 'P'], 'n': ['/', 'Z'], 'a': ['Z']}), -38.63049360000001), (defaultdict(<class 'dict'>, {'e': ['∫', 'P'], 't': ['/', 'Z'], 'a': ['Z']}), -39.43234700000001)]\n",
      "\tWorking on symbol:  u\n",
      "[(defaultdict(<class 'dict'>, {'e': ['∫', 'P'], 'n': ['/', 'Z'], 'a': ['Z', 'u'], 't': ['u']}), -50.149045800000025), (defaultdict(<class 'dict'>, {'e': ['∫', 'P'], 'n': ['/', 'Z'], 'a': ['Z', 'u'], 'i': ['u']}), -50.89712740000002)]\n",
      "\tWorking on symbol:  B\n",
      "[(defaultdict(<class 'dict'>, {'e': ['∫', 'P'], 'n': ['/', 'Z'], 'a': ['Z', 'u'], 't': ['u', 'B']}), -63.59465220000003), (defaultdict(<class 'dict'>, {'e': ['∫', 'P'], 'n': ['/', 'Z'], 'a': ['Z', 'u'], 't': ['u', 'B'], 'h': ['B']}), -63.78078270000002)]\n",
      "\tWorking on symbol:  À\n",
      "[(defaultdict(<class 'dict'>, {'e': ['∫', 'P'], 'n': ['/', 'Z'], 'a': ['Z', 'u'], 't': ['u', 'B'], 's': ['À']}), -73.55703820000005), (defaultdict(<class 'dict'>, {'e': ['∫', 'P'], 'n': ['/', 'Z'], 'a': ['Z', 'u'], 't': ['u', 'B'], 'h': ['B', 'À'], 's': ['À']}), -73.69955880000005)]\n",
      "\tWorking on symbol:  O\n",
      "[(defaultdict(<class 'dict'>, {'e': ['∫', 'P'], 'n': ['/', 'Z'], 'a': ['Z', 'u'], 't': ['u', 'B'], 's': ['À', 'O']}), -81.94559940000009), (defaultdict(<class 'dict'>, {'e': ['∫', 'P'], 'n': ['/', 'Z'], 'a': ['Z', 'u'], 't': ['u', 'B'], 'h': ['B', 'À'], 's': ['À', 'O'], 'r': ['O']}), -82.09705190000005)]\n",
      "\tWorking on symbol:  R\n",
      "[(defaultdict(<class 'dict'>, {'e': ['∫', 'P'], 'n': ['/', 'Z'], 'a': ['Z', 'u'], 't': ['u', 'B'], 'h': ['B', 'À'], 's': ['À', 'O'], 'r': ['O', 'R'], 'i': ['R']}), -96.22233990000005), (defaultdict(<class 'dict'>, {'e': ['∫', 'P'], 'n': ['/', 'Z'], 'a': ['Z', 'u'], 't': ['u', 'B'], 's': ['À', 'O'], 'i': ['R']}), -96.2782520000001)]\n",
      "\tWorking on symbol:  •\n",
      "[(defaultdict(<class 'dict'>, {'e': ['∫', 'P'], 'n': ['/', 'Z'], 'a': ['Z', 'u'], 't': ['u', 'B'], 's': ['À', 'O'], 'i': ['R', '•'], 'o': ['•']}), -104.9266490000001), (defaultdict(<class 'dict'>, {'e': ['∫', 'P'], 'n': ['/', 'Z'], 'a': ['Z', 'u'], 't': ['u', 'B'], 's': ['À', 'O'], 'i': ['R', '•'], 'r': ['•']}), -105.0466820000001)]\n",
      "\tWorking on symbol:  –\n",
      "[(defaultdict(<class 'dict'>, {'e': ['∫', 'P'], 'n': ['/', 'Z'], 'a': ['Z', 'u'], 't': ['u', 'B'], 's': ['À', 'O'], 'i': ['R', '•'], 'r': ['•', '–'], 'o': ['–']}), -112.46808330000013), (defaultdict(<class 'dict'>, {'e': ['∫', 'P'], 'n': ['/', 'Z'], 'a': ['Z', 'u'], 't': ['u', 'B'], 's': ['À', 'O'], 'i': ['R', '•'], 'r': ['•', '–'], 'h': ['–']}), -114.26485760000011)]\n",
      "\tWorking on symbol:  X\n",
      "[(defaultdict(<class 'dict'>, {'e': ['∫', 'P'], 'n': ['/', 'Z'], 'a': ['Z', 'u'], 't': ['u', 'B'], 's': ['À', 'O'], 'i': ['R', '•'], 'r': ['•', '–'], 'h': ['–', 'X'], 'o': ['X']}), -125.45706361000012), (defaultdict(<class 'dict'>, {'e': ['∫', 'P'], 'n': ['/', 'Z'], 'a': ['Z', 'u'], 't': ['u', 'B'], 's': ['À', 'O'], 'i': ['R', '•'], 'r': ['•', '–'], 'o': ['–', 'X']}), -126.47079000000014)]\n",
      "\tWorking on symbol:  W\n",
      "[(defaultdict(<class 'dict'>, {'e': ['∫', 'P'], 'n': ['/', 'Z'], 'a': ['Z', 'u'], 't': ['u', 'B'], 's': ['À', 'O'], 'i': ['R', '•'], 'r': ['•', '–'], 'h': ['–', 'X'], 'o': ['X', 'W']}), -135.7566546100001), (defaultdict(<class 'dict'>, {'e': ['∫', 'P'], 'n': ['/', 'Z'], 'a': ['Z', 'u'], 't': ['u', 'B'], 's': ['À', 'O'], 'i': ['R', '•'], 'r': ['•', '–'], 'h': ['–', 'X'], 'o': ['X', 'W'], 'l': ['W']}), -137.9187606100001)]\n",
      "\tWorking on symbol:  V\n",
      "[(defaultdict(<class 'dict'>, {'e': ['∫', 'P'], 'n': ['/', 'Z'], 'a': ['Z', 'u'], 't': ['u', 'B'], 's': ['À', 'O'], 'i': ['R', '•'], 'r': ['•', '–'], 'h': ['–', 'X'], 'o': ['X', 'W'], 'c': ['V']}), -148.12224571000002), (defaultdict(<class 'dict'>, {'e': ['∫', 'P'], 'n': ['/', 'Z'], 'a': ['Z', 'u'], 't': ['u', 'B'], 's': ['À', 'O'], 'i': ['R', '•'], 'r': ['•', '–'], 'h': ['–', 'X'], 'o': ['X', 'W'], 'l': ['V']}), -148.80118011000005)]\n",
      "\tWorking on symbol:  +\n",
      "[(defaultdict(<class 'dict'>, {'e': ['∫', 'P'], 'n': ['/', 'Z'], 'a': ['Z', 'u'], 't': ['u', 'B'], 's': ['À', 'O'], 'i': ['R', '•'], 'r': ['•', '–'], 'h': ['–', 'X'], 'o': ['X', 'W'], 'l': ['V', '+']}), -158.64973450999997), (defaultdict(<class 'dict'>, {'e': ['∫', 'P'], 'n': ['/', 'Z'], 'a': ['Z', 'u'], 't': ['u', 'B'], 's': ['À', 'O'], 'i': ['R', '•'], 'r': ['•', '–'], 'h': ['–', 'X'], 'o': ['X', 'W'], 'c': ['V', '+']}), -159.45683670999998)]\n",
      "\tWorking on symbol:  ≈\n",
      "[(defaultdict(<class 'dict'>, {'e': ['∫', 'P'], 'n': ['/', 'Z'], 'a': ['Z', 'u'], 't': ['u', 'B'], 's': ['À', 'O'], 'i': ['R', '•'], 'r': ['•', '–'], 'h': ['–', 'X'], 'o': ['X', 'W'], 'c': ['V', '+'], 'u': ['≈']}), -174.45885611), (defaultdict(<class 'dict'>, {'e': ['∫', 'P'], 'n': ['/', 'Z'], 'a': ['Z', 'u'], 't': ['u', 'B'], 's': ['À', 'O'], 'i': ['R', '•'], 'r': ['•', '–'], 'h': ['–', 'X'], 'o': ['X', 'W'], 'l': ['V', '+'], 'c': ['≈']}), -175.83399640999997)]\n",
      "\tWorking on symbol:  G\n",
      "[(defaultdict(<class 'dict'>, {'e': ['∫', 'P'], 'n': ['/', 'Z'], 'a': ['Z', 'u'], 't': ['u', 'B'], 's': ['À', 'O'], 'i': ['R', '•'], 'r': ['•', '–'], 'h': ['–', 'X'], 'o': ['X', 'W'], 'c': ['V', '+'], 'u': ['≈', 'G'], 'l': ['G']}), -185.51689881), (defaultdict(<class 'dict'>, {'e': ['∫', 'P'], 'n': ['/', 'Z'], 'a': ['Z', 'u'], 't': ['u', 'B'], 's': ['À', 'O'], 'i': ['R', '•'], 'r': ['•', '–'], 'h': ['–', 'X'], 'o': ['X', 'W'], 'c': ['V', '+'], 'u': ['≈', 'G'], 'p': ['G']}), -186.52819190999998)]\n",
      "\tWorking on symbol:  y\n",
      "[(defaultdict(<class 'dict'>, {'e': ['∫', 'P'], 'n': ['/', 'Z'], 'a': ['Z', 'u'], 't': ['u', 'B'], 's': ['À', 'O'], 'i': ['R', '•'], 'r': ['•', '–'], 'h': ['–', 'X'], 'o': ['X', 'W'], 'c': ['V', '+'], 'u': ['≈', 'G'], 'l': ['G', 'y']}), -200.91802381000005), (defaultdict(<class 'dict'>, {'e': ['∫', 'P'], 'n': ['/', 'Z'], 'a': ['Z', 'u'], 't': ['u', 'B'], 's': ['À', 'O'], 'i': ['R', '•'], 'r': ['•', '–'], 'h': ['–', 'X'], 'o': ['X', 'W'], 'c': ['V', '+'], 'u': ['≈', 'G'], 'l': ['G', 'y'], 'd': ['y']}), -202.29094741000003)]\n",
      "\tWorking on symbol:  F\n",
      "[(defaultdict(<class 'dict'>, {'e': ['∫', 'P'], 'n': ['/', 'Z'], 'a': ['Z', 'u'], 't': ['u', 'B'], 's': ['À', 'O'], 'i': ['R', '•'], 'r': ['•', '–'], 'h': ['–', 'X'], 'o': ['X', 'W'], 'c': ['V', '+'], 'u': ['≈', 'G'], 'l': ['G', 'y'], 'y': ['F']}), -212.03610481000007), (defaultdict(<class 'dict'>, {'e': ['∫', 'P'], 'n': ['/', 'Z'], 'a': ['Z', 'u'], 't': ['u', 'B'], 's': ['À', 'O'], 'i': ['R', '•'], 'r': ['•', '–'], 'h': ['–', 'X'], 'o': ['X', 'W'], 'c': ['V', '+'], 'u': ['≈', 'G'], 'l': ['G', 'y'], 'd': ['F']}), -212.30934341000003)]\n",
      "\tWorking on symbol:  ∞\n",
      "[(defaultdict(<class 'dict'>, {'e': ['∫', 'P'], 'n': ['/', 'Z'], 'a': ['Z', 'u'], 't': ['u', 'B'], 's': ['À', 'O'], 'i': ['R', '•'], 'r': ['•', '–'], 'h': ['–', 'X'], 'o': ['X', 'W'], 'c': ['V', '+'], 'u': ['≈', 'G'], 'l': ['G', 'y'], 'y': ['F', '∞'], 'd': ['∞']}), -223.12379780999999), (defaultdict(<class 'dict'>, {'e': ['∫', 'P'], 'n': ['/', 'Z'], 'a': ['Z', 'u'], 't': ['u', 'B'], 's': ['À', 'O'], 'i': ['R', '•'], 'r': ['•', '–'], 'h': ['–', 'X'], 'o': ['X', 'W'], 'c': ['V', '+'], 'u': ['≈', 'G'], 'l': ['G', 'y'], 'y': ['F', '∞'], 'm': ['∞']}), -224.26313981000007)]\n",
      "\tWorking on symbol:  H\n",
      "[(defaultdict(<class 'dict'>, {'e': ['∫', 'P'], 'n': ['/', 'Z'], 'a': ['Z', 'u'], 't': ['u', 'B'], 's': ['À', 'O'], 'i': ['R', '•'], 'r': ['•', '–'], 'h': ['–', 'X'], 'o': ['X', 'W'], 'c': ['V', '+'], 'u': ['≈', 'G'], 'l': ['G', 'y'], 'y': ['F', '∞'], 'd': ['∞', 'H']}), -238.53542790999992), (defaultdict(<class 'dict'>, {'e': ['∫', 'P'], 'n': ['/', 'Z'], 'a': ['Z', 'u'], 't': ['u', 'B'], 's': ['À', 'O'], 'i': ['R', '•'], 'r': ['•', '–'], 'h': ['–', 'X'], 'o': ['X', 'W'], 'c': ['V', '+'], 'u': ['≈', 'G'], 'l': ['G', 'y'], 'y': ['F', '∞'], 'd': ['∞', 'H'], 'm': ['H']}), -240.36806403999995)]\n",
      "\tWorking on symbol:  π\n",
      "[(defaultdict(<class 'dict'>, {'e': ['∫', 'P'], 'n': ['/', 'Z'], 'a': ['Z', 'u'], 't': ['u', 'B'], 's': ['À', 'O'], 'i': ['R', '•'], 'r': ['•', '–'], 'h': ['–', 'X'], 'o': ['X', 'W'], 'c': ['V', '+'], 'u': ['≈', 'G'], 'l': ['G', 'y'], 'y': ['F', '∞'], 'd': ['∞', 'H'], 'f': ['π']}), -249.01992360999984), (defaultdict(<class 'dict'>, {'e': ['∫', 'P'], 'n': ['/', 'Z'], 'a': ['Z', 'u'], 't': ['u', 'B'], 's': ['À', 'O'], 'i': ['R', '•'], 'r': ['•', '–'], 'h': ['–', 'X'], 'o': ['X', 'W'], 'c': ['V', '+'], 'u': ['≈', 'G'], 'l': ['G', 'y'], 'y': ['F', '∞'], 'd': ['∞', 'H'], 'm': ['π']}), -249.76579470999988)]\n",
      "\tWorking on symbol:  K\n"
     ]
    },
    {
     "name": "stdout",
     "output_type": "stream",
     "text": [
      "[(defaultdict(<class 'dict'>, {'e': ['∫', 'P'], 'n': ['/', 'Z'], 'a': ['Z', 'u'], 't': ['u', 'B'], 's': ['À', 'O'], 'i': ['R', '•'], 'r': ['•', '–'], 'h': ['–', 'X'], 'o': ['X', 'W'], 'c': ['V', '+'], 'u': ['≈', 'G'], 'l': ['G', 'y'], 'y': ['F', '∞'], 'd': ['∞', 'H'], 'f': ['π', 'K']}), -257.38378660999985), (defaultdict(<class 'dict'>, {'e': ['∫', 'P'], 'n': ['/', 'Z'], 'a': ['Z', 'u'], 't': ['u', 'B'], 's': ['À', 'O'], 'i': ['R', '•'], 'r': ['•', '–'], 'h': ['–', 'X'], 'o': ['X', 'W'], 'c': ['V', '+'], 'u': ['≈', 'G'], 'l': ['G', 'y'], 'y': ['F', '∞'], 'd': ['∞', 'H'], 'm': ['π', 'K']}), -258.8885289099999)]\n",
      "\tWorking on symbol:  Ç\n",
      "[(defaultdict(<class 'dict'>, {'e': ['∫', 'P'], 'n': ['/', 'Z'], 'a': ['Z', 'u'], 't': ['u', 'B'], 's': ['À', 'O'], 'i': ['R', '•'], 'r': ['•', '–'], 'h': ['–', 'X'], 'o': ['X', 'W'], 'c': ['V', '+'], 'u': ['≈', 'G'], 'l': ['G', 'y'], 'y': ['F', '∞'], 'd': ['∞', 'H'], 'f': ['π', 'K'], 'b': ['Ç']}), -266.25680580999983), (defaultdict(<class 'dict'>, {'e': ['∫', 'P'], 'n': ['/', 'Z'], 'a': ['Z', 'u'], 't': ['u', 'B'], 's': ['À', 'O'], 'i': ['R', '•'], 'r': ['•', '–'], 'h': ['–', 'X'], 'o': ['X', 'W'], 'c': ['V', '+'], 'u': ['≈', 'G'], 'l': ['G', 'y'], 'y': ['F', '∞'], 'd': ['∞', 'H'], 'm': ['π', 'K'], 'b': ['Ç']}), -267.4865908099999)]\n",
      "\tWorking on symbol:  —\n",
      "[(defaultdict(<class 'dict'>, {'e': ['∫', 'P'], 'n': ['/', 'Z'], 'a': ['Z', 'u'], 't': ['u', 'B'], 's': ['À', 'O'], 'i': ['R', '•'], 'r': ['•', '–'], 'h': ['–', 'X'], 'o': ['X', 'W'], 'c': ['V', '+'], 'u': ['≈', 'G'], 'l': ['G', 'y'], 'y': ['F', '∞'], 'd': ['∞', 'H'], 'm': ['π', 'K'], 'b': ['Ç', '—'], 'f': ['—']}), -298.5619058000001), (defaultdict(<class 'dict'>, {'e': ['∫', 'P'], 'n': ['/', 'Z'], 'a': ['Z', 'u'], 't': ['u', 'B'], 's': ['À', 'O'], 'i': ['R', '•'], 'r': ['•', '–'], 'h': ['–', 'X'], 'o': ['X', 'W'], 'c': ['V', '+'], 'u': ['≈', 'G'], 'l': ['G', 'y'], 'y': ['F', '∞'], 'd': ['∞', 'H'], 'm': ['π', 'K'], 'b': ['Ç', '—'], 'p': ['—']}), -302.00537071)]\n",
      "\tWorking on symbol:  M\n",
      "[(defaultdict(<class 'dict'>, {'e': ['∫', 'P'], 'n': ['/', 'Z'], 'a': ['Z', 'u'], 't': ['u', 'B'], 's': ['À', 'O'], 'i': ['R', '•'], 'r': ['•', '–'], 'h': ['–', 'X'], 'o': ['X', 'W'], 'c': ['V', '+'], 'u': ['≈', 'G'], 'l': ['G', 'y'], 'y': ['F', '∞'], 'd': ['∞', 'H'], 'm': ['π', 'K'], 'b': ['Ç', '—'], 'f': ['—', 'M']}), -313.3358188), (defaultdict(<class 'dict'>, {'e': ['∫', 'P'], 'n': ['/', 'Z'], 'a': ['Z', 'u'], 't': ['u', 'B'], 's': ['À', 'O'], 'i': ['R', '•'], 'r': ['•', '–'], 'h': ['–', 'X'], 'o': ['X', 'W'], 'c': ['V', '+'], 'u': ['≈', 'G'], 'l': ['G', 'y'], 'y': ['F', '∞'], 'd': ['∞', 'H'], 'm': ['π', 'K'], 'b': ['Ç', '—'], 'f': ['—', 'M'], 'p': ['M']}), -313.7726700000001)]\n",
      "\tWorking on symbol:  J\n",
      "[(defaultdict(<class 'dict'>, {'e': ['∫', 'P'], 'n': ['/', 'Z'], 'a': ['Z', 'u'], 't': ['u', 'B'], 's': ['À', 'O'], 'i': ['R', '•'], 'r': ['•', '–'], 'h': ['–', 'X'], 'o': ['X', 'W'], 'c': ['V', '+'], 'u': ['≈', 'G'], 'l': ['G', 'y'], 'y': ['F', '∞'], 'd': ['∞', 'H'], 'm': ['π', 'K'], 'b': ['Ç', '—'], 'f': ['—', 'M'], 'p': ['M', 'J']}), -326.35844915000007), (defaultdict(<class 'dict'>, {'e': ['∫', 'P'], 'n': ['/', 'Z'], 'a': ['Z', 'u'], 't': ['u', 'B'], 's': ['À', 'O'], 'i': ['R', '•'], 'r': ['•', '–'], 'h': ['–', 'X'], 'o': ['X', 'W'], 'c': ['V', '+'], 'u': ['≈', 'G'], 'l': ['G', 'y'], 'y': ['F', '∞'], 'd': ['∞', 'H'], 'm': ['π', 'K'], 'b': ['Ç', '—'], 'f': ['—', 'M'], 'p': ['J']}), -326.60235195000007)]\n",
      "\tWorking on symbol:  ^\n",
      "[(defaultdict(<class 'dict'>, {'e': ['∫', 'P'], 'n': ['/', 'Z'], 'a': ['Z', 'u'], 't': ['u', 'B'], 's': ['À', 'O'], 'i': ['R', '•'], 'r': ['•', '–'], 'h': ['–', 'X'], 'o': ['X', 'W'], 'c': ['V', '+'], 'u': ['≈', 'G'], 'l': ['G', 'y'], 'y': ['F', '∞'], 'd': ['∞', 'H'], 'm': ['π', 'K'], 'b': ['Ç', '—'], 'f': ['—', 'M'], 'p': ['J', '^']}), -340.3112729500001), (defaultdict(<class 'dict'>, {'e': ['∫', 'P'], 'n': ['/', 'Z'], 'a': ['Z', 'u'], 't': ['u', 'B'], 's': ['À', 'O'], 'i': ['R', '•'], 'r': ['•', '–'], 'h': ['–', 'X'], 'o': ['X', 'W'], 'c': ['V', '+'], 'u': ['≈', 'G'], 'l': ['G', 'y'], 'y': ['F', '∞'], 'd': ['∞', 'H'], 'm': ['π', 'K'], 'b': ['Ç', '—'], 'f': ['—', 'M'], 'p': ['J', '^'], 'k': ['^']}), -341.58527215000015)]\n",
      "\tWorking on symbol:  I\n",
      "[(defaultdict(<class 'dict'>, {'e': ['∫', 'P'], 'n': ['/', 'Z'], 'a': ['Z', 'u'], 't': ['u', 'B'], 's': ['À', 'O'], 'i': ['R', '•'], 'r': ['•', '–'], 'h': ['–', 'X'], 'o': ['X', 'W'], 'c': ['V', '+'], 'u': ['≈', 'G'], 'l': ['G', 'y'], 'y': ['F', '∞'], 'd': ['∞', 'H'], 'm': ['π', 'K'], 'b': ['Ç', '—'], 'f': ['—', 'M'], 'p': ['J', '^'], 'g': ['I']}), -371.56392481000006), (defaultdict(<class 'dict'>, {'e': ['∫', 'P'], 'n': ['/', 'Z'], 'a': ['Z', 'u'], 't': ['u', 'B'], 's': ['À', 'O'], 'i': ['R', '•'], 'r': ['•', '–'], 'h': ['–', 'X'], 'o': ['X', 'W'], 'c': ['V', '+'], 'u': ['≈', 'G'], 'l': ['G', 'y'], 'y': ['F', '∞'], 'd': ['∞', 'H'], 'm': ['π', 'K'], 'b': ['Ç', '—'], 'f': ['—', 'M'], 'p': ['J', '^'], 'k': ['^', 'I'], 'g': ['I']}), -371.8928647000001)]\n",
      "\tWorking on symbol:  Ω\n",
      "[(defaultdict(<class 'dict'>, {'e': ['∫', 'P'], 'n': ['/', 'Z'], 'a': ['Z', 'u'], 't': ['u', 'B'], 's': ['À', 'O'], 'i': ['R', '•'], 'r': ['•', '–'], 'h': ['–', 'X'], 'o': ['X', 'W'], 'c': ['V', '+'], 'u': ['≈', 'G'], 'l': ['G', 'y'], 'y': ['F', '∞'], 'd': ['∞', 'H'], 'm': ['π', 'K'], 'b': ['Ç', '—'], 'f': ['—', 'M'], 'p': ['J', '^'], 'g': ['I', 'Ω'], 'k': ['Ω']}), -380.00971321000003), (defaultdict(<class 'dict'>, {'e': ['∫', 'P'], 'n': ['/', 'Z'], 'a': ['Z', 'u'], 't': ['u', 'B'], 's': ['À', 'O'], 'i': ['R', '•'], 'r': ['•', '–'], 'h': ['–', 'X'], 'o': ['X', 'W'], 'c': ['V', '+'], 'u': ['≈', 'G'], 'l': ['G', 'y'], 'y': ['F', '∞'], 'd': ['∞', 'H'], 'm': ['π', 'K'], 'b': ['Ç', '—'], 'f': ['—', 'M'], 'p': ['J', '^'], 'g': ['I', 'Ω']}), -380.0475978100001)]\n",
      "\tWorking on symbol:  T\n",
      "[(defaultdict(<class 'dict'>, {'e': ['∫', 'P'], 'n': ['/', 'Z'], 'a': ['Z', 'u'], 't': ['u', 'B'], 's': ['À', 'O'], 'i': ['R', '•'], 'r': ['•', '–'], 'h': ['–', 'X'], 'o': ['X', 'W'], 'c': ['V', '+'], 'u': ['≈', 'G'], 'l': ['G', 'y'], 'y': ['F', '∞'], 'd': ['∞', 'H'], 'm': ['π', 'K'], 'b': ['Ç', '—'], 'f': ['—', 'M'], 'p': ['J', '^'], 'g': ['I', 'Ω'], 'w': ['T']}), -394.80155881), (defaultdict(<class 'dict'>, {'e': ['∫', 'P'], 'n': ['/', 'Z'], 'a': ['Z', 'u'], 't': ['u', 'B'], 's': ['À', 'O'], 'i': ['R', '•'], 'r': ['•', '–'], 'h': ['–', 'X'], 'o': ['X', 'W'], 'c': ['V', '+'], 'u': ['≈', 'G'], 'l': ['G', 'y'], 'y': ['F', '∞'], 'd': ['∞', 'H'], 'm': ['π', 'K'], 'b': ['Ç', '—'], 'f': ['—', 'M'], 'p': ['J', '^'], 'g': ['I', 'Ω'], 'k': ['Ω', 'T'], 'w': ['T']}), -397.30342691000004)]\n",
      "\tWorking on symbol:  ‘\n",
      "[(defaultdict(<class 'dict'>, {'e': ['∫', 'P'], 'n': ['/', 'Z'], 'a': ['Z', 'u'], 't': ['u', 'B'], 's': ['À', 'O'], 'i': ['R', '•'], 'r': ['•', '–'], 'h': ['–', 'X'], 'o': ['X', 'W'], 'c': ['V', '+'], 'u': ['≈', 'G'], 'l': ['G', 'y'], 'y': ['F', '∞'], 'd': ['∞', 'H'], 'm': ['π', 'K'], 'b': ['Ç', '—'], 'f': ['—', 'M'], 'p': ['J', '^'], 'g': ['I', 'Ω'], 'w': ['T', '‘']}), -412.5010600400001), (defaultdict(<class 'dict'>, {'e': ['∫', 'P'], 'n': ['/', 'Z'], 'a': ['Z', 'u'], 't': ['u', 'B'], 's': ['À', 'O'], 'i': ['R', '•'], 'r': ['•', '–'], 'h': ['–', 'X'], 'o': ['X', 'W'], 'c': ['V', '+'], 'u': ['≈', 'G'], 'l': ['G', 'y'], 'y': ['F', '∞'], 'd': ['∞', 'H'], 'm': ['π', 'K'], 'b': ['Ç', '—'], 'f': ['—', 'M'], 'p': ['J', '^'], 'g': ['I', 'Ω'], 'w': ['T', '‘'], 'k': ['‘']}), -415.77042109999996)]\n",
      "\tWorking on symbol:  N\n",
      "[(defaultdict(<class 'dict'>, {'e': ['∫', 'P'], 'n': ['/', 'Z'], 'a': ['Z', 'u'], 't': ['u', 'B'], 's': ['À', 'O'], 'i': ['R', '•'], 'r': ['•', '–'], 'h': ['–', 'X'], 'o': ['X', 'W'], 'c': ['V', '+'], 'u': ['≈', 'G'], 'l': ['G', 'y'], 'y': ['F', '∞'], 'd': ['∞', 'H'], 'm': ['π', 'K'], 'b': ['Ç', '—'], 'f': ['—', 'M'], 'p': ['J', '^'], 'g': ['I', 'Ω'], 'w': ['T', '‘'], 'v': ['N']}), -428.12026603999993), (defaultdict(<class 'dict'>, {'e': ['∫', 'P'], 'n': ['/', 'Z'], 'a': ['Z', 'u'], 't': ['u', 'B'], 's': ['À', 'O'], 'i': ['R', '•'], 'r': ['•', '–'], 'h': ['–', 'X'], 'o': ['X', 'W'], 'c': ['V', '+'], 'u': ['≈', 'G'], 'l': ['G', 'y'], 'y': ['F', '∞'], 'd': ['∞', 'H'], 'm': ['π', 'K'], 'b': ['Ç', '—'], 'f': ['—', 'M'], 'p': ['J', '^'], 'g': ['I', 'Ω'], 'w': ['T', '‘'], 'k': ['N']}), -428.36658911000006)]\n",
      "\tWorking on symbol:  Q\n",
      "[(defaultdict(<class 'dict'>, {'e': ['∫', 'P'], 'n': ['/', 'Z'], 'a': ['Z', 'u'], 't': ['u', 'B'], 's': ['À', 'O'], 'i': ['R', '•'], 'r': ['•', '–'], 'h': ['–', 'X'], 'o': ['X', 'W'], 'c': ['V', '+'], 'u': ['≈', 'G'], 'l': ['G', 'y'], 'y': ['F', '∞'], 'd': ['∞', 'H'], 'm': ['π', 'K'], 'b': ['Ç', '—'], 'f': ['—', 'M'], 'p': ['J', '^'], 'g': ['I', 'Ω'], 'w': ['T', '‘'], 'v': ['N', 'Q']}), -446.57918592999994), (defaultdict(<class 'dict'>, {'e': ['∫', 'P'], 'n': ['/', 'Z'], 'a': ['Z', 'u'], 't': ['u', 'B'], 's': ['À', 'O'], 'i': ['R', '•'], 'r': ['•', '–'], 'h': ['–', 'X'], 'o': ['X', 'W'], 'c': ['V', '+'], 'u': ['≈', 'G'], 'l': ['G', 'y'], 'y': ['F', '∞'], 'd': ['∞', 'H'], 'm': ['π', 'K'], 'b': ['Ç', '—'], 'f': ['—', 'M'], 'p': ['J', '^'], 'g': ['I', 'Ω'], 'w': ['T', '‘'], 'k': ['N', 'Q'], 'v': ['Q']}), -446.72982381599996)]\n",
      "\tWorking on symbol:  D\n",
      "[(defaultdict(<class 'dict'>, {'e': ['∫', 'P'], 'n': ['/', 'Z'], 'a': ['Z', 'u'], 't': ['u', 'B'], 's': ['À', 'O'], 'i': ['R', '•'], 'r': ['•', '–'], 'h': ['–', 'X'], 'o': ['X', 'W'], 'c': ['V', '+'], 'u': ['≈', 'G'], 'l': ['G', 'y'], 'y': ['F', '∞'], 'd': ['∞', 'H'], 'm': ['π', 'K'], 'b': ['Ç', '—'], 'f': ['—', 'M'], 'p': ['J', '^'], 'g': ['I', 'Ω'], 'w': ['T', '‘'], 'k': ['N', 'Q'], 'v': ['Q', 'D']}), -460.533458756), (defaultdict(<class 'dict'>, {'e': ['∫', 'P'], 'n': ['/', 'Z'], 'a': ['Z', 'u'], 't': ['u', 'B'], 's': ['À', 'O'], 'i': ['R', '•'], 'r': ['•', '–'], 'h': ['–', 'X'], 'o': ['X', 'W'], 'c': ['V', '+'], 'u': ['≈', 'G'], 'l': ['G', 'y'], 'y': ['F', '∞'], 'd': ['∞', 'H'], 'm': ['π', 'K'], 'b': ['Ç', '—'], 'f': ['—', 'M'], 'p': ['J', '^'], 'g': ['I', 'Ω'], 'w': ['T', '‘'], 'v': ['N', 'Q'], 'k': ['D']}), -462.98336149999983)]\n",
      "\tWorking on symbol:  µ\n"
     ]
    },
    {
     "name": "stdout",
     "output_type": "stream",
     "text": [
      "[(defaultdict(<class 'dict'>, {'e': ['∫', 'P'], 'n': ['/', 'Z'], 'a': ['Z', 'u'], 't': ['u', 'B'], 's': ['À', 'O'], 'i': ['R', '•'], 'r': ['•', '–'], 'h': ['–', 'X'], 'o': ['X', 'W'], 'c': ['V', '+'], 'u': ['≈', 'G'], 'l': ['G', 'y'], 'y': ['F', '∞'], 'd': ['∞', 'H'], 'm': ['π', 'K'], 'b': ['Ç', '—'], 'f': ['—', 'M'], 'p': ['J', '^'], 'g': ['I', 'Ω'], 'w': ['T', '‘'], 'v': ['N', 'Q'], 'k': ['D', 'µ']}), -484.92153959), (defaultdict(<class 'dict'>, {'e': ['∫', 'P'], 'n': ['/', 'Z'], 'a': ['Z', 'u'], 't': ['u', 'B'], 's': ['À', 'O'], 'i': ['R', '•'], 'r': ['•', '–'], 'h': ['–', 'X'], 'o': ['X', 'W'], 'c': ['V', '+'], 'u': ['≈', 'G'], 'l': ['G', 'y'], 'y': ['F', '∞'], 'd': ['∞', 'H'], 'm': ['π', 'K'], 'b': ['Ç', '—'], 'f': ['—', 'M'], 'p': ['J', '^'], 'g': ['I', 'Ω'], 'w': ['T', '‘'], 'k': ['N', 'Q'], 'v': ['Q', 'D'], 'j': ['µ']}), -492.45034995599997)]\n",
      "\tWorking on symbol:  £\n",
      "[(defaultdict(<class 'dict'>, {'e': ['∫', 'P'], 'n': ['/', 'Z'], 'a': ['Z', 'u'], 't': ['u', 'B'], 's': ['À', 'O'], 'i': ['R', '•'], 'r': ['•', '–'], 'h': ['–', 'X'], 'o': ['X', 'W'], 'c': ['V', '+'], 'u': ['≈', 'G'], 'l': ['G', 'y'], 'y': ['F', '∞'], 'd': ['∞', 'H'], 'm': ['π', 'K'], 'b': ['Ç', '—'], 'f': ['—', 'M'], 'p': ['J', '^'], 'g': ['I', 'Ω'], 'w': ['T', '‘'], 'v': ['N', 'Q'], 'k': ['D', 'µ'], 'j': ['£']}), -513.2826337099998), (defaultdict(<class 'dict'>, {'e': ['∫', 'P'], 'n': ['/', 'Z'], 'a': ['Z', 'u'], 't': ['u', 'B'], 's': ['À', 'O'], 'i': ['R', '•'], 'r': ['•', '–'], 'h': ['–', 'X'], 'o': ['X', 'W'], 'c': ['V', '+'], 'u': ['≈', 'G'], 'l': ['G', 'y'], 'y': ['F', '∞'], 'd': ['∞', 'H'], 'm': ['π', 'K'], 'b': ['Ç', '—'], 'f': ['—', 'M'], 'p': ['J', '^'], 'g': ['I', 'Ω'], 'w': ['T', '‘'], 'v': ['N', 'Q'], 'k': ['D', 'µ'], 'z': ['£']}), -513.72394929)]\n",
      "\tWorking on symbol:  S\n",
      "[(defaultdict(<class 'dict'>, {'e': ['∫', 'P'], 'n': ['/', 'Z'], 'a': ['Z', 'u'], 't': ['u', 'B'], 's': ['À', 'O'], 'i': ['R', '•'], 'r': ['•', '–'], 'h': ['–', 'X'], 'o': ['X', 'W'], 'c': ['V', '+'], 'u': ['≈', 'G'], 'l': ['G', 'y'], 'y': ['F', '∞'], 'd': ['∞', 'H'], 'm': ['π', 'K'], 'b': ['Ç', '—'], 'f': ['—', 'M'], 'p': ['J', '^'], 'g': ['I', 'Ω'], 'w': ['T', '‘'], 'v': ['N', 'Q'], 'k': ['D', 'µ'], 'j': ['£', 'S']}), -534.3437166700002), (defaultdict(<class 'dict'>, {'e': ['∫', 'P'], 'n': ['/', 'Z'], 'a': ['Z', 'u'], 't': ['u', 'B'], 's': ['À', 'O'], 'i': ['R', '•'], 'r': ['•', '–'], 'h': ['–', 'X'], 'o': ['X', 'W'], 'c': ['V', '+'], 'u': ['≈', 'G'], 'l': ['G', 'y'], 'y': ['F', '∞'], 'd': ['∞', 'H'], 'm': ['π', 'K'], 'b': ['Ç', '—'], 'f': ['—', 'M'], 'p': ['J', '^'], 'g': ['I', 'Ω'], 'w': ['T', '‘'], 'v': ['N', 'Q'], 'k': ['D', 'µ'], 'z': ['£', 'S']}), -535.0496176500004)]\n",
      "\tWorking on symbol:  ¢\n",
      "[(defaultdict(<class 'dict'>, {'e': ['∫', 'P'], 'n': ['/', 'Z'], 'a': ['Z', 'u'], 't': ['u', 'B'], 's': ['À', 'O'], 'i': ['R', '•'], 'r': ['•', '–'], 'h': ['–', 'X'], 'o': ['X', 'W'], 'c': ['V', '+'], 'u': ['≈', 'G'], 'l': ['G', 'y'], 'y': ['F', '∞'], 'd': ['∞', 'H'], 'm': ['π', 'K'], 'b': ['Ç', '—'], 'f': ['—', 'M'], 'p': ['J', '^'], 'g': ['I', 'Ω'], 'w': ['T', '‘'], 'v': ['N', 'Q'], 'k': ['D', 'µ'], 'z': ['£', 'S'], 'j': ['¢']}), -547.2526327200002), (defaultdict(<class 'dict'>, {'e': ['∫', 'P'], 'n': ['/', 'Z'], 'a': ['Z', 'u'], 't': ['u', 'B'], 's': ['À', 'O'], 'i': ['R', '•'], 'r': ['•', '–'], 'h': ['–', 'X'], 'o': ['X', 'W'], 'c': ['V', '+'], 'u': ['≈', 'G'], 'l': ['G', 'y'], 'y': ['F', '∞'], 'd': ['∞', 'H'], 'm': ['π', 'K'], 'b': ['Ç', '—'], 'f': ['—', 'M'], 'p': ['J', '^'], 'g': ['I', 'Ω'], 'w': ['T', '‘'], 'v': ['N', 'Q'], 'k': ['D', 'µ'], 'j': ['£', 'S'], 'z': ['¢']}), -548.5378304699999)]\n",
      "\tWorking on symbol:  ∑\n",
      "[(defaultdict(<class 'dict'>, {'e': ['∫', 'P'], 'n': ['/', 'Z'], 'a': ['Z', 'u'], 't': ['u', 'B'], 's': ['À', 'O'], 'i': ['R', '•'], 'r': ['•', '–'], 'h': ['–', 'X'], 'o': ['X', 'W'], 'c': ['V', '+'], 'u': ['≈', 'G'], 'l': ['G', 'y'], 'y': ['F', '∞'], 'd': ['∞', 'H'], 'm': ['π', 'K'], 'b': ['Ç', '—'], 'f': ['—', 'M'], 'p': ['J', '^'], 'g': ['I', 'Ω'], 'w': ['T', '‘'], 'v': ['N', 'Q'], 'k': ['D', 'µ'], 'z': ['£', 'S'], 'j': ['¢', '∑'], 'x': ['∑']}), -572.8116779400001), (defaultdict(<class 'dict'>, {'e': ['∫', 'P'], 'n': ['/', 'Z'], 'a': ['Z', 'u'], 't': ['u', 'B'], 's': ['À', 'O'], 'i': ['R', '•'], 'r': ['•', '–'], 'h': ['–', 'X'], 'o': ['X', 'W'], 'c': ['V', '+'], 'u': ['≈', 'G'], 'l': ['G', 'y'], 'y': ['F', '∞'], 'd': ['∞', 'H'], 'm': ['π', 'K'], 'b': ['Ç', '—'], 'f': ['—', 'M'], 'p': ['J', '^'], 'g': ['I', 'Ω'], 'w': ['T', '‘'], 'v': ['N', 'Q'], 'k': ['D', 'µ'], 'j': ['£', 'S'], 'z': ['¢', '∑'], 'x': ['∑']}), -574.48017284)]\n",
      "\tWorking on symbol:  A\n",
      "[(defaultdict(<class 'dict'>, {'e': ['∫', 'P'], 'n': ['/', 'Z'], 'a': ['Z', 'u'], 't': ['u', 'B'], 's': ['À', 'O'], 'i': ['R', '•'], 'r': ['•', '–'], 'h': ['–', 'X'], 'o': ['X', 'W'], 'c': ['V', '+'], 'u': ['≈', 'G'], 'l': ['G', 'y'], 'y': ['F', '∞'], 'd': ['∞', 'H'], 'm': ['π', 'K'], 'b': ['Ç', '—'], 'f': ['—', 'M'], 'p': ['J', '^'], 'g': ['I', 'Ω'], 'w': ['T', '‘'], 'v': ['N', 'Q'], 'k': ['D', 'µ'], 'z': ['£', 'S'], 'j': ['¢', '∑'], 'x': ['∑', 'A']}), -599.1760387000003), (defaultdict(<class 'dict'>, {'e': ['∫', 'P'], 'n': ['/', 'Z'], 'a': ['Z', 'u'], 't': ['u', 'B'], 's': ['À', 'O'], 'i': ['R', '•'], 'r': ['•', '–'], 'h': ['–', 'X'], 'o': ['X', 'W'], 'c': ['V', '+'], 'u': ['≈', 'G'], 'l': ['G', 'y'], 'y': ['F', '∞'], 'd': ['∞', 'H'], 'm': ['π', 'K'], 'b': ['Ç', '—'], 'f': ['—', 'M'], 'p': ['J', '^'], 'g': ['I', 'Ω'], 'w': ['T', '‘'], 'v': ['N', 'Q'], 'k': ['D', 'µ'], 'j': ['£', 'S'], 'z': ['¢', '∑'], 'x': ['∑', 'A']}), -599.7615908300002)]\n",
      "\tWorking on symbol:  ∆\n",
      "[(defaultdict(<class 'dict'>, {'e': ['∫', 'P'], 'n': ['/', 'Z'], 'a': ['Z', 'u'], 't': ['u', 'B'], 's': ['À', 'O'], 'i': ['R', '•'], 'r': ['•', '–'], 'h': ['–', 'X'], 'o': ['X', 'W'], 'c': ['V', '+'], 'u': ['≈', 'G'], 'l': ['G', 'y'], 'y': ['F', '∞'], 'd': ['∞', 'H'], 'm': ['π', 'K'], 'b': ['Ç', '—'], 'f': ['—', 'M'], 'p': ['J', '^'], 'g': ['I', 'Ω'], 'w': ['T', '‘'], 'v': ['N', 'Q'], 'k': ['D', 'µ'], 'z': ['£', 'S'], 'j': ['¢', '∑'], 'x': ['∑', 'A'], 'q': ['∆']}), -614.4570790000001), (defaultdict(<class 'dict'>, {'e': ['∫', 'P'], 'n': ['/', 'Z'], 'a': ['Z', 'u'], 't': ['u', 'B'], 's': ['À', 'O'], 'i': ['R', '•'], 'r': ['•', '–'], 'h': ['–', 'X'], 'o': ['X', 'W'], 'c': ['V', '+'], 'u': ['≈', 'G'], 'l': ['G', 'y'], 'y': ['F', '∞'], 'd': ['∞', 'H'], 'm': ['π', 'K'], 'b': ['Ç', '—'], 'f': ['—', 'M'], 'p': ['J', '^'], 'g': ['I', 'Ω'], 'w': ['T', '‘'], 'v': ['N', 'Q'], 'k': ['D', 'µ'], 'j': ['£', 'S'], 'z': ['¢', '∑'], 'x': ['∑', 'A'], 'q': ['∆']}), -615.0426311300001)]\n",
      "\tWorking on symbol:  Ã\n",
      "[(defaultdict(<class 'dict'>, {'e': ['∫', 'P'], 'n': ['/', 'Z'], 'a': ['Z', 'u'], 't': ['u', 'B'], 's': ['À', 'O'], 'i': ['R', '•'], 'r': ['•', '–'], 'h': ['–', 'X'], 'o': ['X', 'W'], 'c': ['V', '+'], 'u': ['≈', 'G'], 'l': ['G', 'y'], 'y': ['F', '∞'], 'd': ['∞', 'H'], 'm': ['π', 'K'], 'b': ['Ç', '—'], 'f': ['—', 'M'], 'p': ['J', '^'], 'g': ['I', 'Ω'], 'w': ['T', '‘'], 'v': ['N', 'Q'], 'k': ['D', 'µ'], 'z': ['£', 'S'], 'j': ['¢', '∑'], 'x': ['∑', 'A'], 'q': ['∆', 'Ã']}), -632.8877168400003), (defaultdict(<class 'dict'>, {'e': ['∫', 'P'], 'n': ['/', 'Z'], 'a': ['Z', 'u'], 't': ['u', 'B'], 's': ['À', 'O'], 'i': ['R', '•'], 'r': ['•', '–'], 'h': ['–', 'X'], 'o': ['X', 'W'], 'c': ['V', '+'], 'u': ['≈', 'G'], 'l': ['G', 'y'], 'y': ['F', '∞'], 'd': ['∞', 'H'], 'm': ['π', 'K'], 'b': ['Ç', '—'], 'f': ['—', 'M'], 'p': ['J', '^'], 'g': ['I', 'Ω'], 'w': ['T', '‘'], 'v': ['N', 'Q'], 'k': ['D', 'µ'], 'j': ['£', 'S'], 'z': ['¢', '∑'], 'x': ['∑', 'A'], 'q': ['∆', 'Ã']}), -633.9209000800003)]\n",
      "\tWorking on symbol:  E\n",
      "[]\n",
      "\tWorking on symbol:  L\n",
      "[]\n",
      "\tWorking on symbol:  ƒ\n",
      "[]\n",
      "\tWorking on symbol:  “\n",
      "[]\n",
      "\tWorking on symbol:  \\\n",
      "[]\n",
      "\tWorking on symbol:  æ\n",
      "[]\n",
      "\tWorking on symbol:  §\n",
      "[]\n",
      "\tWorking on symbol:  √\n",
      "[]\n",
      "\tWorking on symbol:  j\n",
      "[]\n",
      "\tWorking on symbol:  ∏\n",
      "[]\n"
     ]
    }
   ],
   "source": [
    "reversed_mapping = beam_search(list(cipher_desc['frequencies'].keys()), 2, 2)\n",
    "#mapping = reverse_mapping(reversed_mapping)"
   ]
  },
  {
   "cell_type": "code",
   "execution_count": 79,
   "metadata": {},
   "outputs": [
    {
     "data": {
      "text/plain": [
       "[]"
      ]
     },
     "execution_count": 79,
     "metadata": {},
     "output_type": "execute_result"
    }
   ],
   "source": [
    "reversed_mapping"
   ]
  },
  {
   "cell_type": "code",
   "execution_count": null,
   "metadata": {},
   "outputs": [],
   "source": []
  },
  {
   "cell_type": "code",
   "execution_count": null,
   "metadata": {},
   "outputs": [],
   "source": []
  },
  {
   "cell_type": "code",
   "execution_count": null,
   "metadata": {},
   "outputs": [],
   "source": []
  },
  {
   "cell_type": "markdown",
   "metadata": {},
   "source": [
    "Notice that the default solution provides a very bad decipherment. Your job is to make it better!"
   ]
  },
  {
   "cell_type": "markdown",
   "metadata": {},
   "source": [
    "## Grading"
   ]
  },
  {
   "cell_type": "markdown",
   "metadata": {},
   "source": [
    "Ignore the following cells. They are for grading against the reference decipherment. Based on the clues provided in the decipherment homework description, you can easily find a reasonable reference text online for this cipher text."
   ]
  },
  {
   "cell_type": "code",
   "execution_count": null,
   "metadata": {},
   "outputs": [],
   "source": [
    "\"\"\"\n",
    "ATTENTION!\n",
    "For grading purposes only. Don't bundle with the assignment. \n",
    "Make sure '_ref.txt' is removed from the 'data' directory before publishing.\n",
    "\"\"\"\n",
    "\n",
    "def read_gold(gold_file):\n",
    "    with open(gold_file) as f:\n",
    "        gold = f.read()\n",
    "    f.close()\n",
    "    gold = list(gold.strip())\n",
    "    return gold\n",
    "\n",
    "def symbol_error_rate(dec, _gold):\n",
    "    gold = read_gold(_gold)\n",
    "    correct = 0\n",
    "    if len(gold) == len(dec):\n",
    "        for (d,g) in zip(dec, gold):\n",
    "            if d==g:\n",
    "                correct += 1\n",
    "    wrong = len(gold)-correct\n",
    "    error = wrong/len(gold)\n",
    "    \n",
    "    return error"
   ]
  },
  {
   "cell_type": "code",
   "execution_count": null,
   "metadata": {},
   "outputs": [],
   "source": [
    "# gold decipherment\n",
    "gold_file = \"data/_ref.txt\"\n",
    "ser = symbol_error_rate(decipherment, gold_file)\n",
    "print('Error: ', ser*100, 'Accuracy: ', (1-ser)*100)"
   ]
  },
  {
   "cell_type": "code",
   "execution_count": null,
   "metadata": {},
   "outputs": [],
   "source": []
  }
 ],
 "metadata": {
  "kernelspec": {
   "display_name": "Python 3",
   "language": "python",
   "name": "python3"
  },
  "language_info": {
   "codemirror_mode": {
    "name": "ipython",
    "version": 3
   },
   "file_extension": ".py",
   "mimetype": "text/x-python",
   "name": "python",
   "nbconvert_exporter": "python",
   "pygments_lexer": "ipython3",
   "version": "3.6.5"
  }
 },
 "nbformat": 4,
 "nbformat_minor": 2
}
