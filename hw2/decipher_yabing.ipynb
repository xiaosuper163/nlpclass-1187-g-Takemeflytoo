{
 "cells": [
  {
   "cell_type": "markdown",
   "metadata": {},
   "source": [
    "# Homework: Decipherment"
   ]
  },
  {
   "cell_type": "code",
   "execution_count": 1,
   "metadata": {},
   "outputs": [],
   "source": [
    "%load_ext autoreload\n",
    "%autoreload 2\n",
    "from collections import defaultdict, Counter\n",
    "import collections\n",
    "import pprint\n",
    "import math\n",
    "import bz2\n",
    "from ngram import *\n",
    "import sys, string, os\n",
    "import copy\n",
    "import pickle\n",
    "#from joblib import Parallel, delayed\n",
    "import itertools\n",
    "from multiprocessing import Process,Pool, cpu_count\n",
    "import datetime, time, random\n",
    "pp = pprint.PrettyPrinter(width=45, compact=True)"
   ]
  },
  {
   "cell_type": "markdown",
   "metadata": {},
   "source": [
    "First let us read in the cipher text from the `data` directory:"
   ]
  },
  {
   "cell_type": "code",
   "execution_count": 2,
   "metadata": {},
   "outputs": [],
   "source": [
    "def read_file(filename):\n",
    "    if filename[-4:] == \".bz2\":\n",
    "        with bz2.open(filename, 'rt', encoding='utf8') as f:\n",
    "            content = f.read()\n",
    "            f.close()\n",
    "    else:\n",
    "        with open(filename, 'r', encoding='utf8') as f:\n",
    "            content = f.read()\n",
    "            f.close()\n",
    "    return content\n",
    "\n",
    "cipher = read_file(\"data/cipher.txt\")\n",
    "# print(cipher)"
   ]
  },
  {
   "cell_type": "markdown",
   "metadata": {},
   "source": [
    "For the default solution we need to compute statistics like length, number of symbols/letters, \n",
    "unique occurences, frequencies and relative frequencies of a given file. This is done in the function `get_statistics` below.\n",
    "\n",
    "While using `get_statistics`, make sure that `cipher=True` is set when the input is a ciphertext."
   ]
  },
  {
   "cell_type": "code",
   "execution_count": 3,
   "metadata": {},
   "outputs": [],
   "source": [
    "def get_statistics(content, cipher=True):\n",
    "    stats = {}\n",
    "    content = list(content)\n",
    "    split_content = [x for x in content if x != '\\n' and x!=' ']\n",
    "    length = len(split_content)\n",
    "    symbols = set(split_content)\n",
    "    uniq_sym = len(list(symbols))\n",
    "    freq = collections.Counter(split_content)\n",
    "    rel_freq = {}\n",
    "    for sym, frequency in freq.items():\n",
    "        rel_freq[sym] = (frequency/length)*100\n",
    "        \n",
    "    if cipher:\n",
    "        stats = {'content':split_content, 'length':length, 'vocab':list(symbols), 'vocab_length':uniq_sym, 'frequencies':freq, 'relative_freq':rel_freq}\n",
    "    else:\n",
    "        stats = {'length':length, 'vocab':list(symbols), 'vocab_length':uniq_sym, 'frequencies':freq, 'relative_freq':rel_freq}\n",
    "    return stats"
   ]
  },
  {
   "cell_type": "code",
   "execution_count": 4,
   "metadata": {},
   "outputs": [],
   "source": [
    "def read_gold(gold_file):\n",
    "    with open(gold_file) as f:\n",
    "        gold = f.read()\n",
    "    f.close()\n",
    "    gold = list(gold.strip())\n",
    "    return gold\n",
    "\n",
    "def symbol_error_rate(dec, _gold):\n",
    "    gold = read_gold(_gold)\n",
    "    correct = 0\n",
    "    if len(gold) == len(dec):\n",
    "        for (d,g) in zip(dec, gold):\n",
    "            if d==g:\n",
    "                correct += 1\n",
    "    wrong = len(gold)-correct\n",
    "    error = wrong/len(gold)\n",
    "    \n",
    "    return error"
   ]
  },
  {
   "cell_type": "code",
   "execution_count": 5,
   "metadata": {
    "scrolled": true
   },
   "outputs": [],
   "source": [
    "cipher_desc = get_statistics(cipher, cipher=True)\n",
    "plaintxt = read_file(\"data/default.wiki.txt.bz2\")\n",
    "plaintxt_desc = get_statistics(plaintxt, cipher=False)\n",
    "#pp.pprint(cipher_desc)"
   ]
  },
  {
   "cell_type": "markdown",
   "metadata": {},
   "source": [
    "## Load the 6-gram model"
   ]
  },
  {
   "cell_type": "code",
   "execution_count": 6,
   "metadata": {},
   "outputs": [
    {
     "name": "stderr",
     "output_type": "stream",
     "text": [
      "Reading language model from data/6-gram-wiki-char.lm.bz2...\n"
     ]
    },
    {
     "name": "stdout",
     "output_type": "stream",
     "text": [
      "Wall time: 15.8 s\n"
     ]
    },
    {
     "name": "stderr",
     "output_type": "stream",
     "text": [
      "Done.\n"
     ]
    }
   ],
   "source": [
    "%%time\n",
    "sequence = 'In a few cases, a multilingual artifact has been necessary to facilitate decipherment, the Rosetta Stone being the classic example. Statistical techniques provide another pathway to decipherment, as does the analysis of modern languages derived from ancient languages in which undeciphered texts are written. Archaeological and historical information is helpful in verifying hypothesized decipherments.'\n",
    "\n",
    "# lm = LM(\"data/6-gram-wiki-char.lm.bz2\", n=6, verbose=True)\n",
    "lm = LM(\"data/6-gram-wiki-char.lm.bz2\", n=6, verbose=False)"
   ]
  },
  {
   "cell_type": "code",
   "execution_count": 7,
   "metadata": {},
   "outputs": [
    {
     "name": "stdout",
     "output_type": "stream",
     "text": [
      "-2.545382\n"
     ]
    }
   ],
   "source": [
    "# print(sequence)\n",
    "# lm_logprob = lm.score_seq(sequence)\n",
    "# print(\"TOTAL LM LOGPROB: {}\".format(lm_logprob), file=sys.stderr)\n",
    "# print(\"TOTAL LM LOGPROB: {}\".format(lm.score_seq('this is the text.')), file=sys.stderr)\n",
    "# print(lm.get_bitstring_spans('..oo...ooo..'))\n",
    "# print(lm.score_bitstring('thisisatest', 'ooooooooooo'))\n",
    "print(lm.score_bitstring('thisisatest', '...........'))"
   ]
  },
  {
   "cell_type": "markdown",
   "metadata": {},
   "source": [
    "## Implementation for Reference 3 to find the optimal extension order"
   ]
  },
  {
   "cell_type": "markdown",
   "metadata": {},
   "source": [
    "This is the implementation of the reference 'Beam Search for Solving Substitution Ciphers'. The goal is to find the best extension order. As the paper mentioned, it is important to find a set of weights for the ngram order. I chose the weights \\[1,1,1,1,2,3\\] suggested by Anoop in a discussion post. I also tried several sets of weights. For beamsize of 10000, the result was not influenced quite much."
   ]
  },
  {
   "cell_type": "code",
   "execution_count": 8,
   "metadata": {},
   "outputs": [],
   "source": [
    "def find_sharp_n(cipher_desc, symbols_found, n_order):\n",
    "    '''\n",
    "    finds the #n for order n_order\n",
    "    cipher_desc -- cipher statistics\n",
    "    symbols_found -- list of single character string,\n",
    "                     specifies the list of symbols have been placed in the extention order\n",
    "    n_order -- int, specifies the order of n-gram\n",
    "    '''\n",
    "    sharp_n = 0\n",
    "    for i in range(len(cipher_desc['content'])-n_order+1):\n",
    "        for j in range(i, i+n_order, 1):\n",
    "            if cipher_desc['content'][j] not in symbols_found:\n",
    "                break\n",
    "            if j == (i+n_order-1):\n",
    "                sharp_n += 1\n",
    "                #print(cipher_desc['content'][i:i+n_order])\n",
    "    return sharp_n            "
   ]
  },
  {
   "cell_type": "markdown",
   "metadata": {},
   "source": [
    "This is used to test the find_sharp_n function above. The results should be correct."
   ]
  },
  {
   "cell_type": "code",
   "execution_count": 9,
   "metadata": {},
   "outputs": [],
   "source": [
    "# test_str = 'ASCREAMINGCOMESACROSSTHESKY'\n",
    "# print(find_sharp_n(get_statistics(test_str), ['A','G','H','K','Y'],6))\n",
    "# find_sharp_n(get_statistics(test_str), ['S','C','E','M','O'],2)"
   ]
  },
  {
   "cell_type": "markdown",
   "metadata": {},
   "source": [
    "Use a beam search to find the optimal extension order. The code below is pretty similar to the beam_search function. Most of the code is copied from it. For simplicity, the variable name might not quite make sense."
   ]
  },
  {
   "cell_type": "code",
   "execution_count": 10,
   "metadata": {},
   "outputs": [],
   "source": [
    "def find_ext_order(cipher_desc, topn=100, weights=[1,1,1,1,2,3]):\n",
    "    '''\n",
    "    finds the best order of deciphering cipher symbols (find best extention order)\n",
    "    cipher_desc -- cipher statistics\n",
    "    topn -- int, number of best trees we want to keep during iteration\n",
    "    weights -- list of int, weight for #n, n varies from 1 to 6\n",
    "    '''\n",
    "    # symbols already found with score\n",
    "    Hs = [([], 0)]\n",
    "    # hypothesis extended symbols with score\n",
    "    Ht = []\n",
    "    # initialize the cardinality (number of unique cipher text)\n",
    "    cardinality = 0\n",
    "    # if no weight is specified for unigram, use the most frequent symbol as the starting point\n",
    "    if weights[0] == 0:\n",
    "        cardinality += 1\n",
    "        Hs.append(([sorted(cipher_desc['frequencies'], key=cipher_desc['frequencies'].get, reverse=True)[0]], 0))\n",
    "    # list of cipher symbols\n",
    "    Ve = sorted(cipher_desc['frequencies'], key=cipher_desc['frequencies'].get, reverse=True)\n",
    "    while cardinality < cipher_desc['vocab_length']:\n",
    "        for phi, previous_score in Hs:\n",
    "            for e in Ve:\n",
    "                phi_prime = copy.deepcopy(phi)\n",
    "                if e in phi_prime:\n",
    "                    continue\n",
    "                else:\n",
    "                    phi_prime.append(e)\n",
    "                    this_score = 0\n",
    "                    for i in range(len(weights)):\n",
    "                        this_score += weights[i]*find_sharp_n(cipher_desc, phi_prime, i+1)\n",
    "                    Ht.append((phi_prime, this_score))\n",
    "        # prune the histogram\n",
    "        Ht = sorted(Ht, key=lambda x:x[1], reverse=True)[:topn]                    \n",
    "        cardinality += 1\n",
    "        Hs = copy.deepcopy(Ht)\n",
    "        Ht.clear()\n",
    "        #print('Done with symbol number', cardinality, '; Current best score: ', Hs[0][1])\n",
    "        #print('Hs', Hs)\n",
    "    return sorted(Hs, key=lambda x:x[1], reverse=True)"
   ]
  },
  {
   "cell_type": "code",
   "execution_count": null,
   "metadata": {},
   "outputs": [],
   "source": [
    "%%time\n",
    "ext_orders = find_ext_order(cipher_desc, topn=100, weights=[1,1,1,1,2,3])"
   ]
  },
  {
   "cell_type": "code",
   "execution_count": 12,
   "metadata": {},
   "outputs": [
    {
     "name": "stdout",
     "output_type": "stream",
     "text": [
      "['—', '∑', 'B', 'P', 'º', '∫', 'A', '/', 'Z',\n",
      " '∆', 'u', 'O', 'R', 'À', 'Ã', 'E', 'V', '–',\n",
      " '√', 'W', '^', 'K', 'I', '£', '∞', 'H', 'M',\n",
      " '•', 'X', '≈', 'π', 'F', '“', 'S', 'N', 'L',\n",
      " 'µ', 'æ', '+', 'G', 'y', '‘', '∏', 'Ç', 'J',\n",
      " 'T', 'Q', 'ƒ', 'D', '\\\\', '¢', '§', 'Ω',\n",
      " 'j']\n"
     ]
    }
   ],
   "source": [
    "ext_order = ext_orders[0][0]\n",
    "pp.pprint(ext_order)"
   ]
  },
  {
   "cell_type": "code",
   "execution_count": null,
   "metadata": {},
   "outputs": [],
   "source": [
    "# with open('ext_order.pkl', 'wb') as fh:\n",
    "#     pickle.dump(ext_orders, fh)"
   ]
  },
  {
   "cell_type": "code",
   "execution_count": 11,
   "metadata": {},
   "outputs": [],
   "source": [
    "# with open('ext_order.pkl', 'rb') as fh:\n",
    "#     ext_order = pickle.load(fh, encoding='utf8')[0][0]"
   ]
  },
  {
   "cell_type": "markdown",
   "metadata": {},
   "source": [
    "## Gold"
   ]
  },
  {
   "cell_type": "markdown",
   "metadata": {},
   "source": [
    "In this section, we investigate what is the ground truth mapping relationship of Zodiac cipher. The goal is to get some sense of how good or bad our extension order is. If the correct answer has been pruned out at a very early stage, it is not quite possible that the text can be fully deciphered since the following score is computed based on a wrong partial deciphered text."
   ]
  },
  {
   "cell_type": "markdown",
   "metadata": {},
   "source": [
    "We tried several sets of weights to get different extension order results. An interesting finding is that the score is always quite bad at the beginning. This significantly increases the possiblity of pruning the correct mapping. When we tried different extension orders, what we were looking for was an order that the score of the correct answer can be pretty decent at the first 5 or 6 iterations."
   ]
  },
  {
   "cell_type": "code",
   "execution_count": 13,
   "metadata": {},
   "outputs": [
    {
     "name": "stdout",
     "output_type": "stream",
     "text": [
      "ilikekillingpeoplebecauseitissomuchfunitismorefunthankillingwildgameintheforrestbecausemanisthemostdangeroueanamalofalltokillsomethinggivesmethemostthrillingexperenceitisevenbetterthangettingyourrocksoffwithagirlthebestpartofitisthaewhenidieiwillbereborninparadicesndalltheihavekilledwillbecomemyslavesiwillnotgiveyoumynamebecauseyouwilltrytosloidownorstopmycollectiogofslavesformyafterlifeebeorietemethhpiti\n",
      "score -359.0030393831197\n",
      "408\n"
     ]
    }
   ],
   "source": [
    "with open('data/_ref_Zodiac_408.txt', 'r') as fh:\n",
    "    ground_truth = fh.read()\n",
    "print(ground_truth)\n",
    "print('score', lm.score_seq(ground_truth))\n",
    "print(len(ground_truth))"
   ]
  },
  {
   "cell_type": "code",
   "execution_count": 14,
   "metadata": {
    "scrolled": true
   },
   "outputs": [],
   "source": [
    "gold = read_gold('data/_ref_Zodiac_408.txt')\n",
    "gold_dict = dict()\n",
    "for index in range(len(cipher_desc['content'])):\n",
    "    cipher_char = cipher_desc['content'][index]\n",
    "    if cipher_char not in gold_dict.keys():\n",
    "        gold_dict[cipher_char] = gold[index]"
   ]
  },
  {
   "cell_type": "code",
   "execution_count": 15,
   "metadata": {
    "scrolled": true
   },
   "outputs": [
    {
     "name": "stdout",
     "output_type": "stream",
     "text": [
      "Iteration 1, symbol —, score: -27.947701999999992\n",
      "_______________________________m__________m_______________________m____________________m_______m_______________m_______________m___________m____m___________________________________________________________________________________________________________________________________________________m_m______________________m___m__________________________________m______________________m___________________m________\n",
      "Iteration 2, symbol ∑, score: -41.34324120000001\n",
      "_______________________________m__________m____________l__________m____________________m_______m_______________m_____l_____l___m___________m____m_______l___________________________________________________________________________________________l_________________________________________l_____m_m__l___________________m___m______________l___________________m___ll_________________m___________________m________\n",
      "Iteration 3, symbol B, score: -55.25409240000002\n",
      "_______l________l______________m__________m____________ll_________m____________________m_______m_______________m_l___ll____ll__m___________m____m_______ll__________________________________________________________________________________________ll________________________________________ll____m_m__l_______l___________m___m______________l______l____________m___ll_________________m______l____________m________\n",
      "Iteration 4, symbol P, score: -65.89092420000003\n",
      "__i____l________l__________i___m__________m____________lli________m____________________m_______m_______________m_l___ll___ill__m___________m____m_______lli_________________________________________________i________________________________i______ll________i______________________________ill____m_m__l_______l___________m___m______________l______l____________m___ll___i_____________m______li___________m________\n",
      "Iteration 5, symbol º, score: -79.50212730000001\n",
      "i_i____l________l________i_i___m__________m___________illi________m____________________m__i____m_______________m_l___ll___ill__m___________m____m______illi_________________________________i_______________i______________________i_________i_____ill________i________________________i_____ill____m_m__l____i_il___________m___m____________i_l______l_i__________m___ll___i_____________m______li_______i___m________\n",
      "Iteration 6, symbol ∫, score: -92.02616899999997\n",
      "ili____ll_______l________i_i___m__________m___________illi____l___m____________________m__i____m_______________m_l___ll___ill__m___________m____m______illi_________________________________i_______________i______l_______________i_________i_____ill________i_____________ll_________ill___ill____m_m__l____i_ill__________m___m____________ill______l_i__________m___ll___i_____l_______m______li_______i___m________\n",
      "Iteration 7, symbol A, score: -102.23625073999996\n",
      "ili____ll_______l________i_i___m__________m___________illi__w_l___m____________________m__i____m_______________m_l___ll___ill__m___________m____m______illi_________________________________i______________wi______l_______________i_____w___i____will________i_____________ll_________ill__will____m_m__l____iwill__________m___m___________will______l_i__w_______m___ll___i_____l_______m______li_______i___m________\n",
      "Iteration 8, symbol /, score: -110.10872593999996\n",
      "ilik_k_ll_______l________i_i___m__________m__________killi__w_l___m____________________m__i____m_______________m_l___ll__kill__m___________m____m______illi_________________________________i_________k____wi______l_______________i_____w___i____will________i_____________ll________kill__will____m_m__l____iwill__________m___m___________will______l_i__w_______m___ll___i_____l_______m______li_______i___m________\n",
      "Iteration 9, symbol Z, score: -115.80061967999998\n",
      "ilikek_ll_______l________i_i___m__________m__________killi__w_l___m_____e______________m__i____m_______________m_l___ll__kill__m_________e_m____m______illi_______________e_________________i_________k____wi______l_______________i_____w_e_i____will________i_____________ll________kille_will____m_m__l____iwill__________m___m__e________will______l_i__w_______m___ll___i_____l__e____m______li_______i___m________\n",
      "Iteration 10, symbol ∆, score: -117.85747809999998\n",
      "ilikek_ll_______l________i_i___m__________m__________killi__w_ld__m_____e______________m__i____m_______________m_l___ll__kill__m_________e_m____m______illi_______________e_________________i_________k____wi______l_______________i_____w_e_i____will________i_____d_______ll________killedwill____m_m__l____iwill__________m___m__e________will______l_i__w_______m___ll___i_____l__e____m______li_______i___m________\n",
      "Iteration 11, symbol u, score: -125.84286761\n",
      "ilikekill_______l________i_i___m______i___m__________killi__wild__m_____e______________m__i____m_______________m_l___ll__kill__m___i_____e_m____m______illi___________i___e_________________i_________k____wi____i_l_______________i_____w_e_i_i__will________i_____di______ll________killedwill____m_m__l____iwill____i_____m___m__e________will______l_i__w_______m___ll___i_____l__e____m______li_______i___m_____i__\n",
      "Iteration 12, symbol O, score: -131.89823053999993\n",
      "ilikekill_n_____l________i_i___m______i___m__________killin_wild__m_____e______________m__i____m_____________n_m_l___ll__kill__m___i_____e_m____m______illi___________i___e__n______________i_________k____wi____i_l_______________i_____w_e_i_i__will_______ni_____di______ll________killedwill____m_m__l____iwilln___i_____m___m__e________will______l_i__w_______m___ll___in____l__e____m______li_______i___m_____i__\n",
      "Iteration 13, symbol R, score: -148.30802733999997\n",
      "ilikekill_ng____l________i_i___m______i___m__________killingwildg_m_____e______________m__i____m______g______n_m_l___ll__kill__m___i_gg__e_m____m______illi_g_________i___e__n__________g___i_g_______k____wi___gi_l_______________i_____w_e_i_i__will_______ni_____di______ll________killedwill____m_m__l____iwilln__gi_____m___m__e________will______l_i__w_______m___ll___ing___l__e____m______li_______i___m_____i__\n",
      "Iteration 14, symbol À, score: -157.76782241\n",
      "ilikekilling____l________i_i___m______i_i_m__________killingwildg_m_i___e______________m__i____m______g______n_m_l___ll__kill__m___i_ggi_e_m____m______illi_g_________i_i_e__n__________g___i_g_______k____wi___gi_l_____________i_i_____w_e_i_i_iwill_______ni_____di______ll___i____killedwill____m_m__l____iwilln__gi_____m___m__e________will______l_i__w_______m___ll___ing___l__e____m______li_______i___m_____i_i\n",
      "Iteration 15, symbol Ã, score: -161.25205151000003\n",
      "ilikekilling____l________i_i___m______i_i_m__________killingwildgam_i___e______________m__i____m______g_____an_m_l___ll__kill__m___i_ggi_e_m____m______illi_g_________i_i_e__n________a_g___i_g_______k____wi___gi_l_____________i_i___a_w_e_i_i_iwill_______ni____adi______ll___i____killedwill____m_m__l____iwilln__gi_____m___m__e________will______l_i__w_______m___ll___ing___l__e____m______li_______i___m_____i_i\n",
      "Iteration 16, symbol E, score: -168.42822499999997\n",
      "ilikekilling____l________i_i___m______i_i_m__________killingwildgamei___e______________m__i____m______g____ean_m_l___ll__kill__me__i_ggi_e_m____m______illi_g________ei_i_e__n________a_g___i_g_______k____wi___gi_l____e________i_i___a_w_e_i_i_iwill_______ni____adi______ll___i___ekilledwill____m_m__l____iwilln__gi_____m___m__e____e___will______l_i__w_______m___ll___ing___l__e____m______li____e__i___me____i_i\n",
      "Iteration 17, symbol V, score: -182.1360727\n",
      "ilikekilling____l_b______i_i___m______i_i_m__________killingwildgamei___e_______b______m__i____m______g____ean_m_l___ll__kill__me__i_ggi_e_m____m______illi_g________ei_i_e__nb_______a_g___i_g_______k____wi___gi_l___be________i_i___a_w_e_i_i_iwillb___b__ni____adi______ll___i___ekilledwillb___m_m__l____iwilln__gi_____m___m_be____e___will______l_i__w_______m___ll___ing___l__e____m______li___be__i___me____i_i\n",
      "Iteration 18, symbol –, score: -187.02685586299998\n",
      "ilikekilling_e__l_b______i_i___m______i_i_m__________killingwildgamei___e____e__b______m__i____m______g____ean_m_l___ll__kill__me__i_ggi_e_me___m______illi_g________ei_i_e_enb_______a_g___i_g_______k____wi___gi_l___be________i_i___a_w_e_i_ieiwillb___b__ni____adi______ll___i___ekilledwillbe__m_m__l____iwilln__gi_____m___m_be____e___will______l_i__w_______m___ll___ing___l__e____m______li___be__i___me____i_i\n",
      "Iteration 19, symbol √, score: -193.7430092729999\n",
      "ilikekilling_e__l_b______i_i___m______i_i_m__________killingwildgamei___e____e__b______m__i____m______g____ean_m_l___ll__kill__me__i_ggive_me___m______illi_g________ei_i_evenb_______a_g___i_g_______k____wi___gi_l___be________i_i___a_w_e_i_ieiwillb___b__ni____adi______ll___i__vekilledwillbe__m_m__l_v__iwilln__giv____m___m_be____e___will______l_i__w_______m___ll___ing___l_ve____m______li___be__i___me____i_i\n",
      "Iteration 20, symbol W, score: -199.6234240729999\n",
      "ilikekilling_e__leb______i_i___m______i_i_m__________killingwildgamei___e____e__be_____m__i____m______g____ean_m_l___ll__kill__me__i_ggive_me__em______illi_g________ei_i_evenbe______a_g___i_g_______k____wi___gi_l___be________i_i___a_w_e_i_ieiwillbe__b__ni____adi______ll___i__vekilledwillbe__mem__l_v__iwilln__giv____m___mebe____e___will______l_i__w_______m___ll___ing___l_ve____m______li_e_be__ie__me____i_i\n",
      "Iteration 21, symbol ^, score: -202.0441911529999\n",
      "ilikekilling_e__leb______i_i___m_____ni_i_m__________killingwildgamein__e____e__be_____m__i____m______g____ean_m_l___ll__kill__me__inggive_me__em______illi_g________ei_i_evenbe______ang___i_g_______k____wi___gi_l___be________i_i___a_w_e_i_ieiwillbe__b__nin___adi______ll___i__vekilledwillbe__mem__l_v__iwilln__giv____m_n_mebe____e___will______l_i__w_______m___ll___ing___l_ve____m______li_e_be__ie__me____i_i\n",
      "Iteration 22, symbol K, score: -207.87906705299994\n",
      "ilikekilling_e__leb______i_i_s_m_____ni_i_m__________killingwildgamein__e____e__be_____m__is___m______g____ean_m_l___ll__kill__me__inggivesme__em______illi_g________ei_i_evenbe______ang___i_g_______k____wi___gi_l___bes_______i_i___a_w_e_i_ieiwillbe__b__nin___adi______ll___i__vekilledwillbe__mem__l_v__iwilln__giv____m_n_mebe___se___will______l_i__w_______m___ll___ing___l_ve____m______li_e_be__ie__me____i_i\n",
      "Iteration 23, symbol I, score: -218.27628385299994\n",
      "ilikekilling_e__leb______i_i_s_m_____niti_m__________killingwildgamein__e____e__be_____m__ist__m______g__t_ean_m_l___ll__kill__me__inggivesmet_em______illi_g________ei_i_evenbet_____ang__ti_g_______k____wi___gi_l___bes____t__i_i___a_w_e_i_ieiwillbe__b__nin___adi______llt__i__vekilledwillbe__mem__l_v__iwilln__giv____m_n_mebe___se___will______l_i__w_______m___ll___ing___l_ve____m___t__li_e_be__iet_me____iti\n",
      "Iteration 24, symbol £, score: -228.16108795299996\n",
      "ilikekilling_e__leb______i_i_s_m_____niti_m_______h__killingwildgamein__e____e__be_____m__isth_m______g__t_ean_m_l___ll__kill__me__inggivesmethem______illi_g________ei_i_evenbet____hang__ti_g_______k____wi___gi_l_h_bes____t__i_i___a_whe_i_ieiwillbe__b__nin___adi______llt__ih_vekilledwillbe__mem__l_v__iwilln__giv____m_n_mebe___se___will______l_i__w_______m___ll___ing___l_ve____m___t__li_e_be__iet_me__h_iti\n",
      "Iteration 25, symbol ∞, score: -235.72099844299993\n",
      "ilikekilling_e__leb_____ei_i_s_m_____niti_m_______h__killingwildgamein__e____e__be_____m__isthem______g__t_ean_m_l___ll__kill__me__inggivesmethem______illi_g___e____ei_i_evenbet____hange_ti_g_______k____wi___gi_l_h_bes____t__i_i___a_whe_i_ieiwillbe__b__nin___adi_e____llt__ih_vekilledwillbe__mem__l_v__iwilln__giv____m_n_mebe___se___will______l_i__w_______m___lle__ing___l_ve____m___t__li_eebe__ieteme__h_iti\n",
      "Iteration 26, symbol H, score: -242.99981404299993\n",
      "ilikekilling_e__leb_____eiti_s_m_____niti_m_______h__killingwildgamein__e____e_tbe_____m__isthem______g__t_ean_m_l___ll__kill__met_inggivesmethem______illi_g___e____eiti_evenbet____hangetti_g_______k____wi___gi_l_h_best___t__i_i___a_whe_i_ieiwillbe__b__nin___adi_e____llt__ih_vekilledwillbe__mem__l_v__iwilln__giv____m_n_mebe___se___will___t__l_i__w_______m___lle__ing___l_ve____m___t__li_eebe__ietemet_h_iti\n",
      "Iteration 27, symbol M, score: -251.60342567299986\n",
      "ilikekilling_e__leb_____eiti_s_m__h__niti_m_______h__killingwildgamein_he____e_tbe_____m__isthem______g__t_ean_m_l___ll__kill__methinggivesmethem____h_illi_g___e____eiti_evenbet____hangetti_g_______k____wi_h_gi_l_h_best___t__i_i__ha_whe_i_ieiwillbe__b__nin___adi_e____llth_ih_vekilledwillbe__mem__l_v__iwilln__giv____m_n_mebe___se___will___t__l_i__w_______m___lle__ing___l_ve____m___t__li_eebe__ietemethh_iti\n",
      "Iteration 28, symbol •, score: -265.23144090299985\n",
      "ilikekillingpe_pleb_____eiti_s_m__h__niti_m_______h__killingwildgamein_he____e_tbe_____m__isthem______g__t_ean_m_l___ll__kill__methinggivesmethem____h_illi_g__pe____eiti_evenbet____hangetti_g_______k____wi_h_gi_l_h_bestp__t__i_i__ha_whe_i_ieiwillbe__b__ninp__adi_e____llth_ih_vekilledwillbe__mem__l_v__iwilln__giv____m_n_mebe___se___will___t__l_i__w______pm___lle__ing___l_ve____m___t__li_eebe__ietemethhpiti\n",
      "Iteration 29, symbol X, score: -271.65292072217983\n",
      "ilikekillingpeopleb_____eiti_s_m__h__niti_m_______h__killingwildgamein_he____e_tbe_____m__isthemo_____g__t_ean_m_l___ll__kill_omethinggivesmethem____h_illi_g__pe____eiti_evenbet____hangetti_g_______k_o__wi_h_gi_l_h_bestp__t__i_i__ha_whe_i_ieiwillbe__b__ninp__adi_e____llth_ih_vekilledwillbe_omem__l_v__iwilln__giv____m_n_mebe___se___will___t__loi_ow______pm___lle__ingo__l_ve____m___t__li_eebeo_ietemethhpiti\n",
      "Iteration 30, symbol ≈, score: -280.45862912217984\n",
      "ilikekillingpeopleb_c___eiti_s_m_ch__niti_m_______h__killingwildgamein_he____e_tbec____m__isthemo_____g__t_ean_m_l___ll__kill_omethinggivesmethem____h_illi_g__pe___ceiti_evenbet____hangetti_g______ck_o__wi_h_gi_l_h_bestp__t__i_i__ha_whe_i_ieiwillbe__b__ninp__adice____llth_ih_vekilledwillbecomem__l_v__iwilln__giv____m_n_mebec__se___will___t__loi_ow______pm_c_llec_ingo__l_ve____m___t__li_eebeo_ietemethhpiti\n",
      "Iteration 31, symbol π, score: -284.08221139117995\n",
      "ilikekillingpeopleb_c___eitiss_m_ch__niti_m_______h__killingwildgamein_he____e_tbec__s_m__isthemo_____g__t_ean_m_l___ll__killsomethinggivesmethem____h_illi_g__pe___ceiti_evenbet____hangetti_g______ckso__wi_h_gi_l_h_bestp__t__i_i__ha_whe_i_ieiwillbe__b__ninp__adice____llth_ih_vekilledwillbecomem__l_v_siwilln__giv____m_n_mebec__se___will___t__loi_ow______pm_c_llec_ingo__l_ves___m___t__li_eebeo_ietemethhpiti\n",
      "Iteration 32, symbol F, score: -290.02693559117995\n",
      "ilikekillingpeopleb_c__seitiss_m_ch__niti_m_______h__killingwildgamein_he____estbec__s_m__isthemo_____g__t_ean_m_l___ll__killsomethinggivesmethem____h_illi_g__pe___ceitisevenbet____hangetti_g______ckso__wi_h_gi_l_h_bestp__t__i_i__ha_whe_i_ieiwillbe__b__ninp__adice____llth_ih_vekilledwillbecomem_sl_v_siwilln__giv____m_n_mebec__se___will___t_sloi_ow______pm_c_llec_ingo_sl_ves___m___t__li_eebeo_ietemethhpiti\n",
      "Iteration 33, symbol “, score: -300.0433315411799\n",
      "ilikekillingpeopleb_c__seitiss_m_ch__niti_m_______h__killingwildgamein_he__r_estbec__s_m__isthemo_____g__t_ean_m_l___ll__killsomethinggivesmethem____hrilli_g__pe___ceitisevenbet____hangetti_g___r__ckso__wi_h_gi_l_h_bestp_rt__i_i__ha_whe_i_ieiwillbe__b__ninp_radice____llth_ih_vekilledwillbecomem_sl_v_siwilln__giv____m_n_mebec__se___will___t_sloi_ow______pm_c_llec_ingo_sl_ves___m___t_rli_eebeorietemethhpiti\n",
      "Iteration 34, symbol S, score: -299.2362339911799\n",
      "ilikekillingpeopleb_c__seitiss_m_ch__niti_m_______ha_killingwildgamein_he__r_estbec__s_m__isthemo___a_g__t_ean_m_l__all__killsomethinggivesmethem____hrilli_g__pe___ceitisevenbet____hangetti_g___r__ckso__wi_h_gi_l_h_bestp_rt__i_i__ha_whe_i_ieiwillbe__b__ninparadice____llth_ihavekilledwillbecomem_sl_v_siwilln__giv____m_namebec__se___will___t_sloi_ow______pm_c_llec_ingo_sl_ves___m___t_rli_eebeorietemethhpiti\n",
      "Iteration 35, symbol N, score: -305.30617088418\n",
      "ilikekillingpeopleb_c__seitiss_m_ch__niti_m__e____ha_killingwildgamein_he__r_estbec__s_m__isthemo___a_ge_t_ean_m_l__all__killsomethinggivesmethem____hrilli_g__pe_e_ceitisevenbet____hangetti_g___r__ckso__wi_h_gi_l_hebestp_rt__i_i__haewhe_i_ieiwillbe__b__ninparadice____lltheihavekilledwillbecomem_sl_v_siwilln__giv____m_namebec__se___will___t_sloi_ow______pm_c_llec_ingo_sl_ves___m___t_rli_eebeorietemethhpiti\n",
      "Iteration 36, symbol L, score: -311.95391127418\n",
      "ilikekillingpeopleb_c__seitiss_m_ch__niti_m__e____ha_killingwildgameinthe__r_estbec__s_m__isthemo___a_ge_t_ean_m_l__allt_killsomethinggivesmethem___thrilli_g__pe_e_ceitisevenbet___thangetti_g___r__ckso__wi_h_gi_lthebestp_rt__i_i_thaewhe_i_ieiwillbe__b__ninparadice____lltheihavekilledwillbecomem_sl_v_siwilln__giv____m_namebec__se___willt__t_sloi_ow____t_pm_c_llec_ingo_sl_ves___m___t_rli_eebeorietemethhpiti\n",
      "Iteration 37, symbol µ, score: -315.13163039417987\n",
      "ilikekillingpeopleb_c__seitiss_m_ch__niti_m__e___tha_killingwildgameinthe__r_estbec__s_m__isthemo_t_a_ge_t_ean_m_l__allt_killsomethinggivesmethem__tthrilli_g__pe_e_ceitisevenbett__thangetti_g___r__ckso__with_gi_lthebestp_rt__iti_thaewhe_i_ieiwillbe__b__ninparadice____lltheihavekilledwillbecomem_sl_v_siwilln_tgiv____m_namebec__se___willt__t_sloi_ow____t_pm_c_llectingo_sl_ves___m___t_rli_eebeorietemethhpiti\n",
      "Iteration 38, symbol æ, score: -321.80392299417997\n",
      "ilikekillingpeopleb_c__seitiss_m_ch__niti_m__e___tha_killingwildgameinthe__r_estbeca_s_m__isthemoat_a_ge_t_eanam_l__allt_killsomethinggivesmethem_atthrilli_g__pe_e_ceitisevenbett__thangetti_g___r__ckso__withagi_lthebestp_rt__itiathaewhe_i_ieiwillbe__b__ninparadice____lltheihavekilledwillbecomem_slav_siwilln_tgiv____m_namebec__se___willt__t_sloi_ow____t_pm_c_llectingo_sl_ves___m_a_t_rli_eebeorietemethhpiti\n",
      "Iteration 39, symbol +, score: -323.35834986418007\n",
      "ilikekillingpeoplebec__seitiss_m_ch__niti_m__e___tha_killingwildgameinthe__r_estbeca_sem__isthemoat_a_ge_t_eanam_l__allt_killsomethinggivesmethem_atthrilli_ge_pe_e_ceitisevenbette_thangetti_g___r__ckso__withagi_lthebestp_rt__itiathaewhe_i_ieiwillbe_eb__ninparadice____lltheihavekilledwillbecomem_slavesiwilln_tgive___m_namebec__se___willt__t_sloi_ow____t_pm_c_llectingo_sl_ves___m_a_terli_eebeorietemethhpiti\n",
      "Iteration 40, symbol G, score: -323.57449609418006\n",
      "ilikekillingpeoplebeca_seitiss_m_ch__niti_m__e___tha_killingwildgameinthe__r_estbeca_sema_isthemoat_a_ge_t_eanamal__allt_killsomethinggivesmethem_atthrilli_ge_pe_e_ceitisevenbette_thangetti_g___r__ckso__withagi_lthebestpart__itiathaewhe_i_ieiwillbe_eb__ninparadice___alltheihavekilledwillbecomem_slavesiwilln_tgive___m_namebeca_se___willt__t_sloi_ow____t_pm_c_llectingo_slaves___m_a_terli_eebeorietemethhpiti\n",
      "Iteration 41, symbol y, score: -326.8485448841799\n",
      "ilikekillingpeoplebecauseitiss_much_uniti_m__e_u_tha_killingwildgameinthe__r_estbecausema_isthemoat_a_ge_tueanamal__allt_killsomethinggivesmethem_atthrilli_ge_pe_e_ceitisevenbette_thangetti_g__ur__ckso__withagi_lthebestpart__itiathaewhe_i_ieiwillbe_eb__ninparadice___alltheihavekilledwillbecomem_slavesiwilln_tgive__um_namebecause__uwillt__t_sloi_ow____t_pm_c_llectingo_slaves___m_a_terli_eebeorietemethhpiti\n",
      "Iteration 42, symbol ‘, score: -330.56260226418\n",
      "ilikekillingpeoplebecauseitiss_much_uniti_m_re_u_tha_killingwildgameinthe__r_estbecausema_isthemoat_a_gertueanamal__allt_killsomethinggivesmethem_atthrilli_ge_pe_e_ceitisevenbetterthangetti_g__ur__ckso__withagirlthebestpart__itiathaewhe_i_ieiwillbe_eb_rninparadice___alltheihavekilledwillbecomem_slavesiwilln_tgive__um_namebecause__uwilltr_t_sloi_ow____t_pm_c_llectingo_slaves__rm_a_terli_eebeorietemethhpiti\n",
      "Iteration 43, symbol ∏, score: -344.0204115741797\n",
      "ilikekillingpeoplebecauseitiss_much_uniti_m_re_u_tha_killingwildgameinthe__r_estbecausema_isthemoat_a_gertueanamal__allt_killsomethinggivesmethem_atthrilli_ge_pe_e_ceitisevenbetterthangetti_gy_ur__ckso__withagirlthebestpart__itiathaewhe_i_ieiwillbe_eb_rninparadice___alltheihavekilledwillbecomemyslavesiwilln_tgivey_umynamebecausey_uwilltryt_sloi_ow____t_pmyc_llectingo_slaves__rmya_terli_eebeorietemethhpiti\n",
      "Iteration 44, symbol Ç, score: -344.6353693424797\n",
      "ilikekillingpeoplebecauseitissomuch_uniti_m_re_u_tha_killingwildgameinthe__r_estbecausema_isthemoat_a_gertueanamal__allt_killsomethinggivesmethemoatthrilli_ge_pe_e_ceitisevenbetterthangetti_gy_ur__ckso__withagirlthebestparto_itiathaewhe_i_ieiwillbe_eb_rninparadice___alltheihavekilledwillbecomemyslavesiwilln_tgivey_umynamebecausey_uwilltrytosloi_ow____topmyc_llectingo_slaves__rmya_terli_eebeorietemethhpiti\n",
      "Iteration 45, symbol J, score: -349.7376900749198\n",
      "ilikekillingpeoplebecauseitissomuchfuniti_m_re_u_tha_killingwildgameinthef_r_estbecausema_isthemoat_a_gertueanamal__allt_killsomethinggivesmethemoatthrilli_ge_pe_e_ceitisevenbetterthangetti_gy_ur__cksof_withagirlthebestpartofitiathaewhe_i_ieiwillbe_eb_rninparadice___alltheihavekilledwillbecomemyslavesiwilln_tgivey_umynamebecausey_uwilltrytosloi_ow____topmyc_llectingo_slavesf_rmyafterli_eebeorietemethhpiti\n",
      "Iteration 46, symbol T, score: -343.89244714591985\n",
      "ilikekillingpeoplebecauseitissomuchfuniti_more_u_tha_killingwildgameinthef_r_estbecausema_isthemoat_a_gertueanamalo_allt_killsomethinggivesmethemoatthrilli_ge_pe_e_ceitisevenbetterthangetti_gyour__cksof_withagirlthebestpartofitiathaewhe_i_ieiwillbe_eborninparadice___alltheihavekilledwillbecomemyslavesiwillnotgivey_umynamebecauseyouwilltrytosloi_ow____topmyc_llectingo_slavesformyafterli_eebeorietemethhpiti\n",
      "Iteration 47, symbol Q, score: -345.5874057463199\n",
      "ilikekillingpeoplebecauseitissomuchfuniti_morefu_tha_killingwildgameinthef_r_estbecausema_isthemoat_a_gertueanamalofallt_killsomethinggivesmethemoatthrilli_ge_pe_e_ceitisevenbetterthangetti_gyour__cksoffwithagirlthebestpartofitiathaewhe_i_ieiwillbe_eborninparadice___alltheihavekilledwillbecomemyslavesiwillnotgivey_umynamebecauseyouwilltrytosloi_ow____topmyc_llectingofslavesformyafterlifeebeorietemethhpiti\n",
      "Iteration 48, symbol ƒ, score: -343.0778311701198\n",
      "ilikekillingpeoplebecauseitissomuchfuniti_morefu_tha_killingwildgameinthefor_estbecausema_isthemoat_a_gertueanamalofalltokillsomethinggivesmethemoatthrilli_ge_pe_e_ceitisevenbetterthangetti_gyour_ocksoffwithagirlthebestpartofitiathaewhe_i_ieiwillbe_eborninparadice___alltheihavekilledwillbecomemyslavesiwillnotgiveyoumynamebecauseyouwilltrytosloi_ow_o__topmycollectingofslavesformyafterlifeebeorietemethhpiti\n",
      "Iteration 49, symbol D, score: -344.3406750801197\n",
      "ilikekillingpeoplebecauseitissomuchfuniti_morefuntha_killingwildgameinthefor_estbecausemanisthemoat_a_gertueanamalofalltokillsomethinggivesmethemoatthrillinge_pe_e_ceitisevenbetterthangettingyour_ocksoffwithagirlthebestpartofitiathaewhe_i_ieiwillbe_eborninparadice_n_alltheihavekilledwillbecomemyslavesiwillnotgiveyoumynamebecauseyouwilltrytosloi_owno__topmycollectingofslavesformyafterlifeebeorietemethhpiti\n",
      "Iteration 50, symbol \\, score: -348.70242448012\n",
      "ilikekillingpeoplebecauseitissomuchfuniti_morefuntha_killingwildgameintheforrestbecausemanisthemoat_a_gertueanamalofalltokillsomethinggivesmethemoatthrillinge_pere_ceitisevenbetterthangettingyourrocksoffwithagirlthebestpartofitiathaewhe_i_ieiwillbereborninparadice_n_alltheihavekilledwillbecomemyslavesiwillnotgiveyoumynamebecauseyouwilltrytosloi_ownor_topmycollectingofslavesformyafterlifeebeorietemethhpiti\n",
      "Iteration 51, symbol ¢, score: -349.3454667401199\n",
      "ilikekillingpeoplebecauseitissomuchfuniti_morefunthankillingwildgameintheforrestbecausemanisthemoat_angertueanamalofalltokillsomethinggivesmethemoatthrillinge_perenceitisevenbetterthangettingyourrocksoffwithagirlthebestpartofitiathaewheni_ieiwillbereborninparadice_n_alltheihavekilledwillbecomemyslavesiwillnotgiveyoumynamebecauseyouwilltrytosloi_ownor_topmycollectingofslavesformyafterlifeebeorietemethhpiti\n",
      "Iteration 52, symbol §, score: -355.7758263201198\n",
      "ilikekillingpeoplebecauseitissomuchfuniti_morefunthankillingwildgameintheforrestbecausemanisthemoatdangertueanamalofalltokillsomethinggivesmethemoatthrillinge_perenceitisevenbetterthangettingyourrocksoffwithagirlthebestpartofitiathaewhenidieiwillbereborninparadice_ndalltheihavekilledwillbecomemyslavesiwillnotgiveyoumynamebecauseyouwilltrytosloidownor_topmycollectingofslavesformyafterlifeebeorietemethhpiti\n",
      "Iteration 53, symbol Ω, score: -361.3223825331199\n",
      "ilikekillingpeoplebecauseitissomuchfunitismorefunthankillingwildgameintheforrestbecausemanisthemoatdangertueanamalofalltokillsomethinggivesmethemoatthrillinge_perenceitisevenbetterthangettingyourrocksoffwithagirlthebestpartofitiathaewhenidieiwillbereborninparadicesndalltheihavekilledwillbecomemyslavesiwillnotgiveyoumynamebecauseyouwilltrytosloidownorstopmycollectingofslavesformyafterlifeebeorietemethhpiti\n",
      "Iteration 54, symbol j, score: -363.1344102331199\n",
      "ilikekillingpeoplebecauseitissomuchfunitismorefunthankillingwildgameintheforrestbecausemanisthemoatdangertueanamalofalltokillsomethinggivesmethemoatthrillingexperenceitisevenbetterthangettingyourrocksoffwithagirlthebestpartofitiathaewhenidieiwillbereborninparadicesndalltheihavekilledwillbecomemyslavesiwillnotgiveyoumynamebecauseyouwilltrytosloidownorstopmycollectingofslavesformyafterlifeebeorietemethhpiti\n"
     ]
    }
   ],
   "source": [
    "for index in range(1, len(ext_order)+1, 1):\n",
    "    found_symbols = ext_order[:index]\n",
    "    phi_temp = dict()\n",
    "    for key,value in gold_dict.items():\n",
    "        if key in found_symbols:\n",
    "            phi_temp[key] = value\n",
    "    partial_text = ''\n",
    "    bit_string = ''\n",
    "    for cipher_char in cipher_desc['content']:\n",
    "        if cipher_char in phi_temp.keys():\n",
    "            partial_text += phi_temp[cipher_char]\n",
    "            bit_string += 'o'\n",
    "        else:\n",
    "            partial_text += '_'\n",
    "            bit_string += '.'\n",
    "    print(f'Iteration {index}, symbol {ext_order[index-1]}, score: {lm.score_bitstring(partial_text, bit_string)}')\n",
    "    print(partial_text)"
   ]
  },
  {
   "cell_type": "code",
   "execution_count": 16,
   "metadata": {},
   "outputs": [],
   "source": [
    "# for key,value in gold_dict.items():\n",
    "#     freq_cipher = cipher_desc['relative_freq'][key]\n",
    "#     freq_plain = plaintxt_desc['relative_freq'][value]\n",
    "#     print(f'{key} {value}; Cipher char frequence: {freq_cipher}; plaintext char frequency: {freq_plain}')"
   ]
  },
  {
   "cell_type": "code",
   "execution_count": 17,
   "metadata": {
    "scrolled": false
   },
   "outputs": [],
   "source": [
    "# Ve = [chr(i) for i in range(97, 123, 1)]\n",
    "# for e in Ve:\n",
    "#     keys = [k for k, v in gold_dict.items() if v == e]\n",
    "#     freq_cipher = 0\n",
    "#     for key in keys:\n",
    "#         freq_cipher += cipher_desc['relative_freq'][key]\n",
    "#     freq_plain = plaintxt_desc['relative_freq'][e]\n",
    "#     print(f'{e}: {keys}, {len(keys)}, plain freq {freq_plain}, cipher freq {freq_cipher}')"
   ]
  },
  {
   "cell_type": "markdown",
   "metadata": {},
   "source": [
    "## Baseline with better extension order"
   ]
  },
  {
   "cell_type": "markdown",
   "metadata": {},
   "source": [
    "The first change I made to the baseline was to rewrite the score function to optimize the running speed. The change I made is to score the newly fixed symbol plantext character pair and corresponding influenced previously fixed plantext character based on the previous score instead of scoring the whole bitstring in each iteration. For instance, 'oooo...o' -> 'oooo..xo'. The new score can be calculated by adding unigram score of 'x' to the previous score, substracting unigram score of 'o' following 'x' and bigram score of '<\\s>' from the previous score, and adding bigram score of 'o' following 'x' and trigram score of '<\\s>' to the previous score. With this approach, the running time was improved to 20 minitues from 1 hour with a beamsize of 10000 on my machine with i7 7700k cpu. And the computed score is almost same as the score computed with score_bit_string function (the difference is within 0.0000001). Another approach to speed up the whole process we tried is multiprocessing. We will talk about that in the following notebook."
   ]
  },
  {
   "cell_type": "code",
   "execution_count": 16,
   "metadata": {},
   "outputs": [],
   "source": [
    "def score(cipher, phi, new_f, new_e, previous_score):\n",
    "    '''\n",
    "    scores the phi_prime based on the previous score, returns a float\n",
    "    cipher -- list of single character string\n",
    "    phi -- dictionary, old mapping e->[f]\n",
    "    new_f -- single-character string, extended symbol\n",
    "    previous_score -- float, old score for phi\n",
    "    '''\n",
    "    mapping = phi\n",
    "    new_score = previous_score\n",
    "    # for the first iteration, the previous score should be -2.545382 instead of 0\n",
    "    # this is because the score of an empty string is not 0 whiling scoring with bitstring\n",
    "    # the value can be obtained by calling lm.score_bitstring('thisisatest', '...........')\n",
    "    if len(phi)==0:\n",
    "        new_score += -2.545382\n",
    "    lm_state = lm.begin()\n",
    "    old_lm_state = lm.begin()\n",
    "    # this Flag is used to track if a newly-fixed character affects the previously-fixed character\n",
    "    triggerChangeFlag = 0\n",
    "    for i in range(len(cipher)):\n",
    "        char = cipher[i]\n",
    "        # if this is a previously fixed character and not influenced by the newly-fixed character\n",
    "        # we only need to track the lm_state and old lm_state, no need to compute the score\n",
    "        if (char in mapping.keys()) and (triggerChangeFlag==0):\n",
    "            token = mapping[char]\n",
    "            ngram = lm_state + (token,)\n",
    "            while len(ngram)> 0:\n",
    "                if ngram in lm.table:\n",
    "                    lm_state = ngram[-lm.history:]\n",
    "                    break\n",
    "                else: #backoff\n",
    "                    ngram = ngram[1:]\n",
    "            if len(ngram)==0:\n",
    "                lm_state = ()\n",
    "            old_lm_state = lm_state\n",
    "        # if this is a previously fixed character and influenced by the newly-fixed character\n",
    "        # substract the old score and add the new score to the previous score.\n",
    "        elif (char in mapping.keys()) and (triggerChangeFlag>0):\n",
    "            token = mapping[char]\n",
    "            old_lm_state, old_logprob = lm.score(old_lm_state, token)\n",
    "            new_score -= old_logprob\n",
    "            lm_state, logprob = lm.score(lm_state, token)\n",
    "            new_score += logprob\n",
    "            triggerChangeFlag -= 1\n",
    "        # if this is a newly-fixed charater, simply add the new score to the previous score\n",
    "        elif char == new_f:\n",
    "            (lm_state, logprob) = lm.score(lm_state, new_e)\n",
    "            new_score += logprob\n",
    "            triggerChangeFlag = 5\n",
    "            old_lm_state = ()\n",
    "        # if this is a unknown character, there is no influence on the previous score\n",
    "        else:\n",
    "            lm_state = ()\n",
    "            old_lm_state = ()\n",
    "            triggerChangeFlag = 0\n",
    "    # treat the end tag '<\\s>' as previously fixed character\n",
    "    if triggerChangeFlag:\n",
    "        new_score -= lm.end(old_lm_state)\n",
    "        new_score += lm.end(lm_state)\n",
    "    return new_score"
   ]
  },
  {
   "cell_type": "markdown",
   "metadata": {},
   "source": [
    "The beam_search we implemented is based on the pseudo code mentioned in the assignment. The main change I made was to use customized ext_limit for each plaintext character instead of a general value. The details can be found in the following notebook."
   ]
  },
  {
   "cell_type": "code",
   "execution_count": 17,
   "metadata": {},
   "outputs": [],
   "source": [
    "def beam_search(cipher, ext_order, score_func, ext_limits, topn=1):\n",
    "    '''\n",
    "    finds the mappings between cipher char and plaintext char, returns the mapping dictionary\n",
    "    ext_order -- list, the unigram char list sorted by their count DESC\n",
    "    ext_limits -- int, defines maximum number of cipher char can be mapped to a plaintext char\n",
    "    topn -- int, defines the number of dictionaries we want to keep while pruning\n",
    "    '''\n",
    "    print('Number of unique symbols in cipher:', len(ext_order))\n",
    "    # mapping relationships already found with score\n",
    "    Hs = [(defaultdict(dict), 0)]\n",
    "    # hypothesis mapping relationships with score\n",
    "    Ht = []\n",
    "    # initialize the cardinality (number of unique cipher text)\n",
    "    cardinality = 0\n",
    "    # list of plaintext characters\n",
    "    Ve = [chr(i) for i in range(97, 123, 1)]\n",
    "    while cardinality < len(ext_order):\n",
    "        f = ext_order[cardinality]\n",
    "        print('Working on symbol: ', f, f'({cardinality+1})')\n",
    "        for phi, previous_score in Hs:\n",
    "            for e in Ve:\n",
    "                phi_prime = copy.deepcopy(phi)\n",
    "                new_map = {f: e}\n",
    "                phi_prime.update(new_map)\n",
    "                counts = len([v for k, v in phi_prime.items() if v == e])\n",
    "                ext_limit = ext_limits[e]\n",
    "                \n",
    "#                 keys = [k for k, v in phi_prime.items() if v == e]\n",
    "#                 freq_cipher = 0\n",
    "#                 for key in keys:\n",
    "#                     freq_cipher += cipher_desc['relative_freq'][key]\n",
    "#                 freq_plain = plaintxt_desc['relative_freq'][e]\n",
    "                \n",
    "#                 # the relative frequency of the cipher symbol should not be too large compared to the \n",
    "#                 # relative frequency of the plaintext character. Note that the mapping relationship between them is\n",
    "#                 # many to one. This can prune the trees a little bit (not much though). For instance,\n",
    "#                 # cipher symbol 'B' will never be mapped to 'z' since the relative frequency between them is\n",
    "#                 # way too large\n",
    "                \n",
    "#                 if (freq_cipher / freq_plain > 3):\n",
    "#                     continue\n",
    "#                 # for the first 5 symbols, at most three of them can be mapped to the same plaintext character\n",
    "#                 # this rule is set by intuition. The goal is to map the characters evenly at the early stage\n",
    "#                 if cardinality < 5:\n",
    "#                     ext_limits = min(ext_limits,3)\n",
    "                if counts <= ext_limit:\n",
    "                    Ht.append((phi_prime, score_func(cipher, phi, f, e, previous_score)))\n",
    "        # prune the histogram\n",
    "        Ht = sorted(Ht, key=lambda x:x[1], reverse=True)[:topn]\n",
    "        cardinality += 1\n",
    "        Hs = copy.deepcopy(Ht)\n",
    "        Ht.clear()\n",
    "        print('Current score: ', Hs[0][1], 'Worst score: ', Hs[min(len(Hs)-1, topn-1)][1])\n",
    "        \n",
    "        found_symbols = ext_order[:cardinality]\n",
    "        phi_temp = dict()\n",
    "        for key,value in gold_dict.items():\n",
    "            if key in found_symbols:\n",
    "                phi_temp[key] = value\n",
    "        partial_text = ''\n",
    "        bit_string = ''\n",
    "        for cipher_char in cipher_desc['content']:\n",
    "            if cipher_char in phi_temp.keys():\n",
    "                partial_text += phi_temp[cipher_char]\n",
    "                bit_string += 'o'\n",
    "            else:\n",
    "                partial_text += '_'\n",
    "                bit_string += '.'\n",
    "        gold_score = lm.score_bitstring(partial_text, bit_string)\n",
    "        print('gold score', gold_score)\n",
    "        if gold_score < Hs[min(len(Hs)-1, topn-1)][1] or gold_score > Hs[0][1]:\n",
    "            print('Wrong!')\n",
    "        #print(Hs)\n",
    "    return sorted(Hs, key=lambda x:x[1], reverse=True)"
   ]
  },
  {
   "cell_type": "markdown",
   "metadata": {},
   "source": [
    "## Test case"
   ]
  },
  {
   "cell_type": "markdown",
   "metadata": {},
   "source": [
    "Before deciphering the Zodiac Killer cipher, test the algorithm with some simple test cases"
   ]
  },
  {
   "cell_type": "markdown",
   "metadata": {},
   "source": [
    "The first test case is a simple one to one mapping. <br>\n",
    "Plaintext: `defendtheeastwallofthecastle` <br>\n",
    "Cipher: `giuifgceiiprctpnnduceiqprcni` <br>"
   ]
  },
  {
   "cell_type": "code",
   "execution_count": 18,
   "metadata": {},
   "outputs": [
    {
     "name": "stdout",
     "output_type": "stream",
     "text": [
      "Number of unique symbols in cipher: 12\n",
      "Working on symbol:  i (1)\n",
      "Current score:  -8.570688 Worst score:  -21.082497999999998\n",
      "gold score -2.545382\n",
      "Wrong!\n",
      "Working on symbol:  p (2)\n",
      "Current score:  -11.379961100000001 Worst score:  -13.823382\n",
      "gold score -2.545382\n",
      "Wrong!\n",
      "Working on symbol:  r (3)\n",
      "Current score:  -12.61742569 Worst score:  -14.178162599999997\n",
      "gold score -2.545382\n",
      "Wrong!\n",
      "Working on symbol:  c (4)\n",
      "Current score:  -15.489765799999997 Worst score:  -17.629812\n",
      "gold score -2.545382\n",
      "Wrong!\n",
      "Working on symbol:  t (5)\n",
      "Current score:  -16.03725842 Worst score:  -17.907934541\n",
      "gold score -2.545382\n",
      "Wrong!\n",
      "Working on symbol:  n (6)\n",
      "Current score:  -18.078716399999998 Worst score:  -22.135148320000003\n",
      "gold score -2.545382\n",
      "Wrong!\n",
      "Working on symbol:  e (7)\n",
      "Current score:  -16.847339719999997 Worst score:  -23.640595200000007\n",
      "gold score -2.545382\n",
      "Wrong!\n",
      "Working on symbol:  q (8)\n",
      "Current score:  -15.808824288999997 Worst score:  -20.684350920000004\n",
      "gold score -2.545382\n",
      "Wrong!\n",
      "Working on symbol:  u (9)\n",
      "Current score:  -17.707828688999996 Worst score:  -21.222392888999998\n",
      "gold score -13.883571999999997\n",
      "Wrong!\n",
      "Working on symbol:  d (10)\n",
      "Current score:  -17.797039089000005 Worst score:  -21.681482068999998\n",
      "gold score -13.883571999999997\n",
      "Wrong!\n",
      "Working on symbol:  g (11)\n",
      "Current score:  -19.085762278999997 Worst score:  -22.286126658999994\n",
      "gold score -13.883571999999997\n",
      "Wrong!\n",
      "Working on symbol:  f (12)\n",
      "Current score:  -18.128100849000003 Worst score:  -24.252243228999994\n",
      "gold score -13.883571999999997\n",
      "Wrong!\n",
      "Deciphered result:  defendtheeastwallofthecastle\n"
     ]
    }
   ],
   "source": [
    "one_to_one_cipher = 'giuifgceiiprctpnnduceiqprcni'\n",
    "one_to_one_cipher_desc = get_statistics(one_to_one_cipher, cipher=True)\n",
    "one_to_one_ext_order = find_ext_order(one_to_one_cipher_desc)[0][0]\n",
    "one_to_one_ext_limits = dict()\n",
    "for e in [chr(i) for i in range(97, 123, 1)]:\n",
    "    one_to_one_ext_limits[e] = 1\n",
    "one_to_one_mappings = beam_search(one_to_one_cipher_desc['content'], one_to_one_ext_order,\\\n",
    "                                  score, one_to_one_ext_limits, 50)\n",
    "one_to_one_mapping = one_to_one_mappings[0][0]\n",
    "one_to_one_decipher_text = ''\n",
    "for char in one_to_one_cipher_desc['content']:\n",
    "    one_to_one_decipher_text += one_to_one_mapping[char]\n",
    "print('Deciphered result: ', one_to_one_decipher_text)"
   ]
  },
  {
   "cell_type": "markdown",
   "metadata": {},
   "source": [
    "A test case for homophonic ciphers. <br>\n",
    "Plaintext: <br>\n",
    "Cipher: <br>"
   ]
  },
  {
   "cell_type": "code",
   "execution_count": null,
   "metadata": {},
   "outputs": [],
   "source": []
  },
  {
   "cell_type": "code",
   "execution_count": null,
   "metadata": {},
   "outputs": [],
   "source": []
  },
  {
   "cell_type": "markdown",
   "metadata": {},
   "source": [
    "## Multi-processing"
   ]
  },
  {
   "cell_type": "code",
   "execution_count": 20,
   "metadata": {},
   "outputs": [],
   "source": [
    "def parallel_fn(Ve, phi, f, ext_limits, cipher, previous_score, score_func):\n",
    "    ret = []\n",
    "    for e in Ve:\n",
    "        phi_prime = copy.deepcopy(phi)\n",
    "        new_map = {f: e}\n",
    "        phi_prime.update(new_map)\n",
    "        counts = len([v for k, v in phi_prime.items() if v == e])\n",
    "        if counts <= ext_limits[e]:\n",
    "            ret.append((phi_prime, score_func(cipher, phi, f, e, previous_score)))\n",
    "    return ret\n",
    "\n",
    "def beam_search_mp(cipher, ext_order, score_func, ext_limits, topn=1):\n",
    "\n",
    "    # initialization\n",
    "    Hs = [(defaultdict(dict), 0)]\n",
    "    Ht = []\n",
    "    cardinality = 0\n",
    "    Ve = [chr(i) for i in range(97, 123, 1)]\n",
    "    \n",
    "    while cardinality < len(ext_order):\n",
    "        f = ext_order[cardinality]\n",
    "        print('Working on symbol: ', f, f'({cardinality+1})')\n",
    "        \n",
    "        mainStart = time.time()\n",
    "        result = []\n",
    "        p = Pool(cpu_count())\n",
    "             \n",
    "        for phi, previous_score in Hs: \n",
    "            result.append(p.apply_async(parallel_fn, args=(Ve, phi, f, ext_limits, cipher, previous_score,score_func))) \n",
    "                            \n",
    "        p.close() \n",
    "        p.join()  \n",
    "\n",
    "        Ht = []\n",
    "        for subp in result:\n",
    "            Ht += subp.get()\n",
    "    \n",
    "        # prune the histogram\n",
    "        mainEnd = time.time()\n",
    "        print ('Running Time for this symbol: %0.2f seconds.' % (mainEnd-mainStart))\n",
    "        Ht = sorted(Ht, key=lambda x:x[1], reverse=True)[:topn]    \n",
    "        \n",
    "        cardinality += 1\n",
    "        Hs = copy.deepcopy(Ht)\n",
    "        Ht.clear()\n",
    "        print('Current score: ', Hs[0][1])\n",
    "        \n",
    "    return sorted(Hs, key=lambda x:x[1], reverse=True)"
   ]
  },
  {
   "cell_type": "markdown",
   "metadata": {},
   "source": [
    "## Decipher Zodiac Killer cipher"
   ]
  },
  {
   "cell_type": "markdown",
   "metadata": {},
   "source": [
    "As mentioned above, we use different ext_limit for different plaintext symbol. We use the following `ext_limits` to limit the ext_order. The goal is to customize the `ext_limit` for each plaintext character so that more symbols can be mapped to the more frequent plaintext character. The `ext_limit` is calculated by multiplying the relative frequency of the paintext character in wiki text by the number of unique cipher symbols. We believe this can dramatically improve the running time since the required amount of computation in each iteration is minimized. We use the ceiling instead of floor to ensure the `ext_limit` is large enough."
   ]
  },
  {
   "cell_type": "code",
   "execution_count": 19,
   "metadata": {},
   "outputs": [
    {
     "name": "stdout",
     "output_type": "stream",
     "text": [
      "{'a': 5, 'b': 1, 'c': 2, 'd': 3, 'e': 7, 'f': 2, 'g': 2, 'h': 3, 'i': 4, 'j': 1, 'k': 1, 'l': 3, 'm': 2, 'n': 4, 'o': 4, 'p': 2, 'q': 1, 'r': 4, 's': 4, 't': 5, 'u': 2, 'v': 1, 'w': 1, 'x': 1, 'y': 1, 'z': 1}\n"
     ]
    }
   ],
   "source": [
    "ext_limits = dict()\n",
    "for e in [chr(i) for i in range(97, 123, 1)]:\n",
    "    ext_limits[e] = math.ceil(plaintxt_desc['relative_freq'][e]*cipher_desc['vocab_length']/100)\n",
    "print(ext_limits)"
   ]
  },
  {
   "cell_type": "code",
   "execution_count": null,
   "metadata": {},
   "outputs": [
    {
     "name": "stdout",
     "output_type": "stream",
     "text": [
      "Number of unique symbols in cipher: 54\n",
      "Working on symbol:  — (1)\n",
      "Current score:  -17.194697199999997 Worst score:  -50.90822999999999\n",
      "gold score -27.947701999999992\n",
      "Working on symbol:  ∑ (2)\n",
      "Current score:  -26.92681499999999 Worst score:  -79.63595000000001\n",
      "gold score -41.34324120000001\n",
      "Working on symbol:  B (3)\n",
      "Current score:  -38.52903960000001 Worst score:  -58.89738420000001\n",
      "gold score -55.25409240000002\n",
      "Working on symbol:  P (4)\n",
      "Current score:  -47.23661540000004 Worst score:  -59.76708570000005\n",
      "gold score -65.89092420000003\n",
      "Wrong!\n",
      "Working on symbol:  º (5)\n",
      "Current score:  -60.420092499999996 Worst score:  -70.97273169999994\n",
      "gold score -79.50212730000001\n",
      "Wrong!\n",
      "Working on symbol:  ∫ (6)\n",
      "Current score:  -73.30223828000001 Worst score:  -81.94740310000009\n",
      "gold score -92.02616899999997\n",
      "Wrong!\n",
      "Working on symbol:  A (7)\n",
      "Current score:  -82.62846930000013 Worst score:  -89.27027039999997\n",
      "gold score -102.23625073999996\n",
      "Wrong!\n",
      "Working on symbol:  / (8)\n",
      "Current score:  -88.34939546800008 Worst score:  -94.37655259999995\n",
      "gold score -110.10872593999996\n",
      "Wrong!\n",
      "Working on symbol:  Z (9)\n",
      "Current score:  -95.96628496800011 Worst score:  -102.27044884\n",
      "gold score -115.80061967999998\n",
      "Wrong!\n",
      "Working on symbol:  ∆ (10)\n",
      "Current score:  -98.30442982000002 Worst score:  -104.95539140000004\n",
      "gold score -117.85747809999998\n",
      "Wrong!\n",
      "Working on symbol:  u (11)\n",
      "Current score:  -108.21856562000004 Worst score:  -115.34125808000009\n",
      "gold score -125.84286761\n",
      "Wrong!\n",
      "Working on symbol:  O (12)\n",
      "Current score:  -113.82872739000005 Worst score:  -121.68363300000001\n",
      "gold score -131.89823053999993\n",
      "Wrong!\n",
      "Working on symbol:  R (13)\n",
      "Current score:  -127.73427452000004 Worst score:  -135.39194801000008\n",
      "gold score -148.30802733999997\n",
      "Wrong!\n",
      "Working on symbol:  À (14)\n"
     ]
    }
   ],
   "source": [
    "%%time\n",
    "mappings = beam_search(cipher_desc['content'], ext_order, score, ext_limits, 5000)"
   ]
  },
  {
   "cell_type": "code",
   "execution_count": null,
   "metadata": {},
   "outputs": [
    {
     "name": "stdout",
     "output_type": "stream",
     "text": [
      "Working on symbol:  — (1)\n"
     ]
    }
   ],
   "source": [
    "%%time\n",
    "mappings = beam_search_mp(cipher_desc['content'], ext_order, score, ext_limits, 5000)"
   ]
  },
  {
   "cell_type": "code",
   "execution_count": 22,
   "metadata": {},
   "outputs": [
    {
     "name": "stdout",
     "output_type": "stream",
     "text": [
      "teenontheareaeaaheroeditathesncrieiwiltsairimdrimshopnttheresteneurealciowondethreeaisordmtnsharaaslopedmsieurardhirothconethsarehitleeatonreshercascintthemeofaaddpeethatoterressomchuleahstmepiindoensawrsesiaetmechdrenhadnscwastaciudshopelteastthredorimrelaonunteaimldeesidahotenteeonsethreearerpttatoststherisettopoirploreroedinepiistetcmphcthatlasmodiccarpeottaesereartedtoswimrpawsonhereareantesarehihatsa\n",
      "score -545.3978767199993\n",
      "408\n",
      "0.8799019607843137\n"
     ]
    }
   ],
   "source": [
    "mapping = mappings[0][0]\n",
    "decipher_text = ''\n",
    "for char in cipher_desc['content']:\n",
    "    decipher_text += mapping[char]\n",
    "print(decipher_text)\n",
    "#print('score', lm.score_seq(decipher_text))\n",
    "print(symbol_error_rate(decipher_text, 'data/_ref_Zodiac_408.txt'))"
   ]
  },
  {
   "cell_type": "code",
   "execution_count": null,
   "metadata": {},
   "outputs": [],
   "source": []
  }
 ],
 "metadata": {
  "kernelspec": {
   "display_name": "Python 3",
   "language": "python",
   "name": "python3"
  },
  "language_info": {
   "codemirror_mode": {
    "name": "ipython",
    "version": 3
   },
   "file_extension": ".py",
   "mimetype": "text/x-python",
   "name": "python",
   "nbconvert_exporter": "python",
   "pygments_lexer": "ipython3",
   "version": "3.6.5"
  }
 },
 "nbformat": 4,
 "nbformat_minor": 2
}
