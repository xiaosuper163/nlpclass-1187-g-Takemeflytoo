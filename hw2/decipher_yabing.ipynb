{
 "cells": [
  {
   "cell_type": "markdown",
   "metadata": {},
   "source": [
    "# Homework: Decipherment"
   ]
  },
  {
   "cell_type": "code",
   "execution_count": 1,
   "metadata": {},
   "outputs": [],
   "source": [
    "%load_ext autoreload\n",
    "%autoreload 2\n",
    "from collections import defaultdict, Counter\n",
    "import collections\n",
    "import pprint\n",
    "import math\n",
    "import bz2\n",
    "from ngram import *\n",
    "import sys, string\n",
    "import copy\n",
    "import pickle\n",
    "from joblib import Parallel, delayed\n",
    "import itertools\n",
    "pp = pprint.PrettyPrinter(width=45, compact=True)"
   ]
  },
  {
   "cell_type": "markdown",
   "metadata": {},
   "source": [
    "First let us read in the cipher text from the `data` directory:"
   ]
  },
  {
   "cell_type": "code",
   "execution_count": 2,
   "metadata": {},
   "outputs": [
    {
     "name": "stdout",
     "output_type": "stream",
     "text": [
      "º∫P/Z/uB∫ÀOR•–X•B\n",
      "WV+≈GyF∞ºHPπKÇ—y≈\n",
      "MJy^uIÀΩ—T‘NQyDµ£\n",
      "S¢/º∑BPORAu∫∆RÃ—E\n",
      "À^LMZJƒ“\\–FHVW≈æy\n",
      "π+—GDºKI£∞—Xæµ§S¢\n",
      "RN‘IyEÃOæ—GBTQS∑B\n",
      "Lƒ/P∑BπX—EHMu^RRÀ\n",
      "√ZK—–I£W—ÇæµLM“º∑\n",
      "BPDR+j•∞\\N¢≈EuHÀF\n",
      "Z√–OVWIµ+‘L£Ã^R∞H\n",
      "IºDR∏Ty“\\ƒ≈/πXJQA\n",
      "PµMæRu‘∫L£NVEKH•G\n",
      "“IÇJÀµºæLMÃNA£Z¢P\n",
      "§u–ÀAº∑BVW\\+VT‘OP\n",
      "^•S“Ã∆u≈∞ΩD§G∫∫IM\n",
      "NÀ£S√E/º∫∫Z∆AP∑BV\n",
      "–≈X—W—∏F∑æ√+πºAºB\n",
      "∫OTµRu√+∏ƒy—∏^S—W\n",
      "VZ≈GyKE∏TyAº∫∑L‘∏\n",
      "HÇFBXº§XADƒ\\ΩLÇ•—\n",
      "∏≈ƒ∑∑∞≈µPORXQF∫G√\n",
      "ZπJT‘—∏æJI+“BPQW∞\n",
      "VEX“ºWI∞—EHM£•uIÀ\n"
     ]
    }
   ],
   "source": [
    "def read_file(filename):\n",
    "    if filename[-4:] == \".bz2\":\n",
    "        with bz2.open(filename, 'rt', encoding='utf8') as f:\n",
    "            content = f.read()\n",
    "            f.close()\n",
    "    else:\n",
    "        with open(filename, 'r', encoding='utf8') as f:\n",
    "            content = f.read()\n",
    "            f.close()\n",
    "    return content\n",
    "\n",
    "cipher = read_file(\"data/cipher.txt\")\n",
    "print(cipher)"
   ]
  },
  {
   "cell_type": "markdown",
   "metadata": {},
   "source": [
    "For the default solution we need to compute statistics like length, number of symbols/letters, \n",
    "unique occurences, frequencies and relative frequencies of a given file. This is done in the function `get_statistics` below.\n",
    "\n",
    "While using `get_statistics`, make sure that `cipher=True` is set when the input is a ciphertext."
   ]
  },
  {
   "cell_type": "code",
   "execution_count": 3,
   "metadata": {},
   "outputs": [],
   "source": [
    "def get_statistics(content, cipher=True):\n",
    "    stats = {}\n",
    "    content = list(content)\n",
    "    split_content = [x for x in content if x != '\\n' and x!=' ']\n",
    "    length = len(split_content)\n",
    "    symbols = set(split_content)\n",
    "    uniq_sym = len(list(symbols))\n",
    "    freq = collections.Counter(split_content)\n",
    "    rel_freq = {}\n",
    "    for sym, frequency in freq.items():\n",
    "        rel_freq[sym] = (frequency/length)*100\n",
    "        \n",
    "    if cipher:\n",
    "        stats = {'content':split_content, 'length':length, 'vocab':list(symbols), 'vocab_length':uniq_sym, 'frequencies':freq, 'relative_freq':rel_freq}\n",
    "    else:\n",
    "        stats = {'length':length, 'vocab':list(symbols), 'vocab_length':uniq_sym, 'frequencies':freq, 'relative_freq':rel_freq}\n",
    "    return stats"
   ]
  },
  {
   "cell_type": "code",
   "execution_count": 4,
   "metadata": {},
   "outputs": [],
   "source": [
    "\"\"\"\n",
    "ATTENTION!\n",
    "For grading purposes only. Don't bundle with the assignment. \n",
    "Make sure '_ref.txt' is removed from the 'data' directory before publishing.\n",
    "\"\"\"\n",
    "\n",
    "def read_gold(gold_file):\n",
    "    with open(gold_file) as f:\n",
    "        gold = f.read()\n",
    "    f.close()\n",
    "    gold = list(gold.strip())\n",
    "    return gold\n",
    "\n",
    "def symbol_error_rate(dec, _gold):\n",
    "    gold = read_gold(_gold)\n",
    "    correct = 0\n",
    "    if len(gold) == len(dec):\n",
    "        for (d,g) in zip(dec, gold):\n",
    "            if d==g:\n",
    "                correct += 1\n",
    "    wrong = len(gold)-correct\n",
    "    error = wrong/len(gold)\n",
    "    \n",
    "    return error"
   ]
  },
  {
   "cell_type": "code",
   "execution_count": 5,
   "metadata": {
    "scrolled": true
   },
   "outputs": [],
   "source": [
    "cipher_desc = get_statistics(cipher, cipher=True)\n",
    "plaintxt = read_file(\"data/default.wiki.txt.bz2\")\n",
    "plaintxt_desc = get_statistics(plaintxt, cipher=False)\n",
    "#pp.pprint(cipher_desc)"
   ]
  },
  {
   "cell_type": "markdown",
   "metadata": {},
   "source": [
    "## Load the 6-gram model"
   ]
  },
  {
   "cell_type": "code",
   "execution_count": 6,
   "metadata": {},
   "outputs": [
    {
     "name": "stderr",
     "output_type": "stream",
     "text": [
      "Reading language model from data/6-gram-wiki-char.lm.bz2...\n"
     ]
    },
    {
     "name": "stdout",
     "output_type": "stream",
     "text": [
      "Wall time: 15.1 s\n"
     ]
    },
    {
     "name": "stderr",
     "output_type": "stream",
     "text": [
      "Done.\n"
     ]
    }
   ],
   "source": [
    "%%time\n",
    "sequence = 'In a few cases, a multilingual artifact has been necessary to facilitate decipherment, the Rosetta Stone being the classic example. Statistical techniques provide another pathway to decipherment, as does the analysis of modern languages derived from ancient languages in which undeciphered texts are written. Archaeological and historical information is helpful in verifying hypothesized decipherments.'\n",
    "\n",
    "# lm = LM(\"data/6-gram-wiki-char.lm.bz2\", n=6, verbose=True)\n",
    "lm = LM(\"data/6-gram-wiki-char.lm.bz2\", n=6, verbose=False)"
   ]
  },
  {
   "cell_type": "code",
   "execution_count": 7,
   "metadata": {},
   "outputs": [
    {
     "name": "stdout",
     "output_type": "stream",
     "text": [
      "In a few cases, a multilingual artifact has been necessary to facilitate decipherment, the Rosetta Stone being the classic example. Statistical techniques provide another pathway to decipherment, as does the analysis of modern languages derived from ancient languages in which undeciphered texts are written. Archaeological and historical information is helpful in verifying hypothesized decipherments.\n",
      "{2: 3, 3: 4, 7: 8, 8: 9, 9: 10}\n",
      "-11.05281791\n"
     ]
    },
    {
     "name": "stderr",
     "output_type": "stream",
     "text": [
      "TOTAL LM LOGPROB: -221.09434842188\n",
      "TOTAL LM LOGPROB: -9.76947916\n"
     ]
    }
   ],
   "source": [
    "print(sequence)\n",
    "lm_logprob = lm.score_seq(sequence)\n",
    "print(\"TOTAL LM LOGPROB: {}\".format(lm_logprob), file=sys.stderr)\n",
    "print(\"TOTAL LM LOGPROB: {}\".format(lm.score_seq('this is the text.')), file=sys.stderr)\n",
    "print(lm.get_bitstring_spans('..oo...ooo..'))\n",
    "print(lm.score_bitstring('thisisatest', 'ooooooooooo'))"
   ]
  },
  {
   "cell_type": "markdown",
   "metadata": {},
   "source": [
    "## Implementation for Reference 3 to find the optimal extension order"
   ]
  },
  {
   "cell_type": "markdown",
   "metadata": {},
   "source": [
    "This is the implementation of the reference 'Beam Search for Solving Substitution Ciphers'. The goal is to find the best extension order. As the paper mentioned, it is important to find a set of weights for the ngram order. I chose the weights \\[1,1,1,1,2,3\\] suggested by Anoop in a discussion post. I also tried several sets of weights. For beamsize of 10000, the result was not influenced quite much."
   ]
  },
  {
   "cell_type": "code",
   "execution_count": 8,
   "metadata": {},
   "outputs": [],
   "source": [
    "def find_sharp_n(cipher_desc, symbols_found, n_order):\n",
    "    '''\n",
    "    finds the #n for order n_order\n",
    "    cipher_desc -- cipher statistics\n",
    "    symbols_found -- list of single character string,\n",
    "                     specifies the list of symbols have been placed in the extention order\n",
    "    n_order -- int, specifies the order of n-gram\n",
    "    '''\n",
    "    sharp_n = 0\n",
    "    for i in range(len(cipher_desc['content'])-n_order+1):\n",
    "        #flag = True\n",
    "        for j in range(i, i+n_order, 1):\n",
    "            if cipher_desc['content'][j] not in symbols_found:\n",
    "                break\n",
    "            if j == (i+n_order-1):\n",
    "                sharp_n += 1\n",
    "                #print(cipher_desc['content'][i:i+n_order])\n",
    "    return sharp_n            "
   ]
  },
  {
   "cell_type": "markdown",
   "metadata": {},
   "source": [
    "This is used to test the find_sharp_n function above. The results should be correct."
   ]
  },
  {
   "cell_type": "code",
   "execution_count": 9,
   "metadata": {},
   "outputs": [],
   "source": [
    "# test_str = 'ASCREAMINGCOMESACROSSTHESKY'\n",
    "# print(find_sharp_n(get_statistics(test_str), ['A','G','H','K','Y'],6))\n",
    "# find_sharp_n(get_statistics(test_str), ['S','C','E','M','O'],2)"
   ]
  },
  {
   "cell_type": "markdown",
   "metadata": {},
   "source": [
    "Use a beam search to find the optimal extension order. The code below is pretty similar to the beam_search function. Most of the code is copied from it. For simplicity, the variable name might not quite make sense."
   ]
  },
  {
   "cell_type": "code",
   "execution_count": 10,
   "metadata": {},
   "outputs": [],
   "source": [
    "def find_ext_order(cipher_desc, topn=100, weights=[1,1,1,1,2,3]):\n",
    "    '''\n",
    "    finds the best order of deciphering cipher symbols (find best extention order)\n",
    "    cipher_desc -- cipher statistics\n",
    "    topn -- int, number of best trees we want to keep during iteration\n",
    "    weights -- list of int, weight for #n, n varies from 1 to 6\n",
    "    '''\n",
    "    # symbols_found = list()\n",
    "    # symbols_found.append(sorted(cipher_desc['frequencies'], key=cipher_desc['frequencies'].get, reverse=True)[0])\n",
    "    # symbols already found with score\n",
    "    Hs = [([], 0)]\n",
    "    # hypothesis extended symbols with score\n",
    "    Ht = []\n",
    "    # initialize the cardinality (number of unique cipher text)\n",
    "    cardinality = 0\n",
    "    if weights[0] == 0:\n",
    "        cardinality += 1\n",
    "        Hs.append(([sorted(cipher_desc['frequencies'], key=cipher_desc['frequencies'].get, reverse=True)[0]], 0))\n",
    "    # list of cipher characters\n",
    "    Ve = sorted(cipher_desc['frequencies'], key=cipher_desc['frequencies'].get, reverse=True)\n",
    "    while cardinality < cipher_desc['vocab_length']:\n",
    "    #while cardinality < 3:\n",
    "        for phi, previous_score in Hs:\n",
    "            for e in Ve:\n",
    "                phi_prime = copy.deepcopy(phi)\n",
    "                if e in phi_prime:\n",
    "                    continue\n",
    "                else:\n",
    "                    phi_prime.append(e)\n",
    "                    this_score = 0\n",
    "                    for i in range(6):\n",
    "                        this_score += weights[i]*find_sharp_n(cipher_desc, phi_prime, i+1)\n",
    "                    Ht.append((phi_prime, this_score))\n",
    "        # prune the histogram\n",
    "        Ht = sorted(Ht, key=lambda x:x[1], reverse=True)[:topn]                    \n",
    "        cardinality += 1\n",
    "        Hs = copy.deepcopy(Ht)\n",
    "        Ht.clear()\n",
    "        #print('Done with symbol number', cardinality, '; Current best score: ', Hs[0][1])\n",
    "        #print('Hs', Hs)\n",
    "    return sorted(Hs, key=lambda x:x[1], reverse=True)"
   ]
  },
  {
   "cell_type": "code",
   "execution_count": 66,
   "metadata": {},
   "outputs": [
    {
     "name": "stdout",
     "output_type": "stream",
     "text": [
      "Wall time: 3min 46s\n"
     ]
    }
   ],
   "source": [
    "%%time\n",
    "# test the function above\n",
    "ext_orders = find_ext_order(cipher_desc, topn=100, weights=[0,1,1,1,2,3])"
   ]
  },
  {
   "cell_type": "code",
   "execution_count": 67,
   "metadata": {},
   "outputs": [
    {
     "name": "stdout",
     "output_type": "stream",
     "text": [
      "['—', '∑', 'B', 'P', 'º', '∫', 'A', '/', 'Z',\n",
      " '∆', 'u', 'O', 'R', 'À', 'Ã', 'E', 'V', '–',\n",
      " '√', 'W', '^', 'K', 'I', '£', '∞', 'H', 'M',\n",
      " '•', 'X', '≈', 'π', 'F', '“', 'S', 'N', 'L',\n",
      " 'µ', 'æ', '+', 'G', 'y', '‘', '∏', 'Ç', 'J',\n",
      " 'T', 'Q', 'ƒ', 'D', '\\\\', '¢', '§', 'Ω',\n",
      " 'j']\n"
     ]
    }
   ],
   "source": [
    "ext_order = ext_orders[0][0]\n",
    "pp.pprint(ext_order)"
   ]
  },
  {
   "cell_type": "code",
   "execution_count": null,
   "metadata": {},
   "outputs": [],
   "source": [
    "with open('ext_order.pkl', 'wb') as fh:\n",
    "    pickle.dump(ext_orders, fh)"
   ]
  },
  {
   "cell_type": "code",
   "execution_count": null,
   "metadata": {},
   "outputs": [],
   "source": [
    "# with open('ext_order.pkl', 'rb') as fh:\n",
    "#     ext_order = pickle.load(fh, encoding='utf8')[0][0]"
   ]
  },
  {
   "cell_type": "markdown",
   "metadata": {},
   "source": [
    "## Baseline"
   ]
  },
  {
   "cell_type": "markdown",
   "metadata": {},
   "source": [
    "I rewrote the score function. The change I made is to score the newly fixed symbol plantext character pair and corresponding influenced previously fixed plantext character based on the previous score instead of scoring the whole bitstring in each iteration. For instance, 'oooo...o' -> 'oooo..xo'. The new score can be calculated by adding unigram score of 'x' to the previous score, substracting unigram score of 'o' following 'x' and bigram score of '<\\s>' from the previous score, and adding bigram score of 'o' following 'x' and trigram score of '<\\s>' to the previous score. With this approach, the running time was improved to 20 minitues from 1 hour with a beamsize of 10000. And the computed score is very close to the score computed with score_bit_string function (the difference is within 0.0001)."
   ]
  },
  {
   "cell_type": "code",
   "execution_count": 16,
   "metadata": {},
   "outputs": [],
   "source": [
    "def score(cipher, phi, new_f, new_e, previous_score):\n",
    "    '''\n",
    "    scores the phi_prime based on the previous score, returns a float\n",
    "    cipher -- list of single character string\n",
    "    phi -- dictionary, old mapping e->[f]\n",
    "    new_f -- single-character string, extended symbol\n",
    "    previous_score -- float, old score for phi\n",
    "    '''\n",
    "    mapping = phi\n",
    "    new_score = previous_score\n",
    "    # for the first iteration, the previous score should be -2.545382 instead of 0\n",
    "    if len(phi)==0:\n",
    "        new_score += -2.545382\n",
    "    lm_state = lm.begin()\n",
    "    old_lm_state = lm.begin()\n",
    "    triggerChangeFlag = 0\n",
    "    for i in range(len(cipher)):\n",
    "        char = cipher[i]\n",
    "        if (char in mapping.keys()) and (triggerChangeFlag==0):\n",
    "            token = mapping[char]\n",
    "            ngram = lm_state + (token,)\n",
    "            while len(ngram)> 0:\n",
    "                if ngram in lm.table:\n",
    "                    lm_state = ngram[-lm.history:]\n",
    "                    break\n",
    "                else: #backoff\n",
    "                    ngram = ngram[1:]\n",
    "            if len(ngram)==0:\n",
    "                lm_state = ()\n",
    "            old_lm_state = lm_state\n",
    "        elif (char in mapping.keys()) and (triggerChangeFlag>0):\n",
    "            token = mapping[char]\n",
    "            old_lm_state, old_logprob = lm.score(old_lm_state, token)\n",
    "            new_score -= old_logprob\n",
    "            lm_state, logprob = lm.score(lm_state, token)\n",
    "            new_score += logprob\n",
    "            triggerChangeFlag -= 1\n",
    "        elif char == new_f:\n",
    "            (lm_state, logprob) = lm.score(lm_state, new_e)\n",
    "            new_score += logprob\n",
    "            triggerChangeFlag = 5\n",
    "            old_lm_state = ()\n",
    "        else:\n",
    "            lm_state = ()\n",
    "            old_lm_state = ()\n",
    "            triggerChangeFlag = 0\n",
    "        #print('old lm state', old_lm_state)\n",
    "        #print('lm state', lm_state)\n",
    "    if triggerChangeFlag:\n",
    "        new_score -= lm.end(old_lm_state)\n",
    "        new_score += lm.end(lm_state)\n",
    "    return new_score"
   ]
  },
  {
   "cell_type": "code",
   "execution_count": 17,
   "metadata": {},
   "outputs": [],
   "source": [
    "def score_new(cipher, phi, new_f, new_e, previous_score):\n",
    "    '''\n",
    "    scores the phi_prime based on the previous score, returns a float\n",
    "    cipher -- list of single character string\n",
    "    phi -- dictionary, old mapping e->[f]\n",
    "    new_f -- single-character string, extended symbol\n",
    "    previous_score -- float, old score for phi\n",
    "    '''\n",
    "    mapping = phi\n",
    "    new_score = previous_score\n",
    "    lm_state = lm.begin()\n",
    "    for i in range(len(cipher)):\n",
    "        char = cipher[i]\n",
    "        if char in mapping.keys():\n",
    "            token = mapping[char]\n",
    "            ngram = lm_state + (token,)\n",
    "            while len(ngram)> 0:\n",
    "                if ngram in lm.table:\n",
    "                    lm_state = ngram[-lm.history:]\n",
    "                    break\n",
    "                else: #backoff\n",
    "                    ngram = ngram[1:]\n",
    "            if len(ngram)==0:\n",
    "                lm_state = ()\n",
    "        elif char == new_f:\n",
    "            (lm_state, logprob) = lm.score(lm_state, new_e)\n",
    "            new_score += logprob\n",
    "        else:\n",
    "            lm_state = ()\n",
    "    return new_score"
   ]
  },
  {
   "cell_type": "code",
   "execution_count": 87,
   "metadata": {},
   "outputs": [],
   "source": [
    "def beam_search(cipher, ext_order, score_func, ext_limits=1, topn=1):\n",
    "    '''\n",
    "    finds the mappings between cipher char and plaintext char, returns the mapping dictionary\n",
    "    ext_order -- list, the unigram char list sorted by their count DESC\n",
    "    ext_limits -- int, defines maximum number of cipher char can be mapped to a plaintext char\n",
    "    topn -- int, defines the number of dictionaries we want to keep while pruning\n",
    "    '''\n",
    "    print('Number of unique symbols in cipher:', len(ext_order))\n",
    "    # mapping relationships already found with score\n",
    "    Hs = [(defaultdict(dict), 0)]\n",
    "    # hypothesis mapping relationships with score\n",
    "    Ht = []\n",
    "    # initialize the cardinality (number of unique cipher text)\n",
    "    cardinality = 0\n",
    "    # list of plaintext characters\n",
    "    Ve = [chr(i) for i in range(97, 123, 1)]\n",
    "    while cardinality < len(ext_order):\n",
    "        f = ext_order[cardinality]\n",
    "        print('Working on symbol: ', f, f'({cardinality+1})')\n",
    "        for phi, previous_score in Hs:\n",
    "            for e in Ve:\n",
    "                phi_prime = copy.deepcopy(phi)\n",
    "                new_map = {f: e}\n",
    "                phi_prime.update(new_map)\n",
    "                counts = len([v for k, v in phi_prime.items() if v == e])\n",
    "                ext_limits = counts_dict[e]\n",
    "                if counts <= ext_limits:\n",
    "                    Ht.append((phi_prime, score_func(cipher, phi, f, e, previous_score)))\n",
    "        # prune the histogram\n",
    "\n",
    "        if cardinality in [3,7]:\n",
    "            Ht = sorted(Ht, key=lambda x:x[1], reverse=True)[topn*2:topn*3]\n",
    "        elif cardinality in [6]:\n",
    "            Ht = sorted(Ht, key=lambda x:x[1], reverse=True)[topn*3:topn*4]\n",
    "#         elif cardinality in [16]:\n",
    "#             Ht = sorted(Ht, key=lambda x:x[1], reverse=True)[topn*1:topn*2]\n",
    "        else:\n",
    "            Ht = sorted(Ht, key=lambda x:x[1], reverse=True)[:topn]                    \n",
    "        cardinality += 1\n",
    "        Hs = copy.deepcopy(Ht)\n",
    "        Ht.clear()\n",
    "        print('Current score: ', Hs[0][1], 'Worst score: ', Hs[min(len(Hs)-1, topn-1)][1])\n",
    "        \n",
    "        found_symbols = ext_order[:cardinality]\n",
    "        phi_temp = dict()\n",
    "        for key,value in gold_dict.items():\n",
    "            if key in found_symbols:\n",
    "                phi_temp[key] = value\n",
    "        partial_text = ''\n",
    "        bit_string = ''\n",
    "        for cipher_char in cipher_desc['content']:\n",
    "            if cipher_char in phi_temp.keys():\n",
    "                partial_text += phi_temp[cipher_char]\n",
    "                bit_string += 'o'\n",
    "            else:\n",
    "                partial_text += '_'\n",
    "                bit_string += '.'\n",
    "        gold_score = lm.score_bitstring(partial_text, bit_string)\n",
    "        print('gold score', gold_score)\n",
    "        if gold_score < Hs[min(len(Hs)-1, topn-1)][1] or gold_score > Hs[0][1]:\n",
    "            print('Wrong!')\n",
    "        \n",
    "    return sorted(Hs, key=lambda x:x[1], reverse=True)"
   ]
  },
  {
   "cell_type": "code",
   "execution_count": 88,
   "metadata": {},
   "outputs": [
    {
     "name": "stdout",
     "output_type": "stream",
     "text": [
      "Number of unique symbols in cipher: 54\n",
      "Working on symbol:  — (1)\n",
      "Current score:  -17.194697199999997 Worst score:  -45.951461999999985\n",
      "gold score -27.947701999999992\n",
      "Working on symbol:  ∑ (2)\n",
      "Current score:  -26.92681499999999 Worst score:  -67.70077199999999\n",
      "gold score -41.34324120000001\n",
      "Working on symbol:  B (3)\n",
      "Current score:  -38.52903960000001 Worst score:  -71.79167000000001\n",
      "gold score -55.25409240000002\n",
      "Working on symbol:  P (4)\n",
      "Current score:  -65.02454639999998 Worst score:  -67.1545066\n",
      "gold score -65.89092420000003\n",
      "Working on symbol:  º (5)\n",
      "Current score:  -76.06826050000004 Worst score:  -80.346168\n",
      "gold score -79.50212730000001\n",
      "Working on symbol:  ∫ (6)\n",
      "Current score:  -87.55035280000003 Worst score:  -92.19305749999994\n",
      "gold score -92.02616899999997\n",
      "Working on symbol:  A (7)\n",
      "Current score:  -101.87003810000007 Worst score:  -102.40576109999998\n",
      "gold score -102.23625073999996\n",
      "Working on symbol:  / (8)\n",
      "Current score:  -109.82889010000001 Worst score:  -110.32650649999998\n",
      "gold score -110.10872593999996\n",
      "Working on symbol:  Z (9)\n",
      "Current score:  -115.0651340000001 Worst score:  -118.79065830000006\n",
      "gold score -115.80061967999998\n",
      "Working on symbol:  ∆ (10)\n",
      "Current score:  -117.11140932000008 Worst score:  -121.5782437000001\n",
      "gold score -117.85747809999998\n",
      "Working on symbol:  u (11)\n",
      "Current score:  -125.35888900000013 Worst score:  -131.69521160000008\n",
      "gold score -125.84286761\n",
      "Working on symbol:  O (12)\n",
      "Current score:  -131.41425193000012 Worst score:  -138.09549227200003\n",
      "gold score -131.89823053999993\n",
      "Working on symbol:  R (13)\n",
      "Current score:  -144.03417474000003 Worst score:  -151.98893407\n",
      "gold score -148.30802733999997\n",
      "Working on symbol:  À (14)\n",
      "Current score:  -152.06872393999998 Worst score:  -160.83630046000007\n",
      "gold score -157.76782241\n",
      "Working on symbol:  Ã (15)\n",
      "Current score:  -156.93366594000005 Worst score:  -164.73348839999994\n",
      "gold score -161.25205151000003\n",
      "Working on symbol:  E (16)\n",
      "Current score:  -165.04052884000006 Worst score:  -173.81711995000003\n",
      "gold score -168.42822499999997\n",
      "Working on symbol:  V (17)\n",
      "Current score:  -175.24108674000004 Worst score:  -182.0794187399999\n",
      "gold score -182.1360727\n",
      "Wrong!\n",
      "Working on symbol:  – (18)\n",
      "Current score:  -181.639497 Worst score:  -187.92599423000007\n",
      "gold score -187.02685586299998\n",
      "Working on symbol:  √ (19)\n",
      "Current score:  -186.90301469000008 Worst score:  -193.95000944000003\n",
      "gold score -193.7430092729999\n",
      "Working on symbol:  W (20)\n",
      "Current score:  -194.80971719000007 Worst score:  -202.75793976000023\n",
      "gold score -199.6234240729999\n",
      "Working on symbol:  ^ (21)\n",
      "Current score:  -200.38898075299997 Worst score:  -207.71985289000017\n",
      "gold score -202.0441911529999\n",
      "Working on symbol:  K (22)\n",
      "Current score:  -204.90266735299994 Worst score:  -212.26891009000002\n",
      "gold score -207.87906705299994\n",
      "Working on symbol:  I (23)\n",
      "Current score:  -216.16481885299996 Worst score:  -224.06240003000025\n",
      "gold score -218.27628385299994\n",
      "Working on symbol:  £ (24)\n",
      "Current score:  -224.21895805299985 Worst score:  -232.91939835000014\n",
      "gold score -228.16108795299996\n",
      "Working on symbol:  ∞ (25)\n",
      "Current score:  -232.8897561329999 Worst score:  -241.3897906900001\n",
      "gold score -235.72099844299993\n",
      "Working on symbol:  H (26)\n",
      "Current score:  -240.49316783299992 Worst score:  -248.7425747529998\n",
      "gold score -242.99981404299993\n",
      "Working on symbol:  M (27)\n",
      "Current score:  -248.5918976130001 Worst score:  -258.1646463100002\n",
      "gold score -251.60342567299986\n",
      "Working on symbol:  • (28)\n",
      "Current score:  -256.66566810000023 Worst score:  -266.9972448000001\n",
      "gold score -265.23144090299985\n",
      "Working on symbol:  X (29)\n",
      "Current score:  -267.3482415030002 Worst score:  -276.96832578\n",
      "gold score -271.65292072217983\n",
      "Working on symbol:  ≈ (30)\n",
      "Current score:  -278.50165434000036 Worst score:  -287.6511627200003\n",
      "gold score -280.45862912217984\n",
      "Working on symbol:  π (31)\n",
      "Current score:  -285.144256052 Worst score:  -294.32230232200004\n",
      "gold score -284.08221139117995\n",
      "Wrong!\n",
      "Working on symbol:  F (32)\n",
      "Current score:  -290.4157845220001 Worst score:  -300.9717306840001\n",
      "gold score -290.02693559117995\n",
      "Wrong!\n",
      "Working on symbol:  “ (33)\n",
      "Current score:  -299.13238062899967 Worst score:  -309.11490011100034\n",
      "gold score -300.0433315411799\n",
      "Working on symbol:  S (34)\n",
      "Current score:  -300.2163570011798 Worst score:  -315.9096745419997\n",
      "gold score -299.2362339911799\n",
      "Wrong!\n",
      "Working on symbol:  N (35)\n",
      "Current score:  -307.18107397418 Worst score:  -319.96127235700004\n",
      "gold score -305.30617088418\n",
      "Wrong!\n",
      "Working on symbol:  L (36)\n",
      "Current score:  -313.99039046418 Worst score:  -327.97840436700005\n",
      "gold score -311.95391127418\n",
      "Wrong!\n",
      "Working on symbol:  µ (37)\n",
      "Current score:  -318.9891711620004 Worst score:  -334.5328193241801\n",
      "gold score -315.13163039417987\n",
      "Wrong!\n",
      "Working on symbol:  æ (38)\n",
      "Current score:  -327.57279724418 Worst score:  -344.1044390310001\n",
      "gold score -321.80392299417997\n",
      "Wrong!\n",
      "Working on symbol:  + (39)\n",
      "Current score:  -328.64337477418013 Worst score:  -351.22538665218053\n",
      "gold score -323.35834986418007\n",
      "Wrong!\n",
      "Working on symbol:  G (40)\n",
      "Current score:  -331.5742768741802 Worst score:  -354.6781096720003\n",
      "gold score -323.57449609418006\n",
      "Wrong!\n",
      "Working on symbol:  y (41)\n",
      "Current score:  -340.74898588118015 Worst score:  -367.6634693211797\n",
      "gold score -326.8485448841799\n",
      "Wrong!\n",
      "Working on symbol:  ‘ (42)\n",
      "Current score:  -345.9057945811799 Worst score:  -374.08762390418053\n",
      "gold score -330.56260226418\n",
      "Wrong!\n",
      "Working on symbol:  ∏ (43)\n",
      "Current score:  -360.55869739117975 Worst score:  -383.18919353218007\n",
      "gold score -344.0204115741797\n",
      "Wrong!\n",
      "Working on symbol:  Ç (44)\n",
      "Current score:  -361.1736551594796 Worst score:  -387.1422605991799\n",
      "gold score -344.6353693424797\n",
      "Wrong!\n",
      "Working on symbol:  J (45)\n",
      "Current score:  -366.2759758919197 Worst score:  -394.0450282264801\n",
      "gold score -349.7376900749198\n",
      "Wrong!\n",
      "Working on symbol:  T (46)\n",
      "Current score:  -363.3497665829197 Worst score:  -402.9546285294798\n",
      "gold score -343.89244714591985\n",
      "Wrong!\n",
      "Working on symbol:  Q (47)\n",
      "Current score:  -365.29846598331983 Worst score:  -402.64636570491984\n",
      "gold score -345.5874057463199\n",
      "Wrong!\n",
      "Working on symbol:  ƒ (48)\n",
      "Current score:  -362.7888914071198 Worst score:  -408.3025187909799\n",
      "gold score -343.0778311701198\n",
      "Wrong!\n",
      "Working on symbol:  D (49)\n",
      "Current score:  -364.05173531711984 Worst score:  -407.24221084117954\n",
      "gold score -344.3406750801197\n",
      "Wrong!\n",
      "Working on symbol:  \\ (50)\n",
      "Current score:  -375.4496491171198 Worst score:  -408.22754954571946\n",
      "gold score -348.70242448012\n",
      "Wrong!\n",
      "Working on symbol:  ¢ (51)\n",
      "Current score:  -376.1028295171198 Worst score:  -409.03893600711973\n",
      "gold score -349.3454667401199\n",
      "Wrong!\n",
      "Working on symbol:  § (52)\n",
      "Current score:  -382.9317736491198 Worst score:  -411.7495820096801\n",
      "gold score -355.7758263201198\n",
      "Wrong!\n",
      "Working on symbol:  Ω (53)\n",
      "Current score:  -390.84303894911983 Worst score:  -413.77363924711966\n",
      "gold score -361.3223825331199\n",
      "Wrong!\n",
      "Working on symbol:  j (54)\n",
      "Current score:  -392.9211090671197 Worst score:  -409.07378646511984\n",
      "gold score -363.1344102331199\n",
      "Wrong!\n",
      "Wall time: 33min 47s\n"
     ]
    }
   ],
   "source": [
    "%%time\n",
    "# sorted_keys = sorted(cipher_desc['frequencies'], key=cipher_desc['frequencies'].get, reverse=True)\n",
    "# mappings = beam_search(cipher_desc['content'], sorted_keys, 7, 100)\n",
    "mappings = beam_search(cipher_desc['content'], ext_order, score, 7, 10000)\n",
    "# mappings = beam_search(cipher_desc['content'], ext_order, score_new, 7, 10000)"
   ]
  },
  {
   "cell_type": "code",
   "execution_count": 89,
   "metadata": {},
   "outputs": [
    {
     "name": "stdout",
     "output_type": "stream",
     "text": [
      "ilikekillingpeoplerecauseitissomuchfunitiemorefunthankillingwildgameintheforsestrecausemanisthemoatdangertueanamalofalltokillsomethinggivesmethemoatthrillingexpesenceitisevenretterthangettingyoursocksoffwithagirltherestpartofitiathaewhenidieiwillreserorninparadiceendalltheihavekilledwillrecomemyslavesiwillnotgiveyoumynamerecauseyouwilltrytosloidownosetopmycollectingofslavesformyafterlifeereorietemethhpiti\n",
      "score -392.92110906712\n",
      "408\n",
      "0.05392156862745098\n"
     ]
    }
   ],
   "source": [
    "mapping = mappings[0][0]\n",
    "decipher_text = ''\n",
    "for char in cipher_desc['content']:\n",
    "    decipher_text += mapping[char]\n",
    "print(decipher_text)\n",
    "print('score', lm.score_seq(decipher_text))\n",
    "print(len(decipher_text))\n",
    "\n",
    "print(symbol_error_rate(decipher_text, 'data/_ref_Zodiac_408.txt'))"
   ]
  },
  {
   "cell_type": "markdown",
   "metadata": {},
   "source": [
    "## Multi-processing"
   ]
  },
  {
   "cell_type": "markdown",
   "metadata": {},
   "source": [
    "The following code is to utilize the joblib to multiprocessing the computations. However, the running time doesn't drop a lot (while experimenting with beamsize of 10000). When I monitered the CPU usage, I found each iteration only took around 30s to compute the parallelized section. Most of the time was used on the serialized section, such as data transportations and sorting the Ht list. Although the computed scores are consistent with the scores computed with single core computation, I still stick to the single core implementation since the memory usage is huge with multi-processing. The memory usage has been up to 100% when I only used four cores and beamsize of 10000 on my machine with 16G RAM."
   ]
  },
  {
   "cell_type": "code",
   "execution_count": null,
   "metadata": {},
   "outputs": [],
   "source": [
    "def work(Hs, Ve, f, cipher, topn):\n",
    "    ret = []\n",
    "    for phi, previous_score in Hs:\n",
    "        for e in Ve:\n",
    "            phi_prime = copy.deepcopy(phi)\n",
    "            new_map = {f: e}\n",
    "            phi_prime.update(new_map)\n",
    "            counts = len([v for k, v in phi_prime.items() if v == e])\n",
    "            if counts <= counts_dict[e]:\n",
    "                ret.append((phi_prime, score(cipher, phi, f, e, previous_score)))\n",
    "    return sorted(ret, key=lambda x:x[1], reverse=True)[:topn]\n",
    "\n",
    "def grouper(n, iterable):\n",
    "    it = iter(iterable)\n",
    "    while True:\n",
    "        chunk = tuple(itertools.islice(it, n))\n",
    "        if not chunk:\n",
    "            return\n",
    "        yield chunk\n",
    "\n",
    "def beam_search_mp(cipher, ext_order, ext_limits=1, topn=1):\n",
    "    '''\n",
    "    finds the mappings between cipher char and plaintext char, returns the mapping dictionary\n",
    "    ext_order -- list, the unigram char list sorted by their count DESC\n",
    "    ext_limits -- int, defines maximum number of cipher char can be mapped to a plaintext char\n",
    "    topn -- int, defines the number of dictionaries we want to keep while pruning\n",
    "    '''\n",
    "    print('Number of unique symbols in cipher:', len(ext_order))\n",
    "    # mapping relationships already found with score\n",
    "    Hs = [(defaultdict(dict), 0)]\n",
    "    # hypothesis mapping relationships with score\n",
    "    Ht = []\n",
    "    # initialize the cardinality (number of unique cipher text)\n",
    "    cardinality = 0\n",
    "    # list of plaintext characters\n",
    "    Ve = [chr(i) for i in range(97, 123, 1)]\n",
    "    \n",
    "    N_JOBS = 4\n",
    "    p = Parallel(n_jobs=N_JOBS, verbose=2, )\n",
    "    \n",
    "    while cardinality < len(ext_order):\n",
    "    #while cardinality < 2:\n",
    "        f = ext_order[cardinality]\n",
    "        print('Working on symbol: ', f, f'({cardinality+1})')\n",
    "        jobs = list(grouper(math.ceil(len(Hs) / N_JOBS), Hs))\n",
    "\n",
    "        print(f\"Num of jobs {len(jobs)} w {len(jobs[0])}\")\n",
    "        Hts = p(delayed(work)(job, Ve, f, cipher, topn) for job in jobs)\n",
    "        Ht = [e for l in Hts for e in l]\n",
    "        \n",
    "        # prune the histogram\n",
    "        Ht = sorted(Ht, key=lambda x:x[1], reverse=True)[:topn]                    \n",
    "        cardinality += 1\n",
    "        Hs = copy.deepcopy(Ht)\n",
    "        Ht.clear()\n",
    "        print('Current score: ', Hs[0][1])\n",
    "        #print('Hs', Hs)\n",
    "    return sorted(Hs, key=lambda x:x[1], reverse=True)"
   ]
  },
  {
   "cell_type": "code",
   "execution_count": null,
   "metadata": {},
   "outputs": [],
   "source": [
    "%%time\n",
    "mappings = beam_search_mp(cipher_desc['content'], ext_order[0][0], 7, 10000)"
   ]
  },
  {
   "cell_type": "code",
   "execution_count": null,
   "metadata": {},
   "outputs": [],
   "source": [
    "mapping = mappings[0][0]\n",
    "decipher_text = ''\n",
    "for char in cipher_desc['content']:\n",
    "    decipher_text += mapping[char]\n",
    "print(decipher_text)\n",
    "print('score', lm.score_seq(decipher_text))\n",
    "print(len(decipher_text))\n",
    "\n",
    "print(symbol_error_rate(decipher_text, 'data/_ref_Zodiac_408.txt'))"
   ]
  },
  {
   "cell_type": "markdown",
   "metadata": {},
   "source": [
    "## Gold"
   ]
  },
  {
   "cell_type": "code",
   "execution_count": 13,
   "metadata": {},
   "outputs": [
    {
     "name": "stdout",
     "output_type": "stream",
     "text": [
      "ilikekillingpeoplebecauseitissomuchfunitismorefunthankillingwildgameintheforrestbecausemanisthemostdangeroueanamalofalltokillsomethinggivesmethemostthrillingexperenceitisevenbetterthangettingyourrocksoffwithagirlthebestpartofitisthaewhenidieiwillbereborninparadicesndalltheihavekilledwillbecomemyslavesiwillnotgiveyoumynamebecauseyouwilltrytosloidownorstopmycollectiogofslavesformyafterlifeebeorietemethhpiti\n",
      "score -359.0030393831197\n",
      "408\n"
     ]
    }
   ],
   "source": [
    "with open('data/_ref_Zodiac_408.txt', 'r') as fh:\n",
    "    ground_truth = fh.read()\n",
    "print(ground_truth)\n",
    "print('score', lm.score_seq(ground_truth))\n",
    "print(len(ground_truth))"
   ]
  },
  {
   "cell_type": "code",
   "execution_count": 14,
   "metadata": {
    "scrolled": true
   },
   "outputs": [
    {
     "name": "stdout",
     "output_type": "stream",
     "text": [
      "{'º': 'i', '∫': 'l', 'P': 'i', '/': 'k', 'Z': 'e', 'u': 'i', 'B': 'l', 'À': 'i', 'O': 'n', 'R': 'g', '•': 'p', '–': 'e', 'X': 'o', 'W': 'e', 'V': 'b', '+': 'e', '≈': 'c', 'G': 'a', 'y': 'u', 'F': 's', '∞': 'e', 'H': 't', 'π': 's', 'K': 's', 'Ç': 'o', '—': 'm', 'M': 'h', 'J': 'f', '^': 'n', 'I': 't', 'Ω': 's', 'T': 'o', '‘': 'r', 'N': 'e', 'Q': 'f', 'D': 'n', 'µ': 't', '£': 'h', 'S': 'a', '¢': 'n', '∑': 'l', 'A': 'w', '∆': 'd', 'Ã': 'a', 'E': 'e', 'L': 't', 'ƒ': 'o', '“': 'r', '\\\\': 'r', 'æ': 'a', '§': 'd', '√': 'v', 'j': 'x', '∏': 'y'}\n"
     ]
    }
   ],
   "source": [
    "gold = read_gold('data/_ref_Zodiac_408.txt')\n",
    "gold_dict = dict()\n",
    "for index in range(len(cipher_desc['content'])):\n",
    "    cipher_char = cipher_desc['content'][index]\n",
    "    if cipher_char not in gold_dict.keys():\n",
    "        gold_dict[cipher_char] = gold[index]\n",
    "print(gold_dict)"
   ]
  },
  {
   "cell_type": "code",
   "execution_count": 68,
   "metadata": {},
   "outputs": [
    {
     "name": "stdout",
     "output_type": "stream",
     "text": [
      "Iteration 1, symbol —, score: -27.947701999999992\n",
      "_______________________________m__________m_______________________m____________________m_______m_______________m_______________m___________m____m___________________________________________________________________________________________________________________________________________________m_m______________________m___m__________________________________m______________________m___________________m________\n",
      "Iteration 2, symbol ∑, score: -41.34324120000001\n",
      "_______________________________m__________m____________l__________m____________________m_______m_______________m_____l_____l___m___________m____m_______l___________________________________________________________________________________________l_________________________________________l_____m_m__l___________________m___m______________l___________________m___ll_________________m___________________m________\n",
      "Iteration 3, symbol B, score: -55.25409240000002\n",
      "_______l________l______________m__________m____________ll_________m____________________m_______m_______________m_l___ll____ll__m___________m____m_______ll__________________________________________________________________________________________ll________________________________________ll____m_m__l_______l___________m___m______________l______l____________m___ll_________________m______l____________m________\n",
      "Iteration 4, symbol P, score: -65.89092420000003\n",
      "__i____l________l__________i___m__________m____________lli________m____________________m_______m_______________m_l___ll___ill__m___________m____m_______lli_________________________________________________i________________________________i______ll________i______________________________ill____m_m__l_______l___________m___m______________l______l____________m___ll___i_____________m______li___________m________\n",
      "Iteration 5, symbol º, score: -79.50212730000001\n",
      "i_i____l________l________i_i___m__________m___________illi________m____________________m__i____m_______________m_l___ll___ill__m___________m____m______illi_________________________________i_______________i______________________i_________i_____ill________i________________________i_____ill____m_m__l____i_il___________m___m____________i_l______l_i__________m___ll___i_____________m______li_______i___m________\n",
      "Iteration 6, symbol ∫, score: -92.02616899999997\n",
      "ili____ll_______l________i_i___m__________m___________illi____l___m____________________m__i____m_______________m_l___ll___ill__m___________m____m______illi_________________________________i_______________i______l_______________i_________i_____ill________i_____________ll_________ill___ill____m_m__l____i_ill__________m___m____________ill______l_i__________m___ll___i_____l_______m______li_______i___m________\n",
      "Iteration 7, symbol A, score: -102.23625073999996\n",
      "ili____ll_______l________i_i___m__________m___________illi__w_l___m____________________m__i____m_______________m_l___ll___ill__m___________m____m______illi_________________________________i______________wi______l_______________i_____w___i____will________i_____________ll_________ill__will____m_m__l____iwill__________m___m___________will______l_i__w_______m___ll___i_____l_______m______li_______i___m________\n",
      "Iteration 8, symbol /, score: -110.10872593999996\n",
      "ilik_k_ll_______l________i_i___m__________m__________killi__w_l___m____________________m__i____m_______________m_l___ll__kill__m___________m____m______illi_________________________________i_________k____wi______l_______________i_____w___i____will________i_____________ll________kill__will____m_m__l____iwill__________m___m___________will______l_i__w_______m___ll___i_____l_______m______li_______i___m________\n",
      "Iteration 9, symbol Z, score: -115.80061967999998\n",
      "ilikek_ll_______l________i_i___m__________m__________killi__w_l___m_____e______________m__i____m_______________m_l___ll__kill__m_________e_m____m______illi_______________e_________________i_________k____wi______l_______________i_____w_e_i____will________i_____________ll________kille_will____m_m__l____iwill__________m___m__e________will______l_i__w_______m___ll___i_____l__e____m______li_______i___m________\n",
      "Iteration 10, symbol ∆, score: -117.85747809999998\n",
      "ilikek_ll_______l________i_i___m__________m__________killi__w_ld__m_____e______________m__i____m_______________m_l___ll__kill__m_________e_m____m______illi_______________e_________________i_________k____wi______l_______________i_____w_e_i____will________i_____d_______ll________killedwill____m_m__l____iwill__________m___m__e________will______l_i__w_______m___ll___i_____l__e____m______li_______i___m________\n",
      "Iteration 11, symbol u, score: -125.84286761\n",
      "ilikekill_______l________i_i___m______i___m__________killi__wild__m_____e______________m__i____m_______________m_l___ll__kill__m___i_____e_m____m______illi___________i___e_________________i_________k____wi____i_l_______________i_____w_e_i_i__will________i_____di______ll________killedwill____m_m__l____iwill____i_____m___m__e________will______l_i__w_______m___ll___i_____l__e____m______li_______i___m_____i__\n",
      "Iteration 12, symbol O, score: -131.89823053999993\n",
      "ilikekill_n_____l________i_i___m______i___m__________killin_wild__m_____e______________m__i____m_____________n_m_l___ll__kill__m___i_____e_m____m______illi___________i___e__n______________i_________k____wi____i_l_______________i_____w_e_i_i__will_______ni_____di______ll________killedwill____m_m__l____iwilln___i_____m___m__e________will______l_i__w_______m___ll___in____l__e____m______li_______i___m_____i__\n",
      "Iteration 13, symbol R, score: -148.30802733999997\n",
      "ilikekill_ng____l________i_i___m______i___m__________killingwildg_m_____e______________m__i____m______g______n_m_l___ll__kill__m___i_gg__e_m____m______illi_g_________i___e__n__________g___i_g_______k____wi___gi_l_______________i_____w_e_i_i__will_______ni_____di______ll________killedwill____m_m__l____iwilln__gi_____m___m__e________will______l_i__w_______m___ll___ing___l__e____m______li_______i___m_____i__\n",
      "Iteration 14, symbol À, score: -157.76782241\n",
      "ilikekilling____l________i_i___m______i_i_m__________killingwildg_m_i___e______________m__i____m______g______n_m_l___ll__kill__m___i_ggi_e_m____m______illi_g_________i_i_e__n__________g___i_g_______k____wi___gi_l_____________i_i_____w_e_i_i_iwill_______ni_____di______ll___i____killedwill____m_m__l____iwilln__gi_____m___m__e________will______l_i__w_______m___ll___ing___l__e____m______li_______i___m_____i_i\n",
      "Iteration 15, symbol Ã, score: -161.25205151000003\n",
      "ilikekilling____l________i_i___m______i_i_m__________killingwildgam_i___e______________m__i____m______g_____an_m_l___ll__kill__m___i_ggi_e_m____m______illi_g_________i_i_e__n________a_g___i_g_______k____wi___gi_l_____________i_i___a_w_e_i_i_iwill_______ni____adi______ll___i____killedwill____m_m__l____iwilln__gi_____m___m__e________will______l_i__w_______m___ll___ing___l__e____m______li_______i___m_____i_i\n",
      "Iteration 16, symbol E, score: -168.42822499999997\n",
      "ilikekilling____l________i_i___m______i_i_m__________killingwildgamei___e______________m__i____m______g____ean_m_l___ll__kill__me__i_ggi_e_m____m______illi_g________ei_i_e__n________a_g___i_g_______k____wi___gi_l____e________i_i___a_w_e_i_i_iwill_______ni____adi______ll___i___ekilledwill____m_m__l____iwilln__gi_____m___m__e____e___will______l_i__w_______m___ll___ing___l__e____m______li____e__i___me____i_i\n",
      "Iteration 17, symbol V, score: -182.1360727\n",
      "ilikekilling____l_b______i_i___m______i_i_m__________killingwildgamei___e_______b______m__i____m______g____ean_m_l___ll__kill__me__i_ggi_e_m____m______illi_g________ei_i_e__nb_______a_g___i_g_______k____wi___gi_l___be________i_i___a_w_e_i_i_iwillb___b__ni____adi______ll___i___ekilledwillb___m_m__l____iwilln__gi_____m___m_be____e___will______l_i__w_______m___ll___ing___l__e____m______li___be__i___me____i_i\n",
      "Iteration 18, symbol –, score: -187.02685586299998\n",
      "ilikekilling_e__l_b______i_i___m______i_i_m__________killingwildgamei___e____e__b______m__i____m______g____ean_m_l___ll__kill__me__i_ggi_e_me___m______illi_g________ei_i_e_enb_______a_g___i_g_______k____wi___gi_l___be________i_i___a_w_e_i_ieiwillb___b__ni____adi______ll___i___ekilledwillbe__m_m__l____iwilln__gi_____m___m_be____e___will______l_i__w_______m___ll___ing___l__e____m______li___be__i___me____i_i\n",
      "Iteration 19, symbol √, score: -193.7430092729999\n",
      "ilikekilling_e__l_b______i_i___m______i_i_m__________killingwildgamei___e____e__b______m__i____m______g____ean_m_l___ll__kill__me__i_ggive_me___m______illi_g________ei_i_evenb_______a_g___i_g_______k____wi___gi_l___be________i_i___a_w_e_i_ieiwillb___b__ni____adi______ll___i__vekilledwillbe__m_m__l_v__iwilln__giv____m___m_be____e___will______l_i__w_______m___ll___ing___l_ve____m______li___be__i___me____i_i\n",
      "Iteration 20, symbol W, score: -199.6234240729999\n",
      "ilikekilling_e__leb______i_i___m______i_i_m__________killingwildgamei___e____e__be_____m__i____m______g____ean_m_l___ll__kill__me__i_ggive_me__em______illi_g________ei_i_evenbe______a_g___i_g_______k____wi___gi_l___be________i_i___a_w_e_i_ieiwillbe__b__ni____adi______ll___i__vekilledwillbe__mem__l_v__iwilln__giv____m___mebe____e___will______l_i__w_______m___ll___ing___l_ve____m______li_e_be__ie__me____i_i\n",
      "Iteration 21, symbol ^, score: -202.0441911529999\n",
      "ilikekilling_e__leb______i_i___m_____ni_i_m__________killingwildgamein__e____e__be_____m__i____m______g____ean_m_l___ll__kill__me__inggive_me__em______illi_g________ei_i_evenbe______ang___i_g_______k____wi___gi_l___be________i_i___a_w_e_i_ieiwillbe__b__nin___adi______ll___i__vekilledwillbe__mem__l_v__iwilln__giv____m_n_mebe____e___will______l_i__w_______m___ll___ing___l_ve____m______li_e_be__ie__me____i_i\n",
      "Iteration 22, symbol K, score: -207.87906705299994\n",
      "ilikekilling_e__leb______i_i_s_m_____ni_i_m__________killingwildgamein__e____e__be_____m__is___m______g____ean_m_l___ll__kill__me__inggivesme__em______illi_g________ei_i_evenbe______ang___i_g_______k____wi___gi_l___bes_______i_i___a_w_e_i_ieiwillbe__b__nin___adi______ll___i__vekilledwillbe__mem__l_v__iwilln__giv____m_n_mebe___se___will______l_i__w_______m___ll___ing___l_ve____m______li_e_be__ie__me____i_i\n",
      "Iteration 23, symbol I, score: -218.27628385299994\n",
      "ilikekilling_e__leb______i_i_s_m_____niti_m__________killingwildgamein__e____e__be_____m__ist__m______g__t_ean_m_l___ll__kill__me__inggivesmet_em______illi_g________ei_i_evenbet_____ang__ti_g_______k____wi___gi_l___bes____t__i_i___a_w_e_i_ieiwillbe__b__nin___adi______llt__i__vekilledwillbe__mem__l_v__iwilln__giv____m_n_mebe___se___will______l_i__w_______m___ll___ing___l_ve____m___t__li_e_be__iet_me____iti\n",
      "Iteration 24, symbol £, score: -228.16108795299996\n",
      "ilikekilling_e__leb______i_i_s_m_____niti_m_______h__killingwildgamein__e____e__be_____m__isth_m______g__t_ean_m_l___ll__kill__me__inggivesmethem______illi_g________ei_i_evenbet____hang__ti_g_______k____wi___gi_l_h_bes____t__i_i___a_whe_i_ieiwillbe__b__nin___adi______llt__ih_vekilledwillbe__mem__l_v__iwilln__giv____m_n_mebe___se___will______l_i__w_______m___ll___ing___l_ve____m___t__li_e_be__iet_me__h_iti\n",
      "Iteration 25, symbol ∞, score: -235.72099844299993\n",
      "ilikekilling_e__leb_____ei_i_s_m_____niti_m_______h__killingwildgamein__e____e__be_____m__isthem______g__t_ean_m_l___ll__kill__me__inggivesmethem______illi_g___e____ei_i_evenbet____hange_ti_g_______k____wi___gi_l_h_bes____t__i_i___a_whe_i_ieiwillbe__b__nin___adi_e____llt__ih_vekilledwillbe__mem__l_v__iwilln__giv____m_n_mebe___se___will______l_i__w_______m___lle__ing___l_ve____m___t__li_eebe__ieteme__h_iti\n",
      "Iteration 26, symbol H, score: -242.99981404299993\n",
      "ilikekilling_e__leb_____eiti_s_m_____niti_m_______h__killingwildgamein__e____e_tbe_____m__isthem______g__t_ean_m_l___ll__kill__met_inggivesmethem______illi_g___e____eiti_evenbet____hangetti_g_______k____wi___gi_l_h_best___t__i_i___a_whe_i_ieiwillbe__b__nin___adi_e____llt__ih_vekilledwillbe__mem__l_v__iwilln__giv____m_n_mebe___se___will___t__l_i__w_______m___lle__ing___l_ve____m___t__li_eebe__ietemet_h_iti\n",
      "Iteration 27, symbol M, score: -251.60342567299986\n",
      "ilikekilling_e__leb_____eiti_s_m__h__niti_m_______h__killingwildgamein_he____e_tbe_____m__isthem______g__t_ean_m_l___ll__kill__methinggivesmethem____h_illi_g___e____eiti_evenbet____hangetti_g_______k____wi_h_gi_l_h_best___t__i_i__ha_whe_i_ieiwillbe__b__nin___adi_e____llth_ih_vekilledwillbe__mem__l_v__iwilln__giv____m_n_mebe___se___will___t__l_i__w_______m___lle__ing___l_ve____m___t__li_eebe__ietemethh_iti\n",
      "Iteration 28, symbol •, score: -265.23144090299985\n",
      "ilikekillingpe_pleb_____eiti_s_m__h__niti_m_______h__killingwildgamein_he____e_tbe_____m__isthem______g__t_ean_m_l___ll__kill__methinggivesmethem____h_illi_g__pe____eiti_evenbet____hangetti_g_______k____wi_h_gi_l_h_bestp__t__i_i__ha_whe_i_ieiwillbe__b__ninp__adi_e____llth_ih_vekilledwillbe__mem__l_v__iwilln__giv____m_n_mebe___se___will___t__l_i__w______pm___lle__ing___l_ve____m___t__li_eebe__ietemethhpiti\n",
      "Iteration 29, symbol X, score: -271.65292072217983\n",
      "ilikekillingpeopleb_____eiti_s_m__h__niti_m_______h__killingwildgamein_he____e_tbe_____m__isthemo_____g__t_ean_m_l___ll__kill_omethinggivesmethem____h_illi_g__pe____eiti_evenbet____hangetti_g_______k_o__wi_h_gi_l_h_bestp__t__i_i__ha_whe_i_ieiwillbe__b__ninp__adi_e____llth_ih_vekilledwillbe_omem__l_v__iwilln__giv____m_n_mebe___se___will___t__loi_ow______pm___lle__ingo__l_ve____m___t__li_eebeo_ietemethhpiti\n",
      "Iteration 30, symbol ≈, score: -280.45862912217984\n",
      "ilikekillingpeopleb_c___eiti_s_m_ch__niti_m_______h__killingwildgamein_he____e_tbec____m__isthemo_____g__t_ean_m_l___ll__kill_omethinggivesmethem____h_illi_g__pe___ceiti_evenbet____hangetti_g______ck_o__wi_h_gi_l_h_bestp__t__i_i__ha_whe_i_ieiwillbe__b__ninp__adice____llth_ih_vekilledwillbecomem__l_v__iwilln__giv____m_n_mebec__se___will___t__loi_ow______pm_c_llec_ingo__l_ve____m___t__li_eebeo_ietemethhpiti\n",
      "Iteration 31, symbol π, score: -284.08221139117995\n",
      "ilikekillingpeopleb_c___eitiss_m_ch__niti_m_______h__killingwildgamein_he____e_tbec__s_m__isthemo_____g__t_ean_m_l___ll__killsomethinggivesmethem____h_illi_g__pe___ceiti_evenbet____hangetti_g______ckso__wi_h_gi_l_h_bestp__t__i_i__ha_whe_i_ieiwillbe__b__ninp__adice____llth_ih_vekilledwillbecomem__l_v_siwilln__giv____m_n_mebec__se___will___t__loi_ow______pm_c_llec_ingo__l_ves___m___t__li_eebeo_ietemethhpiti\n",
      "Iteration 32, symbol F, score: -290.02693559117995\n",
      "ilikekillingpeopleb_c__seitiss_m_ch__niti_m_______h__killingwildgamein_he____estbec__s_m__isthemo_____g__t_ean_m_l___ll__killsomethinggivesmethem____h_illi_g__pe___ceitisevenbet____hangetti_g______ckso__wi_h_gi_l_h_bestp__t__i_i__ha_whe_i_ieiwillbe__b__ninp__adice____llth_ih_vekilledwillbecomem_sl_v_siwilln__giv____m_n_mebec__se___will___t_sloi_ow______pm_c_llec_ingo_sl_ves___m___t__li_eebeo_ietemethhpiti\n",
      "Iteration 33, symbol “, score: -300.0433315411799\n",
      "ilikekillingpeopleb_c__seitiss_m_ch__niti_m_______h__killingwildgamein_he__r_estbec__s_m__isthemo_____g__t_ean_m_l___ll__killsomethinggivesmethem____hrilli_g__pe___ceitisevenbet____hangetti_g___r__ckso__wi_h_gi_l_h_bestp_rt__i_i__ha_whe_i_ieiwillbe__b__ninp_radice____llth_ih_vekilledwillbecomem_sl_v_siwilln__giv____m_n_mebec__se___will___t_sloi_ow______pm_c_llec_ingo_sl_ves___m___t_rli_eebeorietemethhpiti\n",
      "Iteration 34, symbol S, score: -299.2362339911799\n",
      "ilikekillingpeopleb_c__seitiss_m_ch__niti_m_______ha_killingwildgamein_he__r_estbec__s_m__isthemo___a_g__t_ean_m_l__all__killsomethinggivesmethem____hrilli_g__pe___ceitisevenbet____hangetti_g___r__ckso__wi_h_gi_l_h_bestp_rt__i_i__ha_whe_i_ieiwillbe__b__ninparadice____llth_ihavekilledwillbecomem_sl_v_siwilln__giv____m_namebec__se___will___t_sloi_ow______pm_c_llec_ingo_sl_ves___m___t_rli_eebeorietemethhpiti\n",
      "Iteration 35, symbol N, score: -305.30617088418\n",
      "ilikekillingpeopleb_c__seitiss_m_ch__niti_m__e____ha_killingwildgamein_he__r_estbec__s_m__isthemo___a_ge_t_ean_m_l__all__killsomethinggivesmethem____hrilli_g__pe_e_ceitisevenbet____hangetti_g___r__ckso__wi_h_gi_l_hebestp_rt__i_i__haewhe_i_ieiwillbe__b__ninparadice____lltheihavekilledwillbecomem_sl_v_siwilln__giv____m_namebec__se___will___t_sloi_ow______pm_c_llec_ingo_sl_ves___m___t_rli_eebeorietemethhpiti\n",
      "Iteration 36, symbol L, score: -311.95391127418\n",
      "ilikekillingpeopleb_c__seitiss_m_ch__niti_m__e____ha_killingwildgameinthe__r_estbec__s_m__isthemo___a_ge_t_ean_m_l__allt_killsomethinggivesmethem___thrilli_g__pe_e_ceitisevenbet___thangetti_g___r__ckso__wi_h_gi_lthebestp_rt__i_i_thaewhe_i_ieiwillbe__b__ninparadice____lltheihavekilledwillbecomem_sl_v_siwilln__giv____m_namebec__se___willt__t_sloi_ow____t_pm_c_llec_ingo_sl_ves___m___t_rli_eebeorietemethhpiti\n",
      "Iteration 37, symbol µ, score: -315.13163039417987\n",
      "ilikekillingpeopleb_c__seitiss_m_ch__niti_m__e___tha_killingwildgameinthe__r_estbec__s_m__isthemo_t_a_ge_t_ean_m_l__allt_killsomethinggivesmethem__tthrilli_g__pe_e_ceitisevenbett__thangetti_g___r__ckso__with_gi_lthebestp_rt__iti_thaewhe_i_ieiwillbe__b__ninparadice____lltheihavekilledwillbecomem_sl_v_siwilln_tgiv____m_namebec__se___willt__t_sloi_ow____t_pm_c_llectingo_sl_ves___m___t_rli_eebeorietemethhpiti\n",
      "Iteration 38, symbol æ, score: -321.80392299417997\n",
      "ilikekillingpeopleb_c__seitiss_m_ch__niti_m__e___tha_killingwildgameinthe__r_estbeca_s_m__isthemoat_a_ge_t_eanam_l__allt_killsomethinggivesmethem_atthrilli_g__pe_e_ceitisevenbett__thangetti_g___r__ckso__withagi_lthebestp_rt__itiathaewhe_i_ieiwillbe__b__ninparadice____lltheihavekilledwillbecomem_slav_siwilln_tgiv____m_namebec__se___willt__t_sloi_ow____t_pm_c_llectingo_sl_ves___m_a_t_rli_eebeorietemethhpiti\n",
      "Iteration 39, symbol +, score: -323.35834986418007\n",
      "ilikekillingpeoplebec__seitiss_m_ch__niti_m__e___tha_killingwildgameinthe__r_estbeca_sem__isthemoat_a_ge_t_eanam_l__allt_killsomethinggivesmethem_atthrilli_ge_pe_e_ceitisevenbette_thangetti_g___r__ckso__withagi_lthebestp_rt__itiathaewhe_i_ieiwillbe_eb__ninparadice____lltheihavekilledwillbecomem_slavesiwilln_tgive___m_namebec__se___willt__t_sloi_ow____t_pm_c_llectingo_sl_ves___m_a_terli_eebeorietemethhpiti\n",
      "Iteration 40, symbol G, score: -323.57449609418006\n",
      "ilikekillingpeoplebeca_seitiss_m_ch__niti_m__e___tha_killingwildgameinthe__r_estbeca_sema_isthemoat_a_ge_t_eanamal__allt_killsomethinggivesmethem_atthrilli_ge_pe_e_ceitisevenbette_thangetti_g___r__ckso__withagi_lthebestpart__itiathaewhe_i_ieiwillbe_eb__ninparadice___alltheihavekilledwillbecomem_slavesiwilln_tgive___m_namebeca_se___willt__t_sloi_ow____t_pm_c_llectingo_slaves___m_a_terli_eebeorietemethhpiti\n",
      "Iteration 41, symbol y, score: -326.8485448841799\n",
      "ilikekillingpeoplebecauseitiss_much_uniti_m__e_u_tha_killingwildgameinthe__r_estbecausema_isthemoat_a_ge_tueanamal__allt_killsomethinggivesmethem_atthrilli_ge_pe_e_ceitisevenbette_thangetti_g__ur__ckso__withagi_lthebestpart__itiathaewhe_i_ieiwillbe_eb__ninparadice___alltheihavekilledwillbecomem_slavesiwilln_tgive__um_namebecause__uwillt__t_sloi_ow____t_pm_c_llectingo_slaves___m_a_terli_eebeorietemethhpiti\n",
      "Iteration 42, symbol ‘, score: -330.56260226418\n",
      "ilikekillingpeoplebecauseitiss_much_uniti_m_re_u_tha_killingwildgameinthe__r_estbecausema_isthemoat_a_gertueanamal__allt_killsomethinggivesmethem_atthrilli_ge_pe_e_ceitisevenbetterthangetti_g__ur__ckso__withagirlthebestpart__itiathaewhe_i_ieiwillbe_eb_rninparadice___alltheihavekilledwillbecomem_slavesiwilln_tgive__um_namebecause__uwilltr_t_sloi_ow____t_pm_c_llectingo_slaves__rm_a_terli_eebeorietemethhpiti\n",
      "Iteration 43, symbol ∏, score: -344.0204115741797\n",
      "ilikekillingpeoplebecauseitiss_much_uniti_m_re_u_tha_killingwildgameinthe__r_estbecausema_isthemoat_a_gertueanamal__allt_killsomethinggivesmethem_atthrilli_ge_pe_e_ceitisevenbetterthangetti_gy_ur__ckso__withagirlthebestpart__itiathaewhe_i_ieiwillbe_eb_rninparadice___alltheihavekilledwillbecomemyslavesiwilln_tgivey_umynamebecausey_uwilltryt_sloi_ow____t_pmyc_llectingo_slaves__rmya_terli_eebeorietemethhpiti\n",
      "Iteration 44, symbol Ç, score: -344.6353693424797\n",
      "ilikekillingpeoplebecauseitissomuch_uniti_m_re_u_tha_killingwildgameinthe__r_estbecausema_isthemoat_a_gertueanamal__allt_killsomethinggivesmethemoatthrilli_ge_pe_e_ceitisevenbetterthangetti_gy_ur__ckso__withagirlthebestparto_itiathaewhe_i_ieiwillbe_eb_rninparadice___alltheihavekilledwillbecomemyslavesiwilln_tgivey_umynamebecausey_uwilltrytosloi_ow____topmyc_llectingo_slaves__rmya_terli_eebeorietemethhpiti\n",
      "Iteration 45, symbol J, score: -349.7376900749198\n",
      "ilikekillingpeoplebecauseitissomuchfuniti_m_re_u_tha_killingwildgameinthef_r_estbecausema_isthemoat_a_gertueanamal__allt_killsomethinggivesmethemoatthrilli_ge_pe_e_ceitisevenbetterthangetti_gy_ur__cksof_withagirlthebestpartofitiathaewhe_i_ieiwillbe_eb_rninparadice___alltheihavekilledwillbecomemyslavesiwilln_tgivey_umynamebecausey_uwilltrytosloi_ow____topmyc_llectingo_slavesf_rmyafterli_eebeorietemethhpiti\n",
      "Iteration 46, symbol T, score: -343.89244714591985\n",
      "ilikekillingpeoplebecauseitissomuchfuniti_more_u_tha_killingwildgameinthef_r_estbecausema_isthemoat_a_gertueanamalo_allt_killsomethinggivesmethemoatthrilli_ge_pe_e_ceitisevenbetterthangetti_gyour__cksof_withagirlthebestpartofitiathaewhe_i_ieiwillbe_eborninparadice___alltheihavekilledwillbecomemyslavesiwillnotgivey_umynamebecauseyouwilltrytosloi_ow____topmyc_llectingo_slavesformyafterli_eebeorietemethhpiti\n",
      "Iteration 47, symbol Q, score: -345.5874057463199\n",
      "ilikekillingpeoplebecauseitissomuchfuniti_morefu_tha_killingwildgameinthef_r_estbecausema_isthemoat_a_gertueanamalofallt_killsomethinggivesmethemoatthrilli_ge_pe_e_ceitisevenbetterthangetti_gyour__cksoffwithagirlthebestpartofitiathaewhe_i_ieiwillbe_eborninparadice___alltheihavekilledwillbecomemyslavesiwillnotgivey_umynamebecauseyouwilltrytosloi_ow____topmyc_llectingofslavesformyafterlifeebeorietemethhpiti\n",
      "Iteration 48, symbol ƒ, score: -343.0778311701198\n",
      "ilikekillingpeoplebecauseitissomuchfuniti_morefu_tha_killingwildgameinthefor_estbecausema_isthemoat_a_gertueanamalofalltokillsomethinggivesmethemoatthrilli_ge_pe_e_ceitisevenbetterthangetti_gyour_ocksoffwithagirlthebestpartofitiathaewhe_i_ieiwillbe_eborninparadice___alltheihavekilledwillbecomemyslavesiwillnotgiveyoumynamebecauseyouwilltrytosloi_ow_o__topmycollectingofslavesformyafterlifeebeorietemethhpiti\n",
      "Iteration 49, symbol D, score: -344.3406750801197\n",
      "ilikekillingpeoplebecauseitissomuchfuniti_morefuntha_killingwildgameinthefor_estbecausemanisthemoat_a_gertueanamalofalltokillsomethinggivesmethemoatthrillinge_pe_e_ceitisevenbetterthangettingyour_ocksoffwithagirlthebestpartofitiathaewhe_i_ieiwillbe_eborninparadice_n_alltheihavekilledwillbecomemyslavesiwillnotgiveyoumynamebecauseyouwilltrytosloi_owno__topmycollectingofslavesformyafterlifeebeorietemethhpiti\n"
     ]
    },
    {
     "name": "stdout",
     "output_type": "stream",
     "text": [
      "Iteration 50, symbol \\, score: -348.70242448012\n",
      "ilikekillingpeoplebecauseitissomuchfuniti_morefuntha_killingwildgameintheforrestbecausemanisthemoat_a_gertueanamalofalltokillsomethinggivesmethemoatthrillinge_pere_ceitisevenbetterthangettingyourrocksoffwithagirlthebestpartofitiathaewhe_i_ieiwillbereborninparadice_n_alltheihavekilledwillbecomemyslavesiwillnotgiveyoumynamebecauseyouwilltrytosloi_ownor_topmycollectingofslavesformyafterlifeebeorietemethhpiti\n",
      "Iteration 51, symbol ¢, score: -349.3454667401199\n",
      "ilikekillingpeoplebecauseitissomuchfuniti_morefunthankillingwildgameintheforrestbecausemanisthemoat_angertueanamalofalltokillsomethinggivesmethemoatthrillinge_perenceitisevenbetterthangettingyourrocksoffwithagirlthebestpartofitiathaewheni_ieiwillbereborninparadice_n_alltheihavekilledwillbecomemyslavesiwillnotgiveyoumynamebecauseyouwilltrytosloi_ownor_topmycollectingofslavesformyafterlifeebeorietemethhpiti\n",
      "Iteration 52, symbol §, score: -355.7758263201198\n",
      "ilikekillingpeoplebecauseitissomuchfuniti_morefunthankillingwildgameintheforrestbecausemanisthemoatdangertueanamalofalltokillsomethinggivesmethemoatthrillinge_perenceitisevenbetterthangettingyourrocksoffwithagirlthebestpartofitiathaewhenidieiwillbereborninparadice_ndalltheihavekilledwillbecomemyslavesiwillnotgiveyoumynamebecauseyouwilltrytosloidownor_topmycollectingofslavesformyafterlifeebeorietemethhpiti\n",
      "Iteration 53, symbol Ω, score: -361.3223825331199\n",
      "ilikekillingpeoplebecauseitissomuchfunitismorefunthankillingwildgameintheforrestbecausemanisthemoatdangertueanamalofalltokillsomethinggivesmethemoatthrillinge_perenceitisevenbetterthangettingyourrocksoffwithagirlthebestpartofitiathaewhenidieiwillbereborninparadicesndalltheihavekilledwillbecomemyslavesiwillnotgiveyoumynamebecauseyouwilltrytosloidownorstopmycollectingofslavesformyafterlifeebeorietemethhpiti\n",
      "Iteration 54, symbol j, score: -363.1344102331199\n",
      "ilikekillingpeoplebecauseitissomuchfunitismorefunthankillingwildgameintheforrestbecausemanisthemoatdangertueanamalofalltokillsomethinggivesmethemoatthrillingexperenceitisevenbetterthangettingyourrocksoffwithagirlthebestpartofitiathaewhenidieiwillbereborninparadicesndalltheihavekilledwillbecomemyslavesiwillnotgiveyoumynamebecauseyouwilltrytosloidownorstopmycollectingofslavesformyafterlifeebeorietemethhpiti\n"
     ]
    }
   ],
   "source": [
    "for index in range(1, len(ext_order)+1, 1):\n",
    "    found_symbols = ext_order[:index]\n",
    "    phi_temp = dict()\n",
    "    for key,value in gold_dict.items():\n",
    "        if key in found_symbols:\n",
    "            phi_temp[key] = value\n",
    "    partial_text = ''\n",
    "    bit_string = ''\n",
    "    for cipher_char in cipher_desc['content']:\n",
    "        if cipher_char in phi_temp.keys():\n",
    "            partial_text += phi_temp[cipher_char]\n",
    "            bit_string += 'o'\n",
    "        else:\n",
    "            partial_text += '_'\n",
    "            bit_string += '.'\n",
    "    print(f'Iteration {index}, symbol {ext_order[index-1]}, score: {lm.score_bitstring(partial_text, bit_string)}')\n",
    "    print(partial_text)"
   ]
  },
  {
   "cell_type": "code",
   "execution_count": 72,
   "metadata": {},
   "outputs": [
    {
     "name": "stdout",
     "output_type": "stream",
     "text": [
      "º i; Cipher char frequence: 3.431372549019608; plaintext char frequency: 7.395771339569833\n",
      "∫ l; Cipher char frequence: 2.696078431372549; plaintext char frequency: 4.12837076781324\n",
      "P i; Cipher char frequence: 2.696078431372549; plaintext char frequency: 7.395771339569833\n",
      "/ k; Cipher char frequence: 1.4705882352941175; plaintext char frequency: 0.6846719094465245\n",
      "Z e; Cipher char frequence: 1.9607843137254901; plaintext char frequency: 12.140870772361387\n",
      "u i; Cipher char frequence: 2.450980392156863; plaintext char frequency: 7.395771339569833\n",
      "B l; Cipher char frequence: 2.941176470588235; plaintext char frequency: 4.12837076781324\n",
      "À i; Cipher char frequence: 2.2058823529411766; plaintext char frequency: 7.395771339569833\n",
      "O n; Cipher char frequence: 1.715686274509804; plaintext char frequency: 7.342333650329038\n",
      "R g; Cipher char frequence: 2.941176470588235; plaintext char frequency: 2.0428939941058446\n",
      "• p; Cipher char frequence: 1.715686274509804; plaintext char frequency: 2.0233066431925706\n",
      "– e; Cipher char frequence: 1.4705882352941175; plaintext char frequency: 12.140870772361387\n",
      "X o; Cipher char frequence: 2.2058823529411766; plaintext char frequency: 7.219970316976703\n",
      "W e; Cipher char frequence: 2.2058823529411766; plaintext char frequency: 12.140870772361387\n",
      "V b; Cipher char frequence: 2.2058823529411766; plaintext char frequency: 1.5775397729346958\n",
      "+ e; Cipher char frequence: 1.9607843137254901; plaintext char frequency: 12.140870772361387\n",
      "≈ c; Cipher char frequence: 2.450980392156863; plaintext char frequency: 3.296629993243273\n",
      "G a; Cipher char frequence: 1.715686274509804; plaintext char frequency: 8.69449153965917\n",
      "y u; Cipher char frequence: 2.450980392156863; plaintext char frequency: 2.6139471398647225\n",
      "F s; Cipher char frequence: 1.4705882352941175; plaintext char frequency: 6.608347704465564\n",
      "∞ e; Cipher char frequence: 1.9607843137254901; plaintext char frequency: 12.140870772361387\n",
      "H t; Cipher char frequence: 1.9607843137254901; plaintext char frequency: 8.799329348510154\n",
      "π s; Cipher char frequence: 1.4705882352941175; plaintext char frequency: 6.608347704465564\n",
      "K s; Cipher char frequence: 1.2254901960784315; plaintext char frequency: 6.608347704465564\n",
      "Ç o; Cipher char frequence: 1.2254901960784315; plaintext char frequency: 7.219970316976703\n",
      "— m; Cipher char frequence: 3.9215686274509802; plaintext char frequency: 2.5998296931383753\n",
      "M h; Cipher char frequence: 1.9607843137254901; plaintext char frequency: 4.905679325108425\n",
      "J f; Cipher char frequence: 1.4705882352941175; plaintext char frequency: 2.2396407473659865\n",
      "^ n; Cipher char frequence: 1.4705882352941175; plaintext char frequency: 7.342333650329038\n",
      "I t; Cipher char frequence: 2.696078431372549; plaintext char frequency: 8.799329348510154\n",
      "Ω s; Cipher char frequence: 0.7352941176470588; plaintext char frequency: 6.608347704465564\n",
      "T o; Cipher char frequence: 1.715686274509804; plaintext char frequency: 7.219970316976703\n",
      "‘ r; Cipher char frequence: 1.715686274509804; plaintext char frequency: 6.642234427965062\n",
      "N e; Cipher char frequence: 1.4705882352941175; plaintext char frequency: 12.140870772361387\n",
      "Q f; Cipher char frequence: 1.2254901960784315; plaintext char frequency: 2.2396407473659865\n",
      "D n; Cipher char frequence: 1.4705882352941175; plaintext char frequency: 7.342333650329038\n",
      "µ t; Cipher char frequence: 1.9607843137254901; plaintext char frequency: 8.799329348510154\n",
      "£ h; Cipher char frequence: 1.9607843137254901; plaintext char frequency: 4.905679325108425\n",
      "S a; Cipher char frequence: 1.4705882352941175; plaintext char frequency: 8.69449153965917\n",
      "¢ n; Cipher char frequence: 0.9803921568627451; plaintext char frequency: 7.342333650329038\n",
      "∑ l; Cipher char frequence: 2.450980392156863; plaintext char frequency: 4.12837076781324\n",
      "A w; Cipher char frequence: 1.9607843137254901; plaintext char frequency: 1.7312671245295852\n",
      "∆ d; Cipher char frequence: 0.7352941176470588; plaintext char frequency: 4.111572946751393\n",
      "Ã a; Cipher char frequence: 1.2254901960784315; plaintext char frequency: 8.69449153965917\n",
      "E e; Cipher char frequence: 2.2058823529411766; plaintext char frequency: 12.140870772361387\n",
      "L t; Cipher char frequence: 1.9607843137254901; plaintext char frequency: 8.799329348510154\n",
      "ƒ o; Cipher char frequence: 1.4705882352941175; plaintext char frequency: 7.219970316976703\n",
      "“ r; Cipher char frequence: 1.715686274509804; plaintext char frequency: 6.642234427965062\n",
      "\\ r; Cipher char frequence: 1.2254901960784315; plaintext char frequency: 6.642234427965062\n",
      "æ a; Cipher char frequence: 1.9607843137254901; plaintext char frequency: 8.69449153965917\n",
      "§ d; Cipher char frequence: 0.9803921568627451; plaintext char frequency: 4.111572946751393\n",
      "√ v; Cipher char frequence: 1.4705882352941175; plaintext char frequency: 1.0442301789046777\n",
      "j x; Cipher char frequence: 0.24509803921568626; plaintext char frequency: 0.19158005883967444\n",
      "∏ y; Cipher char frequence: 1.9607843137254901; plaintext char frequency: 1.5362668595242495\n"
     ]
    }
   ],
   "source": [
    "for key,value in gold_dict.items():\n",
    "    freq_cipher = cipher_desc['relative_freq'][key]\n",
    "    freq_plain = plaintxt_desc['relative_freq'][value]\n",
    "    print(f'{key} {value}; Cipher char frequence: {freq_cipher}; plaintext char frequency: {freq_plain}')"
   ]
  },
  {
   "cell_type": "code",
   "execution_count": null,
   "metadata": {},
   "outputs": [],
   "source": [
    "Ve = [chr(i) for i in range(97, 123, 1)]\n",
    "for e in Ve:\n",
    "    keys = [k for k, v in gold_dict.items() if v == e]\n",
    "    freq_cipher = 0\n",
    "    for key in keys:\n",
    "        freq_cipher += cipher_desc['relative_freq'][key]\n",
    "    freq_plain = plaintxt_desc['relative_freq'][e]\n",
    "    print(f'{e}: {keys}, {len(keys)}, plain freq {freq_plain}, cipher freq {freq_cipher}')"
   ]
  },
  {
   "cell_type": "code",
   "execution_count": 20,
   "metadata": {},
   "outputs": [],
   "source": [
    "counts_dict = {'a':4, 'b':2, 'c':2, 'd':2, 'e':8, 'f':2, 'g':2,\\\n",
    "          'h':2, 'i':4, 'j':0, 'k':2, 'l':3, 'm':2, 'n':4,\\\n",
    "          'o':4, 'p':2, 'q':0, 'r':3, 's':4, 't':4, 'u':2,\\\n",
    "          'v':2, 'w':2, 'x':1, 'y':1, 'z':0}"
   ]
  },
  {
   "cell_type": "markdown",
   "metadata": {},
   "source": [
    "Notice that the default solution provides a very bad decipherment. Your job is to make it better!"
   ]
  },
  {
   "cell_type": "markdown",
   "metadata": {
    "heading_collapsed": true
   },
   "source": [
    "## Grading"
   ]
  },
  {
   "cell_type": "markdown",
   "metadata": {
    "hidden": true
   },
   "source": [
    "Ignore the following cells. They are for grading against the reference decipherment. Based on the clues provided in the decipherment homework description, you can easily find a reasonable reference text online for this cipher text."
   ]
  },
  {
   "cell_type": "code",
   "execution_count": null,
   "metadata": {
    "hidden": true
   },
   "outputs": [],
   "source": [
    "\"\"\"\n",
    "ATTENTION!\n",
    "For grading purposes only. Don't bundle with the assignment. \n",
    "Make sure '_ref.txt' is removed from the 'data' directory before publishing.\n",
    "\"\"\"\n",
    "\n",
    "def read_gold(gold_file):\n",
    "    with open(gold_file) as f:\n",
    "        gold = f.read()\n",
    "    f.close()\n",
    "    gold = list(gold.strip())\n",
    "    return gold\n",
    "\n",
    "def symbol_error_rate(dec, _gold):\n",
    "    gold = read_gold(_gold)\n",
    "    correct = 0\n",
    "    if len(gold) == len(dec):\n",
    "        for (d,g) in zip(dec, gold):\n",
    "            if d==g:\n",
    "                correct += 1\n",
    "    wrong = len(gold)-correct\n",
    "    error = wrong/len(gold)\n",
    "    \n",
    "    return error"
   ]
  },
  {
   "cell_type": "code",
   "execution_count": null,
   "metadata": {
    "hidden": true
   },
   "outputs": [],
   "source": [
    "# gold decipherment\n",
    "gold_file = \"data/_ref.txt\"\n",
    "ser = symbol_error_rate(decipherment, gold_file)\n",
    "print('Error: ', ser*100, 'Accuracy: ', (1-ser)*100)"
   ]
  },
  {
   "cell_type": "code",
   "execution_count": null,
   "metadata": {
    "hidden": true
   },
   "outputs": [],
   "source": []
  }
 ],
 "metadata": {
  "kernelspec": {
   "display_name": "Python 3",
   "language": "python",
   "name": "python3"
  },
  "language_info": {
   "codemirror_mode": {
    "name": "ipython",
    "version": 3
   },
   "file_extension": ".py",
   "mimetype": "text/x-python",
   "name": "python",
   "nbconvert_exporter": "python",
   "pygments_lexer": "ipython3",
   "version": "3.6.5"
  }
 },
 "nbformat": 4,
 "nbformat_minor": 2
}
