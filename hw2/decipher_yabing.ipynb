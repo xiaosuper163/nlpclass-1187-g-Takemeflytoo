{
 "cells": [
  {
   "cell_type": "markdown",
   "metadata": {},
   "source": [
    "# Homework: Decipherment"
   ]
  },
  {
   "cell_type": "code",
   "execution_count": 1,
   "metadata": {},
   "outputs": [],
   "source": [
    "%load_ext autoreload\n",
    "%autoreload 2\n",
    "from collections import defaultdict, Counter\n",
    "import collections\n",
    "import pprint\n",
    "import math\n",
    "import bz2\n",
    "from ngram import *\n",
    "import sys, string\n",
    "import copy\n",
    "import pickle\n",
    "from joblib import Parallel, delayed\n",
    "import itertools\n",
    "pp = pprint.PrettyPrinter(width=45, compact=True)"
   ]
  },
  {
   "cell_type": "markdown",
   "metadata": {},
   "source": [
    "First let us read in the cipher text from the `data` directory:"
   ]
  },
  {
   "cell_type": "code",
   "execution_count": 2,
   "metadata": {},
   "outputs": [
    {
     "name": "stdout",
     "output_type": "stream",
     "text": [
      "º∫P/Z/uB∫ÀOR•–X•B\n",
      "WV+≈GyF∞ºHPπKÇ—y≈\n",
      "MJy^uIÀΩ—T‘NQyDµ£\n",
      "S¢/º∑BPORAu∫∆RÃ—E\n",
      "À^LMZJƒ“\\–FHVW≈æy\n",
      "π+—GDºKI£∞—Xæµ§S¢\n",
      "RN‘IyEÃOæ—GBTQS∑B\n",
      "Lƒ/P∑BπX—EHMu^RRÀ\n",
      "√ZK—–I£W—ÇæµLM“º∑\n",
      "BPDR+j•∞\\N¢≈EuHÀF\n",
      "Z√–OVWIµ+‘L£Ã^R∞H\n",
      "IºDR∏Ty“\\ƒ≈/πXJQA\n",
      "PµMæRu‘∫L£NVEKH•G\n",
      "“IÇJÀµºæLMÃNA£Z¢P\n",
      "§u–ÀAº∑BVW\\+VT‘OP\n",
      "^•S“Ã∆u≈∞ΩD§G∫∫IM\n",
      "NÀ£S√E/º∫∫Z∆AP∑BV\n",
      "–≈X—W—∏F∑æ√+πºAºB\n",
      "∫OTµRu√+∏ƒy—∏^S—W\n",
      "VZ≈GyKE∏TyAº∫∑L‘∏\n",
      "HÇFBXº§XADƒ\\ΩLÇ•—\n",
      "∏≈ƒ∑∑∞≈µPORXQF∫G√\n",
      "ZπJT‘—∏æJI+“BPQW∞\n",
      "VEX“ºWI∞—EHM£•uIÀ\n"
     ]
    }
   ],
   "source": [
    "def read_file(filename):\n",
    "    if filename[-4:] == \".bz2\":\n",
    "        with bz2.open(filename, 'rt', encoding='utf8') as f:\n",
    "            content = f.read()\n",
    "            f.close()\n",
    "    else:\n",
    "        with open(filename, 'r', encoding='utf8') as f:\n",
    "            content = f.read()\n",
    "            f.close()\n",
    "    return content\n",
    "\n",
    "cipher = read_file(\"data/cipher.txt\")\n",
    "print(cipher)"
   ]
  },
  {
   "cell_type": "markdown",
   "metadata": {},
   "source": [
    "For the default solution we need to compute statistics like length, number of symbols/letters, \n",
    "unique occurences, frequencies and relative frequencies of a given file. This is done in the function `get_statistics` below.\n",
    "\n",
    "While using `get_statistics`, make sure that `cipher=True` is set when the input is a ciphertext."
   ]
  },
  {
   "cell_type": "code",
   "execution_count": 3,
   "metadata": {},
   "outputs": [],
   "source": [
    "def get_statistics(content, cipher=True):\n",
    "    stats = {}\n",
    "    content = list(content)\n",
    "    split_content = [x for x in content if x != '\\n' and x!=' ']\n",
    "    length = len(split_content)\n",
    "    symbols = set(split_content)\n",
    "    uniq_sym = len(list(symbols))\n",
    "    freq = collections.Counter(split_content)\n",
    "    rel_freq = {}\n",
    "    for sym, frequency in freq.items():\n",
    "        rel_freq[sym] = (frequency/length)*100\n",
    "        \n",
    "    if cipher:\n",
    "        stats = {'content':split_content, 'length':length, 'vocab':list(symbols), 'vocab_length':uniq_sym, 'frequencies':freq, 'relative_freq':rel_freq}\n",
    "    else:\n",
    "        stats = {'length':length, 'vocab':list(symbols), 'vocab_length':uniq_sym, 'frequencies':freq, 'relative_freq':rel_freq}\n",
    "    return stats"
   ]
  },
  {
   "cell_type": "code",
   "execution_count": 4,
   "metadata": {},
   "outputs": [],
   "source": [
    "def read_gold(gold_file):\n",
    "    with open(gold_file) as f:\n",
    "        gold = f.read()\n",
    "    f.close()\n",
    "    gold = list(gold.strip())\n",
    "    return gold\n",
    "\n",
    "def symbol_error_rate(dec, _gold):\n",
    "    gold = read_gold(_gold)\n",
    "    correct = 0\n",
    "    if len(gold) == len(dec):\n",
    "        for (d,g) in zip(dec, gold):\n",
    "            if d==g:\n",
    "                correct += 1\n",
    "    wrong = len(gold)-correct\n",
    "    error = wrong/len(gold)\n",
    "    \n",
    "    return error"
   ]
  },
  {
   "cell_type": "code",
   "execution_count": 5,
   "metadata": {
    "scrolled": true
   },
   "outputs": [],
   "source": [
    "cipher_desc = get_statistics(cipher, cipher=True)\n",
    "plaintxt = read_file(\"data/default.wiki.txt.bz2\")\n",
    "plaintxt_desc = get_statistics(plaintxt, cipher=False)\n",
    "#pp.pprint(cipher_desc)"
   ]
  },
  {
   "cell_type": "markdown",
   "metadata": {},
   "source": [
    "## Load the 6-gram model"
   ]
  },
  {
   "cell_type": "code",
   "execution_count": 6,
   "metadata": {},
   "outputs": [
    {
     "name": "stderr",
     "output_type": "stream",
     "text": [
      "Reading language model from data/6-gram-wiki-char.lm.bz2...\n"
     ]
    },
    {
     "name": "stdout",
     "output_type": "stream",
     "text": [
      "Wall time: 15.2 s\n"
     ]
    },
    {
     "name": "stderr",
     "output_type": "stream",
     "text": [
      "Done.\n"
     ]
    }
   ],
   "source": [
    "%%time\n",
    "sequence = 'In a few cases, a multilingual artifact has been necessary to facilitate decipherment, the Rosetta Stone being the classic example. Statistical techniques provide another pathway to decipherment, as does the analysis of modern languages derived from ancient languages in which undeciphered texts are written. Archaeological and historical information is helpful in verifying hypothesized decipherments.'\n",
    "\n",
    "# lm = LM(\"data/6-gram-wiki-char.lm.bz2\", n=6, verbose=True)\n",
    "lm = LM(\"data/6-gram-wiki-char.lm.bz2\", n=6, verbose=False)"
   ]
  },
  {
   "cell_type": "code",
   "execution_count": 7,
   "metadata": {},
   "outputs": [],
   "source": [
    "# print(sequence)\n",
    "# lm_logprob = lm.score_seq(sequence)\n",
    "# print(\"TOTAL LM LOGPROB: {}\".format(lm_logprob), file=sys.stderr)\n",
    "# print(\"TOTAL LM LOGPROB: {}\".format(lm.score_seq('this is the text.')), file=sys.stderr)\n",
    "# print(lm.get_bitstring_spans('..oo...ooo..'))\n",
    "# print(lm.score_bitstring('thisisatest', 'ooooooooooo'))"
   ]
  },
  {
   "cell_type": "markdown",
   "metadata": {},
   "source": [
    "## Implementation for Reference 3 to find the optimal extension order"
   ]
  },
  {
   "cell_type": "markdown",
   "metadata": {},
   "source": [
    "This is the implementation of the reference 'Beam Search for Solving Substitution Ciphers'. The goal is to find the best extension order. As the paper mentioned, it is important to find a set of weights for the ngram order. I chose the weights \\[1,1,1,1,2,3\\] suggested by Anoop in a discussion post. I also tried several sets of weights. For beamsize of 10000, the result was not influenced quite much."
   ]
  },
  {
   "cell_type": "code",
   "execution_count": 8,
   "metadata": {},
   "outputs": [],
   "source": [
    "def find_sharp_n(cipher_desc, symbols_found, n_order):\n",
    "    '''\n",
    "    finds the #n for order n_order\n",
    "    cipher_desc -- cipher statistics\n",
    "    symbols_found -- list of single character string,\n",
    "                     specifies the list of symbols have been placed in the extention order\n",
    "    n_order -- int, specifies the order of n-gram\n",
    "    '''\n",
    "    sharp_n = 0\n",
    "    for i in range(len(cipher_desc['content'])-n_order+1):\n",
    "        for j in range(i, i+n_order, 1):\n",
    "            if cipher_desc['content'][j] not in symbols_found:\n",
    "                break\n",
    "            if j == (i+n_order-1):\n",
    "                sharp_n += 1\n",
    "                #print(cipher_desc['content'][i:i+n_order])\n",
    "    return sharp_n            "
   ]
  },
  {
   "cell_type": "markdown",
   "metadata": {},
   "source": [
    "This is used to test the find_sharp_n function above. The results should be correct."
   ]
  },
  {
   "cell_type": "code",
   "execution_count": 9,
   "metadata": {},
   "outputs": [],
   "source": [
    "# test_str = 'ASCREAMINGCOMESACROSSTHESKY'\n",
    "# print(find_sharp_n(get_statistics(test_str), ['A','G','H','K','Y'],6))\n",
    "# find_sharp_n(get_statistics(test_str), ['S','C','E','M','O'],2)"
   ]
  },
  {
   "cell_type": "markdown",
   "metadata": {},
   "source": [
    "Use a beam search to find the optimal extension order. The code below is pretty similar to the beam_search function. Most of the code is copied from it. For simplicity, the variable name might not quite make sense."
   ]
  },
  {
   "cell_type": "code",
   "execution_count": 10,
   "metadata": {},
   "outputs": [],
   "source": [
    "def find_ext_order(cipher_desc, topn=100, weights=[1,1,1,1,2,3]):\n",
    "    '''\n",
    "    finds the best order of deciphering cipher symbols (find best extention order)\n",
    "    cipher_desc -- cipher statistics\n",
    "    topn -- int, number of best trees we want to keep during iteration\n",
    "    weights -- list of int, weight for #n, n varies from 1 to 6\n",
    "    '''\n",
    "    # symbols_found = list()\n",
    "    # symbols_found.append(sorted(cipher_desc['frequencies'], key=cipher_desc['frequencies'].get, reverse=True)[0])\n",
    "    # symbols already found with score\n",
    "    Hs = [([], 0)]\n",
    "    # hypothesis extended symbols with score\n",
    "    Ht = []\n",
    "    # initialize the cardinality (number of unique cipher text)\n",
    "    cardinality = 0\n",
    "    if weights[0] == 0:\n",
    "        cardinality += 1\n",
    "        Hs.append(([sorted(cipher_desc['frequencies'], key=cipher_desc['frequencies'].get, reverse=True)[0]], 0))\n",
    "    # list of cipher characters\n",
    "    Ve = sorted(cipher_desc['frequencies'], key=cipher_desc['frequencies'].get, reverse=True)\n",
    "    while cardinality < cipher_desc['vocab_length']:\n",
    "    #while cardinality < 3:\n",
    "        for phi, previous_score in Hs:\n",
    "            for e in Ve:\n",
    "                phi_prime = copy.deepcopy(phi)\n",
    "                if e in phi_prime:\n",
    "                    continue\n",
    "                else:\n",
    "                    phi_prime.append(e)\n",
    "                    this_score = 0\n",
    "                    for i in range(len(weights)):\n",
    "                        this_score += weights[i]*find_sharp_n(cipher_desc, phi_prime, i+1)\n",
    "                    Ht.append((phi_prime, this_score))\n",
    "        # prune the histogram\n",
    "        Ht = sorted(Ht, key=lambda x:x[1], reverse=True)[:topn]                    \n",
    "        cardinality += 1\n",
    "        Hs = copy.deepcopy(Ht)\n",
    "        Ht.clear()\n",
    "        #print('Done with symbol number', cardinality, '; Current best score: ', Hs[0][1])\n",
    "        #print('Hs', Hs)\n",
    "    return sorted(Hs, key=lambda x:x[1], reverse=True)"
   ]
  },
  {
   "cell_type": "code",
   "execution_count": 11,
   "metadata": {},
   "outputs": [
    {
     "name": "stdout",
     "output_type": "stream",
     "text": [
      "Wall time: 4min 33s\n"
     ]
    }
   ],
   "source": [
    "%%time\n",
    "# test the function above\n",
    "ext_orders = find_ext_order(cipher_desc, topn=100, weights=[0,1,1,1,1,1,2,3])"
   ]
  },
  {
   "cell_type": "code",
   "execution_count": 12,
   "metadata": {},
   "outputs": [
    {
     "name": "stdout",
     "output_type": "stream",
     "text": [
      "['—', '∑', 'B', 'P', 'º', '∫', 'A', '/', 'Z',\n",
      " '∆', 'u', 'V', 'W', 'À', 'O', 'R', '–', '•',\n",
      " 'X', '≈', '§', '¢', 'π', '+', 'E', '√', 'Ã',\n",
      " 'æ', 'G', 'y', 'F', 'H', '∏', '∞', 'ƒ', 'µ',\n",
      " 'T', 'K', 'Q', 'I', '“', 'D', '\\\\', 'J',\n",
      " 'Ç', '£', 'M', 'S', '^', 'L', '‘', 'N', 'Ω',\n",
      " 'j']\n"
     ]
    }
   ],
   "source": [
    "ext_order = ext_orders[0][0]\n",
    "pp.pprint(ext_order)"
   ]
  },
  {
   "cell_type": "code",
   "execution_count": 13,
   "metadata": {},
   "outputs": [],
   "source": [
    "# with open('ext_order.pkl', 'wb') as fh:\n",
    "#     pickle.dump(ext_orders, fh)"
   ]
  },
  {
   "cell_type": "code",
   "execution_count": 14,
   "metadata": {},
   "outputs": [],
   "source": [
    "# with open('ext_order.pkl', 'rb') as fh:\n",
    "#     ext_order = pickle.load(fh, encoding='utf8')[0][0]"
   ]
  },
  {
   "cell_type": "markdown",
   "metadata": {},
   "source": [
    "## Gold"
   ]
  },
  {
   "cell_type": "markdown",
   "metadata": {},
   "source": [
    "In this section, we investigate what is the ground truth mapping relationship of Zodiac cipher. The goal is to get some sense of how good or bad our extension order is. If the correct answer has been pruned out at a very early stage, it is not quite possible that the text can be fully deciphered since the following score is computed based on a wrong partial deciphered text."
   ]
  },
  {
   "cell_type": "markdown",
   "metadata": {},
   "source": [
    "We tried several sets of weights to get different extension order results. An interesting finding is that the score is always quite bad at the beginning. This significantly increases the possiblity of pruning the correct mapping. When we tried different extension orders, what we were looking for was an order that the score of the correct answer can be pretty decent at the first 5 or 6 iterations."
   ]
  },
  {
   "cell_type": "code",
   "execution_count": 15,
   "metadata": {},
   "outputs": [
    {
     "name": "stdout",
     "output_type": "stream",
     "text": [
      "ilikekillingpeoplebecauseitissomuchfunitismorefunthankillingwildgameintheforrestbecausemanisthemostdangeroueanamalofalltokillsomethinggivesmethemostthrillingexperenceitisevenbetterthangettingyourrocksoffwithagirlthebestpartofitisthaewhenidieiwillbereborninparadicesndalltheihavekilledwillbecomemyslavesiwillnotgiveyoumynamebecauseyouwilltrytosloidownorstopmycollectiogofslavesformyafterlifeebeorietemethhpiti\n",
      "score -359.0030393831197\n",
      "408\n"
     ]
    }
   ],
   "source": [
    "with open('data/_ref_Zodiac_408.txt', 'r') as fh:\n",
    "    ground_truth = fh.read()\n",
    "print(ground_truth)\n",
    "print('score', lm.score_seq(ground_truth))\n",
    "print(len(ground_truth))"
   ]
  },
  {
   "cell_type": "code",
   "execution_count": 16,
   "metadata": {
    "scrolled": true
   },
   "outputs": [],
   "source": [
    "gold = read_gold('data/_ref_Zodiac_408.txt')\n",
    "gold_dict = dict()\n",
    "for index in range(len(cipher_desc['content'])):\n",
    "    cipher_char = cipher_desc['content'][index]\n",
    "    if cipher_char not in gold_dict.keys():\n",
    "        gold_dict[cipher_char] = gold[index]"
   ]
  },
  {
   "cell_type": "code",
   "execution_count": 17,
   "metadata": {
    "scrolled": true
   },
   "outputs": [
    {
     "name": "stdout",
     "output_type": "stream",
     "text": [
      "Iteration 1, symbol —, score: -27.947701999999992\n",
      "_______________________________m__________m_______________________m____________________m_______m_______________m_______________m___________m____m___________________________________________________________________________________________________________________________________________________m_m______________________m___m__________________________________m______________________m___________________m________\n",
      "Iteration 2, symbol ∑, score: -41.34324120000001\n",
      "_______________________________m__________m____________l__________m____________________m_______m_______________m_____l_____l___m___________m____m_______l___________________________________________________________________________________________l_________________________________________l_____m_m__l___________________m___m______________l___________________m___ll_________________m___________________m________\n",
      "Iteration 3, symbol B, score: -55.25409240000002\n",
      "_______l________l______________m__________m____________ll_________m____________________m_______m_______________m_l___ll____ll__m___________m____m_______ll__________________________________________________________________________________________ll________________________________________ll____m_m__l_______l___________m___m______________l______l____________m___ll_________________m______l____________m________\n",
      "Iteration 4, symbol P, score: -65.89092420000003\n",
      "__i____l________l__________i___m__________m____________lli________m____________________m_______m_______________m_l___ll___ill__m___________m____m_______lli_________________________________________________i________________________________i______ll________i______________________________ill____m_m__l_______l___________m___m______________l______l____________m___ll___i_____________m______li___________m________\n",
      "Iteration 5, symbol º, score: -79.50212730000001\n",
      "i_i____l________l________i_i___m__________m___________illi________m____________________m__i____m_______________m_l___ll___ill__m___________m____m______illi_________________________________i_______________i______________________i_________i_____ill________i________________________i_____ill____m_m__l____i_il___________m___m____________i_l______l_i__________m___ll___i_____________m______li_______i___m________\n",
      "Iteration 6, symbol ∫, score: -92.02616899999997\n",
      "ili____ll_______l________i_i___m__________m___________illi____l___m____________________m__i____m_______________m_l___ll___ill__m___________m____m______illi_________________________________i_______________i______l_______________i_________i_____ill________i_____________ll_________ill___ill____m_m__l____i_ill__________m___m____________ill______l_i__________m___ll___i_____l_______m______li_______i___m________\n",
      "Iteration 7, symbol A, score: -102.23625073999996\n",
      "ili____ll_______l________i_i___m__________m___________illi__w_l___m____________________m__i____m_______________m_l___ll___ill__m___________m____m______illi_________________________________i______________wi______l_______________i_____w___i____will________i_____________ll_________ill__will____m_m__l____iwill__________m___m___________will______l_i__w_______m___ll___i_____l_______m______li_______i___m________\n",
      "Iteration 8, symbol /, score: -110.10872593999996\n",
      "ilik_k_ll_______l________i_i___m__________m__________killi__w_l___m____________________m__i____m_______________m_l___ll__kill__m___________m____m______illi_________________________________i_________k____wi______l_______________i_____w___i____will________i_____________ll________kill__will____m_m__l____iwill__________m___m___________will______l_i__w_______m___ll___i_____l_______m______li_______i___m________\n",
      "Iteration 9, symbol Z, score: -115.80061967999998\n",
      "ilikek_ll_______l________i_i___m__________m__________killi__w_l___m_____e______________m__i____m_______________m_l___ll__kill__m_________e_m____m______illi_______________e_________________i_________k____wi______l_______________i_____w_e_i____will________i_____________ll________kille_will____m_m__l____iwill__________m___m__e________will______l_i__w_______m___ll___i_____l__e____m______li_______i___m________\n",
      "Iteration 10, symbol ∆, score: -117.85747809999998\n",
      "ilikek_ll_______l________i_i___m__________m__________killi__w_ld__m_____e______________m__i____m_______________m_l___ll__kill__m_________e_m____m______illi_______________e_________________i_________k____wi______l_______________i_____w_e_i____will________i_____d_______ll________killedwill____m_m__l____iwill__________m___m__e________will______l_i__w_______m___ll___i_____l__e____m______li_______i___m________\n",
      "Iteration 11, symbol u, score: -125.84286761\n",
      "ilikekill_______l________i_i___m______i___m__________killi__wild__m_____e______________m__i____m_______________m_l___ll__kill__m___i_____e_m____m______illi___________i___e_________________i_________k____wi____i_l_______________i_____w_e_i_i__will________i_____di______ll________killedwill____m_m__l____iwill____i_____m___m__e________will______l_i__w_______m___ll___i_____l__e____m______li_______i___m_____i__\n",
      "Iteration 12, symbol V, score: -140.15583021\n",
      "ilikekill_______l_b______i_i___m______i___m__________killi__wild__m_____e_______b______m__i____m_______________m_l___ll__kill__m___i_____e_m____m______illi___________i___e___b_____________i_________k____wi____i_l___b___________i_____w_e_i_i__willb___b___i_____di______ll________killedwillb___m_m__l____iwill____i_____m___m_be________will______l_i__w_______m___ll___i_____l__e____m______li___b___i___m_____i__\n",
      "Iteration 13, symbol W, score: -146.30359981\n",
      "ilikekill_______leb______i_i___m______i___m__________killi__wild__m_____e_______be_____m__i____m_______________m_l___ll__kill__m___i_____e_m___em______illi___________i___e___be____________i_________k____wi____i_l___b___________i_____w_e_i_i__willbe__b___i_____di______ll________killedwillb___mem__l____iwill____i_____m___mebe________will______l_i__w_______m___ll___i_____l__e____m______li_e_b___ie__m_____i__\n",
      "Iteration 14, symbol À, score: -157.68726885000007\n",
      "ilikekilli______leb______i_i___m______i_i_m__________killi__wild__m_i___e_______be_____m__i____m_______________m_l___ll__kill__m___i___i_e_m___em______illi___________i_i_e___be____________i_________k____wi____i_l___b_________i_i_____w_e_i_i_iwillbe__b___i_____di______ll___i____killedwillb___mem__l____iwill____i_____m___mebe________will______l_i__w_______m___ll___i_____l__e____m______li_e_b___ie__m_____i_i\n",
      "Iteration 15, symbol O, score: -162.73508651000003\n",
      "ilikekillin_____leb______i_i___m______i_i_m__________killin_wild__m_i___e_______be_____m__i____m_____________n_m_l___ll__kill__m___i___i_e_m___em______illi___________i_i_e__nbe____________i_________k____wi____i_l___b_________i_i_____w_e_i_i_iwillbe__b__ni_____di______ll___i____killedwillb___mem__l____iwilln___i_____m___mebe________will______l_i__w_______m___ll___in____l__e____m______li_e_b___ie__m_____i_i\n",
      "Iteration 16, symbol R, score: -178.34000801000002\n",
      "ilikekilling____leb______i_i___m______i_i_m__________killingwildg_m_i___e_______be_____m__i____m______g______n_m_l___ll__kill__m___i_ggi_e_m___em______illi_g_________i_i_e__nbe________g___i_g_______k____wi___gi_l___b_________i_i_____w_e_i_i_iwillbe__b__ni_____di______ll___i____killedwillb___mem__l____iwilln__gi_____m___mebe________will______l_i__w_______m___ll___ing___l__e____m______li_e_b___ie__m_____i_i\n",
      "Iteration 17, symbol –, score: -183.30788717300004\n",
      "ilikekilling_e__leb______i_i___m______i_i_m__________killingwildg_m_i___e____e__be_____m__i____m______g______n_m_l___ll__kill__m___i_ggi_e_me__em______illi_g_________i_i_e_enbe________g___i_g_______k____wi___gi_l___b_________i_i_____w_e_i_ieiwillbe__b__ni_____di______ll___i____killedwillbe__mem__l____iwilln__gi_____m___mebe________will______l_i__w_______m___ll___ing___l__e____m______li_e_b___ie__m_____i_i\n",
      "Iteration 18, symbol •, score: -194.897606673\n",
      "ilikekillingpe_pleb______i_i___m______i_i_m__________killingwildg_m_i___e____e__be_____m__i____m______g______n_m_l___ll__kill__m___i_ggi_e_me__em______illi_g__p______i_i_e_enbe________g___i_g_______k____wi___gi_l___b___p_____i_i_____w_e_i_ieiwillbe__b__ni_p___di______ll___i____killedwillbe__mem__l____iwilln__gi_____m___mebe________will______l_i__w______pm___ll___ing___l__e____m______li_e_b___ie__m____pi_i\n",
      "Iteration 19, symbol X, score: -201.37064389218\n",
      "ilikekillingpeopleb______i_i___m______i_i_m__________killingwildg_m_i___e____e__be_____m__i____mo_____g______n_m_l___ll__kill_om___i_ggi_e_me__em______illi_g__p______i_i_e_enbe________g___i_g_______k_o__wi___gi_l___b___p_____i_i_____w_e_i_ieiwillbe__b__ni_p___di______ll___i____killedwillbe_omem__l____iwilln__gi_____m___mebe________will______loi_ow______pm___ll___ingo__l__e____m______li_e_b_o_ie__m____pi_i\n",
      "Iteration 20, symbol ≈, score: -211.10178669218004\n",
      "ilikekillingpeopleb_c____i_i___m_c____i_i_m__________killingwildg_m_i___e____e__bec____m__i____mo_____g______n_m_l___ll__kill_om___i_ggi_e_me__em______illi_g__p____c_i_i_e_enbe________g___i_g______ck_o__wi___gi_l___b___p_____i_i_____w_e_i_ieiwillbe__b__ni_p___dic_____ll___i____killedwillbecomem__l____iwilln__gi_____m___mebec_______will______loi_ow______pm_c_ll_c_ingo__l__e____m______li_e_b_o_ie__m____pi_i\n",
      "Iteration 21, symbol §, score: -217.68134612218\n",
      "ilikekillingpeopleb_c____i_i___m_c____i_i_m__________killingwildg_m_i___e____e__bec____m__i____mo__d__g______n_m_l___ll__kill_om___i_ggi_e_me__em______illi_g__p____c_i_i_e_enbe________g___i_g______ck_o__wi___gi_l___b___p_____i_i_____w_e_idieiwillbe__b__ni_p___dic___d_ll___i____killedwillbecomem__l____iwilln__gi_____m___mebec_______will______loidow______pm_c_ll_c_ingo__l__e____m______li_e_b_o_ie__m____pi_i\n",
      "Iteration 22, symbol ¢, score: -221.50870682218\n",
      "ilikekillingpeopleb_c____i_i___m_c____i_i_m_________nkillingwildg_m_i___e____e__bec____m__i____mo__d_ng______n_m_l___ll__kill_om___i_ggi_e_me__em______illi_g__p___nc_i_i_e_enbe________g___i_g______ck_o__wi___gi_l___b___p_____i_i_____w_enidieiwillbe__b__ni_p___dic___d_ll___i____killedwillbecomem__l____iwilln__gi_____m___mebec_______will______loidow______pm_c_ll_c_ingo__l__e____m______li_e_b_o_ie__m____pi_i\n",
      "Iteration 23, symbol π, score: -226.71766181118008\n",
      "ilikekillingpeopleb_c____i_is__m_c____i_i_m_________nkillingwildg_m_i___e____e__bec__s_m__i____mo__d_ng______n_m_l___ll__killsom___i_ggi_e_me__em______illi_g__p___nc_i_i_e_enbe________g___i_g______ckso__wi___gi_l___b___p_____i_i_____w_enidieiwillbe__b__ni_p___dic___d_ll___i____killedwillbecomem__l___siwilln__gi_____m___mebec_______will______loidow______pm_c_ll_c_ingo__l__es___m______li_e_b_o_ie__m____pi_i\n",
      "Iteration 24, symbol +, score: -232.57148801118\n",
      "ilikekillingpeoplebec____i_is__m_c____i_i_m_________nkillingwildg_m_i___e____e__bec__sem__i____mo__d_ng______n_m_l___ll__killsom___i_ggi_e_me__em______illi_ge_p___nc_i_i_e_enbe__e_____g___i_g______ckso__wi___gi_l___b___p_____i_i_____w_enidieiwillbe_eb__ni_p___dic___d_ll___i____killedwillbecomem__l__esiwilln__gi_e___m___mebec_______will______loidow______pm_c_ll_c_ingo__l__es___m____e_li_e_b_o_ie__m____pi_i\n",
      "Iteration 25, symbol E, score: -239.44548649118002\n",
      "ilikekillingpeoplebec____i_is__m_c____i_i_m_________nkillingwildg_mei___e____e__bec__sem__i____mo__d_ng____e_n_m_l___ll__killsome__i_ggi_e_me__em______illi_ge_p___ncei_i_e_enbe__e_____g___i_g______ckso__wi___gi_l___be__p_____i_i_____w_enidieiwillbe_eb__ni_p___dic___d_ll___i___ekilledwillbecomem__l__esiwilln__gi_e___m___mebec___e___will______loidow______pm_c_ll_c_ingo__l__es___m____e_li_e_beo_ie__me___pi_i\n",
      "Iteration 26, symbol √, score: -244.0812312811799\n",
      "ilikekillingpeoplebec____i_is__m_c____i_i_m_________nkillingwildg_mei___e____e__bec__sem__i____mo__d_ng____e_n_m_l___ll__killsome__i_ggive_me__em______illi_ge_p___ncei_i_evenbe__e_____g___i_g______ckso__wi___gi_l___be__p_____i_i_____w_enidieiwillbe_eb__ni_p___dic___d_ll___i__vekilledwillbecomem__l_vesiwilln__give___m___mebec___e___will______loidow______pm_c_ll_c_ingo__l_ves___m____e_li_e_beo_ie__me___pi_i\n",
      "Iteration 27, symbol Ã, score: -246.8041976711799\n",
      "ilikekillingpeoplebec____i_is__m_c____i_i_m_________nkillingwildgamei___e____e__bec__sem__i____mo__d_ng____ean_m_l___ll__killsome__i_ggive_me__em______illi_ge_p___ncei_i_evenbe__e___a_g___i_g______ckso__wi___gi_l___be__p_____i_i___a_w_enidieiwillbe_eb__ni_p__adic___d_ll___i__vekilledwillbecomem__l_vesiwilln__give___m___mebec___e___will______loidow______pm_c_ll_c_ingo__l_ves___m____e_li_e_beo_ie__me___pi_i\n",
      "Iteration 28, symbol æ, score: -255.7996055711799\n",
      "ilikekillingpeoplebec____i_is__m_c____i_i_m_________nkillingwildgamei___e____e__beca_sem__i____moa_d_ng____eanam_l___ll__killsome__i_ggive_me__em_a____illi_ge_p___ncei_i_evenbe__e___a_g___i_g______ckso__wi__agi_l___be__p_____i_ia__a_w_enidieiwillbe_eb__ni_p__adic___d_ll___i__vekilledwillbecomem__lavesiwilln__give___m___mebec___e___will______loidow______pm_c_ll_c_ingo__l_ves___m_a__e_li_e_beo_ie__me___pi_i\n",
      "Iteration 29, symbol G, score: -259.41391707118\n",
      "ilikekillingpeoplebeca___i_is__m_c____i_i_m_________nkillingwildgamei___e____e__beca_sema_i____moa_d_ng____eanamal___ll__killsome__i_ggive_me__em_a____illi_ge_p___ncei_i_evenbe__e___a_g___i_g______ckso__wi__agi_l___be__pa____i_ia__a_w_enidieiwillbe_eb__ni_p__adic___dall___i__vekilledwillbecomem__lavesiwilln__give___m___mebeca__e___will______loidow______pm_c_ll_c_ingo__laves___m_a__e_li_e_beo_ie__me___pi_i\n",
      "Iteration 30, symbol y, score: -269.46254433117997\n",
      "ilikekillingpeoplebecau__i_is__muc__u_i_i_m____u____nkillingwildgamei___e____e__becausema_i____moa_d_ng___ueanamal___ll__killsome__i_ggive_me__em_a____illi_ge_p___ncei_i_evenbe__e___a_g___i_g__u___ckso__wi__agi_l___be__pa____i_ia__a_w_enidieiwillbe_eb__ni_p__adic___dall___i__vekilledwillbecomem__lavesiwilln__give__um___mebecau_e__uwill______loidow______pm_c_ll_c_ingo__laves___m_a__e_li_e_beo_ie__me___pi_i\n",
      "Iteration 31, symbol F, score: -273.67865097218\n",
      "ilikekillingpeoplebecaus_i_is__muc__u_i_i_m____u____nkillingwildgamei___e____es_becausema_i____moa_d_ng___ueanamal___ll__killsome__i_ggive_me__em_a____illi_ge_p___ncei_isevenbe__e___a_g___i_g__u___ckso__wi__agi_l___be__pa____i_ia__a_w_enidieiwillbe_eb__ni_p__adic___dall___i__vekilledwillbecomem_slavesiwilln__give__um___mebecau_e__uwill_____sloidow______pm_c_ll_c_ingo_slaves___m_a__e_li_e_beo_ie__me___pi_i\n",
      "Iteration 32, symbol H, score: -279.45204123218014\n",
      "ilikekillingpeoplebecaus_itis__muc__u_i_i_m____u____nkillingwildgamei___e____estbecausema_i____moa_d_ng___ueanamal___ll__killsomet_i_ggive_me__em_a____illi_ge_p___nceitisevenbe__e___a_g_t_i_g__u___ckso__wi__agi_l___be_tpa____i_ia__a_w_enidieiwillbe_eb__ni_p__adic___dall___i__vekilledwillbecomem_slavesiwilln__give__um___mebecau_e__uwill___t_sloidow______pm_c_ll_c_ingo_slaves___m_a__e_li_e_beo_ie__met__pi_i\n",
      "Iteration 33, symbol ∏, score: -296.2432114221801\n",
      "ilikekillingpeoplebecaus_itis__muc__u_i_i_m____u____nkillingwildgamei___e____estbecausema_i____moa_d_ng___ueanamal___ll__killsomet_i_ggive_me__em_a____illi_ge_p___nceitisevenbe__e___a_g_t_i_gy_u___ckso__wi__agi_l___be_tpa____i_ia__a_w_enidieiwillbe_eb__ni_p__adic___dall___i__vekilledwillbecomemyslavesiwilln__givey_umy__mebecau_ey_uwill__yt_sloidow______pmyc_ll_c_ingo_slaves___mya__e_li_e_beo_ie__met__pi_i\n",
      "Iteration 34, symbol ∞, score: -301.96707682118017\n",
      "ilikekillingpeoplebecauseitis__muc__u_i_i_m____u____nkillingwildgamei___e____estbecausema_i___emoa_d_ng___ueanamal___ll__killsomet_i_ggive_me__em_a____illi_ge_pe__nceitisevenbe__e___a_get_i_gy_u___ckso__wi__agi_l___be_tpa____i_ia__a_w_enidieiwillbe_eb__ni_p__adice__dall___i__vekilledwillbecomemyslavesiwilln__givey_umy__mebecau_ey_uwill__yt_sloidow______pmyc_llec_ingo_slaves___mya__e_li_eebeo_ie_emet__pi_i\n",
      "Iteration 35, symbol ƒ, score: -301.6893118911801\n",
      "ilikekillingpeoplebecauseitis__muc__u_i_i_m____u____nkillingwildgamei___e_o__estbecausema_i___emoa_d_ng___ueanamal___ll_okillsomet_i_ggive_me__em_a____illi_ge_pe__nceitisevenbe__e___a_get_i_gy_u__ockso__wi__agi_l___be_tpa____i_ia__a_w_enidieiwillbe_eb__ni_p__adice__dall___i__vekilledwillbecomemyslavesiwilln__giveyoumy__mebecau_ey_uwill__yt_sloidow_o____pmycollec_ingo_slaves___mya__e_li_eebeo_ie_emet__pi_i\n",
      "Iteration 36, symbol µ, score: -306.39716765498\n",
      "ilikekillingpeoplebecauseitis__muc__u_i_i_m____u_t__nkillingwildgamei___e_o__estbecausema_i___emoatd_ng___ueanamal___ll_okillsomet_i_ggive_me__em_at___illi_ge_pe__nceitisevenbe_te___a_get_i_gy_u__ockso__wit_agi_l___be_tpa____itia__a_w_enidieiwillbe_eb__ni_p__adice__dall___i__vekilledwillbecomemyslavesiwilln_tgiveyoumy__mebecau_ey_uwill__yt_sloidow_o____pmycollectingo_slaves___mya__e_li_eebeo_ie_emet__pi_i\n",
      "Iteration 37, symbol T, score: -306.00006588598\n",
      "ilikekillingpeoplebecauseitis__muc__u_i_i_mo___u_t__nkillingwildgamei___e_o__estbecausema_i___emoatd_ng___ueanamalo__ll_okillsomet_i_ggive_me__em_at___illi_ge_pe__nceitisevenbe_te___a_get_i_gyou__ockso__wit_agi_l___be_tpa____itia__a_w_enidieiwillbe_ebo_ni_p__adice__dall___i__vekilledwillbecomemyslavesiwillnotgiveyoumy__mebecau_eyouwill__yt_sloidow_o____pmycollectingo_slaves_o_mya__e_li_eebeo_ie_emet__pi_i\n",
      "Iteration 38, symbol K, score: -306.99574452598\n",
      "ilikekillingpeoplebecauseitiss_muc__u_i_i_mo___u_t__nkillingwildgamei___e_o__estbecausema_is__emoatd_ng___ueanamalo__ll_okillsomet_i_ggivesme__em_at___illi_ge_pe__nceitisevenbe_te___a_get_i_gyou__ockso__wit_agi_l___bestpa____itia__a_w_enidieiwillbe_ebo_ni_p__adice__dall___i__vekilledwillbecomemyslavesiwillnotgiveyoumy__mebecauseyouwill__yt_sloidow_o____pmycollectingo_slaves_o_mya__e_li_eebeo_ie_emet__pi_i\n",
      "Iteration 39, symbol Q, score: -313.37313359598005\n",
      "ilikekillingpeoplebecauseitiss_muc__u_i_i_mo__fu_t__nkillingwildgamei___e_o__estbecausema_is__emoatd_ng___ueanamalof_ll_okillsomet_i_ggivesme__em_at___illi_ge_pe__nceitisevenbe_te___a_get_i_gyou__ockso_fwit_agi_l___bestpa____itia__a_w_enidieiwillbe_ebo_ni_p__adice__dall___i__vekilledwillbecomemyslavesiwillnotgiveyoumy__mebecauseyouwill__yt_sloidow_o____pmycollectingofslaves_o_mya__e_lifeebeo_ie_emet__pi_i\n",
      "Iteration 40, symbol I, score: -324.0694657359801\n",
      "ilikekillingpeoplebecauseitiss_muc__u_iti_mo__fu_t__nkillingwildgamei___e_o__estbecausema_ist_emoatd_ng__tueanamalof_ll_okillsomet_i_ggivesmet_em_at___illi_ge_pe__nceitisevenbette___a_getti_gyou__ockso_fwit_agi_l___bestpa_t__itia__a_w_enidieiwillbe_ebo_ni_p__adice__dallt__i__vekilledwillbecomemyslavesiwillnotgiveyoumy__mebecauseyouwill__yt_sloidow_o____pmycollectingofslaves_o_mya_te_lifeebeo_ietemet__piti\n",
      "Iteration 41, symbol “, score: -329.93236647598\n",
      "ilikekillingpeoplebecauseitiss_muc__u_iti_mo__fu_t__nkillingwildgamei___e_or_estbecausema_ist_emoatd_ng__tueanamalof_ll_okillsomet_i_ggivesmet_em_at__rilli_ge_pe__nceitisevenbette___a_getti_gyour_ockso_fwit_agi_l___bestpart__itia__a_w_enidieiwillbe_ebo_ni_p_radice__dallt__i__vekilledwillbecomemyslavesiwillnotgiveyoumy__mebecauseyouwill__yt_sloidow_o____pmycollectingofslaves_o_mya_terlifeebeorietemet__piti\n",
      "Iteration 42, symbol D, score: -332.20060998597995\n",
      "ilikekillingpeoplebecauseitiss_muc__u_iti_mo__funt__nkillingwildgamei___e_or_estbecausemanist_emoatd_ng__tueanamalof_ll_okillsomet_i_ggivesmet_em_at__rillinge_pe__nceitisevenbette___a_gettingyour_ockso_fwit_agi_l___bestpart__itia__a_w_enidieiwillbe_ebo_ni_p_radice_ndallt__i__vekilledwillbecomemyslavesiwillnotgiveyoumy__mebecauseyouwill__yt_sloidowno____pmycollectingofslaves_o_mya_terlifeebeorietemet__piti\n",
      "Iteration 43, symbol \\, score: -334.96223048597994\n",
      "ilikekillingpeoplebecauseitiss_muc__u_iti_mo__funt__nkillingwildgamei___e_orrestbecausemanist_emoatd_ng__tueanamalof_ll_okillsomet_i_ggivesmet_em_at__rillinge_per_nceitisevenbette___a_gettingyourrockso_fwit_agi_l___bestpart__itia__a_w_enidieiwillberebo_ni_p_radice_ndallt__i__vekilledwillbecomemyslavesiwillnotgiveyoumy__mebecauseyouwill__yt_sloidownor___pmycollectingofslaves_o_mya_terlifeebeorietemet__piti\n",
      "Iteration 44, symbol J, score: -338.4676673584199\n",
      "ilikekillingpeoplebecauseitiss_muc_fu_iti_mo__funt__nkillingwildgamei___eforrestbecausemanist_emoatd_ng__tueanamalof_ll_okillsomet_i_ggivesmet_em_at__rillinge_per_nceitisevenbette___a_gettingyourrocksoffwit_agi_l___bestpart_fitia__a_w_enidieiwillberebo_ni_p_radice_ndallt__i__vekilledwillbecomemyslavesiwillnotgiveyoumy__mebecauseyouwill__yt_sloidownor___pmycollectingofslavesfo_myafterlifeebeorietemet__piti\n",
      "Iteration 45, symbol Ç, score: -340.84333446842\n",
      "ilikekillingpeoplebecauseitissomuc_fu_iti_mo__funt__nkillingwildgamei___eforrestbecausemanist_emoatd_ng__tueanamalof_ll_okillsomet_i_ggivesmet_emoat__rillinge_per_nceitisevenbette___a_gettingyourrocksoffwit_agi_l___bestpartofitia__a_w_enidieiwillberebo_ni_p_radice_ndallt__i__vekilledwillbecomemyslavesiwillnotgiveyoumy__mebecauseyouwill__ytosloidownor__opmycollectingofslavesfo_myafterlifeebeorietemet__piti\n",
      "Iteration 46, symbol £, score: -347.6347399384199\n",
      "ilikekillingpeoplebecauseitissomuc_fu_iti_mo__funth_nkillingwildgamei___eforrestbecausemanisthemoatd_ng__tueanamalof_ll_okillsomet_i_ggivesmethemoat__rillinge_per_nceitisevenbette__ha_gettingyourrocksoffwit_agi_l_h_bestpartofitia__a_whenidieiwillberebo_ni_p_radice_ndallt__ih_vekilledwillbecomemyslavesiwillnotgiveyoumy__mebecauseyouwill__ytosloidownor__opmycollectingofslavesfo_myafterlifeebeorietemet_hpiti\n",
      "Iteration 47, symbol M, score: -352.77492918711994\n",
      "ilikekillingpeoplebecauseitissomuchfu_iti_mo__funth_nkillingwildgamei__heforrestbecausemanisthemoatd_ng__tueanamalof_ll_okillsomethi_ggivesmethemoat_hrillinge_per_nceitisevenbette__ha_gettingyourrocksoffwithagi_l_h_bestpartofitia_ha_whenidieiwillberebo_ni_p_radice_ndallth_ih_vekilledwillbecomemyslavesiwillnotgiveyoumy__mebecauseyouwill__ytosloidownor__opmycollectingofslavesfo_myafterlifeebeorietemethhpiti\n",
      "Iteration 48, symbol S, score: -351.46805663711984\n",
      "ilikekillingpeoplebecauseitissomuchfu_iti_mo__funthankillingwildgamei__heforrestbecausemanisthemoatdang__tueanamalofall_okillsomethi_ggivesmethemoat_hrillinge_per_nceitisevenbette__ha_gettingyourrocksoffwithagi_l_h_bestpartofitia_ha_whenidieiwillberebo_ni_paradice_ndallth_ihavekilledwillbecomemyslavesiwillnotgiveyoumy_amebecauseyouwill__ytosloidownor__opmycollectingofslavesfo_myafterlifeebeorietemethhpiti\n",
      "Iteration 49, symbol ^, score: -350.8606357571199\n",
      "ilikekillingpeoplebecauseitissomuchfuniti_mo__funthankillingwildgamein_heforrestbecausemanisthemoatdang__tueanamalofall_okillsomethinggivesmethemoat_hrillinge_per_nceitisevenbette__hangettingyourrocksoffwithagi_l_h_bestpartofitia_ha_whenidieiwillberebo_ninparadice_ndallth_ihavekilledwillbecomemyslavesiwillnotgiveyoumynamebecauseyouwill__ytosloidownor__opmycollectingofslavesfo_myafterlifeebeorietemethhpiti\n",
      "Iteration 50, symbol L, score: -354.8692151171199\n",
      "ilikekillingpeoplebecauseitissomuchfuniti_mo__funthankillingwildgameintheforrestbecausemanisthemoatdang__tueanamalofalltokillsomethinggivesmethemoatthrillinge_per_nceitisevenbette_thangettingyourrocksoffwithagi_lth_bestpartofitiatha_whenidieiwillberebo_ninparadice_ndallth_ihavekilledwillbecomemyslavesiwillnotgiveyoumynamebecauseyouwillt_ytosloidownor_topmycollectingofslavesfo_myafterlifeebeorietemethhpiti\n",
      "Iteration 51, symbol ‘, score: -350.7881651971197\n",
      "ilikekillingpeoplebecauseitissomuchfuniti_mor_funthankillingwildgameintheforrestbecausemanisthemoatdang_rtueanamalofalltokillsomethinggivesmethemoatthrillinge_per_nceitisevenbetterthangettingyourrocksoffwithagirlth_bestpartofitiatha_whenidieiwillbereborninparadice_ndallth_ihavekilledwillbecomemyslavesiwillnotgiveyoumynamebecauseyouwilltrytosloidownor_topmycollectingofslavesformyafterlifeebeorietemethhpiti\n",
      "Iteration 52, symbol N, score: -355.7758263201198\n",
      "ilikekillingpeoplebecauseitissomuchfuniti_morefunthankillingwildgameintheforrestbecausemanisthemoatdangertueanamalofalltokillsomethinggivesmethemoatthrillinge_perenceitisevenbetterthangettingyourrocksoffwithagirlthebestpartofitiathaewhenidieiwillbereborninparadice_ndalltheihavekilledwillbecomemyslavesiwillnotgiveyoumynamebecauseyouwilltrytosloidownor_topmycollectingofslavesformyafterlifeebeorietemethhpiti\n",
      "Iteration 53, symbol Ω, score: -361.3223825331199\n",
      "ilikekillingpeoplebecauseitissomuchfunitismorefunthankillingwildgameintheforrestbecausemanisthemoatdangertueanamalofalltokillsomethinggivesmethemoatthrillinge_perenceitisevenbetterthangettingyourrocksoffwithagirlthebestpartofitiathaewhenidieiwillbereborninparadicesndalltheihavekilledwillbecomemyslavesiwillnotgiveyoumynamebecauseyouwilltrytosloidownorstopmycollectingofslavesformyafterlifeebeorietemethhpiti\n",
      "Iteration 54, symbol j, score: -363.1344102331199\n",
      "ilikekillingpeoplebecauseitissomuchfunitismorefunthankillingwildgameintheforrestbecausemanisthemoatdangertueanamalofalltokillsomethinggivesmethemoatthrillingexperenceitisevenbetterthangettingyourrocksoffwithagirlthebestpartofitiathaewhenidieiwillbereborninparadicesndalltheihavekilledwillbecomemyslavesiwillnotgiveyoumynamebecauseyouwilltrytosloidownorstopmycollectingofslavesformyafterlifeebeorietemethhpiti\n"
     ]
    }
   ],
   "source": [
    "for index in range(1, len(ext_order)+1, 1):\n",
    "    found_symbols = ext_order[:index]\n",
    "    phi_temp = dict()\n",
    "    for key,value in gold_dict.items():\n",
    "        if key in found_symbols:\n",
    "            phi_temp[key] = value\n",
    "    partial_text = ''\n",
    "    bit_string = ''\n",
    "    for cipher_char in cipher_desc['content']:\n",
    "        if cipher_char in phi_temp.keys():\n",
    "            partial_text += phi_temp[cipher_char]\n",
    "            bit_string += 'o'\n",
    "        else:\n",
    "            partial_text += '_'\n",
    "            bit_string += '.'\n",
    "    print(f'Iteration {index}, symbol {ext_order[index-1]}, score: {lm.score_bitstring(partial_text, bit_string)}')\n",
    "    print(partial_text)"
   ]
  },
  {
   "cell_type": "code",
   "execution_count": 18,
   "metadata": {},
   "outputs": [],
   "source": [
    "# for key,value in gold_dict.items():\n",
    "#     freq_cipher = cipher_desc['relative_freq'][key]\n",
    "#     freq_plain = plaintxt_desc['relative_freq'][value]\n",
    "#     print(f'{key} {value}; Cipher char frequence: {freq_cipher}; plaintext char frequency: {freq_plain}')"
   ]
  },
  {
   "cell_type": "code",
   "execution_count": 19,
   "metadata": {
    "scrolled": false
   },
   "outputs": [],
   "source": [
    "# Ve = [chr(i) for i in range(97, 123, 1)]\n",
    "# for e in Ve:\n",
    "#     keys = [k for k, v in gold_dict.items() if v == e]\n",
    "#     freq_cipher = 0\n",
    "#     for key in keys:\n",
    "#         freq_cipher += cipher_desc['relative_freq'][key]\n",
    "#     freq_plain = plaintxt_desc['relative_freq'][e]\n",
    "#     print(f'{e}: {keys}, {len(keys)}, plain freq {freq_plain}, cipher freq {freq_cipher}')"
   ]
  },
  {
   "cell_type": "markdown",
   "metadata": {},
   "source": [
    "## Baseline with better extension order"
   ]
  },
  {
   "cell_type": "markdown",
   "metadata": {},
   "source": [
    "I rewrote the score function. The change I made is to score the newly fixed symbol plantext character pair and corresponding influenced previously fixed plantext character based on the previous score instead of scoring the whole bitstring in each iteration. For instance, 'oooo...o' -> 'oooo..xo'. The new score can be calculated by adding unigram score of 'x' to the previous score, substracting unigram score of 'o' following 'x' and bigram score of '<\\s>' from the previous score, and adding bigram score of 'o' following 'x' and trigram score of '<\\s>' to the previous score. With this approach, the running time was improved to 20 minitues from 1 hour with a beamsize of 10000. And the computed score is very close to the score computed with score_bit_string function (the difference is within 0.0001)."
   ]
  },
  {
   "cell_type": "code",
   "execution_count": 20,
   "metadata": {},
   "outputs": [],
   "source": [
    "def score(cipher, phi, new_f, new_e, previous_score):\n",
    "    '''\n",
    "    scores the phi_prime based on the previous score, returns a float\n",
    "    cipher -- list of single character string\n",
    "    phi -- dictionary, old mapping e->[f]\n",
    "    new_f -- single-character string, extended symbol\n",
    "    previous_score -- float, old score for phi\n",
    "    '''\n",
    "    mapping = phi\n",
    "    new_score = previous_score\n",
    "    # for the first iteration, the previous score should be -2.545382 instead of 0\n",
    "    # this is because the score of an empty string is not 0\n",
    "    if len(phi)==0:\n",
    "        new_score += -2.545382\n",
    "    lm_state = lm.begin()\n",
    "    old_lm_state = lm.begin()\n",
    "    triggerChangeFlag = 0\n",
    "    for i in range(len(cipher)):\n",
    "        char = cipher[i]\n",
    "        if (char in mapping.keys()) and (triggerChangeFlag==0):\n",
    "            token = mapping[char]\n",
    "            ngram = lm_state + (token,)\n",
    "            while len(ngram)> 0:\n",
    "                if ngram in lm.table:\n",
    "                    lm_state = ngram[-lm.history:]\n",
    "                    break\n",
    "                else: #backoff\n",
    "                    ngram = ngram[1:]\n",
    "            if len(ngram)==0:\n",
    "                lm_state = ()\n",
    "            old_lm_state = lm_state\n",
    "        elif (char in mapping.keys()) and (triggerChangeFlag>0):\n",
    "            token = mapping[char]\n",
    "            old_lm_state, old_logprob = lm.score(old_lm_state, token)\n",
    "            new_score -= old_logprob\n",
    "            lm_state, logprob = lm.score(lm_state, token)\n",
    "            new_score += logprob\n",
    "            triggerChangeFlag -= 1\n",
    "        elif char == new_f:\n",
    "            (lm_state, logprob) = lm.score(lm_state, new_e)\n",
    "            new_score += logprob\n",
    "            triggerChangeFlag = 5\n",
    "            old_lm_state = ()\n",
    "        else:\n",
    "            lm_state = ()\n",
    "            old_lm_state = ()\n",
    "            triggerChangeFlag = 0\n",
    "        #print('old lm state', old_lm_state)\n",
    "        #print('lm state', lm_state)\n",
    "    if triggerChangeFlag:\n",
    "        new_score -= lm.end(old_lm_state)\n",
    "        new_score += lm.end(lm_state)\n",
    "    return new_score"
   ]
  },
  {
   "cell_type": "markdown",
   "metadata": {},
   "source": [
    "We use the following `counts_dict` to limit the ext_order. The goal is to customize the `ext_limit` for each plaintext character so that more symbols can be mapped to the more frequent plaintext character. The `ext_limit` is calculated by multiplying the relative frequency of the paintext character in wiki text by the number of unique cipher symbols. We believe this can dramatically improve the running time since the required amount of computation in each iteration is minimized. We use the ceiling instead of floor to ensure the `ext_limit` is large enough."
   ]
  },
  {
   "cell_type": "code",
   "execution_count": 21,
   "metadata": {},
   "outputs": [
    {
     "name": "stdout",
     "output_type": "stream",
     "text": [
      "{'a': 5, 'b': 1, 'c': 2, 'd': 3, 'e': 7, 'f': 2, 'g': 2, 'h': 3, 'i': 4, 'j': 1, 'k': 1, 'l': 3, 'm': 2, 'n': 4, 'o': 4, 'p': 2, 'q': 1, 'r': 4, 's': 4, 't': 5, 'u': 2, 'v': 1, 'w': 1, 'x': 1, 'y': 1, 'z': 1}\n"
     ]
    }
   ],
   "source": [
    "counts_dict = dict()\n",
    "for e in [chr(i) for i in range(97, 123, 1)]:\n",
    "    counts_dict[e] = math.ceil(plaintxt_desc['relative_freq'][e]*cipher_desc['vocab_length']/100)\n",
    "print(counts_dict)"
   ]
  },
  {
   "cell_type": "code",
   "execution_count": 24,
   "metadata": {},
   "outputs": [],
   "source": [
    "def beam_search(cipher, ext_order, score_func, ext_limits=1, topn=1):\n",
    "    '''\n",
    "    finds the mappings between cipher char and plaintext char, returns the mapping dictionary\n",
    "    ext_order -- list, the unigram char list sorted by their count DESC\n",
    "    ext_limits -- int, defines maximum number of cipher char can be mapped to a plaintext char\n",
    "    topn -- int, defines the number of dictionaries we want to keep while pruning\n",
    "    '''\n",
    "    print('Number of unique symbols in cipher:', len(ext_order))\n",
    "    # mapping relationships already found with score\n",
    "    Hs = [(defaultdict(dict), 0)]\n",
    "    # hypothesis mapping relationships with score\n",
    "    Ht = []\n",
    "    # initialize the cardinality (number of unique cipher text)\n",
    "    cardinality = 0\n",
    "    # list of plaintext characters\n",
    "    Ve = [chr(i) for i in range(97, 123, 1)]\n",
    "    while cardinality < len(ext_order):\n",
    "        f = ext_order[cardinality]\n",
    "        print('Working on symbol: ', f, f'({cardinality+1})')\n",
    "        for phi, previous_score in Hs:\n",
    "            for e in Ve:\n",
    "                phi_prime = copy.deepcopy(phi)\n",
    "                new_map = {f: e}\n",
    "                phi_prime.update(new_map)\n",
    "                counts = len([v for k, v in phi_prime.items() if v == e])\n",
    "                ext_limits = counts_dict[e]\n",
    "                \n",
    "                keys = [k for k, v in phi_prime.items() if v == e]\n",
    "                freq_cipher = 0\n",
    "                for key in keys:\n",
    "                    freq_cipher += cipher_desc['relative_freq'][key]\n",
    "                freq_plain = plaintxt_desc['relative_freq'][e]\n",
    "                \n",
    "                if (freq_cipher / freq_plain > 3):\n",
    "                    continue\n",
    "                # for the first 5 symbols, at most three of them can be mapped to the same plaintext character\n",
    "                # this rule is set by intuition. The goal is to map the characters evenly at the early stage\n",
    "                if cardinality < 5:\n",
    "                    ext_limits = min(ext_limits,3)\n",
    "                if counts <= ext_limits:\n",
    "                    Ht.append((phi_prime, score_func(cipher, phi, f, e, previous_score)))\n",
    "        # prune the histogram\n",
    "\n",
    "        if cardinality in [6]:\n",
    "            Ht = sorted(Ht, key=lambda x:x[1], reverse=True)[topn*1:topn*2]\n",
    "#         elif cardinality in [6]:\n",
    "#             Ht = sorted(Ht, key=lambda x:x[1], reverse=True)[topn*3:topn*4]\n",
    "#         else:\n",
    "#             Ht = sorted(Ht, key=lambda x:x[1], reverse=True)[:topn]\n",
    "        Ht = sorted(Ht, key=lambda x:x[1], reverse=True)[:topn]\n",
    "        cardinality += 1\n",
    "        Hs = copy.deepcopy(Ht)\n",
    "        Ht.clear()\n",
    "        print('Current score: ', Hs[0][1], 'Worst score: ', Hs[min(len(Hs)-1, topn-1)][1])\n",
    "        \n",
    "        found_symbols = ext_order[:cardinality]\n",
    "        phi_temp = dict()\n",
    "        for key,value in gold_dict.items():\n",
    "            if key in found_symbols:\n",
    "                phi_temp[key] = value\n",
    "        partial_text = ''\n",
    "        bit_string = ''\n",
    "        for cipher_char in cipher_desc['content']:\n",
    "            if cipher_char in phi_temp.keys():\n",
    "                partial_text += phi_temp[cipher_char]\n",
    "                bit_string += 'o'\n",
    "            else:\n",
    "                partial_text += '_'\n",
    "                bit_string += '.'\n",
    "        gold_score = lm.score_bitstring(partial_text, bit_string)\n",
    "        print('gold score', gold_score)\n",
    "        if gold_score < Hs[min(len(Hs)-1, topn-1)][1] or gold_score > Hs[0][1]:\n",
    "            print('Wrong!')\n",
    "        #print(Hs)\n",
    "    return sorted(Hs, key=lambda x:x[1], reverse=True)"
   ]
  },
  {
   "cell_type": "code",
   "execution_count": null,
   "metadata": {},
   "outputs": [
    {
     "name": "stdout",
     "output_type": "stream",
     "text": [
      "Number of unique symbols in cipher: 54\n",
      "Working on symbol:  — (1)\n",
      "Current score:  -17.194697199999997 Worst score:  -31.66514199999999\n",
      "gold score -27.947701999999992\n",
      "Working on symbol:  ∑ (2)\n",
      "Current score:  -26.92681499999999 Worst score:  -52.81687600000001\n",
      "gold score -41.34324120000001\n",
      "Working on symbol:  B (3)\n",
      "Current score:  -38.52903960000001 Worst score:  -82.790194\n",
      "gold score -55.25409240000002\n",
      "Working on symbol:  P (4)\n",
      "Current score:  -47.23661540000004 Worst score:  -105.90260799999999\n",
      "gold score -65.89092420000003\n",
      "Working on symbol:  º (5)\n"
     ]
    }
   ],
   "source": [
    "%%time\n",
    "# sorted_keys = sorted(cipher_desc['frequencies'], key=cipher_desc['frequencies'].get, reverse=True)\n",
    "# mappings = beam_search(cipher_desc['content'], sorted_keys, 7, 100)\n",
    "mappings = beam_search(cipher_desc['content'], ext_order, score, 7, 500000)\n",
    "# mappings = beam_search(cipher_desc['content'], ext_order, score_new, 7, 10000)"
   ]
  },
  {
   "cell_type": "code",
   "execution_count": null,
   "metadata": {},
   "outputs": [],
   "source": [
    "mapping = mappings[0][0]\n",
    "decipher_text = ''\n",
    "for char in cipher_desc['content']:\n",
    "    decipher_text += mapping[char]\n",
    "print(decipher_text)\n",
    "print('score', lm.score_seq(decipher_text))\n",
    "print(len(decipher_text))\n",
    "\n",
    "print(symbol_error_rate(decipher_text, 'data/_ref_Zodiac_408.txt'))"
   ]
  },
  {
   "cell_type": "markdown",
   "metadata": {},
   "source": [
    "## Multi-processing"
   ]
  },
  {
   "cell_type": "markdown",
   "metadata": {},
   "source": [
    "The following code is to utilize the joblib to multiprocess the computations. However, the running time doesn't drop a lot (while experimenting with beamsize of 10000). When I monitered the CPU usage, I found each iteration only took around 30s to compute the parallelized section. Most of the time was used on the serialized section, such as data transportations and sorting the Ht list. Although the computed scores are consistent with the scores computed with single core computation, I still stick to the single core implementation since the memory usage is huge with multi-processing. The memory usage has been up to 100% when I only used four cores and beamsize of 10000 on my machine with 16G RAM."
   ]
  },
  {
   "cell_type": "code",
   "execution_count": null,
   "metadata": {},
   "outputs": [],
   "source": [
    "def work(Hs, Ve, f, cipher, topn):\n",
    "    ret = []\n",
    "    for phi, previous_score in Hs:\n",
    "        for e in Ve:\n",
    "            phi_prime = copy.deepcopy(phi)\n",
    "            new_map = {f: e}\n",
    "            phi_prime.update(new_map)\n",
    "            counts = len([v for k, v in phi_prime.items() if v == e])\n",
    "            if counts <= counts_dict[e]:\n",
    "                ret.append((phi_prime, score(cipher, phi, f, e, previous_score)))\n",
    "    return sorted(ret, key=lambda x:x[1], reverse=True)[:topn]\n",
    "\n",
    "def grouper(n, iterable):\n",
    "    it = iter(iterable)\n",
    "    while True:\n",
    "        chunk = tuple(itertools.islice(it, n))\n",
    "        if not chunk:\n",
    "            return\n",
    "        yield chunk\n",
    "\n",
    "def beam_search_mp(cipher, ext_order, ext_limits=1, topn=1):\n",
    "    '''\n",
    "    finds the mappings between cipher char and plaintext char, returns the mapping dictionary\n",
    "    ext_order -- list, the unigram char list sorted by their count DESC\n",
    "    ext_limits -- int, defines maximum number of cipher char can be mapped to a plaintext char\n",
    "    topn -- int, defines the number of dictionaries we want to keep while pruning\n",
    "    '''\n",
    "    print('Number of unique symbols in cipher:', len(ext_order))\n",
    "    # mapping relationships already found with score\n",
    "    Hs = [(defaultdict(dict), 0)]\n",
    "    # hypothesis mapping relationships with score\n",
    "    Ht = []\n",
    "    # initialize the cardinality (number of unique cipher text)\n",
    "    cardinality = 0\n",
    "    # list of plaintext characters\n",
    "    Ve = [chr(i) for i in range(97, 123, 1)]\n",
    "    \n",
    "    N_JOBS = 2\n",
    "    p = Parallel(n_jobs=N_JOBS, verbose=2, )\n",
    "    \n",
    "    while cardinality < len(ext_order):\n",
    "    #while cardinality < 2:\n",
    "        f = ext_order[cardinality]\n",
    "        print('Working on symbol: ', f, f'({cardinality+1})')\n",
    "        jobs = list(grouper(math.ceil(len(Hs) / N_JOBS), Hs))\n",
    "\n",
    "        print(f\"Num of jobs {len(jobs)} w {len(jobs[0])}\")\n",
    "        Hts = p(delayed(work)(job, Ve, f, cipher, topn) for job in jobs)\n",
    "        Ht = [e for l in Hts for e in l]\n",
    "        \n",
    "        # prune the histogram\n",
    "        Ht = sorted(Ht, key=lambda x:x[1], reverse=True)[:topn]                    \n",
    "        cardinality += 1\n",
    "        Hs = copy.deepcopy(Ht)\n",
    "        Ht.clear()\n",
    "        print('Current score: ', Hs[0][1])\n",
    "        #print('Hs', Hs)\n",
    "    return sorted(Hs, key=lambda x:x[1], reverse=True)"
   ]
  },
  {
   "cell_type": "code",
   "execution_count": null,
   "metadata": {},
   "outputs": [],
   "source": [
    "# %%time\n",
    "# mappings = beam_search_mp(cipher_desc['content'], ext_order, 7, 10000)\n",
    "\n",
    "# mapping = mappings[0][0]\n",
    "# decipher_text = ''\n",
    "# for char in cipher_desc['content']:\n",
    "#     decipher_text += mapping[char]\n",
    "# print(decipher_text)\n",
    "# print('score', lm.score_seq(decipher_text))\n",
    "# print(len(decipher_text))\n",
    "\n",
    "# print(symbol_error_rate(decipher_text, 'data/_ref_Zodiac_408.txt'))"
   ]
  },
  {
   "cell_type": "code",
   "execution_count": null,
   "metadata": {},
   "outputs": [],
   "source": []
  }
 ],
 "metadata": {
  "kernelspec": {
   "display_name": "Python 3",
   "language": "python",
   "name": "python3"
  },
  "language_info": {
   "codemirror_mode": {
    "name": "ipython",
    "version": 3
   },
   "file_extension": ".py",
   "mimetype": "text/x-python",
   "name": "python",
   "nbconvert_exporter": "python",
   "pygments_lexer": "ipython3",
   "version": "3.6.5"
  }
 },
 "nbformat": 4,
 "nbformat_minor": 2
}
