{
 "cells": [
  {
   "cell_type": "markdown",
   "metadata": {},
   "source": [
    "# Homework: Decipherment"
   ]
  },
  {
   "cell_type": "code",
   "execution_count": 2,
   "metadata": {},
   "outputs": [],
   "source": [
    "%load_ext autoreload\n",
    "%autoreload 2\n",
    "from collections import defaultdict, Counter\n",
    "import collections\n",
    "import pprint\n",
    "import math\n",
    "import bz2\n",
    "from ngram import *\n",
    "import sys, string\n",
    "import copy\n",
    "import pickle\n",
    "from joblib import Parallel, delayed\n",
    "import itertools\n",
    "pp = pprint.PrettyPrinter(width=45, compact=True)"
   ]
  },
  {
   "cell_type": "markdown",
   "metadata": {},
   "source": [
    "First let us read in the cipher text from the `data` directory:"
   ]
  },
  {
   "cell_type": "code",
   "execution_count": 13,
   "metadata": {},
   "outputs": [],
   "source": [
    "def read_file(filename):\n",
    "    if filename[-4:] == \".bz2\":\n",
    "        with bz2.open(filename, 'rt', encoding='utf8') as f:\n",
    "            content = f.read()\n",
    "            f.close()\n",
    "    else:\n",
    "        with open(filename, 'r', encoding='utf8') as f:\n",
    "            content = f.read()\n",
    "            f.close()\n",
    "    return content\n",
    "\n",
    "cipher = read_file(\"data/cipher.txt\")\n",
    "# print(cipher)"
   ]
  },
  {
   "cell_type": "markdown",
   "metadata": {},
   "source": [
    "For the default solution we need to compute statistics like length, number of symbols/letters, \n",
    "unique occurences, frequencies and relative frequencies of a given file. This is done in the function `get_statistics` below.\n",
    "\n",
    "While using `get_statistics`, make sure that `cipher=True` is set when the input is a ciphertext."
   ]
  },
  {
   "cell_type": "code",
   "execution_count": 14,
   "metadata": {},
   "outputs": [],
   "source": [
    "def get_statistics(content, cipher=True):\n",
    "    stats = {}\n",
    "    content = list(content)\n",
    "    split_content = [x for x in content if x != '\\n' and x!=' ']\n",
    "    length = len(split_content)\n",
    "    symbols = set(split_content)\n",
    "    uniq_sym = len(list(symbols))\n",
    "    freq = collections.Counter(split_content)\n",
    "    rel_freq = {}\n",
    "    for sym, frequency in freq.items():\n",
    "        rel_freq[sym] = (frequency/length)*100\n",
    "        \n",
    "    if cipher:\n",
    "        stats = {'content':split_content, 'length':length, 'vocab':list(symbols), 'vocab_length':uniq_sym, 'frequencies':freq, 'relative_freq':rel_freq}\n",
    "    else:\n",
    "        stats = {'length':length, 'vocab':list(symbols), 'vocab_length':uniq_sym, 'frequencies':freq, 'relative_freq':rel_freq}\n",
    "    return stats"
   ]
  },
  {
   "cell_type": "code",
   "execution_count": 15,
   "metadata": {},
   "outputs": [],
   "source": [
    "def read_gold(gold_file):\n",
    "    with open(gold_file) as f:\n",
    "        gold = f.read()\n",
    "    f.close()\n",
    "    gold = list(gold.strip())\n",
    "    return gold\n",
    "\n",
    "def symbol_error_rate(dec, _gold):\n",
    "    gold = read_gold(_gold)\n",
    "    correct = 0\n",
    "    if len(gold) == len(dec):\n",
    "        for (d,g) in zip(dec, gold):\n",
    "            if d==g:\n",
    "                correct += 1\n",
    "    wrong = len(gold)-correct\n",
    "    error = wrong/len(gold)\n",
    "    \n",
    "    return error"
   ]
  },
  {
   "cell_type": "code",
   "execution_count": 16,
   "metadata": {
    "scrolled": true
   },
   "outputs": [],
   "source": [
    "cipher_desc = get_statistics(cipher, cipher=True)\n",
    "plaintxt = read_file(\"data/default.wiki.txt.bz2\")\n",
    "plaintxt_desc = get_statistics(plaintxt, cipher=False)\n",
    "#pp.pprint(cipher_desc)"
   ]
  },
  {
   "cell_type": "markdown",
   "metadata": {},
   "source": [
    "## Load the 6-gram model"
   ]
  },
  {
   "cell_type": "code",
   "execution_count": 17,
   "metadata": {},
   "outputs": [
    {
     "name": "stderr",
     "output_type": "stream",
     "text": [
      "Reading language model from data/6-gram-wiki-char.lm.bz2...\n"
     ]
    },
    {
     "name": "stdout",
     "output_type": "stream",
     "text": [
      "Wall time: 1min 30s\n"
     ]
    },
    {
     "name": "stderr",
     "output_type": "stream",
     "text": [
      "Done.\n"
     ]
    }
   ],
   "source": [
    "%%time\n",
    "sequence = 'In a few cases, a multilingual artifact has been necessary to facilitate decipherment, the Rosetta Stone being the classic example. Statistical techniques provide another pathway to decipherment, as does the analysis of modern languages derived from ancient languages in which undeciphered texts are written. Archaeological and historical information is helpful in verifying hypothesized decipherments.'\n",
    "\n",
    "# lm = LM(\"data/6-gram-wiki-char.lm.bz2\", n=6, verbose=True)\n",
    "lm = LM(\"data/6-gram-wiki-char.lm.bz2\", n=6, verbose=False)"
   ]
  },
  {
   "cell_type": "code",
   "execution_count": 32,
   "metadata": {},
   "outputs": [
    {
     "name": "stdout",
     "output_type": "stream",
     "text": [
      "-2.545382\n"
     ]
    }
   ],
   "source": [
    "# print(sequence)\n",
    "# lm_logprob = lm.score_seq(sequence)\n",
    "# print(\"TOTAL LM LOGPROB: {}\".format(lm_logprob), file=sys.stderr)\n",
    "# print(\"TOTAL LM LOGPROB: {}\".format(lm.score_seq('this is the text.')), file=sys.stderr)\n",
    "# print(lm.get_bitstring_spans('..oo...ooo..'))\n",
    "# print(lm.score_bitstring('thisisatest', 'ooooooooooo'))\n",
    "print(lm.score_bitstring('thisisatest', '...........'))"
   ]
  },
  {
   "cell_type": "markdown",
   "metadata": {},
   "source": [
    "## Implementation for Reference 3 to find the optimal extension order"
   ]
  },
  {
   "cell_type": "markdown",
   "metadata": {},
   "source": [
    "This is the implementation of the reference 'Beam Search for Solving Substitution Ciphers'. The goal is to find the best extension order. As the paper mentioned, it is important to find a set of weights for the ngram order. I chose the weights \\[1,1,1,1,2,3\\] suggested by Anoop in a discussion post. I also tried several sets of weights. For beamsize of 10000, the result was not influenced quite much."
   ]
  },
  {
   "cell_type": "code",
   "execution_count": 19,
   "metadata": {},
   "outputs": [],
   "source": [
    "def find_sharp_n(cipher_desc, symbols_found, n_order):\n",
    "    '''\n",
    "    finds the #n for order n_order\n",
    "    cipher_desc -- cipher statistics\n",
    "    symbols_found -- list of single character string,\n",
    "                     specifies the list of symbols have been placed in the extention order\n",
    "    n_order -- int, specifies the order of n-gram\n",
    "    '''\n",
    "    sharp_n = 0\n",
    "    for i in range(len(cipher_desc['content'])-n_order+1):\n",
    "        for j in range(i, i+n_order, 1):\n",
    "            if cipher_desc['content'][j] not in symbols_found:\n",
    "                break\n",
    "            if j == (i+n_order-1):\n",
    "                sharp_n += 1\n",
    "                #print(cipher_desc['content'][i:i+n_order])\n",
    "    return sharp_n            "
   ]
  },
  {
   "cell_type": "markdown",
   "metadata": {},
   "source": [
    "This is used to test the find_sharp_n function above. The results should be correct."
   ]
  },
  {
   "cell_type": "code",
   "execution_count": 20,
   "metadata": {},
   "outputs": [],
   "source": [
    "# test_str = 'ASCREAMINGCOMESACROSSTHESKY'\n",
    "# print(find_sharp_n(get_statistics(test_str), ['A','G','H','K','Y'],6))\n",
    "# find_sharp_n(get_statistics(test_str), ['S','C','E','M','O'],2)"
   ]
  },
  {
   "cell_type": "markdown",
   "metadata": {},
   "source": [
    "Use a beam search to find the optimal extension order. The code below is pretty similar to the beam_search function. Most of the code is copied from it. For simplicity, the variable name might not quite make sense."
   ]
  },
  {
   "cell_type": "code",
   "execution_count": 21,
   "metadata": {},
   "outputs": [],
   "source": [
    "def find_ext_order(cipher_desc, topn=100, weights=[1,1,1,1,2,3]):\n",
    "    '''\n",
    "    finds the best order of deciphering cipher symbols (find best extention order)\n",
    "    cipher_desc -- cipher statistics\n",
    "    topn -- int, number of best trees we want to keep during iteration\n",
    "    weights -- list of int, weight for #n, n varies from 1 to 6\n",
    "    '''\n",
    "    # symbols already found with score\n",
    "    Hs = [([], 0)]\n",
    "    # hypothesis extended symbols with score\n",
    "    Ht = []\n",
    "    # initialize the cardinality (number of unique cipher text)\n",
    "    cardinality = 0\n",
    "    # if no weight is specified for unigram, use the most frequent symbol as the starting point\n",
    "    if weights[0] == 0:\n",
    "        cardinality += 1\n",
    "        Hs.append(([sorted(cipher_desc['frequencies'], key=cipher_desc['frequencies'].get, reverse=True)[0]], 0))\n",
    "    # list of cipher symbols\n",
    "    Ve = sorted(cipher_desc['frequencies'], key=cipher_desc['frequencies'].get, reverse=True)\n",
    "    while cardinality < cipher_desc['vocab_length']:\n",
    "        for phi, previous_score in Hs:\n",
    "            for e in Ve:\n",
    "                phi_prime = copy.deepcopy(phi)\n",
    "                if e in phi_prime:\n",
    "                    continue\n",
    "                else:\n",
    "                    phi_prime.append(e)\n",
    "                    this_score = 0\n",
    "                    for i in range(len(weights)):\n",
    "                        this_score += weights[i]*find_sharp_n(cipher_desc, phi_prime, i+1)\n",
    "                    Ht.append((phi_prime, this_score))\n",
    "        # prune the histogram\n",
    "        Ht = sorted(Ht, key=lambda x:x[1], reverse=True)[:topn]                    \n",
    "        cardinality += 1\n",
    "        Hs = copy.deepcopy(Ht)\n",
    "        Ht.clear()\n",
    "        #print('Done with symbol number', cardinality, '; Current best score: ', Hs[0][1])\n",
    "        #print('Hs', Hs)\n",
    "    return sorted(Hs, key=lambda x:x[1], reverse=True)"
   ]
  },
  {
   "cell_type": "code",
   "execution_count": null,
   "metadata": {},
   "outputs": [],
   "source": [
    "%%time\n",
    "ext_orders = find_ext_order(cipher_desc, topn=200, weights=[1,1,1,1,2,3])"
   ]
  },
  {
   "cell_type": "code",
   "execution_count": 85,
   "metadata": {},
   "outputs": [
    {
     "name": "stdout",
     "output_type": "stream",
     "text": [
      "['B', '∑', 'º', '∫', 'P', 'A', '/', 'Z', '∆',\n",
      " 'u', 'R', 'O', 'À', 'V', '–', 'W', '√', 'I',\n",
      " '•', 'X', '≈', '—', 'µ', '∞', 'E', 'π', 'H',\n",
      " 'F', '+', '“', 'Q', 'G', 'y', 'æ', 'K', 'D',\n",
      " '£', 'M', 'Ç', 'J', '∏', 'T', 'ƒ', '\\\\',\n",
      " 'L', '‘', '^', 'Ã', 'S', 'N', '¢', '§', 'Ω',\n",
      " 'j']\n"
     ]
    }
   ],
   "source": [
    "ext_order = ext_orders[0][0]\n",
    "pp.pprint(ext_order)"
   ]
  },
  {
   "cell_type": "code",
   "execution_count": null,
   "metadata": {},
   "outputs": [],
   "source": [
    "# with open('ext_order.pkl', 'wb') as fh:\n",
    "#     pickle.dump(ext_orders, fh)"
   ]
  },
  {
   "cell_type": "code",
   "execution_count": 39,
   "metadata": {},
   "outputs": [],
   "source": [
    "# with open('ext_order.pkl', 'rb') as fh:\n",
    "#     ext_order = pickle.load(fh, encoding='utf8')[0][0]"
   ]
  },
  {
   "cell_type": "markdown",
   "metadata": {},
   "source": [
    "## Gold"
   ]
  },
  {
   "cell_type": "markdown",
   "metadata": {},
   "source": [
    "In this section, we investigate what is the ground truth mapping relationship of Zodiac cipher. The goal is to get some sense of how good or bad our extension order is. If the correct answer has been pruned out at a very early stage, it is not quite possible that the text can be fully deciphered since the following score is computed based on a wrong partial deciphered text."
   ]
  },
  {
   "cell_type": "markdown",
   "metadata": {},
   "source": [
    "We tried several sets of weights to get different extension order results. An interesting finding is that the score is always quite bad at the beginning. This significantly increases the possiblity of pruning the correct mapping. When we tried different extension orders, what we were looking for was an order that the score of the correct answer can be pretty decent at the first 5 or 6 iterations."
   ]
  },
  {
   "cell_type": "code",
   "execution_count": 13,
   "metadata": {},
   "outputs": [
    {
     "name": "stdout",
     "output_type": "stream",
     "text": [
      "ilikekillingpeoplebecauseitissomuchfunitismorefunthankillingwildgameintheforrestbecausemanisthemostdangeroueanamalofalltokillsomethinggivesmethemostthrillingexperenceitisevenbetterthangettingyourrocksoffwithagirlthebestpartofitisthaewhenidieiwillbereborninparadicesndalltheihavekilledwillbecomemyslavesiwillnotgiveyoumynamebecauseyouwilltrytosloidownorstopmycollectiogofslavesformyafterlifeebeorietemethhpiti\n",
      "score -359.0030393831197\n",
      "408\n"
     ]
    }
   ],
   "source": [
    "with open('data/_ref_Zodiac_408.txt', 'r') as fh:\n",
    "    ground_truth = fh.read()\n",
    "print(ground_truth)\n",
    "print('score', lm.score_seq(ground_truth))\n",
    "print(len(ground_truth))"
   ]
  },
  {
   "cell_type": "code",
   "execution_count": 14,
   "metadata": {
    "scrolled": true
   },
   "outputs": [],
   "source": [
    "gold = read_gold('data/_ref_Zodiac_408.txt')\n",
    "gold_dict = dict()\n",
    "for index in range(len(cipher_desc['content'])):\n",
    "    cipher_char = cipher_desc['content'][index]\n",
    "    if cipher_char not in gold_dict.keys():\n",
    "        gold_dict[cipher_char] = gold[index]"
   ]
  },
  {
   "cell_type": "code",
   "execution_count": 78,
   "metadata": {
    "scrolled": true
   },
   "outputs": [
    {
     "name": "stdout",
     "output_type": "stream",
     "text": [
      "Iteration 1, symbol —, score: -27.947701999999992\n",
      "_______________________________m__________m_______________________m____________________m_______m_______________m_______________m___________m____m___________________________________________________________________________________________________________________________________________________m_m______________________m___m__________________________________m______________________m___________________m________\n",
      "Iteration 2, symbol W, score: -35.263433599999985\n",
      "_________________e_____________m__________m_______________________m______________e_____m_______m_______________m_______________m___________m___em______________________________e_______________________________________________________________________e____________________________________________mem______________________m___me_________________________________m______________________m_________e______e__m________\n",
      "Iteration 3, symbol V, score: -50.47579350000001\n",
      "_________________eb____________m__________m_______________________m_____________be_____m_______m_______________m_______________m___________m___em_____________________________be_______________________________________b______________________________be__b_____________________________________b___mem______________________m___meb________________________________m______________________m_________e_b____e__m________\n",
      "Iteration 4, symbol B, score: -67.13967230000002\n",
      "_______l________leb____________m__________m_____________l_________m_____________be_____m_______m_______________m_l____l_____l__m___________m___em________l____________________be_______________________________________b_____________________________lbe__b____________________________________lb___mem__________l___________m___meb___________________l____________m______________________m______l__e_b____e__m________\n",
      "Iteration 5, symbol ∑, score: -77.1500155\n",
      "_______l________leb____________m__________m____________ll_________m_____________be_____m_______m_______________m_l___ll____ll__m___________m___em_______ll____________________be_______________________________________b____________________________llbe__b___________________________________llb___mem__l_______l___________m___meb____________l______l____________m___ll_________________m______l__e_b____e__m________\n",
      "Iteration 6, symbol º, score: -91.37590659999996\n",
      "i______l________leb______i_____m__________m___________ill_________m_____________be_____m__i____m_______________m_l___ll____ll__m___________m___em______ill____________________be____________i__________________________b___________i_______________illbe__b____________________________i______llb___mem__l____i_il___________m___meb__________i_l______l_i__________m___ll_________________m______l__e_b___ie__m________\n",
      "Iteration 7, symbol P, score: -101.02825379999996\n",
      "i_i____l________leb______i_i___m__________m___________illi________m_____________be_____m__i____m_______________m_l___ll___ill__m___________m___em______illi___________________be____________i_______________i__________b___________i_________i_____illbe__b___i________________________i_____illb___mem__l____i_il___________m___meb__________i_l______l_i__________m___ll___i_____________m______li_e_b___ie__m________\n",
      "Iteration 8, symbol A, score: -111.49115059999994\n",
      "i_i____l________leb______i_i___m__________m___________illi__w_____m_____________be_____m__i____m_______________m_l___ll___ill__m___________m___em______illi___________________be____________i______________wi__________b___________i_____w___i____willbe__b___i________________________i____willb___mem__l____iwil___________m___meb_________wi_l______l_i__w_______m___ll___i_____________m______li_e_b___ie__m________\n",
      "Iteration 9, symbol ∫, score: -122.84366503999995\n",
      "ili____ll_______leb______i_i___m__________m___________illi__w_l___m_____________be_____m__i____m_______________m_l___ll___ill__m___________m___em______illi___________________be____________i______________wi______l___b___________i_____w___i____willbe__b___i_____________ll_________ill__willb___mem__l____iwill__________m___meb_________will______l_i__w_______m___ll___i_____l_______m______li_e_b___ie__m________\n",
      "Iteration 10, symbol O, score: -129.6865805399999\n",
      "ili____ll_n_____leb______i_i___m__________m___________illin_w_l___m_____________be_____m__i____m_____________n_m_l___ll___ill__m___________m___em______illi__________________nbe____________i______________wi______l___b___________i_____w___i____willbe__b__ni_____________ll_________ill__willb___mem__l____iwilln_________m___meb_________will______l_i__w_______m___ll___in____l_______m______li_e_b___ie__m________\n",
      "Iteration 11, symbol R, score: -146.50166513999994\n",
      "ili____ll_ng____leb______i_i___m__________m___________illingw_l_g_m_____________be_____m__i____m______g______n_m_l___ll___ill__m_____gg____m___em______illi_g________________nbe________g___i_g____________wi___g__l___b___________i_____w___i____willbe__b__ni_____________ll_________ill__willb___mem__l____iwilln__g______m___meb_________will______l_i__w_______m___ll___ing___l_______m______li_e_b___ie__m________\n",
      "Iteration 12, symbol À, score: -156.48611308\n",
      "ili____lling____leb______i_i___m________i_m___________illingw_l_g_m_i___________be_____m__i____m______g______n_m_l___ll___ill__m_____ggi___m___em______illi_g___________i____nbe________g___i_g____________wi___g__l___b_________i_i_____w___i___iwillbe__b__ni_____________ll___i_____ill__willb___mem__l____iwilln__g______m___meb_________will______l_i__w_______m___ll___ing___l_______m______li_e_b___ie__m_______i\n",
      "Iteration 13, symbol u, score: -166.25580878000005\n",
      "ili___illing____leb______i_i___m______i_i_m___________illingwil_g_m_i___________be_____m__i____m______g______n_m_l___ll___ill__m___i_ggi___m___em______illi_g_________i_i____nbe________g___i_g____________wi___gi_l___b_________i_i_____w___i_i_iwillbe__b__ni______i______ll___i_____ill__willb___mem__l____iwilln__gi_____m___meb_________will______l_i__w_______m___ll___ing___l_______m______li_e_b___ie__m_____i_i\n",
      "Iteration 14, symbol /, score: -171.87290984000003\n",
      "ilik_killing____leb______i_i___m______i_i_m__________killingwil_g_m_i___________be_____m__i____m______g______n_m_l___ll__kill__m___i_ggi___m___em______illi_g_________i_i____nbe________g___i_g_______k____wi___gi_l___b_________i_i_____w___i_i_iwillbe__b__ni______i______ll___i____kill__willb___mem__l____iwilln__gi_____m___meb_________will______l_i__w_______m___ll___ing___l_______m______li_e_b___ie__m_____i_i\n",
      "Iteration 15, symbol Z, score: -176.84445039000002\n",
      "ilikekilling____leb______i_i___m______i_i_m__________killingwil_g_m_i___e_______be_____m__i____m______g______n_m_l___ll__kill__m___i_ggi_e_m___em______illi_g_________i_i_e__nbe________g___i_g_______k____wi___gi_l___b_________i_i_____w_e_i_i_iwillbe__b__ni______i______ll___i____kille_willb___mem__l____iwilln__gi_____m___mebe________will______l_i__w_______m___ll___ing___l__e____m______li_e_b___ie__m_____i_i\n",
      "Iteration 16, symbol ∆, score: -178.34000801000002\n",
      "ilikekilling____leb______i_i___m______i_i_m__________killingwildg_m_i___e_______be_____m__i____m______g______n_m_l___ll__kill__m___i_ggi_e_m___em______illi_g_________i_i_e__nbe________g___i_g_______k____wi___gi_l___b_________i_i_____w_e_i_i_iwillbe__b__ni_____di______ll___i____killedwillb___mem__l____iwilln__gi_____m___mebe________will______l_i__w_______m___ll___ing___l__e____m______li_e_b___ie__m_____i_i\n",
      "Iteration 17, symbol –, score: -183.30788717300004\n",
      "ilikekilling_e__leb______i_i___m______i_i_m__________killingwildg_m_i___e____e__be_____m__i____m______g______n_m_l___ll__kill__m___i_ggi_e_me__em______illi_g_________i_i_e_enbe________g___i_g_______k____wi___gi_l___b_________i_i_____w_e_i_ieiwillbe__b__ni_____di______ll___i____killedwillbe__mem__l____iwilln__gi_____m___mebe________will______l_i__w_______m___ll___ing___l__e____m______li_e_b___ie__m_____i_i\n",
      "Iteration 18, symbol I, score: -194.751772273\n",
      "ilikekilling_e__leb______i_i___m______iti_m__________killingwildg_m_i___e____e__be_____m__i_t__m______g__t___n_m_l___ll__kill__m___i_ggi_e_met_em______illi_g_________i_i_e_enbet_______g__ti_g_______k____wi___gi_l___b______t__i_i_____w_e_i_ieiwillbe__b__ni_____di______llt__i____killedwillbe__mem__l____iwilln__gi_____m___mebe________will______l_i__w_______m___ll___ing___l__e____m___t__li_e_b___iet_m_____iti\n",
      "Iteration 19, symbol √, score: -201.30703278299993\n",
      "ilikekilling_e__leb______i_i___m______iti_m__________killingwildg_m_i___e____e__be_____m__i_t__m______g__t___n_m_l___ll__kill__m___i_ggive_met_em______illi_g_________i_i_evenbet_______g__ti_g_______k____wi___gi_l___b______t__i_i_____w_e_i_ieiwillbe__b__ni_____di______llt__i__v_killedwillbe__mem__l_v__iwilln__giv____m___mebe________will______l_i__w_______m___ll___ing___l_ve____m___t__li_e_b___iet_m_____iti\n",
      "Iteration 20, symbol E, score: -208.02088518299993\n",
      "ilikekilling_e__leb______i_i___m______iti_m__________killingwildg_mei___e____e__be_____m__i_t__m______g__t_e_n_m_l___ll__kill__me__i_ggive_met_em______illi_g________ei_i_evenbet_______g__ti_g_______k____wi___gi_l___be_____t__i_i_____w_e_i_ieiwillbe__b__ni_____di______llt__i__vekilledwillbe__mem__l_v__iwilln__giv____m___mebe____e___will______l_i__w_______m___ll___ing___l_ve____m___t__li_e_be__iet_me____iti\n",
      "Iteration 21, symbol K, score: -213.38474568299995\n",
      "ilikekilling_e__leb______i_i_s_m______iti_m__________killingwildg_mei___e____e__be_____m__ist__m______g__t_e_n_m_l___ll__kill__me__i_ggivesmet_em______illi_g________ei_i_evenbet_______g__ti_g_______k____wi___gi_l___bes____t__i_i_____w_e_i_ieiwillbe__b__ni_____di______llt__i__vekilledwillbe__mem__l_v__iwilln__giv____m___mebe___se___will______l_i__w_______m___ll___ing___l_ve____m___t__li_e_be__iet_me____iti\n",
      "Iteration 22, symbol ∞, score: -222.78213128299993\n",
      "ilikekilling_e__leb_____ei_i_s_m______iti_m__________killingwildg_mei___e____e__be_____m__ist_em______g__t_e_n_m_l___ll__kill__me__i_ggivesmet_em______illi_g___e____ei_i_evenbet_______ge_ti_g_______k____wi___gi_l___bes____t__i_i_____w_e_i_ieiwillbe__b__ni_____di_e____llt__i__vekilledwillbe__mem__l_v__iwilln__giv____m___mebe___se___will______l_i__w_______m___lle__ing___l_ve____m___t__li_eebe__ieteme____iti\n",
      "Iteration 23, symbol H, score: -229.443036483\n",
      "ilikekilling_e__leb_____eiti_s_m______iti_m__________killingwildg_mei___e____e_tbe_____m__ist_em______g__t_e_n_m_l___ll__kill__met_i_ggivesmet_em______illi_g___e____eiti_evenbet_______getti_g_______k____wi___gi_l___best___t__i_i_____w_e_i_ieiwillbe__b__ni_____di_e____llt__i__vekilledwillbe__mem__l_v__iwilln__giv____m___mebe___se___will___t__l_i__w_______m___lle__ing___l_ve____m___t__li_eebe__ietemet___iti\n",
      "Iteration 24, symbol F, score: -235.36915798299995\n",
      "ilikekilling_e__leb____seiti_s_m______iti_m__________killingwildg_mei___e____estbe_____m__ist_em______g__t_e_n_m_l___ll__kill__met_i_ggivesmet_em______illi_g___e____eitisevenbet_______getti_g_______k____wi___gi_l___best___t__i_i_____w_e_i_ieiwillbe__b__ni_____di_e____llt__i__vekilledwillbe__mem_sl_v__iwilln__giv____m___mebe___se___will___t_sl_i__w_______m___lle__ing__sl_ve____m___t__li_eebe__ietemet___iti\n",
      "Iteration 25, symbol ≈, score: -247.00115014299988\n",
      "ilikekilling_e__leb_c__seiti_s_m_c____iti_m__________killingwildg_mei___e____estbec____m__ist_em______g__t_e_n_m_l___ll__kill__met_i_ggivesmet_em______illi_g___e___ceitisevenbet_______getti_g______ck____wi___gi_l___best___t__i_i_____w_e_i_ieiwillbe__b__ni_____dice____llt__i__vekilledwillbec_mem_sl_v__iwilln__giv____m___mebec__se___will___t_sl_i__w_______m_c_llec_ing__sl_ve____m___t__li_eebe__ietemet___iti\n",
      "Iteration 26, symbol X, score: -255.91136454299982\n",
      "ilikekilling_eo_leb_c__seiti_s_m_c____iti_m__________killingwildg_mei___e____estbec____m__ist_emo_____g__t_e_n_m_l___ll__kill_omet_i_ggivesmet_em______illi_g___e___ceitisevenbet_______getti_g______ck_o__wi___gi_l___best___t__i_i_____w_e_i_ieiwillbe__b__ni_____dice____llt__i__vekilledwillbecomem_sl_v__iwilln__giv____m___mebec__se___will___t_sloi_ow_______m_c_llec_ingo_sl_ve____m___t__li_eebeo_ietemet___iti\n",
      "Iteration 27, symbol •, score: -263.8830369621799\n",
      "ilikekillingpeopleb_c__seiti_s_m_c____iti_m__________killingwildg_mei___e____estbec____m__ist_emo_____g__t_e_n_m_l___ll__kill_omet_i_ggivesmet_em______illi_g__pe___ceitisevenbet_______getti_g______ck_o__wi___gi_l___bestp__t__i_i_____w_e_i_ieiwillbe__b__ni_p___dice____llt__i__vekilledwillbecomem_sl_v__iwilln__giv____m___mebec__se___will___t_sloi_ow______pm_c_llec_ingo_sl_ve____m___t__li_eebeo_ietemet__piti\n",
      "Iteration 28, symbol π, score: -267.56084307117993\n",
      "ilikekillingpeopleb_c__seitiss_m_c____iti_m__________killingwildg_mei___e____estbec__s_m__ist_emo_____g__t_e_n_m_l___ll__killsomet_i_ggivesmet_em______illi_g__pe___ceitisevenbet_______getti_g______ckso__wi___gi_l___bestp__t__i_i_____w_e_i_ieiwillbe__b__ni_p___dice____llt__i__vekilledwillbecomem_sl_v_siwilln__giv____m___mebec__se___will___t_sloi_ow______pm_c_llec_ingo_sl_ves___m___t__li_eebeo_ietemet__piti\n",
      "Iteration 29, symbol £, score: -277.39620294117987\n",
      "ilikekillingpeopleb_c__seitiss_m_c____iti_m_______h__killingwildg_mei___e____estbec__s_m__isthemo_____g__t_e_n_m_l___ll__killsomet_i_ggivesmethem______illi_g__pe___ceitisevenbet____h__getti_g______ckso__wi___gi_l_h_bestp__t__i_i_____whe_i_ieiwillbe__b__ni_p___dice____llt__ih_vekilledwillbecomem_sl_v_siwilln__giv____m___mebec__se___will___t_sloi_ow______pm_c_llec_ingo_sl_ves___m___t__li_eebeo_ietemet_hpiti\n",
      "Iteration 30, symbol M, score: -286.29387020117997\n",
      "ilikekillingpeopleb_c__seitiss_m_ch___iti_m_______h__killingwildg_mei__he____estbec__s_m__isthemo_____g__t_e_n_m_l___ll__killsomethi_ggivesmethem____h_illi_g__pe___ceitisevenbet____h__getti_g______ckso__wi_h_gi_l_h_bestp__t__i_i__h__whe_i_ieiwillbe__b__ni_p___dice____llth_ih_vekilledwillbecomem_sl_v_siwilln__giv____m___mebec__se___will___t_sloi_ow______pm_c_llec_ingo_sl_ves___m___t__li_eebeo_ietemethhpiti\n",
      "Iteration 31, symbol µ, score: -289.12991442118\n",
      "ilikekillingpeopleb_c__seitiss_m_ch___iti_m______th__killingwildg_mei__he____estbec__s_m__isthemo_t___g__t_e_n_m_l___ll__killsomethi_ggivesmethem__t_h_illi_g__pe___ceitisevenbett___h__getti_g______ckso__with_gi_l_h_bestp__t__iti__h__whe_i_ieiwillbe__b__ni_p___dice____llth_ih_vekilledwillbecomem_sl_v_siwilln_tgiv____m___mebec__se___will___t_sloi_ow______pm_c_llectingo_sl_ves___m___t__li_eebeo_ietemethhpiti\n",
      "Iteration 32, symbol æ, score: -295.22033872118004\n",
      "ilikekillingpeopleb_c__seitiss_m_ch___iti_m______th__killingwildg_mei__he____estbeca_s_m__isthemoat___g__t_e_nam_l___ll__killsomethi_ggivesmethem_at_h_illi_g__pe___ceitisevenbett___h__getti_g______ckso__withagi_l_h_bestp__t__itia_h__whe_i_ieiwillbe__b__ni_p___dice____llth_ih_vekilledwillbecomem_slav_siwilln_tgiv____m___mebec__se___will___t_sloi_ow______pm_c_llectingo_sl_ves___m_a_t__li_eebeo_ietemethhpiti\n",
      "Iteration 33, symbol +, score: -297.6277817911801\n",
      "ilikekillingpeoplebec__seitiss_m_ch___iti_m______th__killingwildg_mei__he____estbeca_sem__isthemoat___g__t_e_nam_l___ll__killsomethi_ggivesmethem_at_h_illi_ge_pe___ceitisevenbette__h__getti_g______ckso__withagi_l_h_bestp__t__itia_h__whe_i_ieiwillbe_eb__ni_p___dice____llth_ih_vekilledwillbecomem_slavesiwilln_tgive___m___mebec__se___will___t_sloi_ow______pm_c_llectingo_sl_ves___m_a_te_li_eebeo_ietemethhpiti\n",
      "Iteration 34, symbol G, score: -299.74783359118004\n",
      "ilikekillingpeoplebeca_seitiss_m_ch___iti_m______th__killingwildg_mei__he____estbeca_sema_isthemoat___g__t_e_namal___ll__killsomethi_ggivesmethem_at_h_illi_ge_pe___ceitisevenbette__h__getti_g______ckso__withagi_l_h_bestpa_t__itia_h__whe_i_ieiwillbe_eb__ni_p___dice___allth_ih_vekilledwillbecomem_slavesiwilln_tgive___m___mebeca_se___will___t_sloi_ow______pm_c_llectingo_slaves___m_a_te_li_eebeo_ietemethhpiti\n",
      "Iteration 35, symbol y, score: -304.23238248117997\n"
     ]
    },
    {
     "name": "stdout",
     "output_type": "stream",
     "text": [
      "ilikekillingpeoplebecauseitiss_much_u_iti_m____u_th__killingwildg_mei__he____estbecausema_isthemoat___g__tue_namal___ll__killsomethi_ggivesmethem_at_h_illi_ge_pe___ceitisevenbette__h__getti_g__u___ckso__withagi_l_h_bestpa_t__itia_h__whe_i_ieiwillbe_eb__ni_p___dice___allth_ih_vekilledwillbecomem_slavesiwilln_tgive__um___mebecause__uwill___t_sloi_ow______pm_c_llectingo_slaves___m_a_te_li_eebeo_ietemethhpiti\n",
      "Iteration 36, symbol D, score: -307.20249010118005\n",
      "ilikekillingpeoplebecauseitiss_much_u_iti_m____unth__killingwildg_mei__he____estbecausemanisthemoat___g__tue_namal___ll__killsomethi_ggivesmethem_at_h_illinge_pe___ceitisevenbette__h__getting__u___ckso__withagi_l_h_bestpa_t__itia_h__whe_i_ieiwillbe_eb__ni_p___dice_n_allth_ih_vekilledwillbecomem_slavesiwilln_tgive__um___mebecause__uwill___t_sloi_own_____pm_c_llectingo_slaves___m_a_te_li_eebeo_ietemethhpiti\n",
      "Iteration 37, symbol “, score: -314.37140528118\n",
      "ilikekillingpeoplebecauseitiss_much_u_iti_m____unth__killingwildg_mei__he__r_estbecausemanisthemoat___g__tue_namal___ll__killsomethi_ggivesmethem_at_hrillinge_pe___ceitisevenbette__h__getting__ur__ckso__withagi_l_h_bestpart__itia_h__whe_i_ieiwillbe_eb__ni_p_r_dice_n_allth_ih_vekilledwillbecomem_slavesiwilln_tgive__um___mebecause__uwill___t_sloi_own_____pm_c_llectingo_slaves___m_a_terli_eebeorietemethhpiti\n",
      "Iteration 38, symbol Ç, score: -316.5767645494801\n",
      "ilikekillingpeoplebecauseitissomuch_u_iti_m____unth__killingwildg_mei__he__r_estbecausemanisthemoat___g__tue_namal___ll__killsomethi_ggivesmethemoat_hrillinge_pe___ceitisevenbette__h__getting__ur__ckso__withagi_l_h_bestparto_itia_h__whe_i_ieiwillbe_eb__ni_p_r_dice_n_allth_ih_vekilledwillbecomem_slavesiwilln_tgive__um___mebecause__uwill___tosloi_own____opm_c_llectingo_slaves___m_a_terli_eebeorietemethhpiti\n",
      "Iteration 39, symbol ∏, score: -334.55569793948\n",
      "ilikekillingpeoplebecauseitissomuch_u_iti_m____unth__killingwildg_mei__he__r_estbecausemanisthemoat___g__tue_namal___ll__killsomethi_ggivesmethemoat_hrillinge_pe___ceitisevenbette__h__gettingy_ur__ckso__withagi_l_h_bestparto_itia_h__whe_i_ieiwillbe_eb__ni_p_r_dice_n_allth_ih_vekilledwillbecomemyslavesiwilln_tgivey_umy__mebecausey_uwill__ytosloi_own____opmyc_llectingo_slaves___mya_terli_eebeorietemethhpiti\n",
      "Iteration 40, symbol T, score: -331.44875790048\n",
      "ilikekillingpeoplebecauseitissomuch_u_iti_mo___unth__killingwildg_mei__he__r_estbecausemanisthemoat___g__tue_namalo__ll__killsomethi_ggivesmethemoat_hrillinge_pe___ceitisevenbette__h__gettingyour__ckso__withagi_l_h_bestparto_itia_h__whe_i_ieiwillbe_ebo_ni_p_r_dice_n_allth_ih_vekilledwillbecomemyslavesiwillnotgivey_umy__mebecauseyouwill__ytosloi_own____opmyc_llectingo_slaves_o_mya_terli_eebeorietemethhpiti\n",
      "Iteration 41, symbol J, score: -335.51660963292005\n",
      "ilikekillingpeoplebecauseitissomuchfu_iti_mo___unth__killingwildg_mei__hef_r_estbecausemanisthemoat___g__tue_namalo__ll__killsomethi_ggivesmethemoat_hrillinge_pe___ceitisevenbette__h__gettingyour__cksof_withagi_l_h_bestpartofitia_h__whe_i_ieiwillbe_ebo_ni_p_r_dice_n_allth_ih_vekilledwillbecomemyslavesiwillnotgivey_umy__mebecauseyouwill__ytosloi_own____opmyc_llectingo_slavesfo_myafterli_eebeorietemethhpiti\n",
      "Iteration 42, symbol Q, score: -338.72885163332006\n",
      "ilikekillingpeoplebecauseitissomuchfu_iti_mo__funth__killingwildg_mei__hef_r_estbecausemanisthemoat___g__tue_namalof_ll__killsomethi_ggivesmethemoat_hrillinge_pe___ceitisevenbette__h__gettingyour__cksoffwithagi_l_h_bestpartofitia_h__whe_i_ieiwillbe_ebo_ni_p_r_dice_n_allth_ih_vekilledwillbecomemyslavesiwillnotgivey_umy__mebecauseyouwill__ytosloi_own____opmyc_llectingofslavesfo_myafterlifeebeorietemethhpiti\n",
      "Iteration 43, symbol ƒ, score: -336.80109118711994\n",
      "ilikekillingpeoplebecauseitissomuchfu_iti_mo__funth__killingwildg_mei__hefor_estbecausemanisthemoat___g__tue_namalof_ll_okillsomethi_ggivesmethemoat_hrillinge_pe___ceitisevenbette__h__gettingyour_ocksoffwithagi_l_h_bestpartofitia_h__whe_i_ieiwillbe_ebo_ni_p_r_dice_n_allth_ih_vekilledwillbecomemyslavesiwillnotgiveyoumy__mebecauseyouwill__ytosloi_owno___opmycollectingofslavesfo_myafterlifeebeorietemethhpiti\n",
      "Iteration 44, symbol L, score: -340.99869230711977\n",
      "ilikekillingpeoplebecauseitissomuchfu_iti_mo__funth__killingwildg_mei_thefor_estbecausemanisthemoat___g__tue_namalof_lltokillsomethi_ggivesmethemoatthrillinge_pe___ceitisevenbette_th__gettingyour_ocksoffwithagi_lth_bestpartofitiath__whe_i_ieiwillbe_ebo_ni_p_r_dice_n_allth_ih_vekilledwillbecomemyslavesiwillnotgiveyoumy__mebecauseyouwillt_ytosloi_owno__topmycollectingofslavesfo_myafterlifeebeorietemethhpiti\n",
      "Iteration 45, symbol ‘, score: -339.4283740071197\n",
      "ilikekillingpeoplebecauseitissomuchfu_iti_mor_funth__killingwildg_mei_thefor_estbecausemanisthemoat___g_rtue_namalof_lltokillsomethi_ggivesmethemoatthrillinge_pe___ceitisevenbetterth__gettingyour_ocksoffwithagirlth_bestpartofitiath__whe_i_ieiwillbe_eborni_p_r_dice_n_allth_ih_vekilledwillbecomemyslavesiwillnotgiveyoumy__mebecauseyouwilltrytosloi_owno__topmycollectingofslavesformyafterlifeebeorietemethhpiti\n",
      "Iteration 46, symbol ^, score: -340.19968622711974\n",
      "ilikekillingpeoplebecauseitissomuchfuniti_mor_funth__killingwildg_meinthefor_estbecausemanisthemoat___g_rtue_namalof_lltokillsomethinggivesmethemoatthrillinge_pe___ceitisevenbetterth_ngettingyour_ocksoffwithagirlth_bestpartofitiath__whe_i_ieiwillbe_eborninp_r_dice_n_allth_ih_vekilledwillbecomemyslavesiwillnotgiveyoumyn_mebecauseyouwilltrytosloi_owno__topmycollectingofslavesformyafterlifeebeorietemethhpiti\n",
      "Iteration 47, symbol Ã, score: -342.32718631711964\n",
      "ilikekillingpeoplebecauseitissomuchfuniti_mor_funth__killingwildgameinthefor_estbecausemanisthemoat___g_rtueanamalof_lltokillsomethinggivesmethemoatthrillinge_pe___ceitisevenbetterthangettingyour_ocksoffwithagirlth_bestpartofitiatha_whe_i_ieiwillbe_eborninp_radice_n_allth_ih_vekilledwillbecomemyslavesiwillnotgiveyoumyn_mebecauseyouwilltrytosloi_owno__topmycollectingofslavesformyafterlifeebeorietemethhpiti\n",
      "Iteration 48, symbol S, score: -339.16935598711973\n",
      "ilikekillingpeoplebecauseitissomuchfuniti_mor_funtha_killingwildgameinthefor_estbecausemanisthemoat_a_g_rtueanamalofalltokillsomethinggivesmethemoatthrillinge_pe___ceitisevenbetterthangettingyour_ocksoffwithagirlth_bestpartofitiatha_whe_i_ieiwillbe_eborninparadice_n_allth_ihavekilledwillbecomemyslavesiwillnotgiveyoumynamebecauseyouwilltrytosloi_owno__topmycollectingofslavesformyafterlifeebeorietemethhpiti\n",
      "Iteration 49, symbol N, score: -344.3406750801197\n",
      "ilikekillingpeoplebecauseitissomuchfuniti_morefuntha_killingwildgameinthefor_estbecausemanisthemoat_a_gertueanamalofalltokillsomethinggivesmethemoatthrillinge_pe_e_ceitisevenbetterthangettingyour_ocksoffwithagirlthebestpartofitiathaewhe_i_ieiwillbe_eborninparadice_n_alltheihavekilledwillbecomemyslavesiwillnotgiveyoumynamebecauseyouwilltrytosloi_owno__topmycollectingofslavesformyafterlifeebeorietemethhpiti\n",
      "Iteration 50, symbol \\, score: -348.70242448012\n",
      "ilikekillingpeoplebecauseitissomuchfuniti_morefuntha_killingwildgameintheforrestbecausemanisthemoat_a_gertueanamalofalltokillsomethinggivesmethemoatthrillinge_pere_ceitisevenbetterthangettingyourrocksoffwithagirlthebestpartofitiathaewhe_i_ieiwillbereborninparadice_n_alltheihavekilledwillbecomemyslavesiwillnotgiveyoumynamebecauseyouwilltrytosloi_ownor_topmycollectingofslavesformyafterlifeebeorietemethhpiti\n",
      "Iteration 51, symbol ¢, score: -349.3454667401199\n",
      "ilikekillingpeoplebecauseitissomuchfuniti_morefunthankillingwildgameintheforrestbecausemanisthemoat_angertueanamalofalltokillsomethinggivesmethemoatthrillinge_perenceitisevenbetterthangettingyourrocksoffwithagirlthebestpartofitiathaewheni_ieiwillbereborninparadice_n_alltheihavekilledwillbecomemyslavesiwillnotgiveyoumynamebecauseyouwilltrytosloi_ownor_topmycollectingofslavesformyafterlifeebeorietemethhpiti\n",
      "Iteration 52, symbol §, score: -355.7758263201198\n",
      "ilikekillingpeoplebecauseitissomuchfuniti_morefunthankillingwildgameintheforrestbecausemanisthemoatdangertueanamalofalltokillsomethinggivesmethemoatthrillinge_perenceitisevenbetterthangettingyourrocksoffwithagirlthebestpartofitiathaewhenidieiwillbereborninparadice_ndalltheihavekilledwillbecomemyslavesiwillnotgiveyoumynamebecauseyouwilltrytosloidownor_topmycollectingofslavesformyafterlifeebeorietemethhpiti\n",
      "Iteration 53, symbol Ω, score: -361.3223825331199\n",
      "ilikekillingpeoplebecauseitissomuchfunitismorefunthankillingwildgameintheforrestbecausemanisthemoatdangertueanamalofalltokillsomethinggivesmethemoatthrillinge_perenceitisevenbetterthangettingyourrocksoffwithagirlthebestpartofitiathaewhenidieiwillbereborninparadicesndalltheihavekilledwillbecomemyslavesiwillnotgiveyoumynamebecauseyouwilltrytosloidownorstopmycollectingofslavesformyafterlifeebeorietemethhpiti\n",
      "Iteration 54, symbol j, score: -363.1344102331199\n",
      "ilikekillingpeoplebecauseitissomuchfunitismorefunthankillingwildgameintheforrestbecausemanisthemoatdangertueanamalofalltokillsomethinggivesmethemoatthrillingexperenceitisevenbetterthangettingyourrocksoffwithagirlthebestpartofitiathaewhenidieiwillbereborninparadicesndalltheihavekilledwillbecomemyslavesiwillnotgiveyoumynamebecauseyouwilltrytosloidownorstopmycollectingofslavesformyafterlifeebeorietemethhpiti\n"
     ]
    }
   ],
   "source": [
    "for index in range(1, len(ext_order)+1, 1):\n",
    "    found_symbols = ext_order[:index]\n",
    "    phi_temp = dict()\n",
    "    for key,value in gold_dict.items():\n",
    "        if key in found_symbols:\n",
    "            phi_temp[key] = value\n",
    "    partial_text = ''\n",
    "    bit_string = ''\n",
    "    for cipher_char in cipher_desc['content']:\n",
    "        if cipher_char in phi_temp.keys():\n",
    "            partial_text += phi_temp[cipher_char]\n",
    "            bit_string += 'o'\n",
    "        else:\n",
    "            partial_text += '_'\n",
    "            bit_string += '.'\n",
    "    print(f'Iteration {index}, symbol {ext_order[index-1]}, score: {lm.score_bitstring(partial_text, bit_string)}')\n",
    "    print(partial_text)"
   ]
  },
  {
   "cell_type": "code",
   "execution_count": 16,
   "metadata": {},
   "outputs": [],
   "source": [
    "# for key,value in gold_dict.items():\n",
    "#     freq_cipher = cipher_desc['relative_freq'][key]\n",
    "#     freq_plain = plaintxt_desc['relative_freq'][value]\n",
    "#     print(f'{key} {value}; Cipher char frequence: {freq_cipher}; plaintext char frequency: {freq_plain}')"
   ]
  },
  {
   "cell_type": "code",
   "execution_count": 17,
   "metadata": {
    "scrolled": false
   },
   "outputs": [],
   "source": [
    "# Ve = [chr(i) for i in range(97, 123, 1)]\n",
    "# for e in Ve:\n",
    "#     keys = [k for k, v in gold_dict.items() if v == e]\n",
    "#     freq_cipher = 0\n",
    "#     for key in keys:\n",
    "#         freq_cipher += cipher_desc['relative_freq'][key]\n",
    "#     freq_plain = plaintxt_desc['relative_freq'][e]\n",
    "#     print(f'{e}: {keys}, {len(keys)}, plain freq {freq_plain}, cipher freq {freq_cipher}')"
   ]
  },
  {
   "cell_type": "markdown",
   "metadata": {},
   "source": [
    "## Baseline with better extension order"
   ]
  },
  {
   "cell_type": "markdown",
   "metadata": {},
   "source": [
    "The first change I made to the baseline was to rewrite the score function to optimize the running speed. The change I made is to score the newly fixed symbol plantext character pair and corresponding influenced previously fixed plantext character based on the previous score instead of scoring the whole bitstring in each iteration. For instance, 'oooo...o' -> 'oooo..xo'. The new score can be calculated by adding unigram score of 'x' to the previous score, substracting unigram score of 'o' following 'x' and bigram score of '<\\s>' from the previous score, and adding bigram score of 'o' following 'x' and trigram score of '<\\s>' to the previous score. With this approach, the running time was improved to 20 minitues from 1 hour with a beamsize of 10000 on my machine with i7 7700k cpu. And the computed score is almost same as the score computed with score_bit_string function (the difference is within 0.0000001). Another approach to speed up the whole process we tried is multiprocessing. We will talk about that in the following notebook."
   ]
  },
  {
   "cell_type": "code",
   "execution_count": 22,
   "metadata": {},
   "outputs": [],
   "source": [
    "def score(cipher, phi, new_f, new_e, previous_score):\n",
    "    '''\n",
    "    scores the phi_prime based on the previous score, returns a float\n",
    "    cipher -- list of single character string\n",
    "    phi -- dictionary, old mapping e->[f]\n",
    "    new_f -- single-character string, extended symbol\n",
    "    previous_score -- float, old score for phi\n",
    "    '''\n",
    "    mapping = phi\n",
    "    new_score = previous_score\n",
    "    # for the first iteration, the previous score should be -2.545382 instead of 0\n",
    "    # this is because the score of an empty string is not 0 whiling scoring with bitstring\n",
    "    # the value can be obtained by calling lm.score_bitstring('thisisatest', '...........')\n",
    "    if len(phi)==0:\n",
    "        new_score += -2.545382\n",
    "    lm_state = lm.begin()\n",
    "    old_lm_state = lm.begin()\n",
    "    # this Flag is used to track if a newly-fixed character affects the previously-fixed character\n",
    "    triggerChangeFlag = 0\n",
    "    for i in range(len(cipher)):\n",
    "        char = cipher[i]\n",
    "        # if this is a previously fixed character and not influenced by the newly-fixed character\n",
    "        # we only need to track the lm_state and old lm_state, no need to compute the score\n",
    "        if (char in mapping.keys()) and (triggerChangeFlag==0):\n",
    "            token = mapping[char]\n",
    "            ngram = lm_state + (token,)\n",
    "            while len(ngram)> 0:\n",
    "                if ngram in lm.table:\n",
    "                    lm_state = ngram[-lm.history:]\n",
    "                    break\n",
    "                else: #backoff\n",
    "                    ngram = ngram[1:]\n",
    "            if len(ngram)==0:\n",
    "                lm_state = ()\n",
    "            old_lm_state = lm_state\n",
    "        # if this is a previously fixed character and influenced by the newly-fixed character\n",
    "        # substract the old score and add the new score to the previous score.\n",
    "        elif (char in mapping.keys()) and (triggerChangeFlag>0):\n",
    "            token = mapping[char]\n",
    "            old_lm_state, old_logprob = lm.score(old_lm_state, token)\n",
    "            new_score -= old_logprob\n",
    "            lm_state, logprob = lm.score(lm_state, token)\n",
    "            new_score += logprob\n",
    "            triggerChangeFlag -= 1\n",
    "        # if this is a newly-fixed charater, simply add the new score to the previous score\n",
    "        elif char == new_f:\n",
    "            (lm_state, logprob) = lm.score(lm_state, new_e)\n",
    "            new_score += logprob\n",
    "            triggerChangeFlag = 5\n",
    "            old_lm_state = ()\n",
    "        # if this is a unknown character, there is no influence on the previous score\n",
    "        else:\n",
    "            lm_state = ()\n",
    "            old_lm_state = ()\n",
    "            triggerChangeFlag = 0\n",
    "    if triggerChangeFlag:\n",
    "        new_score -= lm.end(old_lm_state)\n",
    "        new_score += lm.end(lm_state)\n",
    "    return new_score"
   ]
  },
  {
   "cell_type": "markdown",
   "metadata": {},
   "source": [
    "The beam_search we implemented is based on the pseudo code mentioned in the assignment. The main change I made was to use customized ext_limit for each plaintext character instead of a general value. The details can be found in the following notebook."
   ]
  },
  {
   "cell_type": "code",
   "execution_count": 26,
   "metadata": {},
   "outputs": [],
   "source": [
    "def beam_search(cipher, ext_order, score_func, ext_limits, topn=1):\n",
    "    '''\n",
    "    finds the mappings between cipher char and plaintext char, returns the mapping dictionary\n",
    "    ext_order -- list, the unigram char list sorted by their count DESC\n",
    "    ext_limits -- int, defines maximum number of cipher char can be mapped to a plaintext char\n",
    "    topn -- int, defines the number of dictionaries we want to keep while pruning\n",
    "    '''\n",
    "    print('Number of unique symbols in cipher:', len(ext_order))\n",
    "    # mapping relationships already found with score\n",
    "    Hs = [(defaultdict(dict), 0)]\n",
    "    # hypothesis mapping relationships with score\n",
    "    Ht = []\n",
    "    # initialize the cardinality (number of unique cipher text)\n",
    "    cardinality = 0\n",
    "    # list of plaintext characters\n",
    "    Ve = [chr(i) for i in range(97, 123, 1)]\n",
    "    while cardinality < len(ext_order):\n",
    "        f = ext_order[cardinality]\n",
    "        print('Working on symbol: ', f, f'({cardinality+1})')\n",
    "        for phi, previous_score in Hs:\n",
    "            for e in Ve:\n",
    "                phi_prime = copy.deepcopy(phi)\n",
    "                new_map = {f: e}\n",
    "                phi_prime.update(new_map)\n",
    "                counts = len([v for k, v in phi_prime.items() if v == e])\n",
    "                ext_limit = ext_limits[e]\n",
    "                \n",
    "#                 keys = [k for k, v in phi_prime.items() if v == e]\n",
    "#                 freq_cipher = 0\n",
    "#                 for key in keys:\n",
    "#                     freq_cipher += cipher_desc['relative_freq'][key]\n",
    "#                 freq_plain = plaintxt_desc['relative_freq'][e]\n",
    "                \n",
    "#                 # the relative frequency of the cipher symbol should not be too large compared to the \n",
    "#                 # relative frequency of the plaintext character. Note that the mapping relationship between them is\n",
    "#                 # many to one. This can prune the trees a little bit (not much though). For instance,\n",
    "#                 # cipher symbol 'B' will never be mapped to 'z' since the relative frequency between them is\n",
    "#                 # way too large\n",
    "                \n",
    "#                 if (freq_cipher / freq_plain > 3):\n",
    "#                     continue\n",
    "#                 # for the first 5 symbols, at most three of them can be mapped to the same plaintext character\n",
    "#                 # this rule is set by intuition. The goal is to map the characters evenly at the early stage\n",
    "#                 if cardinality < 5:\n",
    "#                     ext_limits = min(ext_limits,3)\n",
    "                if counts <= ext_limit:\n",
    "                    Ht.append((phi_prime, score_func(cipher, phi, f, e, previous_score)))\n",
    "        # prune the histogram\n",
    "        Ht = sorted(Ht, key=lambda x:x[1], reverse=True)[:topn]\n",
    "        cardinality += 1\n",
    "        Hs = copy.deepcopy(Ht)\n",
    "        Ht.clear()\n",
    "        print('Current score: ', Hs[0][1], 'Worst score: ', Hs[min(len(Hs)-1, topn-1)][1])\n",
    "        \n",
    "#         found_symbols = ext_order[:cardinality]\n",
    "#         phi_temp = dict()\n",
    "#         for key,value in gold_dict.items():\n",
    "#             if key in found_symbols:\n",
    "#                 phi_temp[key] = value\n",
    "#         partial_text = ''\n",
    "#         bit_string = ''\n",
    "#         for cipher_char in cipher_desc['content']:\n",
    "#             if cipher_char in phi_temp.keys():\n",
    "#                 partial_text += phi_temp[cipher_char]\n",
    "#                 bit_string += 'o'\n",
    "#             else:\n",
    "#                 partial_text += '_'\n",
    "#                 bit_string += '.'\n",
    "#         gold_score = lm.score_bitstring(partial_text, bit_string)\n",
    "#         print('gold score', gold_score)\n",
    "#         if gold_score < Hs[min(len(Hs)-1, topn-1)][1] or gold_score > Hs[0][1]:\n",
    "#             print('Wrong!')\n",
    "        #print(Hs)\n",
    "    return sorted(Hs, key=lambda x:x[1], reverse=True)"
   ]
  },
  {
   "cell_type": "markdown",
   "metadata": {},
   "source": [
    "## Test case"
   ]
  },
  {
   "cell_type": "markdown",
   "metadata": {},
   "source": [
    "Before deciphering the Zodiac Killer cipher, test the algorithm with some simple test cases"
   ]
  },
  {
   "cell_type": "markdown",
   "metadata": {},
   "source": [
    "The first test case is a simple one to one mapping. <br>\n",
    "Plaintext: `defendtheeastwallofthecastle` <br>\n",
    "Cipher: `giuifgceiiprctpnnduceiqprcni` <br>"
   ]
  },
  {
   "cell_type": "code",
   "execution_count": 31,
   "metadata": {},
   "outputs": [
    {
     "name": "stdout",
     "output_type": "stream",
     "text": [
      "Number of unique symbols in cipher: 12\n",
      "Working on symbol:  i (1)\n",
      "Current score:  -8.570688 Worst score:  -21.082497999999998\n",
      "Working on symbol:  p (2)\n",
      "Current score:  -11.379961100000001 Worst score:  -13.823382\n",
      "Working on symbol:  r (3)\n",
      "Current score:  -12.61742569 Worst score:  -14.178162599999997\n",
      "Working on symbol:  c (4)\n",
      "Current score:  -15.489765799999997 Worst score:  -17.629812\n",
      "Working on symbol:  t (5)\n",
      "Current score:  -16.03725842 Worst score:  -17.907934541\n",
      "Working on symbol:  n (6)\n",
      "Current score:  -18.078716399999998 Worst score:  -22.135148320000003\n",
      "Working on symbol:  e (7)\n",
      "Current score:  -16.847339719999997 Worst score:  -23.640595200000007\n",
      "Working on symbol:  q (8)\n",
      "Current score:  -15.808824288999997 Worst score:  -20.684350920000004\n",
      "Working on symbol:  u (9)\n",
      "Current score:  -17.707828688999996 Worst score:  -21.222392888999998\n",
      "Working on symbol:  d (10)\n",
      "Current score:  -17.797039089000005 Worst score:  -21.681482068999998\n",
      "Working on symbol:  g (11)\n",
      "Current score:  -19.085762278999997 Worst score:  -22.286126658999994\n",
      "Working on symbol:  f (12)\n",
      "Current score:  -18.128100849000003 Worst score:  -24.252243228999994\n",
      "Deciphered result:  defendtheeastwallofthecastle\n"
     ]
    }
   ],
   "source": [
    "one_to_one_cipher = 'giuifgceiiprctpnnduceiqprcni'\n",
    "one_to_one_cipher_desc = get_statistics(one_to_one_cipher, cipher=True)\n",
    "one_to_one_ext_order = find_ext_order(one_to_one_cipher_desc)[0][0]\n",
    "one_to_one_ext_limits = dict()\n",
    "for e in [chr(i) for i in range(97, 123, 1)]:\n",
    "    one_to_one_ext_limits[e] = 1\n",
    "one_to_one_mappings = beam_search(one_to_one_cipher_desc['content'], one_to_one_ext_order,\\\n",
    "                                  score, one_to_one_ext_limits, 50)\n",
    "one_to_one_mapping = one_to_one_mappings[0][0]\n",
    "one_to_one_decipher_text = ''\n",
    "for char in one_to_one_cipher_desc['content']:\n",
    "    one_to_one_decipher_text += one_to_one_mapping[char]\n",
    "print('Deciphered result: ', one_to_one_decipher_text)"
   ]
  },
  {
   "cell_type": "markdown",
   "metadata": {},
   "source": [
    "A test case for homophonic ciphers. <br>\n",
    "Plaintext: <br>\n",
    "Cipher: <br>"
   ]
  },
  {
   "cell_type": "code",
   "execution_count": null,
   "metadata": {},
   "outputs": [],
   "source": []
  },
  {
   "cell_type": "code",
   "execution_count": null,
   "metadata": {},
   "outputs": [],
   "source": []
  },
  {
   "cell_type": "markdown",
   "metadata": {},
   "source": [
    "## Decipher Zodiac Killer cipher"
   ]
  },
  {
   "cell_type": "markdown",
   "metadata": {},
   "source": [
    "As mentioned above, we use different ext_limit for different plaintext symbol. We use the following `ext_limits` to limit the ext_order. The goal is to customize the `ext_limit` for each plaintext character so that more symbols can be mapped to the more frequent plaintext character. The `ext_limit` is calculated by multiplying the relative frequency of the paintext character in wiki text by the number of unique cipher symbols. We believe this can dramatically improve the running time since the required amount of computation in each iteration is minimized. We use the ceiling instead of floor to ensure the `ext_limit` is large enough."
   ]
  },
  {
   "cell_type": "code",
   "execution_count": 68,
   "metadata": {},
   "outputs": [
    {
     "name": "stdout",
     "output_type": "stream",
     "text": [
      "{'a': 5, 'b': 1, 'c': 2, 'd': 3, 'e': 7, 'f': 2, 'g': 2, 'h': 3, 'i': 4, 'j': 1, 'k': 1, 'l': 3, 'm': 2, 'n': 4, 'o': 4, 'p': 2, 'q': 1, 'r': 4, 's': 4, 't': 5, 'u': 2, 'v': 1, 'w': 1, 'x': 1, 'y': 1, 'z': 1}\n"
     ]
    }
   ],
   "source": [
    "ext_limits = dict()\n",
    "for e in [chr(i) for i in range(97, 123, 1)]:\n",
    "    counts_dict[e] = math.ceil(plaintxt_desc['relative_freq'][e]*cipher_desc['vocab_length']/100)\n",
    "print(counts_dict)"
   ]
  },
  {
   "cell_type": "code",
   "execution_count": null,
   "metadata": {},
   "outputs": [],
   "source": [
    "%%time\n",
    "mappings = beam_search(cipher_desc['content'], ext_order, score, ext_limits, 5000)"
   ]
  },
  {
   "cell_type": "code",
   "execution_count": 22,
   "metadata": {},
   "outputs": [
    {
     "name": "stdout",
     "output_type": "stream",
     "text": [
      "teenontheareaeaaheroeditathesncrieiwiltsairimdrimshopnttheresteneurealciowondethreeaisordmtnsharaaslopedmsieurardhirothconethsarehitleeatonreshercascintthemeofaaddpeethatoterressomchuleahstmepiindoensawrsesiaetmechdrenhadnscwastaciudshopelteastthredorimrelaonunteaimldeesidahotenteeonsethreearerpttatoststherisettopoirploreroedinepiistetcmphcthatlasmodiccarpeottaesereartedtoswimrpawsonhereareantesarehihatsa\n",
      "score -545.3978767199993\n",
      "408\n",
      "0.8799019607843137\n"
     ]
    }
   ],
   "source": [
    "mapping = mappings[0][0]\n",
    "decipher_text = ''\n",
    "for char in cipher_desc['content']:\n",
    "    decipher_text += mapping[char]\n",
    "print(decipher_text)\n",
    "#print('score', lm.score_seq(decipher_text))\n",
    "print(symbol_error_rate(decipher_text, 'data/_ref_Zodiac_408.txt'))"
   ]
  },
  {
   "cell_type": "markdown",
   "metadata": {},
   "source": [
    "## Multi-processing"
   ]
  },
  {
   "cell_type": "markdown",
   "metadata": {},
   "source": [
    "The following code is to utilize the joblib to multiprocess the computations. However, the running time doesn't drop a lot (while experimenting with beamsize of 10000). When I monitered the CPU usage, I found each iteration only took around 30s to compute the parallelized section. Most of the time was used on the serialized section, such as data transportations and sorting the Ht list. Although the computed scores are consistent with the scores computed with single core computation, I still stick to the single core implementation since the memory usage is huge with multi-processing. The memory usage has been up to 100% when I only used four cores and beamsize of 10000 on my machine with 16G RAM."
   ]
  },
  {
   "cell_type": "code",
   "execution_count": null,
   "metadata": {},
   "outputs": [],
   "source": [
    "def work(Hs, Ve, f, cipher, topn):\n",
    "    ret = []\n",
    "    for phi, previous_score in Hs:\n",
    "        for e in Ve:\n",
    "            phi_prime = copy.deepcopy(phi)\n",
    "            new_map = {f: e}\n",
    "            phi_prime.update(new_map)\n",
    "            counts = len([v for k, v in phi_prime.items() if v == e])\n",
    "            if counts <= counts_dict[e]:\n",
    "                ret.append((phi_prime, score(cipher, phi, f, e, previous_score)))\n",
    "    return sorted(ret, key=lambda x:x[1], reverse=True)[:topn]\n",
    "\n",
    "def grouper(n, iterable):\n",
    "    it = iter(iterable)\n",
    "    while True:\n",
    "        chunk = tuple(itertools.islice(it, n))\n",
    "        if not chunk:\n",
    "            return\n",
    "        yield chunk\n",
    "\n",
    "def beam_search_mp(cipher, ext_order, ext_limits=1, topn=1):\n",
    "    '''\n",
    "    finds the mappings between cipher char and plaintext char, returns the mapping dictionary\n",
    "    ext_order -- list, the unigram char list sorted by their count DESC\n",
    "    ext_limits -- int, defines maximum number of cipher char can be mapped to a plaintext char\n",
    "    topn -- int, defines the number of dictionaries we want to keep while pruning\n",
    "    '''\n",
    "    print('Number of unique symbols in cipher:', len(ext_order))\n",
    "    # mapping relationships already found with score\n",
    "    Hs = [(defaultdict(dict), 0)]\n",
    "    # hypothesis mapping relationships with score\n",
    "    Ht = []\n",
    "    # initialize the cardinality (number of unique cipher text)\n",
    "    cardinality = 0\n",
    "    # list of plaintext characters\n",
    "    Ve = [chr(i) for i in range(97, 123, 1)]\n",
    "    \n",
    "    N_JOBS = 2\n",
    "    p = Parallel(n_jobs=N_JOBS, verbose=2, )\n",
    "    \n",
    "    while cardinality < len(ext_order):\n",
    "    #while cardinality < 2:\n",
    "        f = ext_order[cardinality]\n",
    "        print('Working on symbol: ', f, f'({cardinality+1})')\n",
    "        jobs = list(grouper(math.ceil(len(Hs) / N_JOBS), Hs))\n",
    "\n",
    "        print(f\"Num of jobs {len(jobs)} w {len(jobs[0])}\")\n",
    "        Hts = p(delayed(work)(job, Ve, f, cipher, topn) for job in jobs)\n",
    "        Ht = [e for l in Hts for e in l]\n",
    "        \n",
    "        # prune the histogram\n",
    "        Ht = sorted(Ht, key=lambda x:x[1], reverse=True)[:topn]                    \n",
    "        cardinality += 1\n",
    "        Hs = copy.deepcopy(Ht)\n",
    "        Ht.clear()\n",
    "        print('Current score: ', Hs[0][1])\n",
    "        #print('Hs', Hs)\n",
    "    return sorted(Hs, key=lambda x:x[1], reverse=True)"
   ]
  },
  {
   "cell_type": "code",
   "execution_count": null,
   "metadata": {},
   "outputs": [],
   "source": []
  }
 ],
 "metadata": {
  "kernelspec": {
   "display_name": "Python 3",
   "language": "python",
   "name": "python3"
  },
  "language_info": {
   "codemirror_mode": {
    "name": "ipython",
    "version": 3
   },
   "file_extension": ".py",
   "mimetype": "text/x-python",
   "name": "python",
   "nbconvert_exporter": "python",
   "pygments_lexer": "ipython3",
   "version": "3.6.5"
  }
 },
 "nbformat": 4,
 "nbformat_minor": 2
}
