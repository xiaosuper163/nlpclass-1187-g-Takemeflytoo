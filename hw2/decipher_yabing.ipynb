{
 "cells": [
  {
   "cell_type": "markdown",
   "metadata": {},
   "source": [
    "# Homework: Decipherment"
   ]
  },
  {
   "cell_type": "code",
   "execution_count": 1,
   "metadata": {},
   "outputs": [],
   "source": [
    "%load_ext autoreload\n",
    "%autoreload 2\n",
    "from collections import defaultdict, Counter\n",
    "import collections\n",
    "import pprint\n",
    "import math\n",
    "import bz2\n",
    "from ngram import *\n",
    "import sys, string\n",
    "import copy\n",
    "pp = pprint.PrettyPrinter(width=45, compact=True)"
   ]
  },
  {
   "cell_type": "markdown",
   "metadata": {},
   "source": [
    "First let us read in the cipher text from the `data` directory:"
   ]
  },
  {
   "cell_type": "code",
   "execution_count": 2,
   "metadata": {},
   "outputs": [
    {
     "name": "stdout",
     "output_type": "stream",
     "text": [
      "º∫P/Z/uB∫ÀOR•–X•B\n",
      "WV+≈GyF∞ºHPπKÇ—y≈\n",
      "MJy^uIÀΩ—T‘NQyDµ£\n",
      "S¢/º∑BPORAu∫∆RÃ—E\n",
      "À^LMZJƒ“\\–FHVW≈æy\n",
      "π+—GDºKI£∞—Xæµ§S¢\n",
      "RN‘IyEÃOæ—GBTQS∑B\n",
      "Lƒ/P∑BπX—EHMu^RRÀ\n",
      "√ZK—–I£W—ÇæµLM“º∑\n",
      "BPDR+j•∞\\N¢≈EuHÀF\n",
      "Z√–OVWIµ+‘L£Ã^R∞H\n",
      "IºDR∏Ty“\\ƒ≈/πXJQA\n",
      "PµMæRu‘∫L£NVEKH•G\n",
      "“IÇJÀµºæLMÃNA£Z¢P\n",
      "§u–ÀAº∑BVW\\+VT‘OP\n",
      "^•S“Ã∆u≈∞ΩD§G∫∫IM\n",
      "NÀ£S√E/º∫∫Z∆AP∑BV\n",
      "–≈X—W—∏F∑æ√+πºAºB\n",
      "∫OTµRu√+∏ƒy—∏^S—W\n",
      "VZ≈GyKE∏TyAº∫∑L‘∏\n",
      "HÇFBXº§XADƒ\\ΩLÇ•—\n",
      "∏≈ƒ∑∑∞≈µPORXQF∫G√\n",
      "ZπJT‘—∏æJI+“BPQW∞\n",
      "VEX“ºWI∞—EHM£•uIÀ\n"
     ]
    }
   ],
   "source": [
    "def read_file(filename):\n",
    "    if filename[-4:] == \".bz2\":\n",
    "        with bz2.open(filename, 'rt', encoding='utf8') as f:\n",
    "            content = f.read()\n",
    "            f.close()\n",
    "    else:\n",
    "        with open(filename, 'r', encoding='utf8') as f:\n",
    "            content = f.read()\n",
    "            f.close()\n",
    "    return content\n",
    "\n",
    "cipher = read_file(\"data/cipher.txt\")\n",
    "print(cipher)"
   ]
  },
  {
   "cell_type": "markdown",
   "metadata": {},
   "source": [
    "For the default solution we need to compute statistics like length, number of symbols/letters, \n",
    "unique occurences, frequencies and relative frequencies of a given file. This is done in the function `get_statistics` below.\n",
    "\n",
    "While using `get_statistics`, make sure that `cipher=True` is set when the input is a ciphertext."
   ]
  },
  {
   "cell_type": "code",
   "execution_count": 3,
   "metadata": {},
   "outputs": [],
   "source": [
    "def get_statistics(content, cipher=True):\n",
    "    stats = {}\n",
    "    content = list(content)\n",
    "    split_content = [x for x in content if x != '\\n' and x!=' ']\n",
    "    length = len(split_content)\n",
    "    symbols = set(split_content)\n",
    "    uniq_sym = len(list(symbols))\n",
    "    freq = collections.Counter(split_content)\n",
    "    rel_freq = {}\n",
    "    for sym, frequency in freq.items():\n",
    "        rel_freq[sym] = (frequency/length)*100\n",
    "        \n",
    "    if cipher:\n",
    "        stats = {'content':split_content, 'length':length, 'vocab':list(symbols), 'vocab_length':uniq_sym, 'frequencies':freq, 'relative_freq':rel_freq}\n",
    "    else:\n",
    "        stats = {'length':length, 'vocab':list(symbols), 'vocab_length':uniq_sym, 'frequencies':freq, 'relative_freq':rel_freq}\n",
    "    return stats"
   ]
  },
  {
   "cell_type": "code",
   "execution_count": 4,
   "metadata": {
    "scrolled": true
   },
   "outputs": [
    {
     "name": "stdout",
     "output_type": "stream",
     "text": [
      "{'content': ['º', '∫', 'P', '/', 'Z', '/',\n",
      "             'u', 'B', '∫', 'À', 'O', 'R',\n",
      "             '•', '–', 'X', '•', 'B', 'W',\n",
      "             'V', '+', '≈', 'G', 'y', 'F',\n",
      "             '∞', 'º', 'H', 'P', 'π', 'K',\n",
      "             'Ç', '—', 'y', '≈', 'M', 'J',\n",
      "             'y', '^', 'u', 'I', 'À', 'Ω',\n",
      "             '—', 'T', '‘', 'N', 'Q', 'y',\n",
      "             'D', 'µ', '£', 'S', '¢', '/',\n",
      "             'º', '∑', 'B', 'P', 'O', 'R',\n",
      "             'A', 'u', '∫', '∆', 'R', 'Ã',\n",
      "             '—', 'E', 'À', '^', 'L', 'M',\n",
      "             'Z', 'J', 'ƒ', '“', '\\\\', '–',\n",
      "             'F', 'H', 'V', 'W', '≈', 'æ',\n",
      "             'y', 'π', '+', '—', 'G', 'D',\n",
      "             'º', 'K', 'I', '£', '∞', '—',\n",
      "             'X', 'æ', 'µ', '§', 'S', '¢',\n",
      "             'R', 'N', '‘', 'I', 'y', 'E',\n",
      "             'Ã', 'O', 'æ', '—', 'G', 'B',\n",
      "             'T', 'Q', 'S', '∑', 'B', 'L',\n",
      "             'ƒ', '/', 'P', '∑', 'B', 'π',\n",
      "             'X', '—', 'E', 'H', 'M', 'u',\n",
      "             '^', 'R', 'R', 'À', '√', 'Z',\n",
      "             'K', '—', '–', 'I', '£', 'W',\n",
      "             '—', 'Ç', 'æ', 'µ', 'L', 'M',\n",
      "             '“', 'º', '∑', 'B', 'P', 'D',\n",
      "             'R', '+', 'j', '•', '∞', '\\\\',\n",
      "             'N', '¢', '≈', 'E', 'u', 'H',\n",
      "             'À', 'F', 'Z', '√', '–', 'O',\n",
      "             'V', 'W', 'I', 'µ', '+', '‘',\n",
      "             'L', '£', 'Ã', '^', 'R', '∞',\n",
      "             'H', 'I', 'º', 'D', 'R', '∏',\n",
      "             'T', 'y', '“', '\\\\', 'ƒ', '≈',\n",
      "             '/', 'π', 'X', 'J', 'Q', 'A',\n",
      "             'P', 'µ', 'M', 'æ', 'R', 'u',\n",
      "             '‘', '∫', 'L', '£', 'N', 'V',\n",
      "             'E', 'K', 'H', '•', 'G', '“',\n",
      "             'I', 'Ç', 'J', 'À', 'µ', 'º',\n",
      "             'æ', 'L', 'M', 'Ã', 'N', 'A',\n",
      "             '£', 'Z', '¢', 'P', '§', 'u',\n",
      "             '–', 'À', 'A', 'º', '∑', 'B',\n",
      "             'V', 'W', '\\\\', '+', 'V', 'T',\n",
      "             '‘', 'O', 'P', '^', '•', 'S',\n",
      "             '“', 'Ã', '∆', 'u', '≈', '∞',\n",
      "             'Ω', 'D', '§', 'G', '∫', '∫',\n",
      "             'I', 'M', 'N', 'À', '£', 'S',\n",
      "             '√', 'E', '/', 'º', '∫', '∫',\n",
      "             'Z', '∆', 'A', 'P', '∑', 'B',\n",
      "             'V', '–', '≈', 'X', '—', 'W',\n",
      "             '—', '∏', 'F', '∑', 'æ', '√',\n",
      "             '+', 'π', 'º', 'A', 'º', 'B',\n",
      "             '∫', 'O', 'T', 'µ', 'R', 'u',\n",
      "             '√', '+', '∏', 'ƒ', 'y', '—',\n",
      "             '∏', '^', 'S', '—', 'W', 'V',\n",
      "             'Z', '≈', 'G', 'y', 'K', 'E',\n",
      "             '∏', 'T', 'y', 'A', 'º', '∫',\n",
      "             '∑', 'L', '‘', '∏', 'H', 'Ç',\n",
      "             'F', 'B', 'X', 'º', '§', 'X',\n",
      "             'A', 'D', 'ƒ', '\\\\', 'Ω', 'L',\n",
      "             'Ç', '•', '—', '∏', '≈', 'ƒ',\n",
      "             '∑', '∑', '∞', '≈', 'µ', 'P',\n",
      "             'O', 'R', 'X', 'Q', 'F', '∫',\n",
      "             'G', '√', 'Z', 'π', 'J', 'T',\n",
      "             '‘', '—', '∏', 'æ', 'J', 'I',\n",
      "             '+', '“', 'B', 'P', 'Q', 'W',\n",
      "             '∞', 'V', 'E', 'X', '“', 'º',\n",
      "             'W', 'I', '∞', '—', 'E', 'H',\n",
      "             'M', '£', '•', 'u', 'I', 'À'],\n",
      " 'frequencies': Counter({'—': 16,\n",
      "                         'º': 14,\n",
      "                         'B': 12,\n",
      "                         'R': 12,\n",
      "                         '∫': 11,\n",
      "                         'P': 11,\n",
      "                         'I': 11,\n",
      "                         'u': 10,\n",
      "                         '≈': 10,\n",
      "                         'y': 10,\n",
      "                         '∑': 10,\n",
      "                         'À': 9,\n",
      "                         'X': 9,\n",
      "                         'W': 9,\n",
      "                         'V': 9,\n",
      "                         'E': 9,\n",
      "                         'Z': 8,\n",
      "                         '+': 8,\n",
      "                         '∞': 8,\n",
      "                         'H': 8,\n",
      "                         'M': 8,\n",
      "                         'µ': 8,\n",
      "                         '£': 8,\n",
      "                         'A': 8,\n",
      "                         'L': 8,\n",
      "                         'æ': 8,\n",
      "                         '∏': 8,\n",
      "                         'O': 7,\n",
      "                         '•': 7,\n",
      "                         'G': 7,\n",
      "                         'T': 7,\n",
      "                         '‘': 7,\n",
      "                         '“': 7,\n",
      "                         '/': 6,\n",
      "                         '–': 6,\n",
      "                         'F': 6,\n",
      "                         'π': 6,\n",
      "                         'J': 6,\n",
      "                         '^': 6,\n",
      "                         'N': 6,\n",
      "                         'D': 6,\n",
      "                         'S': 6,\n",
      "                         'ƒ': 6,\n",
      "                         '√': 6,\n",
      "                         'K': 5,\n",
      "                         'Ç': 5,\n",
      "                         'Q': 5,\n",
      "                         'Ã': 5,\n",
      "                         '\\\\': 5,\n",
      "                         '¢': 4,\n",
      "                         '§': 4,\n",
      "                         'Ω': 3,\n",
      "                         '∆': 3,\n",
      "                         'j': 1}),\n",
      " 'length': 408,\n",
      " 'relative_freq': {'+': 1.9607843137254901,\n",
      "                   '/': 1.4705882352941175,\n",
      "                   'A': 1.9607843137254901,\n",
      "                   'B': 2.941176470588235,\n",
      "                   'D': 1.4705882352941175,\n",
      "                   'E': 2.2058823529411766,\n",
      "                   'F': 1.4705882352941175,\n",
      "                   'G': 1.715686274509804,\n",
      "                   'H': 1.9607843137254901,\n",
      "                   'I': 2.696078431372549,\n",
      "                   'J': 1.4705882352941175,\n",
      "                   'K': 1.2254901960784315,\n",
      "                   'L': 1.9607843137254901,\n",
      "                   'M': 1.9607843137254901,\n",
      "                   'N': 1.4705882352941175,\n",
      "                   'O': 1.715686274509804,\n",
      "                   'P': 2.696078431372549,\n",
      "                   'Q': 1.2254901960784315,\n",
      "                   'R': 2.941176470588235,\n",
      "                   'S': 1.4705882352941175,\n",
      "                   'T': 1.715686274509804,\n",
      "                   'V': 2.2058823529411766,\n",
      "                   'W': 2.2058823529411766,\n",
      "                   'X': 2.2058823529411766,\n",
      "                   'Z': 1.9607843137254901,\n",
      "                   '\\\\': 1.2254901960784315,\n",
      "                   '^': 1.4705882352941175,\n",
      "                   'j': 0.24509803921568626,\n",
      "                   'u': 2.450980392156863,\n",
      "                   'y': 2.450980392156863,\n",
      "                   '¢': 0.9803921568627451,\n",
      "                   '£': 1.9607843137254901,\n",
      "                   '§': 0.9803921568627451,\n",
      "                   'µ': 1.9607843137254901,\n",
      "                   'º': 3.431372549019608,\n",
      "                   'À': 2.2058823529411766,\n",
      "                   'Ã': 1.2254901960784315,\n",
      "                   'Ç': 1.2254901960784315,\n",
      "                   'æ': 1.9607843137254901,\n",
      "                   'ƒ': 1.4705882352941175,\n",
      "                   'Ω': 0.7352941176470588,\n",
      "                   'π': 1.4705882352941175,\n",
      "                   '–': 1.4705882352941175,\n",
      "                   '—': 3.9215686274509802,\n",
      "                   '‘': 1.715686274509804,\n",
      "                   '“': 1.715686274509804,\n",
      "                   '•': 1.715686274509804,\n",
      "                   '∆': 0.7352941176470588,\n",
      "                   '∏': 1.9607843137254901,\n",
      "                   '∑': 2.450980392156863,\n",
      "                   '√': 1.4705882352941175,\n",
      "                   '∞': 1.9607843137254901,\n",
      "                   '∫': 2.696078431372549,\n",
      "                   '≈': 2.450980392156863},\n",
      " 'vocab': ['∏', 'j', 'µ', '‘', 'R', 'π', '√',\n",
      "           'Q', '+', '∆', 'P', '^', '\\\\',\n",
      "           'K', 'L', '“', 'æ', 'V', 'M', 'D',\n",
      "           '§', 'B', '•', 'S', 'º', '∫', 'N',\n",
      "           'G', 'ƒ', '—', 'F', 'Ç', '∑', '¢',\n",
      "           'J', 'u', 'T', 'Ω', 'Ã', '∞', 'E',\n",
      "           'À', 'A', '/', 'H', 'Z', 'O', '£',\n",
      "           'I', 'X', 'y', '≈', 'W', '–'],\n",
      " 'vocab_length': 54}\n"
     ]
    }
   ],
   "source": [
    "cipher_desc = get_statistics(cipher, cipher=True)\n",
    "pp.pprint(cipher_desc)"
   ]
  },
  {
   "cell_type": "markdown",
   "metadata": {},
   "source": [
    "## Baseline"
   ]
  },
  {
   "cell_type": "code",
   "execution_count": 9,
   "metadata": {},
   "outputs": [
    {
     "name": "stderr",
     "output_type": "stream",
     "text": [
      "Reading language model from data/6-gram-wiki-char.lm.bz2...\n",
      "\n"
     ]
    },
    {
     "name": "stdout",
     "output_type": "stream",
     "text": [
      "Wall time: 58.9 s\n"
     ]
    }
   ],
   "source": [
    "%%time\n",
    "sequence = 'In a few cases, a multilingual artifact has been necessary to facilitate decipherment, the Rosetta Stone being the classic example. Statistical techniques provide another pathway to decipherment, as does the analysis of modern languages derived from ancient languages in which undeciphered texts are written. Archaeological and historical information is helpful in verifying hypothesized decipherments.'\n",
    "\n",
    "# lm = LM(\"data/6-gram-wiki-char.lm.bz2\", n=6, verbose=True)\n",
    "lm = LM(\"data/6-gram-wiki-char.lm.bz2\", n=6, verbose=False)"
   ]
  },
  {
   "cell_type": "code",
   "execution_count": 10,
   "metadata": {},
   "outputs": [
    {
     "name": "stdout",
     "output_type": "stream",
     "text": [
      "In a few cases, a multilingual artifact has been necessary to facilitate decipherment, the Rosetta Stone being the classic example. Statistical techniques provide another pathway to decipherment, as does the analysis of modern languages derived from ancient languages in which undeciphered texts are written. Archaeological and historical information is helpful in verifying hypothesized decipherments.\n",
      "{2: 3, 3: 4, 7: 8, 8: 9, 9: 10}\n",
      "-8.10905897\n"
     ]
    },
    {
     "name": "stderr",
     "output_type": "stream",
     "text": [
      "TOTAL LM LOGPROB: -221.09434842188\n",
      "TOTAL LM LOGPROB: -9.76947916\n",
      "TOTAL LM LOGPROB: -40.57683077\n"
     ]
    }
   ],
   "source": [
    "print(sequence)\n",
    "lm_logprob = lm.score_seq(sequence)\n",
    "print(\"TOTAL LM LOGPROB: {}\".format(lm_logprob), file=sys.stderr)\n",
    "\n",
    "print(\"TOTAL LM LOGPROB: {}\".format(lm.score_seq('this is the text.')), file=sys.stderr)\n",
    "print(\"TOTAL LM LOGPROB: {}\".format(lm.score_seq('jasbklfhthejkldhf')), file=sys.stderr)\n",
    "\n",
    "print(lm.get_bitstring_spans('..oo...ooo..'))\n",
    "print(lm.score_bitstring('thisisatest', 'oo...oo.ooo'))"
   ]
  },
  {
   "cell_type": "code",
   "execution_count": 24,
   "metadata": {},
   "outputs": [],
   "source": [
    "# sequence = 'thisisatest'\n",
    "# bitstring = 'ooooooooooo'\n",
    "# bitstring_ = '.oooooo.oo.'\n",
    "# this_symbol = 't'\n",
    "# mapping = {'h':'h', 'i':'i', 's':'s', 'a':'a', 'e':'e'}\n",
    "# #previous_score = lm.score_bitstring('thisisatest', bitstring_)\n",
    "# previous_score = 0\n",
    "# print(previous_score)\n",
    "# temp_dict = dict()\n",
    "# lm_state_dict = dict()\n",
    "# Ve = [chr(i) for i in range(97, 123, 1)]\n",
    "# for char in Ve:\n",
    "#     lm_state_dict[char] = lm.begin()\n",
    "#     temp_dict[char] = previous_score\n",
    "# for token in sequence:\n",
    "#     if token == this_symbol:\n",
    "#         for char in Ve:\n",
    "#             lm_state = lm_state_dict[char]\n",
    "#             (lm_state, logprob) = lm.score(lm_state, char)\n",
    "#             lm_state_dict[char] = lm_state\n",
    "#             temp_dict[char] += logprob\n",
    "#             if char == 't':\n",
    "#                 print('lm_state', lm_state)\n",
    "#     else:\n",
    "#         for char in Ve:\n",
    "#             lm_state = lm_state_dict[char]\n",
    "#             (lm_state, logprob) = lm.score(lm_state, mapping[token])\n",
    "#             lm_state_dict[char] = lm_state\n",
    "#             temp_dict[char] += logprob\n",
    "#             if char == 't':\n",
    "#                 print('lm_state', lm_state)\n",
    "# for char in Ve:\n",
    "#     lm_state = lm_state_dict[char]\n",
    "#     temp_dict[char] += lm.end(lm_state)\n",
    "# print(temp_dict['t'], temp_dict['d'])\n",
    "\n",
    "# spans = lm.get_bitstring_spans(bitstring)\n",
    "# seq_by_bits = [ sequence[i] if i in spans else '\\t' for i in range(len(sequence)) ]\n",
    "# lm_state = lm.begin()\n",
    "# lm_logprob = 0.0 \n",
    "# for token in list(seq_by_bits):\n",
    "#     if token == '\\t': # should we skip this token?\n",
    "#         lm_state = ()\n",
    "#         continue\n",
    "#     lm.maybe_write(\"state: {}\".format(lm_state + (token,)))\n",
    "#     (lm_state, logprob) = lm.score(lm_state, token)\n",
    "#     lm_logprob += logprob\n",
    "#     lm.maybe_write(\"logprob={}\".format(logprob))\n",
    "#     print('logrob2222', logprob)\n",
    "# lm_logprob += lm.end(lm_state)\n",
    "# print(lm_logprob)\n",
    "# -11.05281791\n",
    "# -18.7161607"
   ]
  },
  {
   "cell_type": "code",
   "execution_count": 36,
   "metadata": {},
   "outputs": [],
   "source": [
    "def find_sharp_n(cipher_desc, symbols_found, n_order):\n",
    "    '''\n",
    "    finds the #n for order n_order\n",
    "    cipher_desc -- cipher statistics\n",
    "    symbols_found -- list of single character string,\n",
    "                     specifies the list of symbols have been placed in the extention order\n",
    "    n_order -- int, specifies the order of n-gram\n",
    "    '''\n",
    "    sharp_n = 0\n",
    "    for i in range(len(cipher_desc['content'])-n_order+1):\n",
    "        #flag = True\n",
    "        for j in range(i, i+n_order, 1):\n",
    "            if cipher_desc['content'][j] not in symbols_found:\n",
    "                break\n",
    "            if j == (i+n_order-1):\n",
    "                sharp_n += 1\n",
    "                #print(cipher_desc['content'][i:i+n_order])\n",
    "    return sharp_n            "
   ]
  },
  {
   "cell_type": "code",
   "execution_count": 64,
   "metadata": {},
   "outputs": [
    {
     "name": "stdout",
     "output_type": "stream",
     "text": [
      "0\n"
     ]
    }
   ],
   "source": [
    "# test the function above\n",
    "sharp_n = find_sharp_n(cipher_desc, ['—', 'º'], 2)\n",
    "print(sharp_n)"
   ]
  },
  {
   "cell_type": "code",
   "execution_count": 81,
   "metadata": {},
   "outputs": [],
   "source": [
    "def find_ext_order(cipher_desc, topn=100, weights=[0,1,1,1,2,3]):\n",
    "    '''\n",
    "    finds the best order of deciphering cipher symbols (find best extention order)\n",
    "    cipher_desc -- cipher statistics\n",
    "    topn -- int, number of best trees we want to keep during iteration\n",
    "    weights -- list of int, weight for #n, n varies from 1 to 6\n",
    "    '''\n",
    "    symbols_found = list()\n",
    "    symbols_found.append(sorted(cipher_desc['frequencies'], key=cipher_desc['frequencies'].get, reverse=True)[0])\n",
    "    # symbols already found with score\n",
    "    Hs = [(symbols_found, 0)]\n",
    "    # hypothesis extended symbols with score\n",
    "    Ht = []\n",
    "    # initialize the cardinality (number of unique cipher text)\n",
    "    cardinality = 1\n",
    "    # list of cipher characters\n",
    "    Ve = sorted(cipher_desc['frequencies'], key=cipher_desc['frequencies'].get, reverse=True)[1:]\n",
    "    while cardinality < cipher_desc['vocab_length']:\n",
    "    #while cardinality < 3:\n",
    "        for phi, previous_score in Hs:\n",
    "            for e in Ve:\n",
    "                phi_prime = copy.deepcopy(phi)\n",
    "                if e in phi_prime:\n",
    "                    continue\n",
    "                else:\n",
    "                    phi_prime.append(e)\n",
    "                    this_score = 0\n",
    "                    for i in range(1,6,1):\n",
    "                        this_score += weights[i]*find_sharp_n(cipher_desc, phi_prime, i+1)\n",
    "                    Ht.append((phi_prime, this_score))\n",
    "        # prune the histogram\n",
    "        Ht = sorted(Ht, key=lambda x:x[1], reverse=True)[:topn]                    \n",
    "        cardinality += 1\n",
    "        Hs = copy.deepcopy(Ht)\n",
    "        Ht.clear()\n",
    "        print('Working on symbol number', cardinality, '; Current score: ', Hs[0][1])\n",
    "        #print('Hs', Hs)\n",
    "    return sorted(Hs, key=lambda x:x[1], reverse=True)"
   ]
  },
  {
   "cell_type": "code",
   "execution_count": 82,
   "metadata": {},
   "outputs": [
    {
     "name": "stdout",
     "output_type": "stream",
     "text": [
      "Working on symbol number 2 ; Current score:  5\n",
      "Working on symbol number 3 ; Current score:  11\n",
      "Working on symbol number 4 ; Current score:  18\n",
      "Working on symbol number 5 ; Current score:  29\n",
      "Working on symbol number 6 ; Current score:  41\n",
      "Working on symbol number 7 ; Current score:  56\n",
      "Working on symbol number 8 ; Current score:  78\n",
      "Working on symbol number 9 ; Current score:  96\n",
      "Working on symbol number 10 ; Current score:  123\n",
      "Working on symbol number 11 ; Current score:  152\n",
      "Working on symbol number 12 ; Current score:  170\n",
      "Working on symbol number 13 ; Current score:  218\n",
      "Working on symbol number 14 ; Current score:  248\n",
      "Working on symbol number 15 ; Current score:  267\n",
      "Working on symbol number 16 ; Current score:  296\n",
      "Working on symbol number 17 ; Current score:  318\n",
      "Working on symbol number 18 ; Current score:  346\n",
      "Working on symbol number 19 ; Current score:  368\n",
      "Working on symbol number 20 ; Current score:  400\n",
      "Working on symbol number 21 ; Current score:  430\n",
      "Working on symbol number 22 ; Current score:  457\n",
      "Working on symbol number 23 ; Current score:  488\n",
      "Working on symbol number 24 ; Current score:  521\n",
      "Working on symbol number 25 ; Current score:  562\n",
      "Working on symbol number 26 ; Current score:  610\n",
      "Working on symbol number 27 ; Current score:  660\n",
      "Working on symbol number 28 ; Current score:  718\n",
      "Working on symbol number 29 ; Current score:  783\n",
      "Working on symbol number 30 ; Current score:  843\n",
      "Working on symbol number 31 ; Current score:  905\n",
      "Working on symbol number 32 ; Current score:  968\n",
      "Working on symbol number 33 ; Current score:  1029\n",
      "Working on symbol number 34 ; Current score:  1105\n",
      "Working on symbol number 35 ; Current score:  1171\n",
      "Working on symbol number 36 ; Current score:  1242\n",
      "Working on symbol number 37 ; Current score:  1302\n",
      "Working on symbol number 38 ; Current score:  1396\n",
      "Working on symbol number 39 ; Current score:  1472\n",
      "Working on symbol number 40 ; Current score:  1569\n",
      "Working on symbol number 41 ; Current score:  1683\n",
      "Working on symbol number 42 ; Current score:  1798\n",
      "Working on symbol number 43 ; Current score:  1901\n",
      "Working on symbol number 44 ; Current score:  2027\n",
      "Working on symbol number 45 ; Current score:  2156\n",
      "Working on symbol number 46 ; Current score:  2312\n",
      "Working on symbol number 47 ; Current score:  2470\n",
      "Working on symbol number 48 ; Current score:  2605\n",
      "Working on symbol number 49 ; Current score:  2736\n",
      "Working on symbol number 50 ; Current score:  2857\n",
      "Working on symbol number 51 ; Current score:  2960\n",
      "Working on symbol number 52 ; Current score:  3087\n",
      "Working on symbol number 53 ; Current score:  3198\n",
      "Working on symbol number 54 ; Current score:  3235\n"
     ]
    }
   ],
   "source": [
    "%%time\n",
    "# test the function above\n",
    "ext_order = find_ext_order(cipher_desc)"
   ]
  },
  {
   "cell_type": "code",
   "execution_count": 101,
   "metadata": {
    "scrolled": true
   },
   "outputs": [],
   "source": [
    "# ext_order"
   ]
  },
  {
   "cell_type": "code",
   "execution_count": 45,
   "metadata": {},
   "outputs": [],
   "source": [
    "def reverse_mapping(reversed_mapping):\n",
    "    mapping = dict()\n",
    "    for key, values in reversed_mapping.items():\n",
    "        for value in values:\n",
    "            mapping[value] = key\n",
    "    return mapping"
   ]
  },
  {
   "cell_type": "code",
   "execution_count": 46,
   "metadata": {},
   "outputs": [],
   "source": [
    "def score(phi, cipher, lm):\n",
    "    mapping = reverse_mapping(phi)\n",
    "    partial_cipher = ''\n",
    "    bit_string = ''\n",
    "    #n_decipher = 0\n",
    "    for char in cipher:\n",
    "        if char in mapping.keys():\n",
    "            partial_cipher += mapping[char]\n",
    "            bit_string += 'o'\n",
    "            #n_decipher += 1\n",
    "        else:\n",
    "            partial_cipher += char\n",
    "            bit_string += '.'\n",
    "    # print(bit_string)\n",
    "    # return lm.score_bitstring(partial_cipher, bit_string) / n_decipher\n",
    "    return lm.score_bitstring(partial_cipher, bit_string)"
   ]
  },
  {
   "cell_type": "code",
   "execution_count": 47,
   "metadata": {},
   "outputs": [
    {
     "name": "stdout",
     "output_type": "stream",
     "text": [
      "plaintext char to cipher text char {'i': ['º'], 'l': ['∫']}\n",
      "cipher text char to plaintext char {'º': 'i', '∫': 'l'}\n",
      "score:  -32.930710299999994\n"
     ]
    }
   ],
   "source": [
    "# test the two functions above\n",
    "reversed_mapping = {'i': [cipher_desc['content'][0]], 'l': [cipher_desc['content'][1]]}\n",
    "print('plaintext char to cipher text char', reversed_mapping)\n",
    "print('cipher text char to plaintext char', reverse_mapping(reversed_mapping))\n",
    "print('score: ', score(reversed_mapping, cipher, lm))"
   ]
  },
  {
   "cell_type": "code",
   "execution_count": 48,
   "metadata": {},
   "outputs": [],
   "source": [
    "def beam_search(cipher, ext_order, ext_limits=1, topn=1):\n",
    "    '''\n",
    "    finds the mappings between cipher char and plaintext char, returns the mapping dictionary\n",
    "    ext_order -- list, the unigram char list sorted by their count DESC\n",
    "    ext_limits -- int, defines maximum number of cipher char can be mapped to a plaintext char\n",
    "    topn -- int, defines the number of dictionaries we want to keep while pruning\n",
    "    '''\n",
    "    print('Number of unique symbols in cipher:', len(ext_order))\n",
    "    # mapping relationships already found with score\n",
    "    Hs = [(defaultdict(dict), 0)]\n",
    "    # hypothesis mapping relationships with score\n",
    "    Ht = []\n",
    "    # initialize the cardinality (number of unique cipher text)\n",
    "    cardinality = 0\n",
    "    # list of plaintext characters\n",
    "    Ve = [chr(i) for i in range(97, 123, 1)]\n",
    "    while cardinality < len(ext_order):\n",
    "    #while cardinality < 2:\n",
    "        f = ext_order[cardinality]\n",
    "        print('Working on symbol: ', f, f'({cardinality})')\n",
    "        for phi, previous_score in Hs:\n",
    "            for e in Ve:\n",
    "                phi_prime = copy.deepcopy(phi)\n",
    "                if e in phi_prime.keys():\n",
    "                    if len(phi_prime[e]) < ext_limits:\n",
    "                        phi_prime[e].append(f)\n",
    "                        Ht.append((phi_prime, score(phi_prime, cipher, lm)))\n",
    "                else:\n",
    "                    phi_prime[e] = [f]\n",
    "                    this_score = score(phi_prime, cipher, lm)\n",
    "                    Ht.append((phi_prime, this_score))\n",
    "        # prune the histogram\n",
    "        Ht = sorted(Ht, key=lambda x:x[1], reverse=True)[:topn]                    \n",
    "        cardinality += 1\n",
    "        Hs = copy.deepcopy(Ht)\n",
    "        Ht.clear()\n",
    "        print('Current score: ', Hs[0][1])\n",
    "        #print('Hs', Hs)\n",
    "    return sorted(Hs, key=lambda x:x[1], reverse=True)"
   ]
  },
  {
   "cell_type": "code",
   "execution_count": 49,
   "metadata": {},
   "outputs": [],
   "source": [
    "# cipher = read_file(\"data/cipher.txt\")\n",
    "# cipher_desc = get_statistics(cipher, cipher=True)\n",
    "# plaintxt = read_file(\"data/default.wiki.txt.bz2\")\n",
    "# plaintxt_desc = get_statistics(plaintxt, cipher=False)"
   ]
  },
  {
   "cell_type": "code",
   "execution_count": 25,
   "metadata": {},
   "outputs": [],
   "source": [
    "right_most_cipher_vocab = list()\n",
    "for cipher_char in reversed(cipher_desc['content']):\n",
    "    if cipher_char not in right_most_cipher_vocab:\n",
    "        right_most_cipher_vocab.append(cipher_char)"
   ]
  },
  {
   "cell_type": "code",
   "execution_count": 115,
   "metadata": {},
   "outputs": [],
   "source": [
    "import pickle\n",
    "# with open('ext_order.pkl', 'wb') as fh:\n",
    "#     pickle.dump(ext_order, fh)"
   ]
  },
  {
   "cell_type": "code",
   "execution_count": 117,
   "metadata": {},
   "outputs": [],
   "source": [
    "with open('ext_order.pkl', 'rb') as fh:\n",
    "    ext_order = pickle.load(fh, encoding='utf8')"
   ]
  },
  {
   "cell_type": "code",
   "execution_count": 100,
   "metadata": {},
   "outputs": [
    {
     "name": "stdout",
     "output_type": "stream",
     "text": [
      "Number of unique symbols in cipher: 54\n",
      "Working on symbol:  — (0)\n",
      "Current score:  -17.194697199999997\n",
      "Working on symbol:  ∑ (1)\n",
      "Current score:  -26.92681499999999\n",
      "Working on symbol:  B (2)\n",
      "Current score:  -38.529039600000004\n",
      "Working on symbol:  P (3)\n",
      "Current score:  -47.236615400000005\n",
      "Working on symbol:  º (4)\n",
      "Current score:  -60.42009250000001\n",
      "Working on symbol:  ∫ (5)\n",
      "Current score:  -73.30223828000003\n",
      "Working on symbol:  A (6)\n",
      "Current score:  -82.62846930000006\n",
      "Working on symbol:  / (7)\n",
      "Current score:  -88.34939546800003\n",
      "Working on symbol:  Z (8)\n",
      "Current score:  -95.96628496800005\n",
      "Working on symbol:  ∆ (9)\n",
      "Current score:  -98.39449587000003\n",
      "Working on symbol:  u (10)\n",
      "Current score:  -109.77709403000004\n",
      "Working on symbol:  O (11)\n",
      "Current score:  -116.85669908200009\n",
      "Working on symbol:  R (12)\n",
      "Current score:  -128.26186983000005\n",
      "Working on symbol:  À (13)\n",
      "Current score:  -137.32282493000008\n",
      "Working on symbol:  Ã (14)\n",
      "Current score:  -142.3589917200001\n",
      "Working on symbol:  E (15)\n",
      "Current score:  -152.30758202000013\n",
      "Working on symbol:  ^ (16)\n",
      "Current score:  -158.64386821999997\n",
      "Working on symbol:  √ (17)\n",
      "Current score:  -166.1300308200001\n",
      "Working on symbol:  – (18)\n",
      "Current score:  -172.90419717000003\n",
      "Working on symbol:  V (19)\n",
      "Current score:  -180.84035893000004\n",
      "Working on symbol:  W (20)\n",
      "Current score:  -189.09945661999996\n",
      "Working on symbol:  K (21)\n",
      "Current score:  -195.60635943000008\n",
      "Working on symbol:  I (22)\n",
      "Current score:  -206.34440400800003\n",
      "Working on symbol:  £ (23)\n",
      "Current score:  -216.09108842999999\n",
      "Working on symbol:  ∞ (24)\n",
      "Current score:  -225.26349921999986\n",
      "Working on symbol:  H (25)\n",
      "Current score:  -234.13704766000006\n",
      "Working on symbol:  M (26)\n",
      "Current score:  -244.7169485799999\n",
      "Working on symbol:  • (27)\n",
      "Current score:  -251.4140115999999\n",
      "Working on symbol:  X (28)\n",
      "Current score:  -262.50739946\n",
      "Working on symbol:  ≈ (29)\n",
      "Current score:  -276.00649088\n",
      "Working on symbol:  π (30)\n",
      "Current score:  -285.40959521\n",
      "Working on symbol:  F (31)\n",
      "Current score:  -291.49073651000003\n",
      "Working on symbol:  “ (32)\n",
      "Current score:  -298.70960831000014\n",
      "Working on symbol:  S (33)\n",
      "Current score:  -307.67379812\n",
      "Working on symbol:  N (34)\n",
      "Current score:  -316.1481566200001\n",
      "Working on symbol:  L (35)\n",
      "Current score:  -328.66811310000014\n",
      "Working on symbol:  µ (36)\n",
      "Current score:  -338.87786121999994\n",
      "Working on symbol:  æ (37)\n",
      "Current score:  -351.73882742000006\n",
      "Working on symbol:  + (38)\n",
      "Current score:  -362.3713135930001\n",
      "Working on symbol:  G (39)\n",
      "Current score:  -370.65657584200017\n",
      "Working on symbol:  y (40)\n",
      "Current score:  -383.5164790420003\n",
      "Working on symbol:  ‘ (41)\n",
      "Current score:  -394.85752839300005\n",
      "Working on symbol:  ∏ (42)\n",
      "Current score:  -405.32848184600016\n",
      "Working on symbol:  Ç (43)\n",
      "Current score:  -412.239505107\n",
      "Working on symbol:  J (44)\n",
      "Current score:  -420.15821414200025\n",
      "Working on symbol:  T (45)\n",
      "Current score:  -430.59380760000033\n",
      "Working on symbol:  Q (46)\n",
      "Current score:  -438.61369004000045\n",
      "Working on symbol:  ƒ (47)\n",
      "Current score:  -450.95377453000026\n",
      "Working on symbol:  D (48)\n",
      "Current score:  -461.6893509720001\n",
      "Working on symbol:  \\ (49)\n",
      "Current score:  -468.3452220020002\n",
      "Working on symbol:  ¢ (50)\n",
      "Current score:  -474.8552204620002\n",
      "Working on symbol:  § (51)\n",
      "Current score:  -482.45993166200014\n",
      "Working on symbol:  Ω (52)\n",
      "Current score:  -488.8649479220004\n",
      "Working on symbol:  j (53)\n",
      "Current score:  -489.34895032200046\n",
      "Wall time: 49min\n"
     ]
    }
   ],
   "source": [
    "%%time\n",
    "sorted_keys = sorted(cipher_desc['frequencies'], key=cipher_desc['frequencies'].get, reverse=True)\n",
    "#reversed_mappings = beam_search(cipher_desc['content'], sorted_keys, 3, 100)\n",
    "#reversed_mappings = beam_search(cipher_desc['content'], right_most_cipher_vocab, 8, 10000)\n",
    "reversed_mappings = beam_search(cipher_desc['content'], ext_order[0][0], 54, 500)"
   ]
  },
  {
   "cell_type": "code",
   "execution_count": 102,
   "metadata": {
    "scrolled": true
   },
   "outputs": [],
   "source": [
    "mapping = reverse_mapping(reversed_mappings[0][0])"
   ]
  },
  {
   "cell_type": "code",
   "execution_count": 103,
   "metadata": {},
   "outputs": [
    {
     "data": {
      "text/plain": [
       "54"
      ]
     },
     "execution_count": 103,
     "metadata": {},
     "output_type": "execute_result"
    }
   ],
   "source": [
    "len(mapping)"
   ]
  },
  {
   "cell_type": "code",
   "execution_count": 104,
   "metadata": {},
   "outputs": [
    {
     "name": "stdout",
     "output_type": "stream",
     "text": [
      "esentnessetttrhtsrerainthesetisenatenseseleineananthanessettlesotheresetteseartseraintreiaeisthehinwhatensnrhtieisiahssesnesstherstestteetierstresineteesseatrathaeaaresettertersnrnethsthsseatsineasanthealentitenseteeristiesseeneiethelttaewerelesserareintesthehoeahlawisssteethernesstolesseraherestsiertelesstinteerssnessheretainirsinlessenssstshewhlasalestesassshanetthatsietteinesiesresearherheersherstttese\n",
      "score -489.34895032200046\n",
      "408\n"
     ]
    }
   ],
   "source": [
    "decipher_text = ''\n",
    "for char in cipher_desc['content']:\n",
    "    decipher_text += mapping[char]\n",
    "print(decipher_text)\n",
    "print('score', lm.score_seq(decipher_text))\n",
    "print(len(decipher_text))"
   ]
  },
  {
   "cell_type": "code",
   "execution_count": 91,
   "metadata": {},
   "outputs": [
    {
     "name": "stdout",
     "output_type": "stream",
     "text": [
      "ilikekillingpeoplebecauseitissomuchfunitismorefunthankillingwildgameintheforrestbecausemanisthemostdangeroueanamalofalltokillsomethinggivesmethemostthrillingexperenceitisevenbetterthangettingyourrocksoffwithagirlthebestpartofitisthaewhenidieiwillbereborninparadicesndalltheihavekilledwillbecomemyslavesiwillnotgiveyoumynamebecauseyouwilltrytosloidownorstopmycollectiogofslavesformyafterlifeebeorietemethhpiti\n",
      "score -359.0030393831197\n",
      "408\n"
     ]
    }
   ],
   "source": [
    "with open('data/_ref_Zodiac_408.txt', 'r') as fh:\n",
    "    ground_truth = fh.read()\n",
    "print(ground_truth)\n",
    "print('score', lm.score_seq(ground_truth))\n",
    "print(len(ground_truth))"
   ]
  },
  {
   "cell_type": "code",
   "execution_count": 105,
   "metadata": {},
   "outputs": [
    {
     "data": {
      "text/plain": [
       "0.9852941176470589"
      ]
     },
     "execution_count": 105,
     "metadata": {},
     "output_type": "execute_result"
    }
   ],
   "source": [
    "symbol_error_rate(decipher_text, 'data/_ref_Zodiac_408.txt')"
   ]
  },
  {
   "cell_type": "code",
   "execution_count": null,
   "metadata": {},
   "outputs": [],
   "source": []
  },
  {
   "cell_type": "markdown",
   "metadata": {},
   "source": [
    "Notice that the default solution provides a very bad decipherment. Your job is to make it better!"
   ]
  },
  {
   "cell_type": "markdown",
   "metadata": {},
   "source": [
    "## Grading"
   ]
  },
  {
   "cell_type": "markdown",
   "metadata": {},
   "source": [
    "Ignore the following cells. They are for grading against the reference decipherment. Based on the clues provided in the decipherment homework description, you can easily find a reasonable reference text online for this cipher text."
   ]
  },
  {
   "cell_type": "code",
   "execution_count": 93,
   "metadata": {},
   "outputs": [],
   "source": [
    "\"\"\"\n",
    "ATTENTION!\n",
    "For grading purposes only. Don't bundle with the assignment. \n",
    "Make sure '_ref.txt' is removed from the 'data' directory before publishing.\n",
    "\"\"\"\n",
    "\n",
    "def read_gold(gold_file):\n",
    "    with open(gold_file) as f:\n",
    "        gold = f.read()\n",
    "    f.close()\n",
    "    gold = list(gold.strip())\n",
    "    return gold\n",
    "\n",
    "def symbol_error_rate(dec, _gold):\n",
    "    gold = read_gold(_gold)\n",
    "    correct = 0\n",
    "    if len(gold) == len(dec):\n",
    "        for (d,g) in zip(dec, gold):\n",
    "            if d==g:\n",
    "                correct += 1\n",
    "    wrong = len(gold)-correct\n",
    "    error = wrong/len(gold)\n",
    "    \n",
    "    return error"
   ]
  },
  {
   "cell_type": "code",
   "execution_count": null,
   "metadata": {},
   "outputs": [],
   "source": [
    "# gold decipherment\n",
    "gold_file = \"data/_ref.txt\"\n",
    "ser = symbol_error_rate(decipherment, gold_file)\n",
    "print('Error: ', ser*100, 'Accuracy: ', (1-ser)*100)"
   ]
  },
  {
   "cell_type": "code",
   "execution_count": null,
   "metadata": {},
   "outputs": [],
   "source": []
  }
 ],
 "metadata": {
  "kernelspec": {
   "display_name": "Python 3",
   "language": "python",
   "name": "python3"
  },
  "language_info": {
   "codemirror_mode": {
    "name": "ipython",
    "version": 3
   },
   "file_extension": ".py",
   "mimetype": "text/x-python",
   "name": "python",
   "nbconvert_exporter": "python",
   "pygments_lexer": "ipython3",
   "version": "3.6.5"
  }
 },
 "nbformat": 4,
 "nbformat_minor": 2
}
