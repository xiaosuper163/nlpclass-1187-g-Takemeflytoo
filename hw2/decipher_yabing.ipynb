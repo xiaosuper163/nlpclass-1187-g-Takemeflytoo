{
 "cells": [
  {
   "cell_type": "markdown",
   "metadata": {},
   "source": [
    "# Homework: Decipherment"
   ]
  },
  {
   "cell_type": "code",
   "execution_count": 2,
   "metadata": {},
   "outputs": [
    {
     "name": "stdout",
     "output_type": "stream",
     "text": [
      "The autoreload extension is already loaded. To reload it, use:\n",
      "  %reload_ext autoreload\n"
     ]
    }
   ],
   "source": [
    "%load_ext autoreload\n",
    "%autoreload 2\n",
    "from collections import defaultdict, Counter\n",
    "import collections\n",
    "import pprint\n",
    "import math\n",
    "import bz2\n",
    "from ngram import *\n",
    "import sys, string\n",
    "import copy\n",
    "import pickle\n",
    "pp = pprint.PrettyPrinter(width=45, compact=True)"
   ]
  },
  {
   "cell_type": "markdown",
   "metadata": {},
   "source": [
    "First let us read in the cipher text from the `data` directory:"
   ]
  },
  {
   "cell_type": "code",
   "execution_count": 3,
   "metadata": {},
   "outputs": [
    {
     "name": "stdout",
     "output_type": "stream",
     "text": [
      "º∫P/Z/uB∫ÀOR•–X•B\n",
      "WV+≈GyF∞ºHPπKÇ—y≈\n",
      "MJy^uIÀΩ—T‘NQyDµ£\n",
      "S¢/º∑BPORAu∫∆RÃ—E\n",
      "À^LMZJƒ“\\–FHVW≈æy\n",
      "π+—GDºKI£∞—Xæµ§S¢\n",
      "RN‘IyEÃOæ—GBTQS∑B\n",
      "Lƒ/P∑BπX—EHMu^RRÀ\n",
      "√ZK—–I£W—ÇæµLM“º∑\n",
      "BPDR+j•∞\\N¢≈EuHÀF\n",
      "Z√–OVWIµ+‘L£Ã^R∞H\n",
      "IºDR∏Ty“\\ƒ≈/πXJQA\n",
      "PµMæRu‘∫L£NVEKH•G\n",
      "“IÇJÀµºæLMÃNA£Z¢P\n",
      "§u–ÀAº∑BVW\\+VT‘OP\n",
      "^•S“Ã∆u≈∞ΩD§G∫∫IM\n",
      "NÀ£S√E/º∫∫Z∆AP∑BV\n",
      "–≈X—W—∏F∑æ√+πºAºB\n",
      "∫OTµRu√+∏ƒy—∏^S—W\n",
      "VZ≈GyKE∏TyAº∫∑L‘∏\n",
      "HÇFBXº§XADƒ\\ΩLÇ•—\n",
      "∏≈ƒ∑∑∞≈µPORXQF∫G√\n",
      "ZπJT‘—∏æJI+“BPQW∞\n",
      "VEX“ºWI∞—EHM£•uIÀ\n"
     ]
    }
   ],
   "source": [
    "def read_file(filename):\n",
    "    if filename[-4:] == \".bz2\":\n",
    "        with bz2.open(filename, 'rt', encoding='utf8') as f:\n",
    "            content = f.read()\n",
    "            f.close()\n",
    "    else:\n",
    "        with open(filename, 'r', encoding='utf8') as f:\n",
    "            content = f.read()\n",
    "            f.close()\n",
    "    return content\n",
    "\n",
    "cipher = read_file(\"data/cipher.txt\")\n",
    "print(cipher)"
   ]
  },
  {
   "cell_type": "markdown",
   "metadata": {},
   "source": [
    "For the default solution we need to compute statistics like length, number of symbols/letters, \n",
    "unique occurences, frequencies and relative frequencies of a given file. This is done in the function `get_statistics` below.\n",
    "\n",
    "While using `get_statistics`, make sure that `cipher=True` is set when the input is a ciphertext."
   ]
  },
  {
   "cell_type": "code",
   "execution_count": 4,
   "metadata": {},
   "outputs": [],
   "source": [
    "def get_statistics(content, cipher=True):\n",
    "    stats = {}\n",
    "    content = list(content)\n",
    "    split_content = [x for x in content if x != '\\n' and x!=' ']\n",
    "    length = len(split_content)\n",
    "    symbols = set(split_content)\n",
    "    uniq_sym = len(list(symbols))\n",
    "    freq = collections.Counter(split_content)\n",
    "    rel_freq = {}\n",
    "    for sym, frequency in freq.items():\n",
    "        rel_freq[sym] = (frequency/length)*100\n",
    "        \n",
    "    if cipher:\n",
    "        stats = {'content':split_content, 'length':length, 'vocab':list(symbols), 'vocab_length':uniq_sym, 'frequencies':freq, 'relative_freq':rel_freq}\n",
    "    else:\n",
    "        stats = {'length':length, 'vocab':list(symbols), 'vocab_length':uniq_sym, 'frequencies':freq, 'relative_freq':rel_freq}\n",
    "    return stats"
   ]
  },
  {
   "cell_type": "code",
   "execution_count": 5,
   "metadata": {
    "scrolled": true
   },
   "outputs": [
    {
     "name": "stdout",
     "output_type": "stream",
     "text": [
      "{'content': ['º', '∫', 'P', '/', 'Z', '/',\n",
      "             'u', 'B', '∫', 'À', 'O', 'R',\n",
      "             '•', '–', 'X', '•', 'B', 'W',\n",
      "             'V', '+', '≈', 'G', 'y', 'F',\n",
      "             '∞', 'º', 'H', 'P', 'π', 'K',\n",
      "             'Ç', '—', 'y', '≈', 'M', 'J',\n",
      "             'y', '^', 'u', 'I', 'À', 'Ω',\n",
      "             '—', 'T', '‘', 'N', 'Q', 'y',\n",
      "             'D', 'µ', '£', 'S', '¢', '/',\n",
      "             'º', '∑', 'B', 'P', 'O', 'R',\n",
      "             'A', 'u', '∫', '∆', 'R', 'Ã',\n",
      "             '—', 'E', 'À', '^', 'L', 'M',\n",
      "             'Z', 'J', 'ƒ', '“', '\\\\', '–',\n",
      "             'F', 'H', 'V', 'W', '≈', 'æ',\n",
      "             'y', 'π', '+', '—', 'G', 'D',\n",
      "             'º', 'K', 'I', '£', '∞', '—',\n",
      "             'X', 'æ', 'µ', '§', 'S', '¢',\n",
      "             'R', 'N', '‘', 'I', 'y', 'E',\n",
      "             'Ã', 'O', 'æ', '—', 'G', 'B',\n",
      "             'T', 'Q', 'S', '∑', 'B', 'L',\n",
      "             'ƒ', '/', 'P', '∑', 'B', 'π',\n",
      "             'X', '—', 'E', 'H', 'M', 'u',\n",
      "             '^', 'R', 'R', 'À', '√', 'Z',\n",
      "             'K', '—', '–', 'I', '£', 'W',\n",
      "             '—', 'Ç', 'æ', 'µ', 'L', 'M',\n",
      "             '“', 'º', '∑', 'B', 'P', 'D',\n",
      "             'R', '+', 'j', '•', '∞', '\\\\',\n",
      "             'N', '¢', '≈', 'E', 'u', 'H',\n",
      "             'À', 'F', 'Z', '√', '–', 'O',\n",
      "             'V', 'W', 'I', 'µ', '+', '‘',\n",
      "             'L', '£', 'Ã', '^', 'R', '∞',\n",
      "             'H', 'I', 'º', 'D', 'R', '∏',\n",
      "             'T', 'y', '“', '\\\\', 'ƒ', '≈',\n",
      "             '/', 'π', 'X', 'J', 'Q', 'A',\n",
      "             'P', 'µ', 'M', 'æ', 'R', 'u',\n",
      "             '‘', '∫', 'L', '£', 'N', 'V',\n",
      "             'E', 'K', 'H', '•', 'G', '“',\n",
      "             'I', 'Ç', 'J', 'À', 'µ', 'º',\n",
      "             'æ', 'L', 'M', 'Ã', 'N', 'A',\n",
      "             '£', 'Z', '¢', 'P', '§', 'u',\n",
      "             '–', 'À', 'A', 'º', '∑', 'B',\n",
      "             'V', 'W', '\\\\', '+', 'V', 'T',\n",
      "             '‘', 'O', 'P', '^', '•', 'S',\n",
      "             '“', 'Ã', '∆', 'u', '≈', '∞',\n",
      "             'Ω', 'D', '§', 'G', '∫', '∫',\n",
      "             'I', 'M', 'N', 'À', '£', 'S',\n",
      "             '√', 'E', '/', 'º', '∫', '∫',\n",
      "             'Z', '∆', 'A', 'P', '∑', 'B',\n",
      "             'V', '–', '≈', 'X', '—', 'W',\n",
      "             '—', '∏', 'F', '∑', 'æ', '√',\n",
      "             '+', 'π', 'º', 'A', 'º', 'B',\n",
      "             '∫', 'O', 'T', 'µ', 'R', 'u',\n",
      "             '√', '+', '∏', 'ƒ', 'y', '—',\n",
      "             '∏', '^', 'S', '—', 'W', 'V',\n",
      "             'Z', '≈', 'G', 'y', 'K', 'E',\n",
      "             '∏', 'T', 'y', 'A', 'º', '∫',\n",
      "             '∑', 'L', '‘', '∏', 'H', 'Ç',\n",
      "             'F', 'B', 'X', 'º', '§', 'X',\n",
      "             'A', 'D', 'ƒ', '\\\\', 'Ω', 'L',\n",
      "             'Ç', '•', '—', '∏', '≈', 'ƒ',\n",
      "             '∑', '∑', '∞', '≈', 'µ', 'P',\n",
      "             'O', 'R', 'X', 'Q', 'F', '∫',\n",
      "             'G', '√', 'Z', 'π', 'J', 'T',\n",
      "             '‘', '—', '∏', 'æ', 'J', 'I',\n",
      "             '+', '“', 'B', 'P', 'Q', 'W',\n",
      "             '∞', 'V', 'E', 'X', '“', 'º',\n",
      "             'W', 'I', '∞', '—', 'E', 'H',\n",
      "             'M', '£', '•', 'u', 'I', 'À'],\n",
      " 'frequencies': Counter({'—': 16,\n",
      "                         'º': 14,\n",
      "                         'B': 12,\n",
      "                         'R': 12,\n",
      "                         '∫': 11,\n",
      "                         'P': 11,\n",
      "                         'I': 11,\n",
      "                         'u': 10,\n",
      "                         '≈': 10,\n",
      "                         'y': 10,\n",
      "                         '∑': 10,\n",
      "                         'À': 9,\n",
      "                         'X': 9,\n",
      "                         'W': 9,\n",
      "                         'V': 9,\n",
      "                         'E': 9,\n",
      "                         'Z': 8,\n",
      "                         '+': 8,\n",
      "                         '∞': 8,\n",
      "                         'H': 8,\n",
      "                         'M': 8,\n",
      "                         'µ': 8,\n",
      "                         '£': 8,\n",
      "                         'A': 8,\n",
      "                         'L': 8,\n",
      "                         'æ': 8,\n",
      "                         '∏': 8,\n",
      "                         'O': 7,\n",
      "                         '•': 7,\n",
      "                         'G': 7,\n",
      "                         'T': 7,\n",
      "                         '‘': 7,\n",
      "                         '“': 7,\n",
      "                         '/': 6,\n",
      "                         '–': 6,\n",
      "                         'F': 6,\n",
      "                         'π': 6,\n",
      "                         'J': 6,\n",
      "                         '^': 6,\n",
      "                         'N': 6,\n",
      "                         'D': 6,\n",
      "                         'S': 6,\n",
      "                         'ƒ': 6,\n",
      "                         '√': 6,\n",
      "                         'K': 5,\n",
      "                         'Ç': 5,\n",
      "                         'Q': 5,\n",
      "                         'Ã': 5,\n",
      "                         '\\\\': 5,\n",
      "                         '¢': 4,\n",
      "                         '§': 4,\n",
      "                         'Ω': 3,\n",
      "                         '∆': 3,\n",
      "                         'j': 1}),\n",
      " 'length': 408,\n",
      " 'relative_freq': {'+': 1.9607843137254901,\n",
      "                   '/': 1.4705882352941175,\n",
      "                   'A': 1.9607843137254901,\n",
      "                   'B': 2.941176470588235,\n",
      "                   'D': 1.4705882352941175,\n",
      "                   'E': 2.2058823529411766,\n",
      "                   'F': 1.4705882352941175,\n",
      "                   'G': 1.715686274509804,\n",
      "                   'H': 1.9607843137254901,\n",
      "                   'I': 2.696078431372549,\n",
      "                   'J': 1.4705882352941175,\n",
      "                   'K': 1.2254901960784315,\n",
      "                   'L': 1.9607843137254901,\n",
      "                   'M': 1.9607843137254901,\n",
      "                   'N': 1.4705882352941175,\n",
      "                   'O': 1.715686274509804,\n",
      "                   'P': 2.696078431372549,\n",
      "                   'Q': 1.2254901960784315,\n",
      "                   'R': 2.941176470588235,\n",
      "                   'S': 1.4705882352941175,\n",
      "                   'T': 1.715686274509804,\n",
      "                   'V': 2.2058823529411766,\n",
      "                   'W': 2.2058823529411766,\n",
      "                   'X': 2.2058823529411766,\n",
      "                   'Z': 1.9607843137254901,\n",
      "                   '\\\\': 1.2254901960784315,\n",
      "                   '^': 1.4705882352941175,\n",
      "                   'j': 0.24509803921568626,\n",
      "                   'u': 2.450980392156863,\n",
      "                   'y': 2.450980392156863,\n",
      "                   '¢': 0.9803921568627451,\n",
      "                   '£': 1.9607843137254901,\n",
      "                   '§': 0.9803921568627451,\n",
      "                   'µ': 1.9607843137254901,\n",
      "                   'º': 3.431372549019608,\n",
      "                   'À': 2.2058823529411766,\n",
      "                   'Ã': 1.2254901960784315,\n",
      "                   'Ç': 1.2254901960784315,\n",
      "                   'æ': 1.9607843137254901,\n",
      "                   'ƒ': 1.4705882352941175,\n",
      "                   'Ω': 0.7352941176470588,\n",
      "                   'π': 1.4705882352941175,\n",
      "                   '–': 1.4705882352941175,\n",
      "                   '—': 3.9215686274509802,\n",
      "                   '‘': 1.715686274509804,\n",
      "                   '“': 1.715686274509804,\n",
      "                   '•': 1.715686274509804,\n",
      "                   '∆': 0.7352941176470588,\n",
      "                   '∏': 1.9607843137254901,\n",
      "                   '∑': 2.450980392156863,\n",
      "                   '√': 1.4705882352941175,\n",
      "                   '∞': 1.9607843137254901,\n",
      "                   '∫': 2.696078431372549,\n",
      "                   '≈': 2.450980392156863},\n",
      " 'vocab': ['£', 'G', 'æ', '“', '∆', 'π', 'ƒ',\n",
      "           'D', '¢', '∞', '\\\\', 'X', 'O',\n",
      "           '–', 'Ã', '√', '∑', '^', 'F', 'À',\n",
      "           '∫', '≈', 'u', 'M', '•', '+', 'P',\n",
      "           '§', 'W', 'y', '—', 'Ω', 'J', 'L',\n",
      "           'H', 'T', 'Z', 'Q', 'º', 'A', 'N',\n",
      "           'K', 'S', 'j', '/', 'µ', 'E', 'V',\n",
      "           '∏', '‘', 'R', 'B', 'I', 'Ç'],\n",
      " 'vocab_length': 54}\n"
     ]
    }
   ],
   "source": [
    "cipher_desc = get_statistics(cipher, cipher=True)\n",
    "pp.pprint(cipher_desc)"
   ]
  },
  {
   "cell_type": "markdown",
   "metadata": {
    "heading_collapsed": true
   },
   "source": [
    "## Load the 6-gram model"
   ]
  },
  {
   "cell_type": "code",
   "execution_count": 6,
   "metadata": {
    "hidden": true
   },
   "outputs": [
    {
     "name": "stderr",
     "output_type": "stream",
     "text": [
      "Reading language model from data/6-gram-wiki-char.lm.bz2...\n"
     ]
    },
    {
     "name": "stdout",
     "output_type": "stream",
     "text": [
      "Wall time: 15.8 s\n"
     ]
    },
    {
     "name": "stderr",
     "output_type": "stream",
     "text": [
      "Done.\n"
     ]
    }
   ],
   "source": [
    "%%time\n",
    "sequence = 'In a few cases, a multilingual artifact has been necessary to facilitate decipherment, the Rosetta Stone being the classic example. Statistical techniques provide another pathway to decipherment, as does the analysis of modern languages derived from ancient languages in which undeciphered texts are written. Archaeological and historical information is helpful in verifying hypothesized decipherments.'\n",
    "\n",
    "# lm = LM(\"data/6-gram-wiki-char.lm.bz2\", n=6, verbose=True)\n",
    "lm = LM(\"data/6-gram-wiki-char.lm.bz2\", n=6, verbose=False)"
   ]
  },
  {
   "cell_type": "code",
   "execution_count": null,
   "metadata": {
    "hidden": true
   },
   "outputs": [],
   "source": [
    "print(sequence)\n",
    "lm_logprob = lm.score_seq(sequence)\n",
    "print(\"TOTAL LM LOGPROB: {}\".format(lm_logprob), file=sys.stderr)\n",
    "\n",
    "print(\"TOTAL LM LOGPROB: {}\".format(lm.score_seq('this is the text.')), file=sys.stderr)\n",
    "print(\"TOTAL LM LOGPROB: {}\".format(lm.score_seq('jasbklfhthejkldhf')), file=sys.stderr)\n",
    "\n",
    "print(lm.get_bitstring_spans('..oo...ooo..'))\n",
    "print(lm.score_bitstring('thisisatest', 'oo...oo.ooo'))"
   ]
  },
  {
   "cell_type": "code",
   "execution_count": null,
   "metadata": {
    "hidden": true
   },
   "outputs": [],
   "source": [
    "# sequence = 'thisisatest'\n",
    "# bitstring = 'ooooooooooo'\n",
    "# bitstring_ = '.oooooo.oo.'\n",
    "# this_symbol = 't'\n",
    "# mapping = {'h':'h', 'i':'i', 's':'s', 'a':'a', 'e':'e'}\n",
    "# #previous_score = lm.score_bitstring('thisisatest', bitstring_)\n",
    "# previous_score = 0\n",
    "# print(previous_score)\n",
    "# temp_dict = dict()\n",
    "# lm_state_dict = dict()\n",
    "# Ve = [chr(i) for i in range(97, 123, 1)]\n",
    "# for char in Ve:\n",
    "#     lm_state_dict[char] = lm.begin()\n",
    "#     temp_dict[char] = previous_score\n",
    "# for token in sequence:\n",
    "#     if token == this_symbol:\n",
    "#         for char in Ve:\n",
    "#             lm_state = lm_state_dict[char]\n",
    "#             (lm_state, logprob) = lm.score(lm_state, char)\n",
    "#             lm_state_dict[char] = lm_state\n",
    "#             temp_dict[char] += logprob\n",
    "#             if char == 't':\n",
    "#                 print('lm_state', lm_state)\n",
    "#     else:\n",
    "#         for char in Ve:\n",
    "#             lm_state = lm_state_dict[char]\n",
    "#             (lm_state, logprob) = lm.score(lm_state, mapping[token])\n",
    "#             lm_state_dict[char] = lm_state\n",
    "#             temp_dict[char] += logprob\n",
    "#             if char == 't':\n",
    "#                 print('lm_state', lm_state)\n",
    "# for char in Ve:\n",
    "#     lm_state = lm_state_dict[char]\n",
    "#     temp_dict[char] += lm.end(lm_state)\n",
    "# print(temp_dict['t'], temp_dict['d'])\n",
    "\n",
    "# spans = lm.get_bitstring_spans(bitstring)\n",
    "# seq_by_bits = [ sequence[i] if i in spans else '\\t' for i in range(len(sequence)) ]\n",
    "# lm_state = lm.begin()\n",
    "# lm_logprob = 0.0 \n",
    "# for token in list(seq_by_bits):\n",
    "#     if token == '\\t': # should we skip this token?\n",
    "#         lm_state = ()\n",
    "#         continue\n",
    "#     lm.maybe_write(\"state: {}\".format(lm_state + (token,)))\n",
    "#     (lm_state, logprob) = lm.score(lm_state, token)\n",
    "#     lm_logprob += logprob\n",
    "#     lm.maybe_write(\"logprob={}\".format(logprob))\n",
    "#     print('logrob2222', logprob)\n",
    "# lm_logprob += lm.end(lm_state)\n",
    "# print(lm_logprob)\n",
    "# -11.05281791\n",
    "# -18.7161607"
   ]
  },
  {
   "cell_type": "markdown",
   "metadata": {
    "heading_collapsed": true
   },
   "source": [
    "## Implementation for Reference 3"
   ]
  },
  {
   "cell_type": "code",
   "execution_count": 7,
   "metadata": {
    "hidden": true
   },
   "outputs": [],
   "source": [
    "def find_sharp_n(cipher_desc, symbols_found, n_order):\n",
    "    '''\n",
    "    finds the #n for order n_order\n",
    "    cipher_desc -- cipher statistics\n",
    "    symbols_found -- list of single character string,\n",
    "                     specifies the list of symbols have been placed in the extention order\n",
    "    n_order -- int, specifies the order of n-gram\n",
    "    '''\n",
    "    sharp_n = 0\n",
    "    for i in range(len(cipher_desc['content'])-n_order+1):\n",
    "        #flag = True\n",
    "        for j in range(i, i+n_order, 1):\n",
    "            if cipher_desc['content'][j] not in symbols_found:\n",
    "                break\n",
    "            if j == (i+n_order-1):\n",
    "                sharp_n += 1\n",
    "                #print(cipher_desc['content'][i:i+n_order])\n",
    "    return sharp_n            "
   ]
  },
  {
   "cell_type": "code",
   "execution_count": 8,
   "metadata": {
    "hidden": true
   },
   "outputs": [
    {
     "name": "stdout",
     "output_type": "stream",
     "text": [
      "0\n"
     ]
    }
   ],
   "source": [
    "# test the function above\n",
    "sharp_n = find_sharp_n(cipher_desc, ['—', 'º'], 2)\n",
    "print(sharp_n)"
   ]
  },
  {
   "cell_type": "code",
   "execution_count": null,
   "metadata": {
    "hidden": true
   },
   "outputs": [],
   "source": [
    "def find_ext_order(cipher_desc, topn=100, weights=[0,1,1,1,2,3]):\n",
    "    '''\n",
    "    finds the best order of deciphering cipher symbols (find best extention order)\n",
    "    cipher_desc -- cipher statistics\n",
    "    topn -- int, number of best trees we want to keep during iteration\n",
    "    weights -- list of int, weight for #n, n varies from 1 to 6\n",
    "    '''\n",
    "    symbols_found = list()\n",
    "    symbols_found.append(sorted(cipher_desc['frequencies'], key=cipher_desc['frequencies'].get, reverse=True)[0])\n",
    "    # symbols already found with score\n",
    "    Hs = [(symbols_found, 0)]\n",
    "    # hypothesis extended symbols with score\n",
    "    Ht = []\n",
    "    # initialize the cardinality (number of unique cipher text)\n",
    "    cardinality = 1\n",
    "    # list of cipher characters\n",
    "    Ve = sorted(cipher_desc['frequencies'], key=cipher_desc['frequencies'].get, reverse=True)[1:]\n",
    "    while cardinality < cipher_desc['vocab_length']:\n",
    "    #while cardinality < 3:\n",
    "        for phi, previous_score in Hs:\n",
    "            for e in Ve:\n",
    "                phi_prime = copy.deepcopy(phi)\n",
    "                if e in phi_prime:\n",
    "                    continue\n",
    "                else:\n",
    "                    phi_prime.append(e)\n",
    "                    this_score = 0\n",
    "                    for i in range(1,6,1):\n",
    "                        this_score += weights[i]*find_sharp_n(cipher_desc, phi_prime, i+1)\n",
    "                    Ht.append((phi_prime, this_score))\n",
    "        # prune the histogram\n",
    "        Ht = sorted(Ht, key=lambda x:x[1], reverse=True)[:topn]                    \n",
    "        cardinality += 1\n",
    "        Hs = copy.deepcopy(Ht)\n",
    "        Ht.clear()\n",
    "        print('Working on symbol number', cardinality, '; Current best score: ', Hs[0][1])\n",
    "        #print('Hs', Hs)\n",
    "    return sorted(Hs, key=lambda x:x[1], reverse=True)"
   ]
  },
  {
   "cell_type": "code",
   "execution_count": null,
   "metadata": {
    "hidden": true
   },
   "outputs": [],
   "source": [
    "%%time\n",
    "# test the function above\n",
    "ext_order = find_ext_order(cipher_desc)"
   ]
  },
  {
   "cell_type": "markdown",
   "metadata": {},
   "source": [
    "## Baseline"
   ]
  },
  {
   "cell_type": "code",
   "execution_count": 9,
   "metadata": {},
   "outputs": [],
   "source": [
    "def reverse_mapping(reversed_mapping):\n",
    "    mapping = dict()\n",
    "    for key, values in reversed_mapping.items():\n",
    "        for value in values:\n",
    "            mapping[value] = key\n",
    "    return mapping"
   ]
  },
  {
   "cell_type": "code",
   "execution_count": 10,
   "metadata": {},
   "outputs": [],
   "source": [
    "def score(phi, cipher, lm):\n",
    "    mapping = reverse_mapping(phi)\n",
    "    partial_cipher = ''\n",
    "    bit_string = ''\n",
    "    #n_decipher = 0\n",
    "    for char in cipher:\n",
    "        if char in mapping.keys():\n",
    "            partial_cipher += mapping[char]\n",
    "            bit_string += 'o'\n",
    "            #n_decipher += 1\n",
    "        else:\n",
    "            partial_cipher += char\n",
    "            bit_string += '.'\n",
    "    # print(bit_string)\n",
    "    # return lm.score_bitstring(partial_cipher, bit_string) / n_decipher\n",
    "    return lm.score_bitstring(partial_cipher, bit_string)"
   ]
  },
  {
   "cell_type": "code",
   "execution_count": 11,
   "metadata": {},
   "outputs": [
    {
     "name": "stdout",
     "output_type": "stream",
     "text": [
      "plaintext char to cipher text char {'i': ['º'], 'l': ['∫']}\n",
      "cipher text char to plaintext char {'º': 'i', '∫': 'l'}\n",
      "score:  -32.930710299999994\n"
     ]
    }
   ],
   "source": [
    "# test the two functions above\n",
    "reversed_mapping = {'i': [cipher_desc['content'][0]], 'l': [cipher_desc['content'][1]]}\n",
    "print('plaintext char to cipher text char', reversed_mapping)\n",
    "print('cipher text char to plaintext char', reverse_mapping(reversed_mapping))\n",
    "print('score: ', score(reversed_mapping, cipher, lm))"
   ]
  },
  {
   "cell_type": "code",
   "execution_count": 12,
   "metadata": {},
   "outputs": [],
   "source": [
    "def beam_search(cipher, ext_order, ext_limits=1, topn=1):\n",
    "    '''\n",
    "    finds the mappings between cipher char and plaintext char, returns the mapping dictionary\n",
    "    ext_order -- list, the unigram char list sorted by their count DESC\n",
    "    ext_limits -- int, defines maximum number of cipher char can be mapped to a plaintext char\n",
    "    topn -- int, defines the number of dictionaries we want to keep while pruning\n",
    "    '''\n",
    "    print('Number of unique symbols in cipher:', len(ext_order))\n",
    "    # mapping relationships already found with score\n",
    "    Hs = [(defaultdict(dict), 0)]\n",
    "    # hypothesis mapping relationships with score\n",
    "    Ht = []\n",
    "    # initialize the cardinality (number of unique cipher text)\n",
    "    cardinality = 0\n",
    "    # list of plaintext characters\n",
    "    Ve = [chr(i) for i in range(97, 123, 1)]\n",
    "    while cardinality < len(ext_order):\n",
    "    #while cardinality < 2:\n",
    "        f = ext_order[cardinality]\n",
    "        print('Working on symbol: ', f, f'({cardinality})')\n",
    "        for phi, previous_score in Hs:\n",
    "            for e in Ve:\n",
    "                phi_prime = copy.deepcopy(phi)\n",
    "                if e in phi_prime.keys():\n",
    "                    if len(phi_prime[e]) < ext_limits:\n",
    "                        phi_prime[e].append(f)\n",
    "                        Ht.append((phi_prime, score(phi_prime, cipher, lm)))\n",
    "                else:\n",
    "                    phi_prime[e] = [f]\n",
    "                    this_score = score(phi_prime, cipher, lm)\n",
    "                    Ht.append((phi_prime, this_score))\n",
    "        # prune the histogram\n",
    "        Ht = sorted(Ht, key=lambda x:x[1], reverse=True)[:topn]                    \n",
    "        cardinality += 1\n",
    "        Hs = copy.deepcopy(Ht)\n",
    "        Ht.clear()\n",
    "        print('Current score: ', Hs[0][1])\n",
    "        #print('Hs', Hs)\n",
    "    return sorted(Hs, key=lambda x:x[1], reverse=True)"
   ]
  },
  {
   "cell_type": "code",
   "execution_count": 13,
   "metadata": {},
   "outputs": [],
   "source": [
    "# cipher = read_file(\"data/cipher.txt\")\n",
    "# cipher_desc = get_statistics(cipher, cipher=True)\n",
    "# plaintxt = read_file(\"data/default.wiki.txt.bz2\")\n",
    "# plaintxt_desc = get_statistics(plaintxt, cipher=False)"
   ]
  },
  {
   "cell_type": "code",
   "execution_count": 14,
   "metadata": {},
   "outputs": [],
   "source": [
    "right_most_cipher_vocab = list()\n",
    "for cipher_char in reversed(cipher_desc['content']):\n",
    "    if cipher_char not in right_most_cipher_vocab:\n",
    "        right_most_cipher_vocab.append(cipher_char)"
   ]
  },
  {
   "cell_type": "code",
   "execution_count": 15,
   "metadata": {},
   "outputs": [],
   "source": [
    "# with open('ext_order.pkl', 'wb') as fh:\n",
    "#     pickle.dump(ext_order, fh)"
   ]
  },
  {
   "cell_type": "code",
   "execution_count": 16,
   "metadata": {},
   "outputs": [],
   "source": [
    "with open('ext_order.pkl', 'rb') as fh:\n",
    "    ext_order = pickle.load(fh, encoding='utf8')"
   ]
  },
  {
   "cell_type": "code",
   "execution_count": 21,
   "metadata": {},
   "outputs": [
    {
     "name": "stdout",
     "output_type": "stream",
     "text": [
      "Number of unique symbols in cipher: 54\n",
      "Working on symbol:  À (0)\n",
      "Current score:  -10.741138800000002\n",
      "Working on symbol:  I (1)\n",
      "Current score:  -22.124644599999996\n",
      "Working on symbol:  u (2)\n",
      "Current score:  -31.6774428\n",
      "Working on symbol:  • (3)\n",
      "Current score:  -38.8269803\n",
      "Working on symbol:  £ (4)\n",
      "Current score:  -46.62073620000002\n",
      "Working on symbol:  M (5)\n",
      "Current score:  -54.06698788\n",
      "Working on symbol:  H (6)\n",
      "Current score:  -62.16221930000002\n",
      "Working on symbol:  E (7)\n",
      "Current score:  -70.87454225000002\n",
      "Working on symbol:  — (8)\n",
      "Current score:  -85.23247110000005\n",
      "Working on symbol:  ∞ (9)\n",
      "Current score:  -93.69322710000007\n",
      "Working on symbol:  W (10)\n",
      "Current score:  -102.41177310000008\n",
      "Working on symbol:  º (11)\n",
      "Current score:  -117.05141550000009\n",
      "Working on symbol:  “ (12)\n",
      "Current score:  -124.3633019000001\n",
      "Working on symbol:  X (13)\n",
      "Current score:  -131.97664880000013\n",
      "Working on symbol:  V (14)\n",
      "Current score:  -139.7725308000001\n",
      "Working on symbol:  Q (15)\n",
      "Current score:  -145.07012730000017\n",
      "Working on symbol:  P (16)\n",
      "Current score:  -155.1352190200001\n",
      "Working on symbol:  B (17)\n",
      "Current score:  -167.37366622000016\n",
      "Working on symbol:  + (18)\n",
      "Current score:  -176.41366890000015\n",
      "Working on symbol:  J (19)\n",
      "Current score:  -182.69100632000016\n",
      "Working on symbol:  æ (20)\n",
      "Current score:  -190.11933232000015\n",
      "Working on symbol:  ∏ (21)\n",
      "Current score:  -199.00643287000014\n",
      "Working on symbol:  ‘ (22)\n",
      "Current score:  -206.55456487000012\n",
      "Working on symbol:  T (23)\n",
      "Current score:  -213.0834445700001\n",
      "Working on symbol:  π (24)\n",
      "Current score:  -220.6617421700001\n",
      "Working on symbol:  Z (25)\n",
      "Current score:  -229.00237571000014\n",
      "Working on symbol:  √ (26)\n",
      "Current score:  -235.09703790000017\n",
      "Working on symbol:  G (27)\n",
      "Current score:  -242.03619940000013\n",
      "Working on symbol:  ∫ (28)\n",
      "Current score:  -253.1387328700001\n",
      "Working on symbol:  F (29)\n",
      "Current score:  -263.0000505\n",
      "Working on symbol:  R (30)\n",
      "Current score:  -275.784701711\n",
      "Working on symbol:  O (31)\n",
      "Current score:  -285.29611757\n",
      "Working on symbol:  µ (32)\n",
      "Current score:  -294.08726824000007\n",
      "Working on symbol:  ≈ (33)\n",
      "Current score:  -307.51212407000014\n",
      "Working on symbol:  ∑ (34)\n",
      "Current score:  -317.3027548700002\n",
      "Working on symbol:  ƒ (35)\n",
      "Current score:  -325.6328620200002\n",
      "Working on symbol:  Ç (36)\n",
      "Current score:  -334.739931515\n",
      "Working on symbol:  L (37)\n",
      "Current score:  -346.31302678\n",
      "Working on symbol:  Ω (38)\n",
      "Current score:  -347.09102227999995\n",
      "Working on symbol:  \\ (39)\n",
      "Current score:  -354.0898795799999\n",
      "Working on symbol:  D (40)\n",
      "Current score:  -362.09995358000003\n",
      "Working on symbol:  A (41)\n",
      "Current score:  -369.99432942500005\n",
      "Working on symbol:  § (42)\n",
      "Current score:  -375.43326102500004\n",
      "Working on symbol:  y (43)\n",
      "Current score:  -396.9026580249999\n",
      "Working on symbol:  K (44)\n",
      "Current score:  -407.5125467100001\n",
      "Working on symbol:  S (45)\n",
      "Current score:  -415.1952410100002\n",
      "Working on symbol:  ^ (46)\n",
      "Current score:  -429.38501229000013\n",
      "Working on symbol:  – (47)\n",
      "Current score:  -445.9676835000003\n",
      "Working on symbol:  ∆ (48)\n",
      "Current score:  -451.19744467999993\n",
      "Working on symbol:  / (49)\n",
      "Current score:  -463.22602649000015\n",
      "Working on symbol:  N (50)\n",
      "Current score:  -473.5361968400003\n",
      "Working on symbol:  Ã (51)\n",
      "Current score:  -484.0849787500003\n",
      "Working on symbol:  ¢ (52)\n",
      "Current score:  -490.6499625180001\n",
      "Working on symbol:  j (53)\n",
      "Current score:  -490.49048111800005\n",
      "Wall time: 20min 11s\n"
     ]
    }
   ],
   "source": [
    "%%time\n",
    "sorted_keys = sorted(cipher_desc['frequencies'], key=cipher_desc['frequencies'].get, reverse=True)\n",
    "#reversed_mappings = beam_search(cipher_desc['content'], sorted_keys, 3, 100)\n",
    "reversed_mappings = beam_search(cipher_desc['content'], right_most_cipher_vocab, 8, 1000)\n",
    "#reversed_mappings = beam_search(cipher_desc['content'], ext_order[0][0], 8, 1000)"
   ]
  },
  {
   "cell_type": "code",
   "execution_count": 22,
   "metadata": {
    "scrolled": true
   },
   "outputs": [],
   "source": [
    "mapping = reverse_mapping(reversed_mappings[0][0])"
   ]
  },
  {
   "cell_type": "code",
   "execution_count": 23,
   "metadata": {},
   "outputs": [
    {
     "data": {
      "text/plain": [
       "54"
      ]
     },
     "execution_count": 23,
     "metadata": {},
     "output_type": "execute_result"
    }
   ],
   "source": [
    "len(mapping)"
   ]
  },
  {
   "cell_type": "code",
   "execution_count": 24,
   "metadata": {},
   "outputs": [
    {
     "name": "stdout",
     "output_type": "stream",
     "text": [
      "esitatetsentstestatesarteerihaitrserriereatoainrnneantestintlesltdtheirearostttrtasarhetaneareeteandantiarrhdnatatonastrotisthethreeitteraattreatianresestintensetinsheretartntarnearediterrentsorstosthernlineateasreitharsasrirenearedileanidetelesttatetoaniisasdleseandassreieearhtessallistttsetatstsareheletsnonteresortsiatatasarahsorlessrasritteedelnotaristssossesnintentsarahroatsarrestinaethesearethreesere\n",
      "score -490.49048111800005\n",
      "408\n"
     ]
    }
   ],
   "source": [
    "decipher_text = ''\n",
    "for char in cipher_desc['content']:\n",
    "    decipher_text += mapping[char]\n",
    "print(decipher_text)\n",
    "print('score', lm.score_seq(decipher_text))\n",
    "print(len(decipher_text))"
   ]
  },
  {
   "cell_type": "code",
   "execution_count": null,
   "metadata": {},
   "outputs": [],
   "source": [
    "with open('data/_ref_Zodiac_408.txt', 'r') as fh:\n",
    "    ground_truth = fh.read()\n",
    "print(ground_truth)\n",
    "print('score', lm.score_seq(ground_truth))\n",
    "print(len(ground_truth))"
   ]
  },
  {
   "cell_type": "code",
   "execution_count": 27,
   "metadata": {},
   "outputs": [
    {
     "data": {
      "text/plain": [
       "0.8088235294117647"
      ]
     },
     "execution_count": 27,
     "metadata": {},
     "output_type": "execute_result"
    }
   ],
   "source": [
    "symbol_error_rate(decipher_text, 'data/_ref_Zodiac_408.txt')"
   ]
  },
  {
   "cell_type": "code",
   "execution_count": null,
   "metadata": {},
   "outputs": [],
   "source": []
  },
  {
   "cell_type": "markdown",
   "metadata": {},
   "source": [
    "Notice that the default solution provides a very bad decipherment. Your job is to make it better!"
   ]
  },
  {
   "cell_type": "markdown",
   "metadata": {},
   "source": [
    "## Grading"
   ]
  },
  {
   "cell_type": "markdown",
   "metadata": {},
   "source": [
    "Ignore the following cells. They are for grading against the reference decipherment. Based on the clues provided in the decipherment homework description, you can easily find a reasonable reference text online for this cipher text."
   ]
  },
  {
   "cell_type": "code",
   "execution_count": 26,
   "metadata": {},
   "outputs": [],
   "source": [
    "\"\"\"\n",
    "ATTENTION!\n",
    "For grading purposes only. Don't bundle with the assignment. \n",
    "Make sure '_ref.txt' is removed from the 'data' directory before publishing.\n",
    "\"\"\"\n",
    "\n",
    "def read_gold(gold_file):\n",
    "    with open(gold_file) as f:\n",
    "        gold = f.read()\n",
    "    f.close()\n",
    "    gold = list(gold.strip())\n",
    "    return gold\n",
    "\n",
    "def symbol_error_rate(dec, _gold):\n",
    "    gold = read_gold(_gold)\n",
    "    correct = 0\n",
    "    if len(gold) == len(dec):\n",
    "        for (d,g) in zip(dec, gold):\n",
    "            if d==g:\n",
    "                correct += 1\n",
    "    wrong = len(gold)-correct\n",
    "    error = wrong/len(gold)\n",
    "    \n",
    "    return error"
   ]
  },
  {
   "cell_type": "code",
   "execution_count": null,
   "metadata": {},
   "outputs": [],
   "source": [
    "# gold decipherment\n",
    "gold_file = \"data/_ref.txt\"\n",
    "ser = symbol_error_rate(decipherment, gold_file)\n",
    "print('Error: ', ser*100, 'Accuracy: ', (1-ser)*100)"
   ]
  },
  {
   "cell_type": "code",
   "execution_count": null,
   "metadata": {},
   "outputs": [],
   "source": []
  }
 ],
 "metadata": {
  "kernelspec": {
   "display_name": "Python 3",
   "language": "python",
   "name": "python3"
  },
  "language_info": {
   "codemirror_mode": {
    "name": "ipython",
    "version": 3
   },
   "file_extension": ".py",
   "mimetype": "text/x-python",
   "name": "python",
   "nbconvert_exporter": "python",
   "pygments_lexer": "ipython3",
   "version": "3.6.5"
  }
 },
 "nbformat": 4,
 "nbformat_minor": 2
}
