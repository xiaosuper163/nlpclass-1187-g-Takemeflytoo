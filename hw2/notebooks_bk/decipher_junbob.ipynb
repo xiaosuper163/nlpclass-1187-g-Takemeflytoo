{
 "cells": [
  {
   "cell_type": "markdown",
   "metadata": {},
   "source": [
    "# Homework: Decipherment"
   ]
  },
  {
   "cell_type": "code",
   "execution_count": 1,
   "metadata": {
    "collapsed": true
   },
   "outputs": [],
   "source": [
    "%load_ext autoreload\n",
    "%autoreload 2\n",
    "from collections import defaultdict, Counter\n",
    "import collections\n",
    "import pprint\n",
    "import math\n",
    "import bz2\n",
    "from ngram import *\n",
    "import sys, string\n",
    "import copy\n",
    "import pickle\n",
    "#from joblib import Parallel, delayed\n",
    "import itertools\n",
    "pp = pprint.PrettyPrinter(width=45, compact=True)"
   ]
  },
  {
   "cell_type": "code",
   "execution_count": 2,
   "metadata": {
    "collapsed": true
   },
   "outputs": [],
   "source": [
    "import numpy as np"
   ]
  },
  {
   "cell_type": "markdown",
   "metadata": {},
   "source": [
    "First let us read in the cipher text from the `data` directory:"
   ]
  },
  {
   "cell_type": "code",
   "execution_count": 3,
   "metadata": {
    "scrolled": false
   },
   "outputs": [
    {
     "name": "stdout",
     "output_type": "stream",
     "text": [
      "º∫P/Z/uB∫ÀOR•–X•B\n",
      "WV+≈GyF∞ºHPπKÇ—y≈\n",
      "MJy^uIÀΩ—T‘NQyDµ£\n",
      "S¢/º∑BPORAu∫∆RÃ—E\n",
      "À^LMZJƒ“\\–FHVW≈æy\n",
      "π+—GDºKI£∞—Xæµ§S¢\n",
      "RN‘IyEÃOæ—GBTQS∑B\n",
      "Lƒ/P∑BπX—EHMu^RRÀ\n",
      "√ZK—–I£W—ÇæµLM“º∑\n",
      "BPDR+j•∞\\N¢≈EuHÀF\n",
      "Z√–OVWIµ+‘L£Ã^R∞H\n",
      "IºDR∏Ty“\\ƒ≈/πXJQA\n",
      "PµMæRu‘∫L£NVEKH•G\n",
      "“IÇJÀµºæLMÃNA£Z¢P\n",
      "§u–ÀAº∑BVW\\+VT‘OP\n",
      "^•S“Ã∆u≈∞ΩD§G∫∫IM\n",
      "NÀ£S√E/º∫∫Z∆AP∑BV\n",
      "–≈X—W—∏F∑æ√+πºAºB\n",
      "∫OTµRu√+∏ƒy—∏^S—W\n",
      "VZ≈GyKE∏TyAº∫∑L‘∏\n",
      "HÇFBXº§XADƒ\\ΩLÇ•—\n",
      "∏≈ƒ∑∑∞≈µPORXQF∫G√\n",
      "ZπJT‘—∏æJI+“BPQW∞\n",
      "VEX“ºWI∞—EHM£•uIÀ\n"
     ]
    }
   ],
   "source": [
    "def read_file(filename):\n",
    "    if filename[-4:] == \".bz2\":\n",
    "        with bz2.open(filename, 'rt', encoding='utf8') as f:\n",
    "            content = f.read()\n",
    "            f.close()\n",
    "    else:\n",
    "        with open(filename, 'r', encoding='utf8') as f:\n",
    "            content = f.read()\n",
    "            f.close()\n",
    "    return content\n",
    "\n",
    "cipher = read_file(\"data/cipher.txt\")\n",
    "print(cipher)"
   ]
  },
  {
   "cell_type": "markdown",
   "metadata": {},
   "source": [
    "For the default solution we need to compute statistics like length, number of symbols/letters, \n",
    "unique occurences, frequencies and relative frequencies of a given file. This is done in the function `get_statistics` below.\n",
    "\n",
    "While using `get_statistics`, make sure that `cipher=True` is set when the input is a ciphertext."
   ]
  },
  {
   "cell_type": "code",
   "execution_count": 4,
   "metadata": {
    "collapsed": true
   },
   "outputs": [],
   "source": [
    "def get_statistics(content, cipher=True):\n",
    "    stats = {}\n",
    "    content = list(content)\n",
    "    split_content = [x for x in content if x != '\\n' and x!=' ']\n",
    "    length = len(split_content)\n",
    "    symbols = set(split_content)\n",
    "    uniq_sym = len(list(symbols))\n",
    "    freq = collections.Counter(split_content)\n",
    "    rel_freq = {}\n",
    "    for sym, frequency in freq.items():\n",
    "        rel_freq[sym] = (frequency/length)*100\n",
    "        \n",
    "    if cipher:\n",
    "        stats = {'content':split_content, 'length':length, 'vocab':list(symbols), 'vocab_length':uniq_sym, 'frequencies':freq, 'relative_freq':rel_freq}\n",
    "    else:\n",
    "        stats = {'length':length, 'vocab':list(symbols), 'vocab_length':uniq_sym, 'frequencies':freq, 'relative_freq':rel_freq}\n",
    "    return stats"
   ]
  },
  {
   "cell_type": "code",
   "execution_count": 5,
   "metadata": {
    "collapsed": true
   },
   "outputs": [],
   "source": [
    "\"\"\"\n",
    "ATTENTION!\n",
    "For grading purposes only. Don't bundle with the assignment. \n",
    "Make sure '_ref.txt' is removed from the 'data' directory before publishing.\n",
    "\"\"\"\n",
    "\n",
    "def read_gold(gold_file):\n",
    "    with open(gold_file) as f:\n",
    "        gold = f.read()\n",
    "    f.close()\n",
    "    gold = list(gold.strip())\n",
    "    return gold\n",
    "\n",
    "def symbol_error_rate(dec, _gold):\n",
    "    gold = read_gold(_gold)\n",
    "    correct = 0\n",
    "    if len(gold) == len(dec):\n",
    "        for (d,g) in zip(dec, gold):\n",
    "            if d==g:\n",
    "                correct += 1\n",
    "    wrong = len(gold)-correct\n",
    "    error = wrong/len(gold)\n",
    "    \n",
    "    return error"
   ]
  },
  {
   "cell_type": "code",
   "execution_count": 6,
   "metadata": {
    "collapsed": true,
    "scrolled": true
   },
   "outputs": [],
   "source": [
    "cipher_desc = get_statistics(cipher, cipher=True)\n",
    "#pp.pprint(cipher_desc)"
   ]
  },
  {
   "cell_type": "markdown",
   "metadata": {
    "heading_collapsed": true
   },
   "source": [
    "## Load the 6-gram model"
   ]
  },
  {
   "cell_type": "code",
   "execution_count": 7,
   "metadata": {
    "hidden": true
   },
   "outputs": [
    {
     "name": "stderr",
     "output_type": "stream",
     "text": [
      "Reading language model from data/6-gram-wiki-char.lm.bz2...\n"
     ]
    },
    {
     "name": "stdout",
     "output_type": "stream",
     "text": [
      "CPU times: user 30 s, sys: 879 ms, total: 30.9 s\n",
      "Wall time: 31.1 s\n"
     ]
    },
    {
     "name": "stderr",
     "output_type": "stream",
     "text": [
      "Done.\n"
     ]
    }
   ],
   "source": [
    "%%time\n",
    "sequence = 'In a few cases, a multilingual artifact has been necessary to facilitate decipherment, the Rosetta Stone being the classic example. Statistical techniques provide another pathway to decipherment, as does the analysis of modern languages derived from ancient languages in which undeciphered texts are written. Archaeological and historical information is helpful in verifying hypothesized decipherments.'\n",
    "\n",
    "# lm = LM(\"data/6-gram-wiki-char.lm.bz2\", n=6, verbose=True)\n",
    "lm = LM(\"data/6-gram-wiki-char.lm.bz2\", n=6, verbose=False)"
   ]
  },
  {
   "cell_type": "code",
   "execution_count": 8,
   "metadata": {
    "hidden": true
   },
   "outputs": [
    {
     "name": "stdout",
     "output_type": "stream",
     "text": [
      "In a few cases, a multilingual artifact has been necessary to facilitate decipherment, the Rosetta Stone being the classic example. Statistical techniques provide another pathway to decipherment, as does the analysis of modern languages derived from ancient languages in which undeciphered texts are written. Archaeological and historical information is helpful in verifying hypothesized decipherments.\n",
      "{2: 3, 3: 4, 7: 8, 8: 9, 9: 10}\n",
      "-8.10905897\n"
     ]
    },
    {
     "name": "stderr",
     "output_type": "stream",
     "text": [
      "TOTAL LM LOGPROB: -221.09434842188\n",
      "TOTAL LM LOGPROB: -9.76947916\n",
      "TOTAL LM LOGPROB: -40.57683077\n"
     ]
    }
   ],
   "source": [
    "print(sequence)\n",
    "lm_logprob = lm.score_seq(sequence)\n",
    "print(\"TOTAL LM LOGPROB: {}\".format(lm_logprob), file=sys.stderr)\n",
    "print(\"TOTAL LM LOGPROB: {}\".format(lm.score_seq('this is the text.')), file=sys.stderr)\n",
    "print(\"TOTAL LM LOGPROB: {}\".format(lm.score_seq('jasbklfhthejkldhf')), file=sys.stderr)\n",
    "print(lm.get_bitstring_spans('..oo...ooo..'))\n",
    "print(lm.score_bitstring('thisisatest', 'oo...oo.ooo'))"
   ]
  },
  {
   "cell_type": "markdown",
   "metadata": {
    "collapsed": true,
    "hidden": true
   },
   "source": [
    "# From Yabin: new score function (should be more efficient) "
   ]
  },
  {
   "cell_type": "code",
   "execution_count": 9,
   "metadata": {
    "collapsed": true
   },
   "outputs": [],
   "source": [
    "def score_new(cipher, phi, new_f, new_e, previous_score):\n",
    "    '''\n",
    "    scores the phi_prime based on the previous score, returns a dict\n",
    "    cipher -- list of single character string\n",
    "    phi -- dictionary, old mapping e->[f]\n",
    "    new_f -- single-character string, extended symbol\n",
    "    previous_score -- float, old score for phi\n",
    "    '''\n",
    "    mapping = phi\n",
    "    new_score = previous_score\n",
    "    lm_state = lm.begin()\n",
    "    for i in range(len(cipher)):\n",
    "        char = cipher[i]\n",
    "        if char in mapping.keys():\n",
    "            token = mapping[char]\n",
    "            ngram = lm_state + (token,)\n",
    "            while len(ngram)> 0:\n",
    "                if ngram in lm.table:\n",
    "                    lm_state = ngram[-lm.history:]\n",
    "                    break\n",
    "                else: #backoff\n",
    "                    ngram = ngram[1:]\n",
    "            if len(ngram)==0:\n",
    "                lm_state = ()\n",
    "        elif char == new_f:\n",
    "            (lm_state, logprob) = lm.score(lm_state, new_e)\n",
    "            new_score += logprob\n",
    "        else:\n",
    "            lm_state = ()  \n",
    "    return new_score"
   ]
  },
  {
   "cell_type": "code",
   "execution_count": 10,
   "metadata": {
    "collapsed": true
   },
   "outputs": [],
   "source": [
    "def beam_search_new(cipher, ext_order, ext_limits=1, topn=1):\n",
    "    '''\n",
    "    finds the mappings between cipher char and plaintext char, returns the mapping dictionary\n",
    "    ext_order -- list, the unigram char list sorted by their count DESC\n",
    "    ext_limits -- int, defines maximum number of cipher char can be mapped to a plaintext char\n",
    "    topn -- int, defines the number of dictionaries we want to keep while pruning\n",
    "    '''\n",
    "    print('Number of unique symbols in cipher:', len(ext_order))\n",
    "    # mapping relationships already found with score\n",
    "    Hs = [(defaultdict(dict), 0)]\n",
    "    # hypothesis mapping relationships with score\n",
    "    Ht = []\n",
    "    # initialize the cardinality (number of unique cipher text)\n",
    "    cardinality = 0\n",
    "    # list of plaintext characters\n",
    "    Ve = [chr(i) for i in range(97, 123, 1)]\n",
    "    while cardinality < len(ext_order):\n",
    "    #while cardinality < 2:\n",
    "        f = ext_order[cardinality]\n",
    "        print('Working on symbol: ', f, f'({cardinality+1})')\n",
    "        for phi, previous_score in Hs:\n",
    "            for e in Ve:\n",
    "                phi_prime = copy.deepcopy(phi)\n",
    "                new_map = {f: e}\n",
    "                phi_prime.update(new_map)\n",
    "                counts = len([v for k, v in phi_prime.items() if v == e])\n",
    "                if counts <= ext_limits:\n",
    "                    Ht.append((phi_prime, score_new(cipher, phi, f, e, previous_score)))\n",
    "        # prune the histogram\n",
    "        Ht = sorted(Ht, key=lambda x:x[1], reverse=True)[:topn]                    \n",
    "        cardinality += 1\n",
    "        Hs = copy.deepcopy(Ht)\n",
    "        Ht.clear()\n",
    "        print('Current score: ', Hs[0][1])\n",
    "        #print('Hs', Hs)\n",
    "    return sorted(Hs, key=lambda x:x[1], reverse=True)"
   ]
  },
  {
   "cell_type": "markdown",
   "metadata": {
    "collapsed": true
   },
   "source": [
    "# new extension order"
   ]
  },
  {
   "cell_type": "code",
   "execution_count": 11,
   "metadata": {
    "collapsed": true
   },
   "outputs": [],
   "source": [
    "def find(string, char):\n",
    "    return [i for i, letter in enumerate(string) if letter == char]"
   ]
  },
  {
   "cell_type": "code",
   "execution_count": 12,
   "metadata": {
    "collapsed": true
   },
   "outputs": [],
   "source": [
    "def gen_bit_str(cipher, deciphered_symbols, voc):\n",
    "    # generate bit string\n",
    "    bit_string = ''\n",
    "    for char in cipher:   \n",
    "        if (char in deciphered_symbols) or (char == voc):\n",
    "            bit_string += 'x'\n",
    "        else: \n",
    "            bit_string += '.'\n",
    "    return bit_string"
   ]
  },
  {
   "cell_type": "code",
   "execution_count": null,
   "metadata": {
    "collapsed": true
   },
   "outputs": [],
   "source": [
    "def get_num_pos(ngram, new_bit_str):\n",
    "    num_pos = np.zeros(ngram)\n",
    "    \n",
    "    # count unigram\n",
    "    count_uni = 0\n",
    "    for j in new_bit_str.split('.'):\n",
    "        if len(j) != 0:\n",
    "            count_uni += 1\n",
    "    num_pos[0]=count_uni   \n",
    "\n",
    "    # count multigram\n",
    "    to_find = 'xx'\n",
    "    for i in range(1, ngram):\n",
    "        s = copy.deepcopy(new_bit_str)\n",
    "        count = 0\n",
    "\n",
    "        while to_find in s:\n",
    "            count += 1 \n",
    "            s = s[(s.find(to_find) + 1):]\n",
    "        to_find += 'x'\n",
    "        num_pos[i]=count\n",
    "    \n",
    "    return num_pos"
   ]
  },
  {
   "cell_type": "code",
   "execution_count": null,
   "metadata": {
    "collapsed": true
   },
   "outputs": [],
   "source": [
    "def find_ext_order(cipher, topn=100, weights=(1.0, 1.0, 1.0, 1.0, 2.0, 3.0), ngram = 6):\n",
    "\n",
    "    # initial\n",
    "    cipher_desc = get_statistics(cipher, cipher=True)\n",
    "    weights = np.array(weights)\n",
    "    cipher_vocab = cipher_desc['vocab']\n",
    "\n",
    "    #first_symbol = cipher_desc['frequencies'].most_common(1)[0][0] # use the most frequent symbol as first symbol\n",
    "    \n",
    "    #cardinality = 1\n",
    "    cardinality = 0\n",
    "    \n",
    "    # symbols already found with score\n",
    "    # Hs = [([first_symbol], cipher_desc['frequencies'][first_symbol])]\n",
    "    Hs = [([], 0)]\n",
    "    # hypothesis extended symbols with score\n",
    "    Ht = []\n",
    "    \n",
    "    print('Done with symbol number', cardinality, '; Current best score: ', Hs[0][1])\n",
    "    \n",
    "    while cardinality < cipher_desc['vocab_length']:\n",
    "        for phi, previous_score in Hs:\n",
    "            \n",
    "            deciphered_symbols = phi\n",
    "            \n",
    "            \n",
    "            for voc in cipher_vocab:\n",
    "                phi_prime = copy.deepcopy(phi)\n",
    "                if voc in phi_prime:\n",
    "                    continue\n",
    "                else:\n",
    "                    weighted_sum = 0.0\n",
    "                    num_pos = np.zeros(ngram)\n",
    "                    \n",
    "                    bit_string = gen_bit_str(cipher, deciphered_symbols, voc)\n",
    "                   \n",
    "                    num_pos = get_num_pos(ngram, bit_string)\n",
    "\n",
    "                    weighted_sum += np.sum(np.multiply(weights, num_pos))\n",
    "                    #print(\"weighted_sum: \" + str(weighted_sum))\n",
    "                    \n",
    "                    phi_prime.append(voc)\n",
    "                    #this_score = previous_score + weighted_sum\n",
    "                    Ht.append((phi_prime, weighted_sum))\n",
    "        \n",
    "        # prune the histogram\n",
    "        Ht = sorted(Ht, key=lambda x:x[1], reverse=True)[:topn]\n",
    "        cardinality += 1\n",
    "        Hs = copy.deepcopy(Ht)\n",
    "        Ht.clear()\n",
    "        \n",
    "        print('Done with symbol number', cardinality, '; Current best score: ', Hs[0][1], '; Current worst score: ', Hs[-1][1])\n",
    "    return sorted(Hs, key=lambda x:x[1], reverse=True)"
   ]
  },
  {
   "cell_type": "code",
   "execution_count": null,
   "metadata": {
    "collapsed": true
   },
   "outputs": [],
   "source": [
    "%%time\n",
    "# test the function above\n",
    "ext_order = find_ext_order(cipher, 100)"
   ]
  },
  {
   "cell_type": "code",
   "execution_count": null,
   "metadata": {
    "collapsed": true
   },
   "outputs": [],
   "source": [
    "%%time\n",
    "mappings = beam_search_new(cipher_desc['content'], ext_order[0][0], 8, 1000)"
   ]
  },
  {
   "cell_type": "code",
   "execution_count": null,
   "metadata": {
    "collapsed": true
   },
   "outputs": [],
   "source": [
    "mapping = mappings[0][0]"
   ]
  },
  {
   "cell_type": "code",
   "execution_count": null,
   "metadata": {
    "collapsed": true
   },
   "outputs": [],
   "source": [
    "decipher_text = ''\n",
    "for char in cipher_desc['content']:\n",
    "    decipher_text += mapping[char]\n",
    "print(decipher_text)\n",
    "print('score', lm.score_seq(decipher_text))\n",
    "print(len(decipher_text))"
   ]
  },
  {
   "cell_type": "code",
   "execution_count": null,
   "metadata": {
    "collapsed": true
   },
   "outputs": [],
   "source": []
  },
  {
   "cell_type": "markdown",
   "metadata": {},
   "source": [
    "# OLD entension order"
   ]
  },
  {
   "cell_type": "code",
   "execution_count": 13,
   "metadata": {
    "collapsed": true
   },
   "outputs": [],
   "source": [
    "def case1(ngram):\n",
    "    #print(\"case 1\")\n",
    "    num_pos = np.zeros(ngram)\n",
    "    num_pos[0] += 1\n",
    "    return num_pos\n",
    "def case2(ngram, str_after):\n",
    "    #print(\"case 2\")\n",
    "    num_pos = np.zeros(ngram)\n",
    "    if str_after.find('.') != -1:\n",
    "        str_after = str_after[:str_after.find('.')]\n",
    "    #print(\"after1: \"+str_after)\n",
    "    for i in range(len(str_after)):\n",
    "        idx = i+1\n",
    "        num_pos[idx] += 1\n",
    "        if idx+1 == ngram:\n",
    "            break    \n",
    "    return num_pos\n",
    "def case3(ngram, str_before):\n",
    "    #print(\"case 3\")\n",
    "    num_pos = np.zeros(ngram)\n",
    "    str_before = str_before[str_before.rfind('.')+1:]\n",
    "    #print(\"before1: \"+str_before)\n",
    "    for i in range(len(str_before)):\n",
    "        idx = i+1\n",
    "        num_pos[idx] += 1\n",
    "        if idx+1 == ngram:\n",
    "            break\n",
    "    return num_pos\n",
    "def case4(ngram, str_before, str_after):  \n",
    "    #print(\"case 4\")\n",
    "    num_pos = np.zeros(ngram)\n",
    "    str_before = str_before[str_before.rfind('.')+1:]\n",
    "    if str_after.find('.') != -1:\n",
    "        str_after = str_after[:str_after.find('.')]\n",
    "    #print(\"before1: \"+str_before)\n",
    "    #print(\"after1: \"+str_after)\n",
    "    num_pos[0] -= 1\n",
    "    for i in range(len(str_before)):\n",
    "        idx = i+1\n",
    "        num_pos[idx] += 1\n",
    "        if idx+1 == ngram:\n",
    "            break    \n",
    "    for i in range(len(str_after)):\n",
    "        idx = i+1\n",
    "        num_pos[idx] += 1\n",
    "        if idx+1 == ngram:\n",
    "            break    \n",
    "            \n",
    "    # ********* to be complete ********* #\n",
    "    \n",
    "    return num_pos"
   ]
  },
  {
   "cell_type": "code",
   "execution_count": null,
   "metadata": {
    "collapsed": true
   },
   "outputs": [],
   "source": []
  },
  {
   "cell_type": "code",
   "execution_count": 14,
   "metadata": {
    "collapsed": true
   },
   "outputs": [],
   "source": [
    "def find_ext_order(cipher, topn=100, weights=(1.0, 1.0, 1.0, 1.0, 2.0, 3.0), ngram = 6):\n",
    "\n",
    "    # initial\n",
    "    cipher_desc = get_statistics(cipher, cipher=True)\n",
    "    weights = np.array(weights)\n",
    "    cipher_vocab = cipher_desc['vocab']\n",
    "\n",
    "    first_symbol = cipher_desc['frequencies'].most_common(1)[0][0] # use the most frequent symbol as first symbol\n",
    "    \n",
    "    cardinality = 1\n",
    "    \n",
    "    # symbols already found with score\n",
    "    Hs = [([first_symbol], 0)]\n",
    "    # hypothesis extended symbols with score\n",
    "    Ht = []\n",
    "    \n",
    "    print('Done with symbol number', cardinality, '; Current best score: ', Hs[0][1])\n",
    "    \n",
    "    while cardinality < cipher_desc['vocab_length']:\n",
    "        for phi, previous_score in Hs:\n",
    "            \n",
    "            deciphered_symbols = phi\n",
    "            bit_string = gen_bit_str(cipher, deciphered_symbols)\n",
    "            \n",
    "            for voc in cipher_vocab:\n",
    "                phi_prime = copy.deepcopy(phi)\n",
    "                if voc in phi_prime:\n",
    "                    continue\n",
    "                else:\n",
    "                    weighted_sum = 0.0\n",
    "                    num_pos = np.zeros(ngram)\n",
    "                    # for every occurance, \n",
    "                    for pos in find(cipher, voc):\n",
    "                        str_before = bit_string[0:pos]\n",
    "                        str_after = bit_string[pos+1:]\n",
    "                        #print(\"before: \"+str_before) \n",
    "                        #print(\"after: \"+str_after) \n",
    "\n",
    "                        if len(str_before) == 0:\n",
    "                            if str_after[0] == '.':\n",
    "                                num_pos += case1(ngram)\n",
    "                            else:\n",
    "                                num_pos += case2(ngram, str_after)\n",
    "                        elif len(str_after) == 0:\n",
    "                            if str_before[-1] == '.':\n",
    "                                num_pos += case1(ngram)\n",
    "                            else:\n",
    "                                num_pos += case3(ngram, str_before)\n",
    "                        elif (str_before[-1] == '.') and (str_after[0] == '.'):\n",
    "                            num_pos += case1(ngram)\n",
    "                        elif (str_before[-1] == '.') and (str_after[0] == 'x'):\n",
    "                            num_pos += case2(ngram, str_after)\n",
    "                        elif (str_before[-1] == 'x') and (str_after[0] == '.'):\n",
    "                            num_pos += case3(ngram, str_before)\n",
    "                        else:\n",
    "                            num_pos += case4(ngram, str_before, str_after)\n",
    "\n",
    "                    weighted_sum += np.sum(np.multiply(weights, num_pos))\n",
    "                    #print(\"weighted_sum: \" + str(weighted_sum))\n",
    "                    \n",
    "                    phi_prime.append(voc)\n",
    "                    this_score = previous_score + weighted_sum\n",
    "                    Ht.append((phi_prime, this_score))\n",
    "        \n",
    "        # prune the histogram\n",
    "        Ht = sorted(Ht, key=lambda x:x[1], reverse=True)[:topn]\n",
    "        cardinality += 1\n",
    "        Hs = copy.deepcopy(Ht)\n",
    "        Ht.clear()\n",
    "        \n",
    "        print('Done with symbol number', cardinality, '; Current best score: ', Hs[0][1], '; Current worst score: ', Hs[-1][1])\n",
    "    return sorted(Hs, key=lambda x:x[1], reverse=True)"
   ]
  },
  {
   "cell_type": "code",
   "execution_count": 15,
   "metadata": {
    "scrolled": true
   },
   "outputs": [
    {
     "name": "stdout",
     "output_type": "stream",
     "text": [
      "Done with symbol number 1 ; Current best score:  0\n",
      "Done with symbol number 2 ; Current best score:  14.0 ; Current worst score:  1.0\n",
      "Done with symbol number 3 ; Current best score:  26.0 ; Current worst score:  21.0\n",
      "Done with symbol number 4 ; Current best score:  38.0 ; Current worst score:  36.0\n",
      "Done with symbol number 5 ; Current best score:  53.0 ; Current worst score:  49.0\n",
      "Done with symbol number 6 ; Current best score:  67.0 ; Current worst score:  63.0\n",
      "Done with symbol number 7 ; Current best score:  84.0 ; Current worst score:  79.0\n",
      "Done with symbol number 8 ; Current best score:  104.0 ; Current worst score:  97.0\n",
      "Done with symbol number 9 ; Current best score:  121.0 ; Current worst score:  115.0\n",
      "Done with symbol number 10 ; Current best score:  141.0 ; Current worst score:  134.0\n",
      "Done with symbol number 11 ; Current best score:  162.0 ; Current worst score:  156.0\n",
      "Done with symbol number 12 ; Current best score:  184.0 ; Current worst score:  178.0\n",
      "Done with symbol number 13 ; Current best score:  207.0 ; Current worst score:  201.0\n",
      "Done with symbol number 14 ; Current best score:  228.0 ; Current worst score:  223.0\n",
      "Done with symbol number 15 ; Current best score:  251.0 ; Current worst score:  244.0\n",
      "Done with symbol number 16 ; Current best score:  268.0 ; Current worst score:  267.0\n",
      "Done with symbol number 17 ; Current best score:  284.0 ; Current worst score:  284.0\n",
      "Done with symbol number 18 ; Current best score:  299.0 ; Current worst score:  299.0\n",
      "Done with symbol number 19 ; Current best score:  317.0 ; Current worst score:  317.0\n",
      "Done with symbol number 20 ; Current best score:  339.0 ; Current worst score:  338.0\n",
      "Done with symbol number 21 ; Current best score:  357.0 ; Current worst score:  357.0\n",
      "Done with symbol number 22 ; Current best score:  378.0 ; Current worst score:  377.0\n",
      "Done with symbol number 23 ; Current best score:  399.0 ; Current worst score:  399.0\n",
      "Done with symbol number 24 ; Current best score:  422.0 ; Current worst score:  421.0\n",
      "Done with symbol number 25 ; Current best score:  445.0 ; Current worst score:  444.0\n",
      "Done with symbol number 26 ; Current best score:  471.0 ; Current worst score:  467.0\n",
      "Done with symbol number 27 ; Current best score:  497.0 ; Current worst score:  495.0\n",
      "Done with symbol number 28 ; Current best score:  523.0 ; Current worst score:  520.0\n",
      "Done with symbol number 29 ; Current best score:  557.0 ; Current worst score:  548.0\n",
      "Done with symbol number 30 ; Current best score:  586.0 ; Current worst score:  583.0\n",
      "Done with symbol number 31 ; Current best score:  618.0 ; Current worst score:  614.0\n",
      "Done with symbol number 32 ; Current best score:  654.0 ; Current worst score:  645.0\n",
      "Done with symbol number 33 ; Current best score:  681.0 ; Current worst score:  681.0\n",
      "Done with symbol number 34 ; Current best score:  717.0 ; Current worst score:  712.0\n",
      "Done with symbol number 35 ; Current best score:  752.0 ; Current worst score:  748.0\n",
      "Done with symbol number 36 ; Current best score:  790.0 ; Current worst score:  785.0\n",
      "Done with symbol number 37 ; Current best score:  827.0 ; Current worst score:  825.0\n",
      "Done with symbol number 38 ; Current best score:  871.0 ; Current worst score:  866.0\n",
      "Done with symbol number 39 ; Current best score:  924.0 ; Current worst score:  917.0\n",
      "Done with symbol number 40 ; Current best score:  963.0 ; Current worst score:  959.0\n",
      "Done with symbol number 41 ; Current best score:  1000.0 ; Current worst score:  998.0\n",
      "Done with symbol number 42 ; Current best score:  1042.0 ; Current worst score:  1038.0\n",
      "Done with symbol number 43 ; Current best score:  1077.0 ; Current worst score:  1077.0\n",
      "Done with symbol number 44 ; Current best score:  1119.0 ; Current worst score:  1119.0\n",
      "Done with symbol number 45 ; Current best score:  1159.0 ; Current worst score:  1159.0\n",
      "Done with symbol number 46 ; Current best score:  1197.0 ; Current worst score:  1197.0\n",
      "Done with symbol number 47 ; Current best score:  1235.0 ; Current worst score:  1235.0\n",
      "Done with symbol number 48 ; Current best score:  1273.0 ; Current worst score:  1273.0\n",
      "Done with symbol number 49 ; Current best score:  1315.0 ; Current worst score:  1315.0\n",
      "Done with symbol number 50 ; Current best score:  1352.0 ; Current worst score:  1352.0\n",
      "Done with symbol number 51 ; Current best score:  1391.0 ; Current worst score:  1391.0\n",
      "Done with symbol number 52 ; Current best score:  1433.0 ; Current worst score:  1433.0\n",
      "Done with symbol number 53 ; Current best score:  1469.0 ; Current worst score:  1469.0\n",
      "Done with symbol number 54 ; Current best score:  1484.0 ; Current worst score:  1484.0\n",
      "CPU times: user 23.1 s, sys: 277 ms, total: 23.4 s\n",
      "Wall time: 23.3 s\n"
     ]
    }
   ],
   "source": [
    "%%time\n",
    "# test the function above\n",
    "ext_order = find_ext_order(cipher, 100)"
   ]
  },
  {
   "cell_type": "code",
   "execution_count": 16,
   "metadata": {
    "scrolled": true
   },
   "outputs": [
    {
     "name": "stdout",
     "output_type": "stream",
     "text": [
      "Number of unique symbols in cipher: 54\n",
      "Working on symbol:  — (1)\n",
      "Current score:  -14.649315199999997\n",
      "Working on symbol:  º (2)\n",
      "Current score:  -28.11302579999999\n",
      "Working on symbol:  ∑ (3)\n",
      "Current score:  -38.823369300000024\n",
      "Working on symbol:  B (4)\n",
      "Current score:  -47.54285170000002\n",
      "Working on symbol:  P (5)\n",
      "Current score:  -58.23973588\n",
      "Working on symbol:  O (6)\n",
      "Current score:  -65.43686280000004\n",
      "Working on symbol:  R (7)\n",
      "Current score:  -76.55245618000004\n",
      "Working on symbol:  A (8)\n",
      "Current score:  -84.98652718000005\n",
      "Working on symbol:  u (9)\n",
      "Current score:  -94.97365218000007\n",
      "Working on symbol:  ∫ (10)\n",
      "Current score:  -105.59759818000008\n",
      "Working on symbol:  À (11)\n",
      "Current score:  -114.83868258000008\n",
      "Working on symbol:  / (12)\n",
      "Current score:  -120.66467068000011\n",
      "Working on symbol:  Z (13)\n",
      "Current score:  -129.37368138000005\n",
      "Working on symbol:  ∆ (14)\n",
      "Current score:  -132.03980188000006\n",
      "Working on symbol:  V (15)\n",
      "Current score:  -138.64843168\n",
      "Working on symbol:  W (16)\n",
      "Current score:  -148.24607067999997\n",
      "Working on symbol:  E (17)\n",
      "Current score:  -157.05397218\n",
      "Working on symbol:  X (18)\n",
      "Current score:  -165.38294017999996\n",
      "Working on symbol:  ≈ (19)\n",
      "Current score:  -174.5877507799999\n",
      "Working on symbol:  – (20)\n",
      "Current score:  -181.04740697999992\n",
      "Working on symbol:  I (21)\n",
      "Current score:  -192.68993037999985\n",
      "Working on symbol:  µ (22)\n",
      "Current score:  -201.16750937999984\n",
      "Working on symbol:  ∞ (23)\n",
      "Current score:  -209.34851020999994\n",
      "Working on symbol:  H (24)\n",
      "Current score:  -216.88939138\n",
      "Working on symbol:  π (25)\n",
      "Current score:  -223.24132450999994\n",
      "Working on symbol:  + (26)\n",
      "Current score:  -231.56797636000005\n",
      "Working on symbol:  √ (27)\n",
      "Current score:  -237.59827902999984\n",
      "Working on symbol:  æ (28)\n",
      "Current score:  -245.72328720999994\n",
      "Working on symbol:  F (29)\n",
      "Current score:  -251.21444441999992\n",
      "Working on symbol:  ∏ (30)\n",
      "Current score:  -259.7198697199999\n",
      "Working on symbol:  ƒ (31)\n",
      "Current score:  -265.84457091999997\n",
      "Working on symbol:  y (32)\n",
      "Current score:  -276.5947587100002\n",
      "Working on symbol:  \\ (33)\n",
      "Current score:  -280.41435596000014\n",
      "Working on symbol:  “ (34)\n",
      "Current score:  -288.0466318100003\n",
      "Working on symbol:  J (35)\n",
      "Current score:  -294.9847930100002\n",
      "Working on symbol:  T (36)\n",
      "Current score:  -301.9914412100003\n",
      "Working on symbol:  ‘ (37)\n",
      "Current score:  -308.73770996000013\n",
      "Working on symbol:  M (38)\n",
      "Current score:  -318.27702586000015\n",
      "Working on symbol:  L (39)\n",
      "Current score:  -328.7754274800001\n",
      "Working on symbol:  £ (40)\n",
      "Current score:  -337.20361517000026\n",
      "Working on symbol:  Ã (41)\n",
      "Current score:  -343.3426796199998\n",
      "Working on symbol:  ^ (42)\n",
      "Current score:  -350.5921906700003\n",
      "Working on symbol:  G (43)\n",
      "Current score:  -356.7976201900004\n",
      "Working on symbol:  K (44)\n",
      "Current score:  -361.4666968900004\n",
      "Working on symbol:  Ç (45)\n",
      "Current score:  -366.7215590900003\n",
      "Working on symbol:  Q (46)\n",
      "Current score:  -371.7795728900002\n",
      "Working on symbol:  N (47)\n",
      "Current score:  -377.02276589000024\n",
      "Working on symbol:  S (48)\n",
      "Current score:  -382.72310435000026\n",
      "Working on symbol:  • (49)\n",
      "Current score:  -389.2000976500002\n",
      "Working on symbol:  D (50)\n",
      "Current score:  -396.7667128800002\n",
      "Working on symbol:  § (51)\n",
      "Current score:  -400.95626028000015\n",
      "Working on symbol:  Ω (52)\n",
      "Current score:  -404.8908243500003\n",
      "Working on symbol:  ¢ (53)\n",
      "Current score:  -408.65988315000027\n",
      "Working on symbol:  j (54)\n",
      "Current score:  -409.26767473000024\n",
      "CPU times: user 6min 53s, sys: 953 ms, total: 6min 54s\n",
      "Wall time: 6min 54s\n"
     ]
    }
   ],
   "source": [
    "%%time\n",
    "mappings = beam_search_new(cipher_desc['content'], ext_order[0][0], 8, 1000)"
   ]
  },
  {
   "cell_type": "code",
   "execution_count": 17,
   "metadata": {
    "collapsed": true
   },
   "outputs": [],
   "source": [
    "mapping = mappings[0][0]"
   ]
  },
  {
   "cell_type": "code",
   "execution_count": 18,
   "metadata": {},
   "outputs": [
    {
     "name": "stdout",
     "output_type": "stream",
     "text": [
      "teeanarherresreshseatstohteenorettintirtrueassdttestiatthereareaeaerriiinnitaroeestatnaesttotsheeaertiessttraraeshadtthiiaethneereirieersnoertsseraeiitttheteamshasitrreronsrresteasisaiehetttesattaitanendaeeiaerseisseroessttrnretaiiasasnierrrratthesaaeasreisttaarthutrseetisrstsrateenaaetherteesesotasantatheraeersasitesitesentstorsatatetisserohetreatiauirsestitthteereedoessnnnasesantathedsherettsthereissrtr\n",
      "score -598.56311446898\n",
      "408\n"
     ]
    }
   ],
   "source": [
    "decipher_text = ''\n",
    "for char in cipher_desc['content']:\n",
    "    decipher_text += mapping[char]\n",
    "print(decipher_text)\n",
    "print('score', lm.score_seq(decipher_text))\n",
    "print(len(decipher_text))"
   ]
  },
  {
   "cell_type": "code",
   "execution_count": 19,
   "metadata": {},
   "outputs": [
    {
     "name": "stdout",
     "output_type": "stream",
     "text": [
      "ilikekillingpeoplebecauseitissomuchfunitismorefunthankillingwildgameintheforrestbecausemanisthemostdangeroueanamalofalltokillsomethinggivesmethemostthrillingexperenceitisevenbetterthangettingyourrocksoffwithagirlthebestpartofitisthaewhenidieiwillbereborninparadicesndalltheihavekilledwillbecomemyslavesiwillnotgiveyoumynamebecauseyouwilltrytosloidownorstopmycollectiogofslavesformyafterlifeebeorietemethhpiti\n",
      "score -359.0030393831197\n",
      "408\n"
     ]
    }
   ],
   "source": [
    "with open('data/_ref_Zodiac_408.txt', 'r') as fh:\n",
    "    ground_truth = fh.read()\n",
    "print(ground_truth)\n",
    "print('score', lm.score_seq(ground_truth))\n",
    "print(len(ground_truth))"
   ]
  },
  {
   "cell_type": "code",
   "execution_count": 20,
   "metadata": {},
   "outputs": [
    {
     "data": {
      "text/plain": [
       "0.9509803921568627"
      ]
     },
     "execution_count": 20,
     "metadata": {},
     "output_type": "execute_result"
    }
   ],
   "source": [
    "symbol_error_rate(decipher_text, 'data/_ref_Zodiac_408.txt')"
   ]
  },
  {
   "cell_type": "code",
   "execution_count": null,
   "metadata": {
    "collapsed": true
   },
   "outputs": [],
   "source": []
  }
 ],
 "metadata": {
  "kernelspec": {
   "display_name": "Python 3",
   "language": "python",
   "name": "python3"
  },
  "language_info": {
   "codemirror_mode": {
    "name": "ipython",
    "version": 3
   },
   "file_extension": ".py",
   "mimetype": "text/x-python",
   "name": "python",
   "nbconvert_exporter": "python",
   "pygments_lexer": "ipython3",
   "version": "3.6.6"
  }
 },
 "nbformat": 4,
 "nbformat_minor": 2
}
