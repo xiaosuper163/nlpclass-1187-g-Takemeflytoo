{
 "cells": [
  {
   "cell_type": "markdown",
   "metadata": {},
   "source": [
    "# Homework: Decipherment"
   ]
  },
  {
   "cell_type": "code",
   "execution_count": 1,
   "metadata": {},
   "outputs": [],
   "source": [
    "%load_ext autoreload\n",
    "%autoreload 2\n",
    "from collections import defaultdict, Counter\n",
    "import collections\n",
    "import pprint\n",
    "import math\n",
    "import bz2\n",
    "from ngram import *\n",
    "import sys, string, os\n",
    "import copy\n",
    "import pickle\n",
    "#from joblib import Parallel, delayed\n",
    "import itertools\n",
    "from multiprocessing import Process,Pool, cpu_count\n",
    "import datetime, time, random\n",
    "pp = pprint.PrettyPrinter(width=45, compact=True)"
   ]
  },
  {
   "cell_type": "markdown",
   "metadata": {},
   "source": [
    "First let us read in the cipher text from the `data` directory:"
   ]
  },
  {
   "cell_type": "code",
   "execution_count": 2,
   "metadata": {},
   "outputs": [],
   "source": [
    "def read_file(filename):\n",
    "    if filename[-4:] == \".bz2\":\n",
    "        with bz2.open(filename, 'rt', encoding='utf8') as f:\n",
    "            content = f.read()\n",
    "            f.close()\n",
    "    else:\n",
    "        with open(filename, 'r', encoding='utf8') as f:\n",
    "            content = f.read()\n",
    "            f.close()\n",
    "    return content\n",
    "\n",
    "cipher = read_file(\"data/cipher.txt\")\n",
    "# print(cipher)"
   ]
  },
  {
   "cell_type": "markdown",
   "metadata": {},
   "source": [
    "For the default solution we need to compute statistics like length, number of symbols/letters, \n",
    "unique occurences, frequencies and relative frequencies of a given file. This is done in the function `get_statistics` below.\n",
    "\n",
    "While using `get_statistics`, make sure that `cipher=True` is set when the input is a ciphertext."
   ]
  },
  {
   "cell_type": "code",
   "execution_count": 3,
   "metadata": {},
   "outputs": [],
   "source": [
    "def get_statistics(content, cipher=True):\n",
    "    stats = {}\n",
    "    content = list(content)\n",
    "    split_content = [x for x in content if x != '\\n' and x!=' ']\n",
    "    length = len(split_content)\n",
    "    symbols = set(split_content)\n",
    "    uniq_sym = len(list(symbols))\n",
    "    freq = collections.Counter(split_content)\n",
    "    rel_freq = {}\n",
    "    for sym, frequency in freq.items():\n",
    "        rel_freq[sym] = (frequency/length)*100\n",
    "        \n",
    "    if cipher:\n",
    "        stats = {'content':split_content, 'length':length, 'vocab':list(symbols), 'vocab_length':uniq_sym, 'frequencies':freq, 'relative_freq':rel_freq}\n",
    "    else:\n",
    "        stats = {'length':length, 'vocab':list(symbols), 'vocab_length':uniq_sym, 'frequencies':freq, 'relative_freq':rel_freq}\n",
    "    return stats"
   ]
  },
  {
   "cell_type": "code",
   "execution_count": 4,
   "metadata": {},
   "outputs": [],
   "source": [
    "def read_gold(gold_file):\n",
    "    with open(gold_file) as f:\n",
    "        gold = f.read()\n",
    "    f.close()\n",
    "    gold = list(gold.strip())\n",
    "    return gold\n",
    "\n",
    "def symbol_error_rate(dec, _gold):\n",
    "    gold = read_gold(_gold)\n",
    "    correct = 0\n",
    "    if len(gold) == len(dec):\n",
    "        for (d,g) in zip(dec, gold):\n",
    "            if d==g:\n",
    "                correct += 1\n",
    "    wrong = len(gold)-correct\n",
    "    error = wrong/len(gold)\n",
    "    \n",
    "    return error"
   ]
  },
  {
   "cell_type": "code",
   "execution_count": 5,
   "metadata": {
    "scrolled": true
   },
   "outputs": [],
   "source": [
    "cipher_desc = get_statistics(cipher, cipher=True)\n",
    "plaintxt = read_file(\"data/default.wiki.txt.bz2\")\n",
    "plaintxt_desc = get_statistics(plaintxt, cipher=False)\n",
    "#pp.pprint(cipher_desc)"
   ]
  },
  {
   "cell_type": "markdown",
   "metadata": {},
   "source": [
    "## Load the 6-gram model"
   ]
  },
  {
   "cell_type": "code",
   "execution_count": 6,
   "metadata": {},
   "outputs": [
    {
     "name": "stderr",
     "output_type": "stream",
     "text": [
      "Reading language model from data/6-gram-wiki-char.lm.bz2...\n"
     ]
    },
    {
     "name": "stdout",
     "output_type": "stream",
     "text": [
      "Wall time: 14.6 s\n"
     ]
    },
    {
     "name": "stderr",
     "output_type": "stream",
     "text": [
      "Done.\n"
     ]
    }
   ],
   "source": [
    "%%time\n",
    "sequence = 'In a few cases, a multilingual artifact has been necessary to facilitate decipherment, the Rosetta Stone being the classic example. Statistical techniques provide another pathway to decipherment, as does the analysis of modern languages derived from ancient languages in which undeciphered texts are written. Archaeological and historical information is helpful in verifying hypothesized decipherments.'\n",
    "\n",
    "# lm = LM(\"data/6-gram-wiki-char.lm.bz2\", n=6, verbose=True)\n",
    "lm = LM(\"data/6-gram-wiki-char.lm.bz2\", n=6, verbose=False)"
   ]
  },
  {
   "cell_type": "code",
   "execution_count": 7,
   "metadata": {},
   "outputs": [
    {
     "name": "stdout",
     "output_type": "stream",
     "text": [
      "-2.545382\n"
     ]
    }
   ],
   "source": [
    "# print(sequence)\n",
    "# lm_logprob = lm.score_seq(sequence)\n",
    "# print(\"TOTAL LM LOGPROB: {}\".format(lm_logprob), file=sys.stderr)\n",
    "# print(\"TOTAL LM LOGPROB: {}\".format(lm.score_seq('this is the text.')), file=sys.stderr)\n",
    "# print(lm.get_bitstring_spans('..oo...ooo..'))\n",
    "# print(lm.score_bitstring('thisisatest', 'ooooooooooo'))\n",
    "print(lm.score_bitstring('thisisatest', '...........'))"
   ]
  },
  {
   "cell_type": "markdown",
   "metadata": {},
   "source": [
    "## Implementation for Reference 3 to find the optimal extension order"
   ]
  },
  {
   "cell_type": "markdown",
   "metadata": {},
   "source": [
    "This is the implementation of the reference 'Beam Search for Solving Substitution Ciphers'. The goal is to find the best extension order. As the paper mentioned, it is important to find a set of weights for the ngram order. I chose the weights \\[1,1,1,1,2,3\\] suggested by Anoop in a discussion post. I also tried several sets of weights. For beamsize of 10000, the result was not influenced quite much."
   ]
  },
  {
   "cell_type": "code",
   "execution_count": 8,
   "metadata": {},
   "outputs": [],
   "source": [
    "def find_sharp_n(cipher_desc, symbols_found, n_order):\n",
    "    '''\n",
    "    finds the #n for order n_order\n",
    "    cipher_desc -- cipher statistics\n",
    "    symbols_found -- list of single character string,\n",
    "                     specifies the list of symbols have been placed in the extention order\n",
    "    n_order -- int, specifies the order of n-gram\n",
    "    '''\n",
    "    sharp_n = 0\n",
    "    for i in range(len(cipher_desc['content'])-n_order+1):\n",
    "        for j in range(i, i+n_order, 1):\n",
    "            if cipher_desc['content'][j] not in symbols_found:\n",
    "                break\n",
    "            if j == (i+n_order-1):\n",
    "                sharp_n += 1\n",
    "                #print(cipher_desc['content'][i:i+n_order])\n",
    "    return sharp_n            "
   ]
  },
  {
   "cell_type": "markdown",
   "metadata": {},
   "source": [
    "This is used to test the find_sharp_n function above. The results should be correct."
   ]
  },
  {
   "cell_type": "code",
   "execution_count": 9,
   "metadata": {},
   "outputs": [],
   "source": [
    "# test_str = 'ASCREAMINGCOMESACROSSTHESKY'\n",
    "# print(find_sharp_n(get_statistics(test_str), ['A','G','H','K','Y'],6))\n",
    "# find_sharp_n(get_statistics(test_str), ['S','C','E','M','O'],2)"
   ]
  },
  {
   "cell_type": "markdown",
   "metadata": {},
   "source": [
    "Use a beam search to find the optimal extension order. The code below is pretty similar to the beam_search function. Most of the code is copied from it. For simplicity, the variable name might not quite make sense."
   ]
  },
  {
   "cell_type": "code",
   "execution_count": 39,
   "metadata": {},
   "outputs": [],
   "source": [
    "def find_ext_order(cipher_desc, topn=100, weights=[1,1,1,1,2,3]):\n",
    "    '''\n",
    "    finds the best order of deciphering cipher symbols (find best extention order)\n",
    "    cipher_desc -- cipher statistics\n",
    "    topn -- int, number of best trees we want to keep during iteration\n",
    "    weights -- list of int, weight for #n, n varies from 1 to 6\n",
    "    '''\n",
    "    # symbols already found with score\n",
    "    Hs = [([], 0)]\n",
    "    # hypothesis extended symbols with score\n",
    "    Ht = []\n",
    "    # initialize the cardinality (number of unique cipher text)\n",
    "    cardinality = 0\n",
    "    # if no weight is specified for unigram, use the most frequent symbol as the starting point\n",
    "    if weights[0] == 0:\n",
    "        cardinality += 1\n",
    "        Hs.append(([sorted(cipher_desc['frequencies'], key=cipher_desc['frequencies'].get, reverse=True)[0]], 0))\n",
    "    # list of cipher symbols\n",
    "    Ve = sorted(cipher_desc['frequencies'], key=cipher_desc['frequencies'].get, reverse=True)\n",
    "    while cardinality < cipher_desc['vocab_length']:\n",
    "        for phi, previous_score in Hs:\n",
    "            for e in Ve:\n",
    "                phi_prime = copy.deepcopy(phi)\n",
    "                if e in phi_prime:\n",
    "                    continue\n",
    "                else:\n",
    "                    phi_prime.append(e)\n",
    "                    this_score = 0\n",
    "                    for i in range(len(weights)):\n",
    "                        this_score += weights[i]*find_sharp_n(cipher_desc, phi_prime, i+1)\n",
    "                    Ht.append((phi_prime, this_score))\n",
    "        # prune the histogram\n",
    "        Ht = sorted(Ht, key=lambda x:x[1], reverse=True)[:topn]                    \n",
    "        cardinality += 1\n",
    "        Hs = copy.deepcopy(Ht)\n",
    "        Ht.clear()\n",
    "#         if cardinality <= 5:\n",
    "#             print(Hs)\n",
    "        #print('Done with symbol number', cardinality, '; Current best score: ', Hs[0][1])\n",
    "        #print('Hs', Hs)\n",
    "    return sorted(Hs, key=lambda x:x[1], reverse=True)"
   ]
  },
  {
   "cell_type": "code",
   "execution_count": 40,
   "metadata": {},
   "outputs": [
    {
     "name": "stdout",
     "output_type": "stream",
     "text": [
      "Wall time: 3min 17s\n"
     ]
    }
   ],
   "source": [
    "%%time\n",
    "ext_orders = find_ext_order(cipher_desc, topn=100, weights=[1,1,1,1,2,3])"
   ]
  },
  {
   "cell_type": "code",
   "execution_count": 44,
   "metadata": {},
   "outputs": [],
   "source": [
    "seen_first_symbols = []\n",
    "candidate_orders = []\n",
    "for item in ext_orders:\n",
    "    if item[0][0] not in seen_first_symbols:\n",
    "        seen_first_symbols.append(item[0][0])\n",
    "        candidate_orders.append(item[0])"
   ]
  },
  {
   "cell_type": "code",
   "execution_count": 45,
   "metadata": {},
   "outputs": [
    {
     "data": {
      "text/plain": [
       "[['B',\n",
       "  '∑',\n",
       "  'º',\n",
       "  '∫',\n",
       "  'P',\n",
       "  'A',\n",
       "  'O',\n",
       "  'R',\n",
       "  'u',\n",
       "  'À',\n",
       "  '/',\n",
       "  'Z',\n",
       "  '∆',\n",
       "  'V',\n",
       "  '–',\n",
       "  'W',\n",
       "  '√',\n",
       "  'I',\n",
       "  '•',\n",
       "  'X',\n",
       "  '≈',\n",
       "  '—',\n",
       "  'µ',\n",
       "  '∞',\n",
       "  'E',\n",
       "  'π',\n",
       "  'H',\n",
       "  'F',\n",
       "  '+',\n",
       "  '“',\n",
       "  'Q',\n",
       "  'G',\n",
       "  'y',\n",
       "  'æ',\n",
       "  'K',\n",
       "  'D',\n",
       "  '£',\n",
       "  'M',\n",
       "  'Ç',\n",
       "  'J',\n",
       "  '∏',\n",
       "  'T',\n",
       "  'ƒ',\n",
       "  '\\\\',\n",
       "  'L',\n",
       "  '‘',\n",
       "  '^',\n",
       "  'Ã',\n",
       "  'S',\n",
       "  'N',\n",
       "  '¢',\n",
       "  '§',\n",
       "  'Ω',\n",
       "  'j'],\n",
       " ['∑',\n",
       "  'B',\n",
       "  'º',\n",
       "  '∫',\n",
       "  'P',\n",
       "  'A',\n",
       "  'O',\n",
       "  'R',\n",
       "  'u',\n",
       "  'À',\n",
       "  '/',\n",
       "  'Z',\n",
       "  '∆',\n",
       "  'V',\n",
       "  '–',\n",
       "  'W',\n",
       "  '√',\n",
       "  'I',\n",
       "  '•',\n",
       "  'X',\n",
       "  '≈',\n",
       "  '—',\n",
       "  'µ',\n",
       "  '∞',\n",
       "  'E',\n",
       "  'π',\n",
       "  'H',\n",
       "  'F',\n",
       "  '+',\n",
       "  '“',\n",
       "  'Q',\n",
       "  'G',\n",
       "  'y',\n",
       "  'æ',\n",
       "  'K',\n",
       "  'D',\n",
       "  '£',\n",
       "  'M',\n",
       "  'Ç',\n",
       "  'J',\n",
       "  '∏',\n",
       "  'T',\n",
       "  'ƒ',\n",
       "  '\\\\',\n",
       "  'L',\n",
       "  '‘',\n",
       "  '^',\n",
       "  'Ã',\n",
       "  'S',\n",
       "  'N',\n",
       "  '¢',\n",
       "  '§',\n",
       "  'Ω',\n",
       "  'j'],\n",
       " ['º',\n",
       "  '∑',\n",
       "  'B',\n",
       "  '∫',\n",
       "  'P',\n",
       "  'A',\n",
       "  'O',\n",
       "  'R',\n",
       "  'u',\n",
       "  'À',\n",
       "  '/',\n",
       "  'Z',\n",
       "  '∆',\n",
       "  'V',\n",
       "  '–',\n",
       "  'W',\n",
       "  '√',\n",
       "  'I',\n",
       "  '•',\n",
       "  'X',\n",
       "  '≈',\n",
       "  '—',\n",
       "  'µ',\n",
       "  '∞',\n",
       "  'E',\n",
       "  'π',\n",
       "  'H',\n",
       "  'F',\n",
       "  '+',\n",
       "  '“',\n",
       "  'Q',\n",
       "  'G',\n",
       "  'y',\n",
       "  'æ',\n",
       "  'K',\n",
       "  'D',\n",
       "  '£',\n",
       "  'M',\n",
       "  'Ç',\n",
       "  'J',\n",
       "  '∏',\n",
       "  'T',\n",
       "  'ƒ',\n",
       "  '\\\\',\n",
       "  'L',\n",
       "  '‘',\n",
       "  '^',\n",
       "  'Ã',\n",
       "  'S',\n",
       "  'N',\n",
       "  '¢',\n",
       "  '§',\n",
       "  'Ω',\n",
       "  'j'],\n",
       " ['P',\n",
       "  'B',\n",
       "  '∑',\n",
       "  'º',\n",
       "  '∫',\n",
       "  'A',\n",
       "  'O',\n",
       "  'R',\n",
       "  'u',\n",
       "  'À',\n",
       "  '/',\n",
       "  'Z',\n",
       "  '∆',\n",
       "  'V',\n",
       "  '–',\n",
       "  'W',\n",
       "  '√',\n",
       "  'I',\n",
       "  '•',\n",
       "  'X',\n",
       "  '≈',\n",
       "  '—',\n",
       "  'π',\n",
       "  '+',\n",
       "  'µ',\n",
       "  '∞',\n",
       "  'E',\n",
       "  'H',\n",
       "  'F',\n",
       "  '“',\n",
       "  'Q',\n",
       "  'G',\n",
       "  'y',\n",
       "  'æ',\n",
       "  'K',\n",
       "  'D',\n",
       "  '£',\n",
       "  'M',\n",
       "  'Ç',\n",
       "  'J',\n",
       "  '∏',\n",
       "  'T',\n",
       "  'ƒ',\n",
       "  '\\\\',\n",
       "  'L',\n",
       "  '‘',\n",
       "  '^',\n",
       "  'Ã',\n",
       "  'S',\n",
       "  'N',\n",
       "  '¢',\n",
       "  '§',\n",
       "  'Ω',\n",
       "  'j'],\n",
       " ['∫',\n",
       "  'º',\n",
       "  'B',\n",
       "  '∑',\n",
       "  'P',\n",
       "  'A',\n",
       "  'O',\n",
       "  'R',\n",
       "  'u',\n",
       "  'À',\n",
       "  '/',\n",
       "  'Z',\n",
       "  '∆',\n",
       "  'V',\n",
       "  '–',\n",
       "  'W',\n",
       "  '√',\n",
       "  'I',\n",
       "  '•',\n",
       "  'X',\n",
       "  '≈',\n",
       "  '—',\n",
       "  'π',\n",
       "  '+',\n",
       "  'µ',\n",
       "  '∞',\n",
       "  'E',\n",
       "  '“',\n",
       "  'H',\n",
       "  'F',\n",
       "  'Q',\n",
       "  'G',\n",
       "  'y',\n",
       "  'æ',\n",
       "  'K',\n",
       "  'D',\n",
       "  '£',\n",
       "  'M',\n",
       "  'Ç',\n",
       "  'J',\n",
       "  '∏',\n",
       "  'T',\n",
       "  'ƒ',\n",
       "  '\\\\',\n",
       "  'L',\n",
       "  '‘',\n",
       "  '^',\n",
       "  'Ã',\n",
       "  'S',\n",
       "  'N',\n",
       "  '¢',\n",
       "  '§',\n",
       "  'Ω',\n",
       "  'j']]"
      ]
     },
     "execution_count": 45,
     "metadata": {},
     "output_type": "execute_result"
    }
   ],
   "source": [
    "candidate_orders"
   ]
  },
  {
   "cell_type": "code",
   "execution_count": 37,
   "metadata": {
    "code_folding": []
   },
   "outputs": [
    {
     "name": "stdout",
     "output_type": "stream",
     "text": [
      "['P', 'B', '∑', 'º', '∫', '/', 'Z', 'u', 'A',\n",
      " '∆', 'O', 'R', 'À', 'V', '–', '•', 'X', 'W',\n",
      " '§', 'π', '≈', '—', '+', 'D', 'G', '√', 'E',\n",
      " 'K', 'y', 'æ', 'Ã', 'I', 'H', 'F', '∞', '“',\n",
      " 'µ', 'Q', '£', 'M', 'Ç', 'J', '^', 'L', '∏',\n",
      " 'ƒ', 'S', 'T', '‘', 'N', '¢', '\\\\', 'Ω',\n",
      " 'j']\n"
     ]
    }
   ],
   "source": [
    "#ext_order = ext_orders[0][0]\n",
    "ext_order = ['P', 'B', '∑', 'º', '∫', '/', 'Z', 'u', 'A',\n",
    " '∆', 'O', 'R', 'À', 'V', '–', '•', 'X', 'W',\n",
    " '§', 'π', '≈', '—', '+', 'D', 'G', '√', 'E',\n",
    " 'K', 'y', 'æ', 'Ã', 'I', 'H', 'F', '∞', '“',\n",
    " 'µ', 'Q', '£', 'M', 'Ç', 'J', '^', 'L', '∏',\n",
    " 'ƒ', 'S', 'T', '‘', 'N', '¢', '\\\\', 'Ω',\n",
    " 'j']\n",
    "pp.pprint(ext_order)"
   ]
  },
  {
   "cell_type": "code",
   "execution_count": 13,
   "metadata": {},
   "outputs": [],
   "source": [
    "# with open('ext_order.pkl', 'wb') as fh:\n",
    "#     pickle.dump(ext_orders, fh)"
   ]
  },
  {
   "cell_type": "code",
   "execution_count": 14,
   "metadata": {},
   "outputs": [],
   "source": [
    "# with open('ext_order.pkl', 'rb') as fh:\n",
    "#     ext_order = pickle.load(fh, encoding='utf8')[0][0]"
   ]
  },
  {
   "cell_type": "markdown",
   "metadata": {},
   "source": [
    "## Gold"
   ]
  },
  {
   "cell_type": "markdown",
   "metadata": {},
   "source": [
    "In this section, we investigate what is the ground truth mapping relationship of Zodiac cipher. The goal is to get some sense of how good or bad our extension order is. If the correct answer has been pruned out at a very early stage, it is not quite possible that the text can be fully deciphered since the following score is computed based on a wrong partial deciphered text."
   ]
  },
  {
   "cell_type": "markdown",
   "metadata": {},
   "source": [
    "We tried several sets of weights to get different extension order results. An interesting finding is that the score is always quite bad at the beginning. This significantly increases the possiblity of pruning the correct mapping. When we tried different extension orders, what we were looking for was an order that the score of the correct answer can be pretty decent at the first 5 or 6 iterations."
   ]
  },
  {
   "cell_type": "code",
   "execution_count": 15,
   "metadata": {},
   "outputs": [
    {
     "name": "stdout",
     "output_type": "stream",
     "text": [
      "ilikekillingpeoplebecauseitissomuchfunitismorefunthankillingwildgameintheforrestbecausemanisthemostdangeroueanamalofalltokillsomethinggivesmethemostthrillingexperenceitisevenbetterthangettingyourrocksoffwithagirlthebestpartofitisthaewhenidieiwillbereborninparadicesndalltheihavekilledwillbecomemyslavesiwillnotgiveyoumynamebecauseyouwilltrytosloidownorstopmycollectiogofslavesformyafterlifeebeorietemethhpiti\n",
      "score -359.0030393831197\n",
      "408\n"
     ]
    }
   ],
   "source": [
    "with open('data/_ref_Zodiac_408.txt', 'r') as fh:\n",
    "    ground_truth = fh.read()\n",
    "print(ground_truth)\n",
    "print('score', lm.score_seq(ground_truth))\n",
    "print(len(ground_truth))"
   ]
  },
  {
   "cell_type": "code",
   "execution_count": 16,
   "metadata": {
    "scrolled": true
   },
   "outputs": [],
   "source": [
    "gold = read_gold('data/_ref_Zodiac_408.txt')\n",
    "gold_dict = dict()\n",
    "for index in range(len(cipher_desc['content'])):\n",
    "    cipher_char = cipher_desc['content'][index]\n",
    "    if cipher_char not in gold_dict.keys():\n",
    "        gold_dict[cipher_char] = gold[index]"
   ]
  },
  {
   "cell_type": "code",
   "execution_count": 17,
   "metadata": {
    "scrolled": true
   },
   "outputs": [
    {
     "name": "stdout",
     "output_type": "stream",
     "text": [
      "Iteration 1, symbol P, score: -15.017390999999996\n",
      "__i________________________i_____________________________i________________________________________________________________i_______________________________i_________________________________________________i________________________________i________________i______________________________i_______________________________________________________________________________i_____________________i____________________\n",
      "Iteration 2, symbol B, score: -30.9290574\n",
      "__i____l________l__________i____________________________li_______________________________________________________l____l___i_l____________________________li_________________________________________________i________________________________i_______l________i______________________________i_l_________________l_____________________________________l_____________________i____________________li____________________\n",
      "Iteration 3, symbol ∑, score: -40.48860420000001\n",
      "__i____l________l__________i___________________________lli_______________________________________________________l___ll___ill___________________________lli_________________________________________________i________________________________i______ll________i______________________________ill_________l_______l______________________________l______l________________ll___i____________________li____________________\n",
      "Iteration 4, symbol º, score: -54.09980730000002\n",
      "i_i____l________l________i_i__________________________illi________________________________i______________________l___ll___ill__________________________illi_________________________________i_______________i______________________i_________i_____ill________i________________________i_____ill_________l____i_il____________________________i_l______l_i______________ll___i____________________li_______i____________\n",
      "Iteration 5, symbol ∫, score: -66.62384900000002\n",
      "ili____ll_______l________i_i__________________________illi____l___________________________i______________________l___ll___ill__________________________illi_________________________________i_______________i______l_______________i_________i_____ill________i_____________ll_________ill___ill_________l____i_ill___________________________ill______l_i______________ll___i_____l______________li_______i____________\n",
      "Iteration 6, symbol /, score: -74.4963242\n",
      "ilik_k_ll_______l________i_i_________________________killi____l___________________________i______________________l___ll__kill__________________________illi_________________________________i_________k_____i______l_______________i_________i_____ill________i_____________ll________kill___ill_________l____i_ill___________________________ill______l_i______________ll___i_____l______________li_______i____________\n",
      "Iteration 7, symbol Z, score: -80.18821794\n",
      "ilikek_ll_______l________i_i_________________________killi____l_________e_________________i______________________l___ll__kill____________e_____________illi_______________e_________________i_________k_____i______l_______________i_______e_i_____ill________i_____________ll________kille__ill_________l____i_ill_________________e_________ill______l_i______________ll___i_____l__e___________li_______i____________\n",
      "Iteration 8, symbol u, score: -89.41897665\n",
      "ilikekill_______l________i_i__________i______________killi___il_________e_________________i______________________l___ll__kill______i_____e_____________illi___________i___e_________________i_________k_____i____i_l_______________i_______e_i_i___ill________i______i______ll________kille__ill_________l____i_ill____i____________e_________ill______l_i______________ll___i_____l__e___________li_______i_________i__\n",
      "Iteration 9, symbol A, score: -99.03132769000003\n",
      "ilikekill_______l________i_i__________i______________killi__wil_________e_________________i______________________l___ll__kill______i_____e_____________illi___________i___e_________________i_________k____wi____i_l_______________i_____w_e_i_i__will________i______i______ll________kille_will_________l____iwill____i____________e________will______l_i__w___________ll___i_____l__e___________li_______i_________i__\n",
      "Iteration 10, symbol ∆, score: -100.44054761000002\n",
      "ilikekill_______l________i_i__________i______________killi__wild________e_________________i______________________l___ll__kill______i_____e_____________illi___________i___e_________________i_________k____wi____i_l_______________i_____w_e_i_i__will________i_____di______ll________killedwill_________l____iwill____i____________e________will______l_i__w___________ll___i_____l__e___________li_______i_________i__\n",
      "Iteration 11, symbol O, score: -106.49591054000001\n",
      "ilikekill_n_____l________i_i__________i______________killin_wild________e_________________i__________________n___l___ll__kill______i_____e_____________illi___________i___e__n______________i_________k____wi____i_l_______________i_____w_e_i_i__will_______ni_____di______ll________killedwill_________l____iwilln___i____________e________will______l_i__w___________ll___in____l__e___________li_______i_________i__\n",
      "Iteration 12, symbol R, score: -122.90570733999999\n",
      "ilikekill_ng____l________i_i__________i______________killingwildg_______e_________________i___________g______n___l___ll__kill______i_gg__e_____________illi_g_________i___e__n__________g___i_g_______k____wi___gi_l_______________i_____w_e_i_i__will_______ni_____di______ll________killedwill_________l____iwilln__gi____________e________will______l_i__w___________ll___ing___l__e___________li_______i_________i__\n",
      "Iteration 13, symbol À, score: -132.36550241\n",
      "ilikekilling____l________i_i__________i_i____________killingwildg___i___e_________________i___________g______n___l___ll__kill______i_ggi_e_____________illi_g_________i_i_e__n__________g___i_g_______k____wi___gi_l_____________i_i_____w_e_i_i_iwill_______ni_____di______ll___i____killedwill_________l____iwilln__gi____________e________will______l_i__w___________ll___ing___l__e___________li_______i_________i_i\n",
      "Iteration 14, symbol V, score: -146.78756550999998\n",
      "ilikekilling____l_b______i_i__________i_i____________killingwildg___i___e_______b_________i___________g______n___l___ll__kill______i_ggi_e_____________illi_g_________i_i_e__nb_________g___i_g_______k____wi___gi_l___b_________i_i_____w_e_i_i_iwillb___b__ni_____di______ll___i____killedwillb________l____iwilln__gi___________be________will______l_i__w___________ll___ing___l__e___________li___b___i_________i_i\n",
      "Iteration 15, symbol –, score: -151.957971273\n",
      "ilikekilling_e__l_b______i_i__________i_i____________killingwildg___i___e____e__b_________i___________g______n___l___ll__kill______i_ggi_e__e__________illi_g_________i_i_e_enb_________g___i_g_______k____wi___gi_l___b_________i_i_____w_e_i_ieiwillb___b__ni_____di______ll___i____killedwillbe_______l____iwilln__gi___________be________will______l_i__w___________ll___ing___l__e___________li___b___i_________i_i\n",
      "Iteration 16, symbol •, score: -163.19908467300004\n",
      "ilikekillingpe_pl_b______i_i__________i_i____________killingwildg___i___e____e__b_________i___________g______n___l___ll__kill______i_ggi_e__e__________illi_g__p______i_i_e_enb_________g___i_g_______k____wi___gi_l___b___p_____i_i_____w_e_i_ieiwillb___b__ni_p___di______ll___i____killedwillbe_______l____iwilln__gi___________be________will______l_i__w______p____ll___ing___l__e___________li___b___i________pi_i\n",
      "Iteration 17, symbol X, score: -171.04561658929998\n",
      "ilikekillingpeopl_b______i_i__________i_i____________killingwildg___i___e____e__b_________i_____o_____g______n___l___ll__kill_o____i_ggi_e__e__________illi_g__p______i_i_e_enb_________g___i_g_______k_o__wi___gi_l___b___p_____i_i_____w_e_i_ieiwillb___b__ni_p___di______ll___i____killedwillbe_o_____l____iwilln__gi___________be________will______loi_ow______p____ll___ingo__l__e___________li___b_o_i________pi_i\n",
      "Iteration 18, symbol W, score: -177.10340249218\n",
      "ilikekillingpeopleb______i_i__________i_i____________killingwildg___i___e____e__be________i_____o_____g______n___l___ll__kill_o____i_ggi_e__e__e_______illi_g__p______i_i_e_enbe________g___i_g_______k_o__wi___gi_l___b___p_____i_i_____w_e_i_ieiwillbe__b__ni_p___di______ll___i____killedwillbe_o_e___l____iwilln__gi__________ebe________will______loi_ow______p____ll___ingo__l__e___________li_e_b_o_ie_______pi_i\n",
      "Iteration 19, symbol §, score: -183.68296192217997\n",
      "ilikekillingpeopleb______i_i__________i_i____________killingwildg___i___e____e__be________i_____o__d__g______n___l___ll__kill_o____i_ggi_e__e__e_______illi_g__p______i_i_e_enbe________g___i_g_______k_o__wi___gi_l___b___p_____i_i_____w_e_idieiwillbe__b__ni_p___di____d_ll___i____killedwillbe_o_e___l____iwilln__gi__________ebe________will______loidow______p____ll___ingo__l__e___________li_e_b_o_ie_______pi_i\n",
      "Iteration 20, symbol π, score: -189.60467651118003\n",
      "ilikekillingpeopleb______i_is_________i_i____________killingwildg___i___e____e__be___s____i_____o__d__g______n___l___ll__killso____i_ggi_e__e__e_______illi_g__p______i_i_e_enbe________g___i_g_______kso__wi___gi_l___b___p_____i_i_____w_e_idieiwillbe__b__ni_p___di____d_ll___i____killedwillbe_o_e___l___siwilln__gi__________ebe________will______loidow______p____ll___ingo__l__es__________li_e_b_o_ie_______pi_i\n",
      "Iteration 21, symbol ≈, score: -200.88214521117996\n",
      "ilikekillingpeopleb_c____i_is____c____i_i____________killingwildg___i___e____e__bec__s____i_____o__d__g______n___l___ll__killso____i_ggi_e__e__e_______illi_g__p____c_i_i_e_enbe________g___i_g______ckso__wi___gi_l___b___p_____i_i_____w_e_idieiwillbe__b__ni_p___dic___d_ll___i____killedwillbeco_e___l___siwilln__gi__________ebec_______will______loidow______p__c_ll_c_ingo__l__es__________li_e_b_o_ie_______pi_i\n",
      "Iteration 22, symbol —, score: -222.89030111118007\n",
      "ilikekillingpeopleb_c____i_is__m_c____i_i_m__________killingwildg_m_i___e____e__bec__s_m__i____mo__d__g______n_m_l___ll__killsom___i_ggi_e_me__em______illi_g__p____c_i_i_e_enbe________g___i_g______ckso__wi___gi_l___b___p_____i_i_____w_e_idieiwillbe__b__ni_p___dic___d_ll___i____killedwillbecomem__l___siwilln__gi_____m___mebec_______will______loidow______pm_c_ll_c_ingo__l__es___m______li_e_b_o_ie__m____pi_i\n",
      "Iteration 23, symbol +, score: -228.74412731118002\n",
      "ilikekillingpeoplebec____i_is__m_c____i_i_m__________killingwildg_m_i___e____e__bec__sem__i____mo__d__g______n_m_l___ll__killsom___i_ggi_e_me__em______illi_ge_p____c_i_i_e_enbe__e_____g___i_g______ckso__wi___gi_l___b___p_____i_i_____w_e_idieiwillbe_eb__ni_p___dic___d_ll___i____killedwillbecomem__l__esiwilln__gi_e___m___mebec_______will______loidow______pm_c_ll_c_ingo__l__es___m____e_li_e_b_o_ie__m____pi_i\n",
      "Iteration 24, symbol D, score: -232.74367391118003\n",
      "ilikekillingpeoplebec____i_is__m_c____i_i_m_____n____killingwildg_m_i___e____e__bec__sem_ni____mo__d__g______n_m_l___ll__killsom___i_ggi_e_me__em______illinge_p____c_i_i_e_enbe__e_____g___ing______ckso__wi___gi_l___b___p_____i_i_____w_e_idieiwillbe_eb__ni_p___dic__nd_ll___i____killedwillbecomem__l__esiwilln__gi_e___m___mebec_______will______loidown_____pm_c_ll_c_ingo__l__es___m____e_li_e_b_o_ie__m____pi_i\n",
      "Iteration 25, symbol G, score: -235.66027361118003\n",
      "ilikekillingpeoplebeca___i_is__m_c____i_i_m_____n____killingwildg_m_i___e____e__bec__semani____mo__d__g______n_mal___ll__killsom___i_ggi_e_me__em______illinge_p____c_i_i_e_enbe__e_____g___ing______ckso__wi___gi_l___b___pa____i_i_____w_e_idieiwillbe_eb__ni_p___dic__ndall___i____killedwillbecomem__l__esiwilln__gi_e___m___mebeca______will______loidown_____pm_c_ll_c_ingo__la_es___m____e_li_e_b_o_ie__m____pi_i\n",
      "Iteration 26, symbol √, score: -240.31733550118\n",
      "ilikekillingpeoplebeca___i_is__m_c____i_i_m_____n____killingwildg_m_i___e____e__bec__semani____mo__d__g______n_mal___ll__killsom___i_ggive_me__em______illinge_p____c_i_i_evenbe__e_____g___ing______ckso__wi___gi_l___b___pa____i_i_____w_e_idieiwillbe_eb__ni_p___dic__ndall___i__v_killedwillbecomem__l_vesiwilln__give___m___mebeca______will______loidown_____pm_c_ll_c_ingo__laves___m____e_li_e_b_o_ie__m____pi_i\n",
      "Iteration 27, symbol E, score: -247.08894928117996\n",
      "ilikekillingpeoplebeca___i_is__m_c____i_i_m_____n____killingwildg_mei___e____e__bec__semani____mo__d__g____e_n_mal___ll__killsome__i_ggive_me__em______illinge_p____cei_i_evenbe__e_____g___ing______ckso__wi___gi_l___be__pa____i_i_____w_e_idieiwillbe_eb__ni_p___dic__ndall___i__vekilledwillbecomem__l_vesiwilln__give___m___mebeca__e___will______loidown_____pm_c_ll_c_ingo__laves___m____e_li_e_beo_ie__me___pi_i\n",
      "Iteration 28, symbol K, score: -253.10847268117996\n",
      "ilikekillingpeoplebeca___i_iss_m_c____i_i_m_____n____killingwildg_mei___e____e__bec__semanis___mo__d__g____e_n_mal___ll__killsome__i_ggivesme__em______illinge_p____cei_i_evenbe__e_____g___ing______ckso__wi___gi_l___bes_pa____i_i_____w_e_idieiwillbe_eb__ni_p___dic__ndall___i__vekilledwillbecomem__l_vesiwilln__give___m___mebeca_se___will______loidown_____pm_c_ll_c_ingo__laves___m____e_li_e_beo_ie__me___pi_i\n",
      "Iteration 29, symbol y, score: -263.64325374117993\n",
      "ilikekillingpeoplebecau__i_iss_muc__u_i_i_m____un____killingwildg_mei___e____e__bec_usemanis___mo__d__g___ue_n_mal___ll__killsome__i_ggivesme__em______illinge_p____cei_i_evenbe__e_____g___ing__u___ckso__wi___gi_l___bes_pa____i_i_____w_e_idieiwillbe_eb__ni_p___dic__ndall___i__vekilledwillbecomem__l_vesiwilln__give__um___mebecause__uwill______loidown_____pm_c_ll_c_ingo__laves___m____e_li_e_beo_ie__me___pi_i\n",
      "Iteration 30, symbol æ, score: -270.04250254118\n",
      "ilikekillingpeoplebecau__i_iss_muc__u_i_i_m____un____killingwildg_mei___e____e__becausemanis___moa_d__g___ue_namal___ll__killsome__i_ggivesme__em_a____illinge_p____cei_i_evenbe__e_____g___ing__u___ckso__wi__agi_l___bes_pa____i_ia____w_e_idieiwillbe_eb__ni_p___dic__ndall___i__vekilledwillbecomem__lavesiwilln__give__um___mebecause__uwill______loidown_____pm_c_ll_c_ingo__laves___m_a__e_li_e_beo_ie__me___pi_i\n",
      "Iteration 31, symbol Ã, score: -273.09303693118005\n",
      "ilikekillingpeoplebecau__i_iss_muc__u_i_i_m____un____killingwildgamei___e____e__becausemanis___moa_d__g___ueanamal___ll__killsome__i_ggivesme__em_a____illinge_p____cei_i_evenbe__e___a_g___ing__u___ckso__wi__agi_l___bes_pa____i_ia__a_w_e_idieiwillbe_eb__ni_p__adic__ndall___i__vekilledwillbecomem__lavesiwilln__give__um___mebecause__uwill______loidown_____pm_c_ll_c_ingo__laves___m_a__e_li_e_beo_ie__me___pi_i\n",
      "Iteration 32, symbol I, score: -285.1854489311801\n",
      "ilikekillingpeoplebecau__i_iss_muc__u_iti_m____un____killingwildgamei___e____e__becausemanist__moa_d__g__tueanamal___ll__killsome__i_ggivesmet_em_a____illinge_p____cei_i_evenbet_e___a_g__ting__u___ckso__wi__agi_l___bes_pa_t__i_ia__a_w_e_idieiwillbe_eb__ni_p__adic__ndallt__i__vekilledwillbecomem__lavesiwilln__give__um___mebecause__uwill______loidown_____pm_c_ll_c_ingo__laves___m_a_te_li_e_beo_iet_me___piti\n",
      "Iteration 33, symbol H, score: -291.46150778118016\n",
      "ilikekillingpeoplebecau__itiss_muc__u_iti_m____un____killingwildgamei___e____e_tbecausemanist__moa_d__g__tueanamal___ll__killsomet_i_ggivesmet_em_a____illinge_p____ceiti_evenbet_e___a_g_tting__u___ckso__wi__agi_l___bestpa_t__i_ia__a_w_e_idieiwillbe_eb__ni_p__adic__ndallt__i__vekilledwillbecomem__lavesiwilln__give__um___mebecause__uwill___t__loidown_____pm_c_ll_c_ingo__laves___m_a_te_li_e_beo_iet_met__piti\n",
      "Iteration 34, symbol F, score: -294.43727808218017\n",
      "ilikekillingpeoplebecaus_itiss_muc__u_iti_m____un____killingwildgamei___e____estbecausemanist__moa_d__g__tueanamal___ll__killsomet_i_ggivesmet_em_a____illinge_p____ceitisevenbet_e___a_g_tting__u___ckso__wi__agi_l___bestpa_t__i_ia__a_w_e_idieiwillbe_eb__ni_p__adic__ndallt__i__vekilledwillbecomem_slavesiwilln__give__um___mebecause__uwill___t_sloidown_____pm_c_ll_c_ingo_slaves___m_a_te_li_e_beo_iet_met__piti\n",
      "Iteration 35, symbol ∞, score: -298.9006171511802\n",
      "ilikekillingpeoplebecauseitiss_muc__u_iti_m____un____killingwildgamei___e____estbecausemanist_emoa_d__g__tueanamal___ll__killsomet_i_ggivesmet_em_a____illinge_pe___ceitisevenbet_e___a_getting__u___ckso__wi__agi_l___bestpa_t__i_ia__a_w_e_idieiwillbe_eb__ni_p__adice_ndallt__i__vekilledwillbecomem_slavesiwilln__give__um___mebecause__uwill___t_sloidown_____pm_c_llec_ingo_slaves___m_a_te_li_eebeo_ietemet__piti\n",
      "Iteration 36, symbol “, score: -306.0917485011802\n",
      "ilikekillingpeoplebecauseitiss_muc__u_iti_m____un____killingwildgamei___e__r_estbecausemanist_emoa_d__g__tueanamal___ll__killsomet_i_ggivesmet_em_a___rillinge_pe___ceitisevenbet_e___a_getting__ur__ckso__wi__agi_l___bestpart__i_ia__a_w_e_idieiwillbe_eb__ni_p_radice_ndallt__i__vekilledwillbecomem_slavesiwilln__give__um___mebecause__uwill___t_sloidown_____pm_c_llec_ingo_slaves___m_a_terli_eebeorietemet__piti\n",
      "Iteration 37, symbol µ, score: -309.4758635211801\n",
      "ilikekillingpeoplebecauseitiss_muc__u_iti_m____unt___killingwildgamei___e__r_estbecausemanist_emoatd__g__tueanamal___ll__killsomet_i_ggivesmet_em_at__rillinge_pe___ceitisevenbette___a_getting__ur__ckso__wit_agi_l___bestpart__itia__a_w_e_idieiwillbe_eb__ni_p_radice_ndallt__i__vekilledwillbecomem_slavesiwilln_tgive__um___mebecause__uwill___t_sloidown_____pm_c_llectingo_slaves___m_a_terli_eebeorietemet__piti\n",
      "Iteration 38, symbol Q, score: -315.4575915811801\n",
      "ilikekillingpeoplebecauseitiss_muc__u_iti_m___funt___killingwildgamei___e__r_estbecausemanist_emoatd__g__tueanamal_f_ll__killsomet_i_ggivesmet_em_at__rillinge_pe___ceitisevenbette___a_getting__ur__ckso_fwit_agi_l___bestpart__itia__a_w_e_idieiwillbe_eb__ni_p_radice_ndallt__i__vekilledwillbecomem_slavesiwilln_tgive__um___mebecause__uwill___t_sloidown_____pm_c_llectingofslaves___m_a_terlifeebeorietemet__piti\n",
      "Iteration 39, symbol £, score: -324.16251905118\n",
      "ilikekillingpeoplebecauseitiss_muc__u_iti_m___funth__killingwildgamei___e__r_estbecausemanisthemoatd__g__tueanamal_f_ll__killsomet_i_ggivesmethem_at__rillinge_pe___ceitisevenbette__ha_getting__ur__ckso_fwit_agi_l_h_bestpart__itia__a_whe_idieiwillbe_eb__ni_p_radice_ndallt__ih_vekilledwillbecomem_slavesiwilln_tgive__um___mebecause__uwill___t_sloidown_____pm_c_llectingofslaves___m_a_terlifeebeorietemet_hpiti\n",
      "Iteration 40, symbol M, score: -329.59882526118\n",
      "ilikekillingpeoplebecauseitiss_much_u_iti_m___funth__killingwildgamei__he__r_estbecausemanisthemoatd__g__tueanamal_f_ll__killsomethi_ggivesmethem_at_hrillinge_pe___ceitisevenbette__ha_getting__ur__ckso_fwithagi_l_h_bestpart__itia_ha_whe_idieiwillbe_eb__ni_p_radice_ndallth_ih_vekilledwillbecomem_slavesiwilln_tgive__um___mebecause__uwill___t_sloidown_____pm_c_llectingofslaves___m_a_terlifeebeorietemethhpiti\n",
      "Iteration 41, symbol Ç, score: -331.9929383294802\n",
      "ilikekillingpeoplebecauseitissomuch_u_iti_m___funth__killingwildgamei__he__r_estbecausemanisthemoatd__g__tueanamal_f_ll__killsomethi_ggivesmethemoat_hrillinge_pe___ceitisevenbette__ha_getting__ur__ckso_fwithagi_l_h_bestparto_itia_ha_whe_idieiwillbe_eb__ni_p_radice_ndallth_ih_vekilledwillbecomem_slavesiwilln_tgive__um___mebecause__uwill___tosloidown____opm_c_llectingofslaves___m_a_terlifeebeorietemethhpiti\n",
      "Iteration 42, symbol J, score: -335.09119470388026\n",
      "ilikekillingpeoplebecauseitissomuchfu_iti_m___funth__killingwildgamei__hef_r_estbecausemanisthemoatd__g__tueanamal_f_ll__killsomethi_ggivesmethemoat_hrillinge_pe___ceitisevenbette__ha_getting__ur__cksoffwithagi_l_h_bestpartofitia_ha_whe_idieiwillbe_eb__ni_p_radice_ndallth_ih_vekilledwillbecomem_slavesiwilln_tgive__um___mebecause__uwill___tosloidown____opm_c_llectingofslavesf__m_afterlifeebeorietemethhpiti\n",
      "Iteration 43, symbol ^, score: -336.16842790388023\n",
      "ilikekillingpeoplebecauseitissomuchfuniti_m___funth__killingwildgamein_hef_r_estbecausemanisthemoatd__g__tueanamal_f_ll__killsomethinggivesmethemoat_hrillinge_pe___ceitisevenbette__hangetting__ur__cksoffwithagi_l_h_bestpartofitia_ha_whe_idieiwillbe_eb__ninp_radice_ndallth_ih_vekilledwillbecomem_slavesiwilln_tgive__um_n_mebecause__uwill___tosloidown____opm_c_llectingofslavesf__m_afterlifeebeorietemethhpiti\n",
      "Iteration 44, symbol L, score: -342.78444579388\n",
      "ilikekillingpeoplebecauseitissomuchfuniti_m___funth__killingwildgameinthef_r_estbecausemanisthemoatd__g__tueanamal_f_llt_killsomethinggivesmethemoatthrillinge_pe___ceitisevenbette_thangetting__ur__cksoffwithagi_lth_bestpartofitiatha_whe_idieiwillbe_eb__ninp_radice_ndallth_ih_vekilledwillbecomem_slavesiwilln_tgive__um_n_mebecause__uwillt__tosloidown___topm_c_llectingofslavesf__m_afterlifeebeorietemethhpiti\n",
      "Iteration 45, symbol ∏, score: -360.2294804623198\n",
      "ilikekillingpeoplebecauseitissomuchfuniti_m___funth__killingwildgameinthef_r_estbecausemanisthemoatd__g__tueanamal_f_llt_killsomethinggivesmethemoatthrillinge_pe___ceitisevenbette_thangettingy_ur__cksoffwithagi_lth_bestpartofitiatha_whe_idieiwillbe_eb__ninp_radice_ndallth_ih_vekilledwillbecomemyslavesiwilln_tgivey_umyn_mebecausey_uwillt_ytosloidown___topmyc_llectingofslavesf__myafterlifeebeorietemethhpiti\n",
      "Iteration 46, symbol ƒ, score: -356.98580778611966\n",
      "ilikekillingpeoplebecauseitissomuchfuniti_m___funth__killingwildgameinthefor_estbecausemanisthemoatd__g__tueanamal_f_lltokillsomethinggivesmethemoatthrillinge_pe___ceitisevenbette_thangettingy_ur_ocksoffwithagi_lth_bestpartofitiatha_whe_idieiwillbe_eb__ninp_radice_ndallth_ih_vekilledwillbecomemyslavesiwilln_tgiveyoumyn_mebecausey_uwillt_ytosloidowno__topmycollectingofslavesf__myafterlifeebeorietemethhpiti\n",
      "Iteration 47, symbol S, score: -354.2262880561197\n",
      "ilikekillingpeoplebecauseitissomuchfuniti_m___funtha_killingwildgameinthefor_estbecausemanisthemoatda_g__tueanamal_falltokillsomethinggivesmethemoatthrillinge_pe___ceitisevenbette_thangettingy_ur_ocksoffwithagi_lth_bestpartofitiatha_whe_idieiwillbe_eb__ninparadice_ndallth_ihavekilledwillbecomemyslavesiwilln_tgiveyoumynamebecausey_uwillt_ytosloidowno__topmycollectingofslavesf__myafterlifeebeorietemethhpiti\n",
      "Iteration 48, symbol T, score: -350.5960053171197\n",
      "ilikekillingpeoplebecauseitissomuchfuniti_mo__funtha_killingwildgameinthefor_estbecausemanisthemoatda_g__tueanamalofalltokillsomethinggivesmethemoatthrillinge_pe___ceitisevenbette_thangettingyour_ocksoffwithagi_lth_bestpartofitiatha_whe_idieiwillbe_ebo_ninparadice_ndallth_ihavekilledwillbecomemyslavesiwillnotgiveyoumynamebecauseyouwillt_ytosloidowno__topmycollectingofslavesfo_myafterlifeebeorietemethhpiti\n",
      "Iteration 49, symbol ‘, score: -347.24359779711966\n",
      "ilikekillingpeoplebecauseitissomuchfuniti_mor_funtha_killingwildgameinthefor_estbecausemanisthemoatda_g_rtueanamalofalltokillsomethinggivesmethemoatthrillinge_pe___ceitisevenbetterthangettingyour_ocksoffwithagirlth_bestpartofitiatha_whe_idieiwillbe_eborninparadice_ndallth_ihavekilledwillbecomemyslavesiwillnotgiveyoumynamebecauseyouwilltrytosloidowno__topmycollectingofslavesformyafterlifeebeorietemethhpiti\n",
      "Iteration 50, symbol N, score: -352.41491689011985\n",
      "ilikekillingpeoplebecauseitissomuchfuniti_morefuntha_killingwildgameinthefor_estbecausemanisthemoatda_gertueanamalofalltokillsomethinggivesmethemoatthrillinge_pe_e_ceitisevenbetterthangettingyour_ocksoffwithagirlthebestpartofitiathaewhe_idieiwillbe_eborninparadice_ndalltheihavekilledwillbecomemyslavesiwillnotgiveyoumynamebecauseyouwilltrytosloidowno__topmycollectingofslavesformyafterlifeebeorietemethhpiti\n",
      "Iteration 51, symbol ¢, score: -351.1401443601198\n",
      "ilikekillingpeoplebecauseitissomuchfuniti_morefunthankillingwildgameinthefor_estbecausemanisthemoatdangertueanamalofalltokillsomethinggivesmethemoatthrillinge_pe_enceitisevenbetterthangettingyour_ocksoffwithagirlthebestpartofitiathaewhenidieiwillbe_eborninparadice_ndalltheihavekilledwillbecomemyslavesiwillnotgiveyoumynamebecauseyouwilltrytosloidowno__topmycollectingofslavesformyafterlifeebeorietemethhpiti\n",
      "Iteration 52, symbol \\, score: -355.7758263201198\n",
      "ilikekillingpeoplebecauseitissomuchfuniti_morefunthankillingwildgameintheforrestbecausemanisthemoatdangertueanamalofalltokillsomethinggivesmethemoatthrillinge_perenceitisevenbetterthangettingyourrocksoffwithagirlthebestpartofitiathaewhenidieiwillbereborninparadice_ndalltheihavekilledwillbecomemyslavesiwillnotgiveyoumynamebecauseyouwilltrytosloidownor_topmycollectingofslavesformyafterlifeebeorietemethhpiti\n",
      "Iteration 53, symbol Ω, score: -361.3223825331199\n",
      "ilikekillingpeoplebecauseitissomuchfunitismorefunthankillingwildgameintheforrestbecausemanisthemoatdangertueanamalofalltokillsomethinggivesmethemoatthrillinge_perenceitisevenbetterthangettingyourrocksoffwithagirlthebestpartofitiathaewhenidieiwillbereborninparadicesndalltheihavekilledwillbecomemyslavesiwillnotgiveyoumynamebecauseyouwilltrytosloidownorstopmycollectingofslavesformyafterlifeebeorietemethhpiti\n",
      "Iteration 54, symbol j, score: -363.1344102331199\n",
      "ilikekillingpeoplebecauseitissomuchfunitismorefunthankillingwildgameintheforrestbecausemanisthemoatdangertueanamalofalltokillsomethinggivesmethemoatthrillingexperenceitisevenbetterthangettingyourrocksoffwithagirlthebestpartofitiathaewhenidieiwillbereborninparadicesndalltheihavekilledwillbecomemyslavesiwillnotgiveyoumynamebecauseyouwilltrytosloidownorstopmycollectingofslavesformyafterlifeebeorietemethhpiti\n"
     ]
    }
   ],
   "source": [
    "for index in range(1, len(ext_order)+1, 1):\n",
    "    found_symbols = ext_order[:index]\n",
    "    phi_temp = dict()\n",
    "    for key,value in gold_dict.items():\n",
    "        if key in found_symbols:\n",
    "            phi_temp[key] = value\n",
    "    partial_text = ''\n",
    "    bit_string = ''\n",
    "    for cipher_char in cipher_desc['content']:\n",
    "        if cipher_char in phi_temp.keys():\n",
    "            partial_text += phi_temp[cipher_char]\n",
    "            bit_string += 'o'\n",
    "        else:\n",
    "            partial_text += '_'\n",
    "            bit_string += '.'\n",
    "    print(f'Iteration {index}, symbol {ext_order[index-1]}, score: {lm.score_bitstring(partial_text, bit_string)}')\n",
    "    print(partial_text)"
   ]
  },
  {
   "cell_type": "code",
   "execution_count": 18,
   "metadata": {},
   "outputs": [],
   "source": [
    "# for key,value in gold_dict.items():\n",
    "#     freq_cipher = cipher_desc['relative_freq'][key]\n",
    "#     freq_plain = plaintxt_desc['relative_freq'][value]\n",
    "#     print(f'{key} {value}; Cipher char frequence: {freq_cipher}; plaintext char frequency: {freq_plain}')"
   ]
  },
  {
   "cell_type": "code",
   "execution_count": 19,
   "metadata": {
    "scrolled": false
   },
   "outputs": [],
   "source": [
    "# Ve = [chr(i) for i in range(97, 123, 1)]\n",
    "# for e in Ve:\n",
    "#     keys = [k for k, v in gold_dict.items() if v == e]\n",
    "#     freq_cipher = 0\n",
    "#     for key in keys:\n",
    "#         freq_cipher += cipher_desc['relative_freq'][key]\n",
    "#     freq_plain = plaintxt_desc['relative_freq'][e]\n",
    "#     print(f'{e}: {keys}, {len(keys)}, plain freq {freq_plain}, cipher freq {freq_cipher}')"
   ]
  },
  {
   "cell_type": "markdown",
   "metadata": {},
   "source": [
    "## Baseline with better extension order"
   ]
  },
  {
   "cell_type": "markdown",
   "metadata": {},
   "source": [
    "The first change I made to the baseline was to rewrite the score function to optimize the running speed. The change I made is to score the newly fixed symbol plantext character pair and corresponding influenced previously fixed plantext character based on the previous score instead of scoring the whole bitstring in each iteration. For instance, 'oooo...o' -> 'oooo..xo'. The new score can be calculated by adding unigram score of 'x' to the previous score, substracting unigram score of 'o' following 'x' and bigram score of '<\\s>' from the previous score, and adding bigram score of 'o' following 'x' and trigram score of '<\\s>' to the previous score. With this approach, the running time was improved to 20 minitues from 1 hour with a beamsize of 10000 on my machine with i7 7700k cpu. And the computed score is almost same as the score computed with score_bit_string function (the difference is within 0.0000001). Another approach to speed up the whole process we tried is multiprocessing. We will talk about that in the following notebook."
   ]
  },
  {
   "cell_type": "code",
   "execution_count": 20,
   "metadata": {},
   "outputs": [],
   "source": [
    "def score(cipher, phi, new_f, new_e, previous_score):\n",
    "    '''\n",
    "    scores the phi_prime based on the previous score, returns a float\n",
    "    cipher -- list of single character string\n",
    "    phi -- dictionary, old mapping e->[f]\n",
    "    new_f -- single-character string, extended symbol\n",
    "    previous_score -- float, old score for phi\n",
    "    '''\n",
    "    mapping = phi\n",
    "    new_score = previous_score\n",
    "    # for the first iteration, the previous score should be -2.545382 instead of 0\n",
    "    # this is because the score of an empty string is not 0 whiling scoring with bitstring\n",
    "    # the value can be obtained by calling lm.score_bitstring('thisisatest', '...........')\n",
    "    if len(phi)==0:\n",
    "        new_score += -2.545382\n",
    "    lm_state = lm.begin()\n",
    "    old_lm_state = lm.begin()\n",
    "    # this Flag is used to track if a newly-fixed character affects the previously-fixed character\n",
    "    triggerChangeFlag = 0\n",
    "    for i in range(len(cipher)):\n",
    "        char = cipher[i]\n",
    "        # if this is a previously fixed character and not influenced by the newly-fixed character\n",
    "        # we only need to track the lm_state and old lm_state, no need to compute the score\n",
    "        if (char in mapping.keys()) and (triggerChangeFlag==0):\n",
    "            token = mapping[char]\n",
    "            ngram = lm_state + (token,)\n",
    "            while len(ngram)> 0:\n",
    "                if ngram in lm.table:\n",
    "                    lm_state = ngram[-lm.history:]\n",
    "                    break\n",
    "                else: #backoff\n",
    "                    ngram = ngram[1:]\n",
    "            if len(ngram)==0:\n",
    "                lm_state = ()\n",
    "            old_lm_state = lm_state\n",
    "        # if this is a previously fixed character and influenced by the newly-fixed character\n",
    "        # substract the old score and add the new score to the previous score.\n",
    "        elif (char in mapping.keys()) and (triggerChangeFlag>0):\n",
    "            token = mapping[char]\n",
    "            old_lm_state, old_logprob = lm.score(old_lm_state, token)\n",
    "            new_score -= old_logprob\n",
    "            lm_state, logprob = lm.score(lm_state, token)\n",
    "            new_score += logprob\n",
    "            triggerChangeFlag -= 1\n",
    "        # if this is a newly-fixed charater, simply add the new score to the previous score\n",
    "        elif char == new_f:\n",
    "            (lm_state, logprob) = lm.score(lm_state, new_e)\n",
    "            new_score += logprob\n",
    "            triggerChangeFlag = 5\n",
    "            old_lm_state = ()\n",
    "        # if this is a unknown character, there is no influence on the previous score\n",
    "        else:\n",
    "            lm_state = ()\n",
    "            old_lm_state = ()\n",
    "            triggerChangeFlag = 0\n",
    "    # treat the end tag '<\\s>' as previously fixed character\n",
    "    if triggerChangeFlag:\n",
    "        new_score -= lm.end(old_lm_state)\n",
    "        new_score += lm.end(lm_state)\n",
    "    return new_score"
   ]
  },
  {
   "cell_type": "markdown",
   "metadata": {},
   "source": [
    "The beam_search we implemented is based on the pseudo code mentioned in the assignment. The main change I made was to use customized ext_limit for each plaintext character instead of a general value. The details can be found in the following notebook."
   ]
  },
  {
   "cell_type": "code",
   "execution_count": 46,
   "metadata": {},
   "outputs": [],
   "source": [
    "def beam_search(cipher, ext_order, score_func, ext_limits, topn=1):\n",
    "    '''\n",
    "    finds the mappings between cipher char and plaintext char, returns the mapping dictionary\n",
    "    ext_order -- list, the unigram char list sorted by their count DESC\n",
    "    ext_limits -- int, defines maximum number of cipher char can be mapped to a plaintext char\n",
    "    topn -- int, defines the number of dictionaries we want to keep while pruning\n",
    "    '''\n",
    "    print('Number of unique symbols in cipher:', len(ext_order))\n",
    "    # mapping relationships already found with score\n",
    "    Hs = [(defaultdict(dict), 0)]\n",
    "    # hypothesis mapping relationships with score\n",
    "    Ht = []\n",
    "    # initialize the cardinality (number of unique cipher text)\n",
    "    cardinality = 0\n",
    "    # list of plaintext characters\n",
    "    Ve = [chr(i) for i in range(97, 123, 1)]\n",
    "    while cardinality < len(ext_order):\n",
    "        f = ext_order[cardinality]\n",
    "        print('Working on symbol: ', f, f'({cardinality+1})')\n",
    "        for phi, previous_score in Hs:\n",
    "            for e in Ve:\n",
    "                phi_prime = copy.deepcopy(phi)\n",
    "                new_map = {f: e}\n",
    "                phi_prime.update(new_map)\n",
    "                counts = len([v for k, v in phi_prime.items() if v == e])\n",
    "                ext_limit = ext_limits[e]\n",
    "                \n",
    "#                 keys = [k for k, v in phi_prime.items() if v == e]\n",
    "#                 freq_cipher = 0\n",
    "#                 for key in keys:\n",
    "#                     freq_cipher += cipher_desc['relative_freq'][key]\n",
    "#                 freq_plain = plaintxt_desc['relative_freq'][e]\n",
    "                \n",
    "#                 # the relative frequency of the cipher symbol should not be too large compared to the \n",
    "#                 # relative frequency of the plaintext character. Note that the mapping relationship between them is\n",
    "#                 # many to one. This can prune the trees a little bit (not much though). For instance,\n",
    "#                 # cipher symbol 'B' will never be mapped to 'z' since the relative frequency between them is\n",
    "#                 # way too large\n",
    "                \n",
    "#                 if (freq_cipher / freq_plain > 3):\n",
    "#                     continue\n",
    "#                 # for the first 5 symbols, at most three of them can be mapped to the same plaintext character\n",
    "#                 # this rule is set by intuition. The goal is to map the characters evenly at the early stage\n",
    "#                 if cardinality < 5:\n",
    "#                     ext_limits = min(ext_limits,3)\n",
    "                if counts <= ext_limit:\n",
    "                    Ht.append((phi_prime, score_func(cipher, phi, f, e, previous_score)))\n",
    "        # prune the histogram\n",
    "        Ht = sorted(Ht, key=lambda x:x[1], reverse=True)[:topn]\n",
    "        cardinality += 1\n",
    "        Hs = copy.deepcopy(Ht)\n",
    "        Ht.clear()\n",
    "        \n",
    "#         print('Current score: ', Hs[0][1], 'Worst score: ', Hs[min(len(Hs)-1, topn-1)][1])\n",
    "#         found_symbols = ext_order[:cardinality]\n",
    "#         phi_temp = dict()\n",
    "#         for key,value in gold_dict.items():\n",
    "#             if key in found_symbols:\n",
    "#                 phi_temp[key] = value\n",
    "#         partial_text = ''\n",
    "#         bit_string = ''\n",
    "#         for cipher_char in cipher_desc['content']:\n",
    "#             if cipher_char in phi_temp.keys():\n",
    "#                 partial_text += phi_temp[cipher_char]\n",
    "#                 bit_string += 'o'\n",
    "#             else:\n",
    "#                 partial_text += '_'\n",
    "#                 bit_string += '.'\n",
    "#         gold_score = lm.score_bitstring(partial_text, bit_string)\n",
    "#         print('gold score', gold_score)\n",
    "#         if gold_score < Hs[min(len(Hs)-1, topn-1)][1] or gold_score > Hs[0][1]:\n",
    "#             print('Wrong!')\n",
    "        #print(Hs)\n",
    "    return sorted(Hs, key=lambda x:x[1], reverse=True)"
   ]
  },
  {
   "cell_type": "markdown",
   "metadata": {},
   "source": [
    "## Test case"
   ]
  },
  {
   "cell_type": "markdown",
   "metadata": {},
   "source": [
    "Before deciphering the Zodiac Killer cipher, test the algorithm a simple test case"
   ]
  },
  {
   "cell_type": "markdown",
   "metadata": {},
   "source": [
    "The first test case is a simple one to one mapping cipher. <br>\n",
    "Plaintext: `defendtheeastwallofthecastle` <br>\n",
    "Cipher: `giuifgceiiprctpnnduceiqprcni` <br>"
   ]
  },
  {
   "cell_type": "code",
   "execution_count": 22,
   "metadata": {},
   "outputs": [
    {
     "name": "stdout",
     "output_type": "stream",
     "text": [
      "Number of unique symbols in cipher: 12\n",
      "Working on symbol:  i (1)\n",
      "Current score:  -8.570688 Worst score:  -21.082497999999998\n",
      "gold score -2.545382\n",
      "Wrong!\n",
      "Working on symbol:  p (2)\n",
      "Current score:  -11.379961100000001 Worst score:  -13.823382\n",
      "gold score -2.545382\n",
      "Wrong!\n",
      "Working on symbol:  r (3)\n",
      "Current score:  -12.61742569 Worst score:  -14.178162599999997\n",
      "gold score -2.545382\n",
      "Wrong!\n",
      "Working on symbol:  c (4)\n",
      "Current score:  -15.489765799999997 Worst score:  -17.629812\n",
      "gold score -2.545382\n",
      "Wrong!\n",
      "Working on symbol:  t (5)\n",
      "Current score:  -16.03725842 Worst score:  -17.907934541\n",
      "gold score -2.545382\n",
      "Wrong!\n",
      "Working on symbol:  n (6)\n",
      "Current score:  -18.078716399999998 Worst score:  -22.135148320000003\n",
      "gold score -2.545382\n",
      "Wrong!\n",
      "Working on symbol:  e (7)\n",
      "Current score:  -16.847339719999997 Worst score:  -23.640595200000007\n",
      "gold score -2.545382\n",
      "Wrong!\n",
      "Working on symbol:  q (8)\n",
      "Current score:  -15.808824288999997 Worst score:  -20.684350920000004\n",
      "gold score -2.545382\n",
      "Wrong!\n",
      "Working on symbol:  u (9)\n",
      "Current score:  -17.707828688999996 Worst score:  -21.222392888999998\n",
      "gold score -13.883571999999997\n",
      "Wrong!\n",
      "Working on symbol:  d (10)\n",
      "Current score:  -17.797039089000005 Worst score:  -21.681482068999998\n",
      "gold score -13.883571999999997\n",
      "Wrong!\n",
      "Working on symbol:  g (11)\n",
      "Current score:  -19.085762278999997 Worst score:  -22.286126658999994\n",
      "gold score -13.883571999999997\n",
      "Wrong!\n",
      "Working on symbol:  f (12)\n",
      "Current score:  -18.128100849000003 Worst score:  -24.252243228999994\n",
      "gold score -13.883571999999997\n",
      "Wrong!\n",
      "Deciphered result:  defendtheeastwallofthecastle\n"
     ]
    }
   ],
   "source": [
    "one_to_one_cipher = 'giuifgceiiprctpnnduceiqprcni'\n",
    "one_to_one_cipher_desc = get_statistics(one_to_one_cipher, cipher=True)\n",
    "one_to_one_ext_order = find_ext_order(one_to_one_cipher_desc)[0][0]\n",
    "one_to_one_ext_limits = dict()\n",
    "for e in [chr(i) for i in range(97, 123, 1)]:\n",
    "    one_to_one_ext_limits[e] = 1\n",
    "one_to_one_mappings = beam_search(one_to_one_cipher_desc['content'], one_to_one_ext_order,\\\n",
    "                                  score, one_to_one_ext_limits, 50)\n",
    "one_to_one_mapping = one_to_one_mappings[0][0]\n",
    "one_to_one_decipher_text = ''\n",
    "for char in one_to_one_cipher_desc['content']:\n",
    "    one_to_one_decipher_text += one_to_one_mapping[char]\n",
    "print('Deciphered result: ', one_to_one_decipher_text)"
   ]
  },
  {
   "cell_type": "markdown",
   "metadata": {},
   "source": [
    "We didn't come up with a homophobic cipher since our algorithm is able to decipher the Zodiac with a beamsize of . The best symbol error rate we can achieve is . So we believe our algorithm is correct."
   ]
  },
  {
   "cell_type": "markdown",
   "metadata": {},
   "source": [
    "## Multi-processing"
   ]
  },
  {
   "cell_type": "code",
   "execution_count": 23,
   "metadata": {},
   "outputs": [],
   "source": [
    "def parallel_fn(Ve, phi, f, cipher, previous_score, ext_limits):\n",
    "    ret = []\n",
    "    for e in Ve:\n",
    "        phi_prime = copy.deepcopy(phi)\n",
    "        new_map = {f: e}\n",
    "        phi_prime.update(new_map)\n",
    "        counts = len([v for k, v in phi_prime.items() if v == e])\n",
    "        if counts <= ext_limits[e]:\n",
    "            ret.append((phi_prime, score(cipher, phi, f, e, previous_score)))\n",
    "    return ret\n",
    "\n",
    "def beam_search_mp(cipher, ext_order, ext_limits, topn=1):\n",
    "\n",
    "    # initialization\n",
    "    Hs = [(defaultdict(dict), 0)]\n",
    "    Ht = []\n",
    "    cardinality = 0\n",
    "    Ve = [chr(i) for i in range(97, 123, 1)]\n",
    "    \n",
    "    while cardinality < len(ext_order):\n",
    "        f = ext_order[cardinality]\n",
    "        print('Working on symbol: ', f, f'({cardinality+1})')\n",
    "        \n",
    "        mainStart = time.time()\n",
    "        result = []\n",
    "        p = Pool(cpu_count())\n",
    "             \n",
    "        for phi, previous_score in Hs: \n",
    "            result.append(p.apply_async(parallel_fn, args=(Ve, phi, f, cipher, previous_score, ext_limits))) \n",
    "                            \n",
    "        p.close() \n",
    "        p.join()  \n",
    "\n",
    "        Ht = []\n",
    "        for subp in result:\n",
    "            Ht += subp.get()\n",
    "    \n",
    "        # prune the histogram\n",
    "        mainEnd = time.time()\n",
    "        print ('Running Time for this symbol: %0.2f seconds.' % (mainEnd-mainStart))\n",
    "        Ht = sorted(Ht, key=lambda x:x[1], reverse=True)[:topn]    \n",
    "        \n",
    "        cardinality += 1\n",
    "        Hs = copy.deepcopy(Ht)\n",
    "        Ht.clear()\n",
    "        print('Current score: ', Hs[0][1])\n",
    "        \n",
    "    return sorted(Hs, key=lambda x:x[1], reverse=True)"
   ]
  },
  {
   "cell_type": "markdown",
   "metadata": {},
   "source": [
    "## Decipher Zodiac Killer cipher"
   ]
  },
  {
   "cell_type": "markdown",
   "metadata": {},
   "source": [
    "As mentioned above, we use different ext_limit for different plaintext symbol. We use the following `ext_limits` to limit the ext_order. The goal is to customize the `ext_limit` for each plaintext character so that more symbols can be mapped to the more frequent plaintext character. The `ext_limit` is calculated by multiplying the relative frequency of the paintext character in wiki text by the number of unique cipher symbols. We believe this can dramatically improve the running time since the required amount of computation in each iteration is minimized. We use the ceiling instead of floor to ensure the `ext_limit` is large enough."
   ]
  },
  {
   "cell_type": "code",
   "execution_count": 24,
   "metadata": {},
   "outputs": [
    {
     "name": "stdout",
     "output_type": "stream",
     "text": [
      "{'a': 5, 'b': 1, 'c': 2, 'd': 3, 'e': 7, 'f': 2, 'g': 2, 'h': 3, 'i': 4, 'j': 1, 'k': 1, 'l': 3, 'm': 2, 'n': 4, 'o': 4, 'p': 2, 'q': 1, 'r': 4, 's': 4, 't': 5, 'u': 2, 'v': 1, 'w': 1, 'x': 1, 'y': 1, 'z': 1}\n"
     ]
    }
   ],
   "source": [
    "ext_limits = dict()\n",
    "for e in [chr(i) for i in range(97, 123, 1)]:\n",
    "    ext_limits[e] = math.ceil(plaintxt_desc['relative_freq'][e]*cipher_desc['vocab_length']/100)\n",
    "print(ext_limits)"
   ]
  },
  {
   "cell_type": "code",
   "execution_count": null,
   "metadata": {},
   "outputs": [],
   "source": [
    "%%time\n",
    "ext_order = candidate_orders[3]\n",
    "mappings = beam_search(cipher_desc['content'], ext_order, score, ext_limits, 100000)\n",
    "mapping = mappings[0][0]\n",
    "decipher_text = ''\n",
    "for char in cipher_desc['content']:\n",
    "    decipher_text += mapping[char]\n",
    "print(decipher_text)\n",
    "#print('score', lm.score_seq(decipher_text))\n",
    "print(symbol_error_rate(decipher_text, 'data/_ref_Zodiac_408.txt'))"
   ]
  },
  {
   "cell_type": "code",
   "execution_count": 26,
   "metadata": {},
   "outputs": [],
   "source": [
    "# %%time\n",
    "# mappings = beam_search_mp(cipher_desc['content'], ext_order, ext_limits, 5000)"
   ]
  },
  {
   "cell_type": "code",
   "execution_count": null,
   "metadata": {},
   "outputs": [],
   "source": [
    "mapping = mappings[0][0]\n",
    "decipher_text = ''\n",
    "for char in cipher_desc['content']:\n",
    "    decipher_text += mapping[char]\n",
    "print(decipher_text)\n",
    "#print('score', lm.score_seq(decipher_text))\n",
    "print(symbol_error_rate(decipher_text, 'data/_ref_Zodiac_408.txt'))"
   ]
  },
  {
   "cell_type": "code",
   "execution_count": null,
   "metadata": {},
   "outputs": [],
   "source": []
  }
 ],
 "metadata": {
  "kernelspec": {
   "display_name": "Python 3",
   "language": "python",
   "name": "python3"
  },
  "language_info": {
   "codemirror_mode": {
    "name": "ipython",
    "version": 3
   },
   "file_extension": ".py",
   "mimetype": "text/x-python",
   "name": "python",
   "nbconvert_exporter": "python",
   "pygments_lexer": "ipython3",
   "version": "3.6.5"
  }
 },
 "nbformat": 4,
 "nbformat_minor": 2
}
