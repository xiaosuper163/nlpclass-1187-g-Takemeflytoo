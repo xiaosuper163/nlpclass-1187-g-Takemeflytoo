{
 "cells": [
  {
   "cell_type": "markdown",
   "metadata": {},
   "source": [
    "# Homework: Phrasal Chunking"
   ]
  },
  {
   "cell_type": "markdown",
   "metadata": {},
   "source": [
    "This is your documentation for the chunker homework."
   ]
  },
  {
   "cell_type": "code",
   "execution_count": 13,
   "metadata": {
    "collapsed": true
   },
   "outputs": [
    {
     "name": "stdout",
     "output_type": "stream",
     "text": [
      "The autoreload extension is already loaded. To reload it, use:\n",
      "  %reload_ext autoreload\n"
     ]
    }
   ],
   "source": [
    "%load_ext autoreload\n",
    "# %load_ext cython\n",
    "%autoreload 2"
   ]
  },
  {
   "cell_type": "markdown",
   "metadata": {},
   "source": [
    "## Build before you run:\n",
    "python setup.py build_ext --inplace"
   ]
  },
  {
   "cell_type": "code",
   "execution_count": 9,
   "metadata": {},
   "outputs": [],
   "source": [
    "import perc\n",
    "import default\n",
    "import sys\n",
    "import time\n",
    "from collections import defaultdict\n",
    "from tqdm import tnrange, tqdm_notebook"
   ]
  },
  {
   "cell_type": "code",
   "execution_count": 18,
   "metadata": {},
   "outputs": [],
   "source": [
    "def perc_avg_train(train_data, tagset, numepochs):\n",
    "    feat_vec = defaultdict(int)\n",
    "    default_tag = tagset[0]\n",
    "    \n",
    "    # Pre-compute\n",
    "    feats_dict = defaultdict(lambda : defaultdict(list))\n",
    "    true_output = {}\n",
    "    for i, (labeled_list, feat_list) in enumerate(train_data):\n",
    "        feat_index = 0\n",
    "        true_output[i] = [x.split()[2] for x in labeled_list]\n",
    "        for w_index in range(len(true_output[i])):\n",
    "            (feat_index, feats) = perc.feats_for_word(feat_index, feat_list)\n",
    "            feats_dict[i][w_index] = feats\n",
    "            \n",
    "    for epoch in tnrange(numepochs, desc='Training'):\n",
    "        count_mistake = 0\n",
    "        tic = time.time()\n",
    "        pbar = tqdm_notebook(total=100, desc=f'Epoch: {epoch}')\n",
    "        for i, (labeled_list, feat_list) in enumerate(train_data):\n",
    "            pred_output = perc.perc_test(feat_vec, labeled_list, feat_list, tagset, default_tag)\n",
    "            if not i % round(len(train_data)/100):\n",
    "                pbar.update(1)\n",
    "\n",
    "            if pred_output != true_output[i]:\n",
    "                count_mistake += 1\n",
    "                feat_index = 0\n",
    "\n",
    "                for w_index, pred_tag  in enumerate(pred_output):\n",
    "                    true_tag = true_output[i][w_index]\n",
    "                    # Below is time consuming\n",
    "                    if pred_tag != true_tag:\n",
    "                        for feat in feats_dict[i][w_index]:\n",
    "                            if feat == 'B' and w_index > 0:\n",
    "                                if true_output[i][w_index-1] != pred_output[w_index-1]:\n",
    "                                    feat_vec['B:' + true_output[i][w_index-1], true_tag] += 1\n",
    "                                    feat_vec['B:' + pred_output[w_index-1], pred_tag] -= 1\n",
    "                            else:\n",
    "                                feat_vec[feat, true_tag] += 1\n",
    "                                feat_vec[feat, pred_tag] -= 1\n",
    "        pbar.close()\n",
    "        toc = time.time()\n",
    "        print(f'Epoch {epoch+1} finished. Time cost on this epoch: {toc-tic}. Number of mistakes: {count_mistake}.')\n",
    "    \n",
    "    return feat_vec"
   ]
  },
  {
   "cell_type": "code",
   "execution_count": 3,
   "metadata": {},
   "outputs": [
    {
     "name": "stderr",
     "output_type": "stream",
     "text": [
      "reading data ...\n",
      "done.\n"
     ]
    }
   ],
   "source": [
    "feat_vec = {}\n",
    "tagset = []\n",
    "train_data = []\n",
    "tagset = perc.read_tagset(\"data/tagset.txt\")\n",
    "print(\"reading data ...\", file=sys.stderr)\n",
    "train_data = perc.read_labeled_data(\"data/train.txt.gz\", \"data/train.feats.gz\", verbose=False)\n",
    "print(\"done.\", file=sys.stderr)"
   ]
  },
  {
   "cell_type": "code",
   "execution_count": 19,
   "metadata": {
    "scrolled": true
   },
   "outputs": [
    {
     "data": {
      "application/vnd.jupyter.widget-view+json": {
       "model_id": "bdee5428ed27490a889020f76b5c8a99",
       "version_major": 2,
       "version_minor": 0
      },
      "text/plain": [
       "HBox(children=(IntProgress(value=0, description='Training', max=10), HTML(value='')))"
      ]
     },
     "metadata": {},
     "output_type": "display_data"
    },
    {
     "data": {
      "application/vnd.jupyter.widget-view+json": {
       "model_id": "b08848ecf01e42718dfee9611b0db258",
       "version_major": 2,
       "version_minor": 0
      },
      "text/plain": [
       "HBox(children=(IntProgress(value=0), HTML(value='')))"
      ]
     },
     "metadata": {},
     "output_type": "display_data"
    },
    {
     "ename": "KeyboardInterrupt",
     "evalue": "",
     "output_type": "error",
     "traceback": [
      "\u001b[1;31m---------------------------------------------------------------------------\u001b[0m",
      "\u001b[1;31mKeyboardInterrupt\u001b[0m                         Traceback (most recent call last)",
      "\u001b[1;32m<ipython-input-19-7b77d8d5331d>\u001b[0m in \u001b[0;36m<module>\u001b[1;34m()\u001b[0m\n\u001b[0;32m      1\u001b[0m \u001b[1;31m# average\u001b[0m\u001b[1;33m\u001b[0m\u001b[1;33m\u001b[0m\u001b[0m\n\u001b[1;32m----> 2\u001b[1;33m \u001b[0mfeat_vec\u001b[0m \u001b[1;33m=\u001b[0m \u001b[0mperc_avg_train\u001b[0m\u001b[1;33m(\u001b[0m\u001b[0mtrain_data\u001b[0m\u001b[1;33m,\u001b[0m \u001b[0mtagset\u001b[0m\u001b[1;33m,\u001b[0m \u001b[1;36m10\u001b[0m\u001b[1;33m)\u001b[0m\u001b[1;33m\u001b[0m\u001b[0m\n\u001b[0m\u001b[0;32m      3\u001b[0m \u001b[1;33m\u001b[0m\u001b[0m\n\u001b[0;32m      4\u001b[0m \u001b[0mperc\u001b[0m\u001b[1;33m.\u001b[0m\u001b[0mperc_write_to_file\u001b[0m\u001b[1;33m(\u001b[0m\u001b[0mfeat_vec\u001b[0m\u001b[1;33m,\u001b[0m \u001b[1;34m\"baseline_avg.model\"\u001b[0m\u001b[1;33m)\u001b[0m\u001b[1;33m\u001b[0m\u001b[0m\n\u001b[0;32m      5\u001b[0m \u001b[0mprint\u001b[0m\u001b[1;33m(\u001b[0m\u001b[1;34m\"wrote model to disk\"\u001b[0m\u001b[1;33m)\u001b[0m\u001b[1;33m\u001b[0m\u001b[0m\n",
      "\u001b[1;32m<ipython-input-18-54cbd9d7a098>\u001b[0m in \u001b[0;36mperc_avg_train\u001b[1;34m(train_data, tagset, numepochs)\u001b[0m\n\u001b[0;32m     22\u001b[0m \u001b[1;31m#                 pbar.update(1)\u001b[0m\u001b[1;33m\u001b[0m\u001b[1;33m\u001b[0m\u001b[0m\n\u001b[0;32m     23\u001b[0m \u001b[1;33m\u001b[0m\u001b[0m\n\u001b[1;32m---> 24\u001b[1;33m             \u001b[1;32mif\u001b[0m \u001b[0mpred_output\u001b[0m \u001b[1;33m!=\u001b[0m \u001b[0mtrue_output\u001b[0m\u001b[1;33m[\u001b[0m\u001b[0mi\u001b[0m\u001b[1;33m]\u001b[0m\u001b[1;33m:\u001b[0m\u001b[1;33m\u001b[0m\u001b[0m\n\u001b[0m\u001b[0;32m     25\u001b[0m                 \u001b[0mcount_mistake\u001b[0m \u001b[1;33m+=\u001b[0m \u001b[1;36m1\u001b[0m\u001b[1;33m\u001b[0m\u001b[0m\n\u001b[0;32m     26\u001b[0m                 \u001b[0mfeat_index\u001b[0m \u001b[1;33m=\u001b[0m \u001b[1;36m0\u001b[0m\u001b[1;33m\u001b[0m\u001b[0m\n",
      "\u001b[1;31mKeyboardInterrupt\u001b[0m: "
     ]
    }
   ],
   "source": [
    "# average\n",
    "feat_vec = perc_avg_train(train_data, tagset, 10)\n",
    "\n",
    "perc.perc_write_to_file(feat_vec, \"baseline_avg.model\")\n",
    "print(\"wrote model to disk\")"
   ]
  },
  {
   "cell_type": "code",
   "execution_count": 68,
   "metadata": {},
   "outputs": [
    {
     "name": "stderr",
     "output_type": "stream",
     "text": [
      "reading test data ...\n",
      "done.\n"
     ]
    }
   ],
   "source": [
    "%%capture --no-stderr output\n",
    "print(\"reading test data ...\", file=sys.stderr)\n",
    "test_data = perc.read_labeled_data(\"data/dev.txt\", \"data/dev.feats\", verbose=False)\n",
    "print(\"done.\", file=sys.stderr)\n",
    "# baseline\n",
    "# feat_vec = perc.perc_read_from_file(\"baseline.model\")\n",
    "# average\n",
    "feat_vec = perc.perc_read_from_file(\"baseline_avg.model\")\n",
    "perc.perc_testall(feat_vec, test_data, tagset)"
   ]
  },
  {
   "cell_type": "code",
   "execution_count": 69,
   "metadata": {},
   "outputs": [
    {
     "name": "stdout",
     "output_type": "stream",
     "text": [
      "processed 500 sentences with 10375 tokens and 5783 phrases; found phrases: 5795; correct phrases: 5372\n",
      "             ADJP: precision:  69.39%; recall:  68.69%; F1:  69.04; found:     98; correct:     99\n",
      "             ADVP: precision:  75.12%; recall:  76.24%; F1:  75.68; found:    205; correct:    202\n",
      "            CONJP: precision:  75.00%; recall:  60.00%; F1:  66.67; found:      4; correct:      5\n",
      "             INTJ: precision:   0.00%; recall:   0.00%; F1:   0.00; found:      0; correct:      1\n",
      "               NP: precision:  93.43%; recall:  93.52%; F1:  93.48; found:   3029; correct:   3026\n",
      "               PP: precision:  96.60%; recall:  97.87%; F1:  97.23; found:   1237; correct:   1221\n",
      "              PRT: precision:  81.25%; recall:  59.09%; F1:  68.42; found:     16; correct:     22\n",
      "             SBAR: precision:  82.08%; recall:  81.31%; F1:  81.69; found:    106; correct:    107\n",
      "               VP: precision:  92.91%; recall:  92.91%; F1:  92.91; found:   1100; correct:   1100\n",
      "accuracy:  95.04%; precision:  92.70%; recall:  92.89%; F1:  92.80\n",
      "Score: 92.80\n"
     ]
    }
   ],
   "source": [
    "import score_chunks\n",
    "boundary = \"-X-\" # something to use as boundary between sentences\n",
    "outside = \"O\" # tag used to mark the outside of any chunk\n",
    "conlleval = False # use conlleval (should be False for most use cases)\n",
    "numfeats = 2 # number of columns to consider as features, typically \"word POStag\"\n",
    "(test, _) = score_chunks.readTestFile(str(output), boundary, outside, conlleval, numfeats)\n",
    "with open(\"data/reference500.txt\") as f:\n",
    "    (reference, _) = score_chunks.readTestFile(f.read(), boundary, outside, conlleval, numfeats)\n",
    "print(\"Score: %.2f\" % score_chunks.corpus_fmeasure(reference, test, False))"
   ]
  },
  {
   "cell_type": "code",
   "execution_count": null,
   "metadata": {},
   "outputs": [],
   "source": []
  }
 ],
 "metadata": {
  "kernelspec": {
   "display_name": "Python 3",
   "language": "python",
   "name": "python3"
  },
  "language_info": {
   "codemirror_mode": {
    "name": "ipython",
    "version": 3
   },
   "file_extension": ".py",
   "mimetype": "text/x-python",
   "name": "python",
   "nbconvert_exporter": "python",
   "pygments_lexer": "ipython3",
   "version": "3.6.6"
  }
 },
 "nbformat": 4,
 "nbformat_minor": 2
}
