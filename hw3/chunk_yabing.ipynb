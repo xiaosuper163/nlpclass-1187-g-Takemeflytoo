{
 "cells": [
  {
   "cell_type": "markdown",
   "metadata": {},
   "source": [
    "# Homework: Phrasal Chunking"
   ]
  },
  {
   "cell_type": "markdown",
   "metadata": {},
   "source": [
    "This is your documentation for the chunker homework."
   ]
  },
  {
   "cell_type": "code",
   "execution_count": 5,
   "metadata": {},
   "outputs": [
    {
     "name": "stderr",
     "output_type": "stream",
     "text": [
      "reading data ...\n",
      "done.\n"
     ]
    },
    {
     "name": "stdout",
     "output_type": "stream",
     "text": [
      "Epoch 0 finished. Time cost on this epoch: 60.86331105232239. Number of mistakes: 6185.\n",
      "Epoch 1 finished. Time cost on this epoch: 60.46869230270386. Number of mistakes: 4792.\n",
      "Epoch 2 finished. Time cost on this epoch: 60.677168130874634. Number of mistakes: 3856.\n",
      "Epoch 3 finished. Time cost on this epoch: 62.10835361480713. Number of mistakes: 3104.\n",
      "Epoch 4 finished. Time cost on this epoch: 62.70000433921814. Number of mistakes: 2538.\n",
      "Epoch 5 finished. Time cost on this epoch: 63.42802929878235. Number of mistakes: 2196.\n",
      "Epoch 6 finished. Time cost on this epoch: 62.51510810852051. Number of mistakes: 1779.\n",
      "Epoch 7 finished. Time cost on this epoch: 62.27873468399048. Number of mistakes: 1542.\n",
      "Epoch 8 finished. Time cost on this epoch: 61.342052936553955. Number of mistakes: 1411.\n",
      "Epoch 9 finished. Time cost on this epoch: 67.52357983589172. Number of mistakes: 1181.\n",
      "wrote model to disk\n"
     ]
    }
   ],
   "source": [
    "import perc\n",
    "import default\n",
    "import sys\n",
    "import time\n",
    "from collections import defaultdict\n",
    "\n",
    "feat_vec = {}\n",
    "tagset = []\n",
    "train_data = []\n",
    "\n",
    "def perc_train(train_data, tagset, numepochs):\n",
    "    feat_vec = defaultdict(int)\n",
    "    default_tag = tagset[0]\n",
    "    \n",
    "    for epoch in range(numepochs):\n",
    "        \n",
    "        count_mistake = 0\n",
    "        \n",
    "        tic = time.time()\n",
    "        \n",
    "        for _, (labeled_list,feat_list) in enumerate(train_data):\n",
    "            pred_output = perc.perc_test(feat_vec, labeled_list, feat_list, tagset, default_tag)\n",
    "            true_output = [x.split()[2] for x in labeled_list]\n",
    "            \n",
    "            if pred_output != true_output:\n",
    "                count_mistake += 1\n",
    "                feat_index = 0\n",
    "                \n",
    "                for w_index in range(len(pred_output)):\n",
    "                    pred_tag = pred_output[w_index]\n",
    "                    true_tag = true_output[w_index]\n",
    "                    (feat_index, feats) = perc.feats_for_word(feat_index, feat_list)\n",
    "                    if pred_tag != true_tag:\n",
    "                        for feat in feats:\n",
    "                            feat_vec[feat, true_tag] += 1\n",
    "                            feat_vec[feat, pred_tag] -= 1\n",
    "        toc = time.time()\n",
    "        print(f'Epoch {epoch+1} finished. Time cost on this epoch: {toc-tic}. Number of mistakes: {count_mistake}.')\n",
    "    \n",
    "    return feat_vec\n",
    "\n",
    "tagset = perc.read_tagset(\"data/tagset.txt\")\n",
    "print(\"reading data ...\", file=sys.stderr)\n",
    "train_data = perc.read_labeled_data(\"data/train.txt.gz\", \"data/train.feats.gz\", verbose=False)\n",
    "print(\"done.\", file=sys.stderr)\n",
    "feat_vec = perc_train(train_data, tagset, 10)\n",
    "perc.perc_write_to_file(feat_vec, \"baseline.model\")\n",
    "print(\"wrote model to disk\")"
   ]
  },
  {
   "cell_type": "code",
   "execution_count": 6,
   "metadata": {},
   "outputs": [
    {
     "name": "stderr",
     "output_type": "stream",
     "text": [
      "reading test data ...\n",
      "done.\n"
     ]
    }
   ],
   "source": [
    "%%capture --no-stderr output\n",
    "print(\"reading test data ...\", file=sys.stderr)\n",
    "test_data = perc.read_labeled_data(\"data/dev.txt\", \"data/dev.feats\", verbose=False)\n",
    "print(\"done.\", file=sys.stderr)\n",
    "feat_vec = perc.perc_read_from_file(\"baseline.model\")\n",
    "perc.perc_testall(feat_vec, test_data, tagset)"
   ]
  },
  {
   "cell_type": "code",
   "execution_count": 7,
   "metadata": {},
   "outputs": [
    {
     "name": "stdout",
     "output_type": "stream",
     "text": [
      "processed 500 sentences with 10375 tokens and 5783 phrases; found phrases: 5886; correct phrases: 5331\n",
      "             ADJP: precision:  58.33%; recall:  70.71%; F1:  63.93; found:    120; correct:     99\n",
      "             ADVP: precision:  70.14%; recall:  76.73%; F1:  73.29; found:    221; correct:    202\n",
      "            CONJP: precision:  66.67%; recall:  40.00%; F1:  50.00; found:      3; correct:      5\n",
      "             INTJ: precision:   0.00%; recall:   0.00%; F1:   0.00; found:      0; correct:      1\n",
      "               NP: precision:  90.70%; recall:  92.80%; F1:  91.73; found:   3096; correct:   3026\n",
      "               PP: precision:  96.69%; recall:  97.95%; F1:  97.31; found:   1237; correct:   1221\n",
      "              PRT: precision:  76.92%; recall:  45.45%; F1:  57.14; found:     13; correct:     22\n",
      "             SBAR: precision:  83.17%; recall:  78.50%; F1:  80.77; found:    101; correct:    107\n",
      "               VP: precision:  91.87%; recall:  91.45%; F1:  91.66; found:   1095; correct:   1100\n",
      "accuracy:  94.70%; precision:  90.57%; recall:  92.18%; F1:  91.37\n",
      "Score: 91.37\n"
     ]
    }
   ],
   "source": [
    "import score_chunks\n",
    "boundary = \"-X-\" # something to use as boundary between sentences\n",
    "outside = \"O\" # tag used to mark the outside of any chunk\n",
    "conlleval = False # use conlleval (should be False for most use cases)\n",
    "numfeats = 2 # number of columns to consider as features, typically \"word POStag\"\n",
    "(test, _) = score_chunks.readTestFile(str(output), boundary, outside, conlleval, numfeats)\n",
    "with open(\"data/reference500.txt\") as f:\n",
    "    (reference, _) = score_chunks.readTestFile(f.read(), boundary, outside, conlleval, numfeats)\n",
    "print(\"Score: %.2f\" % score_chunks.corpus_fmeasure(reference, test, False))"
   ]
  },
  {
   "cell_type": "code",
   "execution_count": null,
   "metadata": {},
   "outputs": [],
   "source": []
  }
 ],
 "metadata": {
  "kernelspec": {
   "display_name": "Python 3",
   "language": "python",
   "name": "python3"
  },
  "language_info": {
   "codemirror_mode": {
    "name": "ipython",
    "version": 3
   },
   "file_extension": ".py",
   "mimetype": "text/x-python",
   "name": "python",
   "nbconvert_exporter": "python",
   "pygments_lexer": "ipython3",
   "version": "3.6.5"
  }
 },
 "nbformat": 4,
 "nbformat_minor": 2
}
