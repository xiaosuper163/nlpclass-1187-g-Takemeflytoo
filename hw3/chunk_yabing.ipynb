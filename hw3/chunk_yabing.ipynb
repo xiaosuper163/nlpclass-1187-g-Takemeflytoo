{
 "cells": [
  {
   "cell_type": "markdown",
   "metadata": {},
   "source": [
    "# Homework: Phrasal Chunking"
   ]
  },
  {
   "cell_type": "markdown",
   "metadata": {},
   "source": [
    "This is your documentation for the chunker homework."
   ]
  },
  {
   "cell_type": "code",
   "execution_count": 1,
   "metadata": {},
   "outputs": [],
   "source": [
    "import perc\n",
    "import default\n",
    "import sys\n",
    "import time\n",
    "from collections import defaultdict"
   ]
  },
  {
   "cell_type": "code",
   "execution_count": 2,
   "metadata": {},
   "outputs": [],
   "source": [
    "def perc_train(train_data, tagset, numepochs):\n",
    "    feat_vec = defaultdict(int)\n",
    "    default_tag = tagset[0]\n",
    "    \n",
    "    for epoch in range(numepochs):\n",
    "        \n",
    "        count_mistake = 0\n",
    "        \n",
    "        tic = time.time()\n",
    "        \n",
    "        for _, (labeled_list,feat_list) in enumerate(train_data):\n",
    "            pred_output = perc.perc_test(feat_vec, labeled_list, feat_list, tagset, default_tag)\n",
    "            true_output = [x.split()[2] for x in labeled_list]\n",
    "            \n",
    "            if pred_output != true_output:\n",
    "                count_mistake += 1\n",
    "                feat_index = 0\n",
    "                \n",
    "                for w_index in range(len(pred_output)):\n",
    "                    pred_tag = pred_output[w_index]\n",
    "                    true_tag = true_output[w_index]\n",
    "                    (feat_index, feats) = perc.feats_for_word(feat_index, feat_list)\n",
    "                    if pred_tag != true_tag:\n",
    "                        for feat in feats:\n",
    "                            feat_vec[feat, true_tag] += 1\n",
    "                            feat_vec[feat, pred_tag] -= 1\n",
    "        toc = time.time()\n",
    "        print(f'Epoch {epoch+1} finished. Time cost on this epoch: {toc-tic}. Number of mistakes: {count_mistake}.')\n",
    "    \n",
    "    return feat_vec"
   ]
  },
  {
   "cell_type": "code",
   "execution_count": 5,
   "metadata": {},
   "outputs": [],
   "source": [
    "def perc_avg_train(train_data, tagset, numepochs):\n",
    "    feat_vec = defaultdict(int)\n",
    "    default_tag = tagset[0]\n",
    "    \n",
    "    for epoch in range(numepochs):\n",
    "        \n",
    "        count_mistake = 0\n",
    "        \n",
    "        tic = time.time()\n",
    "        \n",
    "        for _, (labeled_list,feat_list) in enumerate(train_data):\n",
    "            pred_output = perc.perc_test(feat_vec, labeled_list, feat_list, tagset, default_tag)\n",
    "            true_output = [x.split()[2] for x in labeled_list]\n",
    "            \n",
    "            if pred_output != true_output:\n",
    "                count_mistake += 1\n",
    "                feat_index = 0\n",
    "                \n",
    "                for w_index in range(len(pred_output)):\n",
    "                    pred_tag = pred_output[w_index]\n",
    "                    true_tag = true_output[w_index]\n",
    "                    (feat_index, feats) = perc.feats_for_word(feat_index, feat_list)\n",
    "                    if pred_tag != true_tag:\n",
    "                        for feat in feats:\n",
    "                            if feat == 'B' and w_index > 0:\n",
    "                                if true_output[w_index-1] != pred_output[w_index-1]:\n",
    "                                    feat_vec['B:' + true_output[w_index-1], true_tag] += 1\n",
    "                                    feat_vec['B:' + pred_output[w_index-1], pred_tag] -= 1\n",
    "                            else:\n",
    "                                feat_vec[feat, true_tag] += 1\n",
    "                                feat_vec[feat, pred_tag] -= 1\n",
    "        toc = time.time()\n",
    "        print(f'Epoch {epoch+1} finished. Time cost on this epoch: {toc-tic}. Number of mistakes: {count_mistake}.')\n",
    "    \n",
    "    return feat_vec"
   ]
  },
  {
   "cell_type": "code",
   "execution_count": 6,
   "metadata": {},
   "outputs": [
    {
     "name": "stderr",
     "output_type": "stream",
     "text": [
      "reading data ...\n",
      "done.\n"
     ]
    },
    {
     "name": "stdout",
     "output_type": "stream",
     "text": [
      "Epoch 1 finished. Time cost on this epoch: 65.68992137908936. Number of mistakes: 5704.\n",
      "Epoch 2 finished. Time cost on this epoch: 69.1945493221283. Number of mistakes: 4087.\n",
      "Epoch 3 finished. Time cost on this epoch: 69.90012168884277. Number of mistakes: 3009.\n",
      "Epoch 4 finished. Time cost on this epoch: 72.36271595954895. Number of mistakes: 2268.\n",
      "Epoch 5 finished. Time cost on this epoch: 71.14806699752808. Number of mistakes: 1919.\n",
      "Epoch 6 finished. Time cost on this epoch: 71.09302139282227. Number of mistakes: 1510.\n",
      "Epoch 7 finished. Time cost on this epoch: 71.33235287666321. Number of mistakes: 1313.\n",
      "Epoch 8 finished. Time cost on this epoch: 72.50382709503174. Number of mistakes: 1015.\n",
      "Epoch 9 finished. Time cost on this epoch: 72.15780901908875. Number of mistakes: 910.\n",
      "Epoch 10 finished. Time cost on this epoch: 72.75086092948914. Number of mistakes: 825.\n",
      "wrote model to disk\n"
     ]
    }
   ],
   "source": [
    "feat_vec = {}\n",
    "tagset = []\n",
    "train_data = []\n",
    "tagset = perc.read_tagset(\"data/tagset.txt\")\n",
    "print(\"reading data ...\", file=sys.stderr)\n",
    "train_data = perc.read_labeled_data(\"data/train.txt.gz\", \"data/train.feats.gz\", verbose=False)\n",
    "print(\"done.\", file=sys.stderr)\n",
    "# baseline\n",
    "# feat_vec = perc_train(train_data, tagset, 10)\n",
    "# perc.perc_write_to_file(feat_vec, \"baseline.model\")\n",
    "# average\n",
    "feat_vec = perc_avg_train(train_data, tagset, 10)\n",
    "perc.perc_write_to_file(feat_vec, \"baseline_avg.model\")\n",
    "print(\"wrote model to disk\")"
   ]
  },
  {
   "cell_type": "code",
   "execution_count": 7,
   "metadata": {},
   "outputs": [
    {
     "name": "stderr",
     "output_type": "stream",
     "text": [
      "reading test data ...\n",
      "done.\n"
     ]
    }
   ],
   "source": [
    "%%capture --no-stderr output\n",
    "print(\"reading test data ...\", file=sys.stderr)\n",
    "test_data = perc.read_labeled_data(\"data/dev.txt\", \"data/dev.feats\", verbose=False)\n",
    "print(\"done.\", file=sys.stderr)\n",
    "# baseline\n",
    "# feat_vec = perc.perc_read_from_file(\"baseline.model\")\n",
    "# average\n",
    "feat_vec = perc.perc_read_from_file(\"baseline_avg.model\")\n",
    "perc.perc_testall(feat_vec, test_data, tagset)"
   ]
  },
  {
   "cell_type": "code",
   "execution_count": 10,
   "metadata": {},
   "outputs": [
    {
     "name": "stdout",
     "output_type": "stream",
     "text": [
      "processed 500 sentences with 10375 tokens and 5783 phrases; found phrases: 5752; correct phrases: 5322\n",
      "             ADJP: precision:  72.55%; recall:  74.75%; F1:  73.63; found:    102; correct:     99\n",
      "             ADVP: precision:  74.88%; recall:  75.25%; F1:  75.06; found:    203; correct:    202\n",
      "            CONJP: precision: 100.00%; recall:  60.00%; F1:  75.00; found:      3; correct:      5\n",
      "             INTJ: precision: 100.00%; recall: 100.00%; F1: 100.00; found:      1; correct:      1\n",
      "               NP: precision:  93.23%; recall:  92.43%; F1:  92.83; found:   3000; correct:   3026\n",
      "               PP: precision:  96.58%; recall:  97.22%; F1:  96.90; found:   1229; correct:   1221\n",
      "              PRT: precision:  78.57%; recall:  50.00%; F1:  61.11; found:     14; correct:     22\n",
      "             SBAR: precision:  78.07%; recall:  83.18%; F1:  80.54; found:    114; correct:    107\n",
      "               VP: precision:  92.82%; recall:  91.64%; F1:  92.22; found:   1086; correct:   1100\n",
      "accuracy:  94.94%; precision:  92.52%; recall:  92.03%; F1:  92.28\n",
      "Score: 92.28\n"
     ]
    }
   ],
   "source": [
    "import score_chunks\n",
    "boundary = \"-X-\" # something to use as boundary between sentences\n",
    "outside = \"O\" # tag used to mark the outside of any chunk\n",
    "conlleval = False # use conlleval (should be False for most use cases)\n",
    "numfeats = 2 # number of columns to consider as features, typically \"word POStag\"\n",
    "(test, _) = score_chunks.readTestFile(str(output), boundary, outside, conlleval, numfeats)\n",
    "with open(\"data/reference500.txt\") as f:\n",
    "    (reference, _) = score_chunks.readTestFile(f.read(), boundary, outside, conlleval, numfeats)\n",
    "print(\"Score: %.2f\" % score_chunks.corpus_fmeasure(reference, test, False))"
   ]
  },
  {
   "cell_type": "code",
   "execution_count": null,
   "metadata": {},
   "outputs": [],
   "source": []
  }
 ],
 "metadata": {
  "kernelspec": {
   "display_name": "Python 3",
   "language": "python",
   "name": "python3"
  },
  "language_info": {
   "codemirror_mode": {
    "name": "ipython",
    "version": 3
   },
   "file_extension": ".py",
   "mimetype": "text/x-python",
   "name": "python",
   "nbconvert_exporter": "python",
   "pygments_lexer": "ipython3",
   "version": "3.6.5"
  }
 },
 "nbformat": 4,
 "nbformat_minor": 2
}
